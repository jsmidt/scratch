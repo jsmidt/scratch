{
 "cells": [
  {
   "cell_type": "code",
   "execution_count": 1,
   "metadata": {},
   "outputs": [],
   "source": [
    "#PyTorch\n",
    "import torch\n",
    "from torch import nn\n",
    "from torch.utils.data import Dataset, DataLoader\n",
    "from torch.optim.lr_scheduler import ReduceLROnPlateau\n",
    "\n",
    "\n",
    "import collections\n",
    "import random\n",
    "import re\n",
    "\n",
    "# Matplotlib\n",
    "import matplotlib.pyplot as plt\n",
    "%config InlineBackend.figure_formats = ['svg']\n",
    "plt.style.use('fivethirtyeight')"
   ]
  },
  {
   "cell_type": "code",
   "execution_count": 88,
   "metadata": {},
   "outputs": [],
   "source": [
    "class Vocab:  # @save\n",
    "    \"\"\"Vocabulary for text.\"\"\"\n",
    "\n",
    "    def __init__(self, tokens=[], min_freq=0, reserved_tokens=[]):\n",
    "        # Flatten a 2D list if needed\n",
    "        if tokens and isinstance(tokens[0], list):\n",
    "            tokens = [token for line in tokens for token in line]\n",
    "\n",
    "        # Count token frequencies\n",
    "        counter = collections.Counter(tokens)\n",
    "        self.token_freqs = sorted(counter.items(), key=lambda x: x[1],\n",
    "                                  reverse=True)\n",
    "\n",
    "        # The list of unique tokens\n",
    "        self.idx_to_token = list(sorted(set(['<unk>'] + reserved_tokens + [\n",
    "            token for token, freq in self.token_freqs if freq >= min_freq])))\n",
    "        self.token_to_idx = {token: idx\n",
    "                             for idx, token in enumerate(self.idx_to_token)}\n",
    "\n",
    "\n",
    "\n",
    "    def __len__(self):\n",
    "        return len(self.idx_to_token)\n",
    "\n",
    "    def __getitem__(self, tokens):\n",
    "        if not isinstance(tokens, (list, tuple)):\n",
    "            return self.token_to_idx.get(tokens, self.unk)\n",
    "        return [self.__getitem__(token) for token in tokens]\n",
    "\n",
    "    def to_tokens(self, indices):\n",
    "        if hasattr(indices, '__len__') and len(indices) > 1:\n",
    "            return [self.idx_to_token[int(index)] for index in indices]\n",
    "        return self.idx_to_token[indices]\n",
    "\n",
    "    @property\n",
    "    def unk(self):  # Index for the unknown token\n",
    "        return self.token_to_idx['<unk>']\n",
    "\n",
    "\n",
    "class TimeMachine(Dataset):\n",
    "    def __init__(self, num_steps, num_train=10000, num_val=5000) -> None:\n",
    "        corpus, self.vocab = self.build(self._download())\n",
    "        array = torch.tensor([corpus[i:i+num_steps+1]\n",
    "                            for i in range(len(corpus)-num_steps)])\n",
    "        self.X, self.Y = array[:,:-1], array[:,1:]\n",
    "\n",
    "    def _download(self):\n",
    "        with open('data/timemachine.txt') as f:\n",
    "            return f.read()\n",
    "\n",
    "    def _preprocess(self, text):\n",
    "        return re.sub('[^A-Za-z]+', ' ', text).lower()\n",
    "\n",
    "    def _tokenize(self, text):\n",
    "        return list(text)\n",
    "\n",
    "    def build(self, raw_text, vocab=None):\n",
    "        tokens = self._tokenize(self._preprocess(raw_text))\n",
    "        if vocab is None:\n",
    "            vocab = Vocab(tokens)\n",
    "        corpus = [vocab[token] for token in tokens]\n",
    "        return corpus, vocab\n",
    "\n",
    "    def __len__(self):\n",
    "        return len(self.X)\n",
    "\n",
    "    def __getitem__(self, idx):\n",
    "        return self.X[idx], self.Y[idx]\n",
    "\n",
    "\n",
    "class MTFraEng(Dataset):\n",
    "    def __init__(self, batch_size, num_steps=9, num_train=512, num_val=128) -> None:\n",
    "        self.batch_size = batch_size\n",
    "        self.num_steps = num_steps\n",
    "        self.num_train = num_train\n",
    "        self.num_val = num_val\n",
    "        self.arrays, self.src_vocab, self.tgt_vocab = self._build_arrays(self._download())\n",
    "\n",
    "    def _download(self):\n",
    "        with open('data/fra-eng/fra.txt') as f:\n",
    "            return f.read()\n",
    "\n",
    "    def _preprocess(self, text):\n",
    "        text = text.replace('\\u202f', ' ').replace('\\xa0', ' ')\n",
    "        # Insert space between words and punctuation marks\n",
    "        no_space = lambda char, prev_char: char in ',.!?' and prev_char != ' '\n",
    "        out = [' ' + char if i > 0 and no_space(char, text[i - 1]) else char\n",
    "            for i, char in enumerate(text.lower())]\n",
    "        return ''.join(out)\n",
    "\n",
    "    def _tokenize(self, text, max_examples=None):\n",
    "        src, tgt = [], []\n",
    "        for i, line in enumerate(text.split('\\n')):\n",
    "            if max_examples and i > max_examples: break\n",
    "            parts = line.split('\\t')\n",
    "            if len(parts) == 2:\n",
    "                # Skip empty tokens\n",
    "                src.append([t for t in f'{parts[0]} <eos>'.split(' ') if t])\n",
    "                tgt.append([t for t in f'{parts[1]} <eos>'.split(' ') if t])\n",
    "        return src, tgt\n",
    "\n",
    "    def build(self, raw_text, vocab=None):\n",
    "        tokens = self._tokenize(self._preprocess(raw_text))\n",
    "        if vocab is None:\n",
    "            vocab = Vocab(tokens)\n",
    "        corpus = [vocab[token] for token in tokens]\n",
    "        return corpus, vocab\n",
    "\n",
    "    def _build_arrays(self, raw_text, src_vocab=None, tgt_vocab=None):\n",
    "        def _build_array(sentences, vocab, is_tgt=False):\n",
    "            pad_or_trim = lambda seq, t: (\n",
    "                seq[:t] if len(seq) > t else seq + ['<pad>'] * (t - len(seq)))\n",
    "            sentences = [pad_or_trim(s, self.num_steps) for s in sentences]\n",
    "            if is_tgt:\n",
    "                sentences = [['<bos>'] + s for s in sentences]\n",
    "            if vocab is None:\n",
    "                vocab = Vocab(sentences, min_freq=2)\n",
    "            array = torch.tensor([vocab[s] for s in sentences])\n",
    "            valid_len = (array != vocab['<pad>']).type(torch.int32).sum(1)\n",
    "            return array, vocab, valid_len\n",
    "        src, tgt = self._tokenize(self._preprocess(raw_text),\n",
    "                                self.num_train + self.num_val)\n",
    "        src_array, src_vocab, src_valid_len = _build_array(src, src_vocab)\n",
    "        tgt_array, tgt_vocab, _ = _build_array(tgt, tgt_vocab, True)\n",
    "        return ((src_array, tgt_array[:,:-1], src_valid_len, tgt_array[:,1:]),\n",
    "                src_vocab, tgt_vocab)\n",
    "\n",
    "    def __len__(self):\n",
    "        return len(self.arrays[0])\n",
    "\n",
    "    def __getitem__(self, idx):\n",
    "        return self.arrays[0][idx], self.arrays[1][idx], self.arrays[2][idx], self.arrays[3][idx]\n"
   ]
  },
  {
   "cell_type": "code",
   "execution_count": 90,
   "metadata": {},
   "outputs": [
    {
     "name": "stdout",
     "output_type": "stream",
     "text": [
      "source: tensor([[59,  2,  3,  4,  4,  4,  4,  4,  4]], dtype=torch.int32)\n"
     ]
    }
   ],
   "source": [
    "data = MTFraEng(batch_size=3)\n",
    "data_dl = DataLoader(data)\n",
    "\n",
    "src, tgt, src_valid_len, label = next(iter(data_dl))\n",
    "print('source:', src.type(torch.int32))"
   ]
  },
  {
   "cell_type": "code",
   "execution_count": 3,
   "metadata": {},
   "outputs": [
    {
     "name": "stdout",
     "output_type": "stream",
     "text": [
      "X: tensor([[21,  9,  6,  0, 21, 10, 14,  6,  0, 14],\n",
      "        [ 9,  6,  0, 21, 10, 14,  6,  0, 14,  2]]) \n",
      "Y: tensor([[ 9,  6,  0, 21, 10, 14,  6,  0, 14,  2],\n",
      "        [ 6,  0, 21, 10, 14,  6,  0, 14,  2,  4]])\n"
     ]
    }
   ],
   "source": [
    "data = TimeMachine(num_steps=10)\n",
    "data_dl = DataLoader(data, batch_size=2)\n",
    "\n",
    "raw_text = data._download()\n",
    "text = data._preprocess(raw_text)\n",
    "tokens = data._tokenize(text)\n",
    "\n",
    "for X, Y in data_dl:\n",
    "    print('X:', X, '\\nY:', Y)\n",
    "    break"
   ]
  },
  {
   "cell_type": "code",
   "execution_count": 38,
   "metadata": {},
   "outputs": [],
   "source": [
    "class LSTMScratch(nn.Module):\n",
    "    def __init__(self, num_inputs, num_hiddens, sigma=0.01):\n",
    "        super().__init__()\n",
    "        self.num_inputs = num_inputs\n",
    "        self.num_hiddens = num_hiddens\n",
    "        self.sigma = sigma\n",
    "        init_weight = lambda *shape: nn.Parameter(torch.randn(*shape) * sigma)\n",
    "        triple = lambda: (init_weight(num_inputs, num_hiddens),\n",
    "                          init_weight(num_hiddens, num_hiddens),\n",
    "                          nn.Parameter(torch.zeros(num_hiddens)))\n",
    "        self.W_xi, self.W_hi, self.b_i = triple()  # Input gate\n",
    "        self.W_xf, self.W_hf, self.b_f = triple()  # Forget gate\n",
    "        self.W_xo, self.W_ho, self.b_o = triple()  # Output gate\n",
    "        self.W_xc, self.W_hc, self.b_c = triple()  # Input node\n",
    "\n",
    "    def forward(self, inputs, H_C=None):\n",
    "        if H_C is None:\n",
    "            # Initial state with shape: (batch_size, num_hiddens)\n",
    "            H = torch.zeros((inputs.shape[1], self.num_hiddens))\n",
    "            C = torch.zeros((inputs.shape[1], self.num_hiddens))\n",
    "        else:\n",
    "            H, C = H_C\n",
    "        outputs = []\n",
    "        for X in inputs:\n",
    "            I = torch.sigmoid(torch.matmul(X, self.W_xi) +\n",
    "                            torch.matmul(H, self.W_hi) + self.b_i)\n",
    "            F = torch.sigmoid(torch.matmul(X, self.W_xf) +\n",
    "                            torch.matmul(H, self.W_hf) + self.b_f)\n",
    "            O = torch.sigmoid(torch.matmul(X, self.W_xo) +\n",
    "                            torch.matmul(H, self.W_ho) + self.b_o)\n",
    "            C_tilde = torch.tanh(torch.matmul(X, self.W_xc) +\n",
    "                            torch.matmul(H, self.W_hc) + self.b_c)\n",
    "            C = F * C + I * C_tilde\n",
    "            H = O * torch.tanh(C)\n",
    "            outputs.append(H)\n",
    "        return outputs, (H, C)\n",
    "\n",
    "class RNNScratch(nn.Module):\n",
    "    def __init__(self, num_inputs, num_hiddens, sigma=0.01) -> None:\n",
    "        super().__init__()\n",
    "\n",
    "        self.num_hiddens = num_hiddens\n",
    "        self.sigma = sigma\n",
    "        self.W_xh = nn.Parameter(torch.randn(num_inputs, num_hiddens)*sigma)\n",
    "        self.W_hh = nn.Parameter(torch.randn(num_hiddens, num_hiddens)*sigma)\n",
    "        self.b_h = nn.Parameter(torch.zeros(num_hiddens))\n",
    "\n",
    "    def forward(self, inputs, state=None):\n",
    "        if state is None:\n",
    "            state = torch.zeros((inputs.shape[1], self.num_hiddens))\n",
    "        else:\n",
    "            state = state\n",
    "        outputs = []\n",
    "        for X in inputs:\n",
    "            state = torch.tanh(X @ self.W_xh + state @ self.W_hh + self.b_h)\n",
    "            outputs.append(state)\n",
    "\n",
    "        return outputs, state\n",
    "\n",
    "class RNNLMScratch(nn.Module):\n",
    "    def __init__(self, rnn, vocab_size, lr=0.01) -> None:\n",
    "        super().__init__()\n",
    "        self.rnn = rnn\n",
    "        self.vocab_size = vocab_size\n",
    "        self.lr = lr\n",
    "        self.init_params()\n",
    "\n",
    "    def init_params(self):\n",
    "        self.W_hq = nn.Parameter(torch.randn(self.rnn.num_hiddens, self.vocab_size)*self.rnn.sigma)\n",
    "        self.b_q = nn.Parameter(torch.zeros(self.vocab_size))\n",
    "\n",
    "    def training_step(self, batch):\n",
    "        l = nn.functional.cross_entropy(self(*batch[:-1]), batch[-1])\n",
    "        # plt.plot...\n",
    "        return l\n",
    "\n",
    "    def validation_step(self, batch):\n",
    "        l = nn.CrossEntropyLoss(self(*batch[:-1]), batch[-1])\n",
    "        # plt.plot...\n",
    "        return l\n",
    "\n",
    "    def one_hot(self, X):\n",
    "        return torch.nn.functional.one_hot(X.T, self.vocab_size).type(torch.float32)\n",
    "\n",
    "    def output_layer(self, rnn_outputs):\n",
    "        outputs = [H @ self.W_hq +  self.b_q for H in rnn_outputs]\n",
    "        return torch.stack(outputs, 1)\n",
    "\n",
    "    def forward(self, X, state=None):\n",
    "        embs = self.one_hot(X)\n",
    "        rnn_outputs, _ = self.rnn(embs, state)\n",
    "        return self.output_layer(rnn_outputs)\n",
    "\n",
    "    def loss_fn(self, logits, y):\n",
    "        logits = logits.reshape((-1, 28))\n",
    "        y = y.reshape((-1,))\n",
    "        loss = nn.functional.cross_entropy(logits, y)\n",
    "        return loss\n",
    "\n",
    "    def predict(self, prefix, num_preds, vocab, device=None):\n",
    "        state, outputs = None, [vocab[prefix[0]]]\n",
    "        for i in range(len(prefix) + num_preds - 1):\n",
    "            X = torch.tensor([[outputs[-1]]], device=device)\n",
    "            embs = self.one_hot(X)\n",
    "            rnn_outputs, state = self.rnn(embs, state)\n",
    "            if i < len(prefix) - 1:  # Warm-up period\n",
    "                outputs.append(vocab[prefix[i + 1]])\n",
    "            else:  # Predict `num_preds` steps\n",
    "                Y = self.output_layer(rnn_outputs)\n",
    "                outputs.append(int(Y.argmax(axis=2).reshape(1)))\n",
    "        return ''.join([vocab.idx_to_token[i] for i in outputs])\n",
    "\n",
    "\n",
    "class RNN(nn.Module):  #@save\n",
    "    def __init__(self, num_inputs, num_hiddens):\n",
    "        super().__init__()\n",
    "        self.num_inputs = num_inputs\n",
    "        self.num_hiddens = num_hiddens\n",
    "        self.rnn = nn.RNN(num_inputs, num_hiddens)\n",
    "\n",
    "    def forward(self, inputs, H=None):\n",
    "        return self.rnn(inputs, H)\n",
    "\n",
    "\n",
    "class LSTM(nn.Module):\n",
    "    def __init__(self, num_inputs, num_hiddens):\n",
    "        super().__init__()\n",
    "        self.num_inputs = num_inputs\n",
    "        self.num_hiddens = num_hiddens\n",
    "        self.rnn = nn.LSTM(num_inputs, num_hiddens)\n",
    "\n",
    "    def forward(self, inputs, H_C=None):\n",
    "        return self.rnn(inputs, H_C)\n",
    "\n",
    "class RNNLM(RNNLMScratch):  #@save\n",
    "    def init_params(self):\n",
    "        self.linear = nn.LazyLinear(self.vocab_size)\n",
    "    def output_layer(self, hiddens):\n",
    "        return self.linear(hiddens).swapaxes(0, 1)\n",
    "    def loss_fn(self, logits, y):\n",
    "        logits = logits.reshape((-1, 28))\n",
    "        y = y.reshape((-1,))\n",
    "        loss = nn.functional.cross_entropy(logits, y)\n",
    "        return loss\n"
   ]
  },
  {
   "cell_type": "code",
   "execution_count": 27,
   "metadata": {},
   "outputs": [],
   "source": [
    "data = TimeMachine(num_steps=32)\n",
    "data_dl = DataLoader(data, batch_size=256, shuffle=True)\n",
    "lstm = LSTMScratch(num_inputs=len(data.vocab), num_hiddens=32)\n",
    "model = RNNLMScratch(lstm, vocab_size=len(data.vocab), lr=4)"
   ]
  },
  {
   "cell_type": "code",
   "execution_count": 28,
   "metadata": {},
   "outputs": [
    {
     "name": "stdout",
     "output_type": "stream",
     "text": [
      "torch.Size([256, 32])\n"
     ]
    },
    {
     "data": {
      "text/plain": [
       "torch.Size([256, 32, 28])"
      ]
     },
     "execution_count": 28,
     "metadata": {},
     "output_type": "execute_result"
    }
   ],
   "source": [
    "x, y = next(iter(data_dl))\n",
    "\n",
    "print (x.shape)\n",
    "\n",
    "model(x).shape"
   ]
  },
  {
   "cell_type": "code",
   "execution_count": 29,
   "metadata": {},
   "outputs": [
    {
     "name": "stdout",
     "output_type": "stream",
     "text": [
      "0 3.3322181701660156\n",
      "100 3.3322181701660156\n",
      "200 3.33221697807312\n",
      "300 3.3322179317474365\n",
      "400 3.3322181701660156\n",
      "500 3.3322176933288574\n",
      "600 3.3322184085845947\n"
     ]
    }
   ],
   "source": [
    "optimizer = torch.optim.AdamW(model.parameters(), lr=0.1)\n",
    "lr = torch.logspace(-4,1,len(data_dl))\n",
    "losses = torch.zeros(len(data_dl))\n",
    "for step, batch in enumerate(data_dl):\n",
    "    x, y = batch\n",
    "\n",
    "    logits = model(x)\n",
    "\n",
    "    loss = model.loss_fn(logits, y)\n",
    "    losses[step] = loss.item()\n",
    "\n",
    "    if step % 100 == 0:\n",
    "        print (step, loss.item())\n",
    "\n",
    "    optimizer = torch.optim.SGD(model.parameters(), lr=lr[step])\n",
    "    optimizer.zero_grad()\n",
    "    loss.backward()\n",
    "    optimizer.step\n",
    "\n",
    "    \n",
    "    #break"
   ]
  },
  {
   "cell_type": "code",
   "execution_count": 26,
   "metadata": {},
   "outputs": [
    {
     "data": {
      "text/plain": [
       "[<matplotlib.lines.Line2D at 0x291794d60>]"
      ]
     },
     "execution_count": 26,
     "metadata": {},
     "output_type": "execute_result"
    },
    {
     "data": {
      "image/svg+xml": "<?xml version=\"1.0\" encoding=\"utf-8\" standalone=\"no\"?>\n<!DOCTYPE svg PUBLIC \"-//W3C//DTD SVG 1.1//EN\"\n  \"http://www.w3.org/Graphics/SVG/1.1/DTD/svg11.dtd\">\n<svg xmlns:xlink=\"http://www.w3.org/1999/xlink\" width=\"441.060375pt\" height=\"325.023187pt\" viewBox=\"0 0 441.060375 325.023187\" xmlns=\"http://www.w3.org/2000/svg\" version=\"1.1\">\n <metadata>\n  <rdf:RDF xmlns:dc=\"http://purl.org/dc/elements/1.1/\" xmlns:cc=\"http://creativecommons.org/ns#\" xmlns:rdf=\"http://www.w3.org/1999/02/22-rdf-syntax-ns#\">\n   <cc:Work>\n    <dc:type rdf:resource=\"http://purl.org/dc/dcmitype/StillImage\"/>\n    <dc:date>2023-02-02T04:47:47.774902</dc:date>\n    <dc:format>image/svg+xml</dc:format>\n    <dc:creator>\n     <cc:Agent>\n      <dc:title>Matplotlib v3.6.3, https://matplotlib.org/</dc:title>\n     </cc:Agent>\n    </dc:creator>\n   </cc:Work>\n  </rdf:RDF>\n </metadata>\n <defs>\n  <style type=\"text/css\">*{stroke-linejoin: round; stroke-linecap: butt}</style>\n </defs>\n <g id=\"figure_1\">\n  <g id=\"patch_1\">\n   <path d=\"M 0 325.023187 \nL 441.060375 325.023187 \nL 441.060375 0 \nL 0 0 \nz\n\" style=\"fill: #f0f0f0\"/>\n  </g>\n  <g id=\"axes_1\">\n   <g id=\"patch_2\">\n    <path d=\"M 32.964375 300.773812 \nL 433.860375 300.773812 \nL 433.860375 20.837812 \nL 32.964375 20.837812 \nz\n\" style=\"fill: #f0f0f0\"/>\n   </g>\n   <g id=\"matplotlib.axis_1\">\n    <g id=\"xtick_1\">\n     <g id=\"line2d_1\">\n      <path d=\"M 51.186921 300.773812 \nL 51.186921 20.837812 \n\" clip-path=\"url(#p6ed9e35cbc)\" style=\"fill: none; stroke: #cbcbcb\"/>\n     </g>\n     <g id=\"line2d_2\"/>\n     <g id=\"text_1\">\n      <!-- $\\mathdefault{10^{-4}}$ -->\n      <g transform=\"translate(34.736921 314.911625) scale(0.14 -0.14)\">\n       <defs>\n        <path id=\"DejaVuSans-31\" d=\"M 794 531 \nL 1825 531 \nL 1825 4091 \nL 703 3866 \nL 703 4441 \nL 1819 4666 \nL 2450 4666 \nL 2450 531 \nL 3481 531 \nL 3481 0 \nL 794 0 \nL 794 531 \nz\n\" transform=\"scale(0.015625)\"/>\n        <path id=\"DejaVuSans-30\" d=\"M 2034 4250 \nQ 1547 4250 1301 3770 \nQ 1056 3291 1056 2328 \nQ 1056 1369 1301 889 \nQ 1547 409 2034 409 \nQ 2525 409 2770 889 \nQ 3016 1369 3016 2328 \nQ 3016 3291 2770 3770 \nQ 2525 4250 2034 4250 \nz\nM 2034 4750 \nQ 2819 4750 3233 4129 \nQ 3647 3509 3647 2328 \nQ 3647 1150 3233 529 \nQ 2819 -91 2034 -91 \nQ 1250 -91 836 529 \nQ 422 1150 422 2328 \nQ 422 3509 836 4129 \nQ 1250 4750 2034 4750 \nz\n\" transform=\"scale(0.015625)\"/>\n        <path id=\"DejaVuSans-2212\" d=\"M 678 2272 \nL 4684 2272 \nL 4684 1741 \nL 678 1741 \nL 678 2272 \nz\n\" transform=\"scale(0.015625)\"/>\n        <path id=\"DejaVuSans-34\" d=\"M 2419 4116 \nL 825 1625 \nL 2419 1625 \nL 2419 4116 \nz\nM 2253 4666 \nL 3047 4666 \nL 3047 1625 \nL 3713 1625 \nL 3713 1100 \nL 3047 1100 \nL 3047 0 \nL 2419 0 \nL 2419 1100 \nL 313 1100 \nL 313 1709 \nL 2253 4666 \nz\n\" transform=\"scale(0.015625)\"/>\n       </defs>\n       <use xlink:href=\"#DejaVuSans-31\" transform=\"translate(0 0.684375)\"/>\n       <use xlink:href=\"#DejaVuSans-30\" transform=\"translate(63.623047 0.684375)\"/>\n       <use xlink:href=\"#DejaVuSans-2212\" transform=\"translate(128.203125 38.965625) scale(0.7)\"/>\n       <use xlink:href=\"#DejaVuSans-34\" transform=\"translate(186.855469 38.965625) scale(0.7)\"/>\n      </g>\n     </g>\n    </g>\n    <g id=\"xtick_2\">\n     <g id=\"line2d_3\">\n      <path d=\"M 124.077103 300.773812 \nL 124.077103 20.837812 \n\" clip-path=\"url(#p6ed9e35cbc)\" style=\"fill: none; stroke: #cbcbcb\"/>\n     </g>\n     <g id=\"line2d_4\"/>\n     <g id=\"text_2\">\n      <!-- $\\mathdefault{10^{-3}}$ -->\n      <g transform=\"translate(107.627103 314.911625) scale(0.14 -0.14)\">\n       <defs>\n        <path id=\"DejaVuSans-33\" d=\"M 2597 2516 \nQ 3050 2419 3304 2112 \nQ 3559 1806 3559 1356 \nQ 3559 666 3084 287 \nQ 2609 -91 1734 -91 \nQ 1441 -91 1130 -33 \nQ 819 25 488 141 \nL 488 750 \nQ 750 597 1062 519 \nQ 1375 441 1716 441 \nQ 2309 441 2620 675 \nQ 2931 909 2931 1356 \nQ 2931 1769 2642 2001 \nQ 2353 2234 1838 2234 \nL 1294 2234 \nL 1294 2753 \nL 1863 2753 \nQ 2328 2753 2575 2939 \nQ 2822 3125 2822 3475 \nQ 2822 3834 2567 4026 \nQ 2313 4219 1838 4219 \nQ 1578 4219 1281 4162 \nQ 984 4106 628 3988 \nL 628 4550 \nQ 988 4650 1302 4700 \nQ 1616 4750 1894 4750 \nQ 2613 4750 3031 4423 \nQ 3450 4097 3450 3541 \nQ 3450 3153 3228 2886 \nQ 3006 2619 2597 2516 \nz\n\" transform=\"scale(0.015625)\"/>\n       </defs>\n       <use xlink:href=\"#DejaVuSans-31\" transform=\"translate(0 0.765625)\"/>\n       <use xlink:href=\"#DejaVuSans-30\" transform=\"translate(63.623047 0.765625)\"/>\n       <use xlink:href=\"#DejaVuSans-2212\" transform=\"translate(128.203125 39.046875) scale(0.7)\"/>\n       <use xlink:href=\"#DejaVuSans-33\" transform=\"translate(186.855469 39.046875) scale(0.7)\"/>\n      </g>\n     </g>\n    </g>\n    <g id=\"xtick_3\">\n     <g id=\"line2d_5\">\n      <path d=\"M 196.967285 300.773812 \nL 196.967285 20.837812 \n\" clip-path=\"url(#p6ed9e35cbc)\" style=\"fill: none; stroke: #cbcbcb\"/>\n     </g>\n     <g id=\"line2d_6\"/>\n     <g id=\"text_3\">\n      <!-- $\\mathdefault{10^{-2}}$ -->\n      <g transform=\"translate(180.517285 314.911625) scale(0.14 -0.14)\">\n       <defs>\n        <path id=\"DejaVuSans-32\" d=\"M 1228 531 \nL 3431 531 \nL 3431 0 \nL 469 0 \nL 469 531 \nQ 828 903 1448 1529 \nQ 2069 2156 2228 2338 \nQ 2531 2678 2651 2914 \nQ 2772 3150 2772 3378 \nQ 2772 3750 2511 3984 \nQ 2250 4219 1831 4219 \nQ 1534 4219 1204 4116 \nQ 875 4013 500 3803 \nL 500 4441 \nQ 881 4594 1212 4672 \nQ 1544 4750 1819 4750 \nQ 2544 4750 2975 4387 \nQ 3406 4025 3406 3419 \nQ 3406 3131 3298 2873 \nQ 3191 2616 2906 2266 \nQ 2828 2175 2409 1742 \nQ 1991 1309 1228 531 \nz\n\" transform=\"scale(0.015625)\"/>\n       </defs>\n       <use xlink:href=\"#DejaVuSans-31\" transform=\"translate(0 0.765625)\"/>\n       <use xlink:href=\"#DejaVuSans-30\" transform=\"translate(63.623047 0.765625)\"/>\n       <use xlink:href=\"#DejaVuSans-2212\" transform=\"translate(128.203125 39.046875) scale(0.7)\"/>\n       <use xlink:href=\"#DejaVuSans-32\" transform=\"translate(186.855469 39.046875) scale(0.7)\"/>\n      </g>\n     </g>\n    </g>\n    <g id=\"xtick_4\">\n     <g id=\"line2d_7\">\n      <path d=\"M 269.857466 300.773812 \nL 269.857466 20.837812 \n\" clip-path=\"url(#p6ed9e35cbc)\" style=\"fill: none; stroke: #cbcbcb\"/>\n     </g>\n     <g id=\"line2d_8\"/>\n     <g id=\"text_4\">\n      <!-- $\\mathdefault{10^{-1}}$ -->\n      <g transform=\"translate(253.407466 314.911625) scale(0.14 -0.14)\">\n       <use xlink:href=\"#DejaVuSans-31\" transform=\"translate(0 0.684375)\"/>\n       <use xlink:href=\"#DejaVuSans-30\" transform=\"translate(63.623047 0.684375)\"/>\n       <use xlink:href=\"#DejaVuSans-2212\" transform=\"translate(128.203125 38.965625) scale(0.7)\"/>\n       <use xlink:href=\"#DejaVuSans-31\" transform=\"translate(186.855469 38.965625) scale(0.7)\"/>\n      </g>\n     </g>\n    </g>\n    <g id=\"xtick_5\">\n     <g id=\"line2d_9\">\n      <path d=\"M 342.747648 300.773812 \nL 342.747648 20.837812 \n\" clip-path=\"url(#p6ed9e35cbc)\" style=\"fill: none; stroke: #cbcbcb\"/>\n     </g>\n     <g id=\"line2d_10\"/>\n     <g id=\"text_5\">\n      <!-- $\\mathdefault{10^{0}}$ -->\n      <g transform=\"translate(330.427648 314.911625) scale(0.14 -0.14)\">\n       <use xlink:href=\"#DejaVuSans-31\" transform=\"translate(0 0.765625)\"/>\n       <use xlink:href=\"#DejaVuSans-30\" transform=\"translate(63.623047 0.765625)\"/>\n       <use xlink:href=\"#DejaVuSans-30\" transform=\"translate(128.203125 39.046875) scale(0.7)\"/>\n      </g>\n     </g>\n    </g>\n    <g id=\"xtick_6\">\n     <g id=\"line2d_11\">\n      <path d=\"M 415.63783 300.773812 \nL 415.63783 20.837812 \n\" clip-path=\"url(#p6ed9e35cbc)\" style=\"fill: none; stroke: #cbcbcb\"/>\n     </g>\n     <g id=\"line2d_12\"/>\n     <g id=\"text_6\">\n      <!-- $\\mathdefault{10^{1}}$ -->\n      <g transform=\"translate(403.31783 314.911625) scale(0.14 -0.14)\">\n       <use xlink:href=\"#DejaVuSans-31\" transform=\"translate(0 0.684375)\"/>\n       <use xlink:href=\"#DejaVuSans-30\" transform=\"translate(63.623047 0.684375)\"/>\n       <use xlink:href=\"#DejaVuSans-31\" transform=\"translate(128.203125 38.965625) scale(0.7)\"/>\n      </g>\n     </g>\n    </g>\n    <g id=\"xtick_7\">\n     <g id=\"line2d_13\"/>\n    </g>\n    <g id=\"xtick_8\">\n     <g id=\"line2d_14\"/>\n    </g>\n    <g id=\"xtick_9\">\n     <g id=\"line2d_15\"/>\n    </g>\n    <g id=\"xtick_10\">\n     <g id=\"line2d_16\"/>\n    </g>\n    <g id=\"xtick_11\">\n     <g id=\"line2d_17\"/>\n    </g>\n    <g id=\"xtick_12\">\n     <g id=\"line2d_18\"/>\n    </g>\n    <g id=\"xtick_13\">\n     <g id=\"line2d_19\"/>\n    </g>\n    <g id=\"xtick_14\">\n     <g id=\"line2d_20\"/>\n    </g>\n    <g id=\"xtick_15\">\n     <g id=\"line2d_21\"/>\n    </g>\n    <g id=\"xtick_16\">\n     <g id=\"line2d_22\"/>\n    </g>\n    <g id=\"xtick_17\">\n     <g id=\"line2d_23\"/>\n    </g>\n    <g id=\"xtick_18\">\n     <g id=\"line2d_24\"/>\n    </g>\n    <g id=\"xtick_19\">\n     <g id=\"line2d_25\"/>\n    </g>\n    <g id=\"xtick_20\">\n     <g id=\"line2d_26\"/>\n    </g>\n    <g id=\"xtick_21\">\n     <g id=\"line2d_27\"/>\n    </g>\n    <g id=\"xtick_22\">\n     <g id=\"line2d_28\"/>\n    </g>\n    <g id=\"xtick_23\">\n     <g id=\"line2d_29\"/>\n    </g>\n    <g id=\"xtick_24\">\n     <g id=\"line2d_30\"/>\n    </g>\n    <g id=\"xtick_25\">\n     <g id=\"line2d_31\"/>\n    </g>\n    <g id=\"xtick_26\">\n     <g id=\"line2d_32\"/>\n    </g>\n    <g id=\"xtick_27\">\n     <g id=\"line2d_33\"/>\n    </g>\n    <g id=\"xtick_28\">\n     <g id=\"line2d_34\"/>\n    </g>\n    <g id=\"xtick_29\">\n     <g id=\"line2d_35\"/>\n    </g>\n    <g id=\"xtick_30\">\n     <g id=\"line2d_36\"/>\n    </g>\n    <g id=\"xtick_31\">\n     <g id=\"line2d_37\"/>\n    </g>\n    <g id=\"xtick_32\">\n     <g id=\"line2d_38\"/>\n    </g>\n    <g id=\"xtick_33\">\n     <g id=\"line2d_39\"/>\n    </g>\n    <g id=\"xtick_34\">\n     <g id=\"line2d_40\"/>\n    </g>\n    <g id=\"xtick_35\">\n     <g id=\"line2d_41\"/>\n    </g>\n    <g id=\"xtick_36\">\n     <g id=\"line2d_42\"/>\n    </g>\n    <g id=\"xtick_37\">\n     <g id=\"line2d_43\"/>\n    </g>\n    <g id=\"xtick_38\">\n     <g id=\"line2d_44\"/>\n    </g>\n    <g id=\"xtick_39\">\n     <g id=\"line2d_45\"/>\n    </g>\n    <g id=\"xtick_40\">\n     <g id=\"line2d_46\"/>\n    </g>\n    <g id=\"xtick_41\">\n     <g id=\"line2d_47\"/>\n    </g>\n    <g id=\"xtick_42\">\n     <g id=\"line2d_48\"/>\n    </g>\n    <g id=\"xtick_43\">\n     <g id=\"line2d_49\"/>\n    </g>\n    <g id=\"xtick_44\">\n     <g id=\"line2d_50\"/>\n    </g>\n    <g id=\"xtick_45\">\n     <g id=\"line2d_51\"/>\n    </g>\n    <g id=\"xtick_46\">\n     <g id=\"line2d_52\"/>\n    </g>\n    <g id=\"xtick_47\">\n     <g id=\"line2d_53\"/>\n    </g>\n    <g id=\"xtick_48\">\n     <g id=\"line2d_54\"/>\n    </g>\n    <g id=\"xtick_49\">\n     <g id=\"line2d_55\"/>\n    </g>\n    <g id=\"xtick_50\">\n     <g id=\"line2d_56\"/>\n    </g>\n   </g>\n   <g id=\"matplotlib.axis_2\">\n    <g id=\"ytick_1\">\n     <g id=\"line2d_57\">\n      <path d=\"M 32.964375 291.462093 \nL 433.860375 291.462093 \n\" clip-path=\"url(#p6ed9e35cbc)\" style=\"fill: none; stroke: #cbcbcb\"/>\n     </g>\n     <g id=\"line2d_58\"/>\n     <g id=\"text_7\">\n      <!-- 0.5 -->\n      <g transform=\"translate(7.2 296.781) scale(0.14 -0.14)\">\n       <defs>\n        <path id=\"DejaVuSans-2e\" d=\"M 684 794 \nL 1344 794 \nL 1344 0 \nL 684 0 \nL 684 794 \nz\n\" transform=\"scale(0.015625)\"/>\n        <path id=\"DejaVuSans-35\" d=\"M 691 4666 \nL 3169 4666 \nL 3169 4134 \nL 1269 4134 \nL 1269 2991 \nQ 1406 3038 1543 3061 \nQ 1681 3084 1819 3084 \nQ 2600 3084 3056 2656 \nQ 3513 2228 3513 1497 \nQ 3513 744 3044 326 \nQ 2575 -91 1722 -91 \nQ 1428 -91 1123 -41 \nQ 819 9 494 109 \nL 494 744 \nQ 775 591 1075 516 \nQ 1375 441 1709 441 \nQ 2250 441 2565 725 \nQ 2881 1009 2881 1497 \nQ 2881 1984 2565 2268 \nQ 2250 2553 1709 2553 \nQ 1456 2553 1204 2497 \nQ 953 2441 691 2322 \nL 691 4666 \nz\n\" transform=\"scale(0.015625)\"/>\n       </defs>\n       <use xlink:href=\"#DejaVuSans-30\"/>\n       <use xlink:href=\"#DejaVuSans-2e\" x=\"63.623047\"/>\n       <use xlink:href=\"#DejaVuSans-35\" x=\"95.410156\"/>\n      </g>\n     </g>\n    </g>\n    <g id=\"ytick_2\">\n     <g id=\"line2d_59\">\n      <path d=\"M 32.964375 260.068064 \nL 433.860375 260.068064 \n\" clip-path=\"url(#p6ed9e35cbc)\" style=\"fill: none; stroke: #cbcbcb\"/>\n     </g>\n     <g id=\"line2d_60\"/>\n     <g id=\"text_8\">\n      <!-- 1.0 -->\n      <g transform=\"translate(7.2 265.386971) scale(0.14 -0.14)\">\n       <use xlink:href=\"#DejaVuSans-31\"/>\n       <use xlink:href=\"#DejaVuSans-2e\" x=\"63.623047\"/>\n       <use xlink:href=\"#DejaVuSans-30\" x=\"95.410156\"/>\n      </g>\n     </g>\n    </g>\n    <g id=\"ytick_3\">\n     <g id=\"line2d_61\">\n      <path d=\"M 32.964375 228.674035 \nL 433.860375 228.674035 \n\" clip-path=\"url(#p6ed9e35cbc)\" style=\"fill: none; stroke: #cbcbcb\"/>\n     </g>\n     <g id=\"line2d_62\"/>\n     <g id=\"text_9\">\n      <!-- 1.5 -->\n      <g transform=\"translate(7.2 233.992942) scale(0.14 -0.14)\">\n       <use xlink:href=\"#DejaVuSans-31\"/>\n       <use xlink:href=\"#DejaVuSans-2e\" x=\"63.623047\"/>\n       <use xlink:href=\"#DejaVuSans-35\" x=\"95.410156\"/>\n      </g>\n     </g>\n    </g>\n    <g id=\"ytick_4\">\n     <g id=\"line2d_63\">\n      <path d=\"M 32.964375 197.280006 \nL 433.860375 197.280006 \n\" clip-path=\"url(#p6ed9e35cbc)\" style=\"fill: none; stroke: #cbcbcb\"/>\n     </g>\n     <g id=\"line2d_64\"/>\n     <g id=\"text_10\">\n      <!-- 2.0 -->\n      <g transform=\"translate(7.2 202.598913) scale(0.14 -0.14)\">\n       <use xlink:href=\"#DejaVuSans-32\"/>\n       <use xlink:href=\"#DejaVuSans-2e\" x=\"63.623047\"/>\n       <use xlink:href=\"#DejaVuSans-30\" x=\"95.410156\"/>\n      </g>\n     </g>\n    </g>\n    <g id=\"ytick_5\">\n     <g id=\"line2d_65\">\n      <path d=\"M 32.964375 165.885977 \nL 433.860375 165.885977 \n\" clip-path=\"url(#p6ed9e35cbc)\" style=\"fill: none; stroke: #cbcbcb\"/>\n     </g>\n     <g id=\"line2d_66\"/>\n     <g id=\"text_11\">\n      <!-- 2.5 -->\n      <g transform=\"translate(7.2 171.204884) scale(0.14 -0.14)\">\n       <use xlink:href=\"#DejaVuSans-32\"/>\n       <use xlink:href=\"#DejaVuSans-2e\" x=\"63.623047\"/>\n       <use xlink:href=\"#DejaVuSans-35\" x=\"95.410156\"/>\n      </g>\n     </g>\n    </g>\n    <g id=\"ytick_6\">\n     <g id=\"line2d_67\">\n      <path d=\"M 32.964375 134.491948 \nL 433.860375 134.491948 \n\" clip-path=\"url(#p6ed9e35cbc)\" style=\"fill: none; stroke: #cbcbcb\"/>\n     </g>\n     <g id=\"line2d_68\"/>\n     <g id=\"text_12\">\n      <!-- 3.0 -->\n      <g transform=\"translate(7.2 139.810855) scale(0.14 -0.14)\">\n       <use xlink:href=\"#DejaVuSans-33\"/>\n       <use xlink:href=\"#DejaVuSans-2e\" x=\"63.623047\"/>\n       <use xlink:href=\"#DejaVuSans-30\" x=\"95.410156\"/>\n      </g>\n     </g>\n    </g>\n    <g id=\"ytick_7\">\n     <g id=\"line2d_69\">\n      <path d=\"M 32.964375 103.097919 \nL 433.860375 103.097919 \n\" clip-path=\"url(#p6ed9e35cbc)\" style=\"fill: none; stroke: #cbcbcb\"/>\n     </g>\n     <g id=\"line2d_70\"/>\n     <g id=\"text_13\">\n      <!-- 3.5 -->\n      <g transform=\"translate(7.2 108.416826) scale(0.14 -0.14)\">\n       <use xlink:href=\"#DejaVuSans-33\"/>\n       <use xlink:href=\"#DejaVuSans-2e\" x=\"63.623047\"/>\n       <use xlink:href=\"#DejaVuSans-35\" x=\"95.410156\"/>\n      </g>\n     </g>\n    </g>\n    <g id=\"ytick_8\">\n     <g id=\"line2d_71\">\n      <path d=\"M 32.964375 71.70389 \nL 433.860375 71.70389 \n\" clip-path=\"url(#p6ed9e35cbc)\" style=\"fill: none; stroke: #cbcbcb\"/>\n     </g>\n     <g id=\"line2d_72\"/>\n     <g id=\"text_14\">\n      <!-- 4.0 -->\n      <g transform=\"translate(7.2 77.022797) scale(0.14 -0.14)\">\n       <use xlink:href=\"#DejaVuSans-34\"/>\n       <use xlink:href=\"#DejaVuSans-2e\" x=\"63.623047\"/>\n       <use xlink:href=\"#DejaVuSans-30\" x=\"95.410156\"/>\n      </g>\n     </g>\n    </g>\n    <g id=\"ytick_9\">\n     <g id=\"line2d_73\">\n      <path d=\"M 32.964375 40.309861 \nL 433.860375 40.309861 \n\" clip-path=\"url(#p6ed9e35cbc)\" style=\"fill: none; stroke: #cbcbcb\"/>\n     </g>\n     <g id=\"line2d_74\"/>\n     <g id=\"text_15\">\n      <!-- 4.5 -->\n      <g transform=\"translate(7.2 45.628768) scale(0.14 -0.14)\">\n       <use xlink:href=\"#DejaVuSans-34\"/>\n       <use xlink:href=\"#DejaVuSans-2e\" x=\"63.623047\"/>\n       <use xlink:href=\"#DejaVuSans-35\" x=\"95.410156\"/>\n      </g>\n     </g>\n    </g>\n    <g id=\"text_16\">\n     <!-- 1e−6+3.33222 -->\n     <g transform=\"translate(32.964375 17.837812) scale(0.14 -0.14)\">\n      <defs>\n       <path id=\"DejaVuSans-65\" d=\"M 3597 1894 \nL 3597 1613 \nL 953 1613 \nQ 991 1019 1311 708 \nQ 1631 397 2203 397 \nQ 2534 397 2845 478 \nQ 3156 559 3463 722 \nL 3463 178 \nQ 3153 47 2828 -22 \nQ 2503 -91 2169 -91 \nQ 1331 -91 842 396 \nQ 353 884 353 1716 \nQ 353 2575 817 3079 \nQ 1281 3584 2069 3584 \nQ 2775 3584 3186 3129 \nQ 3597 2675 3597 1894 \nz\nM 3022 2063 \nQ 3016 2534 2758 2815 \nQ 2500 3097 2075 3097 \nQ 1594 3097 1305 2825 \nQ 1016 2553 972 2059 \nL 3022 2063 \nz\n\" transform=\"scale(0.015625)\"/>\n       <path id=\"DejaVuSans-36\" d=\"M 2113 2584 \nQ 1688 2584 1439 2293 \nQ 1191 2003 1191 1497 \nQ 1191 994 1439 701 \nQ 1688 409 2113 409 \nQ 2538 409 2786 701 \nQ 3034 994 3034 1497 \nQ 3034 2003 2786 2293 \nQ 2538 2584 2113 2584 \nz\nM 3366 4563 \nL 3366 3988 \nQ 3128 4100 2886 4159 \nQ 2644 4219 2406 4219 \nQ 1781 4219 1451 3797 \nQ 1122 3375 1075 2522 \nQ 1259 2794 1537 2939 \nQ 1816 3084 2150 3084 \nQ 2853 3084 3261 2657 \nQ 3669 2231 3669 1497 \nQ 3669 778 3244 343 \nQ 2819 -91 2113 -91 \nQ 1303 -91 875 529 \nQ 447 1150 447 2328 \nQ 447 3434 972 4092 \nQ 1497 4750 2381 4750 \nQ 2619 4750 2861 4703 \nQ 3103 4656 3366 4563 \nz\n\" transform=\"scale(0.015625)\"/>\n       <path id=\"DejaVuSans-2b\" d=\"M 2944 4013 \nL 2944 2272 \nL 4684 2272 \nL 4684 1741 \nL 2944 1741 \nL 2944 0 \nL 2419 0 \nL 2419 1741 \nL 678 1741 \nL 678 2272 \nL 2419 2272 \nL 2419 4013 \nL 2944 4013 \nz\n\" transform=\"scale(0.015625)\"/>\n      </defs>\n      <use xlink:href=\"#DejaVuSans-31\"/>\n      <use xlink:href=\"#DejaVuSans-65\" x=\"63.623047\"/>\n      <use xlink:href=\"#DejaVuSans-2212\" x=\"125.146484\"/>\n      <use xlink:href=\"#DejaVuSans-36\" x=\"208.935547\"/>\n      <use xlink:href=\"#DejaVuSans-2b\" x=\"272.558594\"/>\n      <use xlink:href=\"#DejaVuSans-33\" x=\"356.347656\"/>\n      <use xlink:href=\"#DejaVuSans-2e\" x=\"419.970703\"/>\n      <use xlink:href=\"#DejaVuSans-33\" x=\"451.757812\"/>\n      <use xlink:href=\"#DejaVuSans-33\" x=\"515.380859\"/>\n      <use xlink:href=\"#DejaVuSans-32\" x=\"579.003906\"/>\n      <use xlink:href=\"#DejaVuSans-32\" x=\"642.626953\"/>\n      <use xlink:href=\"#DejaVuSans-32\" x=\"706.25\"/>\n     </g>\n    </g>\n   </g>\n   <g id=\"line2d_75\">\n    <path d=\"M 51.18692 183.260572 \nL 53.343435 108.411374 \nL 55.49995 108.411374 \nL 57.656465 243.13993 \nL 61.969491 123.381214 \nL 64.126006 78.471695 \nL 66.28252 228.170091 \nL 68.439036 288.049449 \nL 70.595549 123.381214 \nL 72.752063 168.290732 \nL 74.908578 123.381214 \nL 77.065091 198.230411 \nL 79.221606 213.200251 \nL 81.378119 183.260572 \nL 83.534637 183.260572 \nL 85.69115 243.13993 \nL 87.847664 198.230411 \nL 90.004179 183.260572 \nL 92.160691 228.170091 \nL 94.317206 228.170091 \nL 96.47372 168.290732 \nL 98.630234 93.441534 \nL 100.786749 183.260572 \nL 102.943263 183.260572 \nL 105.099779 228.170091 \nL 107.256293 123.381214 \nL 109.412806 228.170091 \nL 111.569321 228.170091 \nL 113.725836 63.501855 \nL 115.88235 183.260572 \nL 118.038862 228.170091 \nL 120.195377 183.260572 \nL 122.351892 198.230411 \nL 124.508404 198.230411 \nL 126.664918 123.381214 \nL 128.821435 258.10977 \nL 130.977948 138.351053 \nL 133.134463 153.320893 \nL 135.290978 273.079609 \nL 137.447492 123.381214 \nL 139.604006 48.532016 \nL 141.760521 108.411374 \nL 143.917035 153.320893 \nL 146.07355 168.290732 \nL 148.230061 228.170091 \nL 150.386576 123.381214 \nL 152.54309 258.10977 \nL 154.699606 108.411374 \nL 156.856119 78.471695 \nL 161.169148 78.471695 \nL 163.325663 153.320893 \nL 165.482177 138.351053 \nL 167.63869 33.562176 \nL 169.795206 243.13993 \nL 171.951719 123.381214 \nL 174.108234 153.320893 \nL 176.264747 108.411374 \nL 178.421262 273.079609 \nL 180.577776 183.260572 \nL 182.734291 123.381214 \nL 187.047319 183.260572 \nL 189.203834 198.230411 \nL 191.360347 153.320893 \nL 193.516863 168.290732 \nL 197.829891 168.290732 \nL 199.986404 123.381214 \nL 204.299434 153.320893 \nL 206.455947 273.079609 \nL 212.92549 183.260572 \nL 215.082004 168.290732 \nL 217.238519 198.230411 \nL 219.395033 33.562176 \nL 221.551548 138.351053 \nL 223.708062 153.320893 \nL 228.02109 153.320893 \nL 230.177605 78.471695 \nL 232.334119 198.230411 \nL 234.490634 198.230411 \nL 236.647147 153.320893 \nL 238.803661 153.320893 \nL 240.960177 213.200251 \nL 243.116688 93.441534 \nL 245.273203 153.320893 \nL 247.429719 123.381214 \nL 249.586231 153.320893 \nL 251.742747 153.320893 \nL 253.899262 198.230411 \nL 256.055776 228.170091 \nL 258.212289 213.200251 \nL 260.368805 78.471695 \nL 262.525317 168.290732 \nL 264.681832 93.441534 \nL 266.838346 138.351053 \nL 268.994861 93.441534 \nL 271.151376 243.13993 \nL 273.307888 168.290732 \nL 275.464404 243.13993 \nL 277.620918 48.532016 \nL 279.777432 153.320893 \nL 281.933947 123.381214 \nL 284.090461 123.381214 \nL 286.246974 138.351053 \nL 288.403489 198.230411 \nL 290.560002 138.351053 \nL 292.716518 243.13993 \nL 297.029547 123.381214 \nL 299.18606 108.411374 \nL 301.342575 213.200251 \nL 303.49909 93.441534 \nL 305.655604 213.200251 \nL 307.812118 153.320893 \nL 309.968631 78.471695 \nL 312.125144 183.260572 \nL 314.281659 198.230411 \nL 316.438175 198.230411 \nL 318.594688 33.562176 \nL 320.751203 228.170091 \nL 322.907715 213.200251 \nL 325.064232 138.351053 \nL 327.220746 93.441534 \nL 329.377258 153.320893 \nL 331.533775 93.441534 \nL 333.690287 93.441534 \nL 335.846802 198.230411 \nL 340.159831 228.170091 \nL 342.316346 198.230411 \nL 344.472858 198.230411 \nL 346.629373 33.562176 \nL 348.785888 243.13993 \nL 350.942402 168.290732 \nL 353.098916 78.471695 \nL 355.25543 108.411374 \nL 357.411944 213.200251 \nL 359.568458 243.13993 \nL 361.724973 138.351053 \nL 363.881488 198.230411 \nL 366.038003 93.441534 \nL 368.194515 78.471695 \nL 370.35103 168.290732 \nL 372.507546 93.441534 \nL 374.664058 183.260572 \nL 376.820574 123.381214 \nL 378.977088 78.471695 \nL 381.133601 78.471695 \nL 383.290117 153.320893 \nL 385.44663 108.411374 \nL 387.603143 273.079609 \nL 389.75966 153.320893 \nL 391.916174 228.170091 \nL 394.072686 183.260572 \nL 396.229202 228.170091 \nL 398.385714 93.441534 \nL 400.54223 213.200251 \nL 402.698743 273.079609 \nL 404.855258 168.290732 \nL 407.011773 153.320893 \nL 409.168287 198.230411 \nL 411.324801 78.471695 \nL 413.481315 93.441534 \nL 415.63783 198.230411 \nL 415.63783 198.230411 \n\" clip-path=\"url(#p6ed9e35cbc)\" style=\"fill: none; stroke: #008fd5; stroke-width: 4\"/>\n   </g>\n   <g id=\"patch_3\">\n    <path d=\"M 32.964375 300.773813 \nL 32.964375 20.837813 \n\" style=\"fill: none; stroke: #f0f0f0; stroke-width: 3; stroke-linejoin: miter; stroke-linecap: square\"/>\n   </g>\n   <g id=\"patch_4\">\n    <path d=\"M 433.860375 300.773813 \nL 433.860375 20.837813 \n\" style=\"fill: none; stroke: #f0f0f0; stroke-width: 3; stroke-linejoin: miter; stroke-linecap: square\"/>\n   </g>\n   <g id=\"patch_5\">\n    <path d=\"M 32.964375 300.773812 \nL 433.860375 300.773812 \n\" style=\"fill: none; stroke: #f0f0f0; stroke-width: 3; stroke-linejoin: miter; stroke-linecap: square\"/>\n   </g>\n   <g id=\"patch_6\">\n    <path d=\"M 32.964375 20.837812 \nL 433.860375 20.837812 \n\" style=\"fill: none; stroke: #f0f0f0; stroke-width: 3; stroke-linejoin: miter; stroke-linecap: square\"/>\n   </g>\n  </g>\n </g>\n <defs>\n  <clipPath id=\"p6ed9e35cbc\">\n   <rect x=\"32.964375\" y=\"20.837812\" width=\"400.896\" height=\"279.936\"/>\n  </clipPath>\n </defs>\n</svg>\n",
      "text/plain": [
       "<Figure size 640x480 with 1 Axes>"
      ]
     },
     "metadata": {},
     "output_type": "display_data"
    }
   ],
   "source": [
    "plt.semilogx(lr, losses)"
   ]
  },
  {
   "cell_type": "code",
   "execution_count": 53,
   "metadata": {},
   "outputs": [
    {
     "name": "stdout",
     "output_type": "stream",
     "text": [
      "torch.Size([1024, 32])\n"
     ]
    },
    {
     "name": "stderr",
     "output_type": "stream",
     "text": [
      "/Users/jsmidt/Library/Python/3.9/lib/python/site-packages/torch/nn/modules/lazy.py:180: UserWarning: Lazy modules are a new feature under heavy development so changes to the API or functionality can happen at any moment.\n",
      "  warnings.warn('Lazy modules are a new feature under heavy development '\n"
     ]
    },
    {
     "data": {
      "text/plain": [
       "torch.Size([1024, 32, 28])"
      ]
     },
     "execution_count": 53,
     "metadata": {},
     "output_type": "execute_result"
    }
   ],
   "source": [
    "data = TimeMachine(num_steps=32)\n",
    "data_dl = DataLoader(data, batch_size=1024, shuffle=True)\n",
    "\n",
    "lstm = LSTM(num_inputs=len(data.vocab), num_hiddens=32)\n",
    "model = RNNLM(lstm, vocab_size=len(data.vocab), lr=4)\n",
    "\n",
    "x, y = next(iter(data_dl))\n",
    "print (x.shape)\n",
    "model(x).shape\n"
   ]
  },
  {
   "cell_type": "code",
   "execution_count": 54,
   "metadata": {},
   "outputs": [
    {
     "name": "stdout",
     "output_type": "stream",
     "text": [
      "0 3.305590867996216\n",
      "1 3.3068604469299316\n",
      "2 3.306445598602295\n",
      "3 3.3076159954071045\n",
      "4 3.3077876567840576\n",
      "5 3.3068480491638184\n",
      "6 3.3086726665496826\n",
      "7 3.3074262142181396\n",
      "8 3.3072445392608643\n",
      "9 3.306605100631714\n",
      "10 3.3078973293304443\n",
      "11 3.3059463500976562\n",
      "12 3.3086936473846436\n",
      "13 3.3067145347595215\n",
      "14 3.307955741882324\n",
      "15 3.307950735092163\n",
      "16 3.3067288398742676\n",
      "17 3.30788254737854\n",
      "18 3.306340456008911\n"
     ]
    },
    {
     "ename": "KeyboardInterrupt",
     "evalue": "",
     "output_type": "error",
     "traceback": [
      "\u001b[0;31m---------------------------------------------------------------------------\u001b[0m",
      "\u001b[0;31mKeyboardInterrupt\u001b[0m                         Traceback (most recent call last)",
      "Cell \u001b[0;32mIn[54], line 10\u001b[0m\n\u001b[1;32m      7\u001b[0m \u001b[39mfor\u001b[39;00m step, batch \u001b[39min\u001b[39;00m \u001b[39menumerate\u001b[39m(data_dl):\n\u001b[1;32m      8\u001b[0m     x, y \u001b[39m=\u001b[39m batch\n\u001b[0;32m---> 10\u001b[0m     logits \u001b[39m=\u001b[39m model(x)\n\u001b[1;32m     12\u001b[0m     loss \u001b[39m=\u001b[39m model\u001b[39m.\u001b[39mloss_fn(logits, y)\n\u001b[1;32m     13\u001b[0m     losses[step] \u001b[39m=\u001b[39m loss\u001b[39m.\u001b[39mitem()\n",
      "File \u001b[0;32m~/Library/Python/3.9/lib/python/site-packages/torch/nn/modules/module.py:1194\u001b[0m, in \u001b[0;36mModule._call_impl\u001b[0;34m(self, *input, **kwargs)\u001b[0m\n\u001b[1;32m   1190\u001b[0m \u001b[39m# If we don't have any hooks, we want to skip the rest of the logic in\u001b[39;00m\n\u001b[1;32m   1191\u001b[0m \u001b[39m# this function, and just call forward.\u001b[39;00m\n\u001b[1;32m   1192\u001b[0m \u001b[39mif\u001b[39;00m \u001b[39mnot\u001b[39;00m (\u001b[39mself\u001b[39m\u001b[39m.\u001b[39m_backward_hooks \u001b[39mor\u001b[39;00m \u001b[39mself\u001b[39m\u001b[39m.\u001b[39m_forward_hooks \u001b[39mor\u001b[39;00m \u001b[39mself\u001b[39m\u001b[39m.\u001b[39m_forward_pre_hooks \u001b[39mor\u001b[39;00m _global_backward_hooks\n\u001b[1;32m   1193\u001b[0m         \u001b[39mor\u001b[39;00m _global_forward_hooks \u001b[39mor\u001b[39;00m _global_forward_pre_hooks):\n\u001b[0;32m-> 1194\u001b[0m     \u001b[39mreturn\u001b[39;00m forward_call(\u001b[39m*\u001b[39;49m\u001b[39minput\u001b[39;49m, \u001b[39m*\u001b[39;49m\u001b[39m*\u001b[39;49mkwargs)\n\u001b[1;32m   1195\u001b[0m \u001b[39m# Do not call functions when jit is used\u001b[39;00m\n\u001b[1;32m   1196\u001b[0m full_backward_hooks, non_full_backward_hooks \u001b[39m=\u001b[39m [], []\n",
      "Cell \u001b[0;32mIn[38], line 91\u001b[0m, in \u001b[0;36mRNNLMScratch.forward\u001b[0;34m(self, X, state)\u001b[0m\n\u001b[1;32m     89\u001b[0m \u001b[39mdef\u001b[39;00m \u001b[39mforward\u001b[39m(\u001b[39mself\u001b[39m, X, state\u001b[39m=\u001b[39m\u001b[39mNone\u001b[39;00m):\n\u001b[1;32m     90\u001b[0m     embs \u001b[39m=\u001b[39m \u001b[39mself\u001b[39m\u001b[39m.\u001b[39mone_hot(X)\n\u001b[0;32m---> 91\u001b[0m     rnn_outputs, _ \u001b[39m=\u001b[39m \u001b[39mself\u001b[39;49m\u001b[39m.\u001b[39;49mrnn(embs, state)\n\u001b[1;32m     92\u001b[0m     \u001b[39mreturn\u001b[39;00m \u001b[39mself\u001b[39m\u001b[39m.\u001b[39moutput_layer(rnn_outputs)\n",
      "File \u001b[0;32m~/Library/Python/3.9/lib/python/site-packages/torch/nn/modules/module.py:1194\u001b[0m, in \u001b[0;36mModule._call_impl\u001b[0;34m(self, *input, **kwargs)\u001b[0m\n\u001b[1;32m   1190\u001b[0m \u001b[39m# If we don't have any hooks, we want to skip the rest of the logic in\u001b[39;00m\n\u001b[1;32m   1191\u001b[0m \u001b[39m# this function, and just call forward.\u001b[39;00m\n\u001b[1;32m   1192\u001b[0m \u001b[39mif\u001b[39;00m \u001b[39mnot\u001b[39;00m (\u001b[39mself\u001b[39m\u001b[39m.\u001b[39m_backward_hooks \u001b[39mor\u001b[39;00m \u001b[39mself\u001b[39m\u001b[39m.\u001b[39m_forward_hooks \u001b[39mor\u001b[39;00m \u001b[39mself\u001b[39m\u001b[39m.\u001b[39m_forward_pre_hooks \u001b[39mor\u001b[39;00m _global_backward_hooks\n\u001b[1;32m   1193\u001b[0m         \u001b[39mor\u001b[39;00m _global_forward_hooks \u001b[39mor\u001b[39;00m _global_forward_pre_hooks):\n\u001b[0;32m-> 1194\u001b[0m     \u001b[39mreturn\u001b[39;00m forward_call(\u001b[39m*\u001b[39;49m\u001b[39minput\u001b[39;49m, \u001b[39m*\u001b[39;49m\u001b[39m*\u001b[39;49mkwargs)\n\u001b[1;32m   1195\u001b[0m \u001b[39m# Do not call functions when jit is used\u001b[39;00m\n\u001b[1;32m   1196\u001b[0m full_backward_hooks, non_full_backward_hooks \u001b[39m=\u001b[39m [], []\n",
      "Cell \u001b[0;32mIn[38], line 133\u001b[0m, in \u001b[0;36mLSTM.forward\u001b[0;34m(self, inputs, H_C)\u001b[0m\n\u001b[1;32m    132\u001b[0m \u001b[39mdef\u001b[39;00m \u001b[39mforward\u001b[39m(\u001b[39mself\u001b[39m, inputs, H_C\u001b[39m=\u001b[39m\u001b[39mNone\u001b[39;00m):\n\u001b[0;32m--> 133\u001b[0m     \u001b[39mreturn\u001b[39;00m \u001b[39mself\u001b[39;49m\u001b[39m.\u001b[39;49mrnn(inputs, H_C)\n",
      "File \u001b[0;32m~/Library/Python/3.9/lib/python/site-packages/torch/nn/modules/module.py:1194\u001b[0m, in \u001b[0;36mModule._call_impl\u001b[0;34m(self, *input, **kwargs)\u001b[0m\n\u001b[1;32m   1190\u001b[0m \u001b[39m# If we don't have any hooks, we want to skip the rest of the logic in\u001b[39;00m\n\u001b[1;32m   1191\u001b[0m \u001b[39m# this function, and just call forward.\u001b[39;00m\n\u001b[1;32m   1192\u001b[0m \u001b[39mif\u001b[39;00m \u001b[39mnot\u001b[39;00m (\u001b[39mself\u001b[39m\u001b[39m.\u001b[39m_backward_hooks \u001b[39mor\u001b[39;00m \u001b[39mself\u001b[39m\u001b[39m.\u001b[39m_forward_hooks \u001b[39mor\u001b[39;00m \u001b[39mself\u001b[39m\u001b[39m.\u001b[39m_forward_pre_hooks \u001b[39mor\u001b[39;00m _global_backward_hooks\n\u001b[1;32m   1193\u001b[0m         \u001b[39mor\u001b[39;00m _global_forward_hooks \u001b[39mor\u001b[39;00m _global_forward_pre_hooks):\n\u001b[0;32m-> 1194\u001b[0m     \u001b[39mreturn\u001b[39;00m forward_call(\u001b[39m*\u001b[39;49m\u001b[39minput\u001b[39;49m, \u001b[39m*\u001b[39;49m\u001b[39m*\u001b[39;49mkwargs)\n\u001b[1;32m   1195\u001b[0m \u001b[39m# Do not call functions when jit is used\u001b[39;00m\n\u001b[1;32m   1196\u001b[0m full_backward_hooks, non_full_backward_hooks \u001b[39m=\u001b[39m [], []\n",
      "File \u001b[0;32m~/Library/Python/3.9/lib/python/site-packages/torch/nn/modules/rnn.py:774\u001b[0m, in \u001b[0;36mLSTM.forward\u001b[0;34m(self, input, hx)\u001b[0m\n\u001b[1;32m    772\u001b[0m \u001b[39mself\u001b[39m\u001b[39m.\u001b[39mcheck_forward_args(\u001b[39minput\u001b[39m, hx, batch_sizes)\n\u001b[1;32m    773\u001b[0m \u001b[39mif\u001b[39;00m batch_sizes \u001b[39mis\u001b[39;00m \u001b[39mNone\u001b[39;00m:\n\u001b[0;32m--> 774\u001b[0m     result \u001b[39m=\u001b[39m _VF\u001b[39m.\u001b[39;49mlstm(\u001b[39minput\u001b[39;49m, hx, \u001b[39mself\u001b[39;49m\u001b[39m.\u001b[39;49m_flat_weights, \u001b[39mself\u001b[39;49m\u001b[39m.\u001b[39;49mbias, \u001b[39mself\u001b[39;49m\u001b[39m.\u001b[39;49mnum_layers,\n\u001b[1;32m    775\u001b[0m                       \u001b[39mself\u001b[39;49m\u001b[39m.\u001b[39;49mdropout, \u001b[39mself\u001b[39;49m\u001b[39m.\u001b[39;49mtraining, \u001b[39mself\u001b[39;49m\u001b[39m.\u001b[39;49mbidirectional, \u001b[39mself\u001b[39;49m\u001b[39m.\u001b[39;49mbatch_first)\n\u001b[1;32m    776\u001b[0m \u001b[39melse\u001b[39;00m:\n\u001b[1;32m    777\u001b[0m     result \u001b[39m=\u001b[39m _VF\u001b[39m.\u001b[39mlstm(\u001b[39minput\u001b[39m, batch_sizes, hx, \u001b[39mself\u001b[39m\u001b[39m.\u001b[39m_flat_weights, \u001b[39mself\u001b[39m\u001b[39m.\u001b[39mbias,\n\u001b[1;32m    778\u001b[0m                       \u001b[39mself\u001b[39m\u001b[39m.\u001b[39mnum_layers, \u001b[39mself\u001b[39m\u001b[39m.\u001b[39mdropout, \u001b[39mself\u001b[39m\u001b[39m.\u001b[39mtraining, \u001b[39mself\u001b[39m\u001b[39m.\u001b[39mbidirectional)\n",
      "\u001b[0;31mKeyboardInterrupt\u001b[0m: "
     ]
    }
   ],
   "source": [
    "optimizer = torch.optim.AdamW(model.parameters(), lr=0.1)\n",
    "optimizer = torch.optim.SGD(model.parameters(), lr=4.0)\n",
    "\n",
    "lr = torch.logspace(-4,2,len(data_dl))\n",
    "losses = torch.zeros(len(data_dl))\n",
    "for epoch in range(25):\n",
    "    for step, batch in enumerate(data_dl):\n",
    "        x, y = batch\n",
    "\n",
    "        logits = model(x)\n",
    "\n",
    "        loss = model.loss_fn(logits, y)\n",
    "        losses[step] = loss.item()\n",
    "\n",
    "        #if step % 100 == 0:\n",
    "        #    print (step, loss.item())\n",
    "\n",
    "        optimizer.zero_grad()\n",
    "        loss.backward()\n",
    "        optimizer.step\n",
    "    print (epoch, loss.item())\n",
    "    "
   ]
  },
  {
   "cell_type": "code",
   "execution_count": 50,
   "metadata": {},
   "outputs": [
    {
     "data": {
      "text/plain": [
       "[<matplotlib.lines.Line2D at 0x12ff2a7c0>]"
      ]
     },
     "execution_count": 50,
     "metadata": {},
     "output_type": "execute_result"
    },
    {
     "data": {
      "image/svg+xml": "<?xml version=\"1.0\" encoding=\"utf-8\" standalone=\"no\"?>\n<!DOCTYPE svg PUBLIC \"-//W3C//DTD SVG 1.1//EN\"\n  \"http://www.w3.org/Graphics/SVG/1.1/DTD/svg11.dtd\">\n<svg xmlns:xlink=\"http://www.w3.org/1999/xlink\" width=\"467.782875pt\" height=\"312.482173pt\" viewBox=\"0 0 467.782875 312.482173\" xmlns=\"http://www.w3.org/2000/svg\" version=\"1.1\">\n <metadata>\n  <rdf:RDF xmlns:dc=\"http://purl.org/dc/elements/1.1/\" xmlns:cc=\"http://creativecommons.org/ns#\" xmlns:rdf=\"http://www.w3.org/1999/02/22-rdf-syntax-ns#\">\n   <cc:Work>\n    <dc:type rdf:resource=\"http://purl.org/dc/dcmitype/StillImage\"/>\n    <dc:date>2023-02-02T04:58:42.808946</dc:date>\n    <dc:format>image/svg+xml</dc:format>\n    <dc:creator>\n     <cc:Agent>\n      <dc:title>Matplotlib v3.6.3, https://matplotlib.org/</dc:title>\n     </cc:Agent>\n    </dc:creator>\n   </cc:Work>\n  </rdf:RDF>\n </metadata>\n <defs>\n  <style type=\"text/css\">*{stroke-linejoin: round; stroke-linecap: butt}</style>\n </defs>\n <g id=\"figure_1\">\n  <g id=\"patch_1\">\n   <path d=\"M 0 312.482173 \nL 467.782875 312.482173 \nL 467.782875 0 \nL 0 0 \nz\n\" style=\"fill: #f0f0f0\"/>\n  </g>\n  <g id=\"axes_1\">\n   <g id=\"patch_2\">\n    <path d=\"M 59.686875 288.232798 \nL 460.582875 288.232798 \nL 460.582875 8.296798 \nL 59.686875 8.296798 \nz\n\" style=\"fill: #f0f0f0\"/>\n   </g>\n   <g id=\"matplotlib.axis_1\">\n    <g id=\"xtick_1\">\n     <g id=\"line2d_1\">\n      <path d=\"M 77.909421 288.232798 \nL 77.909421 8.296798 \n\" clip-path=\"url(#p6ae824f16e)\" style=\"fill: none; stroke: #cbcbcb\"/>\n     </g>\n     <g id=\"line2d_2\"/>\n     <g id=\"text_1\">\n      <!-- $\\mathdefault{10^{-4}}$ -->\n      <g transform=\"translate(61.459421 302.37061) scale(0.14 -0.14)\">\n       <defs>\n        <path id=\"DejaVuSans-31\" d=\"M 794 531 \nL 1825 531 \nL 1825 4091 \nL 703 3866 \nL 703 4441 \nL 1819 4666 \nL 2450 4666 \nL 2450 531 \nL 3481 531 \nL 3481 0 \nL 794 0 \nL 794 531 \nz\n\" transform=\"scale(0.015625)\"/>\n        <path id=\"DejaVuSans-30\" d=\"M 2034 4250 \nQ 1547 4250 1301 3770 \nQ 1056 3291 1056 2328 \nQ 1056 1369 1301 889 \nQ 1547 409 2034 409 \nQ 2525 409 2770 889 \nQ 3016 1369 3016 2328 \nQ 3016 3291 2770 3770 \nQ 2525 4250 2034 4250 \nz\nM 2034 4750 \nQ 2819 4750 3233 4129 \nQ 3647 3509 3647 2328 \nQ 3647 1150 3233 529 \nQ 2819 -91 2034 -91 \nQ 1250 -91 836 529 \nQ 422 1150 422 2328 \nQ 422 3509 836 4129 \nQ 1250 4750 2034 4750 \nz\n\" transform=\"scale(0.015625)\"/>\n        <path id=\"DejaVuSans-2212\" d=\"M 678 2272 \nL 4684 2272 \nL 4684 1741 \nL 678 1741 \nL 678 2272 \nz\n\" transform=\"scale(0.015625)\"/>\n        <path id=\"DejaVuSans-34\" d=\"M 2419 4116 \nL 825 1625 \nL 2419 1625 \nL 2419 4116 \nz\nM 2253 4666 \nL 3047 4666 \nL 3047 1625 \nL 3713 1625 \nL 3713 1100 \nL 3047 1100 \nL 3047 0 \nL 2419 0 \nL 2419 1100 \nL 313 1100 \nL 313 1709 \nL 2253 4666 \nz\n\" transform=\"scale(0.015625)\"/>\n       </defs>\n       <use xlink:href=\"#DejaVuSans-31\" transform=\"translate(0 0.684375)\"/>\n       <use xlink:href=\"#DejaVuSans-30\" transform=\"translate(63.623047 0.684375)\"/>\n       <use xlink:href=\"#DejaVuSans-2212\" transform=\"translate(128.203125 38.965625) scale(0.7)\"/>\n       <use xlink:href=\"#DejaVuSans-34\" transform=\"translate(186.855469 38.965625) scale(0.7)\"/>\n      </g>\n     </g>\n    </g>\n    <g id=\"xtick_2\">\n     <g id=\"line2d_3\">\n      <path d=\"M 138.651239 288.232798 \nL 138.651239 8.296798 \n\" clip-path=\"url(#p6ae824f16e)\" style=\"fill: none; stroke: #cbcbcb\"/>\n     </g>\n     <g id=\"line2d_4\"/>\n     <g id=\"text_2\">\n      <!-- $\\mathdefault{10^{-3}}$ -->\n      <g transform=\"translate(122.201239 302.37061) scale(0.14 -0.14)\">\n       <defs>\n        <path id=\"DejaVuSans-33\" d=\"M 2597 2516 \nQ 3050 2419 3304 2112 \nQ 3559 1806 3559 1356 \nQ 3559 666 3084 287 \nQ 2609 -91 1734 -91 \nQ 1441 -91 1130 -33 \nQ 819 25 488 141 \nL 488 750 \nQ 750 597 1062 519 \nQ 1375 441 1716 441 \nQ 2309 441 2620 675 \nQ 2931 909 2931 1356 \nQ 2931 1769 2642 2001 \nQ 2353 2234 1838 2234 \nL 1294 2234 \nL 1294 2753 \nL 1863 2753 \nQ 2328 2753 2575 2939 \nQ 2822 3125 2822 3475 \nQ 2822 3834 2567 4026 \nQ 2313 4219 1838 4219 \nQ 1578 4219 1281 4162 \nQ 984 4106 628 3988 \nL 628 4550 \nQ 988 4650 1302 4700 \nQ 1616 4750 1894 4750 \nQ 2613 4750 3031 4423 \nQ 3450 4097 3450 3541 \nQ 3450 3153 3228 2886 \nQ 3006 2619 2597 2516 \nz\n\" transform=\"scale(0.015625)\"/>\n       </defs>\n       <use xlink:href=\"#DejaVuSans-31\" transform=\"translate(0 0.765625)\"/>\n       <use xlink:href=\"#DejaVuSans-30\" transform=\"translate(63.623047 0.765625)\"/>\n       <use xlink:href=\"#DejaVuSans-2212\" transform=\"translate(128.203125 39.046875) scale(0.7)\"/>\n       <use xlink:href=\"#DejaVuSans-33\" transform=\"translate(186.855469 39.046875) scale(0.7)\"/>\n      </g>\n     </g>\n    </g>\n    <g id=\"xtick_3\">\n     <g id=\"line2d_5\">\n      <path d=\"M 199.393057 288.232798 \nL 199.393057 8.296798 \n\" clip-path=\"url(#p6ae824f16e)\" style=\"fill: none; stroke: #cbcbcb\"/>\n     </g>\n     <g id=\"line2d_6\"/>\n     <g id=\"text_3\">\n      <!-- $\\mathdefault{10^{-2}}$ -->\n      <g transform=\"translate(182.943057 302.37061) scale(0.14 -0.14)\">\n       <defs>\n        <path id=\"DejaVuSans-32\" d=\"M 1228 531 \nL 3431 531 \nL 3431 0 \nL 469 0 \nL 469 531 \nQ 828 903 1448 1529 \nQ 2069 2156 2228 2338 \nQ 2531 2678 2651 2914 \nQ 2772 3150 2772 3378 \nQ 2772 3750 2511 3984 \nQ 2250 4219 1831 4219 \nQ 1534 4219 1204 4116 \nQ 875 4013 500 3803 \nL 500 4441 \nQ 881 4594 1212 4672 \nQ 1544 4750 1819 4750 \nQ 2544 4750 2975 4387 \nQ 3406 4025 3406 3419 \nQ 3406 3131 3298 2873 \nQ 3191 2616 2906 2266 \nQ 2828 2175 2409 1742 \nQ 1991 1309 1228 531 \nz\n\" transform=\"scale(0.015625)\"/>\n       </defs>\n       <use xlink:href=\"#DejaVuSans-31\" transform=\"translate(0 0.765625)\"/>\n       <use xlink:href=\"#DejaVuSans-30\" transform=\"translate(63.623047 0.765625)\"/>\n       <use xlink:href=\"#DejaVuSans-2212\" transform=\"translate(128.203125 39.046875) scale(0.7)\"/>\n       <use xlink:href=\"#DejaVuSans-32\" transform=\"translate(186.855469 39.046875) scale(0.7)\"/>\n      </g>\n     </g>\n    </g>\n    <g id=\"xtick_4\">\n     <g id=\"line2d_7\">\n      <path d=\"M 260.134875 288.232798 \nL 260.134875 8.296798 \n\" clip-path=\"url(#p6ae824f16e)\" style=\"fill: none; stroke: #cbcbcb\"/>\n     </g>\n     <g id=\"line2d_8\"/>\n     <g id=\"text_4\">\n      <!-- $\\mathdefault{10^{-1}}$ -->\n      <g transform=\"translate(243.684875 302.37061) scale(0.14 -0.14)\">\n       <use xlink:href=\"#DejaVuSans-31\" transform=\"translate(0 0.684375)\"/>\n       <use xlink:href=\"#DejaVuSans-30\" transform=\"translate(63.623047 0.684375)\"/>\n       <use xlink:href=\"#DejaVuSans-2212\" transform=\"translate(128.203125 38.965625) scale(0.7)\"/>\n       <use xlink:href=\"#DejaVuSans-31\" transform=\"translate(186.855469 38.965625) scale(0.7)\"/>\n      </g>\n     </g>\n    </g>\n    <g id=\"xtick_5\">\n     <g id=\"line2d_9\">\n      <path d=\"M 320.876693 288.232798 \nL 320.876693 8.296798 \n\" clip-path=\"url(#p6ae824f16e)\" style=\"fill: none; stroke: #cbcbcb\"/>\n     </g>\n     <g id=\"line2d_10\"/>\n     <g id=\"text_5\">\n      <!-- $\\mathdefault{10^{0}}$ -->\n      <g transform=\"translate(308.556693 302.37061) scale(0.14 -0.14)\">\n       <use xlink:href=\"#DejaVuSans-31\" transform=\"translate(0 0.765625)\"/>\n       <use xlink:href=\"#DejaVuSans-30\" transform=\"translate(63.623047 0.765625)\"/>\n       <use xlink:href=\"#DejaVuSans-30\" transform=\"translate(128.203125 39.046875) scale(0.7)\"/>\n      </g>\n     </g>\n    </g>\n    <g id=\"xtick_6\">\n     <g id=\"line2d_11\">\n      <path d=\"M 381.618511 288.232798 \nL 381.618511 8.296798 \n\" clip-path=\"url(#p6ae824f16e)\" style=\"fill: none; stroke: #cbcbcb\"/>\n     </g>\n     <g id=\"line2d_12\"/>\n     <g id=\"text_6\">\n      <!-- $\\mathdefault{10^{1}}$ -->\n      <g transform=\"translate(369.298511 302.37061) scale(0.14 -0.14)\">\n       <use xlink:href=\"#DejaVuSans-31\" transform=\"translate(0 0.684375)\"/>\n       <use xlink:href=\"#DejaVuSans-30\" transform=\"translate(63.623047 0.684375)\"/>\n       <use xlink:href=\"#DejaVuSans-31\" transform=\"translate(128.203125 38.965625) scale(0.7)\"/>\n      </g>\n     </g>\n    </g>\n    <g id=\"xtick_7\">\n     <g id=\"line2d_13\">\n      <path d=\"M 442.36033 288.232798 \nL 442.36033 8.296798 \n\" clip-path=\"url(#p6ae824f16e)\" style=\"fill: none; stroke: #cbcbcb\"/>\n     </g>\n     <g id=\"line2d_14\"/>\n     <g id=\"text_7\">\n      <!-- $\\mathdefault{10^{2}}$ -->\n      <g transform=\"translate(430.04033 302.37061) scale(0.14 -0.14)\">\n       <use xlink:href=\"#DejaVuSans-31\" transform=\"translate(0 0.765625)\"/>\n       <use xlink:href=\"#DejaVuSans-30\" transform=\"translate(63.623047 0.765625)\"/>\n       <use xlink:href=\"#DejaVuSans-32\" transform=\"translate(128.203125 39.046875) scale(0.7)\"/>\n      </g>\n     </g>\n    </g>\n    <g id=\"xtick_8\">\n     <g id=\"line2d_15\"/>\n    </g>\n    <g id=\"xtick_9\">\n     <g id=\"line2d_16\"/>\n    </g>\n    <g id=\"xtick_10\">\n     <g id=\"line2d_17\"/>\n    </g>\n    <g id=\"xtick_11\">\n     <g id=\"line2d_18\"/>\n    </g>\n    <g id=\"xtick_12\">\n     <g id=\"line2d_19\"/>\n    </g>\n    <g id=\"xtick_13\">\n     <g id=\"line2d_20\"/>\n    </g>\n    <g id=\"xtick_14\">\n     <g id=\"line2d_21\"/>\n    </g>\n    <g id=\"xtick_15\">\n     <g id=\"line2d_22\"/>\n    </g>\n    <g id=\"xtick_16\">\n     <g id=\"line2d_23\"/>\n    </g>\n    <g id=\"xtick_17\">\n     <g id=\"line2d_24\"/>\n    </g>\n    <g id=\"xtick_18\">\n     <g id=\"line2d_25\"/>\n    </g>\n    <g id=\"xtick_19\">\n     <g id=\"line2d_26\"/>\n    </g>\n    <g id=\"xtick_20\">\n     <g id=\"line2d_27\"/>\n    </g>\n    <g id=\"xtick_21\">\n     <g id=\"line2d_28\"/>\n    </g>\n    <g id=\"xtick_22\">\n     <g id=\"line2d_29\"/>\n    </g>\n    <g id=\"xtick_23\">\n     <g id=\"line2d_30\"/>\n    </g>\n    <g id=\"xtick_24\">\n     <g id=\"line2d_31\"/>\n    </g>\n    <g id=\"xtick_25\">\n     <g id=\"line2d_32\"/>\n    </g>\n    <g id=\"xtick_26\">\n     <g id=\"line2d_33\"/>\n    </g>\n    <g id=\"xtick_27\">\n     <g id=\"line2d_34\"/>\n    </g>\n    <g id=\"xtick_28\">\n     <g id=\"line2d_35\"/>\n    </g>\n    <g id=\"xtick_29\">\n     <g id=\"line2d_36\"/>\n    </g>\n    <g id=\"xtick_30\">\n     <g id=\"line2d_37\"/>\n    </g>\n    <g id=\"xtick_31\">\n     <g id=\"line2d_38\"/>\n    </g>\n    <g id=\"xtick_32\">\n     <g id=\"line2d_39\"/>\n    </g>\n    <g id=\"xtick_33\">\n     <g id=\"line2d_40\"/>\n    </g>\n    <g id=\"xtick_34\">\n     <g id=\"line2d_41\"/>\n    </g>\n    <g id=\"xtick_35\">\n     <g id=\"line2d_42\"/>\n    </g>\n    <g id=\"xtick_36\">\n     <g id=\"line2d_43\"/>\n    </g>\n    <g id=\"xtick_37\">\n     <g id=\"line2d_44\"/>\n    </g>\n    <g id=\"xtick_38\">\n     <g id=\"line2d_45\"/>\n    </g>\n    <g id=\"xtick_39\">\n     <g id=\"line2d_46\"/>\n    </g>\n    <g id=\"xtick_40\">\n     <g id=\"line2d_47\"/>\n    </g>\n    <g id=\"xtick_41\">\n     <g id=\"line2d_48\"/>\n    </g>\n    <g id=\"xtick_42\">\n     <g id=\"line2d_49\"/>\n    </g>\n    <g id=\"xtick_43\">\n     <g id=\"line2d_50\"/>\n    </g>\n    <g id=\"xtick_44\">\n     <g id=\"line2d_51\"/>\n    </g>\n    <g id=\"xtick_45\">\n     <g id=\"line2d_52\"/>\n    </g>\n    <g id=\"xtick_46\">\n     <g id=\"line2d_53\"/>\n    </g>\n    <g id=\"xtick_47\">\n     <g id=\"line2d_54\"/>\n    </g>\n    <g id=\"xtick_48\">\n     <g id=\"line2d_55\"/>\n    </g>\n    <g id=\"xtick_49\">\n     <g id=\"line2d_56\"/>\n    </g>\n    <g id=\"xtick_50\">\n     <g id=\"line2d_57\"/>\n    </g>\n    <g id=\"xtick_51\">\n     <g id=\"line2d_58\"/>\n    </g>\n    <g id=\"xtick_52\">\n     <g id=\"line2d_59\"/>\n    </g>\n    <g id=\"xtick_53\">\n     <g id=\"line2d_60\"/>\n    </g>\n    <g id=\"xtick_54\">\n     <g id=\"line2d_61\"/>\n    </g>\n    <g id=\"xtick_55\">\n     <g id=\"line2d_62\"/>\n    </g>\n    <g id=\"xtick_56\">\n     <g id=\"line2d_63\"/>\n    </g>\n    <g id=\"xtick_57\">\n     <g id=\"line2d_64\"/>\n    </g>\n    <g id=\"xtick_58\">\n     <g id=\"line2d_65\"/>\n    </g>\n    <g id=\"xtick_59\">\n     <g id=\"line2d_66\"/>\n    </g>\n   </g>\n   <g id=\"matplotlib.axis_2\">\n    <g id=\"ytick_1\">\n     <g id=\"line2d_67\">\n      <path d=\"M 59.686875 256.729803 \nL 460.582875 256.729803 \n\" clip-path=\"url(#p6ae824f16e)\" style=\"fill: none; stroke: #cbcbcb\"/>\n     </g>\n     <g id=\"line2d_68\"/>\n     <g id=\"text_8\">\n      <!-- 3.3135 -->\n      <g transform=\"translate(7.2 262.048709) scale(0.14 -0.14)\">\n       <defs>\n        <path id=\"DejaVuSans-2e\" d=\"M 684 794 \nL 1344 794 \nL 1344 0 \nL 684 0 \nL 684 794 \nz\n\" transform=\"scale(0.015625)\"/>\n        <path id=\"DejaVuSans-35\" d=\"M 691 4666 \nL 3169 4666 \nL 3169 4134 \nL 1269 4134 \nL 1269 2991 \nQ 1406 3038 1543 3061 \nQ 1681 3084 1819 3084 \nQ 2600 3084 3056 2656 \nQ 3513 2228 3513 1497 \nQ 3513 744 3044 326 \nQ 2575 -91 1722 -91 \nQ 1428 -91 1123 -41 \nQ 819 9 494 109 \nL 494 744 \nQ 775 591 1075 516 \nQ 1375 441 1709 441 \nQ 2250 441 2565 725 \nQ 2881 1009 2881 1497 \nQ 2881 1984 2565 2268 \nQ 2250 2553 1709 2553 \nQ 1456 2553 1204 2497 \nQ 953 2441 691 2322 \nL 691 4666 \nz\n\" transform=\"scale(0.015625)\"/>\n       </defs>\n       <use xlink:href=\"#DejaVuSans-33\"/>\n       <use xlink:href=\"#DejaVuSans-2e\" x=\"63.623047\"/>\n       <use xlink:href=\"#DejaVuSans-33\" x=\"95.410156\"/>\n       <use xlink:href=\"#DejaVuSans-31\" x=\"159.033203\"/>\n       <use xlink:href=\"#DejaVuSans-33\" x=\"222.65625\"/>\n       <use xlink:href=\"#DejaVuSans-35\" x=\"286.279297\"/>\n      </g>\n     </g>\n    </g>\n    <g id=\"ytick_2\">\n     <g id=\"line2d_69\">\n      <path d=\"M 59.686875 207.887623 \nL 460.582875 207.887623 \n\" clip-path=\"url(#p6ae824f16e)\" style=\"fill: none; stroke: #cbcbcb\"/>\n     </g>\n     <g id=\"line2d_70\"/>\n     <g id=\"text_9\">\n      <!-- 3.3140 -->\n      <g transform=\"translate(7.2 213.20653) scale(0.14 -0.14)\">\n       <use xlink:href=\"#DejaVuSans-33\"/>\n       <use xlink:href=\"#DejaVuSans-2e\" x=\"63.623047\"/>\n       <use xlink:href=\"#DejaVuSans-33\" x=\"95.410156\"/>\n       <use xlink:href=\"#DejaVuSans-31\" x=\"159.033203\"/>\n       <use xlink:href=\"#DejaVuSans-34\" x=\"222.65625\"/>\n       <use xlink:href=\"#DejaVuSans-30\" x=\"286.279297\"/>\n      </g>\n     </g>\n    </g>\n    <g id=\"ytick_3\">\n     <g id=\"line2d_71\">\n      <path d=\"M 59.686875 159.045444 \nL 460.582875 159.045444 \n\" clip-path=\"url(#p6ae824f16e)\" style=\"fill: none; stroke: #cbcbcb\"/>\n     </g>\n     <g id=\"line2d_72\"/>\n     <g id=\"text_10\">\n      <!-- 3.3145 -->\n      <g transform=\"translate(7.2 164.36435) scale(0.14 -0.14)\">\n       <use xlink:href=\"#DejaVuSans-33\"/>\n       <use xlink:href=\"#DejaVuSans-2e\" x=\"63.623047\"/>\n       <use xlink:href=\"#DejaVuSans-33\" x=\"95.410156\"/>\n       <use xlink:href=\"#DejaVuSans-31\" x=\"159.033203\"/>\n       <use xlink:href=\"#DejaVuSans-34\" x=\"222.65625\"/>\n       <use xlink:href=\"#DejaVuSans-35\" x=\"286.279297\"/>\n      </g>\n     </g>\n    </g>\n    <g id=\"ytick_4\">\n     <g id=\"line2d_73\">\n      <path d=\"M 59.686875 110.203265 \nL 460.582875 110.203265 \n\" clip-path=\"url(#p6ae824f16e)\" style=\"fill: none; stroke: #cbcbcb\"/>\n     </g>\n     <g id=\"line2d_74\"/>\n     <g id=\"text_11\">\n      <!-- 3.3150 -->\n      <g transform=\"translate(7.2 115.522171) scale(0.14 -0.14)\">\n       <use xlink:href=\"#DejaVuSans-33\"/>\n       <use xlink:href=\"#DejaVuSans-2e\" x=\"63.623047\"/>\n       <use xlink:href=\"#DejaVuSans-33\" x=\"95.410156\"/>\n       <use xlink:href=\"#DejaVuSans-31\" x=\"159.033203\"/>\n       <use xlink:href=\"#DejaVuSans-35\" x=\"222.65625\"/>\n       <use xlink:href=\"#DejaVuSans-30\" x=\"286.279297\"/>\n      </g>\n     </g>\n    </g>\n    <g id=\"ytick_5\">\n     <g id=\"line2d_75\">\n      <path d=\"M 59.686875 61.361086 \nL 460.582875 61.361086 \n\" clip-path=\"url(#p6ae824f16e)\" style=\"fill: none; stroke: #cbcbcb\"/>\n     </g>\n     <g id=\"line2d_76\"/>\n     <g id=\"text_12\">\n      <!-- 3.3155 -->\n      <g transform=\"translate(7.2 66.679992) scale(0.14 -0.14)\">\n       <use xlink:href=\"#DejaVuSans-33\"/>\n       <use xlink:href=\"#DejaVuSans-2e\" x=\"63.623047\"/>\n       <use xlink:href=\"#DejaVuSans-33\" x=\"95.410156\"/>\n       <use xlink:href=\"#DejaVuSans-31\" x=\"159.033203\"/>\n       <use xlink:href=\"#DejaVuSans-35\" x=\"222.65625\"/>\n       <use xlink:href=\"#DejaVuSans-35\" x=\"286.279297\"/>\n      </g>\n     </g>\n    </g>\n    <g id=\"ytick_6\">\n     <g id=\"line2d_77\">\n      <path d=\"M 59.686875 12.518906 \nL 460.582875 12.518906 \n\" clip-path=\"url(#p6ae824f16e)\" style=\"fill: none; stroke: #cbcbcb\"/>\n     </g>\n     <g id=\"line2d_78\"/>\n     <g id=\"text_13\">\n      <!-- 3.3160 -->\n      <g transform=\"translate(7.2 17.837812) scale(0.14 -0.14)\">\n       <defs>\n        <path id=\"DejaVuSans-36\" d=\"M 2113 2584 \nQ 1688 2584 1439 2293 \nQ 1191 2003 1191 1497 \nQ 1191 994 1439 701 \nQ 1688 409 2113 409 \nQ 2538 409 2786 701 \nQ 3034 994 3034 1497 \nQ 3034 2003 2786 2293 \nQ 2538 2584 2113 2584 \nz\nM 3366 4563 \nL 3366 3988 \nQ 3128 4100 2886 4159 \nQ 2644 4219 2406 4219 \nQ 1781 4219 1451 3797 \nQ 1122 3375 1075 2522 \nQ 1259 2794 1537 2939 \nQ 1816 3084 2150 3084 \nQ 2853 3084 3261 2657 \nQ 3669 2231 3669 1497 \nQ 3669 778 3244 343 \nQ 2819 -91 2113 -91 \nQ 1303 -91 875 529 \nQ 447 1150 447 2328 \nQ 447 3434 972 4092 \nQ 1497 4750 2381 4750 \nQ 2619 4750 2861 4703 \nQ 3103 4656 3366 4563 \nz\n\" transform=\"scale(0.015625)\"/>\n       </defs>\n       <use xlink:href=\"#DejaVuSans-33\"/>\n       <use xlink:href=\"#DejaVuSans-2e\" x=\"63.623047\"/>\n       <use xlink:href=\"#DejaVuSans-33\" x=\"95.410156\"/>\n       <use xlink:href=\"#DejaVuSans-31\" x=\"159.033203\"/>\n       <use xlink:href=\"#DejaVuSans-36\" x=\"222.65625\"/>\n       <use xlink:href=\"#DejaVuSans-30\" x=\"286.279297\"/>\n      </g>\n     </g>\n    </g>\n   </g>\n   <g id=\"line2d_79\">\n    <path d=\"M 77.90942 21.021161 \nL 80.065936 121.67953 \nL 82.22245 204.474648 \nL 84.378965 157.941695 \nL 86.535478 218.984172 \nL 88.691992 138.820798 \nL 90.848506 207.083102 \nL 93.00502 124.148245 \nL 95.161535 98.7624 \nL 97.31805 237.592695 \nL 99.474563 194.250441 \nL 101.631077 106.517892 \nL 103.787593 174.826776 \nL 105.944107 265.191068 \nL 108.100621 182.39595 \nL 110.257136 113.69114 \nL 112.41365 108.311204 \nL 114.570163 135.956156 \nL 116.726677 83.367865 \nL 118.883191 184.724926 \nL 121.039706 108.078307 \nL 123.196221 244.905682 \nL 125.352736 130.715959 \nL 127.50925 150.908186 \nL 129.665763 207.199551 \nL 131.822278 269.96547 \nL 133.978791 160.713178 \nL 136.135305 136.887747 \nL 140.448336 219.356808 \nL 142.604849 253.895531 \nL 144.761363 181.208172 \nL 146.917878 157.638929 \nL 149.074392 147.438011 \nL 151.230906 198.722076 \nL 153.387421 243.368557 \nL 155.543934 100.159786 \nL 157.700448 200.841444 \nL 159.856962 122.564541 \nL 162.013477 124.264694 \nL 164.169992 112.014277 \nL 166.326504 227.624675 \nL 168.483019 115.857088 \nL 170.639533 244.859102 \nL 172.796048 103.886149 \nL 174.952561 154.052305 \nL 177.109078 144.666529 \nL 179.26559 151.979515 \nL 181.422104 110.942948 \nL 183.57862 96.340265 \nL 185.735134 153.702958 \nL 187.891648 86.651722 \nL 190.048162 149.091584 \nL 192.204677 171.868976 \nL 194.36119 183.141222 \nL 196.517706 144.480211 \nL 198.674219 156.684048 \nL 200.830734 163.48466 \nL 202.987247 147.111954 \nL 205.143762 234.867792 \nL 207.300276 159.571979 \nL 209.456791 147.996965 \nL 211.613304 197.115082 \nL 213.769818 172.008714 \nL 215.926333 132.718879 \nL 218.082848 217.23744 \nL 220.239361 229.091931 \nL 222.395876 187.659437 \nL 224.552391 168.189193 \nL 226.708905 197.674036 \nL 228.865419 197.021923 \nL 231.021933 205.336369 \nL 233.178446 167.42063 \nL 235.334961 96.293685 \nL 237.491477 234.238969 \nL 239.64799 116.532492 \nL 241.804505 118.908048 \nL 243.961019 173.615708 \nL 246.117532 181.115013 \nL 248.274048 183.35083 \nL 250.430561 152.631629 \nL 252.587076 156.54431 \nL 254.74359 190.943294 \nL 256.900105 152.282282 \nL 259.056618 196.136912 \nL 261.213133 169.982505 \nL 263.369647 119.63003 \nL 265.526161 135.350623 \nL 267.682676 177.202332 \nL 269.839189 137.120645 \nL 271.995704 192.480418 \nL 274.152217 197.697326 \nL 276.308731 183.607018 \nL 278.465246 224.364108 \nL 280.621761 130.6228 \nL 282.778276 111.175845 \nL 284.934789 200.841444 \nL 287.091303 195.764275 \nL 289.247817 198.722076 \nL 291.404333 126.127875 \nL 293.560846 172.45122 \nL 295.717361 204.823994 \nL 297.873875 167.024704 \nL 300.030389 147.950386 \nL 302.186902 130.762539 \nL 304.343416 210.343669 \nL 306.499932 184.515318 \nL 308.656445 140.264763 \nL 310.81296 126.058006 \nL 312.969473 80.89915 \nL 315.125988 118.72173 \nL 317.282502 174.756907 \nL 319.439016 194.809395 \nL 321.595533 229.720754 \nL 323.752045 146.413261 \nL 325.90856 140.986746 \nL 328.065075 223.292779 \nL 330.221589 79.711372 \nL 332.378103 217.307309 \nL 334.534617 157.569059 \nL 336.691131 212.928833 \nL 338.847645 84.85841 \nL 341.004161 170.261982 \nL 343.160674 133.557311 \nL 345.317188 159.245922 \nL 347.473702 149.277903 \nL 349.630217 117.603821 \nL 351.786731 132.090055 \nL 353.943246 151.164374 \nL 356.099759 218.378638 \nL 358.256272 88.561483 \nL 360.412787 164.276512 \nL 362.569301 192.457129 \nL 364.725816 214.698855 \nL 366.882331 176.969434 \nL 369.038845 104.608131 \nL 371.195359 114.878918 \nL 373.351874 169.679738 \nL 375.508387 189.31301 \nL 377.664902 149.347772 \nL 379.821416 168.42209 \nL 381.977931 269.639413 \nL 384.134446 105.260245 \nL 386.290958 119.397133 \nL 388.447473 71.420215 \nL 390.603988 234.588315 \nL 392.760502 151.956226 \nL 394.917015 147.205113 \nL 397.073531 144.969296 \nL 399.230046 149.045005 \nL 401.386558 212.416458 \nL 403.543074 90.960329 \nL 405.699587 160.061064 \nL 407.856101 236.172019 \nL 410.012616 275.508434 \nL 412.169129 171.845686 \nL 414.325643 191.735146 \nL 416.482159 128.503431 \nL 418.638672 140.055155 \nL 420.795188 209.551817 \nL 422.951701 208.131141 \nL 425.108215 159.036314 \nL 427.264729 156.055224 \nL 429.421244 170.541459 \nL 431.577757 166.652068 \nL 433.734271 231.09485 \nL 435.890787 111.105976 \nL 438.047302 156.567599 \nL 440.203815 108.75371 \nL 442.36033 189.476039 \nL 442.36033 189.476039 \n\" clip-path=\"url(#p6ae824f16e)\" style=\"fill: none; stroke: #008fd5; stroke-width: 4\"/>\n   </g>\n   <g id=\"patch_3\">\n    <path d=\"M 59.686875 288.232798 \nL 59.686875 8.296798 \n\" style=\"fill: none; stroke: #f0f0f0; stroke-width: 3; stroke-linejoin: miter; stroke-linecap: square\"/>\n   </g>\n   <g id=\"patch_4\">\n    <path d=\"M 460.582875 288.232798 \nL 460.582875 8.296798 \n\" style=\"fill: none; stroke: #f0f0f0; stroke-width: 3; stroke-linejoin: miter; stroke-linecap: square\"/>\n   </g>\n   <g id=\"patch_5\">\n    <path d=\"M 59.686875 288.232798 \nL 460.582875 288.232798 \n\" style=\"fill: none; stroke: #f0f0f0; stroke-width: 3; stroke-linejoin: miter; stroke-linecap: square\"/>\n   </g>\n   <g id=\"patch_6\">\n    <path d=\"M 59.686875 8.296798 \nL 460.582875 8.296798 \n\" style=\"fill: none; stroke: #f0f0f0; stroke-width: 3; stroke-linejoin: miter; stroke-linecap: square\"/>\n   </g>\n  </g>\n </g>\n <defs>\n  <clipPath id=\"p6ae824f16e\">\n   <rect x=\"59.686875\" y=\"8.296798\" width=\"400.896\" height=\"279.936\"/>\n  </clipPath>\n </defs>\n</svg>\n",
      "text/plain": [
       "<Figure size 640x480 with 1 Axes>"
      ]
     },
     "metadata": {},
     "output_type": "display_data"
    }
   ],
   "source": [
    "plt.semilogx(lr, losses)"
   ]
  },
  {
   "cell_type": "code",
   "execution_count": 64,
   "metadata": {},
   "outputs": [
    {
     "name": "stdout",
     "output_type": "stream",
     "text": [
      "Model \"RNNLM\" has 8860 parameters\n",
      "Epoch   0 has train loss 3.3153\n",
      "Epoch   1 has train loss 2.7693\n",
      "Epoch   2 has train loss 2.5084\n",
      "Epoch   3 has train loss 2.3045\n",
      "Epoch   4 has train loss 2.2154\n",
      "Epoch   5 has train loss 2.1402\n",
      "Epoch   6 has train loss 2.1014\n",
      "Epoch   7 has train loss 2.0617\n",
      "Epoch   8 has train loss 2.0118\n",
      "Epoch   9 has train loss 1.9761\n",
      "Epoch  10 has train loss 1.9414\n",
      "Epoch  11 has train loss 1.9048\n",
      "Epoch  12 has train loss 1.9037\n",
      "Epoch  13 has train loss 1.8580\n",
      "Epoch  14 has train loss 1.8321\n",
      "Epoch  15 has train loss 1.7931\n",
      "Epoch  16 has train loss 1.7899\n",
      "Epoch  17 has train loss 1.7716\n",
      "Epoch  18 has train loss 1.7492\n",
      "Epoch  19 has train loss 1.7496\n",
      "Epoch  20 has train loss 1.7323\n",
      "Epoch  21 has train loss 1.7382\n",
      "Epoch  22 has train loss 1.7207\n",
      "Epoch  23 has train loss 1.7028\n",
      "Epoch  24 has train loss 1.6878\n",
      "Epoch  25 has train loss 1.6848\n"
     ]
    },
    {
     "data": {
      "image/svg+xml": "<?xml version=\"1.0\" encoding=\"utf-8\" standalone=\"no\"?>\n<!DOCTYPE svg PUBLIC \"-//W3C//DTD SVG 1.1//EN\"\n  \"http://www.w3.org/Graphics/SVG/1.1/DTD/svg11.dtd\">\n<svg xmlns:xlink=\"http://www.w3.org/1999/xlink\" width=\"449.967875pt\" height=\"336.963531pt\" viewBox=\"0 0 449.967875 336.963531\" xmlns=\"http://www.w3.org/2000/svg\" version=\"1.1\">\n <metadata>\n  <rdf:RDF xmlns:dc=\"http://purl.org/dc/elements/1.1/\" xmlns:cc=\"http://creativecommons.org/ns#\" xmlns:rdf=\"http://www.w3.org/1999/02/22-rdf-syntax-ns#\">\n   <cc:Work>\n    <dc:type rdf:resource=\"http://purl.org/dc/dcmitype/StillImage\"/>\n    <dc:date>2023-02-02T05:27:07.467875</dc:date>\n    <dc:format>image/svg+xml</dc:format>\n    <dc:creator>\n     <cc:Agent>\n      <dc:title>Matplotlib v3.6.3, https://matplotlib.org/</dc:title>\n     </cc:Agent>\n    </dc:creator>\n   </cc:Work>\n  </rdf:RDF>\n </metadata>\n <defs>\n  <style type=\"text/css\">*{stroke-linejoin: round; stroke-linecap: butt}</style>\n </defs>\n <g id=\"figure_1\">\n  <g id=\"patch_1\">\n   <path d=\"M 0 336.963531 \nL 449.967875 336.963531 \nL 449.967875 0 \nL 0 0 \nz\n\" style=\"fill: #f0f0f0\"/>\n  </g>\n  <g id=\"axes_1\">\n   <g id=\"patch_2\">\n    <path d=\"M 41.871875 292.454906 \nL 442.767875 292.454906 \nL 442.767875 12.518906 \nL 41.871875 12.518906 \nz\n\" style=\"fill: #f0f0f0\"/>\n   </g>\n   <g id=\"matplotlib.axis_1\">\n    <g id=\"xtick_1\">\n     <g id=\"line2d_1\">\n      <path d=\"M 60.09442 292.454906 \nL 60.09442 12.518906 \n\" clip-path=\"url(#pd36535c646)\" style=\"fill: none; stroke: #cbcbcb\"/>\n     </g>\n     <g id=\"line2d_2\"/>\n     <g id=\"text_1\">\n      <!-- 0 -->\n      <g transform=\"translate(55.64067 306.592719) scale(0.14 -0.14)\">\n       <defs>\n        <path id=\"DejaVuSans-30\" d=\"M 2034 4250 \nQ 1547 4250 1301 3770 \nQ 1056 3291 1056 2328 \nQ 1056 1369 1301 889 \nQ 1547 409 2034 409 \nQ 2525 409 2770 889 \nQ 3016 1369 3016 2328 \nQ 3016 3291 2770 3770 \nQ 2525 4250 2034 4250 \nz\nM 2034 4750 \nQ 2819 4750 3233 4129 \nQ 3647 3509 3647 2328 \nQ 3647 1150 3233 529 \nQ 2819 -91 2034 -91 \nQ 1250 -91 836 529 \nQ 422 1150 422 2328 \nQ 422 3509 836 4129 \nQ 1250 4750 2034 4750 \nz\n\" transform=\"scale(0.015625)\"/>\n       </defs>\n       <use xlink:href=\"#DejaVuSans-30\"/>\n      </g>\n     </g>\n    </g>\n    <g id=\"xtick_2\">\n     <g id=\"line2d_3\">\n      <path d=\"M 132.984602 292.454906 \nL 132.984602 12.518906 \n\" clip-path=\"url(#pd36535c646)\" style=\"fill: none; stroke: #cbcbcb\"/>\n     </g>\n     <g id=\"line2d_4\"/>\n     <g id=\"text_2\">\n      <!-- 5 -->\n      <g transform=\"translate(128.530852 306.592719) scale(0.14 -0.14)\">\n       <defs>\n        <path id=\"DejaVuSans-35\" d=\"M 691 4666 \nL 3169 4666 \nL 3169 4134 \nL 1269 4134 \nL 1269 2991 \nQ 1406 3038 1543 3061 \nQ 1681 3084 1819 3084 \nQ 2600 3084 3056 2656 \nQ 3513 2228 3513 1497 \nQ 3513 744 3044 326 \nQ 2575 -91 1722 -91 \nQ 1428 -91 1123 -41 \nQ 819 9 494 109 \nL 494 744 \nQ 775 591 1075 516 \nQ 1375 441 1709 441 \nQ 2250 441 2565 725 \nQ 2881 1009 2881 1497 \nQ 2881 1984 2565 2268 \nQ 2250 2553 1709 2553 \nQ 1456 2553 1204 2497 \nQ 953 2441 691 2322 \nL 691 4666 \nz\n\" transform=\"scale(0.015625)\"/>\n       </defs>\n       <use xlink:href=\"#DejaVuSans-35\"/>\n      </g>\n     </g>\n    </g>\n    <g id=\"xtick_3\">\n     <g id=\"line2d_5\">\n      <path d=\"M 205.874784 292.454906 \nL 205.874784 12.518906 \n\" clip-path=\"url(#pd36535c646)\" style=\"fill: none; stroke: #cbcbcb\"/>\n     </g>\n     <g id=\"line2d_6\"/>\n     <g id=\"text_3\">\n      <!-- 10 -->\n      <g transform=\"translate(196.967284 306.592719) scale(0.14 -0.14)\">\n       <defs>\n        <path id=\"DejaVuSans-31\" d=\"M 794 531 \nL 1825 531 \nL 1825 4091 \nL 703 3866 \nL 703 4441 \nL 1819 4666 \nL 2450 4666 \nL 2450 531 \nL 3481 531 \nL 3481 0 \nL 794 0 \nL 794 531 \nz\n\" transform=\"scale(0.015625)\"/>\n       </defs>\n       <use xlink:href=\"#DejaVuSans-31\"/>\n       <use xlink:href=\"#DejaVuSans-30\" x=\"63.623047\"/>\n      </g>\n     </g>\n    </g>\n    <g id=\"xtick_4\">\n     <g id=\"line2d_7\">\n      <path d=\"M 278.764966 292.454906 \nL 278.764966 12.518906 \n\" clip-path=\"url(#pd36535c646)\" style=\"fill: none; stroke: #cbcbcb\"/>\n     </g>\n     <g id=\"line2d_8\"/>\n     <g id=\"text_4\">\n      <!-- 15 -->\n      <g transform=\"translate(269.857466 306.592719) scale(0.14 -0.14)\">\n       <use xlink:href=\"#DejaVuSans-31\"/>\n       <use xlink:href=\"#DejaVuSans-35\" x=\"63.623047\"/>\n      </g>\n     </g>\n    </g>\n    <g id=\"xtick_5\">\n     <g id=\"line2d_9\">\n      <path d=\"M 351.655148 292.454906 \nL 351.655148 12.518906 \n\" clip-path=\"url(#pd36535c646)\" style=\"fill: none; stroke: #cbcbcb\"/>\n     </g>\n     <g id=\"line2d_10\"/>\n     <g id=\"text_5\">\n      <!-- 20 -->\n      <g transform=\"translate(342.747648 306.592719) scale(0.14 -0.14)\">\n       <defs>\n        <path id=\"DejaVuSans-32\" d=\"M 1228 531 \nL 3431 531 \nL 3431 0 \nL 469 0 \nL 469 531 \nQ 828 903 1448 1529 \nQ 2069 2156 2228 2338 \nQ 2531 2678 2651 2914 \nQ 2772 3150 2772 3378 \nQ 2772 3750 2511 3984 \nQ 2250 4219 1831 4219 \nQ 1534 4219 1204 4116 \nQ 875 4013 500 3803 \nL 500 4441 \nQ 881 4594 1212 4672 \nQ 1544 4750 1819 4750 \nQ 2544 4750 2975 4387 \nQ 3406 4025 3406 3419 \nQ 3406 3131 3298 2873 \nQ 3191 2616 2906 2266 \nQ 2828 2175 2409 1742 \nQ 1991 1309 1228 531 \nz\n\" transform=\"scale(0.015625)\"/>\n       </defs>\n       <use xlink:href=\"#DejaVuSans-32\"/>\n       <use xlink:href=\"#DejaVuSans-30\" x=\"63.623047\"/>\n      </g>\n     </g>\n    </g>\n    <g id=\"xtick_6\">\n     <g id=\"line2d_11\">\n      <path d=\"M 424.54533 292.454906 \nL 424.54533 12.518906 \n\" clip-path=\"url(#pd36535c646)\" style=\"fill: none; stroke: #cbcbcb\"/>\n     </g>\n     <g id=\"line2d_12\"/>\n     <g id=\"text_6\">\n      <!-- 25 -->\n      <g transform=\"translate(415.63783 306.592719) scale(0.14 -0.14)\">\n       <use xlink:href=\"#DejaVuSans-32\"/>\n       <use xlink:href=\"#DejaVuSans-35\" x=\"63.623047\"/>\n      </g>\n     </g>\n    </g>\n    <g id=\"text_7\">\n     <!-- Epochs -->\n     <g transform=\"translate(212.221625 326.269656) scale(0.168 -0.168)\">\n      <defs>\n       <path id=\"DejaVuSans-45\" d=\"M 628 4666 \nL 3578 4666 \nL 3578 4134 \nL 1259 4134 \nL 1259 2753 \nL 3481 2753 \nL 3481 2222 \nL 1259 2222 \nL 1259 531 \nL 3634 531 \nL 3634 0 \nL 628 0 \nL 628 4666 \nz\n\" transform=\"scale(0.015625)\"/>\n       <path id=\"DejaVuSans-70\" d=\"M 1159 525 \nL 1159 -1331 \nL 581 -1331 \nL 581 3500 \nL 1159 3500 \nL 1159 2969 \nQ 1341 3281 1617 3432 \nQ 1894 3584 2278 3584 \nQ 2916 3584 3314 3078 \nQ 3713 2572 3713 1747 \nQ 3713 922 3314 415 \nQ 2916 -91 2278 -91 \nQ 1894 -91 1617 61 \nQ 1341 213 1159 525 \nz\nM 3116 1747 \nQ 3116 2381 2855 2742 \nQ 2594 3103 2138 3103 \nQ 1681 3103 1420 2742 \nQ 1159 2381 1159 1747 \nQ 1159 1113 1420 752 \nQ 1681 391 2138 391 \nQ 2594 391 2855 752 \nQ 3116 1113 3116 1747 \nz\n\" transform=\"scale(0.015625)\"/>\n       <path id=\"DejaVuSans-6f\" d=\"M 1959 3097 \nQ 1497 3097 1228 2736 \nQ 959 2375 959 1747 \nQ 959 1119 1226 758 \nQ 1494 397 1959 397 \nQ 2419 397 2687 759 \nQ 2956 1122 2956 1747 \nQ 2956 2369 2687 2733 \nQ 2419 3097 1959 3097 \nz\nM 1959 3584 \nQ 2709 3584 3137 3096 \nQ 3566 2609 3566 1747 \nQ 3566 888 3137 398 \nQ 2709 -91 1959 -91 \nQ 1206 -91 779 398 \nQ 353 888 353 1747 \nQ 353 2609 779 3096 \nQ 1206 3584 1959 3584 \nz\n\" transform=\"scale(0.015625)\"/>\n       <path id=\"DejaVuSans-63\" d=\"M 3122 3366 \nL 3122 2828 \nQ 2878 2963 2633 3030 \nQ 2388 3097 2138 3097 \nQ 1578 3097 1268 2742 \nQ 959 2388 959 1747 \nQ 959 1106 1268 751 \nQ 1578 397 2138 397 \nQ 2388 397 2633 464 \nQ 2878 531 3122 666 \nL 3122 134 \nQ 2881 22 2623 -34 \nQ 2366 -91 2075 -91 \nQ 1284 -91 818 406 \nQ 353 903 353 1747 \nQ 353 2603 823 3093 \nQ 1294 3584 2113 3584 \nQ 2378 3584 2631 3529 \nQ 2884 3475 3122 3366 \nz\n\" transform=\"scale(0.015625)\"/>\n       <path id=\"DejaVuSans-68\" d=\"M 3513 2113 \nL 3513 0 \nL 2938 0 \nL 2938 2094 \nQ 2938 2591 2744 2837 \nQ 2550 3084 2163 3084 \nQ 1697 3084 1428 2787 \nQ 1159 2491 1159 1978 \nL 1159 0 \nL 581 0 \nL 581 4863 \nL 1159 4863 \nL 1159 2956 \nQ 1366 3272 1645 3428 \nQ 1925 3584 2291 3584 \nQ 2894 3584 3203 3211 \nQ 3513 2838 3513 2113 \nz\n\" transform=\"scale(0.015625)\"/>\n       <path id=\"DejaVuSans-73\" d=\"M 2834 3397 \nL 2834 2853 \nQ 2591 2978 2328 3040 \nQ 2066 3103 1784 3103 \nQ 1356 3103 1142 2972 \nQ 928 2841 928 2578 \nQ 928 2378 1081 2264 \nQ 1234 2150 1697 2047 \nL 1894 2003 \nQ 2506 1872 2764 1633 \nQ 3022 1394 3022 966 \nQ 3022 478 2636 193 \nQ 2250 -91 1575 -91 \nQ 1294 -91 989 -36 \nQ 684 19 347 128 \nL 347 722 \nQ 666 556 975 473 \nQ 1284 391 1588 391 \nQ 1994 391 2212 530 \nQ 2431 669 2431 922 \nQ 2431 1156 2273 1281 \nQ 2116 1406 1581 1522 \nL 1381 1569 \nQ 847 1681 609 1914 \nQ 372 2147 372 2553 \nQ 372 3047 722 3315 \nQ 1072 3584 1716 3584 \nQ 2034 3584 2315 3537 \nQ 2597 3491 2834 3397 \nz\n\" transform=\"scale(0.015625)\"/>\n      </defs>\n      <use xlink:href=\"#DejaVuSans-45\"/>\n      <use xlink:href=\"#DejaVuSans-70\" x=\"63.183594\"/>\n      <use xlink:href=\"#DejaVuSans-6f\" x=\"126.660156\"/>\n      <use xlink:href=\"#DejaVuSans-63\" x=\"187.841797\"/>\n      <use xlink:href=\"#DejaVuSans-68\" x=\"242.822266\"/>\n      <use xlink:href=\"#DejaVuSans-73\" x=\"306.201172\"/>\n     </g>\n    </g>\n   </g>\n   <g id=\"matplotlib.axis_2\">\n    <g id=\"ytick_1\">\n     <g id=\"line2d_13\">\n      <path d=\"M 41.871875 292.454906 \nL 442.767875 292.454906 \n\" clip-path=\"url(#pd36535c646)\" style=\"fill: none; stroke: #cbcbcb\"/>\n     </g>\n     <g id=\"line2d_14\"/>\n     <g id=\"text_8\">\n      <!-- 0.00 -->\n      <g transform=\"translate(7.2 297.773812) scale(0.14 -0.14)\">\n       <defs>\n        <path id=\"DejaVuSans-2e\" d=\"M 684 794 \nL 1344 794 \nL 1344 0 \nL 684 0 \nL 684 794 \nz\n\" transform=\"scale(0.015625)\"/>\n       </defs>\n       <use xlink:href=\"#DejaVuSans-30\"/>\n       <use xlink:href=\"#DejaVuSans-2e\" x=\"63.623047\"/>\n       <use xlink:href=\"#DejaVuSans-30\" x=\"95.410156\"/>\n       <use xlink:href=\"#DejaVuSans-30\" x=\"159.033203\"/>\n      </g>\n     </g>\n    </g>\n    <g id=\"ytick_2\">\n     <g id=\"line2d_15\">\n      <path d=\"M 41.871875 257.462906 \nL 442.767875 257.462906 \n\" clip-path=\"url(#pd36535c646)\" style=\"fill: none; stroke: #cbcbcb\"/>\n     </g>\n     <g id=\"line2d_16\"/>\n     <g id=\"text_9\">\n      <!-- 0.25 -->\n      <g transform=\"translate(7.2 262.781812) scale(0.14 -0.14)\">\n       <use xlink:href=\"#DejaVuSans-30\"/>\n       <use xlink:href=\"#DejaVuSans-2e\" x=\"63.623047\"/>\n       <use xlink:href=\"#DejaVuSans-32\" x=\"95.410156\"/>\n       <use xlink:href=\"#DejaVuSans-35\" x=\"159.033203\"/>\n      </g>\n     </g>\n    </g>\n    <g id=\"ytick_3\">\n     <g id=\"line2d_17\">\n      <path d=\"M 41.871875 222.470906 \nL 442.767875 222.470906 \n\" clip-path=\"url(#pd36535c646)\" style=\"fill: none; stroke: #cbcbcb\"/>\n     </g>\n     <g id=\"line2d_18\"/>\n     <g id=\"text_10\">\n      <!-- 0.50 -->\n      <g transform=\"translate(7.2 227.789812) scale(0.14 -0.14)\">\n       <use xlink:href=\"#DejaVuSans-30\"/>\n       <use xlink:href=\"#DejaVuSans-2e\" x=\"63.623047\"/>\n       <use xlink:href=\"#DejaVuSans-35\" x=\"95.410156\"/>\n       <use xlink:href=\"#DejaVuSans-30\" x=\"159.033203\"/>\n      </g>\n     </g>\n    </g>\n    <g id=\"ytick_4\">\n     <g id=\"line2d_19\">\n      <path d=\"M 41.871875 187.478906 \nL 442.767875 187.478906 \n\" clip-path=\"url(#pd36535c646)\" style=\"fill: none; stroke: #cbcbcb\"/>\n     </g>\n     <g id=\"line2d_20\"/>\n     <g id=\"text_11\">\n      <!-- 0.75 -->\n      <g transform=\"translate(7.2 192.797812) scale(0.14 -0.14)\">\n       <defs>\n        <path id=\"DejaVuSans-37\" d=\"M 525 4666 \nL 3525 4666 \nL 3525 4397 \nL 1831 0 \nL 1172 0 \nL 2766 4134 \nL 525 4134 \nL 525 4666 \nz\n\" transform=\"scale(0.015625)\"/>\n       </defs>\n       <use xlink:href=\"#DejaVuSans-30\"/>\n       <use xlink:href=\"#DejaVuSans-2e\" x=\"63.623047\"/>\n       <use xlink:href=\"#DejaVuSans-37\" x=\"95.410156\"/>\n       <use xlink:href=\"#DejaVuSans-35\" x=\"159.033203\"/>\n      </g>\n     </g>\n    </g>\n    <g id=\"ytick_5\">\n     <g id=\"line2d_21\">\n      <path d=\"M 41.871875 152.486906 \nL 442.767875 152.486906 \n\" clip-path=\"url(#pd36535c646)\" style=\"fill: none; stroke: #cbcbcb\"/>\n     </g>\n     <g id=\"line2d_22\"/>\n     <g id=\"text_12\">\n      <!-- 1.00 -->\n      <g transform=\"translate(7.2 157.805812) scale(0.14 -0.14)\">\n       <use xlink:href=\"#DejaVuSans-31\"/>\n       <use xlink:href=\"#DejaVuSans-2e\" x=\"63.623047\"/>\n       <use xlink:href=\"#DejaVuSans-30\" x=\"95.410156\"/>\n       <use xlink:href=\"#DejaVuSans-30\" x=\"159.033203\"/>\n      </g>\n     </g>\n    </g>\n    <g id=\"ytick_6\">\n     <g id=\"line2d_23\">\n      <path d=\"M 41.871875 117.494906 \nL 442.767875 117.494906 \n\" clip-path=\"url(#pd36535c646)\" style=\"fill: none; stroke: #cbcbcb\"/>\n     </g>\n     <g id=\"line2d_24\"/>\n     <g id=\"text_13\">\n      <!-- 1.25 -->\n      <g transform=\"translate(7.2 122.813812) scale(0.14 -0.14)\">\n       <use xlink:href=\"#DejaVuSans-31\"/>\n       <use xlink:href=\"#DejaVuSans-2e\" x=\"63.623047\"/>\n       <use xlink:href=\"#DejaVuSans-32\" x=\"95.410156\"/>\n       <use xlink:href=\"#DejaVuSans-35\" x=\"159.033203\"/>\n      </g>\n     </g>\n    </g>\n    <g id=\"ytick_7\">\n     <g id=\"line2d_25\">\n      <path d=\"M 41.871875 82.502906 \nL 442.767875 82.502906 \n\" clip-path=\"url(#pd36535c646)\" style=\"fill: none; stroke: #cbcbcb\"/>\n     </g>\n     <g id=\"line2d_26\"/>\n     <g id=\"text_14\">\n      <!-- 1.50 -->\n      <g transform=\"translate(7.2 87.821812) scale(0.14 -0.14)\">\n       <use xlink:href=\"#DejaVuSans-31\"/>\n       <use xlink:href=\"#DejaVuSans-2e\" x=\"63.623047\"/>\n       <use xlink:href=\"#DejaVuSans-35\" x=\"95.410156\"/>\n       <use xlink:href=\"#DejaVuSans-30\" x=\"159.033203\"/>\n      </g>\n     </g>\n    </g>\n    <g id=\"ytick_8\">\n     <g id=\"line2d_27\">\n      <path d=\"M 41.871875 47.510906 \nL 442.767875 47.510906 \n\" clip-path=\"url(#pd36535c646)\" style=\"fill: none; stroke: #cbcbcb\"/>\n     </g>\n     <g id=\"line2d_28\"/>\n     <g id=\"text_15\">\n      <!-- 1.75 -->\n      <g transform=\"translate(7.2 52.829812) scale(0.14 -0.14)\">\n       <use xlink:href=\"#DejaVuSans-31\"/>\n       <use xlink:href=\"#DejaVuSans-2e\" x=\"63.623047\"/>\n       <use xlink:href=\"#DejaVuSans-37\" x=\"95.410156\"/>\n       <use xlink:href=\"#DejaVuSans-35\" x=\"159.033203\"/>\n      </g>\n     </g>\n    </g>\n    <g id=\"ytick_9\">\n     <g id=\"line2d_29\">\n      <path d=\"M 41.871875 12.518906 \nL 442.767875 12.518906 \n\" clip-path=\"url(#pd36535c646)\" style=\"fill: none; stroke: #cbcbcb\"/>\n     </g>\n     <g id=\"line2d_30\"/>\n     <g id=\"text_16\">\n      <!-- 2.00 -->\n      <g transform=\"translate(7.2 17.837812) scale(0.14 -0.14)\">\n       <use xlink:href=\"#DejaVuSans-32\"/>\n       <use xlink:href=\"#DejaVuSans-2e\" x=\"63.623047\"/>\n       <use xlink:href=\"#DejaVuSans-30\" x=\"95.410156\"/>\n       <use xlink:href=\"#DejaVuSans-30\" x=\"159.033203\"/>\n      </g>\n     </g>\n    </g>\n   </g>\n   <g id=\"line2d_31\">\n    <path d=\"M 149.324658 -1 \nL 162.140675 3.886804 \nL 176.718711 10.874151 \nL 191.296748 15.870887 \nL 205.874784 20.718488 \nL 220.45282 25.842884 \nL 235.030857 25.992519 \nL 249.608893 32.401164 \nL 264.18693 36.023717 \nL 278.764966 41.472612 \nL 293.343002 41.926908 \nL 307.921039 44.482591 \nL 322.499075 47.618578 \nL 337.077111 47.570423 \nL 351.655148 49.98488 \nL 366.233184 49.155962 \nL 380.81122 51.608311 \nL 395.389257 54.120444 \nL 409.967293 56.214389 \nL 424.54533 56.634663 \n\" clip-path=\"url(#pd36535c646)\" style=\"fill: none; stroke: #008fd5; stroke-width: 4\"/>\n   </g>\n   <g id=\"line2d_32\">\n    <path d=\"M 144.390998 -1 \nL 147.562639 0.685193 \nL 162.140675 5.203989 \nL 176.718711 10.928913 \nL 191.296748 16.957012 \nL 205.874784 21.76662 \nL 220.45282 24.998949 \nL 235.030857 29.75815 \nL 249.608893 32.593264 \nL 264.18693 36.253526 \nL 278.764966 40.067611 \nL 293.343002 41.680614 \nL 307.921039 42.826323 \nL 322.499075 45.74947 \nL 337.077111 46.2641 \nL 351.655148 49.772057 \nL 366.233184 51.980064 \nL 380.81122 53.456312 \nL 395.389257 55.426801 \nL 409.967293 56.520752 \nL 424.54533 58.189517 \n\" clip-path=\"url(#pd36535c646)\" style=\"fill: none; stroke-dasharray: 14.8,6.4; stroke-dashoffset: 0; stroke: #fc4f30; stroke-width: 4\"/>\n   </g>\n   <g id=\"patch_3\">\n    <path d=\"M 41.871875 292.454906 \nL 41.871875 12.518906 \n\" style=\"fill: none; stroke: #f0f0f0; stroke-width: 3; stroke-linejoin: miter; stroke-linecap: square\"/>\n   </g>\n   <g id=\"patch_4\">\n    <path d=\"M 442.767875 292.454906 \nL 442.767875 12.518906 \n\" style=\"fill: none; stroke: #f0f0f0; stroke-width: 3; stroke-linejoin: miter; stroke-linecap: square\"/>\n   </g>\n   <g id=\"patch_5\">\n    <path d=\"M 41.871875 292.454906 \nL 442.767875 292.454906 \n\" style=\"fill: none; stroke: #f0f0f0; stroke-width: 3; stroke-linejoin: miter; stroke-linecap: square\"/>\n   </g>\n   <g id=\"patch_6\">\n    <path d=\"M 41.871875 12.518906 \nL 442.767875 12.518906 \n\" style=\"fill: none; stroke: #f0f0f0; stroke-width: 3; stroke-linejoin: miter; stroke-linecap: square\"/>\n   </g>\n   <g id=\"legend_1\">\n    <g id=\"patch_7\">\n     <path d=\"M 51.671875 285.454906 \nL 201.226875 285.454906 \nQ 204.026875 285.454906 204.026875 282.654906 \nL 204.026875 242.956156 \nQ 204.026875 240.156156 201.226875 240.156156 \nL 51.671875 240.156156 \nQ 48.871875 240.156156 48.871875 242.956156 \nL 48.871875 282.654906 \nQ 48.871875 285.454906 51.671875 285.454906 \nz\n\" style=\"fill: #f0f0f0; opacity: 0.8; stroke: #cccccc; stroke-width: 0.5; stroke-linejoin: miter\"/>\n    </g>\n    <g id=\"line2d_33\">\n     <path d=\"M 54.471875 251.493969 \nL 68.471875 251.493969 \nL 82.471875 251.493969 \n\" style=\"fill: none; stroke: #008fd5; stroke-width: 4\"/>\n    </g>\n    <g id=\"text_17\">\n     <!-- Training 1.68 -->\n     <g transform=\"translate(93.671875 256.393969) scale(0.14 -0.14)\">\n      <defs>\n       <path id=\"DejaVuSans-54\" d=\"M -19 4666 \nL 3928 4666 \nL 3928 4134 \nL 2272 4134 \nL 2272 0 \nL 1638 0 \nL 1638 4134 \nL -19 4134 \nL -19 4666 \nz\n\" transform=\"scale(0.015625)\"/>\n       <path id=\"DejaVuSans-72\" d=\"M 2631 2963 \nQ 2534 3019 2420 3045 \nQ 2306 3072 2169 3072 \nQ 1681 3072 1420 2755 \nQ 1159 2438 1159 1844 \nL 1159 0 \nL 581 0 \nL 581 3500 \nL 1159 3500 \nL 1159 2956 \nQ 1341 3275 1631 3429 \nQ 1922 3584 2338 3584 \nQ 2397 3584 2469 3576 \nQ 2541 3569 2628 3553 \nL 2631 2963 \nz\n\" transform=\"scale(0.015625)\"/>\n       <path id=\"DejaVuSans-61\" d=\"M 2194 1759 \nQ 1497 1759 1228 1600 \nQ 959 1441 959 1056 \nQ 959 750 1161 570 \nQ 1363 391 1709 391 \nQ 2188 391 2477 730 \nQ 2766 1069 2766 1631 \nL 2766 1759 \nL 2194 1759 \nz\nM 3341 1997 \nL 3341 0 \nL 2766 0 \nL 2766 531 \nQ 2569 213 2275 61 \nQ 1981 -91 1556 -91 \nQ 1019 -91 701 211 \nQ 384 513 384 1019 \nQ 384 1609 779 1909 \nQ 1175 2209 1959 2209 \nL 2766 2209 \nL 2766 2266 \nQ 2766 2663 2505 2880 \nQ 2244 3097 1772 3097 \nQ 1472 3097 1187 3025 \nQ 903 2953 641 2809 \nL 641 3341 \nQ 956 3463 1253 3523 \nQ 1550 3584 1831 3584 \nQ 2591 3584 2966 3190 \nQ 3341 2797 3341 1997 \nz\n\" transform=\"scale(0.015625)\"/>\n       <path id=\"DejaVuSans-69\" d=\"M 603 3500 \nL 1178 3500 \nL 1178 0 \nL 603 0 \nL 603 3500 \nz\nM 603 4863 \nL 1178 4863 \nL 1178 4134 \nL 603 4134 \nL 603 4863 \nz\n\" transform=\"scale(0.015625)\"/>\n       <path id=\"DejaVuSans-6e\" d=\"M 3513 2113 \nL 3513 0 \nL 2938 0 \nL 2938 2094 \nQ 2938 2591 2744 2837 \nQ 2550 3084 2163 3084 \nQ 1697 3084 1428 2787 \nQ 1159 2491 1159 1978 \nL 1159 0 \nL 581 0 \nL 581 3500 \nL 1159 3500 \nL 1159 2956 \nQ 1366 3272 1645 3428 \nQ 1925 3584 2291 3584 \nQ 2894 3584 3203 3211 \nQ 3513 2838 3513 2113 \nz\n\" transform=\"scale(0.015625)\"/>\n       <path id=\"DejaVuSans-67\" d=\"M 2906 1791 \nQ 2906 2416 2648 2759 \nQ 2391 3103 1925 3103 \nQ 1463 3103 1205 2759 \nQ 947 2416 947 1791 \nQ 947 1169 1205 825 \nQ 1463 481 1925 481 \nQ 2391 481 2648 825 \nQ 2906 1169 2906 1791 \nz\nM 3481 434 \nQ 3481 -459 3084 -895 \nQ 2688 -1331 1869 -1331 \nQ 1566 -1331 1297 -1286 \nQ 1028 -1241 775 -1147 \nL 775 -588 \nQ 1028 -725 1275 -790 \nQ 1522 -856 1778 -856 \nQ 2344 -856 2625 -561 \nQ 2906 -266 2906 331 \nL 2906 616 \nQ 2728 306 2450 153 \nQ 2172 0 1784 0 \nQ 1141 0 747 490 \nQ 353 981 353 1791 \nQ 353 2603 747 3093 \nQ 1141 3584 1784 3584 \nQ 2172 3584 2450 3431 \nQ 2728 3278 2906 2969 \nL 2906 3500 \nL 3481 3500 \nL 3481 434 \nz\n\" transform=\"scale(0.015625)\"/>\n       <path id=\"DejaVuSans-20\" transform=\"scale(0.015625)\"/>\n       <path id=\"DejaVuSans-36\" d=\"M 2113 2584 \nQ 1688 2584 1439 2293 \nQ 1191 2003 1191 1497 \nQ 1191 994 1439 701 \nQ 1688 409 2113 409 \nQ 2538 409 2786 701 \nQ 3034 994 3034 1497 \nQ 3034 2003 2786 2293 \nQ 2538 2584 2113 2584 \nz\nM 3366 4563 \nL 3366 3988 \nQ 3128 4100 2886 4159 \nQ 2644 4219 2406 4219 \nQ 1781 4219 1451 3797 \nQ 1122 3375 1075 2522 \nQ 1259 2794 1537 2939 \nQ 1816 3084 2150 3084 \nQ 2853 3084 3261 2657 \nQ 3669 2231 3669 1497 \nQ 3669 778 3244 343 \nQ 2819 -91 2113 -91 \nQ 1303 -91 875 529 \nQ 447 1150 447 2328 \nQ 447 3434 972 4092 \nQ 1497 4750 2381 4750 \nQ 2619 4750 2861 4703 \nQ 3103 4656 3366 4563 \nz\n\" transform=\"scale(0.015625)\"/>\n       <path id=\"DejaVuSans-38\" d=\"M 2034 2216 \nQ 1584 2216 1326 1975 \nQ 1069 1734 1069 1313 \nQ 1069 891 1326 650 \nQ 1584 409 2034 409 \nQ 2484 409 2743 651 \nQ 3003 894 3003 1313 \nQ 3003 1734 2745 1975 \nQ 2488 2216 2034 2216 \nz\nM 1403 2484 \nQ 997 2584 770 2862 \nQ 544 3141 544 3541 \nQ 544 4100 942 4425 \nQ 1341 4750 2034 4750 \nQ 2731 4750 3128 4425 \nQ 3525 4100 3525 3541 \nQ 3525 3141 3298 2862 \nQ 3072 2584 2669 2484 \nQ 3125 2378 3379 2068 \nQ 3634 1759 3634 1313 \nQ 3634 634 3220 271 \nQ 2806 -91 2034 -91 \nQ 1263 -91 848 271 \nQ 434 634 434 1313 \nQ 434 1759 690 2068 \nQ 947 2378 1403 2484 \nz\nM 1172 3481 \nQ 1172 3119 1398 2916 \nQ 1625 2713 2034 2713 \nQ 2441 2713 2670 2916 \nQ 2900 3119 2900 3481 \nQ 2900 3844 2670 4047 \nQ 2441 4250 2034 4250 \nQ 1625 4250 1398 4047 \nQ 1172 3844 1172 3481 \nz\n\" transform=\"scale(0.015625)\"/>\n      </defs>\n      <use xlink:href=\"#DejaVuSans-54\"/>\n      <use xlink:href=\"#DejaVuSans-72\" x=\"46.333984\"/>\n      <use xlink:href=\"#DejaVuSans-61\" x=\"87.447266\"/>\n      <use xlink:href=\"#DejaVuSans-69\" x=\"148.726562\"/>\n      <use xlink:href=\"#DejaVuSans-6e\" x=\"176.509766\"/>\n      <use xlink:href=\"#DejaVuSans-69\" x=\"239.888672\"/>\n      <use xlink:href=\"#DejaVuSans-6e\" x=\"267.671875\"/>\n      <use xlink:href=\"#DejaVuSans-67\" x=\"331.050781\"/>\n      <use xlink:href=\"#DejaVuSans-20\" x=\"394.527344\"/>\n      <use xlink:href=\"#DejaVuSans-31\" x=\"426.314453\"/>\n      <use xlink:href=\"#DejaVuSans-2e\" x=\"489.9375\"/>\n      <use xlink:href=\"#DejaVuSans-36\" x=\"521.724609\"/>\n      <use xlink:href=\"#DejaVuSans-38\" x=\"585.347656\"/>\n     </g>\n    </g>\n    <g id=\"line2d_34\">\n     <path d=\"M 54.471875 272.043344 \nL 68.471875 272.043344 \nL 82.471875 272.043344 \n\" style=\"fill: none; stroke-dasharray: 14.8,6.4; stroke-dashoffset: 0; stroke: #fc4f30; stroke-width: 4\"/>\n    </g>\n    <g id=\"text_18\">\n     <!-- Validation 1.68 -->\n     <g transform=\"translate(93.671875 276.943344) scale(0.14 -0.14)\">\n      <defs>\n       <path id=\"DejaVuSans-56\" d=\"M 1831 0 \nL 50 4666 \nL 709 4666 \nL 2188 738 \nL 3669 4666 \nL 4325 4666 \nL 2547 0 \nL 1831 0 \nz\n\" transform=\"scale(0.015625)\"/>\n       <path id=\"DejaVuSans-6c\" d=\"M 603 4863 \nL 1178 4863 \nL 1178 0 \nL 603 0 \nL 603 4863 \nz\n\" transform=\"scale(0.015625)\"/>\n       <path id=\"DejaVuSans-64\" d=\"M 2906 2969 \nL 2906 4863 \nL 3481 4863 \nL 3481 0 \nL 2906 0 \nL 2906 525 \nQ 2725 213 2448 61 \nQ 2172 -91 1784 -91 \nQ 1150 -91 751 415 \nQ 353 922 353 1747 \nQ 353 2572 751 3078 \nQ 1150 3584 1784 3584 \nQ 2172 3584 2448 3432 \nQ 2725 3281 2906 2969 \nz\nM 947 1747 \nQ 947 1113 1208 752 \nQ 1469 391 1925 391 \nQ 2381 391 2643 752 \nQ 2906 1113 2906 1747 \nQ 2906 2381 2643 2742 \nQ 2381 3103 1925 3103 \nQ 1469 3103 1208 2742 \nQ 947 2381 947 1747 \nz\n\" transform=\"scale(0.015625)\"/>\n       <path id=\"DejaVuSans-74\" d=\"M 1172 4494 \nL 1172 3500 \nL 2356 3500 \nL 2356 3053 \nL 1172 3053 \nL 1172 1153 \nQ 1172 725 1289 603 \nQ 1406 481 1766 481 \nL 2356 481 \nL 2356 0 \nL 1766 0 \nQ 1100 0 847 248 \nQ 594 497 594 1153 \nL 594 3053 \nL 172 3053 \nL 172 3500 \nL 594 3500 \nL 594 4494 \nL 1172 4494 \nz\n\" transform=\"scale(0.015625)\"/>\n      </defs>\n      <use xlink:href=\"#DejaVuSans-56\"/>\n      <use xlink:href=\"#DejaVuSans-61\" x=\"60.658203\"/>\n      <use xlink:href=\"#DejaVuSans-6c\" x=\"121.9375\"/>\n      <use xlink:href=\"#DejaVuSans-69\" x=\"149.720703\"/>\n      <use xlink:href=\"#DejaVuSans-64\" x=\"177.503906\"/>\n      <use xlink:href=\"#DejaVuSans-61\" x=\"240.980469\"/>\n      <use xlink:href=\"#DejaVuSans-74\" x=\"302.259766\"/>\n      <use xlink:href=\"#DejaVuSans-69\" x=\"341.46875\"/>\n      <use xlink:href=\"#DejaVuSans-6f\" x=\"369.251953\"/>\n      <use xlink:href=\"#DejaVuSans-6e\" x=\"430.433594\"/>\n      <use xlink:href=\"#DejaVuSans-20\" x=\"493.8125\"/>\n      <use xlink:href=\"#DejaVuSans-31\" x=\"525.599609\"/>\n      <use xlink:href=\"#DejaVuSans-2e\" x=\"589.222656\"/>\n      <use xlink:href=\"#DejaVuSans-36\" x=\"621.009766\"/>\n      <use xlink:href=\"#DejaVuSans-38\" x=\"684.632812\"/>\n     </g>\n    </g>\n   </g>\n  </g>\n </g>\n <defs>\n  <clipPath id=\"pd36535c646\">\n   <rect x=\"41.871875\" y=\"12.518906\" width=\"400.896\" height=\"279.936\"/>\n  </clipPath>\n </defs>\n</svg>\n",
      "text/plain": [
       "<Figure size 640x480 with 1 Axes>"
      ]
     },
     "metadata": {},
     "output_type": "display_data"
    }
   ],
   "source": [
    "device = \"cpu\"\n",
    "max_epochs = 25\n",
    "train_lr = False\n",
    "LR = 1e-3\n",
    "batch_size=256\n",
    "\n",
    "try:\n",
    "    del(model)\n",
    "    del(x)\n",
    "    del(y)\n",
    "    del(vx)\n",
    "    del(vy)\n",
    "except:\n",
    "    pass\n",
    "\n",
    "\n",
    "data = TimeMachine(num_steps=32*2)\n",
    "data_dl = DataLoader(data, batch_size=1024, shuffle=True)\n",
    "#rnn = RNN(num_inputs=len(data.vocab), num_hiddens=32)\n",
    "#model = RNNLM(rnn, vocab_size=len(data.vocab), lr=1) \n",
    "\n",
    "lstm = LSTM(num_inputs=len(data.vocab), num_hiddens=32)\n",
    "model = RNNLM(lstm, vocab_size=len(data.vocab), lr=4)\n",
    "\n",
    "\n",
    "# Initialize model and get first statistics using validation data\n",
    "x, y = next(iter(data_dl))\n",
    "x, y = x.to(device), y.to(device)\n",
    "val_logits = model(x)\n",
    "\n",
    "# Number of parameters\n",
    "print(f'Model \"{model.__class__.__name__}\" has {sum([p.numel() for p in model.parameters()])} parameters')\n",
    "\n",
    "# Initial loss\n",
    "val_loss = model.loss_fn(val_logits, y).item()\n",
    "#val_acc = model.accuracy(val_logits, y).item()\n",
    "print(f'Epoch {0:>3d} has train loss {val_loss:.4f}')\n",
    "\n",
    "\n",
    "N = len(data_dl)\n",
    "lr = torch.logspace(-6, -2, N)\n",
    "losses = torch.zeros(N)\n",
    "min_loss = 9999999.\n",
    "min_epoch = 0\n",
    "if train_lr is False:\n",
    "    model.optimizer = torch.optim.AdamW(model.parameters(), lr=LR)\n",
    "    scheduler = ReduceLROnPlateau(model.optimizer, 'min', factor=0.1, verbose=True)\n",
    "epochs = [0]\n",
    "ptloss = [val_loss]\n",
    "pvloss = [val_loss]\n",
    "#pvacc = [val_acc]\n",
    "for epoch in range(1, max_epochs+1):\n",
    "    model.train()\n",
    "    if epoch % 400 == 0:\n",
    "        LR = LR/2.0\n",
    "        print (f'Changing LR to {LR}')\n",
    "        model.optimizer = torch.optim.AdamW(model.parameters(), lr=LR)\n",
    "    for step, batch in enumerate(data_dl):\n",
    "\n",
    "        # Get Minibatch\n",
    "        x, y = batch\n",
    "        x, y = x.to(device), y.to(device)\n",
    "\n",
    "        # Get logits\n",
    "        train_logits = model(x)\n",
    "\n",
    "        # Get loss\n",
    "        train_loss = model.loss_fn(train_logits, y)\n",
    "        losses[step] = train_loss.item()\n",
    "\n",
    "        # Update\n",
    "        if train_lr:\n",
    "            model.optimizer = torch.optim.AdamW(model.parameters(), lr=lr[step])\n",
    "        model.optimizer.zero_grad(set_to_none=True)\n",
    "        train_loss.backward()\n",
    "        model.optimizer.step()\n",
    "\n",
    "        #if step % 20 == 0:\n",
    "        #    print(f'step {step} has loss {train_loss.item()}')\n",
    "    \n",
    "    if train_lr:\n",
    "        break\n",
    "    # Evaluate for epoch\n",
    "    model.eval()\n",
    "    with torch.no_grad():\n",
    "        vx, vy = next(iter(data_dl))\n",
    "        vx, vy = vx.to(device), vy.to(device)\n",
    "        val_logits = model(vx)\n",
    "        val_loss = model.loss_fn(val_logits, vy).item()\n",
    "        #val_acc = model.accuracy(val_logits, vy).item()\n",
    "        epochs.append(epoch)\n",
    "        ptloss.append(train_loss.item())\n",
    "        pvloss.append(val_loss)\n",
    "        #pvacc.append(val_acc)\n",
    "        scheduler.step(val_loss)\n",
    "\n",
    "        # Early Stopping\n",
    "        if val_loss < min_loss:\n",
    "            min_loss = val_loss\n",
    "            min_epoch = epoch\n",
    "        else:\n",
    "            if epoch - 20 > min_epoch:\n",
    "                break\n",
    "\n",
    "    if epoch % 1 == 0:\n",
    "        print(f'Epoch {epoch:>3d} has train loss {train_loss.item():.4f}')\n",
    "\n",
    "    #break\n",
    "\n",
    "\n",
    "if train_lr is False:\n",
    "    # Get final training loss:\n",
    "    model.eval()\n",
    "    ftloss = []\n",
    "    for batch in data_dl:\n",
    "        # Get Minibatch\n",
    "        x, y = batch\n",
    "        x, y = x.to(device), y.to(device)\n",
    "\n",
    "        # Get logits\n",
    "        train_logits = model(x)\n",
    "\n",
    "        # Get loss\n",
    "        train_loss = model.loss_fn(train_logits, y)\n",
    "        ftloss.append(train_loss)\n",
    "\n",
    "    fvloss = []\n",
    "    fvacc = []\n",
    "    for batch in data_dl:\n",
    "        # Get Minibatch\n",
    "        x, y = batch\n",
    "        x, y = x.to(device), y.to(device)\n",
    "\n",
    "        # Get logits\n",
    "        val_logits = model(x)\n",
    "\n",
    "        # Get loss\n",
    "        val_loss = model.loss_fn(val_logits, y)\n",
    "        #val_acc = model.accuracy(val_logits, y).item()\n",
    "        fvloss.append(val_loss)\n",
    "        #fvacc.append(val_acc)\n",
    "\n",
    "\n",
    "    ftloss = torch.tensor(ftloss).mean().item()\n",
    "    fvloss = torch.tensor(fvloss).mean().item()\n",
    "    #fvacc = torch.tensor(fvacc).mean().item()\n",
    "\n",
    "\n",
    "    # Plot\n",
    "    plt.figure()\n",
    "    #epochs = torch.arange(max_epochs + 1).detach()\n",
    "    plt.plot(epochs, ptloss, 'C0-', label=f'Training {ftloss:.2f}')\n",
    "    plt.plot(epochs, pvloss, 'C1--', label=f'Validation {fvloss:.2f}')\n",
    "    #plt.plot(epochs, pvacc, 'C2:', label=f'Accuracy {fvacc:.2f}')\n",
    "    plt.ylim(0,2)\n",
    "    plt.xlabel('Epochs')\n",
    "    plt.legend();\n",
    "else:\n",
    "    plt.semilogx(lr, losses)"
   ]
  },
  {
   "cell_type": "code",
   "execution_count": 65,
   "metadata": {},
   "outputs": [
    {
     "data": {
      "text/plain": [
       "'hellough the stance the stance the stance the stance th'"
      ]
     },
     "execution_count": 65,
     "metadata": {},
     "output_type": "execute_result"
    }
   ],
   "source": [
    "model.predict('hello', 50, data.vocab)"
   ]
  },
  {
   "cell_type": "markdown",
   "metadata": {},
   "source": []
  },
  {
   "cell_type": "code",
   "execution_count": null,
   "metadata": {},
   "outputs": [],
   "source": []
  }
 ],
 "metadata": {
  "kernelspec": {
   "display_name": "Python 3",
   "language": "python",
   "name": "python3"
  },
  "language_info": {
   "codemirror_mode": {
    "name": "ipython",
    "version": 3
   },
   "file_extension": ".py",
   "mimetype": "text/x-python",
   "name": "python",
   "nbconvert_exporter": "python",
   "pygments_lexer": "ipython3",
   "version": "3.9.6"
  },
  "orig_nbformat": 4,
  "vscode": {
   "interpreter": {
    "hash": "31f2aee4e71d21fbe5cf8b01ff0e069b9275f58929596ceb00d14d90e3e16cd6"
   }
  }
 },
 "nbformat": 4,
 "nbformat_minor": 2
}
