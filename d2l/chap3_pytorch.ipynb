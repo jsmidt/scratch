{
 "cells": [
  {
   "cell_type": "code",
   "execution_count": 130,
   "metadata": {},
   "outputs": [],
   "source": [
    "import time\n",
    "import numpy as np\n",
    "import torch\n",
    "from torch import nn\n",
    "\n",
    "# For classes\n",
    "import inspect \n",
    "import matplotlib.pyplot as plt\n",
    "import collections"
   ]
  },
  {
   "attachments": {},
   "cell_type": "markdown",
   "metadata": {},
   "source": [
    "### Three classes\n",
    "\n",
    "* **Module**: Contains models, losses, and optimzation methods\n",
    "* **DataModule**: Data Loaders for training and validation\n",
    "* **Trainer**: train models on a variety of hardware platforms"
   ]
  },
  {
   "cell_type": "code",
   "execution_count": 131,
   "metadata": {},
   "outputs": [
    {
     "name": "stdout",
     "output_type": "stream",
     "text": [
      "Class attribute \"b\" is 1\n"
     ]
    }
   ],
   "source": [
    "class A:\n",
    "    def __init__(self):\n",
    "        self.b = 1\n",
    "\n",
    "    def do(self):\n",
    "        print (f'Class attribute \"b\" is {self.b}')\n",
    "\n",
    "\n",
    "a = A()\n",
    "a.do()"
   ]
  },
  {
   "cell_type": "code",
   "execution_count": 132,
   "metadata": {},
   "outputs": [
    {
     "name": "stdout",
     "output_type": "stream",
     "text": [
      "self.a = 1\n",
      "self.b = 2\n",
      "There is no self.c = True\n"
     ]
    }
   ],
   "source": [
    "class HyperParameters:\n",
    "    '''Parent class to save parameters not ignored'''\n",
    "\n",
    "    # Save paremeters not ignored to self\n",
    "    # See HyperparametersMixin from Pytorch Lightning API\n",
    "    def save_hyperparameters(self, * args, ignore=[]):\n",
    "\n",
    "        # Get local variables passed to function (a=b,...) -> {a:b,...}\n",
    "        frame = inspect.currentframe().f_back\n",
    "        _, _, _, local_vars = inspect.getargvalues(frame)\n",
    "\n",
    "        # Get parameters not ignored and place in dictionary\n",
    "        self.hparams = {k: v for k, v in local_vars.items() if k not in\n",
    "                        set(ignore + ['self']) and not k.startswith('_')}\n",
    "\n",
    "        # Save parameter values to self. {a:b} -> self.a = b\n",
    "        for k, v in self.hparams.items():\n",
    "            setattr(self, k, v)\n",
    "\n",
    "\n",
    "# Instance of HyperParameters accepting three values\n",
    "class B(HyperParameters):\n",
    "    def __init__(self, a, b, c):\n",
    "        self.save_hyperparameters(ignore=['c'])\n",
    "        print(f'{self.a = }\\n{self.b = }')\n",
    "        print(f\"There is no self.c = {not hasattr(self, 'c')}\")\n",
    "\n",
    "\n",
    "class ProgressBoard(HyperParameters):  # @save\n",
    "    \"\"\"Plot data points in animation.\"\"\"\n",
    "\n",
    "    def __init__(self, xlabel=None, ylabel=None, xlim=None,\n",
    "                 ylim=None, xscale='linear', yscale='linear',\n",
    "                 ls=['-', '--', '-.', ':'], colors=['C0', 'C1', 'C2', 'C3'],\n",
    "                 fig=None, axes=None, figsize=(3.5, 2.5), display=True):\n",
    "        self.save_hyperparameters()\n",
    "\n",
    "    def draw(self, x, y, label, every_n=1):\n",
    "\n",
    "        # Create named tuple Point\n",
    "        Point = collections.namedtuple('Point', ['x', 'y'])\n",
    "\n",
    "        # If new data, make dictionary for points and data\n",
    "        if not hasattr(self, 'raw_points'):\n",
    "            # Make an ordered dictionary\n",
    "            self.raw_points = collections.OrderedDict()\n",
    "            self.data = collections.OrderedDict()\n",
    "\n",
    "        # If no data, initialize data with an array\n",
    "        if label not in self.raw_points:\n",
    "            self.raw_points[label] = []\n",
    "            self.data[label] = []\n",
    "\n",
    "        # Get current data and append new data\n",
    "        points = self.raw_points[label]\n",
    "        line = self.data[label]\n",
    "        points.append(Point(x, y))\n",
    "        # print (self.raw_points, self.data)\n",
    "        # Return if not every_n\n",
    "        if len(points) != every_n:\n",
    "            return\n",
    "\n",
    "        # calculate the mean for line\n",
    "        def mean(x): return sum(x) / len(x)\n",
    "        line.append(Point(mean([p.x for p in points]),\n",
    "                          mean([p.y for p in points])))\n",
    "\n",
    "        points.clear()\n",
    "        if self.fig is None:\n",
    "            self.fig = plt.figure()\n",
    "        plt_lines, labels = [], []\n",
    "\n",
    "        for (k, v), ls, color in zip(self.data.items(), self.ls, self.colors):\n",
    "            plt_lines.append(plt.plot([p.x for p in v],\n",
    "                                      [p.y for p in v], linestyle=ls, color=color)[0])\n",
    "            labels.append(k)\n",
    "        axes = plt.gca()\n",
    "        if self.ylim: axes.set_ylim(self.ylim)\n",
    "        if not self.xlabel: self.xlabel = self.x\n",
    "        axes.set_xlabel(self.xlabel)\n",
    "        axes.set_ylabel(self.ylabel)\n",
    "        axes.set_xscale(self.xscale)\n",
    "        axes.set_yscale(self.yscale)\n",
    "        axes.legend(plt_lines, labels)\n",
    "\n",
    "\n",
    "\n",
    "\n",
    "b = B(a=1, b=2, c=3)\n"
   ]
  },
  {
   "cell_type": "code",
   "execution_count": 5,
   "metadata": {},
   "outputs": [
    {
     "data": {
      "text/plain": [
       "{'plot_train_per_epoch': 2, 'plot_valid_per_epoch': 1}"
      ]
     },
     "execution_count": 5,
     "metadata": {},
     "output_type": "execute_result"
    }
   ],
   "source": [
    "class Module(HyperParameters):\n",
    "    def __init__(self, plot_train_per_epoch=2, plot_valid_per_epoch=1):\n",
    "        super().__init__()\n",
    "        self.save_hyperparameters()\n",
    "        self.board = ProgressBoard()\n",
    "\n",
    "    def loss(self, y_hat, y):\n",
    "        raise NotImplementedError\n",
    "\n",
    "    def forward(self, X):\n",
    "        assert hasattr(self, 'net'), 'Neural network is defined'\n",
    "        return self.net(X)\n",
    "\n",
    "    def plot(self, key, value, train):\n",
    "        assert hasattr(self, 'trainer'), 'Trainer is not initiated'\n",
    "        self.board.xlabel = 'epoch'\n",
    "\n",
    "        if train:\n",
    "            x = self.trainer.train_batch_idx / \\\n",
    "                self.trainer.num_train_batches\n",
    "            n = self.trainer.num_train_batches / \\\n",
    "                self.plot_train_per_epoch\n",
    "        else:\n",
    "            x = self.trainer.epoch + 1\n",
    "            n = self.trainer.num_val_batches / \\\n",
    "                self.plot_valid_per_epoch\n",
    "        self.board.draw(x, value.detach().numpy(),\n",
    "                        ('train_' if train else 'val_') + key,\n",
    "                        every_n=int(n))\n",
    "\n",
    "        def training_step(self, batch):\n",
    "            l = self.loss(self(*batch[:-1]), batch[-1])\n",
    "            self.plot('loss', l, train=True)\n",
    "            return l\n",
    "\n",
    "        def validation_step(self, batch):\n",
    "            l = self.loss(self(*batch[:-1]), batch[-1])\n",
    "            self.plot('loss', l, train=False)\n",
    "\n",
    "        def configure_optimizers(self):\n",
    "            raise NotImplementedError\n",
    "\n",
    "\n",
    "mod = Module()\n",
    "mod.hparams\n"
   ]
  },
  {
   "cell_type": "code",
   "execution_count": 133,
   "metadata": {},
   "outputs": [
    {
     "data": {
      "text/plain": [
       "{'root': 'data', 'num_workers': 4}"
      ]
     },
     "execution_count": 133,
     "metadata": {},
     "output_type": "execute_result"
    }
   ],
   "source": [
    "class DataModule(HyperParameters):\n",
    "    def __init__(self, root='data', num_workers=4):\n",
    "        self.save_hyperparameters()\n",
    "\n",
    "    def get_dataloader(self, train):\n",
    "        raise NotImplementedError\n",
    "    \n",
    "    def train_dataloader(self):\n",
    "        return self.get_dataloader(train=True)\n",
    "\n",
    "    def val_dataloader(self):\n",
    "        return self.get_dataloader(train=False)\n",
    "\n",
    "dm = DataModule()\n",
    "dm.hparams"
   ]
  },
  {
   "cell_type": "code",
   "execution_count": 134,
   "metadata": {},
   "outputs": [
    {
     "data": {
      "text/plain": [
       "{'max_epochs': 10, 'num_gpus': 0, 'gradient_clip_val': 0}"
      ]
     },
     "execution_count": 134,
     "metadata": {},
     "output_type": "execute_result"
    }
   ],
   "source": [
    "class Trainer(HyperParameters):\n",
    "    def __init__(self, max_epochs, num_gpus=0, gradient_clip_val=0):\n",
    "        self.save_hyperparameters()\n",
    "        assert num_gpus == 0, 'No GPU support yet'\n",
    "\n",
    "    def prepare_data(self, data):\n",
    "        self.train_dataloader = data.train_dataloader()\n",
    "        self.val_dataloader = data.val_dataloader()\n",
    "        self.num_train_batches = len(self.train_dataloader)\n",
    "        self.num_val_batches = (len(self.val_dataloader)\n",
    "                                if self.val_dataloader is not None else 0)\n",
    "\n",
    "    def prepare_model(self, model):\n",
    "        model.trainer = self\n",
    "        model.board.xlim = [0, self.max_epochs]\n",
    "        self.model = model\n",
    "\n",
    "    def fit(self, model, data):\n",
    "        self.prepare_data(data)\n",
    "        self.prepare_model(model)\n",
    "        self.optim = model.configure_optimizers()\n",
    "        self.epoch = 0\n",
    "        self.train_batch_idx = 0\n",
    "        self.val_batch_idx = 0\n",
    "        for self.epoch in range(self.max_epochs):\n",
    "            self.fit_epoch()\n",
    "    \n",
    "    def fit_epoch(self):\n",
    "        raise NotImplementedError\n",
    "\n",
    "tn = Trainer(10)\n",
    "tn.hparams"
   ]
  },
  {
   "cell_type": "code",
   "execution_count": 136,
   "metadata": {},
   "outputs": [
    {
     "data": {
      "image/png": "[encoded data removed]",
      "text/plain": [
       "<Figure size 432x288 with 1 Axes>"
      ]
     },
     "metadata": {
      "needs_background": "light"
     },
     "output_type": "display_data"
    }
   ],
   "source": [
    "board = ProgressBoard('t')\n",
    "for x in np.arange(0, 10,0.1):\n",
    "    board.draw(x, np.sin(x), 'sin', every_n=2)\n",
    "    board.draw(x, np.cos(x), 'cos', every_n=10)"
   ]
  },
  {
   "cell_type": "code",
   "execution_count": 83,
   "metadata": {},
   "outputs": [
    {
     "name": "stdout",
     "output_type": "stream",
     "text": [
      "odict_items([('sin', [Point(x=0.1, y=0.09933466539753061), Point(x=0.5, y=0.47703040785184303)]), ('cos', [Point(x=0.1, y=0.9900332889206208), Point(x=0.5, y=0.8731983044562817)]), ('test', [Point(x=1.0, y=2.0)])])\n"
     ]
    },
    {
     "data": {
      "image/png": "[encoded data removed]",
      "text/plain": [
       "<Figure size 432x288 with 1 Axes>"
      ]
     },
     "metadata": {
      "needs_background": "light"
     },
     "output_type": "display_data"
    }
   ],
   "source": [
    "board.draw(x=1,y=2,label='test')\n"
   ]
  },
  {
   "cell_type": "code",
   "execution_count": 37,
   "metadata": {},
   "outputs": [
    {
     "ename": "AttributeError",
     "evalue": "'Point' object has no attribute 'clear'",
     "output_type": "error",
     "traceback": [
      "\u001b[0;31m---------------------------------------------------------------------------\u001b[0m",
      "\u001b[0;31mAttributeError\u001b[0m                            Traceback (most recent call last)",
      "Cell \u001b[0;32mIn [37], line 12\u001b[0m\n\u001b[1;32m      9\u001b[0m p\u001b[39m.\u001b[39mx \u001b[39m+\u001b[39m p\u001b[39m.\u001b[39my\n\u001b[1;32m     10\u001b[0m p\n\u001b[0;32m---> 12\u001b[0m p\u001b[39m.\u001b[39;49mclear()\n",
      "\u001b[0;31mAttributeError\u001b[0m: 'Point' object has no attribute 'clear'"
     ]
    }
   ],
   "source": [
    "Point = collections.namedtuple('Point', ['x', 'y'])\n",
    "\n",
    "p = Point(11, y=22)\n",
    "p[0] + p[1]\n",
    "\n",
    "x, y = p\n",
    "x, y\n",
    "\n",
    "p.x + p.y\n",
    "p\n",
    "\n",
    "p.clear()"
   ]
  },
  {
   "cell_type": "code",
   "execution_count": 39,
   "metadata": {},
   "outputs": [
    {
     "name": "stdout",
     "output_type": "stream",
     "text": [
      "OrderedDict([('a', None), ('b', None), ('c', None), ('d', None), ('e', None)])\n",
      "OrderedDict([('a', None), ('c', None), ('d', None), ('e', None), ('b', None)])\n"
     ]
    },
    {
     "data": {
      "text/plain": [
       "OrderedDict()"
      ]
     },
     "execution_count": 39,
     "metadata": {},
     "output_type": "execute_result"
    }
   ],
   "source": [
    "d = collections.OrderedDict.fromkeys('abcde')\n",
    "print (d)\n",
    "d.move_to_end('b')\n",
    "print (d)\n",
    "''.join(d)\n",
    "\n",
    "d.clear()\n",
    "d\n"
   ]
  },
  {
   "cell_type": "code",
   "execution_count": 114,
   "metadata": {},
   "outputs": [
    {
     "data": {
      "text/plain": [
       "[1, 2]"
      ]
     },
     "execution_count": 114,
     "metadata": {},
     "output_type": "execute_result"
    },
    {
     "data": {
      "text/plain": [
       "<Figure size 432x288 with 0 Axes>"
      ]
     },
     "metadata": {},
     "output_type": "display_data"
    },
    {
     "data": {
      "text/plain": [
       "<Figure size 432x288 with 0 Axes>"
      ]
     },
     "metadata": {},
     "output_type": "display_data"
    }
   ],
   "source": [
    "fig = plt.figure()\n",
    "plt.get_fignums()\n",
    "fig = plt.figure()\n",
    "plt.get_fignums()\n"
   ]
  },
  {
   "cell_type": "code",
   "execution_count": 112,
   "metadata": {},
   "outputs": [
    {
     "data": {
      "text/plain": [
       "[]"
      ]
     },
     "execution_count": 112,
     "metadata": {},
     "output_type": "execute_result"
    }
   ],
   "source": []
  },
  {
   "cell_type": "code",
   "execution_count": null,
   "metadata": {},
   "outputs": [],
   "source": []
  }
 ],
 "metadata": {
  "kernelspec": {
   "display_name": "Python 3",
   "language": "python",
   "name": "python3"
  },
  "language_info": {
   "codemirror_mode": {
    "name": "ipython",
    "version": 3
   },
   "file_extension": ".py",
   "mimetype": "text/x-python",
   "name": "python",
   "nbconvert_exporter": "python",
   "pygments_lexer": "ipython3",
   "version": "3.9.6"
  },
  "orig_nbformat": 4,
  "vscode": {
   "interpreter": {
    "hash": "31f2aee4e71d21fbe5cf8b01ff0e069b9275f58929596ceb00d14d90e3e16cd6"
   }
  }
 },
 "nbformat": 4,
 "nbformat_minor": 2
}
