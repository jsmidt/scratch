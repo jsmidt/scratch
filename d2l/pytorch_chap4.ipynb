{
 "cells": [
  {
   "cell_type": "code",
   "execution_count": 2,
   "metadata": {},
   "outputs": [],
   "source": [
    "import torch\n",
    "import torch.nn as nn\n",
    "from torch.utils.data import Dataset, DataLoader\n",
    "from torchvision import datasets\n",
    "import matplotlib.pyplot as plt\n",
    "from torchvision.transforms import ToTensor\n",
    "import time\n",
    "%config InlineBackend.figure_formats = ['svg']\n",
    "plt.style.use('fivethirtyeight')\n",
    "import pytorch_lightning as pl\n",
    "from pytorch_lightning.callbacks import TQDMProgressBar, LearningRateMonitor\n",
    "import warnings\n",
    "warnings.filterwarnings(\"ignore\")\n",
    "import torchmetrics"
   ]
  },
  {
   "attachments": {},
   "cell_type": "markdown",
   "metadata": {},
   "source": [
    "### Test against problems from Chap. 4 of D2L"
   ]
  },
  {
   "attachments": {},
   "cell_type": "markdown",
   "metadata": {},
   "source": [
    "#### Problem 4.2"
   ]
  },
  {
   "cell_type": "code",
   "execution_count": 5,
   "metadata": {},
   "outputs": [
    {
     "data": {
      "text/plain": [
       "(60000, 10000, 59, 10)"
      ]
     },
     "execution_count": 5,
     "metadata": {},
     "output_type": "execute_result"
    }
   ],
   "source": [
    "# Import Datasets\n",
    "class FashionMNIST:\n",
    "    def __init__(self) -> None:\n",
    "        # Get datasets\n",
    "        self.train = datasets.FashionMNIST(root='data', train=True, transform=ToTensor())\n",
    "        self.val = datasets.FashionMNIST(root='data', train=False, transform=ToTensor())\n",
    "\n",
    "        # Create data loaders\n",
    "        self.train_dl = torch.utils.data.DataLoader(self.train, batch_size = 1024, shuffle=True)\n",
    "        self.val_dl = torch.utils.data.DataLoader(self.val, batch_size = 1024, shuffle=True)\n",
    "\n",
    "data = FashionMNIST()\n",
    "len(data.train), len(data.val), len(data.train_dl), len(data.val_dl)"
   ]
  },
  {
   "cell_type": "code",
   "execution_count": 3,
   "metadata": {},
   "outputs": [
    {
     "data": {
      "image/svg+xml": "<?xml version=\"1.0\" encoding=\"utf-8\" standalone=\"no\"?>\n<!DOCTYPE svg PUBLIC \"-//W3C//DTD SVG 1.1//EN\"\n  \"http://www.w3.org/Graphics/SVG/1.1/DTD/svg11.dtd\">\n<svg xmlns:xlink=\"http://www.w3.org/1999/xlink\" width=\"505.355294pt\" height=\"502.27845pt\" viewBox=\"0 0 505.355294 502.27845\" xmlns=\"http://www.w3.org/2000/svg\" version=\"1.1\">\n <metadata>\n  <rdf:RDF xmlns:dc=\"http://purl.org/dc/elements/1.1/\" xmlns:cc=\"http://creativecommons.org/ns#\" xmlns:rdf=\"http://www.w3.org/1999/02/22-rdf-syntax-ns#\">\n   <cc:Work>\n    <dc:type rdf:resource=\"http://purl.org/dc/dcmitype/StillImage\"/>\n    <dc:date>2023-01-20T05:02:24.725723</dc:date>\n    <dc:format>image/svg+xml</dc:format>\n    <dc:creator>\n     <cc:Agent>\n      <dc:title>Matplotlib v3.6.3, https://matplotlib.org/</dc:title>\n     </cc:Agent>\n    </dc:creator>\n   </cc:Work>\n  </rdf:RDF>\n </metadata>\n <defs>\n  <style type=\"text/css\">*{stroke-linejoin: round; stroke-linecap: butt}</style>\n </defs>\n <g id=\"figure_1\">\n  <g id=\"patch_1\">\n   <path d=\"M 0 502.27845 \nL 505.355294 502.27845 \nL 505.355294 0 \nL 0 0 \nz\n\" style=\"fill: #f0f0f0\"/>\n  </g>\n  <g id=\"axes_1\">\n   <g clip-path=\"url(#p039e73d5ce)\">\n    <image xlink:href=\"data:image/png;base64,\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\" id=\"imagec1c3bbb36e\" transform=\"scale(1 -1) translate(0 -137.52)\" x=\"7.2\" y=\"-28.221979\" width=\"137.52\" height=\"137.52\"/>\n   </g>\n   <g id=\"text_1\">\n    <!-- Shirt -->\n    <g transform=\"translate(52.12849 22.51845) scale(0.2016 -0.2016)\">\n     <defs>\n      <path id=\"DejaVuSans-53\" d=\"M 3425 4513 \nL 3425 3897 \nQ 3066 4069 2747 4153 \nQ 2428 4238 2131 4238 \nQ 1616 4238 1336 4038 \nQ 1056 3838 1056 3469 \nQ 1056 3159 1242 3001 \nQ 1428 2844 1947 2747 \nL 2328 2669 \nQ 3034 2534 3370 2195 \nQ 3706 1856 3706 1288 \nQ 3706 609 3251 259 \nQ 2797 -91 1919 -91 \nQ 1588 -91 1214 -16 \nQ 841 59 441 206 \nL 441 856 \nQ 825 641 1194 531 \nQ 1563 422 1919 422 \nQ 2459 422 2753 634 \nQ 3047 847 3047 1241 \nQ 3047 1584 2836 1778 \nQ 2625 1972 2144 2069 \nL 1759 2144 \nQ 1053 2284 737 2584 \nQ 422 2884 422 3419 \nQ 422 4038 858 4394 \nQ 1294 4750 2059 4750 \nQ 2388 4750 2728 4690 \nQ 3069 4631 3425 4513 \nz\n\" transform=\"scale(0.015625)\"/>\n      <path id=\"DejaVuSans-68\" d=\"M 3513 2113 \nL 3513 0 \nL 2938 0 \nL 2938 2094 \nQ 2938 2591 2744 2837 \nQ 2550 3084 2163 3084 \nQ 1697 3084 1428 2787 \nQ 1159 2491 1159 1978 \nL 1159 0 \nL 581 0 \nL 581 4863 \nL 1159 4863 \nL 1159 2956 \nQ 1366 3272 1645 3428 \nQ 1925 3584 2291 3584 \nQ 2894 3584 3203 3211 \nQ 3513 2838 3513 2113 \nz\n\" transform=\"scale(0.015625)\"/>\n      <path id=\"DejaVuSans-69\" d=\"M 603 3500 \nL 1178 3500 \nL 1178 0 \nL 603 0 \nL 603 3500 \nz\nM 603 4863 \nL 1178 4863 \nL 1178 4134 \nL 603 4134 \nL 603 4863 \nz\n\" transform=\"scale(0.015625)\"/>\n      <path id=\"DejaVuSans-72\" d=\"M 2631 2963 \nQ 2534 3019 2420 3045 \nQ 2306 3072 2169 3072 \nQ 1681 3072 1420 2755 \nQ 1159 2438 1159 1844 \nL 1159 0 \nL 581 0 \nL 581 3500 \nL 1159 3500 \nL 1159 2956 \nQ 1341 3275 1631 3429 \nQ 1922 3584 2338 3584 \nQ 2397 3584 2469 3576 \nQ 2541 3569 2628 3553 \nL 2631 2963 \nz\n\" transform=\"scale(0.015625)\"/>\n      <path id=\"DejaVuSans-74\" d=\"M 1172 4494 \nL 1172 3500 \nL 2356 3500 \nL 2356 3053 \nL 1172 3053 \nL 1172 1153 \nQ 1172 725 1289 603 \nQ 1406 481 1766 481 \nL 2356 481 \nL 2356 0 \nL 1766 0 \nQ 1100 0 847 248 \nQ 594 497 594 1153 \nL 594 3053 \nL 172 3053 \nL 172 3500 \nL 594 3500 \nL 594 4494 \nL 1172 4494 \nz\n\" transform=\"scale(0.015625)\"/>\n     </defs>\n     <use xlink:href=\"#DejaVuSans-53\"/>\n     <use xlink:href=\"#DejaVuSans-68\" x=\"63.476562\"/>\n     <use xlink:href=\"#DejaVuSans-69\" x=\"126.855469\"/>\n     <use xlink:href=\"#DejaVuSans-72\" x=\"154.638672\"/>\n     <use xlink:href=\"#DejaVuSans-74\" x=\"195.751953\"/>\n    </g>\n   </g>\n  </g>\n  <g id=\"axes_2\">\n   <g clip-path=\"url(#p5725d9f10f)\">\n    <image xlink:href=\"data:image/png;base64,\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\" id=\"image2c2742c8ae\" transform=\"scale(1 -1) translate(0 -137.52)\" x=\"184.065882\" y=\"-28.221979\" width=\"137.52\" height=\"137.52\"/>\n   </g>\n   <g id=\"text_2\">\n    <!-- Ankle Boot -->\n    <g transform=\"translate(198.147997 22.51845) scale(0.2016 -0.2016)\">\n     <defs>\n      <path id=\"DejaVuSans-41\" d=\"M 2188 4044 \nL 1331 1722 \nL 3047 1722 \nL 2188 4044 \nz\nM 1831 4666 \nL 2547 4666 \nL 4325 0 \nL 3669 0 \nL 3244 1197 \nL 1141 1197 \nL 716 0 \nL 50 0 \nL 1831 4666 \nz\n\" transform=\"scale(0.015625)\"/>\n      <path id=\"DejaVuSans-6e\" d=\"M 3513 2113 \nL 3513 0 \nL 2938 0 \nL 2938 2094 \nQ 2938 2591 2744 2837 \nQ 2550 3084 2163 3084 \nQ 1697 3084 1428 2787 \nQ 1159 2491 1159 1978 \nL 1159 0 \nL 581 0 \nL 581 3500 \nL 1159 3500 \nL 1159 2956 \nQ 1366 3272 1645 3428 \nQ 1925 3584 2291 3584 \nQ 2894 3584 3203 3211 \nQ 3513 2838 3513 2113 \nz\n\" transform=\"scale(0.015625)\"/>\n      <path id=\"DejaVuSans-6b\" d=\"M 581 4863 \nL 1159 4863 \nL 1159 1991 \nL 2875 3500 \nL 3609 3500 \nL 1753 1863 \nL 3688 0 \nL 2938 0 \nL 1159 1709 \nL 1159 0 \nL 581 0 \nL 581 4863 \nz\n\" transform=\"scale(0.015625)\"/>\n      <path id=\"DejaVuSans-6c\" d=\"M 603 4863 \nL 1178 4863 \nL 1178 0 \nL 603 0 \nL 603 4863 \nz\n\" transform=\"scale(0.015625)\"/>\n      <path id=\"DejaVuSans-65\" d=\"M 3597 1894 \nL 3597 1613 \nL 953 1613 \nQ 991 1019 1311 708 \nQ 1631 397 2203 397 \nQ 2534 397 2845 478 \nQ 3156 559 3463 722 \nL 3463 178 \nQ 3153 47 2828 -22 \nQ 2503 -91 2169 -91 \nQ 1331 -91 842 396 \nQ 353 884 353 1716 \nQ 353 2575 817 3079 \nQ 1281 3584 2069 3584 \nQ 2775 3584 3186 3129 \nQ 3597 2675 3597 1894 \nz\nM 3022 2063 \nQ 3016 2534 2758 2815 \nQ 2500 3097 2075 3097 \nQ 1594 3097 1305 2825 \nQ 1016 2553 972 2059 \nL 3022 2063 \nz\n\" transform=\"scale(0.015625)\"/>\n      <path id=\"DejaVuSans-20\" transform=\"scale(0.015625)\"/>\n      <path id=\"DejaVuSans-42\" d=\"M 1259 2228 \nL 1259 519 \nL 2272 519 \nQ 2781 519 3026 730 \nQ 3272 941 3272 1375 \nQ 3272 1813 3026 2020 \nQ 2781 2228 2272 2228 \nL 1259 2228 \nz\nM 1259 4147 \nL 1259 2741 \nL 2194 2741 \nQ 2656 2741 2882 2914 \nQ 3109 3088 3109 3444 \nQ 3109 3797 2882 3972 \nQ 2656 4147 2194 4147 \nL 1259 4147 \nz\nM 628 4666 \nL 2241 4666 \nQ 2963 4666 3353 4366 \nQ 3744 4066 3744 3513 \nQ 3744 3084 3544 2831 \nQ 3344 2578 2956 2516 \nQ 3422 2416 3680 2098 \nQ 3938 1781 3938 1306 \nQ 3938 681 3513 340 \nQ 3088 0 2303 0 \nL 628 0 \nL 628 4666 \nz\n\" transform=\"scale(0.015625)\"/>\n      <path id=\"DejaVuSans-6f\" d=\"M 1959 3097 \nQ 1497 3097 1228 2736 \nQ 959 2375 959 1747 \nQ 959 1119 1226 758 \nQ 1494 397 1959 397 \nQ 2419 397 2687 759 \nQ 2956 1122 2956 1747 \nQ 2956 2369 2687 2733 \nQ 2419 3097 1959 3097 \nz\nM 1959 3584 \nQ 2709 3584 3137 3096 \nQ 3566 2609 3566 1747 \nQ 3566 888 3137 398 \nQ 2709 -91 1959 -91 \nQ 1206 -91 779 398 \nQ 353 888 353 1747 \nQ 353 2609 779 3096 \nQ 1206 3584 1959 3584 \nz\n\" transform=\"scale(0.015625)\"/>\n     </defs>\n     <use xlink:href=\"#DejaVuSans-41\"/>\n     <use xlink:href=\"#DejaVuSans-6e\" x=\"68.408203\"/>\n     <use xlink:href=\"#DejaVuSans-6b\" x=\"131.787109\"/>\n     <use xlink:href=\"#DejaVuSans-6c\" x=\"189.697266\"/>\n     <use xlink:href=\"#DejaVuSans-65\" x=\"217.480469\"/>\n     <use xlink:href=\"#DejaVuSans-20\" x=\"279.003906\"/>\n     <use xlink:href=\"#DejaVuSans-42\" x=\"310.791016\"/>\n     <use xlink:href=\"#DejaVuSans-6f\" x=\"379.394531\"/>\n     <use xlink:href=\"#DejaVuSans-6f\" x=\"440.576172\"/>\n     <use xlink:href=\"#DejaVuSans-74\" x=\"501.757812\"/>\n    </g>\n   </g>\n  </g>\n  <g id=\"axes_3\">\n   <g clip-path=\"url(#p29733ed0aa)\">\n    <image xlink:href=\"data:image/png;base64,\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\" id=\"image90da1ba8a0\" transform=\"scale(1 -1) translate(0 -137.52)\" x=\"360.931765\" y=\"-28.221979\" width=\"137.52\" height=\"137.52\"/>\n   </g>\n   <g id=\"text_3\">\n    <!-- Coat -->\n    <g transform=\"translate(406.208329 22.51845) scale(0.2016 -0.2016)\">\n     <defs>\n      <path id=\"DejaVuSans-43\" d=\"M 4122 4306 \nL 4122 3641 \nQ 3803 3938 3442 4084 \nQ 3081 4231 2675 4231 \nQ 1875 4231 1450 3742 \nQ 1025 3253 1025 2328 \nQ 1025 1406 1450 917 \nQ 1875 428 2675 428 \nQ 3081 428 3442 575 \nQ 3803 722 4122 1019 \nL 4122 359 \nQ 3791 134 3420 21 \nQ 3050 -91 2638 -91 \nQ 1578 -91 968 557 \nQ 359 1206 359 2328 \nQ 359 3453 968 4101 \nQ 1578 4750 2638 4750 \nQ 3056 4750 3426 4639 \nQ 3797 4528 4122 4306 \nz\n\" transform=\"scale(0.015625)\"/>\n      <path id=\"DejaVuSans-61\" d=\"M 2194 1759 \nQ 1497 1759 1228 1600 \nQ 959 1441 959 1056 \nQ 959 750 1161 570 \nQ 1363 391 1709 391 \nQ 2188 391 2477 730 \nQ 2766 1069 2766 1631 \nL 2766 1759 \nL 2194 1759 \nz\nM 3341 1997 \nL 3341 0 \nL 2766 0 \nL 2766 531 \nQ 2569 213 2275 61 \nQ 1981 -91 1556 -91 \nQ 1019 -91 701 211 \nQ 384 513 384 1019 \nQ 384 1609 779 1909 \nQ 1175 2209 1959 2209 \nL 2766 2209 \nL 2766 2266 \nQ 2766 2663 2505 2880 \nQ 2244 3097 1772 3097 \nQ 1472 3097 1187 3025 \nQ 903 2953 641 2809 \nL 641 3341 \nQ 956 3463 1253 3523 \nQ 1550 3584 1831 3584 \nQ 2591 3584 2966 3190 \nQ 3341 2797 3341 1997 \nz\n\" transform=\"scale(0.015625)\"/>\n     </defs>\n     <use xlink:href=\"#DejaVuSans-43\"/>\n     <use xlink:href=\"#DejaVuSans-6f\" x=\"69.824219\"/>\n     <use xlink:href=\"#DejaVuSans-61\" x=\"131.005859\"/>\n     <use xlink:href=\"#DejaVuSans-74\" x=\"192.285156\"/>\n    </g>\n   </g>\n  </g>\n  <g id=\"axes_4\">\n   <g clip-path=\"url(#pe33fda9937)\">\n    <image xlink:href=\"data:image/png;base64,\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\" id=\"image5bbf21f28b\" transform=\"scale(1 -1) translate(0 -137.52)\" x=\"7.2\" y=\"-192.890215\" width=\"137.52\" height=\"137.52\"/>\n   </g>\n   <g id=\"text_4\">\n    <!-- Shirt -->\n    <g transform=\"translate(52.12849 187.186685) scale(0.2016 -0.2016)\">\n     <use xlink:href=\"#DejaVuSans-53\"/>\n     <use xlink:href=\"#DejaVuSans-68\" x=\"63.476562\"/>\n     <use xlink:href=\"#DejaVuSans-69\" x=\"126.855469\"/>\n     <use xlink:href=\"#DejaVuSans-72\" x=\"154.638672\"/>\n     <use xlink:href=\"#DejaVuSans-74\" x=\"195.751953\"/>\n    </g>\n   </g>\n  </g>\n  <g id=\"axes_5\">\n   <g clip-path=\"url(#p7de9747635)\">\n    <image xlink:href=\"data:image/png;base64,\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\" id=\"image21133f3f12\" transform=\"scale(1 -1) translate(0 -137.52)\" x=\"184.065882\" y=\"-192.890215\" width=\"137.52\" height=\"137.52\"/>\n   </g>\n   <g id=\"text_5\">\n    <!-- Ankle Boot -->\n    <g transform=\"translate(198.147997 187.186685) scale(0.2016 -0.2016)\">\n     <use xlink:href=\"#DejaVuSans-41\"/>\n     <use xlink:href=\"#DejaVuSans-6e\" x=\"68.408203\"/>\n     <use xlink:href=\"#DejaVuSans-6b\" x=\"131.787109\"/>\n     <use xlink:href=\"#DejaVuSans-6c\" x=\"189.697266\"/>\n     <use xlink:href=\"#DejaVuSans-65\" x=\"217.480469\"/>\n     <use xlink:href=\"#DejaVuSans-20\" x=\"279.003906\"/>\n     <use xlink:href=\"#DejaVuSans-42\" x=\"310.791016\"/>\n     <use xlink:href=\"#DejaVuSans-6f\" x=\"379.394531\"/>\n     <use xlink:href=\"#DejaVuSans-6f\" x=\"440.576172\"/>\n     <use xlink:href=\"#DejaVuSans-74\" x=\"501.757812\"/>\n    </g>\n   </g>\n  </g>\n  <g id=\"axes_6\">\n   <g clip-path=\"url(#p08d6250555)\">\n    <image xlink:href=\"data:image/png;base64,\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\" id=\"image986ebc387c\" transform=\"scale(1 -1) translate(0 -137.52)\" x=\"360.931765\" y=\"-192.890215\" width=\"137.52\" height=\"137.52\"/>\n   </g>\n   <g id=\"text_6\">\n    <!-- Trouser -->\n    <g transform=\"translate(392.803504 187.186685) scale(0.2016 -0.2016)\">\n     <defs>\n      <path id=\"DejaVuSans-54\" d=\"M -19 4666 \nL 3928 4666 \nL 3928 4134 \nL 2272 4134 \nL 2272 0 \nL 1638 0 \nL 1638 4134 \nL -19 4134 \nL -19 4666 \nz\n\" transform=\"scale(0.015625)\"/>\n      <path id=\"DejaVuSans-75\" d=\"M 544 1381 \nL 544 3500 \nL 1119 3500 \nL 1119 1403 \nQ 1119 906 1312 657 \nQ 1506 409 1894 409 \nQ 2359 409 2629 706 \nQ 2900 1003 2900 1516 \nL 2900 3500 \nL 3475 3500 \nL 3475 0 \nL 2900 0 \nL 2900 538 \nQ 2691 219 2414 64 \nQ 2138 -91 1772 -91 \nQ 1169 -91 856 284 \nQ 544 659 544 1381 \nz\nM 1991 3584 \nL 1991 3584 \nz\n\" transform=\"scale(0.015625)\"/>\n      <path id=\"DejaVuSans-73\" d=\"M 2834 3397 \nL 2834 2853 \nQ 2591 2978 2328 3040 \nQ 2066 3103 1784 3103 \nQ 1356 3103 1142 2972 \nQ 928 2841 928 2578 \nQ 928 2378 1081 2264 \nQ 1234 2150 1697 2047 \nL 1894 2003 \nQ 2506 1872 2764 1633 \nQ 3022 1394 3022 966 \nQ 3022 478 2636 193 \nQ 2250 -91 1575 -91 \nQ 1294 -91 989 -36 \nQ 684 19 347 128 \nL 347 722 \nQ 666 556 975 473 \nQ 1284 391 1588 391 \nQ 1994 391 2212 530 \nQ 2431 669 2431 922 \nQ 2431 1156 2273 1281 \nQ 2116 1406 1581 1522 \nL 1381 1569 \nQ 847 1681 609 1914 \nQ 372 2147 372 2553 \nQ 372 3047 722 3315 \nQ 1072 3584 1716 3584 \nQ 2034 3584 2315 3537 \nQ 2597 3491 2834 3397 \nz\n\" transform=\"scale(0.015625)\"/>\n     </defs>\n     <use xlink:href=\"#DejaVuSans-54\"/>\n     <use xlink:href=\"#DejaVuSans-72\" x=\"46.333984\"/>\n     <use xlink:href=\"#DejaVuSans-6f\" x=\"85.197266\"/>\n     <use xlink:href=\"#DejaVuSans-75\" x=\"146.378906\"/>\n     <use xlink:href=\"#DejaVuSans-73\" x=\"209.757812\"/>\n     <use xlink:href=\"#DejaVuSans-65\" x=\"261.857422\"/>\n     <use xlink:href=\"#DejaVuSans-72\" x=\"323.380859\"/>\n    </g>\n   </g>\n  </g>\n  <g id=\"axes_7\">\n   <g clip-path=\"url(#pd237538231)\">\n    <image xlink:href=\"data:image/png;base64,\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\" id=\"imaged068204355\" transform=\"scale(1 -1) translate(0 -137.52)\" x=\"7.2\" y=\"-357.55845\" width=\"137.52\" height=\"137.52\"/>\n   </g>\n   <g id=\"text_7\">\n    <!-- Trouser -->\n    <g transform=\"translate(39.07174 351.854921) scale(0.2016 -0.2016)\">\n     <use xlink:href=\"#DejaVuSans-54\"/>\n     <use xlink:href=\"#DejaVuSans-72\" x=\"46.333984\"/>\n     <use xlink:href=\"#DejaVuSans-6f\" x=\"85.197266\"/>\n     <use xlink:href=\"#DejaVuSans-75\" x=\"146.378906\"/>\n     <use xlink:href=\"#DejaVuSans-73\" x=\"209.757812\"/>\n     <use xlink:href=\"#DejaVuSans-65\" x=\"261.857422\"/>\n     <use xlink:href=\"#DejaVuSans-72\" x=\"323.380859\"/>\n    </g>\n   </g>\n  </g>\n  <g id=\"axes_8\">\n   <g clip-path=\"url(#pdc8f6016e0)\">\n    <image xlink:href=\"data:image/png;base64,\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\" id=\"imageb9adc180ce\" transform=\"scale(1 -1) translate(0 -137.52)\" x=\"184.065882\" y=\"-357.55845\" width=\"137.52\" height=\"137.52\"/>\n   </g>\n   <g id=\"text_8\">\n    <!-- Dress -->\n    <g transform=\"translate(224.294572 351.854921) scale(0.2016 -0.2016)\">\n     <defs>\n      <path id=\"DejaVuSans-44\" d=\"M 1259 4147 \nL 1259 519 \nL 2022 519 \nQ 2988 519 3436 956 \nQ 3884 1394 3884 2338 \nQ 3884 3275 3436 3711 \nQ 2988 4147 2022 4147 \nL 1259 4147 \nz\nM 628 4666 \nL 1925 4666 \nQ 3281 4666 3915 4102 \nQ 4550 3538 4550 2338 \nQ 4550 1131 3912 565 \nQ 3275 0 1925 0 \nL 628 0 \nL 628 4666 \nz\n\" transform=\"scale(0.015625)\"/>\n     </defs>\n     <use xlink:href=\"#DejaVuSans-44\"/>\n     <use xlink:href=\"#DejaVuSans-72\" x=\"77.001953\"/>\n     <use xlink:href=\"#DejaVuSans-65\" x=\"115.865234\"/>\n     <use xlink:href=\"#DejaVuSans-73\" x=\"177.388672\"/>\n     <use xlink:href=\"#DejaVuSans-73\" x=\"229.488281\"/>\n    </g>\n   </g>\n  </g>\n  <g id=\"axes_9\">\n   <g clip-path=\"url(#p195fd21a59)\">\n    <image xlink:href=\"data:image/png;base64,\niVBORw0KGgoAAAANSUhEUgAAAL8AAAC/CAYAAACv6g0GAAALeElEQVR4nO2da2zT1xnGjx0nzj1OYjtXL4EQSAaETO1E2n6galhot7GVtprEtLa7S6xVP9BWm7YKtZuqTt2mqlMnVRXQsoLYtCEtYnSjbKjLIAFSQAmFhThAgIRccOwkvsX4tg/7ep5/JY86+ed9fh/Pozc5sZ+cD4/ec17LZssTaUX+byw2G9R83/midt39lxFYk2yqgVraasH76B2AWjYx+jzSiUQWd4KxLvYGCFksaH4iFpqfiIXmJ2Kh+YlYaH4iFpxHLSUsONpTaZzU5pSXa9cj96+CNZNPL0DtxfXHoPab/Y9BrfSBae366JYqWOPea4fa5LfxHn+5D8enH823QG3wxxu06wVe/d6VUipx/SbU0skk1DL9Pu82PPmJWGh+Ihaan4iF5idiofmJWGh+IhaLKbo6rTlYS+FIzftmh3a9aBz/z5cP447DiAvvw//AHaipeX2iXDCJf577LP55gTV5UKt66zTUbj2/EWrhtTHteskAjlxrd1+AWioYhBqjTkIWGZqfiIXmJ2Kh+YlYaH4iFnM0thkkOka0vnZNu37pVQ+ssftzoeZ6/zzU/Bv0jWFKKZUu1O8/bw6nPde/grV0MU6CaiscUCucxEmKLaxPdVznw3gf0SjUzABPfiIWmp+IheYnYqH5iVhofiIWmp+IxRxRZ4b4ulZq1/MmcE3aoIduYdM6qLW+hu+zjj/eqF2P1ODo0dWPz6U7pXiTgS81Q8157Cqu27RCu+59Cje2re7L8NnBLDavGcGTn4iF5idiofmJWGh+Ihaan4iF5idiWdZRZxr8a9f1xHFRCsdw84347uzotnqoFYMXBFd0h2BNshB/NeEaHD/m+3H8OPSrWqiVntJ/WI5Plu/5uHz/MkI+BZqfiIXmJ2Kh+YlYaH4iFpqfiGVZR52O4Yh2PeQpgDWF0/hyuH0uBTXXKdxpaU3o64KNhbBmYhOUVE4IP/fX/O4s1FxHnVArG9Y/LxhoLcYbyRQ+V0jI4kLzE7HQ/EQsND8RC81PxELzE7GYI+rMMBqLVei7H7fv+husOfjzR6CWF8Jvhu589SDUXn7nW9r1wim897b1+LL5pQk8vFpNz0Bp7bOTUDv54XrteuNh3HmacSjJC+yELC40PxELzU/EQvMTsdD8RCw0PxGLOYZQZ0hkm37ocrga/8+7+/Hw5GgN7sL0r8GpcQ5oFK24pB/8rJRSOXHcQWo7B27EK6XCna1Qswfwxf3bG/Sdru6P8VgiS+8A1MwAT34iFpqfiIXmJ2Kh+YlYaH4iFnM0tmVIsXdOu25JlcKasKcIatYEDsZKxnA6496hH4YdHsDPB07dg+8Zx7rwhBibwf3eyv9ASUXuA6lOP64xOzz5iVhofiIWmp+IheYnYqH5iVhofiIWc0SdVoPJ0Cl8r3a8q0K7HsdJp4qtWIDaLzq6ofbG69+A2sU+/TBs24M4lqw9gZvebnbiCTEdXx+E2vGGz0OtvEfftDfWiffo6YOSKeDJT8RC8xOx0PxELDQ/EQvNT8RC8xOxmCPqTOOOSSNcA/q4cOwhHBU27cWdm/ufxVFhcn8AagmffrpJ1Qc4wvW14UHTufgFQTXWgUXL73BsGQYztFftuQVr8Lhrc8CTn4iF5idiofmJWGh+Ihaan4iF5idiWdbPFVrs+rjw8tv4AnjBCI4Ya3txx2egGdcFG/XrtjCOHhdqcbeqMkh+PR/irzNvFj9XOLlRf2G+4jIONPMPn8EbMQE8+YlYaH4iFpqfiIXmJ2Kh+YlYaH4iFlN0dVpseJvpBI7i5rd9QbuedwtHjI4RnCPGynMN6sD4FYWHYVtxiaruwXuMlWHNGsefR7QKd7NG2qPaddegweMBJocnPxELzU/EQvMTsdD8RCw0PxELzU/EYoqo0yjONMJxbFj/86yrYU3xDX3kp5RS/rV4CPXYFoPB1if0nZbF4zjrtBoMoS7Cd8pVqB53lxpFpGUn8rXreTPzsMbs7cA8+YlYaH4iFpqfiIXmJ2Kh+YlYTJH2TD13P9QsnX6oJU7qJ7MkcX+aCtXjIdSe7mmoLVS6oZYf0KdV4Rq8kamHcMJlieJms5bf3obalafxHh2X9euPvv8RrGnPvwG1Vx57EmrKex1KqTAYhv0ZwJOfiIXmJ2Kh+YlYaH4iFpqfiIXmJ2LJatR5e8d9ULPil/SULYpbqO706ONMpZRq2HpNu+490QhrEjjpNGTX9w5A7aU/f1O7XtOHnySsq8MR7vioE2qxegfUHnm4H2oX/rlBu34jVglr9r7+NahFN+MmOtXlgFLROG7oKztwCv/MDODJT8RC8xOx0PxELDQ/EQvNT8RC8xOxZDXqjJfg+Cu1cQ5qjTvxPdKEwdDoNSVT+t+1Tz+FRCmlLAv4Xm3cYxD7bf8q1HK26v/u3BDu3Cz4Gd5jy8VBqMU78KBs7xN1ULv2sv5ztM+C6dRKqajTYKj1Ov0AcKWUatqD48xUbvbOY578RCw0PxELzU/EQvMTsdD8RCw0PxFLdodQW3A0Nm3Q8ZnCA0VUtBpvP+7Ut4o6T+KL4/NN+HeVjGKtwI/ju9kng9r18veKYU2wHqfQwUb8NydLcKeobRZffK8+o99/Ih9/Z742rDkH8R7Lf4Avvs+/5YFa0aHTUMsEnvxELDQ/EQvNT8RC8xOx0PxELDQ/EUt23+pM4/hrrgVHdI5L+H901e5JqN14vEa77uzHl8MD6xxQu+eHA1A7frwdasX/0P9M33pYoj73d9zJGq0qgVrS4AJ+woVfCfC36PNkux9/Z3X/xl2p1jiu8/Y3QG3loT6o3W148hOx0PxELDQ/EQvNT8RC8xOxLJnJLA1HcNoz+ihODrbu0M/aVUqp2E79U4ZDz5TCmtY38GST0efxjN7ke/ju76xD31DWcBj/XeMP4j3m6vvk/vczd52B2vSP8IQb1CBY3TODa97E93QD3fi+cNNBfF87m7N9efITsdD8RCw0PxELzU/EQvMTsdD8RCzZvcNrhMH9XtfJMqj1DuNLt5X/0jdrzbTjP7nkKj4P3Odw1GkLYG18CxiGbXA32YKvBKtEIdacgzgyLv0Ex5axev1nHHlhFta81HwEaj95+7tQc5/DEant+Fmo3W148hOx0PxELDQ/EQvNT8RC8xOx0PxELEsm6rTm50MtsrkNakbTTfJuh7XriVL8u9I2fB6E6u1Qi1ThuvwZ/UccdeF4t3AKZ51GMWjRBO4uvbIdP1fY9Ad9RDp1L/6sCqcMnk00iHErd2fvnq4RPPmJWGh+Ihaan4iF5idiofmJWGh+IpYlc4E9tbAAtXgR/h8te/EW1KK79M8VXv0+3kfVERxnWhM42ptvwZGrGtJ/zAU+/POM4syQB38eRRO4Ls+Hv+7Aar3m+f0IrPHuxB21dj+OcZcKPPmJWGh+Ihaan4iF5idiofmJWGh+IpYlE3UaUXroY6j51L1Y26KP29zOaVizUO6GWvWfvFALetZArfhh/fSYiWEXrHmu8yjU9rz7ZajNNuGoNmnH0WrN9uvadf/sSlhTBQZXK3X3B0Z/FvDkJ2Kh+YlYaH4iFpqfiIXmJ2Kh+YlYTBF1phO4Y7Lkj6eg5jiv7zqMH8Ujf9L1BnHgX/Ebk0NDWHuhsUe7/lSbD9YYsQ8/C6r87Th+dJ7FZ13igP49UcdNHO8mffjtTzPAk5+IheYnYqH5iVhofiIWmp+IxRRpjyEGE12Sw1e061Y8t1rhGTBKTfTjO6vqmVwofTCjf26x0tYLa/pCzfh3dfmh1PJTgycEL16GGqrCc14+BYPvRaWXxAuZPPmJXGh+Ihaan4iF5idiofmJWGh+IhbzR51ZjM1QdKqUUq2/xo1tp1/R34O9k8STUka6cdRZ984FqCWDQahllSUSZxrBk5+IheYnYqH5iVhofiIWmp+IheYnYvkvRRGtCqOJNW0AAAAASUVORK5CYII=\" id=\"image82d18ab0b7\" transform=\"scale(1 -1) translate(0 -137.52)\" x=\"360.931765\" y=\"-357.55845\" width=\"137.52\" height=\"137.52\"/>\n   </g>\n   <g id=\"text_9\">\n    <!-- Shirt -->\n    <g transform=\"translate(405.860254 351.854921) scale(0.2016 -0.2016)\">\n     <use xlink:href=\"#DejaVuSans-53\"/>\n     <use xlink:href=\"#DejaVuSans-68\" x=\"63.476562\"/>\n     <use xlink:href=\"#DejaVuSans-69\" x=\"126.855469\"/>\n     <use xlink:href=\"#DejaVuSans-72\" x=\"154.638672\"/>\n     <use xlink:href=\"#DejaVuSans-74\" x=\"195.751953\"/>\n    </g>\n   </g>\n  </g>\n </g>\n <defs>\n  <clipPath id=\"p039e73d5ce\">\n   <rect x=\"7.2\" y=\"28.51845\" width=\"137.223529\" height=\"137.223529\"/>\n  </clipPath>\n  <clipPath id=\"p5725d9f10f\">\n   <rect x=\"184.065882\" y=\"28.51845\" width=\"137.223529\" height=\"137.223529\"/>\n  </clipPath>\n  <clipPath id=\"p29733ed0aa\">\n   <rect x=\"360.931765\" y=\"28.51845\" width=\"137.223529\" height=\"137.223529\"/>\n  </clipPath>\n  <clipPath id=\"pe33fda9937\">\n   <rect x=\"7.2\" y=\"193.186685\" width=\"137.223529\" height=\"137.223529\"/>\n  </clipPath>\n  <clipPath id=\"p7de9747635\">\n   <rect x=\"184.065882\" y=\"193.186685\" width=\"137.223529\" height=\"137.223529\"/>\n  </clipPath>\n  <clipPath id=\"p08d6250555\">\n   <rect x=\"360.931765\" y=\"193.186685\" width=\"137.223529\" height=\"137.223529\"/>\n  </clipPath>\n  <clipPath id=\"pd237538231\">\n   <rect x=\"7.2\" y=\"357.854921\" width=\"137.223529\" height=\"137.223529\"/>\n  </clipPath>\n  <clipPath id=\"pdc8f6016e0\">\n   <rect x=\"184.065882\" y=\"357.854921\" width=\"137.223529\" height=\"137.223529\"/>\n  </clipPath>\n  <clipPath id=\"p195fd21a59\">\n   <rect x=\"360.931765\" y=\"357.854921\" width=\"137.223529\" height=\"137.223529\"/>\n  </clipPath>\n </defs>\n</svg>\n",
      "text/plain": [
       "<Figure size 800x800 with 9 Axes>"
      ]
     },
     "metadata": {},
     "output_type": "display_data"
    }
   ],
   "source": [
    "# Look at data\n",
    "\n",
    "# Labels\n",
    "labels_map = {\n",
    "    0: \"T-Shirt\",\n",
    "    1: \"Trouser\",\n",
    "    2: \"Pullover\",\n",
    "    3: \"Dress\",\n",
    "    4: \"Coat\",\n",
    "    5: \"Sandal\",\n",
    "    6: \"Shirt\",\n",
    "    7: \"Sneaker\",\n",
    "    8: \"Bag\",\n",
    "    9: \"Ankle Boot\",\n",
    "}\n",
    "\n",
    "# plot data\n",
    "figure = plt.figure(figsize=(8, 8))\n",
    "cols, rows = 3, 3\n",
    "for i in range(1, cols * rows + 1):\n",
    "    sample_idx = torch.randint(len(data.train), size=(1,)).item()\n",
    "    img, label = data.train[sample_idx]\n",
    "    figure.add_subplot(rows, cols, i)\n",
    "    plt.title(labels_map[label])\n",
    "    plt.imshow(img.squeeze())\n",
    "    plt.axis(\"off\")"
   ]
  },
  {
   "cell_type": "code",
   "execution_count": 21,
   "metadata": {},
   "outputs": [
    {
     "name": "stdout",
     "output_type": "stream",
     "text": [
      "torch.Size([1024, 1, 28, 28]) torch.float32 torch.Size([1024]) torch.int64\n"
     ]
    }
   ],
   "source": [
    "X, y = next(iter(data.train_dl))\n",
    "print(X.shape, X.dtype, y.shape, y.dtype)"
   ]
  },
  {
   "cell_type": "code",
   "execution_count": 22,
   "metadata": {},
   "outputs": [
    {
     "data": {
      "text/plain": [
       "'1.47 sec'"
      ]
     },
     "execution_count": 22,
     "metadata": {},
     "output_type": "execute_result"
    }
   ],
   "source": [
    "tic = time.time()\n",
    "for X, y in data.train_dl:\n",
    "    continue\n",
    "f'{time.time() - tic:.2f} sec'"
   ]
  },
  {
   "cell_type": "code",
   "execution_count": 23,
   "metadata": {},
   "outputs": [
    {
     "name": "stdout",
     "output_type": "stream",
     "text": [
      "X =  tensor([[1., 2., 3.],\n",
      "        [5., 6., 7.]])\n",
      "Sum along 0 axis:  tensor([[ 6.,  8., 10.]])\n",
      "Sum along 1 axis:  tensor([[ 6.],\n",
      "        [18.]])\n"
     ]
    }
   ],
   "source": [
    "X = torch.tensor([[1.0, 2.0, 3.0], [5.0, 6.0, 7.0]])\n",
    "print ('X = ', X)\n",
    "print ('Sum along 0 axis: ', X.sum(0, keepdim=True))\n",
    "print ('Sum along 1 axis: ', X.sum(1, keepdim=True))"
   ]
  },
  {
   "cell_type": "code",
   "execution_count": 24,
   "metadata": {},
   "outputs": [
    {
     "name": "stdout",
     "output_type": "stream",
     "text": [
      "tensor([[0.0900, 0.2447, 0.6652],\n",
      "        [0.0900, 0.2447, 0.6652]])\n",
      "tensor([[1.],\n",
      "        [1.]])\n"
     ]
    }
   ],
   "source": [
    "def softmax(X):\n",
    "    X_exp = torch.exp(X)\n",
    "    partition = X_exp.sum(1, keepdim=True)\n",
    "    return X_exp/partition\n",
    "\n",
    "Y = softmax(X)\n",
    "print (Y)\n",
    "print (Y.sum(1, keepdim=True))"
   ]
  },
  {
   "cell_type": "code",
   "execution_count": 25,
   "metadata": {},
   "outputs": [
    {
     "name": "stdout",
     "output_type": "stream",
     "text": [
      "tensor([[-0.3892, -0.9923, -0.6933,  0.3481,  0.6296],\n",
      "        [ 0.6320,  0.5141, -0.4293,  0.7789,  1.2530]])\n",
      "tensor([[0.1400, 0.0766, 0.1033, 0.2925, 0.3877],\n",
      "        [0.1903, 0.1692, 0.0659, 0.2205, 0.3542]])\n",
      "tensor([[1.0000],\n",
      "        [1.0000]])\n"
     ]
    }
   ],
   "source": [
    "X = torch.randn((2,5))\n",
    "print (X)\n",
    "Y = softmax(X)\n",
    "print (Y)\n",
    "print (Y.sum(1, keepdim=True))"
   ]
  },
  {
   "cell_type": "code",
   "execution_count": 4,
   "metadata": {},
   "outputs": [],
   "source": [
    "def cross_entropy(y_hat, y):\n",
    "    return - torch.log(y_hat[torch.arange(len(y_hat)), y]).mean()\n",
    "\n",
    "\n",
    "def softmax(X):\n",
    "    X_exp = torch.exp(X)\n",
    "    partition = X_exp.sum(1, keepdim=True)\n",
    "    return X_exp/partition\n",
    "\n",
    "\n",
    "# Create model\n",
    "class Classifier(nn.Module):\n",
    "    def __init__(self, fan_in, fan_out):\n",
    "        super().__init__()\n",
    "        # self.model = nn.Sequential(nn.Linear(28*28,1))\n",
    "        self.W = torch.randn((fan_in, fan_out))/fan_in**0.5\n",
    "        self.W.requires_grad = True\n",
    "        self.b = torch.zeros(fan_out, requires_grad=True)\n",
    "\n",
    "    def parameters(self):\n",
    "        return [self.W, self.b]\n",
    "\n",
    "    def forward(self, x):\n",
    "        x = x.view(-1, self.W.shape[0])\n",
    "        out = x @ self.W + self.b\n",
    "        return softmax(out)\n",
    "\n",
    "    def loss(self, y_hat, y):\n",
    "        return cross_entropy(y_hat, y)\n",
    "\n",
    "    def accuracy(self, Y_hat, y):\n",
    "        Y_hat = Y_hat.reshape((-1, Y_hat.shape[-1]))\n",
    "        preds = Y_hat.argmax(axis=1).long()\n",
    "        compare = (preds == y).float()\n",
    "        return compare.mean()\n"
   ]
  },
  {
   "cell_type": "code",
   "execution_count": 5,
   "metadata": {},
   "outputs": [
    {
     "name": "stdout",
     "output_type": "stream",
     "text": [
      "Epoch (0): train loss = 0.82, val loss = 0.84, acc = 0.73\n",
      "Epoch (5): train loss = 0.62, val loss = 0.60, acc = 0.79\n",
      "Epoch (10): train loss = 0.53, val loss = 0.49, acc = 0.83\n",
      "Epoch (15): train loss = 0.49, val loss = 0.49, acc = 0.82\n",
      "Epoch (20): train loss = 0.45, val loss = 0.46, acc = 0.84\n",
      "Epoch (25): train loss = 0.53, val loss = 0.44, acc = 0.85\n",
      "Epoch (30): train loss = 0.53, val loss = 0.49, acc = 0.82\n",
      "Epoch (35): train loss = 0.48, val loss = 0.51, acc = 0.83\n",
      "Epoch (40): train loss = 0.41, val loss = 0.52, acc = 0.82\n",
      "Epoch (45): train loss = 0.52, val loss = 0.47, acc = 0.85\n"
     ]
    },
    {
     "data": {
      "image/svg+xml": "<?xml version=\"1.0\" encoding=\"utf-8\" standalone=\"no\"?>\n<!DOCTYPE svg PUBLIC \"-//W3C//DTD SVG 1.1//EN\"\n  \"http://www.w3.org/Graphics/SVG/1.1/DTD/svg11.dtd\">\n<svg xmlns:xlink=\"http://www.w3.org/1999/xlink\" width=\"441.060375pt\" height=\"311.385375pt\" viewBox=\"0 0 441.060375 311.385375\" xmlns=\"http://www.w3.org/2000/svg\" version=\"1.1\">\n <metadata>\n  <rdf:RDF xmlns:dc=\"http://purl.org/dc/elements/1.1/\" xmlns:cc=\"http://creativecommons.org/ns#\" xmlns:rdf=\"http://www.w3.org/1999/02/22-rdf-syntax-ns#\">\n   <cc:Work>\n    <dc:type rdf:resource=\"http://purl.org/dc/dcmitype/StillImage\"/>\n    <dc:date>2023-01-20T05:02:09.144125</dc:date>\n    <dc:format>image/svg+xml</dc:format>\n    <dc:creator>\n     <cc:Agent>\n      <dc:title>Matplotlib v3.6.3, https://matplotlib.org/</dc:title>\n     </cc:Agent>\n    </dc:creator>\n   </cc:Work>\n  </rdf:RDF>\n </metadata>\n <defs>\n  <style type=\"text/css\">*{stroke-linejoin: round; stroke-linecap: butt}</style>\n </defs>\n <g id=\"figure_1\">\n  <g id=\"patch_1\">\n   <path d=\"M 0 311.385375 \nL 441.060375 311.385375 \nL 441.060375 0 \nL 0 0 \nz\n\" style=\"fill: #f0f0f0\"/>\n  </g>\n  <g id=\"axes_1\">\n   <g id=\"patch_2\">\n    <path d=\"M 32.964375 287.136 \nL 433.860375 287.136 \nL 433.860375 7.2 \nL 32.964375 7.2 \nz\n\" style=\"fill: #f0f0f0\"/>\n   </g>\n   <g id=\"matplotlib.axis_1\">\n    <g id=\"xtick_1\">\n     <g id=\"line2d_1\">\n      <path d=\"M 51.18692 287.136 \nL 51.18692 7.2 \n\" clip-path=\"url(#pede79fbcfa)\" style=\"fill: none; stroke: #cbcbcb\"/>\n     </g>\n     <g id=\"line2d_2\"/>\n     <g id=\"text_1\">\n      <!-- 0 -->\n      <g transform=\"translate(46.73317 301.273812) scale(0.14 -0.14)\">\n       <defs>\n        <path id=\"DejaVuSans-30\" d=\"M 2034 4250 \nQ 1547 4250 1301 3770 \nQ 1056 3291 1056 2328 \nQ 1056 1369 1301 889 \nQ 1547 409 2034 409 \nQ 2525 409 2770 889 \nQ 3016 1369 3016 2328 \nQ 3016 3291 2770 3770 \nQ 2525 4250 2034 4250 \nz\nM 2034 4750 \nQ 2819 4750 3233 4129 \nQ 3647 3509 3647 2328 \nQ 3647 1150 3233 529 \nQ 2819 -91 2034 -91 \nQ 1250 -91 836 529 \nQ 422 1150 422 2328 \nQ 422 3509 836 4129 \nQ 1250 4750 2034 4750 \nz\n\" transform=\"scale(0.015625)\"/>\n       </defs>\n       <use xlink:href=\"#DejaVuSans-30\"/>\n      </g>\n     </g>\n    </g>\n    <g id=\"xtick_2\">\n     <g id=\"line2d_3\">\n      <path d=\"M 125.564657 287.136 \nL 125.564657 7.2 \n\" clip-path=\"url(#pede79fbcfa)\" style=\"fill: none; stroke: #cbcbcb\"/>\n     </g>\n     <g id=\"line2d_4\"/>\n     <g id=\"text_2\">\n      <!-- 10 -->\n      <g transform=\"translate(116.657157 301.273812) scale(0.14 -0.14)\">\n       <defs>\n        <path id=\"DejaVuSans-31\" d=\"M 794 531 \nL 1825 531 \nL 1825 4091 \nL 703 3866 \nL 703 4441 \nL 1819 4666 \nL 2450 4666 \nL 2450 531 \nL 3481 531 \nL 3481 0 \nL 794 0 \nL 794 531 \nz\n\" transform=\"scale(0.015625)\"/>\n       </defs>\n       <use xlink:href=\"#DejaVuSans-31\"/>\n       <use xlink:href=\"#DejaVuSans-30\" x=\"63.623047\"/>\n      </g>\n     </g>\n    </g>\n    <g id=\"xtick_3\">\n     <g id=\"line2d_5\">\n      <path d=\"M 199.942394 287.136 \nL 199.942394 7.2 \n\" clip-path=\"url(#pede79fbcfa)\" style=\"fill: none; stroke: #cbcbcb\"/>\n     </g>\n     <g id=\"line2d_6\"/>\n     <g id=\"text_3\">\n      <!-- 20 -->\n      <g transform=\"translate(191.034894 301.273812) scale(0.14 -0.14)\">\n       <defs>\n        <path id=\"DejaVuSans-32\" d=\"M 1228 531 \nL 3431 531 \nL 3431 0 \nL 469 0 \nL 469 531 \nQ 828 903 1448 1529 \nQ 2069 2156 2228 2338 \nQ 2531 2678 2651 2914 \nQ 2772 3150 2772 3378 \nQ 2772 3750 2511 3984 \nQ 2250 4219 1831 4219 \nQ 1534 4219 1204 4116 \nQ 875 4013 500 3803 \nL 500 4441 \nQ 881 4594 1212 4672 \nQ 1544 4750 1819 4750 \nQ 2544 4750 2975 4387 \nQ 3406 4025 3406 3419 \nQ 3406 3131 3298 2873 \nQ 3191 2616 2906 2266 \nQ 2828 2175 2409 1742 \nQ 1991 1309 1228 531 \nz\n\" transform=\"scale(0.015625)\"/>\n       </defs>\n       <use xlink:href=\"#DejaVuSans-32\"/>\n       <use xlink:href=\"#DejaVuSans-30\" x=\"63.623047\"/>\n      </g>\n     </g>\n    </g>\n    <g id=\"xtick_4\">\n     <g id=\"line2d_7\">\n      <path d=\"M 274.32013 287.136 \nL 274.32013 7.2 \n\" clip-path=\"url(#pede79fbcfa)\" style=\"fill: none; stroke: #cbcbcb\"/>\n     </g>\n     <g id=\"line2d_8\"/>\n     <g id=\"text_4\">\n      <!-- 30 -->\n      <g transform=\"translate(265.41263 301.273812) scale(0.14 -0.14)\">\n       <defs>\n        <path id=\"DejaVuSans-33\" d=\"M 2597 2516 \nQ 3050 2419 3304 2112 \nQ 3559 1806 3559 1356 \nQ 3559 666 3084 287 \nQ 2609 -91 1734 -91 \nQ 1441 -91 1130 -33 \nQ 819 25 488 141 \nL 488 750 \nQ 750 597 1062 519 \nQ 1375 441 1716 441 \nQ 2309 441 2620 675 \nQ 2931 909 2931 1356 \nQ 2931 1769 2642 2001 \nQ 2353 2234 1838 2234 \nL 1294 2234 \nL 1294 2753 \nL 1863 2753 \nQ 2328 2753 2575 2939 \nQ 2822 3125 2822 3475 \nQ 2822 3834 2567 4026 \nQ 2313 4219 1838 4219 \nQ 1578 4219 1281 4162 \nQ 984 4106 628 3988 \nL 628 4550 \nQ 988 4650 1302 4700 \nQ 1616 4750 1894 4750 \nQ 2613 4750 3031 4423 \nQ 3450 4097 3450 3541 \nQ 3450 3153 3228 2886 \nQ 3006 2619 2597 2516 \nz\n\" transform=\"scale(0.015625)\"/>\n       </defs>\n       <use xlink:href=\"#DejaVuSans-33\"/>\n       <use xlink:href=\"#DejaVuSans-30\" x=\"63.623047\"/>\n      </g>\n     </g>\n    </g>\n    <g id=\"xtick_5\">\n     <g id=\"line2d_9\">\n      <path d=\"M 348.697867 287.136 \nL 348.697867 7.2 \n\" clip-path=\"url(#pede79fbcfa)\" style=\"fill: none; stroke: #cbcbcb\"/>\n     </g>\n     <g id=\"line2d_10\"/>\n     <g id=\"text_5\">\n      <!-- 40 -->\n      <g transform=\"translate(339.790367 301.273812) scale(0.14 -0.14)\">\n       <defs>\n        <path id=\"DejaVuSans-34\" d=\"M 2419 4116 \nL 825 1625 \nL 2419 1625 \nL 2419 4116 \nz\nM 2253 4666 \nL 3047 4666 \nL 3047 1625 \nL 3713 1625 \nL 3713 1100 \nL 3047 1100 \nL 3047 0 \nL 2419 0 \nL 2419 1100 \nL 313 1100 \nL 313 1709 \nL 2253 4666 \nz\n\" transform=\"scale(0.015625)\"/>\n       </defs>\n       <use xlink:href=\"#DejaVuSans-34\"/>\n       <use xlink:href=\"#DejaVuSans-30\" x=\"63.623047\"/>\n      </g>\n     </g>\n    </g>\n    <g id=\"xtick_6\">\n     <g id=\"line2d_11\">\n      <path d=\"M 423.075603 287.136 \nL 423.075603 7.2 \n\" clip-path=\"url(#pede79fbcfa)\" style=\"fill: none; stroke: #cbcbcb\"/>\n     </g>\n     <g id=\"line2d_12\"/>\n     <g id=\"text_6\">\n      <!-- 50 -->\n      <g transform=\"translate(414.168103 301.273812) scale(0.14 -0.14)\">\n       <defs>\n        <path id=\"DejaVuSans-35\" d=\"M 691 4666 \nL 3169 4666 \nL 3169 4134 \nL 1269 4134 \nL 1269 2991 \nQ 1406 3038 1543 3061 \nQ 1681 3084 1819 3084 \nQ 2600 3084 3056 2656 \nQ 3513 2228 3513 1497 \nQ 3513 744 3044 326 \nQ 2575 -91 1722 -91 \nQ 1428 -91 1123 -41 \nQ 819 9 494 109 \nL 494 744 \nQ 775 591 1075 516 \nQ 1375 441 1709 441 \nQ 2250 441 2565 725 \nQ 2881 1009 2881 1497 \nQ 2881 1984 2565 2268 \nQ 2250 2553 1709 2553 \nQ 1456 2553 1204 2497 \nQ 953 2441 691 2322 \nL 691 4666 \nz\n\" transform=\"scale(0.015625)\"/>\n       </defs>\n       <use xlink:href=\"#DejaVuSans-35\"/>\n       <use xlink:href=\"#DejaVuSans-30\" x=\"63.623047\"/>\n      </g>\n     </g>\n    </g>\n   </g>\n   <g id=\"matplotlib.axis_2\">\n    <g id=\"ytick_1\">\n     <g id=\"line2d_13\">\n      <path d=\"M 32.964375 280.349669 \nL 433.860375 280.349669 \n\" clip-path=\"url(#pede79fbcfa)\" style=\"fill: none; stroke: #cbcbcb\"/>\n     </g>\n     <g id=\"line2d_14\"/>\n     <g id=\"text_7\">\n      <!-- 0.4 -->\n      <g transform=\"translate(7.2 285.668575) scale(0.14 -0.14)\">\n       <defs>\n        <path id=\"DejaVuSans-2e\" d=\"M 684 794 \nL 1344 794 \nL 1344 0 \nL 684 0 \nL 684 794 \nz\n\" transform=\"scale(0.015625)\"/>\n       </defs>\n       <use xlink:href=\"#DejaVuSans-30\"/>\n       <use xlink:href=\"#DejaVuSans-2e\" x=\"63.623047\"/>\n       <use xlink:href=\"#DejaVuSans-34\" x=\"95.410156\"/>\n      </g>\n     </g>\n    </g>\n    <g id=\"ytick_2\">\n     <g id=\"line2d_15\">\n      <path d=\"M 32.964375 222.552635 \nL 433.860375 222.552635 \n\" clip-path=\"url(#pede79fbcfa)\" style=\"fill: none; stroke: #cbcbcb\"/>\n     </g>\n     <g id=\"line2d_16\"/>\n     <g id=\"text_8\">\n      <!-- 0.5 -->\n      <g transform=\"translate(7.2 227.871541) scale(0.14 -0.14)\">\n       <use xlink:href=\"#DejaVuSans-30\"/>\n       <use xlink:href=\"#DejaVuSans-2e\" x=\"63.623047\"/>\n       <use xlink:href=\"#DejaVuSans-35\" x=\"95.410156\"/>\n      </g>\n     </g>\n    </g>\n    <g id=\"ytick_3\">\n     <g id=\"line2d_17\">\n      <path d=\"M 32.964375 164.755602 \nL 433.860375 164.755602 \n\" clip-path=\"url(#pede79fbcfa)\" style=\"fill: none; stroke: #cbcbcb\"/>\n     </g>\n     <g id=\"line2d_18\"/>\n     <g id=\"text_9\">\n      <!-- 0.6 -->\n      <g transform=\"translate(7.2 170.074508) scale(0.14 -0.14)\">\n       <defs>\n        <path id=\"DejaVuSans-36\" d=\"M 2113 2584 \nQ 1688 2584 1439 2293 \nQ 1191 2003 1191 1497 \nQ 1191 994 1439 701 \nQ 1688 409 2113 409 \nQ 2538 409 2786 701 \nQ 3034 994 3034 1497 \nQ 3034 2003 2786 2293 \nQ 2538 2584 2113 2584 \nz\nM 3366 4563 \nL 3366 3988 \nQ 3128 4100 2886 4159 \nQ 2644 4219 2406 4219 \nQ 1781 4219 1451 3797 \nQ 1122 3375 1075 2522 \nQ 1259 2794 1537 2939 \nQ 1816 3084 2150 3084 \nQ 2853 3084 3261 2657 \nQ 3669 2231 3669 1497 \nQ 3669 778 3244 343 \nQ 2819 -91 2113 -91 \nQ 1303 -91 875 529 \nQ 447 1150 447 2328 \nQ 447 3434 972 4092 \nQ 1497 4750 2381 4750 \nQ 2619 4750 2861 4703 \nQ 3103 4656 3366 4563 \nz\n\" transform=\"scale(0.015625)\"/>\n       </defs>\n       <use xlink:href=\"#DejaVuSans-30\"/>\n       <use xlink:href=\"#DejaVuSans-2e\" x=\"63.623047\"/>\n       <use xlink:href=\"#DejaVuSans-36\" x=\"95.410156\"/>\n      </g>\n     </g>\n    </g>\n    <g id=\"ytick_4\">\n     <g id=\"line2d_19\">\n      <path d=\"M 32.964375 106.958568 \nL 433.860375 106.958568 \n\" clip-path=\"url(#pede79fbcfa)\" style=\"fill: none; stroke: #cbcbcb\"/>\n     </g>\n     <g id=\"line2d_20\"/>\n     <g id=\"text_10\">\n      <!-- 0.7 -->\n      <g transform=\"translate(7.2 112.277475) scale(0.14 -0.14)\">\n       <defs>\n        <path id=\"DejaVuSans-37\" d=\"M 525 4666 \nL 3525 4666 \nL 3525 4397 \nL 1831 0 \nL 1172 0 \nL 2766 4134 \nL 525 4134 \nL 525 4666 \nz\n\" transform=\"scale(0.015625)\"/>\n       </defs>\n       <use xlink:href=\"#DejaVuSans-30\"/>\n       <use xlink:href=\"#DejaVuSans-2e\" x=\"63.623047\"/>\n       <use xlink:href=\"#DejaVuSans-37\" x=\"95.410156\"/>\n      </g>\n     </g>\n    </g>\n    <g id=\"ytick_5\">\n     <g id=\"line2d_21\">\n      <path d=\"M 32.964375 49.161535 \nL 433.860375 49.161535 \n\" clip-path=\"url(#pede79fbcfa)\" style=\"fill: none; stroke: #cbcbcb\"/>\n     </g>\n     <g id=\"line2d_22\"/>\n     <g id=\"text_11\">\n      <!-- 0.8 -->\n      <g transform=\"translate(7.2 54.480441) scale(0.14 -0.14)\">\n       <defs>\n        <path id=\"DejaVuSans-38\" d=\"M 2034 2216 \nQ 1584 2216 1326 1975 \nQ 1069 1734 1069 1313 \nQ 1069 891 1326 650 \nQ 1584 409 2034 409 \nQ 2484 409 2743 651 \nQ 3003 894 3003 1313 \nQ 3003 1734 2745 1975 \nQ 2488 2216 2034 2216 \nz\nM 1403 2484 \nQ 997 2584 770 2862 \nQ 544 3141 544 3541 \nQ 544 4100 942 4425 \nQ 1341 4750 2034 4750 \nQ 2731 4750 3128 4425 \nQ 3525 4100 3525 3541 \nQ 3525 3141 3298 2862 \nQ 3072 2584 2669 2484 \nQ 3125 2378 3379 2068 \nQ 3634 1759 3634 1313 \nQ 3634 634 3220 271 \nQ 2806 -91 2034 -91 \nQ 1263 -91 848 271 \nQ 434 634 434 1313 \nQ 434 1759 690 2068 \nQ 947 2378 1403 2484 \nz\nM 1172 3481 \nQ 1172 3119 1398 2916 \nQ 1625 2713 2034 2713 \nQ 2441 2713 2670 2916 \nQ 2900 3119 2900 3481 \nQ 2900 3844 2670 4047 \nQ 2441 4250 2034 4250 \nQ 1625 4250 1398 4047 \nQ 1172 3844 1172 3481 \nz\n\" transform=\"scale(0.015625)\"/>\n       </defs>\n       <use xlink:href=\"#DejaVuSans-30\"/>\n       <use xlink:href=\"#DejaVuSans-2e\" x=\"63.623047\"/>\n       <use xlink:href=\"#DejaVuSans-38\" x=\"95.410156\"/>\n      </g>\n     </g>\n    </g>\n   </g>\n   <g id=\"line2d_23\">\n    <path d=\"M 51.18692 37.628417 \nL 58.624694 99.549716 \nL 66.062468 147.082883 \nL 73.500241 158.775909 \nL 80.938015 156.300697 \nL 88.375789 153.406163 \nL 95.813562 209.456231 \nL 103.251336 222.177374 \nL 110.68911 185.294647 \nL 118.126883 218.427798 \nL 125.564657 204.811927 \nL 133.002431 225.20876 \nL 140.440204 243.578038 \nL 147.877978 214.020267 \nL 155.315752 226.861451 \nL 162.753525 229.03621 \nL 170.191299 240.153443 \nL 177.629073 235.599018 \nL 185.066846 244.697877 \nL 192.50462 185.47847 \nL 199.942394 253.45689 \nL 207.380167 260.221454 \nL 214.817941 234.665207 \nL 222.255715 257.693723 \nL 229.693488 239.257285 \nL 237.131262 206.595079 \nL 244.569035 251.080945 \nL 252.006809 242.620818 \nL 259.444583 237.926631 \nL 266.882356 214.448684 \nL 274.32013 202.833307 \nL 281.757904 225.712036 \nL 289.195677 231.15857 \nL 296.633451 215.483105 \nL 304.071225 202.923256 \nL 311.508998 235.459979 \nL 318.946772 251.903036 \nL 326.384546 237.210318 \nL 333.822319 235.797259 \nL 341.260093 268.747448 \nL 348.697867 274.411636 \nL 356.13564 253.445694 \nL 363.573414 252.11981 \nL 371.011188 251.094087 \nL 378.448961 247.193863 \nL 385.886735 209.320465 \nL 393.324509 229.43028 \nL 400.762282 263.218097 \nL 408.200056 231.921907 \nL 415.63783 250.951672 \n\" clip-path=\"url(#pede79fbcfa)\" style=\"fill: none; stroke: #008fd5; stroke-opacity: 0.15; stroke-width: 4\"/>\n   </g>\n   <g id=\"line2d_24\">\n    <path d=\"M 51.18692 25.746538 \nL 58.624694 87.333743 \nL 66.062468 124.62153 \nL 73.500241 155.821502 \nL 80.938015 186.767579 \nL 88.375789 164.946577 \nL 95.813562 198.969152 \nL 103.251336 210.074362 \nL 110.68911 175.082097 \nL 118.126883 178.909736 \nL 125.564657 225.781142 \nL 133.002431 215.393054 \nL 140.440204 209.967809 \nL 147.877978 225.61127 \nL 155.315752 212.349766 \nL 162.753525 228.092839 \nL 170.191299 227.036214 \nL 177.629073 211.228049 \nL 185.066846 194.492514 \nL 192.50462 214.69214 \nL 199.942394 244.232772 \nL 207.380167 223.726647 \nL 214.817941 217.384971 \nL 222.255715 197.847228 \nL 229.693488 220.088516 \nL 237.131262 255.275077 \nL 244.569035 209.671197 \nL 252.006809 209.433597 \nL 259.444583 215.146118 \nL 266.882356 231.929693 \nL 274.32013 225.805567 \nL 281.757904 221.140369 \nL 289.195677 227.604876 \nL 296.633451 238.611112 \nL 304.071225 216.905224 \nL 311.508998 214.667991 \nL 318.946772 214.598299 \nL 326.384546 217.53183 \nL 333.822319 226.611466 \nL 341.260093 218.145069 \nL 348.697867 213.025222 \nL 356.13564 233.859411 \nL 363.573414 210.534231 \nL 371.011188 223.476439 \nL 378.448961 233.03732 \nL 385.886735 242.473993 \nL 393.324509 220.217943 \nL 400.762282 228.856003 \nL 408.200056 218.669119 \nL 415.63783 237.329393 \n\" clip-path=\"url(#pede79fbcfa)\" style=\"fill: none; stroke: #fc4f30; stroke-opacity: 0.15; stroke-width: 4\"/>\n   </g>\n   <g id=\"line2d_25\">\n    <path d=\"M 51.18692 89.348535 \nL 58.624694 82.575445 \nL 66.062468 57.740782 \nL 73.500241 55.483085 \nL 80.938015 45.887875 \nL 88.375789 53.225389 \nL 95.813562 32.341695 \nL 103.251336 33.470543 \nL 110.68911 43.065754 \nL 118.126883 46.452299 \nL 125.564657 29.519574 \nL 133.002431 33.470543 \nL 140.440204 34.034967 \nL 147.877978 29.519574 \nL 155.315752 37.985937 \nL 162.753525 40.243633 \nL 170.191299 32.341695 \nL 177.629073 33.470543 \nL 185.066846 41.372482 \nL 192.50462 25.568605 \nL 199.942394 24.439757 \nL 207.380167 32.341695 \nL 214.817941 32.906119 \nL 222.255715 39.114785 \nL 229.693488 31.212847 \nL 237.131262 22.746484 \nL 244.569035 37.985937 \nL 252.006809 31.212847 \nL 259.444583 39.679209 \nL 266.882356 26.697453 \nL 274.32013 35.72824 \nL 281.757904 44.194602 \nL 289.195677 33.470543 \nL 296.633451 19.924364 \nL 304.071225 24.439757 \nL 311.508998 34.599392 \nL 318.946772 38.550361 \nL 326.384546 35.72824 \nL 333.822319 37.985937 \nL 341.260093 34.599392 \nL 348.697867 35.163816 \nL 356.13564 27.261878 \nL 363.573414 30.648423 \nL 371.011188 30.083998 \nL 378.448961 23.875333 \nL 385.886735 22.18206 \nL 393.324509 39.114785 \nL 400.762282 35.72824 \nL 408.200056 28.95515 \nL 415.63783 27.261878 \n\" clip-path=\"url(#pede79fbcfa)\" style=\"fill: none; stroke: #e5ae38; stroke-opacity: 0.15; stroke-width: 4\"/>\n   </g>\n   <g id=\"line2d_26\">\n    <path d=\"M 66.062468 119.867538 \nL 103.251336 197.752422 \nL 140.440204 222.896082 \nL 177.629073 226.993014 \nL 214.817941 249.058902 \nL 252.006809 230.534445 \nL 289.195677 215.622041 \nL 326.384546 245.823608 \nL 363.573414 255.653025 \nL 400.762282 236.968498 \n\" clip-path=\"url(#pede79fbcfa)\" style=\"fill: none; stroke: #008fd5; stroke-width: 4\"/>\n   </g>\n   <g id=\"line2d_27\">\n    <path d=\"M 66.062468 116.058158 \nL 103.251336 185.596426 \nL 140.440204 217.820622 \nL 177.629073 215.108361 \nL 214.817941 220.65604 \nL 252.006809 224.29114 \nL 289.195677 226.013454 \nL 326.384546 218.310945 \nL 363.573414 222.786531 \nL 400.762282 229.509273 \n\" clip-path=\"url(#pede79fbcfa)\" style=\"fill: none; stroke-dasharray: 14.8,6.4; stroke-dashoffset: 0; stroke: #fc4f30; stroke-width: 4\"/>\n   </g>\n   <g id=\"line2d_28\">\n    <path d=\"M 66.062468 66.207144 \nL 103.251336 41.711122 \nL 140.440204 32.906119 \nL 177.629073 34.599392 \nL 214.817941 32.003054 \nL 252.006809 31.664379 \nL 289.195677 31.551487 \nL 326.384546 36.292664 \nL 363.573414 29.406683 \nL 400.762282 30.648423 \n\" clip-path=\"url(#pede79fbcfa)\" style=\"fill: none; stroke-dasharray: 4,6.6; stroke-dashoffset: 0; stroke: #e5ae38; stroke-width: 4\"/>\n   </g>\n   <g id=\"patch_3\">\n    <path d=\"M 32.964375 287.136 \nL 32.964375 7.2 \n\" style=\"fill: none; stroke: #f0f0f0; stroke-width: 3; stroke-linejoin: miter; stroke-linecap: square\"/>\n   </g>\n   <g id=\"patch_4\">\n    <path d=\"M 433.860375 287.136 \nL 433.860375 7.2 \n\" style=\"fill: none; stroke: #f0f0f0; stroke-width: 3; stroke-linejoin: miter; stroke-linecap: square\"/>\n   </g>\n   <g id=\"patch_5\">\n    <path d=\"M 32.964375 287.136 \nL 433.860375 287.136 \n\" style=\"fill: none; stroke: #f0f0f0; stroke-width: 3; stroke-linejoin: miter; stroke-linecap: square\"/>\n   </g>\n   <g id=\"patch_6\">\n    <path d=\"M 32.964375 7.2 \nL 433.860375 7.2 \n\" style=\"fill: none; stroke: #f0f0f0; stroke-width: 3; stroke-linejoin: miter; stroke-linecap: square\"/>\n   </g>\n   <g id=\"legend_1\">\n    <g id=\"patch_7\">\n     <path d=\"M 314.186625 180.092062 \nL 424.060375 180.092062 \nQ 426.860375 180.092062 426.860375 177.292062 \nL 426.860375 117.043937 \nQ 426.860375 114.243937 424.060375 114.243937 \nL 314.186625 114.243937 \nQ 311.386625 114.243937 311.386625 117.043937 \nL 311.386625 177.292062 \nQ 311.386625 180.092062 314.186625 180.092062 \nz\n\" style=\"fill: #f0f0f0; opacity: 0.8; stroke: #cccccc; stroke-width: 0.5; stroke-linejoin: miter\"/>\n    </g>\n    <g id=\"line2d_29\">\n     <path d=\"M 316.986625 125.58175 \nL 330.986625 125.58175 \nL 344.986625 125.58175 \n\" style=\"fill: none; stroke: #008fd5; stroke-width: 4\"/>\n    </g>\n    <g id=\"text_12\">\n     <!-- Train loss -->\n     <g transform=\"translate(356.186625 130.48175) scale(0.14 -0.14)\">\n      <defs>\n       <path id=\"DejaVuSans-54\" d=\"M -19 4666 \nL 3928 4666 \nL 3928 4134 \nL 2272 4134 \nL 2272 0 \nL 1638 0 \nL 1638 4134 \nL -19 4134 \nL -19 4666 \nz\n\" transform=\"scale(0.015625)\"/>\n       <path id=\"DejaVuSans-72\" d=\"M 2631 2963 \nQ 2534 3019 2420 3045 \nQ 2306 3072 2169 3072 \nQ 1681 3072 1420 2755 \nQ 1159 2438 1159 1844 \nL 1159 0 \nL 581 0 \nL 581 3500 \nL 1159 3500 \nL 1159 2956 \nQ 1341 3275 1631 3429 \nQ 1922 3584 2338 3584 \nQ 2397 3584 2469 3576 \nQ 2541 3569 2628 3553 \nL 2631 2963 \nz\n\" transform=\"scale(0.015625)\"/>\n       <path id=\"DejaVuSans-61\" d=\"M 2194 1759 \nQ 1497 1759 1228 1600 \nQ 959 1441 959 1056 \nQ 959 750 1161 570 \nQ 1363 391 1709 391 \nQ 2188 391 2477 730 \nQ 2766 1069 2766 1631 \nL 2766 1759 \nL 2194 1759 \nz\nM 3341 1997 \nL 3341 0 \nL 2766 0 \nL 2766 531 \nQ 2569 213 2275 61 \nQ 1981 -91 1556 -91 \nQ 1019 -91 701 211 \nQ 384 513 384 1019 \nQ 384 1609 779 1909 \nQ 1175 2209 1959 2209 \nL 2766 2209 \nL 2766 2266 \nQ 2766 2663 2505 2880 \nQ 2244 3097 1772 3097 \nQ 1472 3097 1187 3025 \nQ 903 2953 641 2809 \nL 641 3341 \nQ 956 3463 1253 3523 \nQ 1550 3584 1831 3584 \nQ 2591 3584 2966 3190 \nQ 3341 2797 3341 1997 \nz\n\" transform=\"scale(0.015625)\"/>\n       <path id=\"DejaVuSans-69\" d=\"M 603 3500 \nL 1178 3500 \nL 1178 0 \nL 603 0 \nL 603 3500 \nz\nM 603 4863 \nL 1178 4863 \nL 1178 4134 \nL 603 4134 \nL 603 4863 \nz\n\" transform=\"scale(0.015625)\"/>\n       <path id=\"DejaVuSans-6e\" d=\"M 3513 2113 \nL 3513 0 \nL 2938 0 \nL 2938 2094 \nQ 2938 2591 2744 2837 \nQ 2550 3084 2163 3084 \nQ 1697 3084 1428 2787 \nQ 1159 2491 1159 1978 \nL 1159 0 \nL 581 0 \nL 581 3500 \nL 1159 3500 \nL 1159 2956 \nQ 1366 3272 1645 3428 \nQ 1925 3584 2291 3584 \nQ 2894 3584 3203 3211 \nQ 3513 2838 3513 2113 \nz\n\" transform=\"scale(0.015625)\"/>\n       <path id=\"DejaVuSans-20\" transform=\"scale(0.015625)\"/>\n       <path id=\"DejaVuSans-6c\" d=\"M 603 4863 \nL 1178 4863 \nL 1178 0 \nL 603 0 \nL 603 4863 \nz\n\" transform=\"scale(0.015625)\"/>\n       <path id=\"DejaVuSans-6f\" d=\"M 1959 3097 \nQ 1497 3097 1228 2736 \nQ 959 2375 959 1747 \nQ 959 1119 1226 758 \nQ 1494 397 1959 397 \nQ 2419 397 2687 759 \nQ 2956 1122 2956 1747 \nQ 2956 2369 2687 2733 \nQ 2419 3097 1959 3097 \nz\nM 1959 3584 \nQ 2709 3584 3137 3096 \nQ 3566 2609 3566 1747 \nQ 3566 888 3137 398 \nQ 2709 -91 1959 -91 \nQ 1206 -91 779 398 \nQ 353 888 353 1747 \nQ 353 2609 779 3096 \nQ 1206 3584 1959 3584 \nz\n\" transform=\"scale(0.015625)\"/>\n       <path id=\"DejaVuSans-73\" d=\"M 2834 3397 \nL 2834 2853 \nQ 2591 2978 2328 3040 \nQ 2066 3103 1784 3103 \nQ 1356 3103 1142 2972 \nQ 928 2841 928 2578 \nQ 928 2378 1081 2264 \nQ 1234 2150 1697 2047 \nL 1894 2003 \nQ 2506 1872 2764 1633 \nQ 3022 1394 3022 966 \nQ 3022 478 2636 193 \nQ 2250 -91 1575 -91 \nQ 1294 -91 989 -36 \nQ 684 19 347 128 \nL 347 722 \nQ 666 556 975 473 \nQ 1284 391 1588 391 \nQ 1994 391 2212 530 \nQ 2431 669 2431 922 \nQ 2431 1156 2273 1281 \nQ 2116 1406 1581 1522 \nL 1381 1569 \nQ 847 1681 609 1914 \nQ 372 2147 372 2553 \nQ 372 3047 722 3315 \nQ 1072 3584 1716 3584 \nQ 2034 3584 2315 3537 \nQ 2597 3491 2834 3397 \nz\n\" transform=\"scale(0.015625)\"/>\n      </defs>\n      <use xlink:href=\"#DejaVuSans-54\"/>\n      <use xlink:href=\"#DejaVuSans-72\" x=\"46.333984\"/>\n      <use xlink:href=\"#DejaVuSans-61\" x=\"87.447266\"/>\n      <use xlink:href=\"#DejaVuSans-69\" x=\"148.726562\"/>\n      <use xlink:href=\"#DejaVuSans-6e\" x=\"176.509766\"/>\n      <use xlink:href=\"#DejaVuSans-20\" x=\"239.888672\"/>\n      <use xlink:href=\"#DejaVuSans-6c\" x=\"271.675781\"/>\n      <use xlink:href=\"#DejaVuSans-6f\" x=\"299.458984\"/>\n      <use xlink:href=\"#DejaVuSans-73\" x=\"360.640625\"/>\n      <use xlink:href=\"#DejaVuSans-73\" x=\"412.740234\"/>\n     </g>\n    </g>\n    <g id=\"line2d_30\">\n     <path d=\"M 316.986625 146.131125 \nL 330.986625 146.131125 \nL 344.986625 146.131125 \n\" style=\"fill: none; stroke-dasharray: 14.8,6.4; stroke-dashoffset: 0; stroke: #fc4f30; stroke-width: 4\"/>\n    </g>\n    <g id=\"text_13\">\n     <!-- Val loss -->\n     <g transform=\"translate(356.186625 151.031125) scale(0.14 -0.14)\">\n      <defs>\n       <path id=\"DejaVuSans-56\" d=\"M 1831 0 \nL 50 4666 \nL 709 4666 \nL 2188 738 \nL 3669 4666 \nL 4325 4666 \nL 2547 0 \nL 1831 0 \nz\n\" transform=\"scale(0.015625)\"/>\n      </defs>\n      <use xlink:href=\"#DejaVuSans-56\"/>\n      <use xlink:href=\"#DejaVuSans-61\" x=\"60.658203\"/>\n      <use xlink:href=\"#DejaVuSans-6c\" x=\"121.9375\"/>\n      <use xlink:href=\"#DejaVuSans-20\" x=\"149.720703\"/>\n      <use xlink:href=\"#DejaVuSans-6c\" x=\"181.507812\"/>\n      <use xlink:href=\"#DejaVuSans-6f\" x=\"209.291016\"/>\n      <use xlink:href=\"#DejaVuSans-73\" x=\"270.472656\"/>\n      <use xlink:href=\"#DejaVuSans-73\" x=\"322.572266\"/>\n     </g>\n    </g>\n    <g id=\"line2d_31\">\n     <path d=\"M 316.986625 166.6805 \nL 330.986625 166.6805 \nL 344.986625 166.6805 \n\" style=\"fill: none; stroke-dasharray: 4,6.6; stroke-dashoffset: 0; stroke: #e5ae38; stroke-width: 4\"/>\n    </g>\n    <g id=\"text_14\">\n     <!-- Accuracy -->\n     <g transform=\"translate(356.186625 171.5805) scale(0.14 -0.14)\">\n      <defs>\n       <path id=\"DejaVuSans-41\" d=\"M 2188 4044 \nL 1331 1722 \nL 3047 1722 \nL 2188 4044 \nz\nM 1831 4666 \nL 2547 4666 \nL 4325 0 \nL 3669 0 \nL 3244 1197 \nL 1141 1197 \nL 716 0 \nL 50 0 \nL 1831 4666 \nz\n\" transform=\"scale(0.015625)\"/>\n       <path id=\"DejaVuSans-63\" d=\"M 3122 3366 \nL 3122 2828 \nQ 2878 2963 2633 3030 \nQ 2388 3097 2138 3097 \nQ 1578 3097 1268 2742 \nQ 959 2388 959 1747 \nQ 959 1106 1268 751 \nQ 1578 397 2138 397 \nQ 2388 397 2633 464 \nQ 2878 531 3122 666 \nL 3122 134 \nQ 2881 22 2623 -34 \nQ 2366 -91 2075 -91 \nQ 1284 -91 818 406 \nQ 353 903 353 1747 \nQ 353 2603 823 3093 \nQ 1294 3584 2113 3584 \nQ 2378 3584 2631 3529 \nQ 2884 3475 3122 3366 \nz\n\" transform=\"scale(0.015625)\"/>\n       <path id=\"DejaVuSans-75\" d=\"M 544 1381 \nL 544 3500 \nL 1119 3500 \nL 1119 1403 \nQ 1119 906 1312 657 \nQ 1506 409 1894 409 \nQ 2359 409 2629 706 \nQ 2900 1003 2900 1516 \nL 2900 3500 \nL 3475 3500 \nL 3475 0 \nL 2900 0 \nL 2900 538 \nQ 2691 219 2414 64 \nQ 2138 -91 1772 -91 \nQ 1169 -91 856 284 \nQ 544 659 544 1381 \nz\nM 1991 3584 \nL 1991 3584 \nz\n\" transform=\"scale(0.015625)\"/>\n       <path id=\"DejaVuSans-79\" d=\"M 2059 -325 \nQ 1816 -950 1584 -1140 \nQ 1353 -1331 966 -1331 \nL 506 -1331 \nL 506 -850 \nL 844 -850 \nQ 1081 -850 1212 -737 \nQ 1344 -625 1503 -206 \nL 1606 56 \nL 191 3500 \nL 800 3500 \nL 1894 763 \nL 2988 3500 \nL 3597 3500 \nL 2059 -325 \nz\n\" transform=\"scale(0.015625)\"/>\n      </defs>\n      <use xlink:href=\"#DejaVuSans-41\"/>\n      <use xlink:href=\"#DejaVuSans-63\" x=\"66.658203\"/>\n      <use xlink:href=\"#DejaVuSans-63\" x=\"121.638672\"/>\n      <use xlink:href=\"#DejaVuSans-75\" x=\"176.619141\"/>\n      <use xlink:href=\"#DejaVuSans-72\" x=\"239.998047\"/>\n      <use xlink:href=\"#DejaVuSans-61\" x=\"281.111328\"/>\n      <use xlink:href=\"#DejaVuSans-63\" x=\"342.390625\"/>\n      <use xlink:href=\"#DejaVuSans-79\" x=\"397.371094\"/>\n     </g>\n    </g>\n   </g>\n  </g>\n </g>\n <defs>\n  <clipPath id=\"pede79fbcfa\">\n   <rect x=\"32.964375\" y=\"7.2\" width=\"400.896\" height=\"279.936\"/>\n  </clipPath>\n </defs>\n</svg>\n",
      "text/plain": [
       "<Figure size 640x480 with 1 Axes>"
      ]
     },
     "metadata": {},
     "output_type": "display_data"
    }
   ],
   "source": [
    "max_epochs = 50\n",
    "smooth = 5  # must divide max_epochs\n",
    "model = Classifier(fan_in=784, fan_out=10)\n",
    "params = model.parameters()\n",
    "\n",
    "epochs = []\n",
    "train_losses = []\n",
    "val_losses = []\n",
    "accs = []\n",
    "for epoch in range(max_epochs):\n",
    "    losses = []\n",
    "    for step, batch in enumerate(data.train_dl):\n",
    "\n",
    "        # Get minibatch\n",
    "        x, y = batch\n",
    "\n",
    "        # Forward pass\n",
    "        logits = model.forward(x)\n",
    "\n",
    "        # Get loss\n",
    "        train_loss = model.loss(logits, y)\n",
    "\n",
    "        # Backward pass\n",
    "        for p in params:\n",
    "            p.grad = None\n",
    "        train_loss.backward()\n",
    "\n",
    "        # Update params\n",
    "        if epoch < 25:\n",
    "            lr = 0.1\n",
    "        elif epoch < 50:\n",
    "            lr = 0.01\n",
    "        else:\n",
    "            lr = 0.001\n",
    "        for p in params:\n",
    "            p.data += - lr*p.grad\n",
    "\n",
    "    # Print losses\n",
    "    # Do not let computations effect gradient\n",
    "    with torch.no_grad():\n",
    "        epochs.append(epoch)\n",
    "        # Training losses\n",
    "        train_losses.append(train_loss.item())\n",
    "        # Val losses\n",
    "        for batch in data.val_dl:\n",
    "            x, y = batch\n",
    "            logits = model.forward(x)\n",
    "            val_loss = model.loss(logits, y)\n",
    "            acc = model.accuracy(logits, y)\n",
    "            break\n",
    "        val_losses.append(val_loss.item())\n",
    "        accs.append(acc.item())\n",
    "        # Print\n",
    "        if epoch % smooth == 0:\n",
    "            print(f'Epoch ({epoch}): train loss = {train_loss.item():.2f}, val loss = {val_loss.item():.2f}, acc = {acc.item():.2f}')\n",
    "\n",
    "# Smooth for plotting\n",
    "\n",
    "tl = torch.tensor(train_losses).view(-1, smooth).mean(axis=1)\n",
    "vl = torch.tensor(val_losses).view(-1, smooth).mean(axis=1)\n",
    "ac = torch.tensor(accs).view(-1, smooth).mean(axis=1)\n",
    "ep = torch.tensor(epochs).float().view(-1, smooth).mean(axis=1)\n",
    "\n",
    "# Make plots\n",
    "plt.plot(epochs, train_losses, 'C0', alpha=0.15)\n",
    "plt.plot(epochs, val_losses, 'C1', alpha=0.15)\n",
    "plt.plot(epochs, accs, 'C2', alpha=0.15)\n",
    "plt.plot(ep, tl, 'C0', label='Train loss')\n",
    "plt.plot(ep, vl, 'C1--', label='Val loss')\n",
    "plt.plot(ep, ac, 'C2:', label='Accuracy')\n",
    "\n",
    "plt.legend();\n"
   ]
  },
  {
   "cell_type": "code",
   "execution_count": 12,
   "metadata": {},
   "outputs": [
    {
     "data": {
      "image/svg+xml": "<?xml version=\"1.0\" encoding=\"utf-8\" standalone=\"no\"?>\n<!DOCTYPE svg PUBLIC \"-//W3C//DTD SVG 1.1//EN\"\n  \"http://www.w3.org/Graphics/SVG/1.1/DTD/svg11.dtd\">\n<svg xmlns:xlink=\"http://www.w3.org/1999/xlink\" width=\"528.781765pt\" height=\"683.66175pt\" viewBox=\"0 0 528.781765 683.66175\" xmlns=\"http://www.w3.org/2000/svg\" version=\"1.1\">\n <metadata>\n  <rdf:RDF xmlns:dc=\"http://purl.org/dc/elements/1.1/\" xmlns:cc=\"http://creativecommons.org/ns#\" xmlns:rdf=\"http://www.w3.org/1999/02/22-rdf-syntax-ns#\">\n   <cc:Work>\n    <dc:type rdf:resource=\"http://purl.org/dc/dcmitype/StillImage\"/>\n    <dc:date>2023-01-19T11:16:04.789632</dc:date>\n    <dc:format>image/svg+xml</dc:format>\n    <dc:creator>\n     <cc:Agent>\n      <dc:title>Matplotlib v3.6.3, https://matplotlib.org/</dc:title>\n     </cc:Agent>\n    </dc:creator>\n   </cc:Work>\n  </rdf:RDF>\n </metadata>\n <defs>\n  <style type=\"text/css\">*{stroke-linejoin: round; stroke-linecap: butt}</style>\n </defs>\n <g id=\"figure_1\">\n  <g id=\"patch_1\">\n   <path d=\"M 0 683.66175 \nL 528.781765 683.66175 \nL 528.781765 -0 \nL 0 -0 \nL 0 683.66175 \nz\n\" style=\"fill: none\"/>\n  </g>\n  <g id=\"axes_1\">\n   <g clip-path=\"url(#p191317572e)\">\n    <image xlink:href=\"data:image/png;base64,\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\" id=\"image2a25f3f977\" transform=\"scale(1 -1) translate(0 -142)\" x=\"16.620652\" y=\"-23.950446\" width=\"142\" height=\"142\"/>\n   </g>\n   <g id=\"text_1\">\n    <!-- Ankle Boot/Ankle Boot -->\n    <g transform=\"translate(7.2 18.14175) scale(0.144 -0.144)\">\n     <defs>\n      <path id=\"DejaVuSans-41\" d=\"M 2188 4044 \nL 1331 1722 \nL 3047 1722 \nL 2188 4044 \nz\nM 1831 4666 \nL 2547 4666 \nL 4325 0 \nL 3669 0 \nL 3244 1197 \nL 1141 1197 \nL 716 0 \nL 50 0 \nL 1831 4666 \nz\n\" transform=\"scale(0.015625)\"/>\n      <path id=\"DejaVuSans-6e\" d=\"M 3513 2113 \nL 3513 0 \nL 2938 0 \nL 2938 2094 \nQ 2938 2591 2744 2837 \nQ 2550 3084 2163 3084 \nQ 1697 3084 1428 2787 \nQ 1159 2491 1159 1978 \nL 1159 0 \nL 581 0 \nL 581 3500 \nL 1159 3500 \nL 1159 2956 \nQ 1366 3272 1645 3428 \nQ 1925 3584 2291 3584 \nQ 2894 3584 3203 3211 \nQ 3513 2838 3513 2113 \nz\n\" transform=\"scale(0.015625)\"/>\n      <path id=\"DejaVuSans-6b\" d=\"M 581 4863 \nL 1159 4863 \nL 1159 1991 \nL 2875 3500 \nL 3609 3500 \nL 1753 1863 \nL 3688 0 \nL 2938 0 \nL 1159 1709 \nL 1159 0 \nL 581 0 \nL 581 4863 \nz\n\" transform=\"scale(0.015625)\"/>\n      <path id=\"DejaVuSans-6c\" d=\"M 603 4863 \nL 1178 4863 \nL 1178 0 \nL 603 0 \nL 603 4863 \nz\n\" transform=\"scale(0.015625)\"/>\n      <path id=\"DejaVuSans-65\" d=\"M 3597 1894 \nL 3597 1613 \nL 953 1613 \nQ 991 1019 1311 708 \nQ 1631 397 2203 397 \nQ 2534 397 2845 478 \nQ 3156 559 3463 722 \nL 3463 178 \nQ 3153 47 2828 -22 \nQ 2503 -91 2169 -91 \nQ 1331 -91 842 396 \nQ 353 884 353 1716 \nQ 353 2575 817 3079 \nQ 1281 3584 2069 3584 \nQ 2775 3584 3186 3129 \nQ 3597 2675 3597 1894 \nz\nM 3022 2063 \nQ 3016 2534 2758 2815 \nQ 2500 3097 2075 3097 \nQ 1594 3097 1305 2825 \nQ 1016 2553 972 2059 \nL 3022 2063 \nz\n\" transform=\"scale(0.015625)\"/>\n      <path id=\"DejaVuSans-20\" transform=\"scale(0.015625)\"/>\n      <path id=\"DejaVuSans-42\" d=\"M 1259 2228 \nL 1259 519 \nL 2272 519 \nQ 2781 519 3026 730 \nQ 3272 941 3272 1375 \nQ 3272 1813 3026 2020 \nQ 2781 2228 2272 2228 \nL 1259 2228 \nz\nM 1259 4147 \nL 1259 2741 \nL 2194 2741 \nQ 2656 2741 2882 2914 \nQ 3109 3088 3109 3444 \nQ 3109 3797 2882 3972 \nQ 2656 4147 2194 4147 \nL 1259 4147 \nz\nM 628 4666 \nL 2241 4666 \nQ 2963 4666 3353 4366 \nQ 3744 4066 3744 3513 \nQ 3744 3084 3544 2831 \nQ 3344 2578 2956 2516 \nQ 3422 2416 3680 2098 \nQ 3938 1781 3938 1306 \nQ 3938 681 3513 340 \nQ 3088 0 2303 0 \nL 628 0 \nL 628 4666 \nz\n\" transform=\"scale(0.015625)\"/>\n      <path id=\"DejaVuSans-6f\" d=\"M 1959 3097 \nQ 1497 3097 1228 2736 \nQ 959 2375 959 1747 \nQ 959 1119 1226 758 \nQ 1494 397 1959 397 \nQ 2419 397 2687 759 \nQ 2956 1122 2956 1747 \nQ 2956 2369 2687 2733 \nQ 2419 3097 1959 3097 \nz\nM 1959 3584 \nQ 2709 3584 3137 3096 \nQ 3566 2609 3566 1747 \nQ 3566 888 3137 398 \nQ 2709 -91 1959 -91 \nQ 1206 -91 779 398 \nQ 353 888 353 1747 \nQ 353 2609 779 3096 \nQ 1206 3584 1959 3584 \nz\n\" transform=\"scale(0.015625)\"/>\n      <path id=\"DejaVuSans-74\" d=\"M 1172 4494 \nL 1172 3500 \nL 2356 3500 \nL 2356 3053 \nL 1172 3053 \nL 1172 1153 \nQ 1172 725 1289 603 \nQ 1406 481 1766 481 \nL 2356 481 \nL 2356 0 \nL 1766 0 \nQ 1100 0 847 248 \nQ 594 497 594 1153 \nL 594 3053 \nL 172 3053 \nL 172 3500 \nL 594 3500 \nL 594 4494 \nL 1172 4494 \nz\n\" transform=\"scale(0.015625)\"/>\n      <path id=\"DejaVuSans-2f\" d=\"M 1625 4666 \nL 2156 4666 \nL 531 -594 \nL 0 -594 \nL 1625 4666 \nz\n\" transform=\"scale(0.015625)\"/>\n     </defs>\n     <use xlink:href=\"#DejaVuSans-41\"/>\n     <use xlink:href=\"#DejaVuSans-6e\" x=\"68.408203\"/>\n     <use xlink:href=\"#DejaVuSans-6b\" x=\"131.787109\"/>\n     <use xlink:href=\"#DejaVuSans-6c\" x=\"189.697266\"/>\n     <use xlink:href=\"#DejaVuSans-65\" x=\"217.480469\"/>\n     <use xlink:href=\"#DejaVuSans-20\" x=\"279.003906\"/>\n     <use xlink:href=\"#DejaVuSans-42\" x=\"310.791016\"/>\n     <use xlink:href=\"#DejaVuSans-6f\" x=\"379.394531\"/>\n     <use xlink:href=\"#DejaVuSans-6f\" x=\"440.576172\"/>\n     <use xlink:href=\"#DejaVuSans-74\" x=\"501.757812\"/>\n     <use xlink:href=\"#DejaVuSans-2f\" x=\"540.966797\"/>\n     <use xlink:href=\"#DejaVuSans-41\" x=\"574.658203\"/>\n     <use xlink:href=\"#DejaVuSans-6e\" x=\"643.066406\"/>\n     <use xlink:href=\"#DejaVuSans-6b\" x=\"706.445312\"/>\n     <use xlink:href=\"#DejaVuSans-6c\" x=\"764.355469\"/>\n     <use xlink:href=\"#DejaVuSans-65\" x=\"792.138672\"/>\n     <use xlink:href=\"#DejaVuSans-20\" x=\"853.662109\"/>\n     <use xlink:href=\"#DejaVuSans-42\" x=\"885.449219\"/>\n     <use xlink:href=\"#DejaVuSans-6f\" x=\"954.052734\"/>\n     <use xlink:href=\"#DejaVuSans-6f\" x=\"1015.234375\"/>\n     <use xlink:href=\"#DejaVuSans-74\" x=\"1076.416016\"/>\n    </g>\n   </g>\n  </g>\n  <g id=\"axes_2\">\n   <g clip-path=\"url(#pb483786d7a)\">\n    <image xlink:href=\"data:image/png;base64,\niVBORw0KGgoAAAANSUhEUgAAAI4AAACOCAYAAADn/TAIAAAF5UlEQVR4nO3dy29UZRzG8fd0zsy00xutLeUiETCIBhNuahRN2HSlCyVBWbkkceFtaVwaE5fsTHSFe12qCbgxIWBI1GiMSECDlXIT6GXK9DI3/4DnR3J4WiWY72f55MztzJOTH2/fOWST2eFuAu5Rz/1+A3gwURxYKA4sFAcWigMLxYGF4sBCcWChOLBQHFgoDiwUBxaKAwvFgYXiwEJxYKE4sFAcWCgOLBQHFooDC8WBheLAQnFgoTiwUBxYKA4sFAcWigMLxYGF4sBCcWChOLBQHFgoDiwUBxaKAwvFgYXiwEJxYMnDtKckUWloQI8rVyTKqpqlLAteWV+jW4p7nDVbGrY74bGFXru7inuCR88XiT5fWU93tryij+3o++sMB+c/pZRKwftpB58vL3iNiM7NxSmJuOLAQnFgoTiwUBxY8tLYQxJmfX2SdefmNWs0NKvXNQsGrm408HbjgTer6MDdU63qgVE2MqRZMIRny009LnqPTT2uGwy43eVlfY3+fj2upa/Ric7hdDzQZ8HAndrt8FhR0gG+p1bTpwu+Z644sFAcWCgOLBQHljxl2p1urVezYOVy/olhyRoTOnCtDOoLL63XQbg7EgyoKaVKTYfPwZoOn9VcB828RwfFgYoOewNlfb6xyh3Jbq/o8LjQ0qH84t+bJWs19dxsW39Lsmquz/fnzIhkKaW0sKDfVadelixrBSvMwWUjG9ZzveOYZlxxYKE4sFAcWCgOLPn8we0SXjukw1B//5JklXxGjwsGVF0vTalc0qF1sKIDakopdbo62EXDbJ7pwH1pfrTQce9uPCnZVEsfe6B3WrLP609KtnedfuqpRX2+qw1d2c4zPTevbPtZspRS2lzR7yA6X42ODtzXm8GqeuDk089JxhUHFooDC8WBheLAkg+dOCfh9OTjkukaakrNqq70Zn365/+eTLOVtq6izjZ0O0dK8bDXamvnl5d0+8XgwKJk+8b+kuztD96UbOT4GcmOjz8j2cLz2yS7+qx+vok91yV7alz3815a0K0u317fIVlKKWXBud1Y0y0wo8FqebSqXg4G83Lw5XPFgYXiwEJxYKE4sOTteR2kHnvjbLEHb5iQ7NakDoo39+pjN+y6IdnkpvPh6zS7OmieuRG8TjAwD/fpivfufh2Ozx/XQb80Pi7ZuQ+3SjZwQff9jv6qQ2v1pG6N+LE2JtnVA/p5P33tE8lSSunLud2S3V7RVevLjXWSLbX1fUeDdUd3aXDFgYfiwEJxYKE4sGST2eFit24I7mCROgV/+FVQvn1rmM/u1yH8you6fePo/lOSfXVll2SjfbqK+stPj0hWmdHP/NvRjyU7G/yY79SdnZK9M3JRsi/u6MD83unDkuVXgruApJS6we/xenfMSXbw4d8lm23qSv1osM/6h4/2ScYVBxaKAwvFgYXiwBIPx0Vvf1Z0YF7r26ndxezrujd25iUd9g7t1P279Zb+sO3EBd1eMhRs09g0pKutW/tvS3YzWNGtH9EBtXVZ9zWvVmlivWTXDj0q2cwe/f6ivyRwxYGF4sBCcWChOLAUXzm+n9Z4uF58WfcNT7+qq7/v7/9ass+mdABfauny7dyCDr293+kdPzYcO61vsOi9lFP6V/6RUQRXHFgoDiwUBxaKA8v/azhexdaPLLhH8swR3U5Q36LvZXGLbvEY36J3kRh/Swfw1h+X9M1En+Mu94AORedmjf+BwRUHFooDC8WBheLA8mAMx0UVXXFd49XWnl7dkrH8gu51Ln/zffDgYBCO3Mv+7qKD8CrOF1ccWCgOLBQHFooDS/zfRz+o7tMWg86S3hEjHITDB6/tjxpTSsXPAyvH+K9RHFgoDiwUBxaKAwvFgYXiwEJxYKE4sFAcWCgOLBQHFooDC8WBheLAQnFgoTiwUBxYKA4sFAcWigMLxYGF4sBCcWChOLBQHFgoDiwUBxaKAwvFgYXiwEJxYKE4sFAcWCgOLBQHFooDC8WBheLAQnFgoTiwUBxYKA4sFAcWigPLP/WsVuLsXJiPAAAAAElFTkSuQmCC\" id=\"image6ef0eede96\" transform=\"scale(1 -1) translate(0 -142)\" x=\"193.486535\" y=\"-23.950446\" width=\"142\" height=\"142\"/>\n   </g>\n   <g id=\"text_2\">\n    <!-- Sneaker/Sneaker -->\n    <g transform=\"translate(203.415882 18.14175) scale(0.144 -0.144)\">\n     <defs>\n      <path id=\"DejaVuSans-53\" d=\"M 3425 4513 \nL 3425 3897 \nQ 3066 4069 2747 4153 \nQ 2428 4238 2131 4238 \nQ 1616 4238 1336 4038 \nQ 1056 3838 1056 3469 \nQ 1056 3159 1242 3001 \nQ 1428 2844 1947 2747 \nL 2328 2669 \nQ 3034 2534 3370 2195 \nQ 3706 1856 3706 1288 \nQ 3706 609 3251 259 \nQ 2797 -91 1919 -91 \nQ 1588 -91 1214 -16 \nQ 841 59 441 206 \nL 441 856 \nQ 825 641 1194 531 \nQ 1563 422 1919 422 \nQ 2459 422 2753 634 \nQ 3047 847 3047 1241 \nQ 3047 1584 2836 1778 \nQ 2625 1972 2144 2069 \nL 1759 2144 \nQ 1053 2284 737 2584 \nQ 422 2884 422 3419 \nQ 422 4038 858 4394 \nQ 1294 4750 2059 4750 \nQ 2388 4750 2728 4690 \nQ 3069 4631 3425 4513 \nz\n\" transform=\"scale(0.015625)\"/>\n      <path id=\"DejaVuSans-61\" d=\"M 2194 1759 \nQ 1497 1759 1228 1600 \nQ 959 1441 959 1056 \nQ 959 750 1161 570 \nQ 1363 391 1709 391 \nQ 2188 391 2477 730 \nQ 2766 1069 2766 1631 \nL 2766 1759 \nL 2194 1759 \nz\nM 3341 1997 \nL 3341 0 \nL 2766 0 \nL 2766 531 \nQ 2569 213 2275 61 \nQ 1981 -91 1556 -91 \nQ 1019 -91 701 211 \nQ 384 513 384 1019 \nQ 384 1609 779 1909 \nQ 1175 2209 1959 2209 \nL 2766 2209 \nL 2766 2266 \nQ 2766 2663 2505 2880 \nQ 2244 3097 1772 3097 \nQ 1472 3097 1187 3025 \nQ 903 2953 641 2809 \nL 641 3341 \nQ 956 3463 1253 3523 \nQ 1550 3584 1831 3584 \nQ 2591 3584 2966 3190 \nQ 3341 2797 3341 1997 \nz\n\" transform=\"scale(0.015625)\"/>\n      <path id=\"DejaVuSans-72\" d=\"M 2631 2963 \nQ 2534 3019 2420 3045 \nQ 2306 3072 2169 3072 \nQ 1681 3072 1420 2755 \nQ 1159 2438 1159 1844 \nL 1159 0 \nL 581 0 \nL 581 3500 \nL 1159 3500 \nL 1159 2956 \nQ 1341 3275 1631 3429 \nQ 1922 3584 2338 3584 \nQ 2397 3584 2469 3576 \nQ 2541 3569 2628 3553 \nL 2631 2963 \nz\n\" transform=\"scale(0.015625)\"/>\n     </defs>\n     <use xlink:href=\"#DejaVuSans-53\"/>\n     <use xlink:href=\"#DejaVuSans-6e\" x=\"63.476562\"/>\n     <use xlink:href=\"#DejaVuSans-65\" x=\"126.855469\"/>\n     <use xlink:href=\"#DejaVuSans-61\" x=\"188.378906\"/>\n     <use xlink:href=\"#DejaVuSans-6b\" x=\"249.658203\"/>\n     <use xlink:href=\"#DejaVuSans-65\" x=\"303.943359\"/>\n     <use xlink:href=\"#DejaVuSans-72\" x=\"365.466797\"/>\n     <use xlink:href=\"#DejaVuSans-2f\" x=\"406.580078\"/>\n     <use xlink:href=\"#DejaVuSans-53\" x=\"440.271484\"/>\n     <use xlink:href=\"#DejaVuSans-6e\" x=\"503.748047\"/>\n     <use xlink:href=\"#DejaVuSans-65\" x=\"567.126953\"/>\n     <use xlink:href=\"#DejaVuSans-61\" x=\"628.650391\"/>\n     <use xlink:href=\"#DejaVuSans-6b\" x=\"689.929688\"/>\n     <use xlink:href=\"#DejaVuSans-65\" x=\"744.214844\"/>\n     <use xlink:href=\"#DejaVuSans-72\" x=\"805.738281\"/>\n    </g>\n   </g>\n  </g>\n  <g id=\"axes_3\">\n   <g clip-path=\"url(#pd3f8f726f9)\">\n    <image xlink:href=\"data:image/png;base64,\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\" id=\"imagef3fe1f69f4\" transform=\"scale(1 -1) translate(0 -142)\" x=\"370.352417\" y=\"-23.950446\" width=\"142\" height=\"142\"/>\n   </g>\n   <g id=\"text_3\">\n    <!-- Trouser/Trouser -->\n    <g transform=\"translate(386.345515 18.14175) scale(0.144 -0.144)\">\n     <defs>\n      <path id=\"DejaVuSans-54\" d=\"M -19 4666 \nL 3928 4666 \nL 3928 4134 \nL 2272 4134 \nL 2272 0 \nL 1638 0 \nL 1638 4134 \nL -19 4134 \nL -19 4666 \nz\n\" transform=\"scale(0.015625)\"/>\n      <path id=\"DejaVuSans-75\" d=\"M 544 1381 \nL 544 3500 \nL 1119 3500 \nL 1119 1403 \nQ 1119 906 1312 657 \nQ 1506 409 1894 409 \nQ 2359 409 2629 706 \nQ 2900 1003 2900 1516 \nL 2900 3500 \nL 3475 3500 \nL 3475 0 \nL 2900 0 \nL 2900 538 \nQ 2691 219 2414 64 \nQ 2138 -91 1772 -91 \nQ 1169 -91 856 284 \nQ 544 659 544 1381 \nz\nM 1991 3584 \nL 1991 3584 \nz\n\" transform=\"scale(0.015625)\"/>\n      <path id=\"DejaVuSans-73\" d=\"M 2834 3397 \nL 2834 2853 \nQ 2591 2978 2328 3040 \nQ 2066 3103 1784 3103 \nQ 1356 3103 1142 2972 \nQ 928 2841 928 2578 \nQ 928 2378 1081 2264 \nQ 1234 2150 1697 2047 \nL 1894 2003 \nQ 2506 1872 2764 1633 \nQ 3022 1394 3022 966 \nQ 3022 478 2636 193 \nQ 2250 -91 1575 -91 \nQ 1294 -91 989 -36 \nQ 684 19 347 128 \nL 347 722 \nQ 666 556 975 473 \nQ 1284 391 1588 391 \nQ 1994 391 2212 530 \nQ 2431 669 2431 922 \nQ 2431 1156 2273 1281 \nQ 2116 1406 1581 1522 \nL 1381 1569 \nQ 847 1681 609 1914 \nQ 372 2147 372 2553 \nQ 372 3047 722 3315 \nQ 1072 3584 1716 3584 \nQ 2034 3584 2315 3537 \nQ 2597 3491 2834 3397 \nz\n\" transform=\"scale(0.015625)\"/>\n     </defs>\n     <use xlink:href=\"#DejaVuSans-54\"/>\n     <use xlink:href=\"#DejaVuSans-72\" x=\"46.333984\"/>\n     <use xlink:href=\"#DejaVuSans-6f\" x=\"85.197266\"/>\n     <use xlink:href=\"#DejaVuSans-75\" x=\"146.378906\"/>\n     <use xlink:href=\"#DejaVuSans-73\" x=\"209.757812\"/>\n     <use xlink:href=\"#DejaVuSans-65\" x=\"261.857422\"/>\n     <use xlink:href=\"#DejaVuSans-72\" x=\"323.380859\"/>\n     <use xlink:href=\"#DejaVuSans-2f\" x=\"364.494141\"/>\n     <use xlink:href=\"#DejaVuSans-54\" x=\"398.185547\"/>\n     <use xlink:href=\"#DejaVuSans-72\" x=\"444.519531\"/>\n     <use xlink:href=\"#DejaVuSans-6f\" x=\"483.382812\"/>\n     <use xlink:href=\"#DejaVuSans-75\" x=\"544.564453\"/>\n     <use xlink:href=\"#DejaVuSans-73\" x=\"607.943359\"/>\n     <use xlink:href=\"#DejaVuSans-65\" x=\"660.042969\"/>\n     <use xlink:href=\"#DejaVuSans-72\" x=\"721.566406\"/>\n    </g>\n   </g>\n  </g>\n  <g id=\"axes_4\">\n   <g clip-path=\"url(#p44cec6e082)\">\n    <image xlink:href=\"data:image/png;base64,\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\" id=\"image2cc19003ad\" transform=\"scale(1 -1) translate(0 -142)\" x=\"16.620652\" y=\"-194.12088\" width=\"142\" height=\"142\"/>\n   </g>\n   <g id=\"text_4\">\n    <!-- Trouser/Trouser -->\n    <g transform=\"translate(32.61375 188.312185) scale(0.144 -0.144)\">\n     <use xlink:href=\"#DejaVuSans-54\"/>\n     <use xlink:href=\"#DejaVuSans-72\" x=\"46.333984\"/>\n     <use xlink:href=\"#DejaVuSans-6f\" x=\"85.197266\"/>\n     <use xlink:href=\"#DejaVuSans-75\" x=\"146.378906\"/>\n     <use xlink:href=\"#DejaVuSans-73\" x=\"209.757812\"/>\n     <use xlink:href=\"#DejaVuSans-65\" x=\"261.857422\"/>\n     <use xlink:href=\"#DejaVuSans-72\" x=\"323.380859\"/>\n     <use xlink:href=\"#DejaVuSans-2f\" x=\"364.494141\"/>\n     <use xlink:href=\"#DejaVuSans-54\" x=\"398.185547\"/>\n     <use xlink:href=\"#DejaVuSans-72\" x=\"444.519531\"/>\n     <use xlink:href=\"#DejaVuSans-6f\" x=\"483.382812\"/>\n     <use xlink:href=\"#DejaVuSans-75\" x=\"544.564453\"/>\n     <use xlink:href=\"#DejaVuSans-73\" x=\"607.943359\"/>\n     <use xlink:href=\"#DejaVuSans-65\" x=\"660.042969\"/>\n     <use xlink:href=\"#DejaVuSans-72\" x=\"721.566406\"/>\n    </g>\n   </g>\n  </g>\n  <g id=\"axes_5\">\n   <g clip-path=\"url(#p21a13e7a7a)\">\n    <image xlink:href=\"data:image/png;base64,\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\" id=\"imageda8354fb39\" transform=\"scale(1 -1) translate(0 -142)\" x=\"193.486535\" y=\"-194.12088\" width=\"142\" height=\"142\"/>\n   </g>\n   <g id=\"text_5\">\n    <!-- Trouser/Trouser -->\n    <g transform=\"translate(209.479632 188.312185) scale(0.144 -0.144)\">\n     <use xlink:href=\"#DejaVuSans-54\"/>\n     <use xlink:href=\"#DejaVuSans-72\" x=\"46.333984\"/>\n     <use xlink:href=\"#DejaVuSans-6f\" x=\"85.197266\"/>\n     <use xlink:href=\"#DejaVuSans-75\" x=\"146.378906\"/>\n     <use xlink:href=\"#DejaVuSans-73\" x=\"209.757812\"/>\n     <use xlink:href=\"#DejaVuSans-65\" x=\"261.857422\"/>\n     <use xlink:href=\"#DejaVuSans-72\" x=\"323.380859\"/>\n     <use xlink:href=\"#DejaVuSans-2f\" x=\"364.494141\"/>\n     <use xlink:href=\"#DejaVuSans-54\" x=\"398.185547\"/>\n     <use xlink:href=\"#DejaVuSans-72\" x=\"444.519531\"/>\n     <use xlink:href=\"#DejaVuSans-6f\" x=\"483.382812\"/>\n     <use xlink:href=\"#DejaVuSans-75\" x=\"544.564453\"/>\n     <use xlink:href=\"#DejaVuSans-73\" x=\"607.943359\"/>\n     <use xlink:href=\"#DejaVuSans-65\" x=\"660.042969\"/>\n     <use xlink:href=\"#DejaVuSans-72\" x=\"721.566406\"/>\n    </g>\n   </g>\n  </g>\n  <g id=\"axes_6\">\n   <g clip-path=\"url(#p03da64f551)\">\n    <image xlink:href=\"data:image/png;base64,\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\" id=\"imagedc09938606\" transform=\"scale(1 -1) translate(0 -142)\" x=\"370.352417\" y=\"-194.12088\" width=\"142\" height=\"142\"/>\n   </g>\n   <g id=\"text_6\">\n    <!-- Ankle Boot/Ankle Boot -->\n    <g transform=\"translate(360.931765 188.312185) scale(0.144 -0.144)\">\n     <use xlink:href=\"#DejaVuSans-41\"/>\n     <use xlink:href=\"#DejaVuSans-6e\" x=\"68.408203\"/>\n     <use xlink:href=\"#DejaVuSans-6b\" x=\"131.787109\"/>\n     <use xlink:href=\"#DejaVuSans-6c\" x=\"189.697266\"/>\n     <use xlink:href=\"#DejaVuSans-65\" x=\"217.480469\"/>\n     <use xlink:href=\"#DejaVuSans-20\" x=\"279.003906\"/>\n     <use xlink:href=\"#DejaVuSans-42\" x=\"310.791016\"/>\n     <use xlink:href=\"#DejaVuSans-6f\" x=\"379.394531\"/>\n     <use xlink:href=\"#DejaVuSans-6f\" x=\"440.576172\"/>\n     <use xlink:href=\"#DejaVuSans-74\" x=\"501.757812\"/>\n     <use xlink:href=\"#DejaVuSans-2f\" x=\"540.966797\"/>\n     <use xlink:href=\"#DejaVuSans-41\" x=\"574.658203\"/>\n     <use xlink:href=\"#DejaVuSans-6e\" x=\"643.066406\"/>\n     <use xlink:href=\"#DejaVuSans-6b\" x=\"706.445312\"/>\n     <use xlink:href=\"#DejaVuSans-6c\" x=\"764.355469\"/>\n     <use xlink:href=\"#DejaVuSans-65\" x=\"792.138672\"/>\n     <use xlink:href=\"#DejaVuSans-20\" x=\"853.662109\"/>\n     <use xlink:href=\"#DejaVuSans-42\" x=\"885.449219\"/>\n     <use xlink:href=\"#DejaVuSans-6f\" x=\"954.052734\"/>\n     <use xlink:href=\"#DejaVuSans-6f\" x=\"1015.234375\"/>\n     <use xlink:href=\"#DejaVuSans-74\" x=\"1076.416016\"/>\n    </g>\n   </g>\n  </g>\n  <g id=\"axes_7\">\n   <g clip-path=\"url(#p936a5224ad)\">\n    <image xlink:href=\"data:image/png;base64,\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\" id=\"imagea76a5726ef\" transform=\"scale(1 -1) translate(0 -142)\" x=\"16.620652\" y=\"-364.291315\" width=\"142\" height=\"142\"/>\n   </g>\n   <g id=\"text_7\">\n    <!-- Trouser/Trouser -->\n    <g transform=\"translate(32.61375 358.48262) scale(0.144 -0.144)\">\n     <use xlink:href=\"#DejaVuSans-54\"/>\n     <use xlink:href=\"#DejaVuSans-72\" x=\"46.333984\"/>\n     <use xlink:href=\"#DejaVuSans-6f\" x=\"85.197266\"/>\n     <use xlink:href=\"#DejaVuSans-75\" x=\"146.378906\"/>\n     <use xlink:href=\"#DejaVuSans-73\" x=\"209.757812\"/>\n     <use xlink:href=\"#DejaVuSans-65\" x=\"261.857422\"/>\n     <use xlink:href=\"#DejaVuSans-72\" x=\"323.380859\"/>\n     <use xlink:href=\"#DejaVuSans-2f\" x=\"364.494141\"/>\n     <use xlink:href=\"#DejaVuSans-54\" x=\"398.185547\"/>\n     <use xlink:href=\"#DejaVuSans-72\" x=\"444.519531\"/>\n     <use xlink:href=\"#DejaVuSans-6f\" x=\"483.382812\"/>\n     <use xlink:href=\"#DejaVuSans-75\" x=\"544.564453\"/>\n     <use xlink:href=\"#DejaVuSans-73\" x=\"607.943359\"/>\n     <use xlink:href=\"#DejaVuSans-65\" x=\"660.042969\"/>\n     <use xlink:href=\"#DejaVuSans-72\" x=\"721.566406\"/>\n    </g>\n   </g>\n  </g>\n  <g id=\"axes_8\">\n   <g clip-path=\"url(#pf05e5f1179)\">\n    <image xlink:href=\"data:image/png;base64,\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\" id=\"image5a886aa7f6\" transform=\"scale(1 -1) translate(0 -142)\" x=\"193.486535\" y=\"-364.291315\" width=\"142\" height=\"142\"/>\n   </g>\n   <g id=\"text_8\">\n    <!-- Sandal/Sandal -->\n    <g transform=\"translate(212.906382 358.48262) scale(0.144 -0.144)\">\n     <defs>\n      <path id=\"DejaVuSans-64\" d=\"M 2906 2969 \nL 2906 4863 \nL 3481 4863 \nL 3481 0 \nL 2906 0 \nL 2906 525 \nQ 2725 213 2448 61 \nQ 2172 -91 1784 -91 \nQ 1150 -91 751 415 \nQ 353 922 353 1747 \nQ 353 2572 751 3078 \nQ 1150 3584 1784 3584 \nQ 2172 3584 2448 3432 \nQ 2725 3281 2906 2969 \nz\nM 947 1747 \nQ 947 1113 1208 752 \nQ 1469 391 1925 391 \nQ 2381 391 2643 752 \nQ 2906 1113 2906 1747 \nQ 2906 2381 2643 2742 \nQ 2381 3103 1925 3103 \nQ 1469 3103 1208 2742 \nQ 947 2381 947 1747 \nz\n\" transform=\"scale(0.015625)\"/>\n     </defs>\n     <use xlink:href=\"#DejaVuSans-53\"/>\n     <use xlink:href=\"#DejaVuSans-61\" x=\"63.476562\"/>\n     <use xlink:href=\"#DejaVuSans-6e\" x=\"124.755859\"/>\n     <use xlink:href=\"#DejaVuSans-64\" x=\"188.134766\"/>\n     <use xlink:href=\"#DejaVuSans-61\" x=\"251.611328\"/>\n     <use xlink:href=\"#DejaVuSans-6c\" x=\"312.890625\"/>\n     <use xlink:href=\"#DejaVuSans-2f\" x=\"340.673828\"/>\n     <use xlink:href=\"#DejaVuSans-53\" x=\"374.365234\"/>\n     <use xlink:href=\"#DejaVuSans-61\" x=\"437.841797\"/>\n     <use xlink:href=\"#DejaVuSans-6e\" x=\"499.121094\"/>\n     <use xlink:href=\"#DejaVuSans-64\" x=\"562.5\"/>\n     <use xlink:href=\"#DejaVuSans-61\" x=\"625.976562\"/>\n     <use xlink:href=\"#DejaVuSans-6c\" x=\"687.255859\"/>\n    </g>\n   </g>\n  </g>\n  <g id=\"axes_9\">\n   <g clip-path=\"url(#p12c8fcf6d0)\">\n    <image xlink:href=\"data:image/png;base64,\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\" id=\"image73bac05b03\" transform=\"scale(1 -1) translate(0 -142)\" x=\"370.352417\" y=\"-364.291315\" width=\"142\" height=\"142\"/>\n   </g>\n   <g id=\"text_9\">\n    <!-- Sandal/Sandal -->\n    <g transform=\"translate(389.772265 358.48262) scale(0.144 -0.144)\">\n     <use xlink:href=\"#DejaVuSans-53\"/>\n     <use xlink:href=\"#DejaVuSans-61\" x=\"63.476562\"/>\n     <use xlink:href=\"#DejaVuSans-6e\" x=\"124.755859\"/>\n     <use xlink:href=\"#DejaVuSans-64\" x=\"188.134766\"/>\n     <use xlink:href=\"#DejaVuSans-61\" x=\"251.611328\"/>\n     <use xlink:href=\"#DejaVuSans-6c\" x=\"312.890625\"/>\n     <use xlink:href=\"#DejaVuSans-2f\" x=\"340.673828\"/>\n     <use xlink:href=\"#DejaVuSans-53\" x=\"374.365234\"/>\n     <use xlink:href=\"#DejaVuSans-61\" x=\"437.841797\"/>\n     <use xlink:href=\"#DejaVuSans-6e\" x=\"499.121094\"/>\n     <use xlink:href=\"#DejaVuSans-64\" x=\"562.5\"/>\n     <use xlink:href=\"#DejaVuSans-61\" x=\"625.976562\"/>\n     <use xlink:href=\"#DejaVuSans-6c\" x=\"687.255859\"/>\n    </g>\n   </g>\n  </g>\n  <g id=\"axes_10\">\n   <g clip-path=\"url(#p020c85fd5e)\">\n    <image xlink:href=\"data:image/png;base64,\niVBORw0KGgoAAAANSUhEUgAAAI4AAACOCAYAAADn/TAIAAAIK0lEQVR4nO2dW2wVVRSG15yZc+lpoVAopYVaLDcrURMFQVQUAw+UYDQxYnwkPpmYwAMJQXhVvMUHEhFf1MTEBC8RVCAxMWiigCR4BaGhtFBoAUt77Dltac+cGd/514m7qw1Nk/97/DMze5/p352116xZ463znouFkDGSmOwJkKkJjUNM0DjEBI1DTNA4xASNQ0zQOMQEjUNM0DjEBI1DTNA4xASNQ0zQOMQEjUNM0DjEBI1DTNA4xASNQ0zQOMREoKqeB1IincbDpk1DLZXE60URagnFs8q4IiLij8PfkWNJdTzBpdfab9F+R0m5N9pcSiV9HN93Oj8eGXEcG7WoMAgaVxxigsYhJmgcYoLGISaCYG4dqtkKkGLXAFUJuOJEmaD3dsoFx454WrCnxY7afFzHVgJPdVzleuq4gTJBbS5JfR+jos0nm0HNcUPgZ/BcrjjEBI1DTNA4xASNQ0wEkk6BGA/k3c5WgqvoFmYoPS27qWWYtaBORMQ1mE3iNeNQybiGIV4ug5lx7VxP2STEM6fjcYVhHDeN8/OKOBctqx735fA4EfGU36z+TZXg2BvAjLCKcm+44hATNA4xQeMQEzQOMUHjEBNBPHQL1dEiakrK20th9C4zq+2zUXYDIiJRVtFD3IF52uOAEeW3aI8DlB2dp90HZdcYX7qKmjJGNDQEWlA3B7Tw2nXQ/JbFOBcRiZVdWXy9FzRvSHnkoOy0Ym23m8NdNlccYoLGISZoHGKCxiEmgvgWBseJWTNB01Le4c0+0PzpmH6PlEJptXi6DP7sWXjNxrmgjdZgHVGUqgQtMYqBcDI/Clopg8X4+r9aPUpaaVABxwh/PYPjPvkgHrcLA14RkZEQNy2ZPRhIpzvx/GID/p0TI8rjmK5uPE6dDSH/A41DTNA4xASNQ0wEUaEAYqIaA1yZgwFqoB2nZJh9rShaq5MpUzwdXsXgTHpv4nwSWPcTP3Kf8zi34ynZ6e41GGyn+92uF1Zi8F4vy0C7+43zoB374X71mqU63GRkV2JGeN6xy6D5N5SAW6mdipX6Ja44xASNQ0zQOMQEjUNMBFqgGF7BMgEVJRiVSAl6leP8lkV4qlY+ISL+IJYjSH0tat1YjiC9GPwPLVIypkW8D6l+DDybWy+CNj+bA+3HroWg1VTi79j40mnQfss3grZkn7JBEJGzu/E+fP3ym6A91bwNT04qZSiD+Lda/MpJ0LjiEBM0DjFB4xATNA4x4U3ad8eVmlxfy0SLiKe02Rhd3ABa8m/MjkptDUhRFV6vcFcWtFQeA/2Kthugnd2FdcNLm3tAS2zGsoq4YTZoXhHHHWrSa7mLVfi/X3UJg/BrOzH7u6z2GmhXX8eSjMw3v4DGFYeYoHGICRqHmKBxiImJD4619iOuZQyB3udOfayvBMyx1nZleQtoyZ6c03xyD2F/xOwNDHCTZzAon34Q51IoYruQcBsG7yN1GKjnFiovyolI3Yl/QWvbUgXaRxv2g7Zn02bQSmewpMNLYkafKw4xQeMQEzQOMUHjEBNj6LrsiBYIO5ZfaEFwOSKtk4RCshMzvVoNs7cCa5OrurCP3+gMDHC1sDW/GeuLPz5+ALR1j28HreEoloekjrYro4j0bF0N2sVn3wOtddla0OJG3MgEC+4CLezE4J8rDjFB4xATNA4xQeMQExMfHGson+tTM8xeGR9r52u1zQpRDjOrQeN80IoBjp3swLIDfxq+kFdSunZ0vLYKtBWHt4J2zwdYc7zxNNZ8v//hJtBERGb/iZuEAwWlBENpMn5hB2bfK49jJrtuL4NjMkHQOMQEjUNM0DjExB0Kjl2//e0W8I6FaNDtCyle1xXQ4qX40uDQQnyZr0J5ETDTkgOtlMdgdNXJAdC+++de0Fpf/Bk0EZHzA1j68W77OtBmNGLG2w/wfocY+6twxSEmaBxigsYhJmgcYuLOBMd3CK1mWSvVGH4Cg88X3j4M2qFnsONEKoc1x4PrsR3bhiZ8ie2rNmzHduStNaBVf3ICtD+yWIcsItL/OfZifnjOJdB+WrkctPAyblqqet02MlxxiAkah5igcYgJGoeYmLxuFWNBK8FQj1P+D7TyC+V6w0+vAK3iIAa4Gh2fPoBiJwazzbtPgebXYreKvrULQMv06Vn11FG8Zvs7WNKR7sV7Eymd86rbsYRFC9a54hATNA4xQeMQEzQOMTE1gmNXXINoxzKPRCXWGPRswUA4WVAysN1YC1zR0Q/a4BL8uEr2+79wMmV+m9c0D8UrWCs9vHopaKnt2G4u3oXz8Y7/DhpXHGKCxiEmaBxigsYhJqZGWYVre7hxtIzzUphG1T5xXdWNGdzKL/AjGcE87MMc5/GDJJk27EIx8DxmflMDeua44uQFFOfih0EqLuOLidEOrJ+WUxgIa3DFISZoHGKCxiEmaBxiYupmjsfRT1nF9Wt/Cm37sSSj5jQG4Kk8zu/6o6h91roXtN3rsSexiEjpQofLFN1xvK9ccYgJGoeYoHGICRqHmKBxiImp+8hhonHcQWk0HUKtYec50OozmPY/8iU+Xnh1yWOgxcUx7J60HaIrjveBKw4xQeMQEzQOMUHjEBNTIzgez6MEDdfHFY7Hpb/Ftyl7Qmwrcq4ZvzPTuA97+43p12pzdHx7tWxDcge44hATNA4xQeMQEzQOMTF163HIpMIVh5igcYgJGoeYoHGICRqHmKBxiAkah5igcYgJGoeYoHGICRqHmKBxiAkah5igcYgJGoeYoHGICRqHmKBxiAkah5igcYgJGoeYoHGICRqHmKBxiIn/AHm8C97hRyUvAAAAAElFTkSuQmCC\" id=\"imagedfd268e110\" transform=\"scale(1 -1) translate(0 -142)\" x=\"16.620652\" y=\"-534.46175\" width=\"142\" height=\"142\"/>\n   </g>\n   <g id=\"text_10\">\n    <!-- Sneaker/Sneaker -->\n    <g transform=\"translate(26.55 528.653054) scale(0.144 -0.144)\">\n     <use xlink:href=\"#DejaVuSans-53\"/>\n     <use xlink:href=\"#DejaVuSans-6e\" x=\"63.476562\"/>\n     <use xlink:href=\"#DejaVuSans-65\" x=\"126.855469\"/>\n     <use xlink:href=\"#DejaVuSans-61\" x=\"188.378906\"/>\n     <use xlink:href=\"#DejaVuSans-6b\" x=\"249.658203\"/>\n     <use xlink:href=\"#DejaVuSans-65\" x=\"303.943359\"/>\n     <use xlink:href=\"#DejaVuSans-72\" x=\"365.466797\"/>\n     <use xlink:href=\"#DejaVuSans-2f\" x=\"406.580078\"/>\n     <use xlink:href=\"#DejaVuSans-53\" x=\"440.271484\"/>\n     <use xlink:href=\"#DejaVuSans-6e\" x=\"503.748047\"/>\n     <use xlink:href=\"#DejaVuSans-65\" x=\"567.126953\"/>\n     <use xlink:href=\"#DejaVuSans-61\" x=\"628.650391\"/>\n     <use xlink:href=\"#DejaVuSans-6b\" x=\"689.929688\"/>\n     <use xlink:href=\"#DejaVuSans-65\" x=\"744.214844\"/>\n     <use xlink:href=\"#DejaVuSans-72\" x=\"805.738281\"/>\n    </g>\n   </g>\n  </g>\n  <g id=\"axes_11\">\n   <g clip-path=\"url(#p1b9812998c)\">\n    <image xlink:href=\"data:image/png;base64,\niVBORw0KGgoAAAANSUhEUgAAAI4AAACOCAYAAADn/TAIAAAEtElEQVR4nO3dO2xbZRyG8e/Yx5e4xEmdBlCaBFHuYgIRCSrBVIkFtsLMAp0YWBArG2JjY+MyAQNFAqnqwILERQWpQtyLSDq0pU2CQ5rEsZ0TmxEp72fpy5sIBHp+418+lzhPjz47x252Kjs9DMA+lf7tE8B/E+HAQjiwEA4shAML4cBCOLAQDiyEAwvhwEI4sBAOLIQDC+HAQjiwEA4shAML4cBCOLAQDiyEAwvhwEI4sBAOLIQDC+HAQjiwEA4shAML4cBCOLAQDiyEAwvhwEI4sBAOLIQDC+HAQjiwEA4shAML4cBCOLAQDiyEAwvhwEI4sBAOLIQDC+HAkpenp2XYf3BOZ5O5zIq6drfTyGQ20E1Dv6mP60+M+F8eI3lX13X7Ykwfl2/rbFDWWW1Njz2o6jGygW5bb+uwqOu2eVePUenotp1jeoIbd+pxQwhhGHluyt20845u29PZ3CdtmXHFgYVwYCEcWAgHljyrVmRYWdMVZb6ujZWWrshs6/H7ZFZr93V/l67KbDB7a/QkS5t6PmsL+tjlR3Tb+XNbMuvMNmQ2/sMfMvv5xSmZZYUuPCfO78qsd4e+IhiLLKJ7TV0Ir98to9D6UWchhFDdTFuYx+xGFv+lQhfwpU5XZ0lHAPYgHFgIBxbCgSUvrl7TaWwWoUvCELKBLq7y1U3ddmVFN47NRhyn1dUF95FrkcX1he9k1LiQdoxyR99VP/Hyl5FHKt0ybvz4jMyKZ26R2eQrlxL3ePiKyIwrDiyEAwvhwEI4sOQhS3uXMatWZTbsRf4GHzH47fJ+zinJzYXjMus19d/B0cT9/frOwzKb/nS/Z/W3rFaTWez5uv6mLoSfv+tzmZ1NXm6POqHIrRaR32nY1ZcJw8iMKw4shAML4cBCOLDkYTjiPt+9IgukqMi9rVc+0Fstpt46IrP6x5G3dEdYfkibb/2U9rOsvvCYzGqLunicfPeL5PPZK/WFQ3t1XGZvv/+0zCbCV/EdxF7cJP5Oh3199z11W644sBAOLIQDC+HAEvmoXNywiP1xXdXOfS2z+UW9ifbysxN6MvecjO5z5rObMmv8rovCo+d/kVk2Nyuz2IcB51/1F8IHMdnSe6KbS/X0HaS+uEl9XCKuOLAQDiyEAwvhwJKdyk4f7qrpAO9kjtJ/Uj9p152KfXuGHrvS0WM3z16UWfmYfvhuY0EX1tst/QBdEfmGju0nNmQ2VtuR2cWF92R24sMzMvvoqTdkFkIIz732kh6nrT/z+KLe9z385nvdYeLvjysOLIQDC+HAQjiwHP7iOHqUtPuaD7qILjX0Wyh6Jx+Q2daM3mvb+vZP3V9bF7jDrt4uEftwYX77bTIrbizLbOXMozKLWb83/tzc//qSDiv6DSRhRxfmxfUbSceO4YoDC+HAQjiwEA4s/8ziGP87XHFgIRxYCAcWwoGFcGAhHFgIBxbCgYVwYCEcWAgHFsKBhXBgIRxYCAcWwoGFcGAhHFgIBxbCgYVwYCEcWAgHFsKBhXBgIRxYCAcWwoGFcGAhHFgIBxbCgYVwYCEcWAgHFsKBhXBgIRxYCAcWwoGFcGAhHFgIBxbCgYVwYCEcWAgHFsKBhXBgIRxY/gJcCuuVBU6dlQAAAABJRU5ErkJggg==\" id=\"image186548a5d6\" transform=\"scale(1 -1) translate(0 -142)\" x=\"193.486535\" y=\"-534.46175\" width=\"142\" height=\"142\"/>\n   </g>\n   <g id=\"text_11\">\n    <!-- Sandal/Sandal -->\n    <g transform=\"translate(212.906382 528.653054) scale(0.144 -0.144)\">\n     <use xlink:href=\"#DejaVuSans-53\"/>\n     <use xlink:href=\"#DejaVuSans-61\" x=\"63.476562\"/>\n     <use xlink:href=\"#DejaVuSans-6e\" x=\"124.755859\"/>\n     <use xlink:href=\"#DejaVuSans-64\" x=\"188.134766\"/>\n     <use xlink:href=\"#DejaVuSans-61\" x=\"251.611328\"/>\n     <use xlink:href=\"#DejaVuSans-6c\" x=\"312.890625\"/>\n     <use xlink:href=\"#DejaVuSans-2f\" x=\"340.673828\"/>\n     <use xlink:href=\"#DejaVuSans-53\" x=\"374.365234\"/>\n     <use xlink:href=\"#DejaVuSans-61\" x=\"437.841797\"/>\n     <use xlink:href=\"#DejaVuSans-6e\" x=\"499.121094\"/>\n     <use xlink:href=\"#DejaVuSans-64\" x=\"562.5\"/>\n     <use xlink:href=\"#DejaVuSans-61\" x=\"625.976562\"/>\n     <use xlink:href=\"#DejaVuSans-6c\" x=\"687.255859\"/>\n    </g>\n   </g>\n  </g>\n  <g id=\"axes_12\">\n   <g clip-path=\"url(#pe3e6f7b48d)\">\n    <image xlink:href=\"data:image/png;base64,\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\" id=\"image9b9c3d7006\" transform=\"scale(1 -1) translate(0 -142)\" x=\"370.352417\" y=\"-534.46175\" width=\"142\" height=\"142\"/>\n   </g>\n   <g id=\"text_12\">\n    <!-- Coat/Coat -->\n    <g transform=\"translate(405.495265 528.653054) scale(0.144 -0.144)\">\n     <defs>\n      <path id=\"DejaVuSans-43\" d=\"M 4122 4306 \nL 4122 3641 \nQ 3803 3938 3442 4084 \nQ 3081 4231 2675 4231 \nQ 1875 4231 1450 3742 \nQ 1025 3253 1025 2328 \nQ 1025 1406 1450 917 \nQ 1875 428 2675 428 \nQ 3081 428 3442 575 \nQ 3803 722 4122 1019 \nL 4122 359 \nQ 3791 134 3420 21 \nQ 3050 -91 2638 -91 \nQ 1578 -91 968 557 \nQ 359 1206 359 2328 \nQ 359 3453 968 4101 \nQ 1578 4750 2638 4750 \nQ 3056 4750 3426 4639 \nQ 3797 4528 4122 4306 \nz\n\" transform=\"scale(0.015625)\"/>\n     </defs>\n     <use xlink:href=\"#DejaVuSans-43\"/>\n     <use xlink:href=\"#DejaVuSans-6f\" x=\"69.824219\"/>\n     <use xlink:href=\"#DejaVuSans-61\" x=\"131.005859\"/>\n     <use xlink:href=\"#DejaVuSans-74\" x=\"192.285156\"/>\n     <use xlink:href=\"#DejaVuSans-2f\" x=\"231.494141\"/>\n     <use xlink:href=\"#DejaVuSans-43\" x=\"265.185547\"/>\n     <use xlink:href=\"#DejaVuSans-6f\" x=\"335.009766\"/>\n     <use xlink:href=\"#DejaVuSans-61\" x=\"396.191406\"/>\n     <use xlink:href=\"#DejaVuSans-74\" x=\"457.470703\"/>\n    </g>\n   </g>\n  </g>\n </g>\n <defs>\n  <clipPath id=\"p191317572e\">\n   <rect x=\"16.620652\" y=\"24.14175\" width=\"141.808696\" height=\"141.808696\"/>\n  </clipPath>\n  <clipPath id=\"pb483786d7a\">\n   <rect x=\"193.486535\" y=\"24.14175\" width=\"141.808696\" height=\"141.808696\"/>\n  </clipPath>\n  <clipPath id=\"pd3f8f726f9\">\n   <rect x=\"370.352417\" y=\"24.14175\" width=\"141.808696\" height=\"141.808696\"/>\n  </clipPath>\n  <clipPath id=\"p44cec6e082\">\n   <rect x=\"16.620652\" y=\"194.312185\" width=\"141.808696\" height=\"141.808696\"/>\n  </clipPath>\n  <clipPath id=\"p21a13e7a7a\">\n   <rect x=\"193.486535\" y=\"194.312185\" width=\"141.808696\" height=\"141.808696\"/>\n  </clipPath>\n  <clipPath id=\"p03da64f551\">\n   <rect x=\"370.352417\" y=\"194.312185\" width=\"141.808696\" height=\"141.808696\"/>\n  </clipPath>\n  <clipPath id=\"p936a5224ad\">\n   <rect x=\"16.620652\" y=\"364.48262\" width=\"141.808696\" height=\"141.808696\"/>\n  </clipPath>\n  <clipPath id=\"pf05e5f1179\">\n   <rect x=\"193.486535\" y=\"364.48262\" width=\"141.808696\" height=\"141.808696\"/>\n  </clipPath>\n  <clipPath id=\"p12c8fcf6d0\">\n   <rect x=\"370.352417\" y=\"364.48262\" width=\"141.808696\" height=\"141.808696\"/>\n  </clipPath>\n  <clipPath id=\"p020c85fd5e\">\n   <rect x=\"16.620652\" y=\"534.653054\" width=\"141.808696\" height=\"141.808696\"/>\n  </clipPath>\n  <clipPath id=\"p1b9812998c\">\n   <rect x=\"193.486535\" y=\"534.653054\" width=\"141.808696\" height=\"141.808696\"/>\n  </clipPath>\n  <clipPath id=\"pe3e6f7b48d\">\n   <rect x=\"370.352417\" y=\"534.653054\" width=\"141.808696\" height=\"141.808696\"/>\n  </clipPath>\n </defs>\n</svg>\n",
      "text/plain": [
       "<Figure size 576x864 with 12 Axes>"
      ]
     },
     "metadata": {
      "needs_background": "light"
     },
     "output_type": "display_data"
    }
   ],
   "source": [
    "# Let's test prediction\n",
    "#x, y = data.train[0][0], data.val[0][1]\n",
    "#with torch.no_grad():\n",
    "#    pred = model.forward(x)\n",
    "#    predicted, actual = labels_map[pred[0].argmax(0).item()], labels_map[y]\n",
    "#    print(f'Predicted: \"{predicted}\", Actual: \"{actual}\"')\n",
    "\n",
    "figure = plt.figure(figsize=(8, 12))\n",
    "cols, rows = 3, 4\n",
    "for i in range(1, cols * rows + 1):\n",
    "    sample_idx = torch.randint(len(data.train), size=(1,)).item()\n",
    "    img, label = data.train[sample_idx]\n",
    "    pred = model.forward(img)\n",
    "    predicted = labels_map[pred[0].argmax(0).item()]\n",
    "    figure.add_subplot(rows, cols, i)\n",
    "    plt.title(predicted + '/' + labels_map[label])\n",
    "    plt.imshow(img.squeeze())\n",
    "    plt.axis(\"off\")"
   ]
  },
  {
   "cell_type": "code",
   "execution_count": 13,
   "metadata": {},
   "outputs": [
    {
     "name": "stdout",
     "output_type": "stream",
     "text": [
      "Show those we got wrong:\n"
     ]
    },
    {
     "data": {
      "image/svg+xml": "<?xml version=\"1.0\" encoding=\"utf-8\" standalone=\"no\"?>\n<!DOCTYPE svg PUBLIC \"-//W3C//DTD SVG 1.1//EN\"\n  \"http://www.w3.org/Graphics/SVG/1.1/DTD/svg11.dtd\">\n<svg xmlns:xlink=\"http://www.w3.org/1999/xlink\" width=\"509.94046pt\" height=\"683.66175pt\" viewBox=\"0 0 509.94046 683.66175\" xmlns=\"http://www.w3.org/2000/svg\" version=\"1.1\">\n <metadata>\n  <rdf:RDF xmlns:dc=\"http://purl.org/dc/elements/1.1/\" xmlns:cc=\"http://creativecommons.org/ns#\" xmlns:rdf=\"http://www.w3.org/1999/02/22-rdf-syntax-ns#\">\n   <cc:Work>\n    <dc:type rdf:resource=\"http://purl.org/dc/dcmitype/StillImage\"/>\n    <dc:date>2023-01-19T11:16:11.886086</dc:date>\n    <dc:format>image/svg+xml</dc:format>\n    <dc:creator>\n     <cc:Agent>\n      <dc:title>Matplotlib v3.6.3, https://matplotlib.org/</dc:title>\n     </cc:Agent>\n    </dc:creator>\n   </cc:Work>\n  </rdf:RDF>\n </metadata>\n <defs>\n  <style type=\"text/css\">*{stroke-linejoin: round; stroke-linecap: butt}</style>\n </defs>\n <g id=\"figure_1\">\n  <g id=\"patch_1\">\n   <path d=\"M 0 683.66175 \nL 509.94046 683.66175 \nL 509.94046 -0 \nL 0 -0 \nL 0 683.66175 \nz\n\" style=\"fill: none\"/>\n  </g>\n  <g id=\"axes_1\">\n   <g clip-path=\"url(#p2108e4f05d)\">\n    <image xlink:href=\"data:image/png;base64,\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\" id=\"image825ba27021\" transform=\"scale(1 -1) translate(0 -142)\" x=\"7.2\" y=\"-23.950446\" width=\"142\" height=\"142\"/>\n   </g>\n   <g id=\"text_1\">\n    <!-- Shirt/T-Shirt -->\n    <g transform=\"translate(35.507348 18.14175) scale(0.144 -0.144)\">\n     <defs>\n      <path id=\"DejaVuSans-53\" d=\"M 3425 4513 \nL 3425 3897 \nQ 3066 4069 2747 4153 \nQ 2428 4238 2131 4238 \nQ 1616 4238 1336 4038 \nQ 1056 3838 1056 3469 \nQ 1056 3159 1242 3001 \nQ 1428 2844 1947 2747 \nL 2328 2669 \nQ 3034 2534 3370 2195 \nQ 3706 1856 3706 1288 \nQ 3706 609 3251 259 \nQ 2797 -91 1919 -91 \nQ 1588 -91 1214 -16 \nQ 841 59 441 206 \nL 441 856 \nQ 825 641 1194 531 \nQ 1563 422 1919 422 \nQ 2459 422 2753 634 \nQ 3047 847 3047 1241 \nQ 3047 1584 2836 1778 \nQ 2625 1972 2144 2069 \nL 1759 2144 \nQ 1053 2284 737 2584 \nQ 422 2884 422 3419 \nQ 422 4038 858 4394 \nQ 1294 4750 2059 4750 \nQ 2388 4750 2728 4690 \nQ 3069 4631 3425 4513 \nz\n\" transform=\"scale(0.015625)\"/>\n      <path id=\"DejaVuSans-68\" d=\"M 3513 2113 \nL 3513 0 \nL 2938 0 \nL 2938 2094 \nQ 2938 2591 2744 2837 \nQ 2550 3084 2163 3084 \nQ 1697 3084 1428 2787 \nQ 1159 2491 1159 1978 \nL 1159 0 \nL 581 0 \nL 581 4863 \nL 1159 4863 \nL 1159 2956 \nQ 1366 3272 1645 3428 \nQ 1925 3584 2291 3584 \nQ 2894 3584 3203 3211 \nQ 3513 2838 3513 2113 \nz\n\" transform=\"scale(0.015625)\"/>\n      <path id=\"DejaVuSans-69\" d=\"M 603 3500 \nL 1178 3500 \nL 1178 0 \nL 603 0 \nL 603 3500 \nz\nM 603 4863 \nL 1178 4863 \nL 1178 4134 \nL 603 4134 \nL 603 4863 \nz\n\" transform=\"scale(0.015625)\"/>\n      <path id=\"DejaVuSans-72\" d=\"M 2631 2963 \nQ 2534 3019 2420 3045 \nQ 2306 3072 2169 3072 \nQ 1681 3072 1420 2755 \nQ 1159 2438 1159 1844 \nL 1159 0 \nL 581 0 \nL 581 3500 \nL 1159 3500 \nL 1159 2956 \nQ 1341 3275 1631 3429 \nQ 1922 3584 2338 3584 \nQ 2397 3584 2469 3576 \nQ 2541 3569 2628 3553 \nL 2631 2963 \nz\n\" transform=\"scale(0.015625)\"/>\n      <path id=\"DejaVuSans-74\" d=\"M 1172 4494 \nL 1172 3500 \nL 2356 3500 \nL 2356 3053 \nL 1172 3053 \nL 1172 1153 \nQ 1172 725 1289 603 \nQ 1406 481 1766 481 \nL 2356 481 \nL 2356 0 \nL 1766 0 \nQ 1100 0 847 248 \nQ 594 497 594 1153 \nL 594 3053 \nL 172 3053 \nL 172 3500 \nL 594 3500 \nL 594 4494 \nL 1172 4494 \nz\n\" transform=\"scale(0.015625)\"/>\n      <path id=\"DejaVuSans-2f\" d=\"M 1625 4666 \nL 2156 4666 \nL 531 -594 \nL 0 -594 \nL 1625 4666 \nz\n\" transform=\"scale(0.015625)\"/>\n      <path id=\"DejaVuSans-54\" d=\"M -19 4666 \nL 3928 4666 \nL 3928 4134 \nL 2272 4134 \nL 2272 0 \nL 1638 0 \nL 1638 4134 \nL -19 4134 \nL -19 4666 \nz\n\" transform=\"scale(0.015625)\"/>\n      <path id=\"DejaVuSans-2d\" d=\"M 313 2009 \nL 1997 2009 \nL 1997 1497 \nL 313 1497 \nL 313 2009 \nz\n\" transform=\"scale(0.015625)\"/>\n     </defs>\n     <use xlink:href=\"#DejaVuSans-53\"/>\n     <use xlink:href=\"#DejaVuSans-68\" x=\"63.476562\"/>\n     <use xlink:href=\"#DejaVuSans-69\" x=\"126.855469\"/>\n     <use xlink:href=\"#DejaVuSans-72\" x=\"154.638672\"/>\n     <use xlink:href=\"#DejaVuSans-74\" x=\"195.751953\"/>\n     <use xlink:href=\"#DejaVuSans-2f\" x=\"234.960938\"/>\n     <use xlink:href=\"#DejaVuSans-54\" x=\"268.652344\"/>\n     <use xlink:href=\"#DejaVuSans-2d\" x=\"320.611328\"/>\n     <use xlink:href=\"#DejaVuSans-53\" x=\"356.695312\"/>\n     <use xlink:href=\"#DejaVuSans-68\" x=\"420.171875\"/>\n     <use xlink:href=\"#DejaVuSans-69\" x=\"483.550781\"/>\n     <use xlink:href=\"#DejaVuSans-72\" x=\"511.333984\"/>\n     <use xlink:href=\"#DejaVuSans-74\" x=\"552.447266\"/>\n    </g>\n   </g>\n  </g>\n  <g id=\"axes_2\">\n   <g clip-path=\"url(#p3447169a57)\">\n    <image xlink:href=\"data:image/png;base64,\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\" id=\"image4518e6ca96\" transform=\"scale(1 -1) translate(0 -142)\" x=\"184.065882\" y=\"-23.950446\" width=\"142\" height=\"142\"/>\n   </g>\n   <g id=\"text_2\">\n    <!-- Sneaker/Sandal -->\n    <g transform=\"translate(198.74048 18.14175) scale(0.144 -0.144)\">\n     <defs>\n      <path id=\"DejaVuSans-6e\" d=\"M 3513 2113 \nL 3513 0 \nL 2938 0 \nL 2938 2094 \nQ 2938 2591 2744 2837 \nQ 2550 3084 2163 3084 \nQ 1697 3084 1428 2787 \nQ 1159 2491 1159 1978 \nL 1159 0 \nL 581 0 \nL 581 3500 \nL 1159 3500 \nL 1159 2956 \nQ 1366 3272 1645 3428 \nQ 1925 3584 2291 3584 \nQ 2894 3584 3203 3211 \nQ 3513 2838 3513 2113 \nz\n\" transform=\"scale(0.015625)\"/>\n      <path id=\"DejaVuSans-65\" d=\"M 3597 1894 \nL 3597 1613 \nL 953 1613 \nQ 991 1019 1311 708 \nQ 1631 397 2203 397 \nQ 2534 397 2845 478 \nQ 3156 559 3463 722 \nL 3463 178 \nQ 3153 47 2828 -22 \nQ 2503 -91 2169 -91 \nQ 1331 -91 842 396 \nQ 353 884 353 1716 \nQ 353 2575 817 3079 \nQ 1281 3584 2069 3584 \nQ 2775 3584 3186 3129 \nQ 3597 2675 3597 1894 \nz\nM 3022 2063 \nQ 3016 2534 2758 2815 \nQ 2500 3097 2075 3097 \nQ 1594 3097 1305 2825 \nQ 1016 2553 972 2059 \nL 3022 2063 \nz\n\" transform=\"scale(0.015625)\"/>\n      <path id=\"DejaVuSans-61\" d=\"M 2194 1759 \nQ 1497 1759 1228 1600 \nQ 959 1441 959 1056 \nQ 959 750 1161 570 \nQ 1363 391 1709 391 \nQ 2188 391 2477 730 \nQ 2766 1069 2766 1631 \nL 2766 1759 \nL 2194 1759 \nz\nM 3341 1997 \nL 3341 0 \nL 2766 0 \nL 2766 531 \nQ 2569 213 2275 61 \nQ 1981 -91 1556 -91 \nQ 1019 -91 701 211 \nQ 384 513 384 1019 \nQ 384 1609 779 1909 \nQ 1175 2209 1959 2209 \nL 2766 2209 \nL 2766 2266 \nQ 2766 2663 2505 2880 \nQ 2244 3097 1772 3097 \nQ 1472 3097 1187 3025 \nQ 903 2953 641 2809 \nL 641 3341 \nQ 956 3463 1253 3523 \nQ 1550 3584 1831 3584 \nQ 2591 3584 2966 3190 \nQ 3341 2797 3341 1997 \nz\n\" transform=\"scale(0.015625)\"/>\n      <path id=\"DejaVuSans-6b\" d=\"M 581 4863 \nL 1159 4863 \nL 1159 1991 \nL 2875 3500 \nL 3609 3500 \nL 1753 1863 \nL 3688 0 \nL 2938 0 \nL 1159 1709 \nL 1159 0 \nL 581 0 \nL 581 4863 \nz\n\" transform=\"scale(0.015625)\"/>\n      <path id=\"DejaVuSans-64\" d=\"M 2906 2969 \nL 2906 4863 \nL 3481 4863 \nL 3481 0 \nL 2906 0 \nL 2906 525 \nQ 2725 213 2448 61 \nQ 2172 -91 1784 -91 \nQ 1150 -91 751 415 \nQ 353 922 353 1747 \nQ 353 2572 751 3078 \nQ 1150 3584 1784 3584 \nQ 2172 3584 2448 3432 \nQ 2725 3281 2906 2969 \nz\nM 947 1747 \nQ 947 1113 1208 752 \nQ 1469 391 1925 391 \nQ 2381 391 2643 752 \nQ 2906 1113 2906 1747 \nQ 2906 2381 2643 2742 \nQ 2381 3103 1925 3103 \nQ 1469 3103 1208 2742 \nQ 947 2381 947 1747 \nz\n\" transform=\"scale(0.015625)\"/>\n      <path id=\"DejaVuSans-6c\" d=\"M 603 4863 \nL 1178 4863 \nL 1178 0 \nL 603 0 \nL 603 4863 \nz\n\" transform=\"scale(0.015625)\"/>\n     </defs>\n     <use xlink:href=\"#DejaVuSans-53\"/>\n     <use xlink:href=\"#DejaVuSans-6e\" x=\"63.476562\"/>\n     <use xlink:href=\"#DejaVuSans-65\" x=\"126.855469\"/>\n     <use xlink:href=\"#DejaVuSans-61\" x=\"188.378906\"/>\n     <use xlink:href=\"#DejaVuSans-6b\" x=\"249.658203\"/>\n     <use xlink:href=\"#DejaVuSans-65\" x=\"303.943359\"/>\n     <use xlink:href=\"#DejaVuSans-72\" x=\"365.466797\"/>\n     <use xlink:href=\"#DejaVuSans-2f\" x=\"406.580078\"/>\n     <use xlink:href=\"#DejaVuSans-53\" x=\"440.271484\"/>\n     <use xlink:href=\"#DejaVuSans-61\" x=\"503.748047\"/>\n     <use xlink:href=\"#DejaVuSans-6e\" x=\"565.027344\"/>\n     <use xlink:href=\"#DejaVuSans-64\" x=\"628.40625\"/>\n     <use xlink:href=\"#DejaVuSans-61\" x=\"691.882812\"/>\n     <use xlink:href=\"#DejaVuSans-6c\" x=\"753.162109\"/>\n    </g>\n   </g>\n  </g>\n  <g id=\"axes_3\">\n   <g clip-path=\"url(#pbe24e7add4)\">\n    <image xlink:href=\"data:image/png;base64,\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\" id=\"image8d423f205a\" transform=\"scale(1 -1) translate(0 -142)\" x=\"360.931765\" y=\"-23.950446\" width=\"142\" height=\"142\"/>\n   </g>\n   <g id=\"text_3\">\n    <!-- Sneaker/Sandal -->\n    <g transform=\"translate(375.606363 18.14175) scale(0.144 -0.144)\">\n     <use xlink:href=\"#DejaVuSans-53\"/>\n     <use xlink:href=\"#DejaVuSans-6e\" x=\"63.476562\"/>\n     <use xlink:href=\"#DejaVuSans-65\" x=\"126.855469\"/>\n     <use xlink:href=\"#DejaVuSans-61\" x=\"188.378906\"/>\n     <use xlink:href=\"#DejaVuSans-6b\" x=\"249.658203\"/>\n     <use xlink:href=\"#DejaVuSans-65\" x=\"303.943359\"/>\n     <use xlink:href=\"#DejaVuSans-72\" x=\"365.466797\"/>\n     <use xlink:href=\"#DejaVuSans-2f\" x=\"406.580078\"/>\n     <use xlink:href=\"#DejaVuSans-53\" x=\"440.271484\"/>\n     <use xlink:href=\"#DejaVuSans-61\" x=\"503.748047\"/>\n     <use xlink:href=\"#DejaVuSans-6e\" x=\"565.027344\"/>\n     <use xlink:href=\"#DejaVuSans-64\" x=\"628.40625\"/>\n     <use xlink:href=\"#DejaVuSans-61\" x=\"691.882812\"/>\n     <use xlink:href=\"#DejaVuSans-6c\" x=\"753.162109\"/>\n    </g>\n   </g>\n  </g>\n  <g id=\"axes_4\">\n   <g clip-path=\"url(#p3bf704c199)\">\n    <image xlink:href=\"data:image/png;base64,\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\" id=\"image93b7712bfe\" transform=\"scale(1 -1) translate(0 -142)\" x=\"7.2\" y=\"-194.12088\" width=\"142\" height=\"142\"/>\n   </g>\n   <g id=\"text_4\">\n    <!-- Pullover/Coat -->\n    <g transform=\"translate(30.174848 188.312185) scale(0.144 -0.144)\">\n     <defs>\n      <path id=\"DejaVuSans-50\" d=\"M 1259 4147 \nL 1259 2394 \nL 2053 2394 \nQ 2494 2394 2734 2622 \nQ 2975 2850 2975 3272 \nQ 2975 3691 2734 3919 \nQ 2494 4147 2053 4147 \nL 1259 4147 \nz\nM 628 4666 \nL 2053 4666 \nQ 2838 4666 3239 4311 \nQ 3641 3956 3641 3272 \nQ 3641 2581 3239 2228 \nQ 2838 1875 2053 1875 \nL 1259 1875 \nL 1259 0 \nL 628 0 \nL 628 4666 \nz\n\" transform=\"scale(0.015625)\"/>\n      <path id=\"DejaVuSans-75\" d=\"M 544 1381 \nL 544 3500 \nL 1119 3500 \nL 1119 1403 \nQ 1119 906 1312 657 \nQ 1506 409 1894 409 \nQ 2359 409 2629 706 \nQ 2900 1003 2900 1516 \nL 2900 3500 \nL 3475 3500 \nL 3475 0 \nL 2900 0 \nL 2900 538 \nQ 2691 219 2414 64 \nQ 2138 -91 1772 -91 \nQ 1169 -91 856 284 \nQ 544 659 544 1381 \nz\nM 1991 3584 \nL 1991 3584 \nz\n\" transform=\"scale(0.015625)\"/>\n      <path id=\"DejaVuSans-6f\" d=\"M 1959 3097 \nQ 1497 3097 1228 2736 \nQ 959 2375 959 1747 \nQ 959 1119 1226 758 \nQ 1494 397 1959 397 \nQ 2419 397 2687 759 \nQ 2956 1122 2956 1747 \nQ 2956 2369 2687 2733 \nQ 2419 3097 1959 3097 \nz\nM 1959 3584 \nQ 2709 3584 3137 3096 \nQ 3566 2609 3566 1747 \nQ 3566 888 3137 398 \nQ 2709 -91 1959 -91 \nQ 1206 -91 779 398 \nQ 353 888 353 1747 \nQ 353 2609 779 3096 \nQ 1206 3584 1959 3584 \nz\n\" transform=\"scale(0.015625)\"/>\n      <path id=\"DejaVuSans-76\" d=\"M 191 3500 \nL 800 3500 \nL 1894 563 \nL 2988 3500 \nL 3597 3500 \nL 2284 0 \nL 1503 0 \nL 191 3500 \nz\n\" transform=\"scale(0.015625)\"/>\n      <path id=\"DejaVuSans-43\" d=\"M 4122 4306 \nL 4122 3641 \nQ 3803 3938 3442 4084 \nQ 3081 4231 2675 4231 \nQ 1875 4231 1450 3742 \nQ 1025 3253 1025 2328 \nQ 1025 1406 1450 917 \nQ 1875 428 2675 428 \nQ 3081 428 3442 575 \nQ 3803 722 4122 1019 \nL 4122 359 \nQ 3791 134 3420 21 \nQ 3050 -91 2638 -91 \nQ 1578 -91 968 557 \nQ 359 1206 359 2328 \nQ 359 3453 968 4101 \nQ 1578 4750 2638 4750 \nQ 3056 4750 3426 4639 \nQ 3797 4528 4122 4306 \nz\n\" transform=\"scale(0.015625)\"/>\n     </defs>\n     <use xlink:href=\"#DejaVuSans-50\"/>\n     <use xlink:href=\"#DejaVuSans-75\" x=\"58.552734\"/>\n     <use xlink:href=\"#DejaVuSans-6c\" x=\"121.931641\"/>\n     <use xlink:href=\"#DejaVuSans-6c\" x=\"149.714844\"/>\n     <use xlink:href=\"#DejaVuSans-6f\" x=\"177.498047\"/>\n     <use xlink:href=\"#DejaVuSans-76\" x=\"238.679688\"/>\n     <use xlink:href=\"#DejaVuSans-65\" x=\"297.859375\"/>\n     <use xlink:href=\"#DejaVuSans-72\" x=\"359.382812\"/>\n     <use xlink:href=\"#DejaVuSans-2f\" x=\"400.496094\"/>\n     <use xlink:href=\"#DejaVuSans-43\" x=\"434.1875\"/>\n     <use xlink:href=\"#DejaVuSans-6f\" x=\"504.011719\"/>\n     <use xlink:href=\"#DejaVuSans-61\" x=\"565.193359\"/>\n     <use xlink:href=\"#DejaVuSans-74\" x=\"626.472656\"/>\n    </g>\n   </g>\n  </g>\n  <g id=\"axes_5\">\n   <g clip-path=\"url(#pf985880df9)\">\n    <image xlink:href=\"data:image/png;base64,\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\" id=\"image75806bc6f0\" transform=\"scale(1 -1) translate(0 -142)\" x=\"184.065882\" y=\"-194.12088\" width=\"142\" height=\"142\"/>\n   </g>\n   <g id=\"text_5\">\n    <!-- Sneaker/Sandal -->\n    <g transform=\"translate(198.74048 188.312185) scale(0.144 -0.144)\">\n     <use xlink:href=\"#DejaVuSans-53\"/>\n     <use xlink:href=\"#DejaVuSans-6e\" x=\"63.476562\"/>\n     <use xlink:href=\"#DejaVuSans-65\" x=\"126.855469\"/>\n     <use xlink:href=\"#DejaVuSans-61\" x=\"188.378906\"/>\n     <use xlink:href=\"#DejaVuSans-6b\" x=\"249.658203\"/>\n     <use xlink:href=\"#DejaVuSans-65\" x=\"303.943359\"/>\n     <use xlink:href=\"#DejaVuSans-72\" x=\"365.466797\"/>\n     <use xlink:href=\"#DejaVuSans-2f\" x=\"406.580078\"/>\n     <use xlink:href=\"#DejaVuSans-53\" x=\"440.271484\"/>\n     <use xlink:href=\"#DejaVuSans-61\" x=\"503.748047\"/>\n     <use xlink:href=\"#DejaVuSans-6e\" x=\"565.027344\"/>\n     <use xlink:href=\"#DejaVuSans-64\" x=\"628.40625\"/>\n     <use xlink:href=\"#DejaVuSans-61\" x=\"691.882812\"/>\n     <use xlink:href=\"#DejaVuSans-6c\" x=\"753.162109\"/>\n    </g>\n   </g>\n  </g>\n  <g id=\"axes_6\">\n   <g clip-path=\"url(#pc2f1afa7c5)\">\n    <image xlink:href=\"data:image/png;base64,\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\" id=\"image571caae9d4\" transform=\"scale(1 -1) translate(0 -142)\" x=\"360.931765\" y=\"-194.12088\" width=\"142\" height=\"142\"/>\n   </g>\n   <g id=\"text_6\">\n    <!-- Pullover/Shirt -->\n    <g transform=\"translate(383.657988 188.312185) scale(0.144 -0.144)\">\n     <use xlink:href=\"#DejaVuSans-50\"/>\n     <use xlink:href=\"#DejaVuSans-75\" x=\"58.552734\"/>\n     <use xlink:href=\"#DejaVuSans-6c\" x=\"121.931641\"/>\n     <use xlink:href=\"#DejaVuSans-6c\" x=\"149.714844\"/>\n     <use xlink:href=\"#DejaVuSans-6f\" x=\"177.498047\"/>\n     <use xlink:href=\"#DejaVuSans-76\" x=\"238.679688\"/>\n     <use xlink:href=\"#DejaVuSans-65\" x=\"297.859375\"/>\n     <use xlink:href=\"#DejaVuSans-72\" x=\"359.382812\"/>\n     <use xlink:href=\"#DejaVuSans-2f\" x=\"400.496094\"/>\n     <use xlink:href=\"#DejaVuSans-53\" x=\"434.1875\"/>\n     <use xlink:href=\"#DejaVuSans-68\" x=\"497.664062\"/>\n     <use xlink:href=\"#DejaVuSans-69\" x=\"561.042969\"/>\n     <use xlink:href=\"#DejaVuSans-72\" x=\"588.826172\"/>\n     <use xlink:href=\"#DejaVuSans-74\" x=\"629.939453\"/>\n    </g>\n   </g>\n  </g>\n  <g id=\"axes_7\">\n   <g clip-path=\"url(#pa34a250827)\">\n    <image xlink:href=\"data:image/png;base64,\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\" id=\"imagea3ed043caf\" transform=\"scale(1 -1) translate(0 -142)\" x=\"7.2\" y=\"-364.291315\" width=\"142\" height=\"142\"/>\n   </g>\n   <g id=\"text_7\">\n    <!-- Shirt/Coat -->\n    <g transform=\"translate(42.094223 358.48262) scale(0.144 -0.144)\">\n     <use xlink:href=\"#DejaVuSans-53\"/>\n     <use xlink:href=\"#DejaVuSans-68\" x=\"63.476562\"/>\n     <use xlink:href=\"#DejaVuSans-69\" x=\"126.855469\"/>\n     <use xlink:href=\"#DejaVuSans-72\" x=\"154.638672\"/>\n     <use xlink:href=\"#DejaVuSans-74\" x=\"195.751953\"/>\n     <use xlink:href=\"#DejaVuSans-2f\" x=\"234.960938\"/>\n     <use xlink:href=\"#DejaVuSans-43\" x=\"268.652344\"/>\n     <use xlink:href=\"#DejaVuSans-6f\" x=\"338.476562\"/>\n     <use xlink:href=\"#DejaVuSans-61\" x=\"399.658203\"/>\n     <use xlink:href=\"#DejaVuSans-74\" x=\"460.9375\"/>\n    </g>\n   </g>\n  </g>\n  <g id=\"axes_8\">\n   <g clip-path=\"url(#p7443c3f808)\">\n    <image xlink:href=\"data:image/png;base64,\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\" id=\"imagebadda518eb\" transform=\"scale(1 -1) translate(0 -142)\" x=\"184.065882\" y=\"-364.291315\" width=\"142\" height=\"142\"/>\n   </g>\n   <g id=\"text_8\">\n    <!-- Bag/Pullover -->\n    <g transform=\"translate(209.78573 358.48262) scale(0.144 -0.144)\">\n     <defs>\n      <path id=\"DejaVuSans-42\" d=\"M 1259 2228 \nL 1259 519 \nL 2272 519 \nQ 2781 519 3026 730 \nQ 3272 941 3272 1375 \nQ 3272 1813 3026 2020 \nQ 2781 2228 2272 2228 \nL 1259 2228 \nz\nM 1259 4147 \nL 1259 2741 \nL 2194 2741 \nQ 2656 2741 2882 2914 \nQ 3109 3088 3109 3444 \nQ 3109 3797 2882 3972 \nQ 2656 4147 2194 4147 \nL 1259 4147 \nz\nM 628 4666 \nL 2241 4666 \nQ 2963 4666 3353 4366 \nQ 3744 4066 3744 3513 \nQ 3744 3084 3544 2831 \nQ 3344 2578 2956 2516 \nQ 3422 2416 3680 2098 \nQ 3938 1781 3938 1306 \nQ 3938 681 3513 340 \nQ 3088 0 2303 0 \nL 628 0 \nL 628 4666 \nz\n\" transform=\"scale(0.015625)\"/>\n      <path id=\"DejaVuSans-67\" d=\"M 2906 1791 \nQ 2906 2416 2648 2759 \nQ 2391 3103 1925 3103 \nQ 1463 3103 1205 2759 \nQ 947 2416 947 1791 \nQ 947 1169 1205 825 \nQ 1463 481 1925 481 \nQ 2391 481 2648 825 \nQ 2906 1169 2906 1791 \nz\nM 3481 434 \nQ 3481 -459 3084 -895 \nQ 2688 -1331 1869 -1331 \nQ 1566 -1331 1297 -1286 \nQ 1028 -1241 775 -1147 \nL 775 -588 \nQ 1028 -725 1275 -790 \nQ 1522 -856 1778 -856 \nQ 2344 -856 2625 -561 \nQ 2906 -266 2906 331 \nL 2906 616 \nQ 2728 306 2450 153 \nQ 2172 0 1784 0 \nQ 1141 0 747 490 \nQ 353 981 353 1791 \nQ 353 2603 747 3093 \nQ 1141 3584 1784 3584 \nQ 2172 3584 2450 3431 \nQ 2728 3278 2906 2969 \nL 2906 3500 \nL 3481 3500 \nL 3481 434 \nz\n\" transform=\"scale(0.015625)\"/>\n     </defs>\n     <use xlink:href=\"#DejaVuSans-42\"/>\n     <use xlink:href=\"#DejaVuSans-61\" x=\"68.603516\"/>\n     <use xlink:href=\"#DejaVuSans-67\" x=\"129.882812\"/>\n     <use xlink:href=\"#DejaVuSans-2f\" x=\"193.359375\"/>\n     <use xlink:href=\"#DejaVuSans-50\" x=\"227.050781\"/>\n     <use xlink:href=\"#DejaVuSans-75\" x=\"285.603516\"/>\n     <use xlink:href=\"#DejaVuSans-6c\" x=\"348.982422\"/>\n     <use xlink:href=\"#DejaVuSans-6c\" x=\"376.765625\"/>\n     <use xlink:href=\"#DejaVuSans-6f\" x=\"404.548828\"/>\n     <use xlink:href=\"#DejaVuSans-76\" x=\"465.730469\"/>\n     <use xlink:href=\"#DejaVuSans-65\" x=\"524.910156\"/>\n     <use xlink:href=\"#DejaVuSans-72\" x=\"586.433594\"/>\n    </g>\n   </g>\n  </g>\n  <g id=\"axes_9\">\n   <g clip-path=\"url(#pb5a9a0f581)\">\n    <image xlink:href=\"data:image/png;base64,\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\" id=\"image57b878e6bb\" transform=\"scale(1 -1) translate(0 -142)\" x=\"360.931765\" y=\"-364.291315\" width=\"142\" height=\"142\"/>\n   </g>\n   <g id=\"text_9\">\n    <!-- T-Shirt/Shirt -->\n    <g transform=\"translate(389.239113 358.48262) scale(0.144 -0.144)\">\n     <use xlink:href=\"#DejaVuSans-54\"/>\n     <use xlink:href=\"#DejaVuSans-2d\" x=\"51.958984\"/>\n     <use xlink:href=\"#DejaVuSans-53\" x=\"88.042969\"/>\n     <use xlink:href=\"#DejaVuSans-68\" x=\"151.519531\"/>\n     <use xlink:href=\"#DejaVuSans-69\" x=\"214.898438\"/>\n     <use xlink:href=\"#DejaVuSans-72\" x=\"242.681641\"/>\n     <use xlink:href=\"#DejaVuSans-74\" x=\"283.794922\"/>\n     <use xlink:href=\"#DejaVuSans-2f\" x=\"323.003906\"/>\n     <use xlink:href=\"#DejaVuSans-53\" x=\"356.695312\"/>\n     <use xlink:href=\"#DejaVuSans-68\" x=\"420.171875\"/>\n     <use xlink:href=\"#DejaVuSans-69\" x=\"483.550781\"/>\n     <use xlink:href=\"#DejaVuSans-72\" x=\"511.333984\"/>\n     <use xlink:href=\"#DejaVuSans-74\" x=\"552.447266\"/>\n    </g>\n   </g>\n  </g>\n  <g id=\"axes_10\">\n   <g clip-path=\"url(#p504ef15c30)\">\n    <image xlink:href=\"data:image/png;base64,\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\" id=\"image009bbb8c1b\" transform=\"scale(1 -1) translate(0 -142)\" x=\"7.2\" y=\"-534.46175\" width=\"142\" height=\"142\"/>\n   </g>\n   <g id=\"text_10\">\n    <!-- Coat/Shirt -->\n    <g transform=\"translate(42.094223 528.653054) scale(0.144 -0.144)\">\n     <use xlink:href=\"#DejaVuSans-43\"/>\n     <use xlink:href=\"#DejaVuSans-6f\" x=\"69.824219\"/>\n     <use xlink:href=\"#DejaVuSans-61\" x=\"131.005859\"/>\n     <use xlink:href=\"#DejaVuSans-74\" x=\"192.285156\"/>\n     <use xlink:href=\"#DejaVuSans-2f\" x=\"231.494141\"/>\n     <use xlink:href=\"#DejaVuSans-53\" x=\"265.185547\"/>\n     <use xlink:href=\"#DejaVuSans-68\" x=\"328.662109\"/>\n     <use xlink:href=\"#DejaVuSans-69\" x=\"392.041016\"/>\n     <use xlink:href=\"#DejaVuSans-72\" x=\"419.824219\"/>\n     <use xlink:href=\"#DejaVuSans-74\" x=\"460.9375\"/>\n    </g>\n   </g>\n  </g>\n  <g id=\"axes_11\">\n   <g clip-path=\"url(#pa5cbacf020)\">\n    <image xlink:href=\"data:image/png;base64,\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\" id=\"imagea22cdfbb6f\" transform=\"scale(1 -1) translate(0 -142)\" x=\"184.065882\" y=\"-534.46175\" width=\"142\" height=\"142\"/>\n   </g>\n   <g id=\"text_11\">\n    <!-- Coat/Pullover -->\n    <g transform=\"translate(207.04073 528.653054) scale(0.144 -0.144)\">\n     <use xlink:href=\"#DejaVuSans-43\"/>\n     <use xlink:href=\"#DejaVuSans-6f\" x=\"69.824219\"/>\n     <use xlink:href=\"#DejaVuSans-61\" x=\"131.005859\"/>\n     <use xlink:href=\"#DejaVuSans-74\" x=\"192.285156\"/>\n     <use xlink:href=\"#DejaVuSans-2f\" x=\"231.494141\"/>\n     <use xlink:href=\"#DejaVuSans-50\" x=\"265.185547\"/>\n     <use xlink:href=\"#DejaVuSans-75\" x=\"323.738281\"/>\n     <use xlink:href=\"#DejaVuSans-6c\" x=\"387.117188\"/>\n     <use xlink:href=\"#DejaVuSans-6c\" x=\"414.900391\"/>\n     <use xlink:href=\"#DejaVuSans-6f\" x=\"442.683594\"/>\n     <use xlink:href=\"#DejaVuSans-76\" x=\"503.865234\"/>\n     <use xlink:href=\"#DejaVuSans-65\" x=\"563.044922\"/>\n     <use xlink:href=\"#DejaVuSans-72\" x=\"624.568359\"/>\n    </g>\n   </g>\n  </g>\n  <g id=\"axes_12\">\n   <g clip-path=\"url(#pb55c7f1940)\">\n    <image xlink:href=\"data:image/png;base64,\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\" id=\"image96278863d7\" transform=\"scale(1 -1) translate(0 -142)\" x=\"360.931765\" y=\"-534.46175\" width=\"142\" height=\"142\"/>\n   </g>\n   <g id=\"text_12\">\n    <!-- T-Shirt/Dress -->\n    <g transform=\"translate(385.882113 528.653054) scale(0.144 -0.144)\">\n     <defs>\n      <path id=\"DejaVuSans-44\" d=\"M 1259 4147 \nL 1259 519 \nL 2022 519 \nQ 2988 519 3436 956 \nQ 3884 1394 3884 2338 \nQ 3884 3275 3436 3711 \nQ 2988 4147 2022 4147 \nL 1259 4147 \nz\nM 628 4666 \nL 1925 4666 \nQ 3281 4666 3915 4102 \nQ 4550 3538 4550 2338 \nQ 4550 1131 3912 565 \nQ 3275 0 1925 0 \nL 628 0 \nL 628 4666 \nz\n\" transform=\"scale(0.015625)\"/>\n      <path id=\"DejaVuSans-73\" d=\"M 2834 3397 \nL 2834 2853 \nQ 2591 2978 2328 3040 \nQ 2066 3103 1784 3103 \nQ 1356 3103 1142 2972 \nQ 928 2841 928 2578 \nQ 928 2378 1081 2264 \nQ 1234 2150 1697 2047 \nL 1894 2003 \nQ 2506 1872 2764 1633 \nQ 3022 1394 3022 966 \nQ 3022 478 2636 193 \nQ 2250 -91 1575 -91 \nQ 1294 -91 989 -36 \nQ 684 19 347 128 \nL 347 722 \nQ 666 556 975 473 \nQ 1284 391 1588 391 \nQ 1994 391 2212 530 \nQ 2431 669 2431 922 \nQ 2431 1156 2273 1281 \nQ 2116 1406 1581 1522 \nL 1381 1569 \nQ 847 1681 609 1914 \nQ 372 2147 372 2553 \nQ 372 3047 722 3315 \nQ 1072 3584 1716 3584 \nQ 2034 3584 2315 3537 \nQ 2597 3491 2834 3397 \nz\n\" transform=\"scale(0.015625)\"/>\n     </defs>\n     <use xlink:href=\"#DejaVuSans-54\"/>\n     <use xlink:href=\"#DejaVuSans-2d\" x=\"51.958984\"/>\n     <use xlink:href=\"#DejaVuSans-53\" x=\"88.042969\"/>\n     <use xlink:href=\"#DejaVuSans-68\" x=\"151.519531\"/>\n     <use xlink:href=\"#DejaVuSans-69\" x=\"214.898438\"/>\n     <use xlink:href=\"#DejaVuSans-72\" x=\"242.681641\"/>\n     <use xlink:href=\"#DejaVuSans-74\" x=\"283.794922\"/>\n     <use xlink:href=\"#DejaVuSans-2f\" x=\"323.003906\"/>\n     <use xlink:href=\"#DejaVuSans-44\" x=\"356.695312\"/>\n     <use xlink:href=\"#DejaVuSans-72\" x=\"433.697266\"/>\n     <use xlink:href=\"#DejaVuSans-65\" x=\"472.560547\"/>\n     <use xlink:href=\"#DejaVuSans-73\" x=\"534.083984\"/>\n     <use xlink:href=\"#DejaVuSans-73\" x=\"586.183594\"/>\n    </g>\n   </g>\n  </g>\n </g>\n <defs>\n  <clipPath id=\"p2108e4f05d\">\n   <rect x=\"7.2\" y=\"24.14175\" width=\"141.808696\" height=\"141.808696\"/>\n  </clipPath>\n  <clipPath id=\"p3447169a57\">\n   <rect x=\"184.065882\" y=\"24.14175\" width=\"141.808696\" height=\"141.808696\"/>\n  </clipPath>\n  <clipPath id=\"pbe24e7add4\">\n   <rect x=\"360.931765\" y=\"24.14175\" width=\"141.808696\" height=\"141.808696\"/>\n  </clipPath>\n  <clipPath id=\"p3bf704c199\">\n   <rect x=\"7.2\" y=\"194.312185\" width=\"141.808696\" height=\"141.808696\"/>\n  </clipPath>\n  <clipPath id=\"pf985880df9\">\n   <rect x=\"184.065882\" y=\"194.312185\" width=\"141.808696\" height=\"141.808696\"/>\n  </clipPath>\n  <clipPath id=\"pc2f1afa7c5\">\n   <rect x=\"360.931765\" y=\"194.312185\" width=\"141.808696\" height=\"141.808696\"/>\n  </clipPath>\n  <clipPath id=\"pa34a250827\">\n   <rect x=\"7.2\" y=\"364.48262\" width=\"141.808696\" height=\"141.808696\"/>\n  </clipPath>\n  <clipPath id=\"p7443c3f808\">\n   <rect x=\"184.065882\" y=\"364.48262\" width=\"141.808696\" height=\"141.808696\"/>\n  </clipPath>\n  <clipPath id=\"pb5a9a0f581\">\n   <rect x=\"360.931765\" y=\"364.48262\" width=\"141.808696\" height=\"141.808696\"/>\n  </clipPath>\n  <clipPath id=\"p504ef15c30\">\n   <rect x=\"7.2\" y=\"534.653054\" width=\"141.808696\" height=\"141.808696\"/>\n  </clipPath>\n  <clipPath id=\"pa5cbacf020\">\n   <rect x=\"184.065882\" y=\"534.653054\" width=\"141.808696\" height=\"141.808696\"/>\n  </clipPath>\n  <clipPath id=\"pb55c7f1940\">\n   <rect x=\"360.931765\" y=\"534.653054\" width=\"141.808696\" height=\"141.808696\"/>\n  </clipPath>\n </defs>\n</svg>\n",
      "text/plain": [
       "<Figure size 576x864 with 12 Axes>"
      ]
     },
     "metadata": {
      "needs_background": "light"
     },
     "output_type": "display_data"
    }
   ],
   "source": [
    "figure = plt.figure(figsize=(8, 12))\n",
    "cols, rows = 3, 4\n",
    "wrong = False\n",
    "print ('Show those we got wrong:')\n",
    "for i in range(1, cols * rows + 1):\n",
    "    while wrong == False:\n",
    "        sample_idx = torch.randint(len(data.train), size=(1,)).item()\n",
    "        img, label = data.train[sample_idx]\n",
    "        pred = model.forward(img)\n",
    "        predicted = labels_map[pred[0].argmax(0).item()]\n",
    "        if pred[0].argmax(0).item() != label:\n",
    "            wrong = True\n",
    "    wrong = False\n",
    "    figure.add_subplot(rows, cols, i)\n",
    "    plt.title(predicted + '/' + labels_map[label])\n",
    "    plt.imshow(img.squeeze())\n",
    "    plt.axis(\"off\")"
   ]
  },
  {
   "cell_type": "code",
   "execution_count": 14,
   "metadata": {},
   "outputs": [
    {
     "data": {
      "image/svg+xml": "<?xml version=\"1.0\" encoding=\"utf-8\" standalone=\"no\"?>\n<!DOCTYPE svg PUBLIC \"-//W3C//DTD SVG 1.1//EN\"\n  \"http://www.w3.org/Graphics/SVG/1.1/DTD/svg11.dtd\">\n<svg xmlns:xlink=\"http://www.w3.org/1999/xlink\" width=\"359.989843pt\" height=\"846.74175pt\" viewBox=\"0 0 359.989843 846.74175\" xmlns=\"http://www.w3.org/2000/svg\" version=\"1.1\">\n <metadata>\n  <rdf:RDF xmlns:dc=\"http://purl.org/dc/elements/1.1/\" xmlns:cc=\"http://creativecommons.org/ns#\" xmlns:rdf=\"http://www.w3.org/1999/02/22-rdf-syntax-ns#\">\n   <cc:Work>\n    <dc:type rdf:resource=\"http://purl.org/dc/dcmitype/StillImage\"/>\n    <dc:date>2023-01-19T11:16:14.685969</dc:date>\n    <dc:format>image/svg+xml</dc:format>\n    <dc:creator>\n     <cc:Agent>\n      <dc:title>Matplotlib v3.6.3, https://matplotlib.org/</dc:title>\n     </cc:Agent>\n    </dc:creator>\n   </cc:Work>\n  </rdf:RDF>\n </metadata>\n <defs>\n  <style type=\"text/css\">*{stroke-linejoin: round; stroke-linecap: butt}</style>\n </defs>\n <g id=\"figure_1\">\n  <g id=\"patch_1\">\n   <path d=\"M 0 846.74175 \nL 359.989843 846.74175 \nL 359.989843 0 \nL 0 0 \nL 0 846.74175 \nz\n\" style=\"fill: none\"/>\n  </g>\n  <g id=\"axes_1\">\n   <g clip-path=\"url(#paf08484beb)\">\n    <image xlink:href=\"data:image/png;base64,\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\" id=\"image2d86b0d6aa\" transform=\"scale(1 -1) translate(0 -141)\" x=\"7.2\" y=\"-23.727957\" width=\"141\" height=\"141\"/>\n   </g>\n   <g id=\"text_1\">\n    <!-- T-Shirt -->\n    <g transform=\"translate(54.238228 18.14175) scale(0.144 -0.144)\">\n     <defs>\n      <path id=\"DejaVuSans-54\" d=\"M -19 4666 \nL 3928 4666 \nL 3928 4134 \nL 2272 4134 \nL 2272 0 \nL 1638 0 \nL 1638 4134 \nL -19 4134 \nL -19 4666 \nz\n\" transform=\"scale(0.015625)\"/>\n      <path id=\"DejaVuSans-2d\" d=\"M 313 2009 \nL 1997 2009 \nL 1997 1497 \nL 313 1497 \nL 313 2009 \nz\n\" transform=\"scale(0.015625)\"/>\n      <path id=\"DejaVuSans-53\" d=\"M 3425 4513 \nL 3425 3897 \nQ 3066 4069 2747 4153 \nQ 2428 4238 2131 4238 \nQ 1616 4238 1336 4038 \nQ 1056 3838 1056 3469 \nQ 1056 3159 1242 3001 \nQ 1428 2844 1947 2747 \nL 2328 2669 \nQ 3034 2534 3370 2195 \nQ 3706 1856 3706 1288 \nQ 3706 609 3251 259 \nQ 2797 -91 1919 -91 \nQ 1588 -91 1214 -16 \nQ 841 59 441 206 \nL 441 856 \nQ 825 641 1194 531 \nQ 1563 422 1919 422 \nQ 2459 422 2753 634 \nQ 3047 847 3047 1241 \nQ 3047 1584 2836 1778 \nQ 2625 1972 2144 2069 \nL 1759 2144 \nQ 1053 2284 737 2584 \nQ 422 2884 422 3419 \nQ 422 4038 858 4394 \nQ 1294 4750 2059 4750 \nQ 2388 4750 2728 4690 \nQ 3069 4631 3425 4513 \nz\n\" transform=\"scale(0.015625)\"/>\n      <path id=\"DejaVuSans-68\" d=\"M 3513 2113 \nL 3513 0 \nL 2938 0 \nL 2938 2094 \nQ 2938 2591 2744 2837 \nQ 2550 3084 2163 3084 \nQ 1697 3084 1428 2787 \nQ 1159 2491 1159 1978 \nL 1159 0 \nL 581 0 \nL 581 4863 \nL 1159 4863 \nL 1159 2956 \nQ 1366 3272 1645 3428 \nQ 1925 3584 2291 3584 \nQ 2894 3584 3203 3211 \nQ 3513 2838 3513 2113 \nz\n\" transform=\"scale(0.015625)\"/>\n      <path id=\"DejaVuSans-69\" d=\"M 603 3500 \nL 1178 3500 \nL 1178 0 \nL 603 0 \nL 603 3500 \nz\nM 603 4863 \nL 1178 4863 \nL 1178 4134 \nL 603 4134 \nL 603 4863 \nz\n\" transform=\"scale(0.015625)\"/>\n      <path id=\"DejaVuSans-72\" d=\"M 2631 2963 \nQ 2534 3019 2420 3045 \nQ 2306 3072 2169 3072 \nQ 1681 3072 1420 2755 \nQ 1159 2438 1159 1844 \nL 1159 0 \nL 581 0 \nL 581 3500 \nL 1159 3500 \nL 1159 2956 \nQ 1341 3275 1631 3429 \nQ 1922 3584 2338 3584 \nQ 2397 3584 2469 3576 \nQ 2541 3569 2628 3553 \nL 2631 2963 \nz\n\" transform=\"scale(0.015625)\"/>\n      <path id=\"DejaVuSans-74\" d=\"M 1172 4494 \nL 1172 3500 \nL 2356 3500 \nL 2356 3053 \nL 1172 3053 \nL 1172 1153 \nQ 1172 725 1289 603 \nQ 1406 481 1766 481 \nL 2356 481 \nL 2356 0 \nL 1766 0 \nQ 1100 0 847 248 \nQ 594 497 594 1153 \nL 594 3053 \nL 172 3053 \nL 172 3500 \nL 594 3500 \nL 594 4494 \nL 1172 4494 \nz\n\" transform=\"scale(0.015625)\"/>\n     </defs>\n     <use xlink:href=\"#DejaVuSans-54\"/>\n     <use xlink:href=\"#DejaVuSans-2d\" x=\"51.958984\"/>\n     <use xlink:href=\"#DejaVuSans-53\" x=\"88.042969\"/>\n     <use xlink:href=\"#DejaVuSans-68\" x=\"151.519531\"/>\n     <use xlink:href=\"#DejaVuSans-69\" x=\"214.898438\"/>\n     <use xlink:href=\"#DejaVuSans-72\" x=\"242.681641\"/>\n     <use xlink:href=\"#DejaVuSans-74\" x=\"283.794922\"/>\n    </g>\n   </g>\n  </g>\n  <g id=\"axes_2\">\n   <g clip-path=\"url(#p2beae8d632)\">\n    <image xlink:href=\"data:image/png;base64,\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\" id=\"imageacbd3c6a0a\" transform=\"scale(1 -1) translate(0 -141)\" x=\"212.203636\" y=\"-23.727957\" width=\"141\" height=\"141\"/>\n   </g>\n   <g id=\"text_2\">\n    <!-- Trouser -->\n    <g transform=\"translate(256.253865 18.14175) scale(0.144 -0.144)\">\n     <defs>\n      <path id=\"DejaVuSans-6f\" d=\"M 1959 3097 \nQ 1497 3097 1228 2736 \nQ 959 2375 959 1747 \nQ 959 1119 1226 758 \nQ 1494 397 1959 397 \nQ 2419 397 2687 759 \nQ 2956 1122 2956 1747 \nQ 2956 2369 2687 2733 \nQ 2419 3097 1959 3097 \nz\nM 1959 3584 \nQ 2709 3584 3137 3096 \nQ 3566 2609 3566 1747 \nQ 3566 888 3137 398 \nQ 2709 -91 1959 -91 \nQ 1206 -91 779 398 \nQ 353 888 353 1747 \nQ 353 2609 779 3096 \nQ 1206 3584 1959 3584 \nz\n\" transform=\"scale(0.015625)\"/>\n      <path id=\"DejaVuSans-75\" d=\"M 544 1381 \nL 544 3500 \nL 1119 3500 \nL 1119 1403 \nQ 1119 906 1312 657 \nQ 1506 409 1894 409 \nQ 2359 409 2629 706 \nQ 2900 1003 2900 1516 \nL 2900 3500 \nL 3475 3500 \nL 3475 0 \nL 2900 0 \nL 2900 538 \nQ 2691 219 2414 64 \nQ 2138 -91 1772 -91 \nQ 1169 -91 856 284 \nQ 544 659 544 1381 \nz\nM 1991 3584 \nL 1991 3584 \nz\n\" transform=\"scale(0.015625)\"/>\n      <path id=\"DejaVuSans-73\" d=\"M 2834 3397 \nL 2834 2853 \nQ 2591 2978 2328 3040 \nQ 2066 3103 1784 3103 \nQ 1356 3103 1142 2972 \nQ 928 2841 928 2578 \nQ 928 2378 1081 2264 \nQ 1234 2150 1697 2047 \nL 1894 2003 \nQ 2506 1872 2764 1633 \nQ 3022 1394 3022 966 \nQ 3022 478 2636 193 \nQ 2250 -91 1575 -91 \nQ 1294 -91 989 -36 \nQ 684 19 347 128 \nL 347 722 \nQ 666 556 975 473 \nQ 1284 391 1588 391 \nQ 1994 391 2212 530 \nQ 2431 669 2431 922 \nQ 2431 1156 2273 1281 \nQ 2116 1406 1581 1522 \nL 1381 1569 \nQ 847 1681 609 1914 \nQ 372 2147 372 2553 \nQ 372 3047 722 3315 \nQ 1072 3584 1716 3584 \nQ 2034 3584 2315 3537 \nQ 2597 3491 2834 3397 \nz\n\" transform=\"scale(0.015625)\"/>\n      <path id=\"DejaVuSans-65\" d=\"M 3597 1894 \nL 3597 1613 \nL 953 1613 \nQ 991 1019 1311 708 \nQ 1631 397 2203 397 \nQ 2534 397 2845 478 \nQ 3156 559 3463 722 \nL 3463 178 \nQ 3153 47 2828 -22 \nQ 2503 -91 2169 -91 \nQ 1331 -91 842 396 \nQ 353 884 353 1716 \nQ 353 2575 817 3079 \nQ 1281 3584 2069 3584 \nQ 2775 3584 3186 3129 \nQ 3597 2675 3597 1894 \nz\nM 3022 2063 \nQ 3016 2534 2758 2815 \nQ 2500 3097 2075 3097 \nQ 1594 3097 1305 2825 \nQ 1016 2553 972 2059 \nL 3022 2063 \nz\n\" transform=\"scale(0.015625)\"/>\n     </defs>\n     <use xlink:href=\"#DejaVuSans-54\"/>\n     <use xlink:href=\"#DejaVuSans-72\" x=\"46.333984\"/>\n     <use xlink:href=\"#DejaVuSans-6f\" x=\"85.197266\"/>\n     <use xlink:href=\"#DejaVuSans-75\" x=\"146.378906\"/>\n     <use xlink:href=\"#DejaVuSans-73\" x=\"209.757812\"/>\n     <use xlink:href=\"#DejaVuSans-65\" x=\"261.857422\"/>\n     <use xlink:href=\"#DejaVuSans-72\" x=\"323.380859\"/>\n    </g>\n   </g>\n  </g>\n  <g id=\"axes_3\">\n   <g clip-path=\"url(#pd0c9ddaec5)\">\n    <image xlink:href=\"data:image/png;base64,\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\" id=\"image960a9b167d\" transform=\"scale(1 -1) translate(0 -141)\" x=\"7.2\" y=\"-192.431405\" width=\"141\" height=\"141\"/>\n   </g>\n   <g id=\"text_3\">\n    <!-- Pullover -->\n    <g transform=\"translate(48.657103 186.845198) scale(0.144 -0.144)\">\n     <defs>\n      <path id=\"DejaVuSans-50\" d=\"M 1259 4147 \nL 1259 2394 \nL 2053 2394 \nQ 2494 2394 2734 2622 \nQ 2975 2850 2975 3272 \nQ 2975 3691 2734 3919 \nQ 2494 4147 2053 4147 \nL 1259 4147 \nz\nM 628 4666 \nL 2053 4666 \nQ 2838 4666 3239 4311 \nQ 3641 3956 3641 3272 \nQ 3641 2581 3239 2228 \nQ 2838 1875 2053 1875 \nL 1259 1875 \nL 1259 0 \nL 628 0 \nL 628 4666 \nz\n\" transform=\"scale(0.015625)\"/>\n      <path id=\"DejaVuSans-6c\" d=\"M 603 4863 \nL 1178 4863 \nL 1178 0 \nL 603 0 \nL 603 4863 \nz\n\" transform=\"scale(0.015625)\"/>\n      <path id=\"DejaVuSans-76\" d=\"M 191 3500 \nL 800 3500 \nL 1894 563 \nL 2988 3500 \nL 3597 3500 \nL 2284 0 \nL 1503 0 \nL 191 3500 \nz\n\" transform=\"scale(0.015625)\"/>\n     </defs>\n     <use xlink:href=\"#DejaVuSans-50\"/>\n     <use xlink:href=\"#DejaVuSans-75\" x=\"58.552734\"/>\n     <use xlink:href=\"#DejaVuSans-6c\" x=\"121.931641\"/>\n     <use xlink:href=\"#DejaVuSans-6c\" x=\"149.714844\"/>\n     <use xlink:href=\"#DejaVuSans-6f\" x=\"177.498047\"/>\n     <use xlink:href=\"#DejaVuSans-76\" x=\"238.679688\"/>\n     <use xlink:href=\"#DejaVuSans-65\" x=\"297.859375\"/>\n     <use xlink:href=\"#DejaVuSans-72\" x=\"359.382812\"/>\n    </g>\n   </g>\n  </g>\n  <g id=\"axes_4\">\n   <g clip-path=\"url(#p6a8e896c2a)\">\n    <image xlink:href=\"data:image/png;base64,\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\" id=\"imagef70fb38127\" transform=\"scale(1 -1) translate(0 -141)\" x=\"212.203636\" y=\"-192.431405\" width=\"141\" height=\"141\"/>\n   </g>\n   <g id=\"text_4\">\n    <!-- Dress -->\n    <g transform=\"translate(262.223115 186.845198) scale(0.144 -0.144)\">\n     <defs>\n      <path id=\"DejaVuSans-44\" d=\"M 1259 4147 \nL 1259 519 \nL 2022 519 \nQ 2988 519 3436 956 \nQ 3884 1394 3884 2338 \nQ 3884 3275 3436 3711 \nQ 2988 4147 2022 4147 \nL 1259 4147 \nz\nM 628 4666 \nL 1925 4666 \nQ 3281 4666 3915 4102 \nQ 4550 3538 4550 2338 \nQ 4550 1131 3912 565 \nQ 3275 0 1925 0 \nL 628 0 \nL 628 4666 \nz\n\" transform=\"scale(0.015625)\"/>\n     </defs>\n     <use xlink:href=\"#DejaVuSans-44\"/>\n     <use xlink:href=\"#DejaVuSans-72\" x=\"77.001953\"/>\n     <use xlink:href=\"#DejaVuSans-65\" x=\"115.865234\"/>\n     <use xlink:href=\"#DejaVuSans-73\" x=\"177.388672\"/>\n     <use xlink:href=\"#DejaVuSans-73\" x=\"229.488281\"/>\n    </g>\n   </g>\n  </g>\n  <g id=\"axes_5\">\n   <g clip-path=\"url(#p7ca850c198)\">\n    <image xlink:href=\"data:image/png;base64,\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\" id=\"image3c2a27f46d\" transform=\"scale(1 -1) translate(0 -141)\" x=\"7.2\" y=\"-361.134853\" width=\"141\" height=\"141\"/>\n   </g>\n   <g id=\"text_5\">\n    <!-- Coat -->\n    <g transform=\"translate(60.825103 355.548647) scale(0.144 -0.144)\">\n     <defs>\n      <path id=\"DejaVuSans-43\" d=\"M 4122 4306 \nL 4122 3641 \nQ 3803 3938 3442 4084 \nQ 3081 4231 2675 4231 \nQ 1875 4231 1450 3742 \nQ 1025 3253 1025 2328 \nQ 1025 1406 1450 917 \nQ 1875 428 2675 428 \nQ 3081 428 3442 575 \nQ 3803 722 4122 1019 \nL 4122 359 \nQ 3791 134 3420 21 \nQ 3050 -91 2638 -91 \nQ 1578 -91 968 557 \nQ 359 1206 359 2328 \nQ 359 3453 968 4101 \nQ 1578 4750 2638 4750 \nQ 3056 4750 3426 4639 \nQ 3797 4528 4122 4306 \nz\n\" transform=\"scale(0.015625)\"/>\n      <path id=\"DejaVuSans-61\" d=\"M 2194 1759 \nQ 1497 1759 1228 1600 \nQ 959 1441 959 1056 \nQ 959 750 1161 570 \nQ 1363 391 1709 391 \nQ 2188 391 2477 730 \nQ 2766 1069 2766 1631 \nL 2766 1759 \nL 2194 1759 \nz\nM 3341 1997 \nL 3341 0 \nL 2766 0 \nL 2766 531 \nQ 2569 213 2275 61 \nQ 1981 -91 1556 -91 \nQ 1019 -91 701 211 \nQ 384 513 384 1019 \nQ 384 1609 779 1909 \nQ 1175 2209 1959 2209 \nL 2766 2209 \nL 2766 2266 \nQ 2766 2663 2505 2880 \nQ 2244 3097 1772 3097 \nQ 1472 3097 1187 3025 \nQ 903 2953 641 2809 \nL 641 3341 \nQ 956 3463 1253 3523 \nQ 1550 3584 1831 3584 \nQ 2591 3584 2966 3190 \nQ 3341 2797 3341 1997 \nz\n\" transform=\"scale(0.015625)\"/>\n     </defs>\n     <use xlink:href=\"#DejaVuSans-43\"/>\n     <use xlink:href=\"#DejaVuSans-6f\" x=\"69.824219\"/>\n     <use xlink:href=\"#DejaVuSans-61\" x=\"131.005859\"/>\n     <use xlink:href=\"#DejaVuSans-74\" x=\"192.285156\"/>\n    </g>\n   </g>\n  </g>\n  <g id=\"axes_6\">\n   <g clip-path=\"url(#pa9c5176bd4)\">\n    <image xlink:href=\"data:image/png;base64,\niVBORw0KGgoAAAANSUhEUgAAAI0AAACNCAYAAACKXvmlAAANSElEQVR4nO2dSY8cWRWFb2a8jBwi55qdtqvKU5tqgxvoRi0GITUSiAXsWPBLWPED2LDlJ4CQWIJ6B0ggJOgG7KYH21Vlu+2sclXWkHNGZuTAmj7Hpp7k5fmWt17Ee/nyVujEzfvuTe387JcL+wKTCpjM9VNgm+VxXIaMc30w2TxE27RAxjm0JZU5rqU4A1tqnAZb/jDAcXg7y7fws5mZZQZkb2K8QWcbF155MgVbfwPXk8Zh1t1G2wIvtUVA1jfE7yQ1R1vhEK+dlHAc7qoQ/wc5jfBGTiO8kdMIb9y4iuJnVkDbPHOxGzIhNmigLddCfx01UAG6Hqq9WUSU64KIvSnaFuTfJCmTPcjitWZmlX0cOw5xjZXH+FmmeZy89BwFfOstFNHlPZw3jZfaIo3rPn0L98utjsA2SEc4bohz6EkjvJHTCG/kNMIbOY3wxgVjFE5JDRXWwpHI4Ah9LuyQ+1VRiC1IpDeVx3mnGbw25UjU8xBDzCxiOsvhtSkiKCc1IraNR48LJwnYgjHeNHuG17beyoOtsoeTjMtEmJN/+c51tOWOcCPiNM6bJVHiAPWynjTCHzmN8EZOI7yR0whviBw1S8fEl5bHYJo5DBOPUnhtcQ+F2HCDpB6kiY2EcN0LnDeNWtSmId4vaqLYi5eIeCfpF2Zm4wqup3CE8wzXsmALOxglzp/iPNHhBNdYy4FtRr69whHaelvkRYS8YMSrJNWli5PoSSO8kdMIb+Q0whs5jfDGsTxfI6ZwFyOIadRrNq7jxb2bKABTBWI7IYnDRMwmNZJEG6KwK99HMZqU8dJpEefItkg42WgGhnWv4rqXPuqBbU5SKJIi2nqXcd2pGRGpA7KWayQdhETat7aPwXb0pwbYwg5JycBphXg1chrhjZxGeCOnEd44JmYzXRKFJT+Rs7zhsItCbFQiM3fx4vwWisfBMeatBn0Uj9kTEp1euVhEmKlbJgDNzKZ5HFvaxXA0E72LDO5rMMZ5CgeYmDu4gi8ic5r6gbagiwO7MYptxvCSDsuJ14CcRngjpxHeyGmENy4h0VCWW+sGKIjKjzHSOFwlIvXtLti6XRR2gzbawloMtlkfy0sERNBPSXYDi6yGuDzrX0GbmVkeA6nW30ARXtnDqHXmoAM2d4C5DPM3r+EcDSKiY5bKgN/TpAomK+cw1WVC0ksciTrrSSO8kdMIb+Q0whs5jfCGHpZjpdLYIbHuForeKQZwbfppDefYRoVFijxYMkKRmWsTXycB3Ow5iWYSIczInfCqEfkT3IjuFq6n+pDM0zrF9dSqYGtfZ9UbSIpIkeQ7r+L6gnUSzieMa+QlAbW7njTCHzmN8EZOI7yR0whvHBO9E1JSjR3CYlHYRUBSB945AVsth+LsRQ9zKHpNTOqdsCoUAfr/6j8xKnv8NTz8xernjutgMjOzFDm8F2JGhx19A8VsZmcHbI5EdUfLOAc7DNjbwS8gPMQXh+UaLnCjgGHwp9E62AJSi1lPGuGNnEZ4I6cR3shphDeORRDdCMXs8gfnYEuWMEWh+V1MUmWi9zzGNIjVEnbe6KZRHLNmHGEbbe1rKHqXPsZ0jnEZ/3cqpG6vmdloGfdm2CANPuqoXFMkL7q8ezHRG6+SxUzw2ugrWKPtTv0QbN+rfgK2R9dWwHY+XML1kaUI8UrkNMIbOY3wRk4jvHEpViGiTaLEK+Tn+gEqNpZTmiKT3F0+ANuYnP4K3kCR+fAjTOBNijgvi1gz0cu6182I2DbjZd9og48YP0t0FaOwK3cwWts8r4BtuocvBGubKHq7Q3wRKQaYDxyl0fbTrQ/A9qv//ABsetIIb+Q0whs5jfBGTiO8cdHn6Des+1rvCirDyi5GV+NlFIrv3/492H7Tw7zhAhFnvTlGjn/+6WWw5c5Ie2DShGJGiiXMQhyXITm5Zmb1j9HWuYGid1LHvfnO5X2wRUSkBiQh+xHJlW6dkmj5AMd9WL4KtvttLJW299klsKVI+To9aYQ3chrhjZxGeCOnEd64EWmiUHxOKkQ8RcGWlFB0saoFvzi9CbYzcqru32cocFfymC4RDNDXWVOM4nNWexdFJmt9zOoFm5kVjjHveLSM+5C6hekgxzGGra8XsSrGmxVMZXh0gLkRcxJ1Dvr4WY7+ggI3h2nbll1GG4uq60kjvJHTCG/kNMIbOY3wxqVJe+Eppv7a8VfxJ/elTzA1ovFnrIHb+wle+8cDFMcnLTwY9/whRjNnG7jotb+DyYpPME+jewPFaPkpitFFmivh81sYUq5/huL4eYMI/af4mR/cQIE72sXUCIfvIZbpkeYZ5DGQOyUtqfEjW5bUTh6t6rCceA3IaYQ3chrhjZxGeCOnEd648h4a01NU0cGEtOw7wVD5tIh5N7/9w7fBliyRloIkdp87IT8FkC4sMSmPko8wvJ9t45tXd5O0LnlJab4UWXZ3EzPT6/fxBtMCOZ05wTelcIjj8i2S0E6WPVwnPws1cVzuDPehf4nUUCRz6EkjvJHTCG/kNMIbOY3wxsV1FF21XVR7cYX0j76GIflMDwVW+TFO3HEoHtlJxd4WXptvoY0VYn78Iwz5R00SFich+pdRPLyYgIyOcA87WyjMAyJ6pxGpATjDcawd5LSCe3h6lwjrF7j/rOXkeAnvpyeN8EZOI7yR0whv5DTCG5dto+jqbKNIWr6HavHkLgrNxvvYaSTfRKHohlWwzR36cGaIQuz8FrkfEXHRM9ZfnERMD1Dctm+S+iPG+3Lnzsgab6JKZXlKrOZhhhQEH62Rgts1UpyPlHWZpfGzsET8WZF0cKnj964njfBGTiO8kdMIb+Q0whvXv4KCaOUeCsPONqY8RAconPq3sIRIiiSvV379D1xMY+Nl6/zfcSM8McgYrJMUCiIAO2/g/06BpBOYmSUkvSHXxn0oHqKNlBS0KYlkU8iwBUnfyBziy4kjUecM6UU+/hYeCkgmKKL1pBHeyGmEN3Ia4Y2cRnjjSMk3G5cu5ktJRHp6k/tF+200VvA05byONeSY2ivew8LVrfewIHXpGUZMkwgFfUC6zrAi02ZmvduY8rD1O9K+8cEx2DpvM6GPcydFvN8ii8I6bJIK2aw/OQbpLTUnkeN9UsG7gUcx9aQR3shphDdyGuGNnEZ446YFFESDSyjOWIs8Vq6icB+jiqke2iZ3tsAWPkPFNn3yOdhGP3wHbNVHOMe0gNFMFqkdNvDzhtuk2baZTR6jWF+kyQm6FN6z8tenYDu9cw1sKx+Secv4Wdo7OG+6hF9UP8QTb9kz8pk7OO+ctI3Uk0Z4I6cR3shphDdyGuGNYxHEBUmPDUibQUc6lcRrKJwWG5gcG/0Ny1Us6lWwTd/7OthYNHMRkENwpPoFazNYfEpycmMSnTYzljncb6A1ekAivVtrYAux3TntFNP/Jgp962Ee8nxCClJv4pc3WMKNCF/g/dyAvBThSoR4NXIa4Y2cRngjpxHeOHYwi+X0kipfliKVDPqXiFRkWQbvXgdT7hhPvGWfoVKc1bCwc+cW2qoPUAAmEapMJpjZZzMzm2VJaTmSDnL27jqOIyXoSk3c7IMfk/B7C6O667ewfEY2wPudD/HlJBmgEC5jt0TrbaJNTxrhjZxGeCOnEd7IaYQ3zpFAY0JSRecZFjomh7AGF2sBGPbIT/ibGDnOllGwDdcxclnZxQ8ybKAAjF6QChE3yIEw0obPzKz6kNQHzuE+xHXy/0hM7KUj/ylGdUe3MQ8l5zA14qiDkewUqSSRbeIe9q+S7xO7QepJI/yR0whv5DTCGzmN8MYtSCWD8TIp6dVD/2IpCsMVHFchJdAmpKd3UsBrR8sohFkt37MdjAgXjnFcUsQ5smck1eIl/07xEv4hiPH6OUnBSEpERJOawezwXnCEkezjIr6xOIefuXeKexOQeVmKSJpEsfWkEd7IaYQ3chrhjZxGeOPiFSJ0EhREURPHnX+JRBpP8dpzEnHN9Ek6Auply50TwfYA0yU631/BtXQvVpqs1MTodPcK6VZhZo5EvEdrpCkGBqNtUr3YCwbb/9k2po0MTzGCXt/AE28pR+oDE7HN1jwvKUdYvAbkNMIbOY3wRk4jvHFMuLJ84BHqTIuapNsZSRFmh78y5PAdS6tgkdnuTh1s1X1ME0givDgkne9mIYkS93j5tNwJiuZwgKK5u0nu2cbwe/cmrjt7Qg687WOO8JwI67MWlqVLt/FLoRFv8t5QeazOcuI1IKcR3shphDdyGuGNY6KXlVQLYnIw7iqKpOg5+uGkRsTUDMexrm1hF9fC6hezcdMsjqv+C6PJ8RXchOjRGdjMjNY1XjhsIhJlUHye3ybNOEir43wL5+hfJUsJcV/z+5iTMcvj/Rw5JMkafgzXSMQahwnxauQ0whs5jfBGTiO8caw1cXpysRqzIflZn5cnw3Fj1I4WknbPoxVcC4tmxnVSt5dEM5noTUooRidfXsJJzCx3ihHhXoPkO5OUgtoDXM+IdLob10ijEhJBTye8DfQXYd9JmvXiIPs6IRkietIIb+Q0whs5jfBGTiO8+S86QA7Hvr9RugAAAABJRU5ErkJggg==\" id=\"image23ee1dfd2f\" transform=\"scale(1 -1) translate(0 -141)\" x=\"212.203636\" y=\"-361.134853\" width=\"141\" height=\"141\"/>\n   </g>\n   <g id=\"text_6\">\n    <!-- Sandal -->\n    <g transform=\"translate(257.96724 355.548647) scale(0.144 -0.144)\">\n     <defs>\n      <path id=\"DejaVuSans-6e\" d=\"M 3513 2113 \nL 3513 0 \nL 2938 0 \nL 2938 2094 \nQ 2938 2591 2744 2837 \nQ 2550 3084 2163 3084 \nQ 1697 3084 1428 2787 \nQ 1159 2491 1159 1978 \nL 1159 0 \nL 581 0 \nL 581 3500 \nL 1159 3500 \nL 1159 2956 \nQ 1366 3272 1645 3428 \nQ 1925 3584 2291 3584 \nQ 2894 3584 3203 3211 \nQ 3513 2838 3513 2113 \nz\n\" transform=\"scale(0.015625)\"/>\n      <path id=\"DejaVuSans-64\" d=\"M 2906 2969 \nL 2906 4863 \nL 3481 4863 \nL 3481 0 \nL 2906 0 \nL 2906 525 \nQ 2725 213 2448 61 \nQ 2172 -91 1784 -91 \nQ 1150 -91 751 415 \nQ 353 922 353 1747 \nQ 353 2572 751 3078 \nQ 1150 3584 1784 3584 \nQ 2172 3584 2448 3432 \nQ 2725 3281 2906 2969 \nz\nM 947 1747 \nQ 947 1113 1208 752 \nQ 1469 391 1925 391 \nQ 2381 391 2643 752 \nQ 2906 1113 2906 1747 \nQ 2906 2381 2643 2742 \nQ 2381 3103 1925 3103 \nQ 1469 3103 1208 2742 \nQ 947 2381 947 1747 \nz\n\" transform=\"scale(0.015625)\"/>\n     </defs>\n     <use xlink:href=\"#DejaVuSans-53\"/>\n     <use xlink:href=\"#DejaVuSans-61\" x=\"63.476562\"/>\n     <use xlink:href=\"#DejaVuSans-6e\" x=\"124.755859\"/>\n     <use xlink:href=\"#DejaVuSans-64\" x=\"188.134766\"/>\n     <use xlink:href=\"#DejaVuSans-61\" x=\"251.611328\"/>\n     <use xlink:href=\"#DejaVuSans-6c\" x=\"312.890625\"/>\n    </g>\n   </g>\n  </g>\n  <g id=\"axes_7\">\n   <g clip-path=\"url(#pbf6b5a1518)\">\n    <image xlink:href=\"data:image/png;base64,\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\" id=\"image83f1d199a7\" transform=\"scale(1 -1) translate(0 -141)\" x=\"7.2\" y=\"-529.838302\" width=\"141\" height=\"141\"/>\n   </g>\n   <g id=\"text_7\">\n    <!-- Shirt -->\n    <g transform=\"translate(60.576478 524.252095) scale(0.144 -0.144)\">\n     <use xlink:href=\"#DejaVuSans-53\"/>\n     <use xlink:href=\"#DejaVuSans-68\" x=\"63.476562\"/>\n     <use xlink:href=\"#DejaVuSans-69\" x=\"126.855469\"/>\n     <use xlink:href=\"#DejaVuSans-72\" x=\"154.638672\"/>\n     <use xlink:href=\"#DejaVuSans-74\" x=\"195.751953\"/>\n    </g>\n   </g>\n  </g>\n  <g id=\"axes_8\">\n   <g clip-path=\"url(#pf8e72aca7b)\">\n    <image xlink:href=\"data:image/png;base64,\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\" id=\"image834d57deeb\" transform=\"scale(1 -1) translate(0 -141)\" x=\"212.203636\" y=\"-529.838302\" width=\"141\" height=\"141\"/>\n   </g>\n   <g id=\"text_8\">\n    <!-- Sneaker -->\n    <g transform=\"translate(253.22199 524.252095) scale(0.144 -0.144)\">\n     <defs>\n      <path id=\"DejaVuSans-6b\" d=\"M 581 4863 \nL 1159 4863 \nL 1159 1991 \nL 2875 3500 \nL 3609 3500 \nL 1753 1863 \nL 3688 0 \nL 2938 0 \nL 1159 1709 \nL 1159 0 \nL 581 0 \nL 581 4863 \nz\n\" transform=\"scale(0.015625)\"/>\n     </defs>\n     <use xlink:href=\"#DejaVuSans-53\"/>\n     <use xlink:href=\"#DejaVuSans-6e\" x=\"63.476562\"/>\n     <use xlink:href=\"#DejaVuSans-65\" x=\"126.855469\"/>\n     <use xlink:href=\"#DejaVuSans-61\" x=\"188.378906\"/>\n     <use xlink:href=\"#DejaVuSans-6b\" x=\"249.658203\"/>\n     <use xlink:href=\"#DejaVuSans-65\" x=\"303.943359\"/>\n     <use xlink:href=\"#DejaVuSans-72\" x=\"365.466797\"/>\n    </g>\n   </g>\n  </g>\n  <g id=\"axes_9\">\n   <g clip-path=\"url(#p383fa45418)\">\n    <image xlink:href=\"data:image/png;base64,\niVBORw0KGgoAAAANSUhEUgAAAI0AAACNCAYAAACKXvmlAAAOR0lEQVR4nO2d229cVxWH95k5c787vsXX2HHiOG2clNKmF2jVFiW0UsUbQkJCgjckeED8BUhIiBcQL0WgIh4AoVao8NJSqGiVpiWkTUh6iWPHceL4Nr6Mx57x3M+cGd75FrRbyuP6Hn86Z/Y+28tHv1mz9trO7Pd+1jX/zbkiJPP3HkjlqQ608H4AWjvBIQLjVWh9mQo0N8AxvjP2HrT3y8egbdXT0D66OQ4tPXgArbqUgWaMMX7a5xwTHq/zuA7BfATawJktaPm5fo5Rc6AlVzm/Rg+vC3DKphOk1srx7xRs8Do+maJ8Bho0ijUaNIo1GjSKNW7tMM2Pv5iF1jlBNxXoaUFrxEK8rsbY9LdinEyuDG3nIAHtl3ef5rgtjpuKNqEFUzStVeF53XGacmOMcQWtu5jkOMd4fyvFOa7nc/zAFNc6eo/3Jjbb0AItOtzqEM2xH+XfPbzH6zocVt80ij0aNIo1GjSKNRo0ijVud4qZ2U6BJtVp0STFE0wX1h0arNwox6i+1wfNO84YrleZRa2Vo5xfgONWBZP5xNM3oF2JjEFr1gUHaIwJR2k+nz13Ddqbl05De+zhWxz7wglo7nFmqCvjNLjlWWbLg0Uh1evwukiRa10b5bNFt2n99U2jWKNBo1ijQaNYo0GjWOMGFpjNzPDXelMbptFstWiS/DbjsFKnma2P03QF3xqEFurhuF16cpM9XYC2L5QiLLz0ADTvlPB5M7sUjTG98Rq0Ny/T9Lr9dWiXPmH5hpOiSc3GmMmuJ/nlJJHjGFWhJKN3ZB9aYYOlH4k7NP+1EeGXACiK8hlo0CjWaNAo1mjQKNZIv/Sb8jGas0CT7rPbZvYxlaY5Ozc2D+2vgZPQ6iXW9MY3OK5H726K+xRTq7y3NMV7XXpb0+nI/093PhyFlpnZg5aIsGykmWQGvXiLtdenezegvTPXC60apDmWSj8anvBn7nBtqpO816nzb6xvGsUaDRrFGg0axRoNGsUatxNhxjVUlja80Rz75TC0ZA/rfN+4K5jetRQ0Z5hG8SDKrG43wrk4u5xL6VF+XjRBg+rd5lxGs/vQjDFm/gjH2d/i/ftBruvgEA2zM8Ds7/WdYQ4slH6YNs2ss8qyEa9Jw5wVsv6ls1wvN8X10jeNYo0GjWKNBo1ijQaNYo3r9TELaFqMJUfIIDpNXrcpdDzo5DjG8PQ27y0yI2wE/+dmaB7bwiYxyRy3XH6gS69nWr5Qa2uMiUb5LIFb3ND3tRcvQXv16hehPT6zBO3axgjnKNRZS+n8+GE+TFUoTWk9yJKH0E2uf2tIeF5hXEX5v2jQKNZo0CjWaNAo1rixZZrF9gPseBAK0TjlEiyD2P0n63wbGZrozV3WqPoHwga1jGDUhTrkrk8tfoSbzmrrLKFojtI8+l35/6lWZcY1dZqZ3gt51mC4cdZFS0TDfOaKMG5bWK9WOw7N8bj+raiQVc8Km+8iWiOs3Ac0aBRrNGgUazRoFGtc/0Ga3o5Q+9uZo4HcPsnrgkIYBqM0U10h0yv+/C/1443RKHYazI+mYvypvxpjmUAyS0O/ND8kTNCYQEOoWZ6gkXaE7hnPH2fHigtrNMzDmRK0+TV+cRg+ugNtfZm1xOPHN6HdW+AXlkCP0G5uieulbxrFGg0axRoNGsUaDRrFGjcYZBZQKjPoCpUCUscJRzi8Qapb9XPMjob2aGbbh2nOnNssRQgd5Y63eEjIJgvG+lR/Hlo+yVIEY4xZXhyAVi3SLMYGWSv9+rsPQ+sIPYMP1lii8MQXFqDdLXOjnSNknZdX2KouWhA2wa0zm+xlhMNQoCjKZ6BBo1ijQaNYo0GjWON6d7jRywh1tF1BCwqnnUlhGNvhdc0Joc63SnMWW6CJPnr+DrSlNyeh3RlnbWwwTXMs1eR25oXWFMYYM0CjGc6zRGFv7xA0+YQ3rquTZYb50mX2G5b+JidPrUC7Mc9OF9KJcdJpc1INub5pFGs0aBRrNGgUazRoFGucsZd/Cjfl1BlLbkXoJDEs/JS+SfMpnOcgnmw2fJKtDNYWufkuVOJcWoM0bOENGtSg0AauPiJkp6WDKYwxUpcN6VhpCS8lZFeFjXqRonASHJdV/DyvT6hDFipOQgVm370eOnUpw6xvGsUaDRrFGg0axRoNGsUa1wkLm6ESNJWey011QSEj2RYyiNKGq65Ps9cf5+a2tTRPh4uOsKa3tcHMtjdGo96q0QAOXuD/TvmIkO02xnSEE/bqQzSLiWWOEyoJ9cVC6UH0Odb+HlxmeUPogJ/nCifiNY4x/dseFtLTDZr/UESNsHIf0KBRrNGgUazRoFGscV84yQ1cP+z/B7QXPvgutLYnHecr7YIjXaHzQ6nFWtvZ8XVoH398BNpDp1kuEQ7S7P374jS03VnOz+UeQmOMMb6QETZhoQODcFmjn9fFRmj+90qsgQ4Lid4gfb4R7K0xZZrjiROsi763xXKOTJJfOvRNo1ijQaNYo0GjWKNBo1ijQaNY407FWcPym73HoY0fKkLzhErkyRTPs064tPm3D5gW32/w29OZ3Bq0G4cOQ0uGOMZ8kbsh20l+g4ns8DkSeflboHScodS3sDIpfd0RCvavs4VISBi6wyFM7yccI/84n0Wqhbpzj3VKj0zfhbZe4fz0TaNYo0GjWKNBo1ijQaNY4/52kab3V7O/h7bVZPuLJzOL0N4onIIWC7J6WjKukhGuChXV2TTbily8xh2IgYbQr09oxBwSfjLwknI9jXSGt5TOl8Y2h3hhqMIUf3mGNUnZ67yufoimt50QXHSO6z/Uvw/NFXYAPNFPc6xvGsUaDRrFGg0axRoNGsUadyLHTO9jURqsqym2sLhZZ4Pm2TTrX1YbLA5/sfcjaK+0H4F2ZZttMtJRFkp//SnWAL30wTPQTIkF367QXi+xJWwLNcZUhrk2yXVWsXRCQgPvYWZw2+ykYnqucI6+cF2oKsxR8O/SsYzBARrm0ThPk3l/iy1c9E2jWKNBo1ijQaNYo0GjWOPO5Vk+8K9RGjtP6D791iqLtEtlNjDuNHlvdYaZ3ltbLJeQ+PnMK9AmhVTtOxOc380lmvfEtnCaTEM2wkN/Wobmj7LMYO84d3z6wq5SPy2cEy70MuwKh3AXZvk/HxX6G3ZnWbwu7WbtEb4RZKNaWK7cBzRoFGs0aBRrNGgUa5xn3/4BnNg3hy/jwhu1YWiRADOcr84/BM3bZzozmObP9a5LA35ykEfp9UVZyzAU4RF+CxWa/I9en4Em9f+b/AVPPTHGmP2vHIcW3+Kz7E/R6DezNKlSQ+rMXa7rwZDghIXsb+lRZsu7dd6b6Kfp/fSxP0CbvvgtaPqmUazRoFGs0aBRrNGgUaxx716jwf1J4avQzh+9Ce3P86ehdYTj/pwYjZ1/IDSGLrBGeDvNzOq1xXFoP3ryL/w8oeb1ci+zxNl5Osq9czS8xhiTuscMaaOPprfex8+UaolDBzTh8VXpKES2Hyk8QIPr7LEMIlThXMamWQbxrnAyi3Q0pb5pFGs0aBRrNGgUazRoFGvcTj+zmWHhrG6J7jYzvYemWHO8W6CZTdyhEW7maAo3P2XZQXiUZRC/W+emv7rHMToZmvJWmuYxtS50fTDGOG2uTXmMhjTMygOTyDP9G6pQK01zvbI3mPHuOtzAuP4cx/WEdV3ZY912Z4zvkOdPzEHTN41ijQaNYo0GjWKNBo1ijetuCNnMAWYQ31h4EFqgIWRS53ugRaSjDIXuBrFtfl6Y/s9UasyO3l2hFpvizdEVmt42bzXdwP/oGrFThhbweIa3lxJqdYNCjXCMa+OHeN3Gs8JpNAWuYUSoEc6c3YZWbXIdXt56CtpCkV9E9E2jWKNBo1ijQaNYo0GjWON6GWYke/uYzizeosGNTdNotq9lP9fAQhMK0xWOLsnd5u/1TpeZ6Jpg3oNvcy71MY6RWua90S2WQBhjTP0YN/Q1enl/XOhDnFxmyUNtmJsLpXPMe26ypdr+lHD04Aivay7xdJVvfOkStKvFMWi7S/y765tGsUaDRrFGg0axRoNGscZ1hL66hZUsL2zzunSMJjXfL5zBHRGO6/Np4uJbNI9+iHEd3+EY7RjLE/ZPsbwhusnrAm2O63TkAzXcCo2mH+GzHBzhva0MSx6kDW+5W5y31DO4K9zr7vL52r2c89/W2Hc5FWGZTFDI+uubRrFGg0axRoNGsUaDRrHGdWuMGy9HIzZzlgcrLL7DHrNhwZy1ExTbSaE04iYNc0cwwgHv8539nVyiKRSqGEx8h+P6CZpbY4zZfIQb+qQM7sCHXMPyOOeTvU3zGVtl+UXrDDOzBxPCKXlj7KjRn2RN9dFMAVq+xlPk2ml+6dA3jWKNBo1ijQaNYo0GjWKNG2gKdbkFGra5K0eg+YeZaYxs0kCOn9mAtnKV3Sp8wUVHtzlGqEhjF59ndnrp2yPQuq7QpeE1tosL9sk9jQcNP9P4wma08zTMsR3eWh7nepUmWcoQ4DKYTpwmVWpBN5HmBsbLK0egdTtSLGjXCOU+oEGjWKNBo1ijQaNY40z88cdwceE51q16wsEPEpEizVTPM3loa/Ps8ZtZEDaO0U+a5BozoeEDGsD4e+wFXPsy26e1hQ1r8XWhl5gxpjHAzYUdl8/s1jjHQIta1xU2EgrzWTvP9R8c34VWrrF+2vf5eU2ht3OgJpRfCF8c9E2jWKNBo1ijQaNYo0GjWOP2ZvlTejFB99nuYUoyvMVspiMcELG63AtNOkiiNEMxKJRu9F3nXFoZZrGrT7MOtiN0ZFh/nuN+/+xFTtAY8+vXzkPr/Vgq6eA4tX52amjmhLIR4TjlYIVjbObZSSKSZLPi4wNMRc/fnoAWEOrF/ZgaYeU+oEGjWKNBo1ijQaNY8x8gx0ga0YfOwAAAAABJRU5ErkJggg==\" id=\"imagefe140aa971\" transform=\"scale(1 -1) translate(0 -141)\" x=\"7.2\" y=\"-698.54175\" width=\"141\" height=\"141\"/>\n   </g>\n   <g id=\"text_9\">\n    <!-- Bag -->\n    <g transform=\"translate(63.570103 692.955543) scale(0.144 -0.144)\">\n     <defs>\n      <path id=\"DejaVuSans-42\" d=\"M 1259 2228 \nL 1259 519 \nL 2272 519 \nQ 2781 519 3026 730 \nQ 3272 941 3272 1375 \nQ 3272 1813 3026 2020 \nQ 2781 2228 2272 2228 \nL 1259 2228 \nz\nM 1259 4147 \nL 1259 2741 \nL 2194 2741 \nQ 2656 2741 2882 2914 \nQ 3109 3088 3109 3444 \nQ 3109 3797 2882 3972 \nQ 2656 4147 2194 4147 \nL 1259 4147 \nz\nM 628 4666 \nL 2241 4666 \nQ 2963 4666 3353 4366 \nQ 3744 4066 3744 3513 \nQ 3744 3084 3544 2831 \nQ 3344 2578 2956 2516 \nQ 3422 2416 3680 2098 \nQ 3938 1781 3938 1306 \nQ 3938 681 3513 340 \nQ 3088 0 2303 0 \nL 628 0 \nL 628 4666 \nz\n\" transform=\"scale(0.015625)\"/>\n      <path id=\"DejaVuSans-67\" d=\"M 2906 1791 \nQ 2906 2416 2648 2759 \nQ 2391 3103 1925 3103 \nQ 1463 3103 1205 2759 \nQ 947 2416 947 1791 \nQ 947 1169 1205 825 \nQ 1463 481 1925 481 \nQ 2391 481 2648 825 \nQ 2906 1169 2906 1791 \nz\nM 3481 434 \nQ 3481 -459 3084 -895 \nQ 2688 -1331 1869 -1331 \nQ 1566 -1331 1297 -1286 \nQ 1028 -1241 775 -1147 \nL 775 -588 \nQ 1028 -725 1275 -790 \nQ 1522 -856 1778 -856 \nQ 2344 -856 2625 -561 \nQ 2906 -266 2906 331 \nL 2906 616 \nQ 2728 306 2450 153 \nQ 2172 0 1784 0 \nQ 1141 0 747 490 \nQ 353 981 353 1791 \nQ 353 2603 747 3093 \nQ 1141 3584 1784 3584 \nQ 2172 3584 2450 3431 \nQ 2728 3278 2906 2969 \nL 2906 3500 \nL 3481 3500 \nL 3481 434 \nz\n\" transform=\"scale(0.015625)\"/>\n     </defs>\n     <use xlink:href=\"#DejaVuSans-42\"/>\n     <use xlink:href=\"#DejaVuSans-61\" x=\"68.603516\"/>\n     <use xlink:href=\"#DejaVuSans-67\" x=\"129.882812\"/>\n    </g>\n   </g>\n  </g>\n  <g id=\"axes_10\">\n   <g clip-path=\"url(#p9925e7a181)\">\n    <image xlink:href=\"data:image/png;base64,\niVBORw0KGgoAAAANSUhEUgAAAI0AAACNCAYAAACKXvmlAAANyklEQVR4nO2dyY8dVxXGb72qelP3G3p4Pbnb3el2O47tDBALUECwYZDYgJBYsGDBjv+DHYPEArFkG0R2JNkgEUSUKApg4jghjof0ENvd7m53v3kein1+XxRfKcvzW36q++rWfeeVvjrv1LnB9q9+l7jP0F8Yf1ZyuQcRtGERQ904Q82lqKUGAbR0LQVtUJo80VgnpLBPMRjxuElazE+Mdc65cEBtWOD4wQznnTkNoY2yHBtwqBvO8DvJHvE7mUT8vKjNa+ls8UKCHufnikNI/JYM4wuwoDG8saAxvLGgMbyJBnN0XVFDGCLtC0HY5YFxi7EZdTm2dZ5zUaZwnKfZU+eN2hzbXqOhjBucnzL5zjkXPlYGnlphj585yvLz6ld4gdlDrn+SojYscOykQoM7EAZXmd5Ul3Mex+I4KIbxBVjQGN5Y0BjeWNAY3kSpHk3cJKYJ7K6KVKpCjB1VeFh4FlOcEVnK4zS06DwdbvhegZ8nzHskTLnKMA9LNMzOOddd5LGpkVjDtHog4OdlH9FoqrWOqzxOrUM65thGf5pjxToMi7zmVJ6fZ3cawxsLGsMbCxrDGwsaw5tIZRBzU31ovX1hNBd4XFKncY2rwnwOaRTHoww0ZcrHezR2w4rIjk7T2AVpHjcURjZos+zAOecmopQhfSh+eyKh3JunFrDyQJpeVeYx6HOOYcjrK1bowBtRnifu87yTNh9Y7E5jeGNBY3hjQWN4Y0FjeBNlcnRiSULTlczRMJeLHWi1Go3wYEFkOE9p4gKRhJ0IvxZWWFcxaYoMsyDp83dSuM2xzcuiGNg5l9vl9eVORI1wiWs4+z9eYO2CKHlY5HcyFCUilRka3Md7s9DCGT6wrJ87hZYJ+T19ckT3bncawxsLGsMbCxrDGwsaw5to8HAKYnatCe2Fp+5D++jRErREvBgXiprj7IkqJ+AEc0c8rl4UNcwic6yysmGNBrw/xwOn74jJOOfEM4I08JkqP7NT4bwzNVGG0hE1vaJ8I7XCsVuXDqDtn8xAe1Rjhn+mwAebcZfrZXcawxsLGsMbCxrDGwsaw5vIiUxj9yFLD1bX70C7FdAIBxNRG9tkbCrzmK6L+uI8Py+7zxKK3jqznmGWJxmrphbnmP0df8A1cM653gIXLC/M+nCKWqbOsadXeVw4y2sJAk68kOFxizk+xEwt8/qiFNemFPegHd21jLDxJWBBY3hjQWN4Y0FjeBNNpmiIXry8C22nRUOUy9Bg9dKiNYJjhjPu0Ni1z4mSDJFh7i/zL/zFxTq0UobGbjDhXEppHnezp0stUmmuV/WZHLR0jWPHGdGVIc/Pu3ruEbQPd89BO+vwvMt5rsPTxSNobx1tQvv++kfQ3oguQ7M7jeGNBY3hjQWN4Y0FjeFNFIwYN7s11plef/Ev0L558yfQqvGTtUBLN2lwT1docKc+oSGdTNOAdwY87vikCO1bF+/xuC7LBFLiOpxzLtyh+Uy2WFLQmWVpRTDgWicZGuHDJucdPeLnnY143Ft7LINYv0RjPZfjnP969Dy00i0rjTC+BCxoDG8saAxvLGgMbyInShSKWf7lfmfIVl0/P/8utF8f/wDawnW+/NVZoMFafoPZ2o5oveZusK65M8+36qJVmr23721BCyNh3kUpgnPODVZEm4cuTfjS6hm0o+MSxw5F2Yg4d7jFF+NGR7zmoMyHhIMznndQZeb+68/yIaG9KjYbgWIYX4AFjeGNBY3hjQWN4U0Uik0UhmMa0q2ImdA/dpef6CSjPM8xd4N/4U+yYqe0kGZvJHofd1ZF+7SheKmuQdM6tca5fB79NOfYPeXa1FrCmB+wttlt0Kyf7DOrW1hh7e9E7MQ3LHBtFssc251iOcj9Zhla7ukaNLvTGN5Y0BjeWNAY3ljQGN5EI7GJQiZiicKfW0zNHnSZaVTZzNaK2Ayiw6xu2KeZzZ1yfv0RPy99Rq2vOklkeI56naY1m9ft0y5WTqB90FuBNhEvDQ7nuK7hRPxus5xju8kMbvaZBs/Rptk+POX3lMkysx2mdDnIZ7E7jeGNBY3hjQWN4Y0FjeFNsPH738ItZk4ZS71tZhBVL7HMLo3Y1AMa0qhHLe4KrUUj3JthVrazyDm3v8FsayDMXiRKI1LiJT3nnKsUWKKQEuZ/94AvFyZjsXFHi9eyevEY2sPjMrSJaG2Wm2WP5d4BHzqStNgYZIbfcTZDw2x3GsMbCxrDGwsawxsLGsObKBFZ00Rsqpa/xYzkKM+xpXs0lYVPWXPsElF7+vb71K48DW0S8uW29rKotd1nycJohXNZmWU9bz7WGeGJMP8PamVoP332v9BKIU3qqw+vQmv2+DDxi+ffgfanf34HWu8RTW8wy2tZnGM2eb1YhXb9ba6/3WkMbyxoDG8saAxvLGgMbyxoDG+iJMc0ffaYtSm150QbkF0+ZtUv8Omi8IAnTu88hjYST1RBn85/6gZ3hOksPAWt8RxT4EGdheXbl1gjc7euXu3UT0+bc9za72zAp5g3z/h253Sa11dtsr7n5bsvQtu+/BDanT3REFztES5as7x/wL5+KfFCqd1pDG8saAxvLGgMbyxoDG8iJ/rA9dlyz+X3aXpjdh9xnVUa60GBpqt3jaYrvb0ITXTicOkq/x6Yf+02tCTFFPjjl2jo//4xj5ubY92Mc86dVWlwc6L9yFGPf3W0xN8D/SHXdW2uBm2zwAeH9Sz//rj7YAFanOE1q/POv0wDnoj6I7vTGN5Y0BjeWNAY3ljQGN5EwZAZzt4SzWzxDrPEXZE0LezwuONrPK58mwYr7DGG4xZNXGuDWwVmCxvQSrusnaleYRPnyTzn8sutN6E559wrh8zMjhPO++N3mKFeu8YM7s5dZnBfurYHbTPHrPWrh89Cu7a1D+3eGYvcv7fGB4dXfvRVaLNv0rzbncbwxoLG8MaCxvDGgsbwJnJFGs3cbZqf7oLYM3taFaXTWBfZ09j15sTWfGnxxmaWx3UWqIV9ZjgzVVFQ/S/O5fCH1F4/ocl0zrndkzloUSQ6eItyhN3b7FF44dIBtLk0s9H1MbPg36zsQBsmfBBZyrKIfKRanDSZuR+U+Z3YncbwxoLG8MaCxvDGgsbwJooOmCFVb04qrXiPMZca8LhBiWZqxH/hXXGPhnI4zXNkak/W16+9SPOYEp516kMa/7slXSOciF56C0Ua1/vnua6JaCty3GR2+x+ji9B6I45NRL3yzzb+A20lzzcnlyI23H6twrc9h485P7vTGN5Y0BjeWNAY3ljQGN5EEyYBXZITL62JvsQDlsG6LN8bc/ljUWfKRLTrlxnDA7GryCgnMsfCHA+nxYt79+mEW2s00fHnbEf4tXWWHrSGNNKfiuFRgbXEvQ/K/LwpDs5tcCeVfIYZ7xvNVWilMnsPbsaicbXIqqemrUbY+BKwoDG8saAxvLGgMbwJ1v/wG7iuuMFYEslHp0x0usEDu+foess3xdaDTKJKEx13qLWWaGanjnjcQGSYe/PKbHMuzjnXv8K+eZVZmkr1Ylz8N+6Gkm7S9J6Immq1/tPrzOpemmfj6mqf6fcfL9+AdjwsQnv59W9DszuN4Y0FjeGNBY3hjQWN4U3khMEqfkKtwc5fzomdSoYiS6xMryqNUHNpbDCuy6LmeJwR2//lxYuAwvQO6E9db0GkrJ1z371wB1p1QNf8/s1tDhYZ6pGYY1LmS35BlU8d7R1O/MbHZWjxNo36TpmlH++ebECbiN1a7E5jeGNBY3hjQWN4Y0FjeBOFHcbN6fNiq7pl9kobn9IAxlVmZpXRVKUM3QpNYe5Y1QOL7hLtJyvnaK2J7QjbwoGL/srOOXf9iKUH1QfiAissg+gnNLOlq6wlaT3m00QidlJJxlyH9KdMq3fFXt03a2xfp3Z/CddYVmF3GsMbCxrDGwsawxsLGsObaJwRBlJ4wEB4xahO0xsORNbzBdGT9wZfwgrFroUKVZIx/ZAZ3Oo2D8yzSYNrbXJseCpO4pxrnM5AC7Jcw/lFli2c9Dn2dFd83khkicXPW734l/0KewuP2txKMhaDGwcinS++d7vTGN5Y0BjeWNAY3ljQGN5EYaVH8TbrFnpZZn+nanRJ7XWayniHm1BELLWVdbmqhjYrssm1CzSuI57W5U5Ey7clZruHH7Fe1jnngos09YMjrlf9PfbujcV+54HYuW1QoUnNVzjHToMGt3mvDG3pCuuGb91iZltlwaNjZpjtTmN4Y0FjeGNBY3hjQWN4E43P+Hd4ILpGRC3RnkyYXrVBx7BEgxU3RTswnsLVtxnXgSjfVWNjNlpwDe5z4eJ/s7RhtCDqKpxziTC9YVd0u1iiw41PaNYD0Y4tM8unhO4Dka2d5kKMZ6h1xHbK2QrPkU1zzjWxtZ/daQxvLGgMbyxoDG8saAxvokTVwjYZS6MKa1SjI7FLmygTSEQrMlV+0auo3eZoFANheqPuk/UqjpvqODFn8ZKYc86lH4tyEFHSMSpyDSex6M+8wsFJnZnecF6cRKzrfJkZ66GoJY7fobHuv8SX6lLiAcjuNIY3FjSGNxY0hjcWNIY3kcpSjldZLhGK8ArWxYtU+3SfE/o6195k9jEYibZtfRrXcUF0q5ihic4ePplpFV3D3NSecNvOuc4KzzMUJjWo8yFhLHryBqIvWlhjtnws6oZVjfbJI7HYos432eKTyIzoSxxtstbZ7jSGNxY0hjcWNIY3FjSGN/8HBqE2JoNKlmMAAAAASUVORK5CYII=\" id=\"imaged685ce4c69\" transform=\"scale(1 -1) translate(0 -141)\" x=\"212.203636\" y=\"-698.54175\" width=\"141\" height=\"141\"/>\n   </g>\n   <g id=\"text_10\">\n    <!-- Ankle Boot -->\n    <g transform=\"translate(243.54699 692.955543) scale(0.144 -0.144)\">\n     <defs>\n      <path id=\"DejaVuSans-41\" d=\"M 2188 4044 \nL 1331 1722 \nL 3047 1722 \nL 2188 4044 \nz\nM 1831 4666 \nL 2547 4666 \nL 4325 0 \nL 3669 0 \nL 3244 1197 \nL 1141 1197 \nL 716 0 \nL 50 0 \nL 1831 4666 \nz\n\" transform=\"scale(0.015625)\"/>\n      <path id=\"DejaVuSans-20\" transform=\"scale(0.015625)\"/>\n     </defs>\n     <use xlink:href=\"#DejaVuSans-41\"/>\n     <use xlink:href=\"#DejaVuSans-6e\" x=\"68.408203\"/>\n     <use xlink:href=\"#DejaVuSans-6b\" x=\"131.787109\"/>\n     <use xlink:href=\"#DejaVuSans-6c\" x=\"189.697266\"/>\n     <use xlink:href=\"#DejaVuSans-65\" x=\"217.480469\"/>\n     <use xlink:href=\"#DejaVuSans-20\" x=\"279.003906\"/>\n     <use xlink:href=\"#DejaVuSans-42\" x=\"310.791016\"/>\n     <use xlink:href=\"#DejaVuSans-6f\" x=\"379.394531\"/>\n     <use xlink:href=\"#DejaVuSans-6f\" x=\"440.576172\"/>\n     <use xlink:href=\"#DejaVuSans-74\" x=\"501.757812\"/>\n    </g>\n   </g>\n  </g>\n </g>\n <defs>\n  <clipPath id=\"paf08484beb\">\n   <rect x=\"7.2\" y=\"24.14175\" width=\"140.586207\" height=\"140.586207\"/>\n  </clipPath>\n  <clipPath id=\"p2beae8d632\">\n   <rect x=\"212.203636\" y=\"24.14175\" width=\"140.586207\" height=\"140.586207\"/>\n  </clipPath>\n  <clipPath id=\"pd0c9ddaec5\">\n   <rect x=\"7.2\" y=\"192.845198\" width=\"140.586207\" height=\"140.586207\"/>\n  </clipPath>\n  <clipPath id=\"p6a8e896c2a\">\n   <rect x=\"212.203636\" y=\"192.845198\" width=\"140.586207\" height=\"140.586207\"/>\n  </clipPath>\n  <clipPath id=\"p7ca850c198\">\n   <rect x=\"7.2\" y=\"361.548647\" width=\"140.586207\" height=\"140.586207\"/>\n  </clipPath>\n  <clipPath id=\"pa9c5176bd4\">\n   <rect x=\"212.203636\" y=\"361.548647\" width=\"140.586207\" height=\"140.586207\"/>\n  </clipPath>\n  <clipPath id=\"pbf6b5a1518\">\n   <rect x=\"7.2\" y=\"530.252095\" width=\"140.586207\" height=\"140.586207\"/>\n  </clipPath>\n  <clipPath id=\"pf8e72aca7b\">\n   <rect x=\"212.203636\" y=\"530.252095\" width=\"140.586207\" height=\"140.586207\"/>\n  </clipPath>\n  <clipPath id=\"p383fa45418\">\n   <rect x=\"7.2\" y=\"698.955543\" width=\"140.586207\" height=\"140.586207\"/>\n  </clipPath>\n  <clipPath id=\"p9925e7a181\">\n   <rect x=\"212.203636\" y=\"698.955543\" width=\"140.586207\" height=\"140.586207\"/>\n  </clipPath>\n </defs>\n</svg>\n",
      "text/plain": [
       "<Figure size 432x1080 with 10 Axes>"
      ]
     },
     "metadata": {
      "needs_background": "light"
     },
     "output_type": "display_data"
    }
   ],
   "source": [
    "# Let's look at weights\n",
    "myW = params[0].T.view(10,28,28)\n",
    "\n",
    "figure = plt.figure(figsize=(6, 15))\n",
    "cols, rows = 2, 5\n",
    "for i in range(1, cols * rows + 1):\n",
    "    #sample_idx = torch.randint(len(data.train), size=(1,)).item()\n",
    "    img = myW[i-1].detach().numpy()\n",
    "    figure.add_subplot(rows, cols, i)\n",
    "    plt.title(labels_map[i-1])\n",
    "    plt.imshow(img.squeeze())\n",
    "    plt.axis(\"off\")\n",
    "\n"
   ]
  },
  {
   "cell_type": "code",
   "execution_count": null,
   "metadata": {},
   "outputs": [],
   "source": []
  },
  {
   "cell_type": "code",
   "execution_count": null,
   "metadata": {},
   "outputs": [],
   "source": [
    "# Concise implimentation"
   ]
  },
  {
   "cell_type": "code",
   "execution_count": 7,
   "metadata": {},
   "outputs": [],
   "source": [
    "'''\n",
    "def cross_entropy(y_hat, y):\n",
    "    return - torch.log(y_hat[torch.arange(len(y_hat)), y]).mean()\n",
    "\n",
    "\n",
    "def softmax(X):\n",
    "    X_exp = torch.exp(X)\n",
    "    partition = X_exp.sum(1, keepdim=True)\n",
    "    return X_exp/partition\n",
    "'''\n",
    "\n",
    "\n",
    "# Create model\n",
    "class Classifier2(nn.Module):\n",
    "    def __init__(self, fan_out):\n",
    "        super().__init__()\n",
    "        self.model = nn.Sequential(nn.Flatten(), nn.LazyLinear(fan_out))\n",
    "\n",
    "    #def parameters(self):\n",
    "    #    return [self.W, self.b]\n",
    "\n",
    "    def forward(self, x):\n",
    "        out = self.model(x)\n",
    "        return out\n",
    "\n",
    "    def loss(self, y_hat, y):\n",
    "        return nn.functional.cross_entropy(y_hat, y)\n",
    "\n",
    "    def accuracy(self, Y_hat, y):\n",
    "        Y_hat = Y_hat.reshape((-1, Y_hat.shape[-1]))\n",
    "        preds = Y_hat.argmax(axis=1).long()\n",
    "        compare = (preds == y).float()\n",
    "        return compare.mean()"
   ]
  },
  {
   "cell_type": "code",
   "execution_count": 5,
   "metadata": {},
   "outputs": [
    {
     "name": "stdout",
     "output_type": "stream",
     "text": [
      "Epoch (0): train loss = 0.88, val loss = 0.80, acc = 0.73\n",
      "Epoch (5): train loss = 0.55, val loss = 0.59, acc = 0.81\n",
      "Epoch (10): train loss = 0.48, val loss = 0.55, acc = 0.81\n"
     ]
    },
    {
     "ename": "KeyboardInterrupt",
     "evalue": "",
     "output_type": "error",
     "traceback": [
      "\u001b[0;31m---------------------------------------------------------------------------\u001b[0m",
      "\u001b[0;31mKeyboardInterrupt\u001b[0m                         Traceback (most recent call last)",
      "Cell \u001b[0;32mIn[5], line 14\u001b[0m\n\u001b[1;32m     12\u001b[0m \u001b[39mfor\u001b[39;00m epoch \u001b[39min\u001b[39;00m \u001b[39mrange\u001b[39m(max_epochs):\n\u001b[1;32m     13\u001b[0m     losses \u001b[39m=\u001b[39m []\n\u001b[0;32m---> 14\u001b[0m     \u001b[39mfor\u001b[39;00m step, batch \u001b[39min\u001b[39;00m \u001b[39menumerate\u001b[39m(data\u001b[39m.\u001b[39mtrain_dl):\n\u001b[1;32m     15\u001b[0m \n\u001b[1;32m     16\u001b[0m \n\u001b[1;32m     17\u001b[0m         \u001b[39m# Get minibatch\u001b[39;00m\n\u001b[1;32m     18\u001b[0m         x, y \u001b[39m=\u001b[39m batch\n\u001b[1;32m     20\u001b[0m         \u001b[39m# Forward pass\u001b[39;00m\n",
      "File \u001b[0;32m~/Library/Python/3.9/lib/python/site-packages/torch/utils/data/dataloader.py:628\u001b[0m, in \u001b[0;36m_BaseDataLoaderIter.__next__\u001b[0;34m(self)\u001b[0m\n\u001b[1;32m    625\u001b[0m \u001b[39mif\u001b[39;00m \u001b[39mself\u001b[39m\u001b[39m.\u001b[39m_sampler_iter \u001b[39mis\u001b[39;00m \u001b[39mNone\u001b[39;00m:\n\u001b[1;32m    626\u001b[0m     \u001b[39m# TODO(https://github.com/pytorch/pytorch/issues/76750)\u001b[39;00m\n\u001b[1;32m    627\u001b[0m     \u001b[39mself\u001b[39m\u001b[39m.\u001b[39m_reset()  \u001b[39m# type: ignore[call-arg]\u001b[39;00m\n\u001b[0;32m--> 628\u001b[0m data \u001b[39m=\u001b[39m \u001b[39mself\u001b[39;49m\u001b[39m.\u001b[39;49m_next_data()\n\u001b[1;32m    629\u001b[0m \u001b[39mself\u001b[39m\u001b[39m.\u001b[39m_num_yielded \u001b[39m+\u001b[39m\u001b[39m=\u001b[39m \u001b[39m1\u001b[39m\n\u001b[1;32m    630\u001b[0m \u001b[39mif\u001b[39;00m \u001b[39mself\u001b[39m\u001b[39m.\u001b[39m_dataset_kind \u001b[39m==\u001b[39m _DatasetKind\u001b[39m.\u001b[39mIterable \u001b[39mand\u001b[39;00m \\\n\u001b[1;32m    631\u001b[0m         \u001b[39mself\u001b[39m\u001b[39m.\u001b[39m_IterableDataset_len_called \u001b[39mis\u001b[39;00m \u001b[39mnot\u001b[39;00m \u001b[39mNone\u001b[39;00m \u001b[39mand\u001b[39;00m \\\n\u001b[1;32m    632\u001b[0m         \u001b[39mself\u001b[39m\u001b[39m.\u001b[39m_num_yielded \u001b[39m>\u001b[39m \u001b[39mself\u001b[39m\u001b[39m.\u001b[39m_IterableDataset_len_called:\n",
      "File \u001b[0;32m~/Library/Python/3.9/lib/python/site-packages/torch/utils/data/dataloader.py:671\u001b[0m, in \u001b[0;36m_SingleProcessDataLoaderIter._next_data\u001b[0;34m(self)\u001b[0m\n\u001b[1;32m    669\u001b[0m \u001b[39mdef\u001b[39;00m \u001b[39m_next_data\u001b[39m(\u001b[39mself\u001b[39m):\n\u001b[1;32m    670\u001b[0m     index \u001b[39m=\u001b[39m \u001b[39mself\u001b[39m\u001b[39m.\u001b[39m_next_index()  \u001b[39m# may raise StopIteration\u001b[39;00m\n\u001b[0;32m--> 671\u001b[0m     data \u001b[39m=\u001b[39m \u001b[39mself\u001b[39;49m\u001b[39m.\u001b[39;49m_dataset_fetcher\u001b[39m.\u001b[39;49mfetch(index)  \u001b[39m# may raise StopIteration\u001b[39;00m\n\u001b[1;32m    672\u001b[0m     \u001b[39mif\u001b[39;00m \u001b[39mself\u001b[39m\u001b[39m.\u001b[39m_pin_memory:\n\u001b[1;32m    673\u001b[0m         data \u001b[39m=\u001b[39m _utils\u001b[39m.\u001b[39mpin_memory\u001b[39m.\u001b[39mpin_memory(data, \u001b[39mself\u001b[39m\u001b[39m.\u001b[39m_pin_memory_device)\n",
      "File \u001b[0;32m~/Library/Python/3.9/lib/python/site-packages/torch/utils/data/_utils/fetch.py:58\u001b[0m, in \u001b[0;36m_MapDatasetFetcher.fetch\u001b[0;34m(self, possibly_batched_index)\u001b[0m\n\u001b[1;32m     56\u001b[0m         data \u001b[39m=\u001b[39m \u001b[39mself\u001b[39m\u001b[39m.\u001b[39mdataset\u001b[39m.\u001b[39m__getitems__(possibly_batched_index)\n\u001b[1;32m     57\u001b[0m     \u001b[39melse\u001b[39;00m:\n\u001b[0;32m---> 58\u001b[0m         data \u001b[39m=\u001b[39m [\u001b[39mself\u001b[39m\u001b[39m.\u001b[39mdataset[idx] \u001b[39mfor\u001b[39;00m idx \u001b[39min\u001b[39;00m possibly_batched_index]\n\u001b[1;32m     59\u001b[0m \u001b[39melse\u001b[39;00m:\n\u001b[1;32m     60\u001b[0m     data \u001b[39m=\u001b[39m \u001b[39mself\u001b[39m\u001b[39m.\u001b[39mdataset[possibly_batched_index]\n",
      "File \u001b[0;32m~/Library/Python/3.9/lib/python/site-packages/torch/utils/data/_utils/fetch.py:58\u001b[0m, in \u001b[0;36m<listcomp>\u001b[0;34m(.0)\u001b[0m\n\u001b[1;32m     56\u001b[0m         data \u001b[39m=\u001b[39m \u001b[39mself\u001b[39m\u001b[39m.\u001b[39mdataset\u001b[39m.\u001b[39m__getitems__(possibly_batched_index)\n\u001b[1;32m     57\u001b[0m     \u001b[39melse\u001b[39;00m:\n\u001b[0;32m---> 58\u001b[0m         data \u001b[39m=\u001b[39m [\u001b[39mself\u001b[39;49m\u001b[39m.\u001b[39;49mdataset[idx] \u001b[39mfor\u001b[39;00m idx \u001b[39min\u001b[39;00m possibly_batched_index]\n\u001b[1;32m     59\u001b[0m \u001b[39melse\u001b[39;00m:\n\u001b[1;32m     60\u001b[0m     data \u001b[39m=\u001b[39m \u001b[39mself\u001b[39m\u001b[39m.\u001b[39mdataset[possibly_batched_index]\n",
      "File \u001b[0;32m~/Library/Python/3.9/lib/python/site-packages/torchvision/datasets/mnist.py:145\u001b[0m, in \u001b[0;36mMNIST.__getitem__\u001b[0;34m(self, index)\u001b[0m\n\u001b[1;32m    142\u001b[0m img \u001b[39m=\u001b[39m Image\u001b[39m.\u001b[39mfromarray(img\u001b[39m.\u001b[39mnumpy(), mode\u001b[39m=\u001b[39m\u001b[39m\"\u001b[39m\u001b[39mL\u001b[39m\u001b[39m\"\u001b[39m)\n\u001b[1;32m    144\u001b[0m \u001b[39mif\u001b[39;00m \u001b[39mself\u001b[39m\u001b[39m.\u001b[39mtransform \u001b[39mis\u001b[39;00m \u001b[39mnot\u001b[39;00m \u001b[39mNone\u001b[39;00m:\n\u001b[0;32m--> 145\u001b[0m     img \u001b[39m=\u001b[39m \u001b[39mself\u001b[39;49m\u001b[39m.\u001b[39;49mtransform(img)\n\u001b[1;32m    147\u001b[0m \u001b[39mif\u001b[39;00m \u001b[39mself\u001b[39m\u001b[39m.\u001b[39mtarget_transform \u001b[39mis\u001b[39;00m \u001b[39mnot\u001b[39;00m \u001b[39mNone\u001b[39;00m:\n\u001b[1;32m    148\u001b[0m     target \u001b[39m=\u001b[39m \u001b[39mself\u001b[39m\u001b[39m.\u001b[39mtarget_transform(target)\n",
      "File \u001b[0;32m~/Library/Python/3.9/lib/python/site-packages/torchvision/transforms/transforms.py:135\u001b[0m, in \u001b[0;36mToTensor.__call__\u001b[0;34m(self, pic)\u001b[0m\n\u001b[1;32m    127\u001b[0m \u001b[39mdef\u001b[39;00m \u001b[39m__call__\u001b[39m(\u001b[39mself\u001b[39m, pic):\n\u001b[1;32m    128\u001b[0m     \u001b[39m\"\"\"\u001b[39;00m\n\u001b[1;32m    129\u001b[0m \u001b[39m    Args:\u001b[39;00m\n\u001b[1;32m    130\u001b[0m \u001b[39m        pic (PIL Image or numpy.ndarray): Image to be converted to tensor.\u001b[39;00m\n\u001b[0;32m   (...)\u001b[0m\n\u001b[1;32m    133\u001b[0m \u001b[39m        Tensor: Converted image.\u001b[39;00m\n\u001b[1;32m    134\u001b[0m \u001b[39m    \"\"\"\u001b[39;00m\n\u001b[0;32m--> 135\u001b[0m     \u001b[39mreturn\u001b[39;00m F\u001b[39m.\u001b[39;49mto_tensor(pic)\n",
      "File \u001b[0;32m~/Library/Python/3.9/lib/python/site-packages/torchvision/transforms/functional.py:163\u001b[0m, in \u001b[0;36mto_tensor\u001b[0;34m(pic)\u001b[0m\n\u001b[1;32m    161\u001b[0m \u001b[39m# handle PIL Image\u001b[39;00m\n\u001b[1;32m    162\u001b[0m mode_to_nptype \u001b[39m=\u001b[39m {\u001b[39m\"\u001b[39m\u001b[39mI\u001b[39m\u001b[39m\"\u001b[39m: np\u001b[39m.\u001b[39mint32, \u001b[39m\"\u001b[39m\u001b[39mI;16\u001b[39m\u001b[39m\"\u001b[39m: np\u001b[39m.\u001b[39mint16, \u001b[39m\"\u001b[39m\u001b[39mF\u001b[39m\u001b[39m\"\u001b[39m: np\u001b[39m.\u001b[39mfloat32}\n\u001b[0;32m--> 163\u001b[0m img \u001b[39m=\u001b[39m torch\u001b[39m.\u001b[39mfrom_numpy(np\u001b[39m.\u001b[39;49marray(pic, mode_to_nptype\u001b[39m.\u001b[39;49mget(pic\u001b[39m.\u001b[39;49mmode, np\u001b[39m.\u001b[39;49muint8), copy\u001b[39m=\u001b[39;49m\u001b[39mTrue\u001b[39;49;00m))\n\u001b[1;32m    165\u001b[0m \u001b[39mif\u001b[39;00m pic\u001b[39m.\u001b[39mmode \u001b[39m==\u001b[39m \u001b[39m\"\u001b[39m\u001b[39m1\u001b[39m\u001b[39m\"\u001b[39m:\n\u001b[1;32m    166\u001b[0m     img \u001b[39m=\u001b[39m \u001b[39m255\u001b[39m \u001b[39m*\u001b[39m img\n",
      "File \u001b[0;32m~/Library/Python/3.9/lib/python/site-packages/PIL/Image.py:678\u001b[0m, in \u001b[0;36mImage.__array_interface__\u001b[0;34m(self)\u001b[0m\n\u001b[1;32m    674\u001b[0m \u001b[39m@property\u001b[39m\n\u001b[1;32m    675\u001b[0m \u001b[39mdef\u001b[39;00m \u001b[39m__array_interface__\u001b[39m(\u001b[39mself\u001b[39m):\n\u001b[1;32m    676\u001b[0m     \u001b[39m# numpy array interface support\u001b[39;00m\n\u001b[1;32m    677\u001b[0m     new \u001b[39m=\u001b[39m {}\n\u001b[0;32m--> 678\u001b[0m     shape, typestr \u001b[39m=\u001b[39m _conv_type_shape(\u001b[39mself\u001b[39;49m)\n\u001b[1;32m    679\u001b[0m     new[\u001b[39m\"\u001b[39m\u001b[39mshape\u001b[39m\u001b[39m\"\u001b[39m] \u001b[39m=\u001b[39m shape\n\u001b[1;32m    680\u001b[0m     new[\u001b[39m\"\u001b[39m\u001b[39mtypestr\u001b[39m\u001b[39m\"\u001b[39m] \u001b[39m=\u001b[39m typestr\n",
      "File \u001b[0;32m~/Library/Python/3.9/lib/python/site-packages/PIL/Image.py:239\u001b[0m, in \u001b[0;36m_conv_type_shape\u001b[0;34m(im)\u001b[0m\n\u001b[1;32m    238\u001b[0m \u001b[39mdef\u001b[39;00m \u001b[39m_conv_type_shape\u001b[39m(im):\n\u001b[0;32m--> 239\u001b[0m     m \u001b[39m=\u001b[39m ImageMode\u001b[39m.\u001b[39mgetmode(im\u001b[39m.\u001b[39mmode)\n\u001b[1;32m    240\u001b[0m     shape \u001b[39m=\u001b[39m (im\u001b[39m.\u001b[39mheight, im\u001b[39m.\u001b[39mwidth)\n\u001b[1;32m    241\u001b[0m     extra \u001b[39m=\u001b[39m \u001b[39mlen\u001b[39m(m\u001b[39m.\u001b[39mbands)\n",
      "\u001b[0;31mKeyboardInterrupt\u001b[0m: "
     ]
    }
   ],
   "source": [
    "max_epochs = 50\n",
    "smooth = 5  # must divide max_epochs\n",
    "model = Classifier2(fan_out=10)\n",
    "params = model.parameters()\n",
    "\n",
    "epochs = []\n",
    "train_losses = []\n",
    "val_losses = []\n",
    "accs = []\n",
    "loss_fn = nn.CrossEntropyLoss()\n",
    "optimizer = torch.optim.SGD(model.parameters(), lr=0.1)\n",
    "for epoch in range(max_epochs):\n",
    "    losses = []\n",
    "    for step, batch in enumerate(data.train_dl):\n",
    "\n",
    "\n",
    "        # Get minibatch\n",
    "        x, y = batch\n",
    "        \n",
    "        # Forward pass\n",
    "        logits = model.forward(x)\n",
    " \n",
    "        # Get loss\n",
    "        train_loss = model.loss(logits, y)   # Good\n",
    "        #train_loss = loss_fn(logits, y)\n",
    "\n",
    "        # Update params\n",
    "        if epoch < 25:\n",
    "            lr = 0.1\n",
    "        elif epoch < 50:\n",
    "            lr = 0.01\n",
    "        else:\n",
    "            lr = 0.001\n",
    "\n",
    "        optimizer.zero_grad()\n",
    "        train_loss.backward()\n",
    "        optimizer.step()\n",
    "    \n",
    "    \n",
    "    # Print losses\n",
    "    # Do not let computations effect gradient\n",
    "    with torch.no_grad():\n",
    "        epochs.append(epoch)\n",
    "        # Training losses\n",
    "        train_losses.append(train_loss.item())\n",
    "        # Val losses\n",
    "        for batch in data.val_dl:\n",
    "            x, y = batch\n",
    "            logits = model.forward(x)\n",
    "            val_loss = model.loss(logits, y)\n",
    "            acc = model.accuracy(logits, y)\n",
    "            break\n",
    "        val_losses.append(val_loss.item())\n",
    "        accs.append(acc.item())\n",
    "        # Print\n",
    "        if epoch % smooth == 0:\n",
    "            print(f'Epoch ({epoch}): train loss = {train_loss.item():.2f}, val loss = {val_loss.item():.2f}, acc = {acc.item():.2f}')\n",
    "            \n",
    "    \n",
    "# Smooth for plotting\n",
    "tl = torch.tensor(train_losses).view(-1, smooth).mean(axis=1)\n",
    "vl = torch.tensor(val_losses).view(-1, smooth).mean(axis=1)\n",
    "ac = torch.tensor(accs).view(-1, smooth).mean(axis=1)\n",
    "ep = torch.tensor(epochs).float().view(-1, smooth).mean(axis=1)\n",
    "\n",
    "# Make plots\n",
    "plt.plot(epochs, train_losses, 'C0', alpha=0.15)\n",
    "plt.plot(epochs, val_losses, 'C1', alpha=0.15)\n",
    "plt.plot(epochs, accs, 'C2', alpha=0.15)\n",
    "plt.plot(ep, tl, 'C0', label='Train loss')\n",
    "plt.plot(ep, vl, 'C1--', label='Val loss')\n",
    "plt.plot(ep, ac, 'C2:', label='Accuracy')\n",
    "\n",
    "plt.legend();\n",
    "\n",
    "\n"
   ]
  },
  {
   "cell_type": "code",
   "execution_count": 8,
   "metadata": {},
   "outputs": [
    {
     "name": "stderr",
     "output_type": "stream",
     "text": [
      "/Users/jsmidt/Library/Python/3.9/lib/python/site-packages/torch/nn/modules/lazy.py:180: UserWarning: Lazy modules are a new feature under heavy development so changes to the API or functionality can happen at any moment.\n",
      "  warnings.warn('Lazy modules are a new feature under heavy development '\n"
     ]
    },
    {
     "name": "stdout",
     "output_type": "stream",
     "text": [
      "Epoch (0): train loss = 0.82, val loss = 0.84, acc = 0.73\n",
      "Epoch (5): train loss = 0.51, val loss = 0.61, acc = 0.81\n",
      "Epoch (10): train loss = 0.59, val loss = 0.51, acc = 0.83\n",
      "Epoch (15): train loss = 0.49, val loss = 0.50, acc = 0.84\n",
      "Epoch (20): train loss = 0.53, val loss = 0.53, acc = 0.82\n",
      "Epoch (25): train loss = 0.49, val loss = 0.53, acc = 0.82\n",
      "Epoch (30): train loss = 0.40, val loss = 0.49, acc = 0.83\n",
      "Epoch (35): train loss = 0.51, val loss = 0.50, acc = 0.82\n",
      "Epoch (40): train loss = 0.43, val loss = 0.46, acc = 0.83\n",
      "Epoch (45): train loss = 0.47, val loss = 0.49, acc = 0.81\n"
     ]
    },
    {
     "data": {
      "image/svg+xml": "<?xml version=\"1.0\" encoding=\"utf-8\" standalone=\"no\"?>\n<!DOCTYPE svg PUBLIC \"-//W3C//DTD SVG 1.1//EN\"\n  \"http://www.w3.org/Graphics/SVG/1.1/DTD/svg11.dtd\">\n<svg xmlns:xlink=\"http://www.w3.org/1999/xlink\" width=\"441.060375pt\" height=\"311.385375pt\" viewBox=\"0 0 441.060375 311.385375\" xmlns=\"http://www.w3.org/2000/svg\" version=\"1.1\">\n <metadata>\n  <rdf:RDF xmlns:dc=\"http://purl.org/dc/elements/1.1/\" xmlns:cc=\"http://creativecommons.org/ns#\" xmlns:rdf=\"http://www.w3.org/1999/02/22-rdf-syntax-ns#\">\n   <cc:Work>\n    <dc:type rdf:resource=\"http://purl.org/dc/dcmitype/StillImage\"/>\n    <dc:date>2023-01-20T05:08:31.355225</dc:date>\n    <dc:format>image/svg+xml</dc:format>\n    <dc:creator>\n     <cc:Agent>\n      <dc:title>Matplotlib v3.6.3, https://matplotlib.org/</dc:title>\n     </cc:Agent>\n    </dc:creator>\n   </cc:Work>\n  </rdf:RDF>\n </metadata>\n <defs>\n  <style type=\"text/css\">*{stroke-linejoin: round; stroke-linecap: butt}</style>\n </defs>\n <g id=\"figure_1\">\n  <g id=\"patch_1\">\n   <path d=\"M 0 311.385375 \nL 441.060375 311.385375 \nL 441.060375 0 \nL 0 0 \nz\n\" style=\"fill: #f0f0f0\"/>\n  </g>\n  <g id=\"axes_1\">\n   <g id=\"patch_2\">\n    <path d=\"M 32.964375 287.136 \nL 433.860375 287.136 \nL 433.860375 7.2 \nL 32.964375 7.2 \nz\n\" style=\"fill: #f0f0f0\"/>\n   </g>\n   <g id=\"matplotlib.axis_1\">\n    <g id=\"xtick_1\">\n     <g id=\"line2d_1\">\n      <path d=\"M 51.18692 287.136 \nL 51.18692 7.2 \n\" clip-path=\"url(#p8ba66692b9)\" style=\"fill: none; stroke: #cbcbcb\"/>\n     </g>\n     <g id=\"line2d_2\"/>\n     <g id=\"text_1\">\n      <!-- 0 -->\n      <g transform=\"translate(46.73317 301.273813) scale(0.14 -0.14)\">\n       <defs>\n        <path id=\"DejaVuSans-30\" d=\"M 2034 4250 \nQ 1547 4250 1301 3770 \nQ 1056 3291 1056 2328 \nQ 1056 1369 1301 889 \nQ 1547 409 2034 409 \nQ 2525 409 2770 889 \nQ 3016 1369 3016 2328 \nQ 3016 3291 2770 3770 \nQ 2525 4250 2034 4250 \nz\nM 2034 4750 \nQ 2819 4750 3233 4129 \nQ 3647 3509 3647 2328 \nQ 3647 1150 3233 529 \nQ 2819 -91 2034 -91 \nQ 1250 -91 836 529 \nQ 422 1150 422 2328 \nQ 422 3509 836 4129 \nQ 1250 4750 2034 4750 \nz\n\" transform=\"scale(0.015625)\"/>\n       </defs>\n       <use xlink:href=\"#DejaVuSans-30\"/>\n      </g>\n     </g>\n    </g>\n    <g id=\"xtick_2\">\n     <g id=\"line2d_3\">\n      <path d=\"M 125.564657 287.136 \nL 125.564657 7.2 \n\" clip-path=\"url(#p8ba66692b9)\" style=\"fill: none; stroke: #cbcbcb\"/>\n     </g>\n     <g id=\"line2d_4\"/>\n     <g id=\"text_2\">\n      <!-- 10 -->\n      <g transform=\"translate(116.657157 301.273813) scale(0.14 -0.14)\">\n       <defs>\n        <path id=\"DejaVuSans-31\" d=\"M 794 531 \nL 1825 531 \nL 1825 4091 \nL 703 3866 \nL 703 4441 \nL 1819 4666 \nL 2450 4666 \nL 2450 531 \nL 3481 531 \nL 3481 0 \nL 794 0 \nL 794 531 \nz\n\" transform=\"scale(0.015625)\"/>\n       </defs>\n       <use xlink:href=\"#DejaVuSans-31\"/>\n       <use xlink:href=\"#DejaVuSans-30\" x=\"63.623047\"/>\n      </g>\n     </g>\n    </g>\n    <g id=\"xtick_3\">\n     <g id=\"line2d_5\">\n      <path d=\"M 199.942394 287.136 \nL 199.942394 7.2 \n\" clip-path=\"url(#p8ba66692b9)\" style=\"fill: none; stroke: #cbcbcb\"/>\n     </g>\n     <g id=\"line2d_6\"/>\n     <g id=\"text_3\">\n      <!-- 20 -->\n      <g transform=\"translate(191.034894 301.273813) scale(0.14 -0.14)\">\n       <defs>\n        <path id=\"DejaVuSans-32\" d=\"M 1228 531 \nL 3431 531 \nL 3431 0 \nL 469 0 \nL 469 531 \nQ 828 903 1448 1529 \nQ 2069 2156 2228 2338 \nQ 2531 2678 2651 2914 \nQ 2772 3150 2772 3378 \nQ 2772 3750 2511 3984 \nQ 2250 4219 1831 4219 \nQ 1534 4219 1204 4116 \nQ 875 4013 500 3803 \nL 500 4441 \nQ 881 4594 1212 4672 \nQ 1544 4750 1819 4750 \nQ 2544 4750 2975 4387 \nQ 3406 4025 3406 3419 \nQ 3406 3131 3298 2873 \nQ 3191 2616 2906 2266 \nQ 2828 2175 2409 1742 \nQ 1991 1309 1228 531 \nz\n\" transform=\"scale(0.015625)\"/>\n       </defs>\n       <use xlink:href=\"#DejaVuSans-32\"/>\n       <use xlink:href=\"#DejaVuSans-30\" x=\"63.623047\"/>\n      </g>\n     </g>\n    </g>\n    <g id=\"xtick_4\">\n     <g id=\"line2d_7\">\n      <path d=\"M 274.32013 287.136 \nL 274.32013 7.2 \n\" clip-path=\"url(#p8ba66692b9)\" style=\"fill: none; stroke: #cbcbcb\"/>\n     </g>\n     <g id=\"line2d_8\"/>\n     <g id=\"text_4\">\n      <!-- 30 -->\n      <g transform=\"translate(265.41263 301.273813) scale(0.14 -0.14)\">\n       <defs>\n        <path id=\"DejaVuSans-33\" d=\"M 2597 2516 \nQ 3050 2419 3304 2112 \nQ 3559 1806 3559 1356 \nQ 3559 666 3084 287 \nQ 2609 -91 1734 -91 \nQ 1441 -91 1130 -33 \nQ 819 25 488 141 \nL 488 750 \nQ 750 597 1062 519 \nQ 1375 441 1716 441 \nQ 2309 441 2620 675 \nQ 2931 909 2931 1356 \nQ 2931 1769 2642 2001 \nQ 2353 2234 1838 2234 \nL 1294 2234 \nL 1294 2753 \nL 1863 2753 \nQ 2328 2753 2575 2939 \nQ 2822 3125 2822 3475 \nQ 2822 3834 2567 4026 \nQ 2313 4219 1838 4219 \nQ 1578 4219 1281 4162 \nQ 984 4106 628 3988 \nL 628 4550 \nQ 988 4650 1302 4700 \nQ 1616 4750 1894 4750 \nQ 2613 4750 3031 4423 \nQ 3450 4097 3450 3541 \nQ 3450 3153 3228 2886 \nQ 3006 2619 2597 2516 \nz\n\" transform=\"scale(0.015625)\"/>\n       </defs>\n       <use xlink:href=\"#DejaVuSans-33\"/>\n       <use xlink:href=\"#DejaVuSans-30\" x=\"63.623047\"/>\n      </g>\n     </g>\n    </g>\n    <g id=\"xtick_5\">\n     <g id=\"line2d_9\">\n      <path d=\"M 348.697867 287.136 \nL 348.697867 7.2 \n\" clip-path=\"url(#p8ba66692b9)\" style=\"fill: none; stroke: #cbcbcb\"/>\n     </g>\n     <g id=\"line2d_10\"/>\n     <g id=\"text_5\">\n      <!-- 40 -->\n      <g transform=\"translate(339.790367 301.273813) scale(0.14 -0.14)\">\n       <defs>\n        <path id=\"DejaVuSans-34\" d=\"M 2419 4116 \nL 825 1625 \nL 2419 1625 \nL 2419 4116 \nz\nM 2253 4666 \nL 3047 4666 \nL 3047 1625 \nL 3713 1625 \nL 3713 1100 \nL 3047 1100 \nL 3047 0 \nL 2419 0 \nL 2419 1100 \nL 313 1100 \nL 313 1709 \nL 2253 4666 \nz\n\" transform=\"scale(0.015625)\"/>\n       </defs>\n       <use xlink:href=\"#DejaVuSans-34\"/>\n       <use xlink:href=\"#DejaVuSans-30\" x=\"63.623047\"/>\n      </g>\n     </g>\n    </g>\n    <g id=\"xtick_6\">\n     <g id=\"line2d_11\">\n      <path d=\"M 423.075603 287.136 \nL 423.075603 7.2 \n\" clip-path=\"url(#p8ba66692b9)\" style=\"fill: none; stroke: #cbcbcb\"/>\n     </g>\n     <g id=\"line2d_12\"/>\n     <g id=\"text_6\">\n      <!-- 50 -->\n      <g transform=\"translate(414.168103 301.273813) scale(0.14 -0.14)\">\n       <defs>\n        <path id=\"DejaVuSans-35\" d=\"M 691 4666 \nL 3169 4666 \nL 3169 4134 \nL 1269 4134 \nL 1269 2991 \nQ 1406 3038 1543 3061 \nQ 1681 3084 1819 3084 \nQ 2600 3084 3056 2656 \nQ 3513 2228 3513 1497 \nQ 3513 744 3044 326 \nQ 2575 -91 1722 -91 \nQ 1428 -91 1123 -41 \nQ 819 9 494 109 \nL 494 744 \nQ 775 591 1075 516 \nQ 1375 441 1709 441 \nQ 2250 441 2565 725 \nQ 2881 1009 2881 1497 \nQ 2881 1984 2565 2268 \nQ 2250 2553 1709 2553 \nQ 1456 2553 1204 2497 \nQ 953 2441 691 2322 \nL 691 4666 \nz\n\" transform=\"scale(0.015625)\"/>\n       </defs>\n       <use xlink:href=\"#DejaVuSans-35\"/>\n       <use xlink:href=\"#DejaVuSans-30\" x=\"63.623047\"/>\n      </g>\n     </g>\n    </g>\n   </g>\n   <g id=\"matplotlib.axis_2\">\n    <g id=\"ytick_1\">\n     <g id=\"line2d_13\">\n      <path d=\"M 32.964375 258.11715 \nL 433.860375 258.11715 \n\" clip-path=\"url(#p8ba66692b9)\" style=\"fill: none; stroke: #cbcbcb\"/>\n     </g>\n     <g id=\"line2d_14\"/>\n     <g id=\"text_7\">\n      <!-- 0.4 -->\n      <g transform=\"translate(7.2 263.436056) scale(0.14 -0.14)\">\n       <defs>\n        <path id=\"DejaVuSans-2e\" d=\"M 684 794 \nL 1344 794 \nL 1344 0 \nL 684 0 \nL 684 794 \nz\n\" transform=\"scale(0.015625)\"/>\n       </defs>\n       <use xlink:href=\"#DejaVuSans-30\"/>\n       <use xlink:href=\"#DejaVuSans-2e\" x=\"63.623047\"/>\n       <use xlink:href=\"#DejaVuSans-34\" x=\"95.410156\"/>\n      </g>\n     </g>\n    </g>\n    <g id=\"ytick_2\">\n     <g id=\"line2d_15\">\n      <path d=\"M 32.964375 206.918701 \nL 433.860375 206.918701 \n\" clip-path=\"url(#p8ba66692b9)\" style=\"fill: none; stroke: #cbcbcb\"/>\n     </g>\n     <g id=\"line2d_16\"/>\n     <g id=\"text_8\">\n      <!-- 0.5 -->\n      <g transform=\"translate(7.2 212.237607) scale(0.14 -0.14)\">\n       <use xlink:href=\"#DejaVuSans-30\"/>\n       <use xlink:href=\"#DejaVuSans-2e\" x=\"63.623047\"/>\n       <use xlink:href=\"#DejaVuSans-35\" x=\"95.410156\"/>\n      </g>\n     </g>\n    </g>\n    <g id=\"ytick_3\">\n     <g id=\"line2d_17\">\n      <path d=\"M 32.964375 155.720251 \nL 433.860375 155.720251 \n\" clip-path=\"url(#p8ba66692b9)\" style=\"fill: none; stroke: #cbcbcb\"/>\n     </g>\n     <g id=\"line2d_18\"/>\n     <g id=\"text_9\">\n      <!-- 0.6 -->\n      <g transform=\"translate(7.2 161.039157) scale(0.14 -0.14)\">\n       <defs>\n        <path id=\"DejaVuSans-36\" d=\"M 2113 2584 \nQ 1688 2584 1439 2293 \nQ 1191 2003 1191 1497 \nQ 1191 994 1439 701 \nQ 1688 409 2113 409 \nQ 2538 409 2786 701 \nQ 3034 994 3034 1497 \nQ 3034 2003 2786 2293 \nQ 2538 2584 2113 2584 \nz\nM 3366 4563 \nL 3366 3988 \nQ 3128 4100 2886 4159 \nQ 2644 4219 2406 4219 \nQ 1781 4219 1451 3797 \nQ 1122 3375 1075 2522 \nQ 1259 2794 1537 2939 \nQ 1816 3084 2150 3084 \nQ 2853 3084 3261 2657 \nQ 3669 2231 3669 1497 \nQ 3669 778 3244 343 \nQ 2819 -91 2113 -91 \nQ 1303 -91 875 529 \nQ 447 1150 447 2328 \nQ 447 3434 972 4092 \nQ 1497 4750 2381 4750 \nQ 2619 4750 2861 4703 \nQ 3103 4656 3366 4563 \nz\n\" transform=\"scale(0.015625)\"/>\n       </defs>\n       <use xlink:href=\"#DejaVuSans-30\"/>\n       <use xlink:href=\"#DejaVuSans-2e\" x=\"63.623047\"/>\n       <use xlink:href=\"#DejaVuSans-36\" x=\"95.410156\"/>\n      </g>\n     </g>\n    </g>\n    <g id=\"ytick_4\">\n     <g id=\"line2d_19\">\n      <path d=\"M 32.964375 104.521802 \nL 433.860375 104.521802 \n\" clip-path=\"url(#p8ba66692b9)\" style=\"fill: none; stroke: #cbcbcb\"/>\n     </g>\n     <g id=\"line2d_20\"/>\n     <g id=\"text_10\">\n      <!-- 0.7 -->\n      <g transform=\"translate(7.2 109.840708) scale(0.14 -0.14)\">\n       <defs>\n        <path id=\"DejaVuSans-37\" d=\"M 525 4666 \nL 3525 4666 \nL 3525 4397 \nL 1831 0 \nL 1172 0 \nL 2766 4134 \nL 525 4134 \nL 525 4666 \nz\n\" transform=\"scale(0.015625)\"/>\n       </defs>\n       <use xlink:href=\"#DejaVuSans-30\"/>\n       <use xlink:href=\"#DejaVuSans-2e\" x=\"63.623047\"/>\n       <use xlink:href=\"#DejaVuSans-37\" x=\"95.410156\"/>\n      </g>\n     </g>\n    </g>\n    <g id=\"ytick_5\">\n     <g id=\"line2d_21\">\n      <path d=\"M 32.964375 53.323352 \nL 433.860375 53.323352 \n\" clip-path=\"url(#p8ba66692b9)\" style=\"fill: none; stroke: #cbcbcb\"/>\n     </g>\n     <g id=\"line2d_22\"/>\n     <g id=\"text_11\">\n      <!-- 0.8 -->\n      <g transform=\"translate(7.2 58.642258) scale(0.14 -0.14)\">\n       <defs>\n        <path id=\"DejaVuSans-38\" d=\"M 2034 2216 \nQ 1584 2216 1326 1975 \nQ 1069 1734 1069 1313 \nQ 1069 891 1326 650 \nQ 1584 409 2034 409 \nQ 2484 409 2743 651 \nQ 3003 894 3003 1313 \nQ 3003 1734 2745 1975 \nQ 2488 2216 2034 2216 \nz\nM 1403 2484 \nQ 997 2584 770 2862 \nQ 544 3141 544 3541 \nQ 544 4100 942 4425 \nQ 1341 4750 2034 4750 \nQ 2731 4750 3128 4425 \nQ 3525 4100 3525 3541 \nQ 3525 3141 3298 2862 \nQ 3072 2584 2669 2484 \nQ 3125 2378 3379 2068 \nQ 3634 1759 3634 1313 \nQ 3634 634 3220 271 \nQ 2806 -91 2034 -91 \nQ 1263 -91 848 271 \nQ 434 634 434 1313 \nQ 434 1759 690 2068 \nQ 947 2378 1403 2484 \nz\nM 1172 3481 \nQ 1172 3119 1398 2916 \nQ 1625 2713 2034 2713 \nQ 2441 2713 2670 2916 \nQ 2900 3119 2900 3481 \nQ 2900 3844 2670 4047 \nQ 2441 4250 2034 4250 \nQ 1625 4250 1398 4047 \nQ 1172 3844 1172 3481 \nz\n\" transform=\"scale(0.015625)\"/>\n       </defs>\n       <use xlink:href=\"#DejaVuSans-30\"/>\n       <use xlink:href=\"#DejaVuSans-2e\" x=\"63.623047\"/>\n       <use xlink:href=\"#DejaVuSans-38\" x=\"95.410156\"/>\n      </g>\n     </g>\n    </g>\n   </g>\n   <g id=\"line2d_23\">\n    <path d=\"M 51.18692 40.551486 \nL 58.624694 127.847456 \nL 66.062468 140.582941 \nL 73.500241 182.685944 \nL 80.938015 172.881645 \nL 88.375789 200.786165 \nL 95.813562 181.268812 \nL 103.251336 210.320377 \nL 110.68911 205.21639 \nL 118.126883 200.773196 \nL 125.564657 161.454989 \nL 133.002431 207.450865 \nL 140.440204 226.903554 \nL 147.877978 204.570963 \nL 155.315752 228.664288 \nL 162.753525 210.630197 \nL 170.191299 216.045301 \nL 177.629073 232.731929 \nL 185.066846 189.423381 \nL 192.50462 199.366134 \nL 199.942394 190.946559 \nL 207.380167 245.344981 \nL 214.817941 211.722495 \nL 222.255715 188.274734 \nL 229.693488 198.938077 \nL 237.131262 212.095256 \nL 244.569035 207.671226 \nL 252.006809 232.341652 \nL 259.444583 221.590421 \nL 266.882356 233.28422 \nL 274.32013 259.753709 \nL 281.757904 213.075252 \nL 289.195677 215.811116 \nL 296.633451 248.43377 \nL 304.071225 246.318264 \nL 311.508998 201.670904 \nL 318.946772 228.451404 \nL 326.384546 224.753381 \nL 333.822319 243.167679 \nL 341.260093 206.350023 \nL 348.697867 240.939414 \nL 356.13564 242.341578 \nL 363.573414 239.663024 \nL 371.011188 244.476233 \nL 378.448961 258.119176 \nL 385.886735 222.33579 \nL 393.324509 238.500859 \nL 400.762282 217.896929 \nL 408.200056 274.411636 \nL 415.63783 241.685272 \n\" clip-path=\"url(#p8ba66692b9)\" style=\"fill: none; stroke: #008fd5; stroke-opacity: 0.15; stroke-width: 4\"/>\n   </g>\n   <g id=\"line2d_24\">\n    <path d=\"M 51.18692 35.259348 \nL 58.624694 93.439166 \nL 66.062468 137.117378 \nL 73.500241 140.774402 \nL 80.938015 140.355287 \nL 88.375789 152.637965 \nL 95.813562 169.385505 \nL 103.251336 183.09444 \nL 110.68911 151.874164 \nL 118.126883 177.32429 \nL 125.564657 200.186269 \nL 133.002431 183.604191 \nL 140.440204 187.387432 \nL 147.877978 181.317761 \nL 155.315752 201.222065 \nL 162.753525 206.762913 \nL 170.191299 228.355673 \nL 177.629073 188.707002 \nL 185.066846 206.883088 \nL 192.50462 199.306321 \nL 199.942394 193.076194 \nL 207.380167 203.175924 \nL 214.817941 203.771182 \nL 222.255715 217.652079 \nL 229.693488 215.682504 \nL 237.131262 189.091512 \nL 244.569035 202.044092 \nL 252.006809 194.045464 \nL 259.444583 205.539317 \nL 266.882356 211.122919 \nL 274.32013 211.519361 \nL 281.757904 223.539077 \nL 289.195677 186.624546 \nL 296.633451 238.631256 \nL 304.071225 227.799477 \nL 311.508998 209.293964 \nL 318.946772 213.602778 \nL 326.384546 237.171782 \nL 333.822319 217.574933 \nL 341.260093 253.759201 \nL 348.697867 226.506395 \nL 356.13564 219.01802 \nL 363.573414 213.574627 \nL 371.011188 196.453319 \nL 378.448961 222.402683 \nL 385.886735 210.294636 \nL 393.324509 219.814672 \nL 400.762282 199.067162 \nL 408.200056 227.542328 \nL 415.63783 234.784434 \n\" clip-path=\"url(#p8ba66692b9)\" style=\"fill: none; stroke: #fc4f30; stroke-opacity: 0.15; stroke-width: 4\"/>\n   </g>\n   <g id=\"line2d_25\">\n    <path d=\"M 51.18692 88.422289 \nL 58.624694 75.922668 \nL 66.062468 53.923334 \nL 73.500241 59.923152 \nL 80.938015 56.923243 \nL 88.375789 48.923485 \nL 95.813562 48.923485 \nL 103.251336 47.423531 \nL 110.68911 50.923425 \nL 118.126883 45.923576 \nL 125.564657 36.923849 \nL 133.002431 47.423531 \nL 140.440204 36.923849 \nL 147.877978 45.423591 \nL 155.315752 37.423834 \nL 162.753525 32.423985 \nL 170.191299 27.924121 \nL 177.629073 44.923607 \nL 185.066846 35.423894 \nL 192.50462 40.923728 \nL 199.942394 43.923637 \nL 207.380167 37.423834 \nL 214.817941 42.923667 \nL 222.255715 31.424015 \nL 229.693488 36.923849 \nL 237.131262 44.923607 \nL 244.569035 46.423561 \nL 252.006809 43.423652 \nL 259.444583 44.923607 \nL 266.882356 40.923728 \nL 274.32013 35.923879 \nL 281.757904 32.423985 \nL 289.195677 53.923334 \nL 296.633451 28.924091 \nL 304.071225 30.424046 \nL 311.508998 42.423682 \nL 318.946772 39.923758 \nL 326.384546 30.424046 \nL 333.822319 33.92394 \nL 341.260093 19.924364 \nL 348.697867 38.423803 \nL 356.13564 44.423622 \nL 363.573414 31.924 \nL 371.011188 40.423743 \nL 378.448961 33.92394 \nL 385.886735 45.923576 \nL 393.324509 38.423803 \nL 400.762282 45.923576 \nL 408.200056 41.923697 \nL 415.63783 28.424106 \n\" clip-path=\"url(#p8ba66692b9)\" style=\"fill: none; stroke: #e5ae38; stroke-opacity: 0.15; stroke-width: 4\"/>\n   </g>\n   <g id=\"line2d_26\">\n    <path d=\"M 66.062468 132.909895 \nL 103.251336 199.672979 \nL 140.440204 205.808932 \nL 177.629073 209.639398 \nL 214.817941 207.04536 \nL 252.006809 221.396564 \nL 289.195677 236.678419 \nL 326.384546 220.878681 \nL 363.573414 245.107882 \nL 400.762282 238.9661 \n\" clip-path=\"url(#p8ba66692b9)\" style=\"fill: none; stroke: #008fd5; stroke-width: 4\"/>\n   </g>\n   <g id=\"line2d_27\">\n    <path d=\"M 66.062468 109.389122 \nL 103.251336 166.863273 \nL 140.440204 190.743562 \nL 177.629073 206.002987 \nL 214.817941 206.671577 \nL 252.006809 200.368667 \nL 289.195677 217.622753 \nL 326.384546 226.28051 \nL 363.573414 215.591 \nL 400.762282 218.30065 \n\" clip-path=\"url(#p8ba66692b9)\" style=\"fill: none; stroke-dasharray: 14.8,6.4; stroke-dashoffset: 0; stroke: #fc4f30; stroke-width: 4\"/>\n   </g>\n   <g id=\"line2d_28\">\n    <path d=\"M 66.062468 67.022943 \nL 103.251336 48.423501 \nL 140.440204 40.823725 \nL 177.629073 36.323861 \nL 214.817941 38.523806 \nL 252.006809 44.123643 \nL 289.195677 36.323861 \nL 326.384546 33.323952 \nL 363.573414 37.823815 \nL 400.762282 40.123764 \n\" clip-path=\"url(#p8ba66692b9)\" style=\"fill: none; stroke-dasharray: 4,6.6; stroke-dashoffset: 0; stroke: #e5ae38; stroke-width: 4\"/>\n   </g>\n   <g id=\"patch_3\">\n    <path d=\"M 32.964375 287.136 \nL 32.964375 7.2 \n\" style=\"fill: none; stroke: #f0f0f0; stroke-width: 3; stroke-linejoin: miter; stroke-linecap: square\"/>\n   </g>\n   <g id=\"patch_4\">\n    <path d=\"M 433.860375 287.136 \nL 433.860375 7.2 \n\" style=\"fill: none; stroke: #f0f0f0; stroke-width: 3; stroke-linejoin: miter; stroke-linecap: square\"/>\n   </g>\n   <g id=\"patch_5\">\n    <path d=\"M 32.964375 287.136 \nL 433.860375 287.136 \n\" style=\"fill: none; stroke: #f0f0f0; stroke-width: 3; stroke-linejoin: miter; stroke-linecap: square\"/>\n   </g>\n   <g id=\"patch_6\">\n    <path d=\"M 32.964375 7.2 \nL 433.860375 7.2 \n\" style=\"fill: none; stroke: #f0f0f0; stroke-width: 3; stroke-linejoin: miter; stroke-linecap: square\"/>\n   </g>\n   <g id=\"legend_1\">\n    <g id=\"patch_7\">\n     <path d=\"M 314.186625 180.092063 \nL 424.060375 180.092063 \nQ 426.860375 180.092063 426.860375 177.292063 \nL 426.860375 117.043938 \nQ 426.860375 114.243938 424.060375 114.243938 \nL 314.186625 114.243938 \nQ 311.386625 114.243938 311.386625 117.043938 \nL 311.386625 177.292063 \nQ 311.386625 180.092063 314.186625 180.092063 \nz\n\" style=\"fill: #f0f0f0; opacity: 0.8; stroke: #cccccc; stroke-width: 0.5; stroke-linejoin: miter\"/>\n    </g>\n    <g id=\"line2d_29\">\n     <path d=\"M 316.986625 125.58175 \nL 330.986625 125.58175 \nL 344.986625 125.58175 \n\" style=\"fill: none; stroke: #008fd5; stroke-width: 4\"/>\n    </g>\n    <g id=\"text_12\">\n     <!-- Train loss -->\n     <g transform=\"translate(356.186625 130.48175) scale(0.14 -0.14)\">\n      <defs>\n       <path id=\"DejaVuSans-54\" d=\"M -19 4666 \nL 3928 4666 \nL 3928 4134 \nL 2272 4134 \nL 2272 0 \nL 1638 0 \nL 1638 4134 \nL -19 4134 \nL -19 4666 \nz\n\" transform=\"scale(0.015625)\"/>\n       <path id=\"DejaVuSans-72\" d=\"M 2631 2963 \nQ 2534 3019 2420 3045 \nQ 2306 3072 2169 3072 \nQ 1681 3072 1420 2755 \nQ 1159 2438 1159 1844 \nL 1159 0 \nL 581 0 \nL 581 3500 \nL 1159 3500 \nL 1159 2956 \nQ 1341 3275 1631 3429 \nQ 1922 3584 2338 3584 \nQ 2397 3584 2469 3576 \nQ 2541 3569 2628 3553 \nL 2631 2963 \nz\n\" transform=\"scale(0.015625)\"/>\n       <path id=\"DejaVuSans-61\" d=\"M 2194 1759 \nQ 1497 1759 1228 1600 \nQ 959 1441 959 1056 \nQ 959 750 1161 570 \nQ 1363 391 1709 391 \nQ 2188 391 2477 730 \nQ 2766 1069 2766 1631 \nL 2766 1759 \nL 2194 1759 \nz\nM 3341 1997 \nL 3341 0 \nL 2766 0 \nL 2766 531 \nQ 2569 213 2275 61 \nQ 1981 -91 1556 -91 \nQ 1019 -91 701 211 \nQ 384 513 384 1019 \nQ 384 1609 779 1909 \nQ 1175 2209 1959 2209 \nL 2766 2209 \nL 2766 2266 \nQ 2766 2663 2505 2880 \nQ 2244 3097 1772 3097 \nQ 1472 3097 1187 3025 \nQ 903 2953 641 2809 \nL 641 3341 \nQ 956 3463 1253 3523 \nQ 1550 3584 1831 3584 \nQ 2591 3584 2966 3190 \nQ 3341 2797 3341 1997 \nz\n\" transform=\"scale(0.015625)\"/>\n       <path id=\"DejaVuSans-69\" d=\"M 603 3500 \nL 1178 3500 \nL 1178 0 \nL 603 0 \nL 603 3500 \nz\nM 603 4863 \nL 1178 4863 \nL 1178 4134 \nL 603 4134 \nL 603 4863 \nz\n\" transform=\"scale(0.015625)\"/>\n       <path id=\"DejaVuSans-6e\" d=\"M 3513 2113 \nL 3513 0 \nL 2938 0 \nL 2938 2094 \nQ 2938 2591 2744 2837 \nQ 2550 3084 2163 3084 \nQ 1697 3084 1428 2787 \nQ 1159 2491 1159 1978 \nL 1159 0 \nL 581 0 \nL 581 3500 \nL 1159 3500 \nL 1159 2956 \nQ 1366 3272 1645 3428 \nQ 1925 3584 2291 3584 \nQ 2894 3584 3203 3211 \nQ 3513 2838 3513 2113 \nz\n\" transform=\"scale(0.015625)\"/>\n       <path id=\"DejaVuSans-20\" transform=\"scale(0.015625)\"/>\n       <path id=\"DejaVuSans-6c\" d=\"M 603 4863 \nL 1178 4863 \nL 1178 0 \nL 603 0 \nL 603 4863 \nz\n\" transform=\"scale(0.015625)\"/>\n       <path id=\"DejaVuSans-6f\" d=\"M 1959 3097 \nQ 1497 3097 1228 2736 \nQ 959 2375 959 1747 \nQ 959 1119 1226 758 \nQ 1494 397 1959 397 \nQ 2419 397 2687 759 \nQ 2956 1122 2956 1747 \nQ 2956 2369 2687 2733 \nQ 2419 3097 1959 3097 \nz\nM 1959 3584 \nQ 2709 3584 3137 3096 \nQ 3566 2609 3566 1747 \nQ 3566 888 3137 398 \nQ 2709 -91 1959 -91 \nQ 1206 -91 779 398 \nQ 353 888 353 1747 \nQ 353 2609 779 3096 \nQ 1206 3584 1959 3584 \nz\n\" transform=\"scale(0.015625)\"/>\n       <path id=\"DejaVuSans-73\" d=\"M 2834 3397 \nL 2834 2853 \nQ 2591 2978 2328 3040 \nQ 2066 3103 1784 3103 \nQ 1356 3103 1142 2972 \nQ 928 2841 928 2578 \nQ 928 2378 1081 2264 \nQ 1234 2150 1697 2047 \nL 1894 2003 \nQ 2506 1872 2764 1633 \nQ 3022 1394 3022 966 \nQ 3022 478 2636 193 \nQ 2250 -91 1575 -91 \nQ 1294 -91 989 -36 \nQ 684 19 347 128 \nL 347 722 \nQ 666 556 975 473 \nQ 1284 391 1588 391 \nQ 1994 391 2212 530 \nQ 2431 669 2431 922 \nQ 2431 1156 2273 1281 \nQ 2116 1406 1581 1522 \nL 1381 1569 \nQ 847 1681 609 1914 \nQ 372 2147 372 2553 \nQ 372 3047 722 3315 \nQ 1072 3584 1716 3584 \nQ 2034 3584 2315 3537 \nQ 2597 3491 2834 3397 \nz\n\" transform=\"scale(0.015625)\"/>\n      </defs>\n      <use xlink:href=\"#DejaVuSans-54\"/>\n      <use xlink:href=\"#DejaVuSans-72\" x=\"46.333984\"/>\n      <use xlink:href=\"#DejaVuSans-61\" x=\"87.447266\"/>\n      <use xlink:href=\"#DejaVuSans-69\" x=\"148.726562\"/>\n      <use xlink:href=\"#DejaVuSans-6e\" x=\"176.509766\"/>\n      <use xlink:href=\"#DejaVuSans-20\" x=\"239.888672\"/>\n      <use xlink:href=\"#DejaVuSans-6c\" x=\"271.675781\"/>\n      <use xlink:href=\"#DejaVuSans-6f\" x=\"299.458984\"/>\n      <use xlink:href=\"#DejaVuSans-73\" x=\"360.640625\"/>\n      <use xlink:href=\"#DejaVuSans-73\" x=\"412.740234\"/>\n     </g>\n    </g>\n    <g id=\"line2d_30\">\n     <path d=\"M 316.986625 146.131125 \nL 330.986625 146.131125 \nL 344.986625 146.131125 \n\" style=\"fill: none; stroke-dasharray: 14.8,6.4; stroke-dashoffset: 0; stroke: #fc4f30; stroke-width: 4\"/>\n    </g>\n    <g id=\"text_13\">\n     <!-- Val loss -->\n     <g transform=\"translate(356.186625 151.031125) scale(0.14 -0.14)\">\n      <defs>\n       <path id=\"DejaVuSans-56\" d=\"M 1831 0 \nL 50 4666 \nL 709 4666 \nL 2188 738 \nL 3669 4666 \nL 4325 4666 \nL 2547 0 \nL 1831 0 \nz\n\" transform=\"scale(0.015625)\"/>\n      </defs>\n      <use xlink:href=\"#DejaVuSans-56\"/>\n      <use xlink:href=\"#DejaVuSans-61\" x=\"60.658203\"/>\n      <use xlink:href=\"#DejaVuSans-6c\" x=\"121.9375\"/>\n      <use xlink:href=\"#DejaVuSans-20\" x=\"149.720703\"/>\n      <use xlink:href=\"#DejaVuSans-6c\" x=\"181.507812\"/>\n      <use xlink:href=\"#DejaVuSans-6f\" x=\"209.291016\"/>\n      <use xlink:href=\"#DejaVuSans-73\" x=\"270.472656\"/>\n      <use xlink:href=\"#DejaVuSans-73\" x=\"322.572266\"/>\n     </g>\n    </g>\n    <g id=\"line2d_31\">\n     <path d=\"M 316.986625 166.6805 \nL 330.986625 166.6805 \nL 344.986625 166.6805 \n\" style=\"fill: none; stroke-dasharray: 4,6.6; stroke-dashoffset: 0; stroke: #e5ae38; stroke-width: 4\"/>\n    </g>\n    <g id=\"text_14\">\n     <!-- Accuracy -->\n     <g transform=\"translate(356.186625 171.5805) scale(0.14 -0.14)\">\n      <defs>\n       <path id=\"DejaVuSans-41\" d=\"M 2188 4044 \nL 1331 1722 \nL 3047 1722 \nL 2188 4044 \nz\nM 1831 4666 \nL 2547 4666 \nL 4325 0 \nL 3669 0 \nL 3244 1197 \nL 1141 1197 \nL 716 0 \nL 50 0 \nL 1831 4666 \nz\n\" transform=\"scale(0.015625)\"/>\n       <path id=\"DejaVuSans-63\" d=\"M 3122 3366 \nL 3122 2828 \nQ 2878 2963 2633 3030 \nQ 2388 3097 2138 3097 \nQ 1578 3097 1268 2742 \nQ 959 2388 959 1747 \nQ 959 1106 1268 751 \nQ 1578 397 2138 397 \nQ 2388 397 2633 464 \nQ 2878 531 3122 666 \nL 3122 134 \nQ 2881 22 2623 -34 \nQ 2366 -91 2075 -91 \nQ 1284 -91 818 406 \nQ 353 903 353 1747 \nQ 353 2603 823 3093 \nQ 1294 3584 2113 3584 \nQ 2378 3584 2631 3529 \nQ 2884 3475 3122 3366 \nz\n\" transform=\"scale(0.015625)\"/>\n       <path id=\"DejaVuSans-75\" d=\"M 544 1381 \nL 544 3500 \nL 1119 3500 \nL 1119 1403 \nQ 1119 906 1312 657 \nQ 1506 409 1894 409 \nQ 2359 409 2629 706 \nQ 2900 1003 2900 1516 \nL 2900 3500 \nL 3475 3500 \nL 3475 0 \nL 2900 0 \nL 2900 538 \nQ 2691 219 2414 64 \nQ 2138 -91 1772 -91 \nQ 1169 -91 856 284 \nQ 544 659 544 1381 \nz\nM 1991 3584 \nL 1991 3584 \nz\n\" transform=\"scale(0.015625)\"/>\n       <path id=\"DejaVuSans-79\" d=\"M 2059 -325 \nQ 1816 -950 1584 -1140 \nQ 1353 -1331 966 -1331 \nL 506 -1331 \nL 506 -850 \nL 844 -850 \nQ 1081 -850 1212 -737 \nQ 1344 -625 1503 -206 \nL 1606 56 \nL 191 3500 \nL 800 3500 \nL 1894 763 \nL 2988 3500 \nL 3597 3500 \nL 2059 -325 \nz\n\" transform=\"scale(0.015625)\"/>\n      </defs>\n      <use xlink:href=\"#DejaVuSans-41\"/>\n      <use xlink:href=\"#DejaVuSans-63\" x=\"66.658203\"/>\n      <use xlink:href=\"#DejaVuSans-63\" x=\"121.638672\"/>\n      <use xlink:href=\"#DejaVuSans-75\" x=\"176.619141\"/>\n      <use xlink:href=\"#DejaVuSans-72\" x=\"239.998047\"/>\n      <use xlink:href=\"#DejaVuSans-61\" x=\"281.111328\"/>\n      <use xlink:href=\"#DejaVuSans-63\" x=\"342.390625\"/>\n      <use xlink:href=\"#DejaVuSans-79\" x=\"397.371094\"/>\n     </g>\n    </g>\n   </g>\n  </g>\n </g>\n <defs>\n  <clipPath id=\"p8ba66692b9\">\n   <rect x=\"32.964375\" y=\"7.2\" width=\"400.896\" height=\"279.936\"/>\n  </clipPath>\n </defs>\n</svg>\n",
      "text/plain": [
       "<Figure size 640x480 with 1 Axes>"
      ]
     },
     "metadata": {},
     "output_type": "display_data"
    }
   ],
   "source": [
    "max_epochs = 50\n",
    "smooth = 5  # must divide max_epochs\n",
    "model = Classifier2(fan_out=10)\n",
    "params = model.parameters()\n",
    "\n",
    "epochs = []\n",
    "train_losses = []\n",
    "val_losses = []\n",
    "accs = []\n",
    "loss_fn = nn.CrossEntropyLoss()\n",
    "optimizer = torch.optim.SGD(model.parameters(), lr=0.1)\n",
    "for epoch in range(max_epochs):\n",
    "    losses = []\n",
    "    for step, batch in enumerate(data.train_dl):\n",
    "\n",
    "\n",
    "        # Get minibatch\n",
    "        x, y = batch\n",
    "        \n",
    "        # Forward pass\n",
    "        logits = model.forward(x)\n",
    " \n",
    "        # Get loss\n",
    "        train_loss = model.loss(logits, y)   # Good\n",
    "        #train_loss = loss_fn(logits, y)\n",
    "\n",
    "        # Update params\n",
    "        if epoch < 25:\n",
    "            lr = 0.1\n",
    "        elif epoch < 50:\n",
    "            lr = 0.01\n",
    "        else:\n",
    "            lr = 0.001\n",
    "\n",
    "        optimizer.zero_grad()\n",
    "        train_loss.backward()\n",
    "        optimizer.step()\n",
    "    \n",
    "    \n",
    "    # Print losses\n",
    "    # Do not let computations effect gradient\n",
    "    with torch.no_grad():\n",
    "        epochs.append(epoch)\n",
    "        # Training losses\n",
    "        train_losses.append(train_loss.item())\n",
    "        # Val losses\n",
    "        for batch in data.val_dl:\n",
    "            x, y = batch\n",
    "            logits = model.forward(x)\n",
    "            val_loss = model.loss(logits, y)\n",
    "            acc = model.accuracy(logits, y)\n",
    "            break\n",
    "        val_losses.append(val_loss.item())\n",
    "        accs.append(acc.item())\n",
    "        # Print\n",
    "        if epoch % smooth == 0:\n",
    "            print(f'Epoch ({epoch}): train loss = {train_loss.item():.2f}, val loss = {val_loss.item():.2f}, acc = {acc.item():.2f}')\n",
    "            \n",
    "    \n",
    "# Smooth for plotting\n",
    "tl = torch.tensor(train_losses).view(-1, smooth).mean(axis=1)\n",
    "vl = torch.tensor(val_losses).view(-1, smooth).mean(axis=1)\n",
    "ac = torch.tensor(accs).view(-1, smooth).mean(axis=1)\n",
    "ep = torch.tensor(epochs).float().view(-1, smooth).mean(axis=1)\n",
    "\n",
    "# Make plots\n",
    "plt.plot(epochs, train_losses, 'C0', alpha=0.15)\n",
    "plt.plot(epochs, val_losses, 'C1', alpha=0.15)\n",
    "plt.plot(epochs, accs, 'C2', alpha=0.15)\n",
    "plt.plot(ep, tl, 'C0', label='Train loss')\n",
    "plt.plot(ep, vl, 'C1--', label='Val loss')\n",
    "plt.plot(ep, ac, 'C2:', label='Accuracy')\n",
    "\n",
    "plt.legend();"
   ]
  },
  {
   "cell_type": "code",
   "execution_count": 49,
   "metadata": {},
   "outputs": [],
   "source": []
  },
  {
   "cell_type": "code",
   "execution_count": null,
   "metadata": {},
   "outputs": [],
   "source": []
  },
  {
   "cell_type": "code",
   "execution_count": 22,
   "metadata": {},
   "outputs": [],
   "source": [
    "# Lightning\n",
    "\n",
    "# Define Model\n",
    "\n",
    "torch.manual_seed(42)\n",
    "n_embd = 10\n",
    "n_hidden = 200\n",
    "batch_size = 1024\n",
    "\n",
    "\n",
    "class Classifier3(pl.LightningModule):\n",
    "    def __init__(self):\n",
    "        super().__init__()\n",
    "        self.model = nn.Sequential(nn.Flatten(), nn.Linear(784,10))\n",
    "        self.batch_size = 1024\n",
    "        self.learning_rate = 0.19\n",
    "        self.train_acc = torchmetrics.Accuracy(task='multiclass', num_classes=10)\n",
    "\n",
    "    def training_step(self, batch, batch_idx):\n",
    "        # training_step defines the train loop.\n",
    "        x, y = batch\n",
    "        # x = x.view(x.size(0), -1)\n",
    "        logits = self.model(x)\n",
    "        loss = nn.functional.cross_entropy(logits, y)\n",
    "        self.train_acc(logits, y)\n",
    "        self.log(\"train_loss\", loss, prog_bar=False,\n",
    "                 on_step=False, on_epoch=True)\n",
    "        self.log('train_acc', self.train_acc, prog_bar=True,\n",
    "                 on_step=False, on_epoch=True)\n",
    "        return loss\n",
    "\n",
    "    def validation_step(self, batch, batch_idx):\n",
    "        # training_step defines the train loop.\n",
    "        x, y = batch\n",
    "        # x = x.view(x.size(0), -1)\n",
    "        logits = self.model(x)\n",
    "        loss = nn.functional.cross_entropy(logits, y)\n",
    "        # self.log('train_loss', loss)\n",
    "        self.log(\"val_loss\", loss, prog_bar=True,\n",
    "                 on_step=False, on_epoch=True)\n",
    "        \n",
    "        return loss\n",
    "\n",
    "    def predict_step(self, batch, batch_idx):\n",
    "        # training_step defines the train loop.\n",
    "        # x, y = batch\n",
    "        x = batch\n",
    "        # x = x.view(x.size(0), -1)\n",
    "        logits = self.model(x)\n",
    "        return logits\n",
    "\n",
    "    def configure_optimizers(self):\n",
    "        optimizer = torch.optim.SGD(self.parameters(), lr=self.learning_rate)\n",
    "        scheduler = torch.optim.lr_scheduler.ReduceLROnPlateau(optimizer,patience=10) \n",
    "        lr_scheduler = {\"scheduler\": scheduler, \"interval\": \"epoch\", \"monitor\": \"val_loss\"}\n",
    "        return [optimizer], [lr_scheduler]\n",
    "\n",
    "\n",
    "model = Classifier3()"
   ]
  },
  {
   "cell_type": "code",
   "execution_count": 23,
   "metadata": {},
   "outputs": [
    {
     "name": "stderr",
     "output_type": "stream",
     "text": [
      "GPU available: True (mps), used: False\n",
      "TPU available: False, using: 0 TPU cores\n",
      "IPU available: False, using: 0 IPUs\n",
      "HPU available: False, using: 0 HPUs\n"
     ]
    },
    {
     "data": {
      "application/vnd.jupyter.widget-view+json": {
       "model_id": "63d53dc3644840ffa3cc94a3102ff5f1",
       "version_major": 2,
       "version_minor": 0
      },
      "text/plain": [
       "Finding best initial lr:   0%|          | 0/100 [00:00<?, ?it/s]"
      ]
     },
     "metadata": {},
     "output_type": "display_data"
    },
    {
     "name": "stderr",
     "output_type": "stream",
     "text": [
      "`Trainer.fit` stopped: `max_steps=100` reached.\n",
      "Restoring states from the checkpoint path at /Users/jsmidt/Documents/AI/scratch/d2l/.lr_find_fd0d300b-f668-40ae-99c1-eb922a1b88f1.ckpt\n",
      "Restored all states from the checkpoint file at /Users/jsmidt/Documents/AI/scratch/d2l/.lr_find_fd0d300b-f668-40ae-99c1-eb922a1b88f1.ckpt\n"
     ]
    },
    {
     "name": "stdout",
     "output_type": "stream",
     "text": [
      "0.19054607179632482\n"
     ]
    },
    {
     "data": {
      "image/svg+xml": "<?xml version=\"1.0\" encoding=\"utf-8\" standalone=\"no\"?>\n<!DOCTYPE svg PUBLIC \"-//W3C//DTD SVG 1.1//EN\"\n  \"http://www.w3.org/Graphics/SVG/1.1/DTD/svg11.dtd\">\n<svg xmlns:xlink=\"http://www.w3.org/1999/xlink\" width=\"461.319625pt\" height=\"331.644625pt\" viewBox=\"0 0 461.319625 331.644625\" xmlns=\"http://www.w3.org/2000/svg\" version=\"1.1\">\n <metadata>\n  <rdf:RDF xmlns:dc=\"http://purl.org/dc/elements/1.1/\" xmlns:cc=\"http://creativecommons.org/ns#\" xmlns:rdf=\"http://www.w3.org/1999/02/22-rdf-syntax-ns#\">\n   <cc:Work>\n    <dc:type rdf:resource=\"http://purl.org/dc/dcmitype/StillImage\"/>\n    <dc:date>2023-01-20T06:10:45.368566</dc:date>\n    <dc:format>image/svg+xml</dc:format>\n    <dc:creator>\n     <cc:Agent>\n      <dc:title>Matplotlib v3.6.3, https://matplotlib.org/</dc:title>\n     </cc:Agent>\n    </dc:creator>\n   </cc:Work>\n  </rdf:RDF>\n </metadata>\n <defs>\n  <style type=\"text/css\">*{stroke-linejoin: round; stroke-linecap: butt}</style>\n </defs>\n <g id=\"figure_1\">\n  <g id=\"patch_1\">\n   <path d=\"M 0 331.644625 \nL 461.319625 331.644625 \nL 461.319625 0 \nL 0 0 \nz\n\" style=\"fill: #f0f0f0\"/>\n  </g>\n  <g id=\"axes_1\">\n   <g id=\"patch_2\">\n    <path d=\"M 53.223625 287.136 \nL 454.119625 287.136 \nL 454.119625 7.2 \nL 53.223625 7.2 \nz\n\" style=\"fill: #f0f0f0\"/>\n   </g>\n   <g id=\"matplotlib.axis_1\">\n    <g id=\"xtick_1\">\n     <g id=\"line2d_1\">\n      <path d=\"M 117.002534 287.136 \nL 117.002534 7.2 \n\" clip-path=\"url(#pf3ec4adba8)\" style=\"fill: none; stroke: #cbcbcb\"/>\n     </g>\n     <g id=\"line2d_2\"/>\n     <g id=\"text_1\">\n      <!-- $\\mathdefault{10^{-7}}$ -->\n      <g transform=\"translate(100.552534 301.273812) scale(0.14 -0.14)\">\n       <defs>\n        <path id=\"DejaVuSans-31\" d=\"M 794 531 \nL 1825 531 \nL 1825 4091 \nL 703 3866 \nL 703 4441 \nL 1819 4666 \nL 2450 4666 \nL 2450 531 \nL 3481 531 \nL 3481 0 \nL 794 0 \nL 794 531 \nz\n\" transform=\"scale(0.015625)\"/>\n        <path id=\"DejaVuSans-30\" d=\"M 2034 4250 \nQ 1547 4250 1301 3770 \nQ 1056 3291 1056 2328 \nQ 1056 1369 1301 889 \nQ 1547 409 2034 409 \nQ 2525 409 2770 889 \nQ 3016 1369 3016 2328 \nQ 3016 3291 2770 3770 \nQ 2525 4250 2034 4250 \nz\nM 2034 4750 \nQ 2819 4750 3233 4129 \nQ 3647 3509 3647 2328 \nQ 3647 1150 3233 529 \nQ 2819 -91 2034 -91 \nQ 1250 -91 836 529 \nQ 422 1150 422 2328 \nQ 422 3509 836 4129 \nQ 1250 4750 2034 4750 \nz\n\" transform=\"scale(0.015625)\"/>\n        <path id=\"DejaVuSans-2212\" d=\"M 678 2272 \nL 4684 2272 \nL 4684 1741 \nL 678 1741 \nL 678 2272 \nz\n\" transform=\"scale(0.015625)\"/>\n        <path id=\"DejaVuSans-37\" d=\"M 525 4666 \nL 3525 4666 \nL 3525 4397 \nL 1831 0 \nL 1172 0 \nL 2766 4134 \nL 525 4134 \nL 525 4666 \nz\n\" transform=\"scale(0.015625)\"/>\n       </defs>\n       <use xlink:href=\"#DejaVuSans-31\" transform=\"translate(0 0.684375)\"/>\n       <use xlink:href=\"#DejaVuSans-30\" transform=\"translate(63.623047 0.684375)\"/>\n       <use xlink:href=\"#DejaVuSans-2212\" transform=\"translate(128.203125 38.965625) scale(0.7)\"/>\n       <use xlink:href=\"#DejaVuSans-37\" transform=\"translate(186.855469 38.965625) scale(0.7)\"/>\n      </g>\n     </g>\n    </g>\n    <g id=\"xtick_2\">\n     <g id=\"line2d_3\">\n      <path d=\"M 208.115261 287.136 \nL 208.115261 7.2 \n\" clip-path=\"url(#pf3ec4adba8)\" style=\"fill: none; stroke: #cbcbcb\"/>\n     </g>\n     <g id=\"line2d_4\"/>\n     <g id=\"text_2\">\n      <!-- $\\mathdefault{10^{-5}}$ -->\n      <g transform=\"translate(191.665261 301.273812) scale(0.14 -0.14)\">\n       <defs>\n        <path id=\"DejaVuSans-35\" d=\"M 691 4666 \nL 3169 4666 \nL 3169 4134 \nL 1269 4134 \nL 1269 2991 \nQ 1406 3038 1543 3061 \nQ 1681 3084 1819 3084 \nQ 2600 3084 3056 2656 \nQ 3513 2228 3513 1497 \nQ 3513 744 3044 326 \nQ 2575 -91 1722 -91 \nQ 1428 -91 1123 -41 \nQ 819 9 494 109 \nL 494 744 \nQ 775 591 1075 516 \nQ 1375 441 1709 441 \nQ 2250 441 2565 725 \nQ 2881 1009 2881 1497 \nQ 2881 1984 2565 2268 \nQ 2250 2553 1709 2553 \nQ 1456 2553 1204 2497 \nQ 953 2441 691 2322 \nL 691 4666 \nz\n\" transform=\"scale(0.015625)\"/>\n       </defs>\n       <use xlink:href=\"#DejaVuSans-31\" transform=\"translate(0 0.684375)\"/>\n       <use xlink:href=\"#DejaVuSans-30\" transform=\"translate(63.623047 0.684375)\"/>\n       <use xlink:href=\"#DejaVuSans-2212\" transform=\"translate(128.203125 38.965625) scale(0.7)\"/>\n       <use xlink:href=\"#DejaVuSans-35\" transform=\"translate(186.855469 38.965625) scale(0.7)\"/>\n      </g>\n     </g>\n    </g>\n    <g id=\"xtick_3\">\n     <g id=\"line2d_5\">\n      <path d=\"M 299.227989 287.136 \nL 299.227989 7.2 \n\" clip-path=\"url(#pf3ec4adba8)\" style=\"fill: none; stroke: #cbcbcb\"/>\n     </g>\n     <g id=\"line2d_6\"/>\n     <g id=\"text_3\">\n      <!-- $\\mathdefault{10^{-3}}$ -->\n      <g transform=\"translate(282.777989 301.273812) scale(0.14 -0.14)\">\n       <defs>\n        <path id=\"DejaVuSans-33\" d=\"M 2597 2516 \nQ 3050 2419 3304 2112 \nQ 3559 1806 3559 1356 \nQ 3559 666 3084 287 \nQ 2609 -91 1734 -91 \nQ 1441 -91 1130 -33 \nQ 819 25 488 141 \nL 488 750 \nQ 750 597 1062 519 \nQ 1375 441 1716 441 \nQ 2309 441 2620 675 \nQ 2931 909 2931 1356 \nQ 2931 1769 2642 2001 \nQ 2353 2234 1838 2234 \nL 1294 2234 \nL 1294 2753 \nL 1863 2753 \nQ 2328 2753 2575 2939 \nQ 2822 3125 2822 3475 \nQ 2822 3834 2567 4026 \nQ 2313 4219 1838 4219 \nQ 1578 4219 1281 4162 \nQ 984 4106 628 3988 \nL 628 4550 \nQ 988 4650 1302 4700 \nQ 1616 4750 1894 4750 \nQ 2613 4750 3031 4423 \nQ 3450 4097 3450 3541 \nQ 3450 3153 3228 2886 \nQ 3006 2619 2597 2516 \nz\n\" transform=\"scale(0.015625)\"/>\n       </defs>\n       <use xlink:href=\"#DejaVuSans-31\" transform=\"translate(0 0.765625)\"/>\n       <use xlink:href=\"#DejaVuSans-30\" transform=\"translate(63.623047 0.765625)\"/>\n       <use xlink:href=\"#DejaVuSans-2212\" transform=\"translate(128.203125 39.046875) scale(0.7)\"/>\n       <use xlink:href=\"#DejaVuSans-33\" transform=\"translate(186.855469 39.046875) scale(0.7)\"/>\n      </g>\n     </g>\n    </g>\n    <g id=\"xtick_4\">\n     <g id=\"line2d_7\">\n      <path d=\"M 390.340716 287.136 \nL 390.340716 7.2 \n\" clip-path=\"url(#pf3ec4adba8)\" style=\"fill: none; stroke: #cbcbcb\"/>\n     </g>\n     <g id=\"line2d_8\"/>\n     <g id=\"text_4\">\n      <!-- $\\mathdefault{10^{-1}}$ -->\n      <g transform=\"translate(373.890716 301.273812) scale(0.14 -0.14)\">\n       <use xlink:href=\"#DejaVuSans-31\" transform=\"translate(0 0.684375)\"/>\n       <use xlink:href=\"#DejaVuSans-30\" transform=\"translate(63.623047 0.684375)\"/>\n       <use xlink:href=\"#DejaVuSans-2212\" transform=\"translate(128.203125 38.965625) scale(0.7)\"/>\n       <use xlink:href=\"#DejaVuSans-31\" transform=\"translate(186.855469 38.965625) scale(0.7)\"/>\n      </g>\n     </g>\n    </g>\n    <g id=\"text_5\">\n     <!-- Learning rate -->\n     <g transform=\"translate(197.470375 320.95075) scale(0.168 -0.168)\">\n      <defs>\n       <path id=\"DejaVuSans-4c\" d=\"M 628 4666 \nL 1259 4666 \nL 1259 531 \nL 3531 531 \nL 3531 0 \nL 628 0 \nL 628 4666 \nz\n\" transform=\"scale(0.015625)\"/>\n       <path id=\"DejaVuSans-65\" d=\"M 3597 1894 \nL 3597 1613 \nL 953 1613 \nQ 991 1019 1311 708 \nQ 1631 397 2203 397 \nQ 2534 397 2845 478 \nQ 3156 559 3463 722 \nL 3463 178 \nQ 3153 47 2828 -22 \nQ 2503 -91 2169 -91 \nQ 1331 -91 842 396 \nQ 353 884 353 1716 \nQ 353 2575 817 3079 \nQ 1281 3584 2069 3584 \nQ 2775 3584 3186 3129 \nQ 3597 2675 3597 1894 \nz\nM 3022 2063 \nQ 3016 2534 2758 2815 \nQ 2500 3097 2075 3097 \nQ 1594 3097 1305 2825 \nQ 1016 2553 972 2059 \nL 3022 2063 \nz\n\" transform=\"scale(0.015625)\"/>\n       <path id=\"DejaVuSans-61\" d=\"M 2194 1759 \nQ 1497 1759 1228 1600 \nQ 959 1441 959 1056 \nQ 959 750 1161 570 \nQ 1363 391 1709 391 \nQ 2188 391 2477 730 \nQ 2766 1069 2766 1631 \nL 2766 1759 \nL 2194 1759 \nz\nM 3341 1997 \nL 3341 0 \nL 2766 0 \nL 2766 531 \nQ 2569 213 2275 61 \nQ 1981 -91 1556 -91 \nQ 1019 -91 701 211 \nQ 384 513 384 1019 \nQ 384 1609 779 1909 \nQ 1175 2209 1959 2209 \nL 2766 2209 \nL 2766 2266 \nQ 2766 2663 2505 2880 \nQ 2244 3097 1772 3097 \nQ 1472 3097 1187 3025 \nQ 903 2953 641 2809 \nL 641 3341 \nQ 956 3463 1253 3523 \nQ 1550 3584 1831 3584 \nQ 2591 3584 2966 3190 \nQ 3341 2797 3341 1997 \nz\n\" transform=\"scale(0.015625)\"/>\n       <path id=\"DejaVuSans-72\" d=\"M 2631 2963 \nQ 2534 3019 2420 3045 \nQ 2306 3072 2169 3072 \nQ 1681 3072 1420 2755 \nQ 1159 2438 1159 1844 \nL 1159 0 \nL 581 0 \nL 581 3500 \nL 1159 3500 \nL 1159 2956 \nQ 1341 3275 1631 3429 \nQ 1922 3584 2338 3584 \nQ 2397 3584 2469 3576 \nQ 2541 3569 2628 3553 \nL 2631 2963 \nz\n\" transform=\"scale(0.015625)\"/>\n       <path id=\"DejaVuSans-6e\" d=\"M 3513 2113 \nL 3513 0 \nL 2938 0 \nL 2938 2094 \nQ 2938 2591 2744 2837 \nQ 2550 3084 2163 3084 \nQ 1697 3084 1428 2787 \nQ 1159 2491 1159 1978 \nL 1159 0 \nL 581 0 \nL 581 3500 \nL 1159 3500 \nL 1159 2956 \nQ 1366 3272 1645 3428 \nQ 1925 3584 2291 3584 \nQ 2894 3584 3203 3211 \nQ 3513 2838 3513 2113 \nz\n\" transform=\"scale(0.015625)\"/>\n       <path id=\"DejaVuSans-69\" d=\"M 603 3500 \nL 1178 3500 \nL 1178 0 \nL 603 0 \nL 603 3500 \nz\nM 603 4863 \nL 1178 4863 \nL 1178 4134 \nL 603 4134 \nL 603 4863 \nz\n\" transform=\"scale(0.015625)\"/>\n       <path id=\"DejaVuSans-67\" d=\"M 2906 1791 \nQ 2906 2416 2648 2759 \nQ 2391 3103 1925 3103 \nQ 1463 3103 1205 2759 \nQ 947 2416 947 1791 \nQ 947 1169 1205 825 \nQ 1463 481 1925 481 \nQ 2391 481 2648 825 \nQ 2906 1169 2906 1791 \nz\nM 3481 434 \nQ 3481 -459 3084 -895 \nQ 2688 -1331 1869 -1331 \nQ 1566 -1331 1297 -1286 \nQ 1028 -1241 775 -1147 \nL 775 -588 \nQ 1028 -725 1275 -790 \nQ 1522 -856 1778 -856 \nQ 2344 -856 2625 -561 \nQ 2906 -266 2906 331 \nL 2906 616 \nQ 2728 306 2450 153 \nQ 2172 0 1784 0 \nQ 1141 0 747 490 \nQ 353 981 353 1791 \nQ 353 2603 747 3093 \nQ 1141 3584 1784 3584 \nQ 2172 3584 2450 3431 \nQ 2728 3278 2906 2969 \nL 2906 3500 \nL 3481 3500 \nL 3481 434 \nz\n\" transform=\"scale(0.015625)\"/>\n       <path id=\"DejaVuSans-20\" transform=\"scale(0.015625)\"/>\n       <path id=\"DejaVuSans-74\" d=\"M 1172 4494 \nL 1172 3500 \nL 2356 3500 \nL 2356 3053 \nL 1172 3053 \nL 1172 1153 \nQ 1172 725 1289 603 \nQ 1406 481 1766 481 \nL 2356 481 \nL 2356 0 \nL 1766 0 \nQ 1100 0 847 248 \nQ 594 497 594 1153 \nL 594 3053 \nL 172 3053 \nL 172 3500 \nL 594 3500 \nL 594 4494 \nL 1172 4494 \nz\n\" transform=\"scale(0.015625)\"/>\n      </defs>\n      <use xlink:href=\"#DejaVuSans-4c\"/>\n      <use xlink:href=\"#DejaVuSans-65\" x=\"53.962891\"/>\n      <use xlink:href=\"#DejaVuSans-61\" x=\"115.486328\"/>\n      <use xlink:href=\"#DejaVuSans-72\" x=\"176.765625\"/>\n      <use xlink:href=\"#DejaVuSans-6e\" x=\"216.128906\"/>\n      <use xlink:href=\"#DejaVuSans-69\" x=\"279.507812\"/>\n      <use xlink:href=\"#DejaVuSans-6e\" x=\"307.291016\"/>\n      <use xlink:href=\"#DejaVuSans-67\" x=\"370.669922\"/>\n      <use xlink:href=\"#DejaVuSans-20\" x=\"434.146484\"/>\n      <use xlink:href=\"#DejaVuSans-72\" x=\"465.933594\"/>\n      <use xlink:href=\"#DejaVuSans-61\" x=\"507.046875\"/>\n      <use xlink:href=\"#DejaVuSans-74\" x=\"568.326172\"/>\n      <use xlink:href=\"#DejaVuSans-65\" x=\"607.535156\"/>\n     </g>\n    </g>\n   </g>\n   <g id=\"matplotlib.axis_2\">\n    <g id=\"ytick_1\">\n     <g id=\"line2d_9\">\n      <path d=\"M 53.223625 270.123252 \nL 454.119625 270.123252 \n\" clip-path=\"url(#pf3ec4adba8)\" style=\"fill: none; stroke: #cbcbcb\"/>\n     </g>\n     <g id=\"line2d_10\"/>\n     <g id=\"text_6\">\n      <!-- 1.2 -->\n      <g transform=\"translate(27.45925 275.442158) scale(0.14 -0.14)\">\n       <defs>\n        <path id=\"DejaVuSans-2e\" d=\"M 684 794 \nL 1344 794 \nL 1344 0 \nL 684 0 \nL 684 794 \nz\n\" transform=\"scale(0.015625)\"/>\n        <path id=\"DejaVuSans-32\" d=\"M 1228 531 \nL 3431 531 \nL 3431 0 \nL 469 0 \nL 469 531 \nQ 828 903 1448 1529 \nQ 2069 2156 2228 2338 \nQ 2531 2678 2651 2914 \nQ 2772 3150 2772 3378 \nQ 2772 3750 2511 3984 \nQ 2250 4219 1831 4219 \nQ 1534 4219 1204 4116 \nQ 875 4013 500 3803 \nL 500 4441 \nQ 881 4594 1212 4672 \nQ 1544 4750 1819 4750 \nQ 2544 4750 2975 4387 \nQ 3406 4025 3406 3419 \nQ 3406 3131 3298 2873 \nQ 3191 2616 2906 2266 \nQ 2828 2175 2409 1742 \nQ 1991 1309 1228 531 \nz\n\" transform=\"scale(0.015625)\"/>\n       </defs>\n       <use xlink:href=\"#DejaVuSans-31\"/>\n       <use xlink:href=\"#DejaVuSans-2e\" x=\"63.623047\"/>\n       <use xlink:href=\"#DejaVuSans-32\" x=\"95.410156\"/>\n      </g>\n     </g>\n    </g>\n    <g id=\"ytick_2\">\n     <g id=\"line2d_11\">\n      <path d=\"M 53.223625 229.455256 \nL 454.119625 229.455256 \n\" clip-path=\"url(#pf3ec4adba8)\" style=\"fill: none; stroke: #cbcbcb\"/>\n     </g>\n     <g id=\"line2d_12\"/>\n     <g id=\"text_7\">\n      <!-- 1.4 -->\n      <g transform=\"translate(27.45925 234.774162) scale(0.14 -0.14)\">\n       <defs>\n        <path id=\"DejaVuSans-34\" d=\"M 2419 4116 \nL 825 1625 \nL 2419 1625 \nL 2419 4116 \nz\nM 2253 4666 \nL 3047 4666 \nL 3047 1625 \nL 3713 1625 \nL 3713 1100 \nL 3047 1100 \nL 3047 0 \nL 2419 0 \nL 2419 1100 \nL 313 1100 \nL 313 1709 \nL 2253 4666 \nz\n\" transform=\"scale(0.015625)\"/>\n       </defs>\n       <use xlink:href=\"#DejaVuSans-31\"/>\n       <use xlink:href=\"#DejaVuSans-2e\" x=\"63.623047\"/>\n       <use xlink:href=\"#DejaVuSans-34\" x=\"95.410156\"/>\n      </g>\n     </g>\n    </g>\n    <g id=\"ytick_3\">\n     <g id=\"line2d_13\">\n      <path d=\"M 53.223625 188.78726 \nL 454.119625 188.78726 \n\" clip-path=\"url(#pf3ec4adba8)\" style=\"fill: none; stroke: #cbcbcb\"/>\n     </g>\n     <g id=\"line2d_14\"/>\n     <g id=\"text_8\">\n      <!-- 1.6 -->\n      <g transform=\"translate(27.45925 194.106167) scale(0.14 -0.14)\">\n       <defs>\n        <path id=\"DejaVuSans-36\" d=\"M 2113 2584 \nQ 1688 2584 1439 2293 \nQ 1191 2003 1191 1497 \nQ 1191 994 1439 701 \nQ 1688 409 2113 409 \nQ 2538 409 2786 701 \nQ 3034 994 3034 1497 \nQ 3034 2003 2786 2293 \nQ 2538 2584 2113 2584 \nz\nM 3366 4563 \nL 3366 3988 \nQ 3128 4100 2886 4159 \nQ 2644 4219 2406 4219 \nQ 1781 4219 1451 3797 \nQ 1122 3375 1075 2522 \nQ 1259 2794 1537 2939 \nQ 1816 3084 2150 3084 \nQ 2853 3084 3261 2657 \nQ 3669 2231 3669 1497 \nQ 3669 778 3244 343 \nQ 2819 -91 2113 -91 \nQ 1303 -91 875 529 \nQ 447 1150 447 2328 \nQ 447 3434 972 4092 \nQ 1497 4750 2381 4750 \nQ 2619 4750 2861 4703 \nQ 3103 4656 3366 4563 \nz\n\" transform=\"scale(0.015625)\"/>\n       </defs>\n       <use xlink:href=\"#DejaVuSans-31\"/>\n       <use xlink:href=\"#DejaVuSans-2e\" x=\"63.623047\"/>\n       <use xlink:href=\"#DejaVuSans-36\" x=\"95.410156\"/>\n      </g>\n     </g>\n    </g>\n    <g id=\"ytick_4\">\n     <g id=\"line2d_15\">\n      <path d=\"M 53.223625 148.119264 \nL 454.119625 148.119264 \n\" clip-path=\"url(#pf3ec4adba8)\" style=\"fill: none; stroke: #cbcbcb\"/>\n     </g>\n     <g id=\"line2d_16\"/>\n     <g id=\"text_9\">\n      <!-- 1.8 -->\n      <g transform=\"translate(27.45925 153.438171) scale(0.14 -0.14)\">\n       <defs>\n        <path id=\"DejaVuSans-38\" d=\"M 2034 2216 \nQ 1584 2216 1326 1975 \nQ 1069 1734 1069 1313 \nQ 1069 891 1326 650 \nQ 1584 409 2034 409 \nQ 2484 409 2743 651 \nQ 3003 894 3003 1313 \nQ 3003 1734 2745 1975 \nQ 2488 2216 2034 2216 \nz\nM 1403 2484 \nQ 997 2584 770 2862 \nQ 544 3141 544 3541 \nQ 544 4100 942 4425 \nQ 1341 4750 2034 4750 \nQ 2731 4750 3128 4425 \nQ 3525 4100 3525 3541 \nQ 3525 3141 3298 2862 \nQ 3072 2584 2669 2484 \nQ 3125 2378 3379 2068 \nQ 3634 1759 3634 1313 \nQ 3634 634 3220 271 \nQ 2806 -91 2034 -91 \nQ 1263 -91 848 271 \nQ 434 634 434 1313 \nQ 434 1759 690 2068 \nQ 947 2378 1403 2484 \nz\nM 1172 3481 \nQ 1172 3119 1398 2916 \nQ 1625 2713 2034 2713 \nQ 2441 2713 2670 2916 \nQ 2900 3119 2900 3481 \nQ 2900 3844 2670 4047 \nQ 2441 4250 2034 4250 \nQ 1625 4250 1398 4047 \nQ 1172 3844 1172 3481 \nz\n\" transform=\"scale(0.015625)\"/>\n       </defs>\n       <use xlink:href=\"#DejaVuSans-31\"/>\n       <use xlink:href=\"#DejaVuSans-2e\" x=\"63.623047\"/>\n       <use xlink:href=\"#DejaVuSans-38\" x=\"95.410156\"/>\n      </g>\n     </g>\n    </g>\n    <g id=\"ytick_5\">\n     <g id=\"line2d_17\">\n      <path d=\"M 53.223625 107.451269 \nL 454.119625 107.451269 \n\" clip-path=\"url(#pf3ec4adba8)\" style=\"fill: none; stroke: #cbcbcb\"/>\n     </g>\n     <g id=\"line2d_18\"/>\n     <g id=\"text_10\">\n      <!-- 2.0 -->\n      <g transform=\"translate(27.45925 112.770175) scale(0.14 -0.14)\">\n       <use xlink:href=\"#DejaVuSans-32\"/>\n       <use xlink:href=\"#DejaVuSans-2e\" x=\"63.623047\"/>\n       <use xlink:href=\"#DejaVuSans-30\" x=\"95.410156\"/>\n      </g>\n     </g>\n    </g>\n    <g id=\"ytick_6\">\n     <g id=\"line2d_19\">\n      <path d=\"M 53.223625 66.783273 \nL 454.119625 66.783273 \n\" clip-path=\"url(#pf3ec4adba8)\" style=\"fill: none; stroke: #cbcbcb\"/>\n     </g>\n     <g id=\"line2d_20\"/>\n     <g id=\"text_11\">\n      <!-- 2.2 -->\n      <g transform=\"translate(27.45925 72.102179) scale(0.14 -0.14)\">\n       <use xlink:href=\"#DejaVuSans-32\"/>\n       <use xlink:href=\"#DejaVuSans-2e\" x=\"63.623047\"/>\n       <use xlink:href=\"#DejaVuSans-32\" x=\"95.410156\"/>\n      </g>\n     </g>\n    </g>\n    <g id=\"ytick_7\">\n     <g id=\"line2d_21\">\n      <path d=\"M 53.223625 26.115277 \nL 454.119625 26.115277 \n\" clip-path=\"url(#pf3ec4adba8)\" style=\"fill: none; stroke: #cbcbcb\"/>\n     </g>\n     <g id=\"line2d_22\"/>\n     <g id=\"text_12\">\n      <!-- 2.4 -->\n      <g transform=\"translate(27.45925 31.434183) scale(0.14 -0.14)\">\n       <use xlink:href=\"#DejaVuSans-32\"/>\n       <use xlink:href=\"#DejaVuSans-2e\" x=\"63.623047\"/>\n       <use xlink:href=\"#DejaVuSans-34\" x=\"95.410156\"/>\n      </g>\n     </g>\n    </g>\n    <g id=\"text_13\">\n     <!-- Loss -->\n     <g transform=\"translate(19.965375 165.592875) rotate(-90) scale(0.168 -0.168)\">\n      <defs>\n       <path id=\"DejaVuSans-6f\" d=\"M 1959 3097 \nQ 1497 3097 1228 2736 \nQ 959 2375 959 1747 \nQ 959 1119 1226 758 \nQ 1494 397 1959 397 \nQ 2419 397 2687 759 \nQ 2956 1122 2956 1747 \nQ 2956 2369 2687 2733 \nQ 2419 3097 1959 3097 \nz\nM 1959 3584 \nQ 2709 3584 3137 3096 \nQ 3566 2609 3566 1747 \nQ 3566 888 3137 398 \nQ 2709 -91 1959 -91 \nQ 1206 -91 779 398 \nQ 353 888 353 1747 \nQ 353 2609 779 3096 \nQ 1206 3584 1959 3584 \nz\n\" transform=\"scale(0.015625)\"/>\n       <path id=\"DejaVuSans-73\" d=\"M 2834 3397 \nL 2834 2853 \nQ 2591 2978 2328 3040 \nQ 2066 3103 1784 3103 \nQ 1356 3103 1142 2972 \nQ 928 2841 928 2578 \nQ 928 2378 1081 2264 \nQ 1234 2150 1697 2047 \nL 1894 2003 \nQ 2506 1872 2764 1633 \nQ 3022 1394 3022 966 \nQ 3022 478 2636 193 \nQ 2250 -91 1575 -91 \nQ 1294 -91 989 -36 \nQ 684 19 347 128 \nL 347 722 \nQ 666 556 975 473 \nQ 1284 391 1588 391 \nQ 1994 391 2212 530 \nQ 2431 669 2431 922 \nQ 2431 1156 2273 1281 \nQ 2116 1406 1581 1522 \nL 1381 1569 \nQ 847 1681 609 1914 \nQ 372 2147 372 2553 \nQ 372 3047 722 3315 \nQ 1072 3584 1716 3584 \nQ 2034 3584 2315 3537 \nQ 2597 3491 2834 3397 \nz\n\" transform=\"scale(0.015625)\"/>\n      </defs>\n      <use xlink:href=\"#DejaVuSans-4c\"/>\n      <use xlink:href=\"#DejaVuSans-6f\" x=\"53.962891\"/>\n      <use xlink:href=\"#DejaVuSans-73\" x=\"115.144531\"/>\n      <use xlink:href=\"#DejaVuSans-73\" x=\"167.244141\"/>\n     </g>\n    </g>\n   </g>\n   <g id=\"line2d_23\">\n    <path d=\"M 71.44617 274.411636 \nL 78.735189 193.800894 \nL 82.379698 153.814317 \nL 86.024207 130.18811 \nL 89.668716 114.118726 \nL 93.313225 102.801797 \nL 96.957734 94.093809 \nL 100.602243 87.391145 \nL 104.246752 82.163364 \nL 107.891261 77.786006 \nL 111.53577 74.070354 \nL 115.18028 70.848809 \nL 118.824789 68.667595 \nL 122.469298 66.461584 \nL 126.113807 64.380355 \nL 129.758316 62.74503 \nL 133.402825 61.147363 \nL 137.047334 59.889351 \nL 140.691843 58.70438 \nL 144.336352 57.593861 \nL 147.980861 56.656784 \nL 151.62537 55.698973 \nL 155.26988 54.87719 \nL 158.914389 54.174335 \nL 162.558898 53.423361 \nL 166.203407 52.775491 \nL 169.847916 52.22297 \nL 173.492425 51.69599 \nL 177.136934 51.080369 \nL 180.781443 50.689753 \nL 184.425952 50.079734 \nL 188.070461 49.63997 \nL 191.71497 49.139873 \nL 195.35948 48.688634 \nL 199.003989 48.308302 \nL 202.648498 47.881787 \nL 206.293007 47.628099 \nL 209.937516 47.321122 \nL 213.582025 47.05491 \nL 217.226534 46.891438 \nL 220.871043 46.664489 \nL 224.515552 46.432771 \nL 228.160061 46.268798 \nL 231.80457 45.89176 \nL 235.44908 45.740515 \nL 239.093589 45.559811 \nL 242.738098 45.440377 \nL 246.382607 45.10502 \nL 250.027116 44.888693 \nL 253.671625 44.753077 \nL 257.316134 44.575231 \nL 260.960643 44.415685 \nL 264.605152 44.200236 \nL 268.249661 44.012068 \nL 271.89417 43.873949 \nL 275.53868 43.820134 \nL 279.183189 43.640601 \nL 282.827698 43.524263 \nL 286.472207 43.35932 \nL 290.116716 43.308748 \nL 293.761225 43.317754 \nL 297.405734 43.22833 \nL 301.050243 43.150529 \nL 304.694752 43.155625 \nL 308.339261 43.089928 \nL 311.98377 43.137447 \nL 315.62828 43.236256 \nL 319.272789 43.373872 \nL 322.917298 43.457441 \nL 326.561807 43.640387 \nL 330.206316 43.835427 \nL 333.850825 44.185012 \nL 337.495334 44.544814 \nL 341.139843 45.036089 \nL 344.784352 45.515243 \nL 348.428861 46.145919 \nL 352.07337 46.887787 \nL 355.71788 47.731401 \nL 359.362389 48.665146 \nL 363.006898 49.857127 \nL 366.651407 51.14885 \nL 370.295916 52.67745 \nL 373.940425 54.450613 \nL 377.584934 56.338203 \nL 381.229443 58.551799 \nL 384.873952 61.069982 \nL 388.518461 63.955836 \nL 392.16297 67.067189 \nL 395.80748 70.547977 \nL 399.451989 74.163939 \nL 403.096498 78.047625 \nL 406.741007 81.978457 \nL 410.385516 85.521079 \nL 414.030025 88.322529 \nL 417.674534 89.894924 \nL 421.319043 86.724263 \nL 424.963552 75.820883 \nL 428.608061 59.934049 \nL 432.25257 35.825676 \nL 435.89708 19.924364 \n\" clip-path=\"url(#pf3ec4adba8)\" style=\"fill: none; stroke: #008fd5; stroke-width: 4\"/>\n   </g>\n   <g id=\"line2d_24\">\n    <path d=\"M 403.096498 78.047625 \n\" clip-path=\"url(#pf3ec4adba8)\" style=\"fill: none; stroke: #ff0000; stroke-width: 4\"/>\n    <defs>\n     <path id=\"mf5f31b66da\" d=\"M 0 5 \nC 1.326016 5 2.597899 4.473168 3.535534 3.535534 \nC 4.473168 2.597899 5 1.326016 5 0 \nC 5 -1.326016 4.473168 -2.597899 3.535534 -3.535534 \nC 2.597899 -4.473168 1.326016 -5 0 -5 \nC -1.326016 -5 -2.597899 -4.473168 -3.535534 -3.535534 \nC -4.473168 -2.597899 -5 -1.326016 -5 0 \nC -5 1.326016 -4.473168 2.597899 -3.535534 3.535534 \nC -2.597899 4.473168 -1.326016 5 0 5 \nz\n\" style=\"stroke: #ff0000\"/>\n    </defs>\n    <g clip-path=\"url(#pf3ec4adba8)\">\n     <use xlink:href=\"#mf5f31b66da\" x=\"403.096498\" y=\"78.047625\" style=\"fill: #ff0000; stroke: #ff0000\"/>\n    </g>\n   </g>\n   <g id=\"patch_3\">\n    <path d=\"M 53.223625 287.136 \nL 53.223625 7.2 \n\" style=\"fill: none; stroke: #f0f0f0; stroke-width: 3; stroke-linejoin: miter; stroke-linecap: square\"/>\n   </g>\n   <g id=\"patch_4\">\n    <path d=\"M 454.119625 287.136 \nL 454.119625 7.2 \n\" style=\"fill: none; stroke: #f0f0f0; stroke-width: 3; stroke-linejoin: miter; stroke-linecap: square\"/>\n   </g>\n   <g id=\"patch_5\">\n    <path d=\"M 53.223625 287.136 \nL 454.119625 287.136 \n\" style=\"fill: none; stroke: #f0f0f0; stroke-width: 3; stroke-linejoin: miter; stroke-linecap: square\"/>\n   </g>\n   <g id=\"patch_6\">\n    <path d=\"M 53.223625 7.2 \nL 454.119625 7.2 \n\" style=\"fill: none; stroke: #f0f0f0; stroke-width: 3; stroke-linejoin: miter; stroke-linecap: square\"/>\n   </g>\n  </g>\n </g>\n <defs>\n  <clipPath id=\"pf3ec4adba8\">\n   <rect x=\"53.223625\" y=\"7.2\" width=\"400.896\" height=\"279.936\"/>\n  </clipPath>\n </defs>\n</svg>\n",
      "text/plain": [
       "<Figure size 640x480 with 1 Axes>"
      ]
     },
     "metadata": {},
     "output_type": "display_data"
    }
   ],
   "source": [
    "# run learning rate finder, results override hparams.learning_rate\n",
    "trainer = pl.Trainer(auto_lr_find=True)\n",
    "\n",
    "# call tune to find the lr\n",
    "#lr_finder = trainer.tune(makemore, train_dataloaders=data)\n",
    "lr_finder = trainer.tuner.lr_find(model, train_dataloaders=data.train_dl)\n",
    "\n",
    "# Results can be found in\n",
    "#print(lr_finder.results)\n",
    "print (lr_finder.suggestion())\n",
    "\n",
    "fig = lr_finder.plot(suggest=True)\n",
    "fig.show()"
   ]
  },
  {
   "cell_type": "code",
   "execution_count": 24,
   "metadata": {},
   "outputs": [
    {
     "name": "stderr",
     "output_type": "stream",
     "text": [
      "GPU available: True (mps), used: False\n",
      "TPU available: False, using: 0 TPU cores\n",
      "IPU available: False, using: 0 IPUs\n",
      "HPU available: False, using: 0 HPUs\n",
      "\n",
      "  | Name      | Type               | Params\n",
      "-------------------------------------------------\n",
      "0 | model     | Sequential         | 7.9 K \n",
      "1 | train_acc | MulticlassAccuracy | 0     \n",
      "-------------------------------------------------\n",
      "7.9 K     Trainable params\n",
      "0         Non-trainable params\n",
      "7.9 K     Total params\n",
      "0.031     Total estimated model params size (MB)\n"
     ]
    },
    {
     "data": {
      "application/vnd.jupyter.widget-view+json": {
       "model_id": "8b4ff721a28a41609c646d1daf473f14",
       "version_major": 2,
       "version_minor": 0
      },
      "text/plain": [
       "Sanity Checking: 0it [00:00, ?it/s]"
      ]
     },
     "metadata": {},
     "output_type": "display_data"
    },
    {
     "data": {
      "application/vnd.jupyter.widget-view+json": {
       "model_id": "8eed0a2e28474dfeaf79566ccd1b95d7",
       "version_major": 2,
       "version_minor": 0
      },
      "text/plain": [
       "Training: 0it [00:00, ?it/s]"
      ]
     },
     "metadata": {},
     "output_type": "display_data"
    },
    {
     "data": {
      "application/vnd.jupyter.widget-view+json": {
       "model_id": "2d9c674e6f6641a28c1946f0cca4fd85",
       "version_major": 2,
       "version_minor": 0
      },
      "text/plain": [
       "Validation: 0it [00:00, ?it/s]"
      ]
     },
     "metadata": {},
     "output_type": "display_data"
    },
    {
     "data": {
      "application/vnd.jupyter.widget-view+json": {
       "model_id": "18c7a004a6624c72816bf1251b946a70",
       "version_major": 2,
       "version_minor": 0
      },
      "text/plain": [
       "Validation: 0it [00:00, ?it/s]"
      ]
     },
     "metadata": {},
     "output_type": "display_data"
    },
    {
     "data": {
      "application/vnd.jupyter.widget-view+json": {
       "model_id": "37387fbe8ace45809afb94d19a586934",
       "version_major": 2,
       "version_minor": 0
      },
      "text/plain": [
       "Validation: 0it [00:00, ?it/s]"
      ]
     },
     "metadata": {},
     "output_type": "display_data"
    },
    {
     "data": {
      "application/vnd.jupyter.widget-view+json": {
       "model_id": "f9db9ffebac24c9cb4a4128207aed1f8",
       "version_major": 2,
       "version_minor": 0
      },
      "text/plain": [
       "Validation: 0it [00:00, ?it/s]"
      ]
     },
     "metadata": {},
     "output_type": "display_data"
    },
    {
     "data": {
      "application/vnd.jupyter.widget-view+json": {
       "model_id": "3a7214cb931347ddbff9f33f806ed12d",
       "version_major": 2,
       "version_minor": 0
      },
      "text/plain": [
       "Validation: 0it [00:00, ?it/s]"
      ]
     },
     "metadata": {},
     "output_type": "display_data"
    },
    {
     "data": {
      "application/vnd.jupyter.widget-view+json": {
       "model_id": "f4a3328768134d35be7766b0467b9404",
       "version_major": 2,
       "version_minor": 0
      },
      "text/plain": [
       "Validation: 0it [00:00, ?it/s]"
      ]
     },
     "metadata": {},
     "output_type": "display_data"
    },
    {
     "data": {
      "application/vnd.jupyter.widget-view+json": {
       "model_id": "de5385640473485e91dc4f9cdccab87e",
       "version_major": 2,
       "version_minor": 0
      },
      "text/plain": [
       "Validation: 0it [00:00, ?it/s]"
      ]
     },
     "metadata": {},
     "output_type": "display_data"
    },
    {
     "data": {
      "application/vnd.jupyter.widget-view+json": {
       "model_id": "34528b355a974b60a59306c9bd6bb767",
       "version_major": 2,
       "version_minor": 0
      },
      "text/plain": [
       "Validation: 0it [00:00, ?it/s]"
      ]
     },
     "metadata": {},
     "output_type": "display_data"
    },
    {
     "data": {
      "application/vnd.jupyter.widget-view+json": {
       "model_id": "26e15e04fc1e4fc7a09084f8a50c4a48",
       "version_major": 2,
       "version_minor": 0
      },
      "text/plain": [
       "Validation: 0it [00:00, ?it/s]"
      ]
     },
     "metadata": {},
     "output_type": "display_data"
    },
    {
     "data": {
      "application/vnd.jupyter.widget-view+json": {
       "model_id": "e3559b7a32d84706bdc1f3f097ad8b2d",
       "version_major": 2,
       "version_minor": 0
      },
      "text/plain": [
       "Validation: 0it [00:00, ?it/s]"
      ]
     },
     "metadata": {},
     "output_type": "display_data"
    },
    {
     "data": {
      "application/vnd.jupyter.widget-view+json": {
       "model_id": "d919828c063240f6b5fd0bbd0ced2aff",
       "version_major": 2,
       "version_minor": 0
      },
      "text/plain": [
       "Validation: 0it [00:00, ?it/s]"
      ]
     },
     "metadata": {},
     "output_type": "display_data"
    },
    {
     "data": {
      "application/vnd.jupyter.widget-view+json": {
       "model_id": "29cf8084230a49f8a684865881e56288",
       "version_major": 2,
       "version_minor": 0
      },
      "text/plain": [
       "Validation: 0it [00:00, ?it/s]"
      ]
     },
     "metadata": {},
     "output_type": "display_data"
    },
    {
     "data": {
      "application/vnd.jupyter.widget-view+json": {
       "model_id": "d50966960457441384584545554478ef",
       "version_major": 2,
       "version_minor": 0
      },
      "text/plain": [
       "Validation: 0it [00:00, ?it/s]"
      ]
     },
     "metadata": {},
     "output_type": "display_data"
    },
    {
     "data": {
      "application/vnd.jupyter.widget-view+json": {
       "model_id": "93f4d0a74c534762ac704ef7d281efda",
       "version_major": 2,
       "version_minor": 0
      },
      "text/plain": [
       "Validation: 0it [00:00, ?it/s]"
      ]
     },
     "metadata": {},
     "output_type": "display_data"
    },
    {
     "data": {
      "application/vnd.jupyter.widget-view+json": {
       "model_id": "0fbf87b334b74b86a24a932a009dec38",
       "version_major": 2,
       "version_minor": 0
      },
      "text/plain": [
       "Validation: 0it [00:00, ?it/s]"
      ]
     },
     "metadata": {},
     "output_type": "display_data"
    },
    {
     "data": {
      "application/vnd.jupyter.widget-view+json": {
       "model_id": "b19b08b336e546609a13e100a0093dda",
       "version_major": 2,
       "version_minor": 0
      },
      "text/plain": [
       "Validation: 0it [00:00, ?it/s]"
      ]
     },
     "metadata": {},
     "output_type": "display_data"
    },
    {
     "data": {
      "application/vnd.jupyter.widget-view+json": {
       "model_id": "75ab7bb6b6e745c9a71de844e9f8cb8f",
       "version_major": 2,
       "version_minor": 0
      },
      "text/plain": [
       "Validation: 0it [00:00, ?it/s]"
      ]
     },
     "metadata": {},
     "output_type": "display_data"
    },
    {
     "data": {
      "application/vnd.jupyter.widget-view+json": {
       "model_id": "db891077e19d4bce9a3adfee8ee94938",
       "version_major": 2,
       "version_minor": 0
      },
      "text/plain": [
       "Validation: 0it [00:00, ?it/s]"
      ]
     },
     "metadata": {},
     "output_type": "display_data"
    },
    {
     "data": {
      "application/vnd.jupyter.widget-view+json": {
       "model_id": "cf40b94e460d4b869ab317eb320c09c4",
       "version_major": 2,
       "version_minor": 0
      },
      "text/plain": [
       "Validation: 0it [00:00, ?it/s]"
      ]
     },
     "metadata": {},
     "output_type": "display_data"
    },
    {
     "data": {
      "application/vnd.jupyter.widget-view+json": {
       "model_id": "e52d0a3506df423e96067415d273403d",
       "version_major": 2,
       "version_minor": 0
      },
      "text/plain": [
       "Validation: 0it [00:00, ?it/s]"
      ]
     },
     "metadata": {},
     "output_type": "display_data"
    },
    {
     "data": {
      "application/vnd.jupyter.widget-view+json": {
       "model_id": "f1355e00b6f24eef9ae4577144007433",
       "version_major": 2,
       "version_minor": 0
      },
      "text/plain": [
       "Validation: 0it [00:00, ?it/s]"
      ]
     },
     "metadata": {},
     "output_type": "display_data"
    },
    {
     "data": {
      "application/vnd.jupyter.widget-view+json": {
       "model_id": "0d869c8fb013409a92c0334467af3955",
       "version_major": 2,
       "version_minor": 0
      },
      "text/plain": [
       "Validation: 0it [00:00, ?it/s]"
      ]
     },
     "metadata": {},
     "output_type": "display_data"
    },
    {
     "data": {
      "application/vnd.jupyter.widget-view+json": {
       "model_id": "7c68846731de4a95ae285741cb9c03b1",
       "version_major": 2,
       "version_minor": 0
      },
      "text/plain": [
       "Validation: 0it [00:00, ?it/s]"
      ]
     },
     "metadata": {},
     "output_type": "display_data"
    },
    {
     "data": {
      "application/vnd.jupyter.widget-view+json": {
       "model_id": "e6b06e3bc0f3430797d1e4d0358c3767",
       "version_major": 2,
       "version_minor": 0
      },
      "text/plain": [
       "Validation: 0it [00:00, ?it/s]"
      ]
     },
     "metadata": {},
     "output_type": "display_data"
    },
    {
     "data": {
      "application/vnd.jupyter.widget-view+json": {
       "model_id": "677919bc479d47dcbcdfd534c14fd6ac",
       "version_major": 2,
       "version_minor": 0
      },
      "text/plain": [
       "Validation: 0it [00:00, ?it/s]"
      ]
     },
     "metadata": {},
     "output_type": "display_data"
    },
    {
     "data": {
      "application/vnd.jupyter.widget-view+json": {
       "model_id": "af73a1762e4a449ab4c8cf367d5ebde7",
       "version_major": 2,
       "version_minor": 0
      },
      "text/plain": [
       "Validation: 0it [00:00, ?it/s]"
      ]
     },
     "metadata": {},
     "output_type": "display_data"
    },
    {
     "data": {
      "application/vnd.jupyter.widget-view+json": {
       "model_id": "e23cb81842514a3f94c0c0fbcaf46d8a",
       "version_major": 2,
       "version_minor": 0
      },
      "text/plain": [
       "Validation: 0it [00:00, ?it/s]"
      ]
     },
     "metadata": {},
     "output_type": "display_data"
    },
    {
     "data": {
      "application/vnd.jupyter.widget-view+json": {
       "model_id": "f38e7c2fcc7e45dda8cd5f5258d618ac",
       "version_major": 2,
       "version_minor": 0
      },
      "text/plain": [
       "Validation: 0it [00:00, ?it/s]"
      ]
     },
     "metadata": {},
     "output_type": "display_data"
    },
    {
     "data": {
      "application/vnd.jupyter.widget-view+json": {
       "model_id": "91e11a16c6da43208bd1270cec77ad1c",
       "version_major": 2,
       "version_minor": 0
      },
      "text/plain": [
       "Validation: 0it [00:00, ?it/s]"
      ]
     },
     "metadata": {},
     "output_type": "display_data"
    },
    {
     "data": {
      "application/vnd.jupyter.widget-view+json": {
       "model_id": "33febc4927fb459782f5be5afefee563",
       "version_major": 2,
       "version_minor": 0
      },
      "text/plain": [
       "Validation: 0it [00:00, ?it/s]"
      ]
     },
     "metadata": {},
     "output_type": "display_data"
    },
    {
     "data": {
      "application/vnd.jupyter.widget-view+json": {
       "model_id": "ba69d3e969d341fa983a337404a37a5f",
       "version_major": 2,
       "version_minor": 0
      },
      "text/plain": [
       "Validation: 0it [00:00, ?it/s]"
      ]
     },
     "metadata": {},
     "output_type": "display_data"
    },
    {
     "data": {
      "application/vnd.jupyter.widget-view+json": {
       "model_id": "8a78da59908b422f985b485b65fa86fc",
       "version_major": 2,
       "version_minor": 0
      },
      "text/plain": [
       "Validation: 0it [00:00, ?it/s]"
      ]
     },
     "metadata": {},
     "output_type": "display_data"
    },
    {
     "data": {
      "application/vnd.jupyter.widget-view+json": {
       "model_id": "d6a86890f4b8497eae1afd5f1188b2ef",
       "version_major": 2,
       "version_minor": 0
      },
      "text/plain": [
       "Validation: 0it [00:00, ?it/s]"
      ]
     },
     "metadata": {},
     "output_type": "display_data"
    },
    {
     "data": {
      "application/vnd.jupyter.widget-view+json": {
       "model_id": "2adc8c1e690a4fe894185a7748e38d09",
       "version_major": 2,
       "version_minor": 0
      },
      "text/plain": [
       "Validation: 0it [00:00, ?it/s]"
      ]
     },
     "metadata": {},
     "output_type": "display_data"
    },
    {
     "data": {
      "application/vnd.jupyter.widget-view+json": {
       "model_id": "04da1aaf7a764a3b845e2cc393027ab3",
       "version_major": 2,
       "version_minor": 0
      },
      "text/plain": [
       "Validation: 0it [00:00, ?it/s]"
      ]
     },
     "metadata": {},
     "output_type": "display_data"
    },
    {
     "data": {
      "application/vnd.jupyter.widget-view+json": {
       "model_id": "2d4c1e39f0a84afcbe40037c74a55362",
       "version_major": 2,
       "version_minor": 0
      },
      "text/plain": [
       "Validation: 0it [00:00, ?it/s]"
      ]
     },
     "metadata": {},
     "output_type": "display_data"
    },
    {
     "data": {
      "application/vnd.jupyter.widget-view+json": {
       "model_id": "43fedf9d27334328b9e97c0bb8f8ed9b",
       "version_major": 2,
       "version_minor": 0
      },
      "text/plain": [
       "Validation: 0it [00:00, ?it/s]"
      ]
     },
     "metadata": {},
     "output_type": "display_data"
    },
    {
     "data": {
      "application/vnd.jupyter.widget-view+json": {
       "model_id": "18804143d41c4399b575dc7e2a29a3bc",
       "version_major": 2,
       "version_minor": 0
      },
      "text/plain": [
       "Validation: 0it [00:00, ?it/s]"
      ]
     },
     "metadata": {},
     "output_type": "display_data"
    },
    {
     "data": {
      "application/vnd.jupyter.widget-view+json": {
       "model_id": "4f453bda50d44958851f182c2ef1ceb6",
       "version_major": 2,
       "version_minor": 0
      },
      "text/plain": [
       "Validation: 0it [00:00, ?it/s]"
      ]
     },
     "metadata": {},
     "output_type": "display_data"
    },
    {
     "data": {
      "application/vnd.jupyter.widget-view+json": {
       "model_id": "f02b4c57b2944cafaeec12a66c5538c8",
       "version_major": 2,
       "version_minor": 0
      },
      "text/plain": [
       "Validation: 0it [00:00, ?it/s]"
      ]
     },
     "metadata": {},
     "output_type": "display_data"
    },
    {
     "data": {
      "application/vnd.jupyter.widget-view+json": {
       "model_id": "932494be297042d9a6cefdb7d3233633",
       "version_major": 2,
       "version_minor": 0
      },
      "text/plain": [
       "Validation: 0it [00:00, ?it/s]"
      ]
     },
     "metadata": {},
     "output_type": "display_data"
    },
    {
     "data": {
      "application/vnd.jupyter.widget-view+json": {
       "model_id": "4c42818030d64c0f8b4526ad402a0a6d",
       "version_major": 2,
       "version_minor": 0
      },
      "text/plain": [
       "Validation: 0it [00:00, ?it/s]"
      ]
     },
     "metadata": {},
     "output_type": "display_data"
    },
    {
     "data": {
      "application/vnd.jupyter.widget-view+json": {
       "model_id": "e82a3a8ec07e4c5286bab58de5db438c",
       "version_major": 2,
       "version_minor": 0
      },
      "text/plain": [
       "Validation: 0it [00:00, ?it/s]"
      ]
     },
     "metadata": {},
     "output_type": "display_data"
    },
    {
     "data": {
      "application/vnd.jupyter.widget-view+json": {
       "model_id": "f46d6d38a4794d5f9e397ed7af3ecf02",
       "version_major": 2,
       "version_minor": 0
      },
      "text/plain": [
       "Validation: 0it [00:00, ?it/s]"
      ]
     },
     "metadata": {},
     "output_type": "display_data"
    },
    {
     "data": {
      "application/vnd.jupyter.widget-view+json": {
       "model_id": "c50040f1df6b4a1fab0f7f251d50e128",
       "version_major": 2,
       "version_minor": 0
      },
      "text/plain": [
       "Validation: 0it [00:00, ?it/s]"
      ]
     },
     "metadata": {},
     "output_type": "display_data"
    },
    {
     "data": {
      "application/vnd.jupyter.widget-view+json": {
       "model_id": "8e6b0c55122a4910bf5dab35df147982",
       "version_major": 2,
       "version_minor": 0
      },
      "text/plain": [
       "Validation: 0it [00:00, ?it/s]"
      ]
     },
     "metadata": {},
     "output_type": "display_data"
    },
    {
     "data": {
      "application/vnd.jupyter.widget-view+json": {
       "model_id": "e7cdf470403a4948b5aba0229ee11b06",
       "version_major": 2,
       "version_minor": 0
      },
      "text/plain": [
       "Validation: 0it [00:00, ?it/s]"
      ]
     },
     "metadata": {},
     "output_type": "display_data"
    },
    {
     "data": {
      "application/vnd.jupyter.widget-view+json": {
       "model_id": "9acd65a8fba544d3b480e2bd9369c2c3",
       "version_major": 2,
       "version_minor": 0
      },
      "text/plain": [
       "Validation: 0it [00:00, ?it/s]"
      ]
     },
     "metadata": {},
     "output_type": "display_data"
    },
    {
     "data": {
      "application/vnd.jupyter.widget-view+json": {
       "model_id": "740fd3db2d174c828a2f31638513ff48",
       "version_major": 2,
       "version_minor": 0
      },
      "text/plain": [
       "Validation: 0it [00:00, ?it/s]"
      ]
     },
     "metadata": {},
     "output_type": "display_data"
    },
    {
     "data": {
      "application/vnd.jupyter.widget-view+json": {
       "model_id": "2a3744bbe21e42468e975aa4914b77f8",
       "version_major": 2,
       "version_minor": 0
      },
      "text/plain": [
       "Validation: 0it [00:00, ?it/s]"
      ]
     },
     "metadata": {},
     "output_type": "display_data"
    },
    {
     "data": {
      "application/vnd.jupyter.widget-view+json": {
       "model_id": "a28d7f002b244c318c93fc72bae50c5c",
       "version_major": 2,
       "version_minor": 0
      },
      "text/plain": [
       "Validation: 0it [00:00, ?it/s]"
      ]
     },
     "metadata": {},
     "output_type": "display_data"
    },
    {
     "data": {
      "application/vnd.jupyter.widget-view+json": {
       "model_id": "e90fb62ee8464fcd90ddd3243e214312",
       "version_major": 2,
       "version_minor": 0
      },
      "text/plain": [
       "Validation: 0it [00:00, ?it/s]"
      ]
     },
     "metadata": {},
     "output_type": "display_data"
    },
    {
     "data": {
      "application/vnd.jupyter.widget-view+json": {
       "model_id": "899e00bf7620442dae9efe11faf36a4a",
       "version_major": 2,
       "version_minor": 0
      },
      "text/plain": [
       "Validation: 0it [00:00, ?it/s]"
      ]
     },
     "metadata": {},
     "output_type": "display_data"
    },
    {
     "data": {
      "application/vnd.jupyter.widget-view+json": {
       "model_id": "cf430c7f1a0c46ce985d3e6b92af90de",
       "version_major": 2,
       "version_minor": 0
      },
      "text/plain": [
       "Validation: 0it [00:00, ?it/s]"
      ]
     },
     "metadata": {},
     "output_type": "display_data"
    },
    {
     "data": {
      "application/vnd.jupyter.widget-view+json": {
       "model_id": "f27f73a6c5684eb599ed675fa8d78aa5",
       "version_major": 2,
       "version_minor": 0
      },
      "text/plain": [
       "Validation: 0it [00:00, ?it/s]"
      ]
     },
     "metadata": {},
     "output_type": "display_data"
    },
    {
     "data": {
      "application/vnd.jupyter.widget-view+json": {
       "model_id": "128360dc63cb4ff1948368390fa31078",
       "version_major": 2,
       "version_minor": 0
      },
      "text/plain": [
       "Validation: 0it [00:00, ?it/s]"
      ]
     },
     "metadata": {},
     "output_type": "display_data"
    },
    {
     "data": {
      "application/vnd.jupyter.widget-view+json": {
       "model_id": "79f33c7944794858a5846cf92aa094ea",
       "version_major": 2,
       "version_minor": 0
      },
      "text/plain": [
       "Validation: 0it [00:00, ?it/s]"
      ]
     },
     "metadata": {},
     "output_type": "display_data"
    },
    {
     "data": {
      "application/vnd.jupyter.widget-view+json": {
       "model_id": "90e879f8f83e46f4b978ed2ba9bcd2ee",
       "version_major": 2,
       "version_minor": 0
      },
      "text/plain": [
       "Validation: 0it [00:00, ?it/s]"
      ]
     },
     "metadata": {},
     "output_type": "display_data"
    },
    {
     "data": {
      "application/vnd.jupyter.widget-view+json": {
       "model_id": "6915584bcee34416a070b5187e531596",
       "version_major": 2,
       "version_minor": 0
      },
      "text/plain": [
       "Validation: 0it [00:00, ?it/s]"
      ]
     },
     "metadata": {},
     "output_type": "display_data"
    },
    {
     "data": {
      "application/vnd.jupyter.widget-view+json": {
       "model_id": "cd0b95f4b98a40b7963eaa843d1b17d9",
       "version_major": 2,
       "version_minor": 0
      },
      "text/plain": [
       "Validation: 0it [00:00, ?it/s]"
      ]
     },
     "metadata": {},
     "output_type": "display_data"
    },
    {
     "data": {
      "application/vnd.jupyter.widget-view+json": {
       "model_id": "4d5709e02236473d8533a285958dd167",
       "version_major": 2,
       "version_minor": 0
      },
      "text/plain": [
       "Validation: 0it [00:00, ?it/s]"
      ]
     },
     "metadata": {},
     "output_type": "display_data"
    },
    {
     "data": {
      "application/vnd.jupyter.widget-view+json": {
       "model_id": "b44b74a5919f4135b290ff1c146d075a",
       "version_major": 2,
       "version_minor": 0
      },
      "text/plain": [
       "Validation: 0it [00:00, ?it/s]"
      ]
     },
     "metadata": {},
     "output_type": "display_data"
    },
    {
     "data": {
      "application/vnd.jupyter.widget-view+json": {
       "model_id": "16f8a18e64c149c494d874ba0049b64b",
       "version_major": 2,
       "version_minor": 0
      },
      "text/plain": [
       "Validation: 0it [00:00, ?it/s]"
      ]
     },
     "metadata": {},
     "output_type": "display_data"
    },
    {
     "data": {
      "application/vnd.jupyter.widget-view+json": {
       "model_id": "e65e520d4dc14eb9b772209dd2d2622c",
       "version_major": 2,
       "version_minor": 0
      },
      "text/plain": [
       "Validation: 0it [00:00, ?it/s]"
      ]
     },
     "metadata": {},
     "output_type": "display_data"
    },
    {
     "data": {
      "application/vnd.jupyter.widget-view+json": {
       "model_id": "bc398e43e4a54a69a21809ec16a104f4",
       "version_major": 2,
       "version_minor": 0
      },
      "text/plain": [
       "Validation: 0it [00:00, ?it/s]"
      ]
     },
     "metadata": {},
     "output_type": "display_data"
    },
    {
     "data": {
      "application/vnd.jupyter.widget-view+json": {
       "model_id": "2d22feb7161d41d79f5b52ce60779daa",
       "version_major": 2,
       "version_minor": 0
      },
      "text/plain": [
       "Validation: 0it [00:00, ?it/s]"
      ]
     },
     "metadata": {},
     "output_type": "display_data"
    },
    {
     "data": {
      "application/vnd.jupyter.widget-view+json": {
       "model_id": "0f1c7795b88241a6bc5b1a7e9ce8b0a8",
       "version_major": 2,
       "version_minor": 0
      },
      "text/plain": [
       "Validation: 0it [00:00, ?it/s]"
      ]
     },
     "metadata": {},
     "output_type": "display_data"
    },
    {
     "data": {
      "application/vnd.jupyter.widget-view+json": {
       "model_id": "2667a12f13034af7a5c84824d13e3395",
       "version_major": 2,
       "version_minor": 0
      },
      "text/plain": [
       "Validation: 0it [00:00, ?it/s]"
      ]
     },
     "metadata": {},
     "output_type": "display_data"
    },
    {
     "data": {
      "application/vnd.jupyter.widget-view+json": {
       "model_id": "303b700a163047eaae9c3bb063902f53",
       "version_major": 2,
       "version_minor": 0
      },
      "text/plain": [
       "Validation: 0it [00:00, ?it/s]"
      ]
     },
     "metadata": {},
     "output_type": "display_data"
    },
    {
     "data": {
      "application/vnd.jupyter.widget-view+json": {
       "model_id": "a2ee8c196e29494087890eaba9415e53",
       "version_major": 2,
       "version_minor": 0
      },
      "text/plain": [
       "Validation: 0it [00:00, ?it/s]"
      ]
     },
     "metadata": {},
     "output_type": "display_data"
    },
    {
     "data": {
      "application/vnd.jupyter.widget-view+json": {
       "model_id": "379c724e8e154e4b9ac7c6ea2892ff06",
       "version_major": 2,
       "version_minor": 0
      },
      "text/plain": [
       "Validation: 0it [00:00, ?it/s]"
      ]
     },
     "metadata": {},
     "output_type": "display_data"
    },
    {
     "data": {
      "application/vnd.jupyter.widget-view+json": {
       "model_id": "78ddf7d528b44850a5dc7e8bdf921384",
       "version_major": 2,
       "version_minor": 0
      },
      "text/plain": [
       "Validation: 0it [00:00, ?it/s]"
      ]
     },
     "metadata": {},
     "output_type": "display_data"
    },
    {
     "data": {
      "application/vnd.jupyter.widget-view+json": {
       "model_id": "59501afef0934da4b9016a556b298509",
       "version_major": 2,
       "version_minor": 0
      },
      "text/plain": [
       "Validation: 0it [00:00, ?it/s]"
      ]
     },
     "metadata": {},
     "output_type": "display_data"
    },
    {
     "data": {
      "application/vnd.jupyter.widget-view+json": {
       "model_id": "ab311680fa14407d9b21ebbe259c92e2",
       "version_major": 2,
       "version_minor": 0
      },
      "text/plain": [
       "Validation: 0it [00:00, ?it/s]"
      ]
     },
     "metadata": {},
     "output_type": "display_data"
    },
    {
     "data": {
      "application/vnd.jupyter.widget-view+json": {
       "model_id": "4bae4401593248cb8eeb41ec7aa758f5",
       "version_major": 2,
       "version_minor": 0
      },
      "text/plain": [
       "Validation: 0it [00:00, ?it/s]"
      ]
     },
     "metadata": {},
     "output_type": "display_data"
    },
    {
     "data": {
      "application/vnd.jupyter.widget-view+json": {
       "model_id": "c4d3f66dcdb84deab757de79c2c4b541",
       "version_major": 2,
       "version_minor": 0
      },
      "text/plain": [
       "Validation: 0it [00:00, ?it/s]"
      ]
     },
     "metadata": {},
     "output_type": "display_data"
    },
    {
     "data": {
      "application/vnd.jupyter.widget-view+json": {
       "model_id": "5e5f36ccc1ed4373a2b74474c30c74a7",
       "version_major": 2,
       "version_minor": 0
      },
      "text/plain": [
       "Validation: 0it [00:00, ?it/s]"
      ]
     },
     "metadata": {},
     "output_type": "display_data"
    },
    {
     "data": {
      "application/vnd.jupyter.widget-view+json": {
       "model_id": "8de498d254fe4ea78ec736609979dd48",
       "version_major": 2,
       "version_minor": 0
      },
      "text/plain": [
       "Validation: 0it [00:00, ?it/s]"
      ]
     },
     "metadata": {},
     "output_type": "display_data"
    },
    {
     "data": {
      "application/vnd.jupyter.widget-view+json": {
       "model_id": "846f79eb5a1c439988cb3a56562a746d",
       "version_major": 2,
       "version_minor": 0
      },
      "text/plain": [
       "Validation: 0it [00:00, ?it/s]"
      ]
     },
     "metadata": {},
     "output_type": "display_data"
    },
    {
     "data": {
      "application/vnd.jupyter.widget-view+json": {
       "model_id": "81f1894dcb164775b1d82cc554f48a2a",
       "version_major": 2,
       "version_minor": 0
      },
      "text/plain": [
       "Validation: 0it [00:00, ?it/s]"
      ]
     },
     "metadata": {},
     "output_type": "display_data"
    },
    {
     "data": {
      "application/vnd.jupyter.widget-view+json": {
       "model_id": "321029be01f0407d8122345630f434df",
       "version_major": 2,
       "version_minor": 0
      },
      "text/plain": [
       "Validation: 0it [00:00, ?it/s]"
      ]
     },
     "metadata": {},
     "output_type": "display_data"
    },
    {
     "data": {
      "application/vnd.jupyter.widget-view+json": {
       "model_id": "0dcc140636ae449ba189b437f565ec19",
       "version_major": 2,
       "version_minor": 0
      },
      "text/plain": [
       "Validation: 0it [00:00, ?it/s]"
      ]
     },
     "metadata": {},
     "output_type": "display_data"
    },
    {
     "data": {
      "application/vnd.jupyter.widget-view+json": {
       "model_id": "605f35be371d4ee2aa994390cf687a78",
       "version_major": 2,
       "version_minor": 0
      },
      "text/plain": [
       "Validation: 0it [00:00, ?it/s]"
      ]
     },
     "metadata": {},
     "output_type": "display_data"
    },
    {
     "data": {
      "application/vnd.jupyter.widget-view+json": {
       "model_id": "c789fad428824454977e67902f79a48d",
       "version_major": 2,
       "version_minor": 0
      },
      "text/plain": [
       "Validation: 0it [00:00, ?it/s]"
      ]
     },
     "metadata": {},
     "output_type": "display_data"
    },
    {
     "data": {
      "application/vnd.jupyter.widget-view+json": {
       "model_id": "19305f82c7934a16acfc4ba3d5a3cbaf",
       "version_major": 2,
       "version_minor": 0
      },
      "text/plain": [
       "Validation: 0it [00:00, ?it/s]"
      ]
     },
     "metadata": {},
     "output_type": "display_data"
    },
    {
     "data": {
      "application/vnd.jupyter.widget-view+json": {
       "model_id": "306344c2e6934e9e99475d2663adff8e",
       "version_major": 2,
       "version_minor": 0
      },
      "text/plain": [
       "Validation: 0it [00:00, ?it/s]"
      ]
     },
     "metadata": {},
     "output_type": "display_data"
    },
    {
     "data": {
      "application/vnd.jupyter.widget-view+json": {
       "model_id": "d268492aed284c15a6f04e1f34684b3d",
       "version_major": 2,
       "version_minor": 0
      },
      "text/plain": [
       "Validation: 0it [00:00, ?it/s]"
      ]
     },
     "metadata": {},
     "output_type": "display_data"
    },
    {
     "data": {
      "application/vnd.jupyter.widget-view+json": {
       "model_id": "5da1f6e071b84ffeb930fbcf26bcbdd8",
       "version_major": 2,
       "version_minor": 0
      },
      "text/plain": [
       "Validation: 0it [00:00, ?it/s]"
      ]
     },
     "metadata": {},
     "output_type": "display_data"
    },
    {
     "data": {
      "application/vnd.jupyter.widget-view+json": {
       "model_id": "05f97260378b43e5873396684a57beda",
       "version_major": 2,
       "version_minor": 0
      },
      "text/plain": [
       "Validation: 0it [00:00, ?it/s]"
      ]
     },
     "metadata": {},
     "output_type": "display_data"
    },
    {
     "data": {
      "application/vnd.jupyter.widget-view+json": {
       "model_id": "1be49f5936084c8ba6497c5fba791e05",
       "version_major": 2,
       "version_minor": 0
      },
      "text/plain": [
       "Validation: 0it [00:00, ?it/s]"
      ]
     },
     "metadata": {},
     "output_type": "display_data"
    },
    {
     "data": {
      "application/vnd.jupyter.widget-view+json": {
       "model_id": "67cd98836a1d459eae339e2dff8d1dd2",
       "version_major": 2,
       "version_minor": 0
      },
      "text/plain": [
       "Validation: 0it [00:00, ?it/s]"
      ]
     },
     "metadata": {},
     "output_type": "display_data"
    },
    {
     "data": {
      "application/vnd.jupyter.widget-view+json": {
       "model_id": "06644f69a53b4e869ba3a7620744e05e",
       "version_major": 2,
       "version_minor": 0
      },
      "text/plain": [
       "Validation: 0it [00:00, ?it/s]"
      ]
     },
     "metadata": {},
     "output_type": "display_data"
    },
    {
     "data": {
      "application/vnd.jupyter.widget-view+json": {
       "model_id": "309c29ce2d2740fd90208ce93a61da05",
       "version_major": 2,
       "version_minor": 0
      },
      "text/plain": [
       "Validation: 0it [00:00, ?it/s]"
      ]
     },
     "metadata": {},
     "output_type": "display_data"
    },
    {
     "data": {
      "application/vnd.jupyter.widget-view+json": {
       "model_id": "4979479ba6474b618bee079bd3f65e20",
       "version_major": 2,
       "version_minor": 0
      },
      "text/plain": [
       "Validation: 0it [00:00, ?it/s]"
      ]
     },
     "metadata": {},
     "output_type": "display_data"
    },
    {
     "data": {
      "application/vnd.jupyter.widget-view+json": {
       "model_id": "9ff5e10337b74027ab71e3299c2d4fd6",
       "version_major": 2,
       "version_minor": 0
      },
      "text/plain": [
       "Validation: 0it [00:00, ?it/s]"
      ]
     },
     "metadata": {},
     "output_type": "display_data"
    },
    {
     "data": {
      "application/vnd.jupyter.widget-view+json": {
       "model_id": "39f534afcf24447983b6ca3d5c7f5703",
       "version_major": 2,
       "version_minor": 0
      },
      "text/plain": [
       "Validation: 0it [00:00, ?it/s]"
      ]
     },
     "metadata": {},
     "output_type": "display_data"
    },
    {
     "data": {
      "application/vnd.jupyter.widget-view+json": {
       "model_id": "b150a292bd33432ebe6984678fbffefc",
       "version_major": 2,
       "version_minor": 0
      },
      "text/plain": [
       "Validation: 0it [00:00, ?it/s]"
      ]
     },
     "metadata": {},
     "output_type": "display_data"
    },
    {
     "data": {
      "application/vnd.jupyter.widget-view+json": {
       "model_id": "3406b4a0e3e847b3a93c4f166995cc5c",
       "version_major": 2,
       "version_minor": 0
      },
      "text/plain": [
       "Validation: 0it [00:00, ?it/s]"
      ]
     },
     "metadata": {},
     "output_type": "display_data"
    },
    {
     "data": {
      "application/vnd.jupyter.widget-view+json": {
       "model_id": "f25b66e73941487aab07a7ec94eb77ae",
       "version_major": 2,
       "version_minor": 0
      },
      "text/plain": [
       "Validation: 0it [00:00, ?it/s]"
      ]
     },
     "metadata": {},
     "output_type": "display_data"
    },
    {
     "data": {
      "application/vnd.jupyter.widget-view+json": {
       "model_id": "668a5f9f84ce46ddb0bae2ac09efe803",
       "version_major": 2,
       "version_minor": 0
      },
      "text/plain": [
       "Validation: 0it [00:00, ?it/s]"
      ]
     },
     "metadata": {},
     "output_type": "display_data"
    },
    {
     "name": "stderr",
     "output_type": "stream",
     "text": [
      "`Trainer.fit` stopped: `max_epochs=100` reached.\n"
     ]
    }
   ],
   "source": [
    "lr_monitor = LearningRateMonitor(logging_interval='epoch')\n",
    "trainer = pl.Trainer(max_epochs=100, accelerator=\"cpu\", callbacks=[TQDMProgressBar(refresh_rate=400),lr_monitor])\n",
    "trainer.fit(model=model, train_dataloaders=data.train_dl, val_dataloaders=data.val_dl)"
   ]
  },
  {
   "cell_type": "code",
   "execution_count": 78,
   "metadata": {},
   "outputs": [],
   "source": [
    "#params = model.model.parameters()\n",
    "for p in params:\n",
    "    print (p.data)\n",
    "    #p.data += - lr*p.grad\n",
    "#train_loss.backward()"
   ]
  },
  {
   "cell_type": "code",
   "execution_count": 25,
   "metadata": {},
   "outputs": [],
   "source": [
    "params = model.parameters()"
   ]
  },
  {
   "cell_type": "code",
   "execution_count": 43,
   "metadata": {},
   "outputs": [],
   "source": [
    "lr = 0.1\n",
    "for p in params:\n",
    "    print (p)\n",
    "    #p.data += - lr*p.grad"
   ]
  },
  {
   "cell_type": "code",
   "execution_count": 48,
   "metadata": {},
   "outputs": [],
   "source": [
    "for p in params:\n",
    "    print (p.data)"
   ]
  },
  {
   "cell_type": "code",
   "execution_count": 14,
   "metadata": {},
   "outputs": [],
   "source": [
    "# Old Stuff\n",
    "logits = model.forward(x)"
   ]
  },
  {
   "cell_type": "code",
   "execution_count": 58,
   "metadata": {},
   "outputs": [
    {
     "name": "stdout",
     "output_type": "stream",
     "text": [
      "tensor([0.6406, 0.5222, 0.4915, 0.4848, 0.4681, 0.4480, 0.4468, 0.4631, 0.4741,\n",
      "        0.4507, 0.4299, 0.4564, 0.4625, 0.4321, 0.4556, 0.4444, 0.4424, 0.4497,\n",
      "        0.4328, 0.4584])\n",
      "tensor([0.7713, 0.7137, 0.6581, 0.5372, 0.5227, 0.6012, 0.4754, 0.5462, 0.4909,\n",
      "        0.4973])\n"
     ]
    }
   ],
   "source": [
    "xx = torch.tensor(train_losses)\n",
    "yy = torch.tensor(train_losses)\n",
    "\n",
    "print (xx.view(-1,5).mean(axis=1))\n",
    "print (xx[:10])"
   ]
  },
  {
   "cell_type": "code",
   "execution_count": null,
   "metadata": {},
   "outputs": [],
   "source": []
  },
  {
   "cell_type": "code",
   "execution_count": 7,
   "metadata": {},
   "outputs": [
    {
     "name": "stdout",
     "output_type": "stream",
     "text": [
      "torch.Size([32, 2]) torch.Size([32, 1])\n",
      "Epoch 1\n",
      "-------------------------------\n",
      "loss: 50.698044  [    0/ 2000]\n",
      "Epoch 2\n",
      "-------------------------------\n",
      "loss: 0.206054  [    0/ 2000]\n",
      "Epoch 3\n",
      "-------------------------------\n",
      "loss: 0.097946  [    0/ 2000]\n",
      "Done!\n",
      "\n",
      "The final parameters are (with w = tensor([ 2.0000, -3.4000]) and b = 4.2 as correct answer): \n",
      "OrderedDict([('model.0.weight', tensor([[ 1.9062, -3.2327]])), ('model.0.bias', tensor([4.0953]))])\n",
      "error in estimating w: tensor([[ 0.0938, -0.1673]])\n",
      "error in estimating b: tensor([0.1047])\n"
     ]
    }
   ],
   "source": [
    "# Random data for testing\n",
    "torch.manual_seed(1701)\n",
    "\n",
    "# Create synthetic data\n",
    "num_train=1000\n",
    "num_val=1000\n",
    "w = torch.tensor([2, -3.4])\n",
    "b = 4.2\n",
    "n = num_train + num_val\n",
    "noise = 0.1\n",
    "\n",
    "X = torch.randn((n, len(w)))\n",
    "y = X @ w.reshape(-1, 1) + b + noise\n",
    "\n",
    "\n",
    "class Mydata(Dataset):\n",
    "    def __init__(self, X, y):\n",
    "        self.X = X\n",
    "        self.y = y\n",
    "\n",
    "    def __len__(self):\n",
    "        return len(self.y)\n",
    "\n",
    "    def __getitem__(self, index):\n",
    "        return self.X[index], self.y[index]\n",
    "\n",
    "\n",
    "# Create dataset\n",
    "dataset = Mydata(X, y)\n",
    "\n",
    "# Create dataloader\n",
    "data = DataLoader(dataset, batch_size=32)\n",
    "\n",
    "for x, y in data:\n",
    "    print (x.shape, y.shape)\n",
    "    break\n",
    "\n",
    "\n",
    "# Create model\n",
    "class MyModel(nn.Module):\n",
    "    def __init__(self):\n",
    "        super().__init__()\n",
    "        self.model = nn.Sequential(nn.Linear(2,1))\n",
    "\n",
    "    def forward(self, x):\n",
    "        x = self.model(x)\n",
    "        return x\n",
    "\n",
    "model = MyModel()\n",
    "loss_fn = nn.MSELoss()\n",
    "optimizer = torch.optim.SGD(model.parameters(), lr=0.03, weight_decay=0.1)\n",
    "\n",
    "\n",
    "def train(data, model, loss_fn, optimizer):\n",
    "    size = len(data.dataset)\n",
    "    model.train()\n",
    "    for batch, (X, y) in enumerate(data):\n",
    "        pred = model(X)\n",
    "        loss = loss_fn(pred, y)\n",
    "\n",
    "        optimizer.zero_grad()\n",
    "        loss.backward()\n",
    "        optimizer.step()\n",
    "\n",
    "        if batch % 100 == 0:\n",
    "            loss, current = loss.item(), batch * len(X)\n",
    "            print(f\"loss: {loss:>7f}  [{current:>5d}/{size:>5d}]\")\n",
    "\n",
    "\n",
    "\n",
    "#train(data, model, loss_fn, optimizer)\n",
    "\n",
    "epochs = 3\n",
    "for t in range(epochs):\n",
    "    print(f\"Epoch {t+1}\\n-------------------------------\")\n",
    "    train(data, model, loss_fn, optimizer)\n",
    "print(\"Done!\")\n",
    "\n",
    "#for p in model.parameters():\n",
    "#    print (p)\n",
    "\n",
    "print (f'\\nThe final parameters are (with w = {w} and b = {b} as correct answer): ')\n",
    "print (model.state_dict())\n",
    "answ = w - model.state_dict()['model.0.weight']\n",
    "ansb = b - model.state_dict()['model.0.bias']\n",
    "print(f'error in estimating w: {answ}')\n",
    "print(f'error in estimating b: {ansb}')\n",
    "\n",
    "\n",
    "\n"
   ]
  },
  {
   "cell_type": "markdown",
   "metadata": {},
   "source": []
  },
  {
   "cell_type": "code",
   "execution_count": 34,
   "metadata": {},
   "outputs": [
    {
     "data": {
      "text/plain": [
       "OrderedDict([('model.0.weight', tensor([[ 2.0000, -3.3999]])),\n",
       "             ('model.0.bias', tensor([4.2999]))])"
      ]
     },
     "execution_count": 34,
     "metadata": {},
     "output_type": "execute_result"
    }
   ],
   "source": [
    "model.state_dict()"
   ]
  },
  {
   "cell_type": "code",
   "execution_count": 77,
   "metadata": {},
   "outputs": [
    {
     "name": "stderr",
     "output_type": "stream",
     "text": [
      "No artists with labels found to put in legend.  Note that artists whose label start with an underscore are ignored when legend() is called with no argument.\n"
     ]
    },
    {
     "data": {
      "image/svg+xml": "<?xml version=\"1.0\" encoding=\"utf-8\" standalone=\"no\"?>\n<!DOCTYPE svg PUBLIC \"-//W3C//DTD SVG 1.1//EN\"\n  \"http://www.w3.org/Graphics/SVG/1.1/DTD/svg11.dtd\">\n<svg xmlns:xlink=\"http://www.w3.org/1999/xlink\" width=\"424.911875pt\" height=\"264.729375pt\" viewBox=\"0 0 424.911875 264.729375\" xmlns=\"http://www.w3.org/2000/svg\" version=\"1.1\">\n <metadata>\n  <rdf:RDF xmlns:dc=\"http://purl.org/dc/elements/1.1/\" xmlns:cc=\"http://creativecommons.org/ns#\" xmlns:rdf=\"http://www.w3.org/1999/02/22-rdf-syntax-ns#\">\n   <cc:Work>\n    <dc:type rdf:resource=\"http://purl.org/dc/dcmitype/StillImage\"/>\n    <dc:date>2023-01-19T10:06:34.317885</dc:date>\n    <dc:format>image/svg+xml</dc:format>\n    <dc:creator>\n     <cc:Agent>\n      <dc:title>Matplotlib v3.6.3, https://matplotlib.org/</dc:title>\n     </cc:Agent>\n    </dc:creator>\n   </cc:Work>\n  </rdf:RDF>\n </metadata>\n <defs>\n  <style type=\"text/css\">*{stroke-linejoin: round; stroke-linecap: butt}</style>\n </defs>\n <g id=\"figure_1\">\n  <g id=\"patch_1\">\n   <path d=\"M -0 264.729375 \nL 424.911875 264.729375 \nL 424.911875 0 \nL -0 0 \nz\n\" style=\"fill: #f0f0f0\"/>\n  </g>\n  <g id=\"axes_1\">\n   <g id=\"patch_2\">\n    <path d=\"M 41.871875 240.48 \nL 417.711875 240.48 \nL 417.711875 7.2 \nL 41.871875 7.2 \nz\n\" style=\"fill: #f0f0f0\"/>\n   </g>\n   <g id=\"matplotlib.axis_1\">\n    <g id=\"xtick_1\">\n     <g id=\"line2d_1\">\n      <path d=\"M 58.955511 240.48 \nL 58.955511 7.2 \n\" clip-path=\"url(#p1449ba2209)\" style=\"fill: none; stroke: #cbcbcb\"/>\n     </g>\n     <g id=\"line2d_2\"/>\n     <g id=\"text_1\">\n      <!-- 0.0 -->\n      <g transform=\"translate(47.823324 254.617813) scale(0.14 -0.14)\">\n       <defs>\n        <path id=\"DejaVuSans-30\" d=\"M 2034 4250 \nQ 1547 4250 1301 3770 \nQ 1056 3291 1056 2328 \nQ 1056 1369 1301 889 \nQ 1547 409 2034 409 \nQ 2525 409 2770 889 \nQ 3016 1369 3016 2328 \nQ 3016 3291 2770 3770 \nQ 2525 4250 2034 4250 \nz\nM 2034 4750 \nQ 2819 4750 3233 4129 \nQ 3647 3509 3647 2328 \nQ 3647 1150 3233 529 \nQ 2819 -91 2034 -91 \nQ 1250 -91 836 529 \nQ 422 1150 422 2328 \nQ 422 3509 836 4129 \nQ 1250 4750 2034 4750 \nz\n\" transform=\"scale(0.015625)\"/>\n        <path id=\"DejaVuSans-2e\" d=\"M 684 794 \nL 1344 794 \nL 1344 0 \nL 684 0 \nL 684 794 \nz\n\" transform=\"scale(0.015625)\"/>\n       </defs>\n       <use xlink:href=\"#DejaVuSans-30\"/>\n       <use xlink:href=\"#DejaVuSans-2e\" x=\"63.623047\"/>\n       <use xlink:href=\"#DejaVuSans-30\" x=\"95.410156\"/>\n      </g>\n     </g>\n    </g>\n    <g id=\"xtick_2\">\n     <g id=\"line2d_3\">\n      <path d=\"M 115.900966 240.48 \nL 115.900966 7.2 \n\" clip-path=\"url(#p1449ba2209)\" style=\"fill: none; stroke: #cbcbcb\"/>\n     </g>\n     <g id=\"line2d_4\"/>\n     <g id=\"text_2\">\n      <!-- 0.5 -->\n      <g transform=\"translate(104.768778 254.617813) scale(0.14 -0.14)\">\n       <defs>\n        <path id=\"DejaVuSans-35\" d=\"M 691 4666 \nL 3169 4666 \nL 3169 4134 \nL 1269 4134 \nL 1269 2991 \nQ 1406 3038 1543 3061 \nQ 1681 3084 1819 3084 \nQ 2600 3084 3056 2656 \nQ 3513 2228 3513 1497 \nQ 3513 744 3044 326 \nQ 2575 -91 1722 -91 \nQ 1428 -91 1123 -41 \nQ 819 9 494 109 \nL 494 744 \nQ 775 591 1075 516 \nQ 1375 441 1709 441 \nQ 2250 441 2565 725 \nQ 2881 1009 2881 1497 \nQ 2881 1984 2565 2268 \nQ 2250 2553 1709 2553 \nQ 1456 2553 1204 2497 \nQ 953 2441 691 2322 \nL 691 4666 \nz\n\" transform=\"scale(0.015625)\"/>\n       </defs>\n       <use xlink:href=\"#DejaVuSans-30\"/>\n       <use xlink:href=\"#DejaVuSans-2e\" x=\"63.623047\"/>\n       <use xlink:href=\"#DejaVuSans-35\" x=\"95.410156\"/>\n      </g>\n     </g>\n    </g>\n    <g id=\"xtick_3\">\n     <g id=\"line2d_5\">\n      <path d=\"M 172.84642 240.48 \nL 172.84642 7.2 \n\" clip-path=\"url(#p1449ba2209)\" style=\"fill: none; stroke: #cbcbcb\"/>\n     </g>\n     <g id=\"line2d_6\"/>\n     <g id=\"text_3\">\n      <!-- 1.0 -->\n      <g transform=\"translate(161.714233 254.617813) scale(0.14 -0.14)\">\n       <defs>\n        <path id=\"DejaVuSans-31\" d=\"M 794 531 \nL 1825 531 \nL 1825 4091 \nL 703 3866 \nL 703 4441 \nL 1819 4666 \nL 2450 4666 \nL 2450 531 \nL 3481 531 \nL 3481 0 \nL 794 0 \nL 794 531 \nz\n\" transform=\"scale(0.015625)\"/>\n       </defs>\n       <use xlink:href=\"#DejaVuSans-31\"/>\n       <use xlink:href=\"#DejaVuSans-2e\" x=\"63.623047\"/>\n       <use xlink:href=\"#DejaVuSans-30\" x=\"95.410156\"/>\n      </g>\n     </g>\n    </g>\n    <g id=\"xtick_4\">\n     <g id=\"line2d_7\">\n      <path d=\"M 229.791875 240.48 \nL 229.791875 7.2 \n\" clip-path=\"url(#p1449ba2209)\" style=\"fill: none; stroke: #cbcbcb\"/>\n     </g>\n     <g id=\"line2d_8\"/>\n     <g id=\"text_4\">\n      <!-- 1.5 -->\n      <g transform=\"translate(218.659688 254.617813) scale(0.14 -0.14)\">\n       <use xlink:href=\"#DejaVuSans-31\"/>\n       <use xlink:href=\"#DejaVuSans-2e\" x=\"63.623047\"/>\n       <use xlink:href=\"#DejaVuSans-35\" x=\"95.410156\"/>\n      </g>\n     </g>\n    </g>\n    <g id=\"xtick_5\">\n     <g id=\"line2d_9\">\n      <path d=\"M 286.73733 240.48 \nL 286.73733 7.2 \n\" clip-path=\"url(#p1449ba2209)\" style=\"fill: none; stroke: #cbcbcb\"/>\n     </g>\n     <g id=\"line2d_10\"/>\n     <g id=\"text_5\">\n      <!-- 2.0 -->\n      <g transform=\"translate(275.605142 254.617813) scale(0.14 -0.14)\">\n       <defs>\n        <path id=\"DejaVuSans-32\" d=\"M 1228 531 \nL 3431 531 \nL 3431 0 \nL 469 0 \nL 469 531 \nQ 828 903 1448 1529 \nQ 2069 2156 2228 2338 \nQ 2531 2678 2651 2914 \nQ 2772 3150 2772 3378 \nQ 2772 3750 2511 3984 \nQ 2250 4219 1831 4219 \nQ 1534 4219 1204 4116 \nQ 875 4013 500 3803 \nL 500 4441 \nQ 881 4594 1212 4672 \nQ 1544 4750 1819 4750 \nQ 2544 4750 2975 4387 \nQ 3406 4025 3406 3419 \nQ 3406 3131 3298 2873 \nQ 3191 2616 2906 2266 \nQ 2828 2175 2409 1742 \nQ 1991 1309 1228 531 \nz\n\" transform=\"scale(0.015625)\"/>\n       </defs>\n       <use xlink:href=\"#DejaVuSans-32\"/>\n       <use xlink:href=\"#DejaVuSans-2e\" x=\"63.623047\"/>\n       <use xlink:href=\"#DejaVuSans-30\" x=\"95.410156\"/>\n      </g>\n     </g>\n    </g>\n    <g id=\"xtick_6\">\n     <g id=\"line2d_11\">\n      <path d=\"M 343.682784 240.48 \nL 343.682784 7.2 \n\" clip-path=\"url(#p1449ba2209)\" style=\"fill: none; stroke: #cbcbcb\"/>\n     </g>\n     <g id=\"line2d_12\"/>\n     <g id=\"text_6\">\n      <!-- 2.5 -->\n      <g transform=\"translate(332.550597 254.617813) scale(0.14 -0.14)\">\n       <use xlink:href=\"#DejaVuSans-32\"/>\n       <use xlink:href=\"#DejaVuSans-2e\" x=\"63.623047\"/>\n       <use xlink:href=\"#DejaVuSans-35\" x=\"95.410156\"/>\n      </g>\n     </g>\n    </g>\n    <g id=\"xtick_7\">\n     <g id=\"line2d_13\">\n      <path d=\"M 400.628239 240.48 \nL 400.628239 7.2 \n\" clip-path=\"url(#p1449ba2209)\" style=\"fill: none; stroke: #cbcbcb\"/>\n     </g>\n     <g id=\"line2d_14\"/>\n     <g id=\"text_7\">\n      <!-- 3.0 -->\n      <g transform=\"translate(389.496051 254.617813) scale(0.14 -0.14)\">\n       <defs>\n        <path id=\"DejaVuSans-33\" d=\"M 2597 2516 \nQ 3050 2419 3304 2112 \nQ 3559 1806 3559 1356 \nQ 3559 666 3084 287 \nQ 2609 -91 1734 -91 \nQ 1441 -91 1130 -33 \nQ 819 25 488 141 \nL 488 750 \nQ 750 597 1062 519 \nQ 1375 441 1716 441 \nQ 2309 441 2620 675 \nQ 2931 909 2931 1356 \nQ 2931 1769 2642 2001 \nQ 2353 2234 1838 2234 \nL 1294 2234 \nL 1294 2753 \nL 1863 2753 \nQ 2328 2753 2575 2939 \nQ 2822 3125 2822 3475 \nQ 2822 3834 2567 4026 \nQ 2313 4219 1838 4219 \nQ 1578 4219 1281 4162 \nQ 984 4106 628 3988 \nL 628 4550 \nQ 988 4650 1302 4700 \nQ 1616 4750 1894 4750 \nQ 2613 4750 3031 4423 \nQ 3450 4097 3450 3541 \nQ 3450 3153 3228 2886 \nQ 3006 2619 2597 2516 \nz\n\" transform=\"scale(0.015625)\"/>\n       </defs>\n       <use xlink:href=\"#DejaVuSans-33\"/>\n       <use xlink:href=\"#DejaVuSans-2e\" x=\"63.623047\"/>\n       <use xlink:href=\"#DejaVuSans-30\" x=\"95.410156\"/>\n      </g>\n     </g>\n    </g>\n   </g>\n   <g id=\"matplotlib.axis_2\">\n    <g id=\"ytick_1\">\n     <g id=\"line2d_15\">\n      <path d=\"M 41.871875 202.382275 \nL 417.711875 202.382275 \n\" clip-path=\"url(#p1449ba2209)\" style=\"fill: none; stroke: #cbcbcb\"/>\n     </g>\n     <g id=\"line2d_16\"/>\n     <g id=\"text_8\">\n      <!-- 0.60 -->\n      <g transform=\"translate(7.2 207.701181) scale(0.14 -0.14)\">\n       <defs>\n        <path id=\"DejaVuSans-36\" d=\"M 2113 2584 \nQ 1688 2584 1439 2293 \nQ 1191 2003 1191 1497 \nQ 1191 994 1439 701 \nQ 1688 409 2113 409 \nQ 2538 409 2786 701 \nQ 3034 994 3034 1497 \nQ 3034 2003 2786 2293 \nQ 2538 2584 2113 2584 \nz\nM 3366 4563 \nL 3366 3988 \nQ 3128 4100 2886 4159 \nQ 2644 4219 2406 4219 \nQ 1781 4219 1451 3797 \nQ 1122 3375 1075 2522 \nQ 1259 2794 1537 2939 \nQ 1816 3084 2150 3084 \nQ 2853 3084 3261 2657 \nQ 3669 2231 3669 1497 \nQ 3669 778 3244 343 \nQ 2819 -91 2113 -91 \nQ 1303 -91 875 529 \nQ 447 1150 447 2328 \nQ 447 3434 972 4092 \nQ 1497 4750 2381 4750 \nQ 2619 4750 2861 4703 \nQ 3103 4656 3366 4563 \nz\n\" transform=\"scale(0.015625)\"/>\n       </defs>\n       <use xlink:href=\"#DejaVuSans-30\"/>\n       <use xlink:href=\"#DejaVuSans-2e\" x=\"63.623047\"/>\n       <use xlink:href=\"#DejaVuSans-36\" x=\"95.410156\"/>\n       <use xlink:href=\"#DejaVuSans-30\" x=\"159.033203\"/>\n      </g>\n     </g>\n    </g>\n    <g id=\"ytick_2\">\n     <g id=\"line2d_17\">\n      <path d=\"M 41.871875 153.075824 \nL 417.711875 153.075824 \n\" clip-path=\"url(#p1449ba2209)\" style=\"fill: none; stroke: #cbcbcb\"/>\n     </g>\n     <g id=\"line2d_18\"/>\n     <g id=\"text_9\">\n      <!-- 0.65 -->\n      <g transform=\"translate(7.2 158.39473) scale(0.14 -0.14)\">\n       <use xlink:href=\"#DejaVuSans-30\"/>\n       <use xlink:href=\"#DejaVuSans-2e\" x=\"63.623047\"/>\n       <use xlink:href=\"#DejaVuSans-36\" x=\"95.410156\"/>\n       <use xlink:href=\"#DejaVuSans-35\" x=\"159.033203\"/>\n      </g>\n     </g>\n    </g>\n    <g id=\"ytick_3\">\n     <g id=\"line2d_19\">\n      <path d=\"M 41.871875 103.769374 \nL 417.711875 103.769374 \n\" clip-path=\"url(#p1449ba2209)\" style=\"fill: none; stroke: #cbcbcb\"/>\n     </g>\n     <g id=\"line2d_20\"/>\n     <g id=\"text_10\">\n      <!-- 0.70 -->\n      <g transform=\"translate(7.2 109.08828) scale(0.14 -0.14)\">\n       <defs>\n        <path id=\"DejaVuSans-37\" d=\"M 525 4666 \nL 3525 4666 \nL 3525 4397 \nL 1831 0 \nL 1172 0 \nL 2766 4134 \nL 525 4134 \nL 525 4666 \nz\n\" transform=\"scale(0.015625)\"/>\n       </defs>\n       <use xlink:href=\"#DejaVuSans-30\"/>\n       <use xlink:href=\"#DejaVuSans-2e\" x=\"63.623047\"/>\n       <use xlink:href=\"#DejaVuSans-37\" x=\"95.410156\"/>\n       <use xlink:href=\"#DejaVuSans-30\" x=\"159.033203\"/>\n      </g>\n     </g>\n    </g>\n    <g id=\"ytick_4\">\n     <g id=\"line2d_21\">\n      <path d=\"M 41.871875 54.462923 \nL 417.711875 54.462923 \n\" clip-path=\"url(#p1449ba2209)\" style=\"fill: none; stroke: #cbcbcb\"/>\n     </g>\n     <g id=\"line2d_22\"/>\n     <g id=\"text_11\">\n      <!-- 0.75 -->\n      <g transform=\"translate(7.2 59.781829) scale(0.14 -0.14)\">\n       <use xlink:href=\"#DejaVuSans-30\"/>\n       <use xlink:href=\"#DejaVuSans-2e\" x=\"63.623047\"/>\n       <use xlink:href=\"#DejaVuSans-37\" x=\"95.410156\"/>\n       <use xlink:href=\"#DejaVuSans-35\" x=\"159.033203\"/>\n      </g>\n     </g>\n    </g>\n   </g>\n   <g id=\"line2d_23\">\n    <path d=\"M 58.955511 17.803636 \nL 172.84642 119.632533 \nL 286.73733 179.120615 \nL 400.628239 229.876364 \n\" clip-path=\"url(#p1449ba2209)\" style=\"fill: none; stroke: #008fd5; stroke-opacity: 0.2; stroke-width: 4\"/>\n   </g>\n   <g id=\"line2d_24\">\n    <path d=\"M 58.955511 26.363281 \nL 172.84642 133.332479 \nL 286.73733 165.087752 \nL 400.628239 159.193507 \n\" clip-path=\"url(#p1449ba2209)\" style=\"fill: none; stroke: #fc4f30; stroke-opacity: 0.2; stroke-width: 4\"/>\n   </g>\n   <g id=\"line2d_25\">\n    <path d=\"M 58.955511 52.53689 \nL 172.84642 20.757342 \nL 286.73733 17.868292 \nL 400.628239 20.757342 \n\" clip-path=\"url(#p1449ba2209)\" style=\"fill: none; stroke: #e5ae38; stroke-opacity: 0.2; stroke-width: 4\"/>\n   </g>\n   <g id=\"patch_3\">\n    <path d=\"M 41.871875 240.48 \nL 41.871875 7.2 \n\" style=\"fill: none; stroke: #f0f0f0; stroke-width: 3; stroke-linejoin: miter; stroke-linecap: square\"/>\n   </g>\n   <g id=\"patch_4\">\n    <path d=\"M 417.711875 240.48 \nL 417.711875 7.2 \n\" style=\"fill: none; stroke: #f0f0f0; stroke-width: 3; stroke-linejoin: miter; stroke-linecap: square\"/>\n   </g>\n   <g id=\"patch_5\">\n    <path d=\"M 41.871875 240.48 \nL 417.711875 240.48 \n\" style=\"fill: none; stroke: #f0f0f0; stroke-width: 3; stroke-linejoin: miter; stroke-linecap: square\"/>\n   </g>\n   <g id=\"patch_6\">\n    <path d=\"M 41.871875 7.2 \nL 417.711875 7.2 \n\" style=\"fill: none; stroke: #f0f0f0; stroke-width: 3; stroke-linejoin: miter; stroke-linecap: square\"/>\n   </g>\n   <g id=\"legend_1\">\n    <g id=\"patch_7\">\n     <path d=\"M 51.671875 233.48 \nL 57.271875 233.48 \nQ 60.071875 233.48 60.071875 230.68 \nL 60.071875 225.08 \nQ 60.071875 222.28 57.271875 222.28 \nL 51.671875 222.28 \nQ 48.871875 222.28 48.871875 225.08 \nL 48.871875 230.68 \nQ 48.871875 233.48 51.671875 233.48 \nz\n\" style=\"fill: #f0f0f0; opacity: 0.8; stroke: #cccccc; stroke-width: 0.5; stroke-linejoin: miter\"/>\n    </g>\n   </g>\n  </g>\n </g>\n <defs>\n  <clipPath id=\"p1449ba2209\">\n   <rect x=\"41.871875\" y=\"7.2\" width=\"375.84\" height=\"233.28\"/>\n  </clipPath>\n </defs>\n</svg>\n",
      "text/plain": [
       "<Figure size 432x288 with 1 Axes>"
      ]
     },
     "metadata": {},
     "output_type": "display_data"
    }
   ],
   "source": [
    "smooth = 1\n",
    "tl = torch.tensor(train_losses).view(-1,smooth).mean(axis=1)\n",
    "vl = torch.tensor(val_losses).view(-1,smooth).mean(axis=1)\n",
    "ac = torch.tensor(accs).view(-1,smooth).mean(axis=1)\n",
    "ep = torch.tensor(epochs).float().view(-1,smooth).mean(axis=1)\n",
    "\n",
    "plt.plot(epochs, train_losses, 'C0',alpha=0.2)\n",
    "plt.plot(epochs, val_losses, 'C1',alpha=0.2)\n",
    "plt.plot(epochs, accs, 'C2',alpha=0.2)\n",
    "#plt.plot(ep, tl, 'C0',label='Train loss')\n",
    "#plt.plot(ep, vl, 'C1--',label='Val loss')\n",
    "#plt.plot(ep, ac, 'C2:',label='Accuracy')\n",
    "\n",
    "#print (xx.view(-1,5).mean(axis=1))\n",
    "#plt.plot(epochs, train_losses, 'C0',label='Train loss')\n",
    "#plt.plot(epochs, val_losses, 'C1--',label='Val loss')\n",
    "#plt.plot(epochs, accs, 'C2--',label='Accuracy')\n",
    "\n",
    "plt.legend();"
   ]
  },
  {
   "cell_type": "code",
   "execution_count": 68,
   "metadata": {},
   "outputs": [
    {
     "data": {
      "text/plain": [
       "[<matplotlib.lines.Line2D at 0x13c8e18e0>]"
      ]
     },
     "execution_count": 68,
     "metadata": {},
     "output_type": "execute_result"
    },
    {
     "data": {
      "image/svg+xml": "<?xml version=\"1.0\" encoding=\"utf-8\" standalone=\"no\"?>\n<!DOCTYPE svg PUBLIC \"-//W3C//DTD SVG 1.1//EN\"\n  \"http://www.w3.org/Graphics/SVG/1.1/DTD/svg11.dtd\">\n<svg xmlns:xlink=\"http://www.w3.org/1999/xlink\" width=\"424.911875pt\" height=\"264.729375pt\" viewBox=\"0 0 424.911875 264.729375\" xmlns=\"http://www.w3.org/2000/svg\" version=\"1.1\">\n <metadata>\n  <rdf:RDF xmlns:dc=\"http://purl.org/dc/elements/1.1/\" xmlns:cc=\"http://creativecommons.org/ns#\" xmlns:rdf=\"http://www.w3.org/1999/02/22-rdf-syntax-ns#\">\n   <cc:Work>\n    <dc:type rdf:resource=\"http://purl.org/dc/dcmitype/StillImage\"/>\n    <dc:date>2023-01-19T10:03:40.186162</dc:date>\n    <dc:format>image/svg+xml</dc:format>\n    <dc:creator>\n     <cc:Agent>\n      <dc:title>Matplotlib v3.6.3, https://matplotlib.org/</dc:title>\n     </cc:Agent>\n    </dc:creator>\n   </cc:Work>\n  </rdf:RDF>\n </metadata>\n <defs>\n  <style type=\"text/css\">*{stroke-linejoin: round; stroke-linecap: butt}</style>\n </defs>\n <g id=\"figure_1\">\n  <g id=\"patch_1\">\n   <path d=\"M -0 264.729375 \nL 424.911875 264.729375 \nL 424.911875 0 \nL -0 0 \nz\n\" style=\"fill: #f0f0f0\"/>\n  </g>\n  <g id=\"axes_1\">\n   <g id=\"patch_2\">\n    <path d=\"M 41.871875 240.48 \nL 417.711875 240.48 \nL 417.711875 7.2 \nL 41.871875 7.2 \nz\n\" style=\"fill: #f0f0f0\"/>\n   </g>\n   <g id=\"matplotlib.axis_1\">\n    <g id=\"xtick_1\">\n     <g id=\"line2d_1\">\n      <path d=\"M 58.955511 240.48 \nL 58.955511 7.2 \n\" clip-path=\"url(#p4595943562)\" style=\"fill: none; stroke: #cbcbcb\"/>\n     </g>\n     <g id=\"line2d_2\"/>\n     <g id=\"text_1\">\n      <!-- 0.0 -->\n      <g transform=\"translate(47.823324 254.617813) scale(0.14 -0.14)\">\n       <defs>\n        <path id=\"DejaVuSans-30\" d=\"M 2034 4250 \nQ 1547 4250 1301 3770 \nQ 1056 3291 1056 2328 \nQ 1056 1369 1301 889 \nQ 1547 409 2034 409 \nQ 2525 409 2770 889 \nQ 3016 1369 3016 2328 \nQ 3016 3291 2770 3770 \nQ 2525 4250 2034 4250 \nz\nM 2034 4750 \nQ 2819 4750 3233 4129 \nQ 3647 3509 3647 2328 \nQ 3647 1150 3233 529 \nQ 2819 -91 2034 -91 \nQ 1250 -91 836 529 \nQ 422 1150 422 2328 \nQ 422 3509 836 4129 \nQ 1250 4750 2034 4750 \nz\n\" transform=\"scale(0.015625)\"/>\n        <path id=\"DejaVuSans-2e\" d=\"M 684 794 \nL 1344 794 \nL 1344 0 \nL 684 0 \nL 684 794 \nz\n\" transform=\"scale(0.015625)\"/>\n       </defs>\n       <use xlink:href=\"#DejaVuSans-30\"/>\n       <use xlink:href=\"#DejaVuSans-2e\" x=\"63.623047\"/>\n       <use xlink:href=\"#DejaVuSans-30\" x=\"95.410156\"/>\n      </g>\n     </g>\n    </g>\n    <g id=\"xtick_2\">\n     <g id=\"line2d_3\">\n      <path d=\"M 115.900966 240.48 \nL 115.900966 7.2 \n\" clip-path=\"url(#p4595943562)\" style=\"fill: none; stroke: #cbcbcb\"/>\n     </g>\n     <g id=\"line2d_4\"/>\n     <g id=\"text_2\">\n      <!-- 0.5 -->\n      <g transform=\"translate(104.768778 254.617813) scale(0.14 -0.14)\">\n       <defs>\n        <path id=\"DejaVuSans-35\" d=\"M 691 4666 \nL 3169 4666 \nL 3169 4134 \nL 1269 4134 \nL 1269 2991 \nQ 1406 3038 1543 3061 \nQ 1681 3084 1819 3084 \nQ 2600 3084 3056 2656 \nQ 3513 2228 3513 1497 \nQ 3513 744 3044 326 \nQ 2575 -91 1722 -91 \nQ 1428 -91 1123 -41 \nQ 819 9 494 109 \nL 494 744 \nQ 775 591 1075 516 \nQ 1375 441 1709 441 \nQ 2250 441 2565 725 \nQ 2881 1009 2881 1497 \nQ 2881 1984 2565 2268 \nQ 2250 2553 1709 2553 \nQ 1456 2553 1204 2497 \nQ 953 2441 691 2322 \nL 691 4666 \nz\n\" transform=\"scale(0.015625)\"/>\n       </defs>\n       <use xlink:href=\"#DejaVuSans-30\"/>\n       <use xlink:href=\"#DejaVuSans-2e\" x=\"63.623047\"/>\n       <use xlink:href=\"#DejaVuSans-35\" x=\"95.410156\"/>\n      </g>\n     </g>\n    </g>\n    <g id=\"xtick_3\">\n     <g id=\"line2d_5\">\n      <path d=\"M 172.84642 240.48 \nL 172.84642 7.2 \n\" clip-path=\"url(#p4595943562)\" style=\"fill: none; stroke: #cbcbcb\"/>\n     </g>\n     <g id=\"line2d_6\"/>\n     <g id=\"text_3\">\n      <!-- 1.0 -->\n      <g transform=\"translate(161.714233 254.617813) scale(0.14 -0.14)\">\n       <defs>\n        <path id=\"DejaVuSans-31\" d=\"M 794 531 \nL 1825 531 \nL 1825 4091 \nL 703 3866 \nL 703 4441 \nL 1819 4666 \nL 2450 4666 \nL 2450 531 \nL 3481 531 \nL 3481 0 \nL 794 0 \nL 794 531 \nz\n\" transform=\"scale(0.015625)\"/>\n       </defs>\n       <use xlink:href=\"#DejaVuSans-31\"/>\n       <use xlink:href=\"#DejaVuSans-2e\" x=\"63.623047\"/>\n       <use xlink:href=\"#DejaVuSans-30\" x=\"95.410156\"/>\n      </g>\n     </g>\n    </g>\n    <g id=\"xtick_4\">\n     <g id=\"line2d_7\">\n      <path d=\"M 229.791875 240.48 \nL 229.791875 7.2 \n\" clip-path=\"url(#p4595943562)\" style=\"fill: none; stroke: #cbcbcb\"/>\n     </g>\n     <g id=\"line2d_8\"/>\n     <g id=\"text_4\">\n      <!-- 1.5 -->\n      <g transform=\"translate(218.659688 254.617813) scale(0.14 -0.14)\">\n       <use xlink:href=\"#DejaVuSans-31\"/>\n       <use xlink:href=\"#DejaVuSans-2e\" x=\"63.623047\"/>\n       <use xlink:href=\"#DejaVuSans-35\" x=\"95.410156\"/>\n      </g>\n     </g>\n    </g>\n    <g id=\"xtick_5\">\n     <g id=\"line2d_9\">\n      <path d=\"M 286.73733 240.48 \nL 286.73733 7.2 \n\" clip-path=\"url(#p4595943562)\" style=\"fill: none; stroke: #cbcbcb\"/>\n     </g>\n     <g id=\"line2d_10\"/>\n     <g id=\"text_5\">\n      <!-- 2.0 -->\n      <g transform=\"translate(275.605142 254.617813) scale(0.14 -0.14)\">\n       <defs>\n        <path id=\"DejaVuSans-32\" d=\"M 1228 531 \nL 3431 531 \nL 3431 0 \nL 469 0 \nL 469 531 \nQ 828 903 1448 1529 \nQ 2069 2156 2228 2338 \nQ 2531 2678 2651 2914 \nQ 2772 3150 2772 3378 \nQ 2772 3750 2511 3984 \nQ 2250 4219 1831 4219 \nQ 1534 4219 1204 4116 \nQ 875 4013 500 3803 \nL 500 4441 \nQ 881 4594 1212 4672 \nQ 1544 4750 1819 4750 \nQ 2544 4750 2975 4387 \nQ 3406 4025 3406 3419 \nQ 3406 3131 3298 2873 \nQ 3191 2616 2906 2266 \nQ 2828 2175 2409 1742 \nQ 1991 1309 1228 531 \nz\n\" transform=\"scale(0.015625)\"/>\n       </defs>\n       <use xlink:href=\"#DejaVuSans-32\"/>\n       <use xlink:href=\"#DejaVuSans-2e\" x=\"63.623047\"/>\n       <use xlink:href=\"#DejaVuSans-30\" x=\"95.410156\"/>\n      </g>\n     </g>\n    </g>\n    <g id=\"xtick_6\">\n     <g id=\"line2d_11\">\n      <path d=\"M 343.682784 240.48 \nL 343.682784 7.2 \n\" clip-path=\"url(#p4595943562)\" style=\"fill: none; stroke: #cbcbcb\"/>\n     </g>\n     <g id=\"line2d_12\"/>\n     <g id=\"text_6\">\n      <!-- 2.5 -->\n      <g transform=\"translate(332.550597 254.617813) scale(0.14 -0.14)\">\n       <use xlink:href=\"#DejaVuSans-32\"/>\n       <use xlink:href=\"#DejaVuSans-2e\" x=\"63.623047\"/>\n       <use xlink:href=\"#DejaVuSans-35\" x=\"95.410156\"/>\n      </g>\n     </g>\n    </g>\n    <g id=\"xtick_7\">\n     <g id=\"line2d_13\">\n      <path d=\"M 400.628239 240.48 \nL 400.628239 7.2 \n\" clip-path=\"url(#p4595943562)\" style=\"fill: none; stroke: #cbcbcb\"/>\n     </g>\n     <g id=\"line2d_14\"/>\n     <g id=\"text_7\">\n      <!-- 3.0 -->\n      <g transform=\"translate(389.496051 254.617813) scale(0.14 -0.14)\">\n       <defs>\n        <path id=\"DejaVuSans-33\" d=\"M 2597 2516 \nQ 3050 2419 3304 2112 \nQ 3559 1806 3559 1356 \nQ 3559 666 3084 287 \nQ 2609 -91 1734 -91 \nQ 1441 -91 1130 -33 \nQ 819 25 488 141 \nL 488 750 \nQ 750 597 1062 519 \nQ 1375 441 1716 441 \nQ 2309 441 2620 675 \nQ 2931 909 2931 1356 \nQ 2931 1769 2642 2001 \nQ 2353 2234 1838 2234 \nL 1294 2234 \nL 1294 2753 \nL 1863 2753 \nQ 2328 2753 2575 2939 \nQ 2822 3125 2822 3475 \nQ 2822 3834 2567 4026 \nQ 2313 4219 1838 4219 \nQ 1578 4219 1281 4162 \nQ 984 4106 628 3988 \nL 628 4550 \nQ 988 4650 1302 4700 \nQ 1616 4750 1894 4750 \nQ 2613 4750 3031 4423 \nQ 3450 4097 3450 3541 \nQ 3450 3153 3228 2886 \nQ 3006 2619 2597 2516 \nz\n\" transform=\"scale(0.015625)\"/>\n       </defs>\n       <use xlink:href=\"#DejaVuSans-33\"/>\n       <use xlink:href=\"#DejaVuSans-2e\" x=\"63.623047\"/>\n       <use xlink:href=\"#DejaVuSans-30\" x=\"95.410156\"/>\n      </g>\n     </g>\n    </g>\n   </g>\n   <g id=\"matplotlib.axis_2\">\n    <g id=\"ytick_1\">\n     <g id=\"line2d_15\">\n      <path d=\"M 41.871875 202.382275 \nL 417.711875 202.382275 \n\" clip-path=\"url(#p4595943562)\" style=\"fill: none; stroke: #cbcbcb\"/>\n     </g>\n     <g id=\"line2d_16\"/>\n     <g id=\"text_8\">\n      <!-- 0.60 -->\n      <g transform=\"translate(7.2 207.701181) scale(0.14 -0.14)\">\n       <defs>\n        <path id=\"DejaVuSans-36\" d=\"M 2113 2584 \nQ 1688 2584 1439 2293 \nQ 1191 2003 1191 1497 \nQ 1191 994 1439 701 \nQ 1688 409 2113 409 \nQ 2538 409 2786 701 \nQ 3034 994 3034 1497 \nQ 3034 2003 2786 2293 \nQ 2538 2584 2113 2584 \nz\nM 3366 4563 \nL 3366 3988 \nQ 3128 4100 2886 4159 \nQ 2644 4219 2406 4219 \nQ 1781 4219 1451 3797 \nQ 1122 3375 1075 2522 \nQ 1259 2794 1537 2939 \nQ 1816 3084 2150 3084 \nQ 2853 3084 3261 2657 \nQ 3669 2231 3669 1497 \nQ 3669 778 3244 343 \nQ 2819 -91 2113 -91 \nQ 1303 -91 875 529 \nQ 447 1150 447 2328 \nQ 447 3434 972 4092 \nQ 1497 4750 2381 4750 \nQ 2619 4750 2861 4703 \nQ 3103 4656 3366 4563 \nz\n\" transform=\"scale(0.015625)\"/>\n       </defs>\n       <use xlink:href=\"#DejaVuSans-30\"/>\n       <use xlink:href=\"#DejaVuSans-2e\" x=\"63.623047\"/>\n       <use xlink:href=\"#DejaVuSans-36\" x=\"95.410156\"/>\n       <use xlink:href=\"#DejaVuSans-30\" x=\"159.033203\"/>\n      </g>\n     </g>\n    </g>\n    <g id=\"ytick_2\">\n     <g id=\"line2d_17\">\n      <path d=\"M 41.871875 153.075824 \nL 417.711875 153.075824 \n\" clip-path=\"url(#p4595943562)\" style=\"fill: none; stroke: #cbcbcb\"/>\n     </g>\n     <g id=\"line2d_18\"/>\n     <g id=\"text_9\">\n      <!-- 0.65 -->\n      <g transform=\"translate(7.2 158.39473) scale(0.14 -0.14)\">\n       <use xlink:href=\"#DejaVuSans-30\"/>\n       <use xlink:href=\"#DejaVuSans-2e\" x=\"63.623047\"/>\n       <use xlink:href=\"#DejaVuSans-36\" x=\"95.410156\"/>\n       <use xlink:href=\"#DejaVuSans-35\" x=\"159.033203\"/>\n      </g>\n     </g>\n    </g>\n    <g id=\"ytick_3\">\n     <g id=\"line2d_19\">\n      <path d=\"M 41.871875 103.769374 \nL 417.711875 103.769374 \n\" clip-path=\"url(#p4595943562)\" style=\"fill: none; stroke: #cbcbcb\"/>\n     </g>\n     <g id=\"line2d_20\"/>\n     <g id=\"text_10\">\n      <!-- 0.70 -->\n      <g transform=\"translate(7.2 109.08828) scale(0.14 -0.14)\">\n       <defs>\n        <path id=\"DejaVuSans-37\" d=\"M 525 4666 \nL 3525 4666 \nL 3525 4397 \nL 1831 0 \nL 1172 0 \nL 2766 4134 \nL 525 4134 \nL 525 4666 \nz\n\" transform=\"scale(0.015625)\"/>\n       </defs>\n       <use xlink:href=\"#DejaVuSans-30\"/>\n       <use xlink:href=\"#DejaVuSans-2e\" x=\"63.623047\"/>\n       <use xlink:href=\"#DejaVuSans-37\" x=\"95.410156\"/>\n       <use xlink:href=\"#DejaVuSans-30\" x=\"159.033203\"/>\n      </g>\n     </g>\n    </g>\n    <g id=\"ytick_4\">\n     <g id=\"line2d_21\">\n      <path d=\"M 41.871875 54.462923 \nL 417.711875 54.462923 \n\" clip-path=\"url(#p4595943562)\" style=\"fill: none; stroke: #cbcbcb\"/>\n     </g>\n     <g id=\"line2d_22\"/>\n     <g id=\"text_11\">\n      <!-- 0.75 -->\n      <g transform=\"translate(7.2 59.781829) scale(0.14 -0.14)\">\n       <use xlink:href=\"#DejaVuSans-30\"/>\n       <use xlink:href=\"#DejaVuSans-2e\" x=\"63.623047\"/>\n       <use xlink:href=\"#DejaVuSans-37\" x=\"95.410156\"/>\n       <use xlink:href=\"#DejaVuSans-35\" x=\"159.033203\"/>\n      </g>\n     </g>\n    </g>\n   </g>\n   <g id=\"line2d_23\">\n    <path d=\"M 58.955511 17.803636 \nL 172.84642 119.632533 \nL 286.73733 179.120615 \nL 400.628239 229.876364 \n\" clip-path=\"url(#p4595943562)\" style=\"fill: none; stroke: #008fd5; stroke-opacity: 0.5; stroke-width: 4\"/>\n   </g>\n   <g id=\"patch_3\">\n    <path d=\"M 41.871875 240.48 \nL 41.871875 7.2 \n\" style=\"fill: none; stroke: #f0f0f0; stroke-width: 3; stroke-linejoin: miter; stroke-linecap: square\"/>\n   </g>\n   <g id=\"patch_4\">\n    <path d=\"M 417.711875 240.48 \nL 417.711875 7.2 \n\" style=\"fill: none; stroke: #f0f0f0; stroke-width: 3; stroke-linejoin: miter; stroke-linecap: square\"/>\n   </g>\n   <g id=\"patch_5\">\n    <path d=\"M 41.871875 240.48 \nL 417.711875 240.48 \n\" style=\"fill: none; stroke: #f0f0f0; stroke-width: 3; stroke-linejoin: miter; stroke-linecap: square\"/>\n   </g>\n   <g id=\"patch_6\">\n    <path d=\"M 41.871875 7.2 \nL 417.711875 7.2 \n\" style=\"fill: none; stroke: #f0f0f0; stroke-width: 3; stroke-linejoin: miter; stroke-linecap: square\"/>\n   </g>\n  </g>\n </g>\n <defs>\n  <clipPath id=\"p4595943562\">\n   <rect x=\"41.871875\" y=\"7.2\" width=\"375.84\" height=\"233.28\"/>\n  </clipPath>\n </defs>\n</svg>\n",
      "text/plain": [
       "<Figure size 432x288 with 1 Axes>"
      ]
     },
     "metadata": {},
     "output_type": "display_data"
    }
   ],
   "source": [
    "plt.plot(epochs, train_losses, 'C0',label='Train loss',alpha=0.5)"
   ]
  },
  {
   "cell_type": "code",
   "execution_count": null,
   "metadata": {},
   "outputs": [],
   "source": []
  }
 ],
 "metadata": {
  "kernelspec": {
   "display_name": "Python 3",
   "language": "python",
   "name": "python3"
  },
  "language_info": {
   "codemirror_mode": {
    "name": "ipython",
    "version": 3
   },
   "file_extension": ".py",
   "mimetype": "text/x-python",
   "name": "python",
   "nbconvert_exporter": "python",
   "pygments_lexer": "ipython3",
   "version": "3.9.6 (default, Oct 18 2022, 12:41:40) \n[Clang 14.0.0 (clang-1400.0.29.202)]"
  },
  "orig_nbformat": 4,
  "vscode": {
   "interpreter": {
    "hash": "31f2aee4e71d21fbe5cf8b01ff0e069b9275f58929596ceb00d14d90e3e16cd6"
   }
  }
 },
 "nbformat": 4,
 "nbformat_minor": 2
}
