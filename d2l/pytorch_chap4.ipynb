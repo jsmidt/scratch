{
 "cells": [
  {
   "cell_type": "code",
   "execution_count": 8,
   "metadata": {},
   "outputs": [],
   "source": [
    "import torch\n",
    "import torch.nn as nn\n",
    "from torch.utils.data import Dataset, DataLoader\n",
    "from torchvision import datasets\n",
    "import matplotlib.pyplot as plt\n",
    "from torchvision.transforms import ToTensor\n",
    "from dataclasses import dataclass\n",
    "%config InlineBackend.figure_formats = ['svg']\n",
    "plt.style.use('fivethirtyeight')"
   ]
  },
  {
   "attachments": {},
   "cell_type": "markdown",
   "metadata": {},
   "source": [
    "### Test against problems from Chap. 4 of D2L"
   ]
  },
  {
   "attachments": {},
   "cell_type": "markdown",
   "metadata": {},
   "source": [
    "#### Problem 4.2"
   ]
  },
  {
   "cell_type": "code",
   "execution_count": 9,
   "metadata": {},
   "outputs": [
    {
     "data": {
      "text/plain": [
       "(60000, 10000)"
      ]
     },
     "execution_count": 9,
     "metadata": {},
     "output_type": "execute_result"
    }
   ],
   "source": [
    "# Import Datasets\n",
    "@dataclass\n",
    "class FashionMNIST:\n",
    "    train = datasets.FashionMNIST(root='data', train=True, transform=ToTensor())\n",
    "    val = datasets.FashionMNIST(root='data', train=False, transform=ToTensor())\n",
    "\n",
    "data = FashionMNIST()\n",
    "len(data.train), len(data.val)"
   ]
  },
  {
   "cell_type": "code",
   "execution_count": 22,
   "metadata": {},
   "outputs": [
    {
     "data": {
      "image/svg+xml": "<?xml version=\"1.0\" encoding=\"utf-8\" standalone=\"no\"?>\n<!DOCTYPE svg PUBLIC \"-//W3C//DTD SVG 1.1//EN\"\n  \"http://www.w3.org/Graphics/SVG/1.1/DTD/svg11.dtd\">\n<svg xmlns:xlink=\"http://www.w3.org/1999/xlink\" width=\"505.355294pt\" height=\"502.27845pt\" viewBox=\"0 0 505.355294 502.27845\" xmlns=\"http://www.w3.org/2000/svg\" version=\"1.1\">\n <metadata>\n  <rdf:RDF xmlns:dc=\"http://purl.org/dc/elements/1.1/\" xmlns:cc=\"http://creativecommons.org/ns#\" xmlns:rdf=\"http://www.w3.org/1999/02/22-rdf-syntax-ns#\">\n   <cc:Work>\n    <dc:type rdf:resource=\"http://purl.org/dc/dcmitype/StillImage\"/>\n    <dc:date>2023-01-18T05:53:14.787697</dc:date>\n    <dc:format>image/svg+xml</dc:format>\n    <dc:creator>\n     <cc:Agent>\n      <dc:title>Matplotlib v3.6.3, https://matplotlib.org/</dc:title>\n     </cc:Agent>\n    </dc:creator>\n   </cc:Work>\n  </rdf:RDF>\n </metadata>\n <defs>\n  <style type=\"text/css\">*{stroke-linejoin: round; stroke-linecap: butt}</style>\n </defs>\n <g id=\"figure_1\">\n  <g id=\"patch_1\">\n   <path d=\"M 0 502.27845 \nL 505.355294 502.27845 \nL 505.355294 0 \nL 0 0 \nz\n\" style=\"fill: #f0f0f0\"/>\n  </g>\n  <g id=\"axes_1\">\n   <g clip-path=\"url(#p3d2e44b657)\">\n    <image xlink:href=\"data:image/png;base64,\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\" id=\"image8f6c76884e\" transform=\"scale(1 -1) translate(0 -137.52)\" x=\"7.2\" y=\"-28.221979\" width=\"137.52\" height=\"137.52\"/>\n   </g>\n   <g id=\"text_1\">\n    <!-- Coat -->\n    <g transform=\"translate(52.476565 22.51845) scale(0.2016 -0.2016)\">\n     <defs>\n      <path id=\"DejaVuSans-43\" d=\"M 4122 4306 \nL 4122 3641 \nQ 3803 3938 3442 4084 \nQ 3081 4231 2675 4231 \nQ 1875 4231 1450 3742 \nQ 1025 3253 1025 2328 \nQ 1025 1406 1450 917 \nQ 1875 428 2675 428 \nQ 3081 428 3442 575 \nQ 3803 722 4122 1019 \nL 4122 359 \nQ 3791 134 3420 21 \nQ 3050 -91 2638 -91 \nQ 1578 -91 968 557 \nQ 359 1206 359 2328 \nQ 359 3453 968 4101 \nQ 1578 4750 2638 4750 \nQ 3056 4750 3426 4639 \nQ 3797 4528 4122 4306 \nz\n\" transform=\"scale(0.015625)\"/>\n      <path id=\"DejaVuSans-6f\" d=\"M 1959 3097 \nQ 1497 3097 1228 2736 \nQ 959 2375 959 1747 \nQ 959 1119 1226 758 \nQ 1494 397 1959 397 \nQ 2419 397 2687 759 \nQ 2956 1122 2956 1747 \nQ 2956 2369 2687 2733 \nQ 2419 3097 1959 3097 \nz\nM 1959 3584 \nQ 2709 3584 3137 3096 \nQ 3566 2609 3566 1747 \nQ 3566 888 3137 398 \nQ 2709 -91 1959 -91 \nQ 1206 -91 779 398 \nQ 353 888 353 1747 \nQ 353 2609 779 3096 \nQ 1206 3584 1959 3584 \nz\n\" transform=\"scale(0.015625)\"/>\n      <path id=\"DejaVuSans-61\" d=\"M 2194 1759 \nQ 1497 1759 1228 1600 \nQ 959 1441 959 1056 \nQ 959 750 1161 570 \nQ 1363 391 1709 391 \nQ 2188 391 2477 730 \nQ 2766 1069 2766 1631 \nL 2766 1759 \nL 2194 1759 \nz\nM 3341 1997 \nL 3341 0 \nL 2766 0 \nL 2766 531 \nQ 2569 213 2275 61 \nQ 1981 -91 1556 -91 \nQ 1019 -91 701 211 \nQ 384 513 384 1019 \nQ 384 1609 779 1909 \nQ 1175 2209 1959 2209 \nL 2766 2209 \nL 2766 2266 \nQ 2766 2663 2505 2880 \nQ 2244 3097 1772 3097 \nQ 1472 3097 1187 3025 \nQ 903 2953 641 2809 \nL 641 3341 \nQ 956 3463 1253 3523 \nQ 1550 3584 1831 3584 \nQ 2591 3584 2966 3190 \nQ 3341 2797 3341 1997 \nz\n\" transform=\"scale(0.015625)\"/>\n      <path id=\"DejaVuSans-74\" d=\"M 1172 4494 \nL 1172 3500 \nL 2356 3500 \nL 2356 3053 \nL 1172 3053 \nL 1172 1153 \nQ 1172 725 1289 603 \nQ 1406 481 1766 481 \nL 2356 481 \nL 2356 0 \nL 1766 0 \nQ 1100 0 847 248 \nQ 594 497 594 1153 \nL 594 3053 \nL 172 3053 \nL 172 3500 \nL 594 3500 \nL 594 4494 \nL 1172 4494 \nz\n\" transform=\"scale(0.015625)\"/>\n     </defs>\n     <use xlink:href=\"#DejaVuSans-43\"/>\n     <use xlink:href=\"#DejaVuSans-6f\" x=\"69.824219\"/>\n     <use xlink:href=\"#DejaVuSans-61\" x=\"131.005859\"/>\n     <use xlink:href=\"#DejaVuSans-74\" x=\"192.285156\"/>\n    </g>\n   </g>\n  </g>\n  <g id=\"axes_2\">\n   <g clip-path=\"url(#pfcafda4f3b)\">\n    <image xlink:href=\"data:image/png;base64,\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\" id=\"imaged645b7b1a7\" transform=\"scale(1 -1) translate(0 -137.52)\" x=\"184.065882\" y=\"-28.221979\" width=\"137.52\" height=\"137.52\"/>\n   </g>\n   <g id=\"text_2\">\n    <!-- T-Shirt -->\n    <g transform=\"translate(220.120822 22.51845) scale(0.2016 -0.2016)\">\n     <defs>\n      <path id=\"DejaVuSans-54\" d=\"M -19 4666 \nL 3928 4666 \nL 3928 4134 \nL 2272 4134 \nL 2272 0 \nL 1638 0 \nL 1638 4134 \nL -19 4134 \nL -19 4666 \nz\n\" transform=\"scale(0.015625)\"/>\n      <path id=\"DejaVuSans-2d\" d=\"M 313 2009 \nL 1997 2009 \nL 1997 1497 \nL 313 1497 \nL 313 2009 \nz\n\" transform=\"scale(0.015625)\"/>\n      <path id=\"DejaVuSans-53\" d=\"M 3425 4513 \nL 3425 3897 \nQ 3066 4069 2747 4153 \nQ 2428 4238 2131 4238 \nQ 1616 4238 1336 4038 \nQ 1056 3838 1056 3469 \nQ 1056 3159 1242 3001 \nQ 1428 2844 1947 2747 \nL 2328 2669 \nQ 3034 2534 3370 2195 \nQ 3706 1856 3706 1288 \nQ 3706 609 3251 259 \nQ 2797 -91 1919 -91 \nQ 1588 -91 1214 -16 \nQ 841 59 441 206 \nL 441 856 \nQ 825 641 1194 531 \nQ 1563 422 1919 422 \nQ 2459 422 2753 634 \nQ 3047 847 3047 1241 \nQ 3047 1584 2836 1778 \nQ 2625 1972 2144 2069 \nL 1759 2144 \nQ 1053 2284 737 2584 \nQ 422 2884 422 3419 \nQ 422 4038 858 4394 \nQ 1294 4750 2059 4750 \nQ 2388 4750 2728 4690 \nQ 3069 4631 3425 4513 \nz\n\" transform=\"scale(0.015625)\"/>\n      <path id=\"DejaVuSans-68\" d=\"M 3513 2113 \nL 3513 0 \nL 2938 0 \nL 2938 2094 \nQ 2938 2591 2744 2837 \nQ 2550 3084 2163 3084 \nQ 1697 3084 1428 2787 \nQ 1159 2491 1159 1978 \nL 1159 0 \nL 581 0 \nL 581 4863 \nL 1159 4863 \nL 1159 2956 \nQ 1366 3272 1645 3428 \nQ 1925 3584 2291 3584 \nQ 2894 3584 3203 3211 \nQ 3513 2838 3513 2113 \nz\n\" transform=\"scale(0.015625)\"/>\n      <path id=\"DejaVuSans-69\" d=\"M 603 3500 \nL 1178 3500 \nL 1178 0 \nL 603 0 \nL 603 3500 \nz\nM 603 4863 \nL 1178 4863 \nL 1178 4134 \nL 603 4134 \nL 603 4863 \nz\n\" transform=\"scale(0.015625)\"/>\n      <path id=\"DejaVuSans-72\" d=\"M 2631 2963 \nQ 2534 3019 2420 3045 \nQ 2306 3072 2169 3072 \nQ 1681 3072 1420 2755 \nQ 1159 2438 1159 1844 \nL 1159 0 \nL 581 0 \nL 581 3500 \nL 1159 3500 \nL 1159 2956 \nQ 1341 3275 1631 3429 \nQ 1922 3584 2338 3584 \nQ 2397 3584 2469 3576 \nQ 2541 3569 2628 3553 \nL 2631 2963 \nz\n\" transform=\"scale(0.015625)\"/>\n     </defs>\n     <use xlink:href=\"#DejaVuSans-54\"/>\n     <use xlink:href=\"#DejaVuSans-2d\" x=\"51.958984\"/>\n     <use xlink:href=\"#DejaVuSans-53\" x=\"88.042969\"/>\n     <use xlink:href=\"#DejaVuSans-68\" x=\"151.519531\"/>\n     <use xlink:href=\"#DejaVuSans-69\" x=\"214.898438\"/>\n     <use xlink:href=\"#DejaVuSans-72\" x=\"242.681641\"/>\n     <use xlink:href=\"#DejaVuSans-74\" x=\"283.794922\"/>\n    </g>\n   </g>\n  </g>\n  <g id=\"axes_3\">\n   <g clip-path=\"url(#pde9ccfc4f1)\">\n    <image xlink:href=\"data:image/png;base64,\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\" id=\"image6e87be42fb\" transform=\"scale(1 -1) translate(0 -137.52)\" x=\"360.931765\" y=\"-28.221979\" width=\"137.52\" height=\"137.52\"/>\n   </g>\n   <g id=\"text_3\">\n    <!-- Trouser -->\n    <g transform=\"translate(392.803504 22.51845) scale(0.2016 -0.2016)\">\n     <defs>\n      <path id=\"DejaVuSans-75\" d=\"M 544 1381 \nL 544 3500 \nL 1119 3500 \nL 1119 1403 \nQ 1119 906 1312 657 \nQ 1506 409 1894 409 \nQ 2359 409 2629 706 \nQ 2900 1003 2900 1516 \nL 2900 3500 \nL 3475 3500 \nL 3475 0 \nL 2900 0 \nL 2900 538 \nQ 2691 219 2414 64 \nQ 2138 -91 1772 -91 \nQ 1169 -91 856 284 \nQ 544 659 544 1381 \nz\nM 1991 3584 \nL 1991 3584 \nz\n\" transform=\"scale(0.015625)\"/>\n      <path id=\"DejaVuSans-73\" d=\"M 2834 3397 \nL 2834 2853 \nQ 2591 2978 2328 3040 \nQ 2066 3103 1784 3103 \nQ 1356 3103 1142 2972 \nQ 928 2841 928 2578 \nQ 928 2378 1081 2264 \nQ 1234 2150 1697 2047 \nL 1894 2003 \nQ 2506 1872 2764 1633 \nQ 3022 1394 3022 966 \nQ 3022 478 2636 193 \nQ 2250 -91 1575 -91 \nQ 1294 -91 989 -36 \nQ 684 19 347 128 \nL 347 722 \nQ 666 556 975 473 \nQ 1284 391 1588 391 \nQ 1994 391 2212 530 \nQ 2431 669 2431 922 \nQ 2431 1156 2273 1281 \nQ 2116 1406 1581 1522 \nL 1381 1569 \nQ 847 1681 609 1914 \nQ 372 2147 372 2553 \nQ 372 3047 722 3315 \nQ 1072 3584 1716 3584 \nQ 2034 3584 2315 3537 \nQ 2597 3491 2834 3397 \nz\n\" transform=\"scale(0.015625)\"/>\n      <path id=\"DejaVuSans-65\" d=\"M 3597 1894 \nL 3597 1613 \nL 953 1613 \nQ 991 1019 1311 708 \nQ 1631 397 2203 397 \nQ 2534 397 2845 478 \nQ 3156 559 3463 722 \nL 3463 178 \nQ 3153 47 2828 -22 \nQ 2503 -91 2169 -91 \nQ 1331 -91 842 396 \nQ 353 884 353 1716 \nQ 353 2575 817 3079 \nQ 1281 3584 2069 3584 \nQ 2775 3584 3186 3129 \nQ 3597 2675 3597 1894 \nz\nM 3022 2063 \nQ 3016 2534 2758 2815 \nQ 2500 3097 2075 3097 \nQ 1594 3097 1305 2825 \nQ 1016 2553 972 2059 \nL 3022 2063 \nz\n\" transform=\"scale(0.015625)\"/>\n     </defs>\n     <use xlink:href=\"#DejaVuSans-54\"/>\n     <use xlink:href=\"#DejaVuSans-72\" x=\"46.333984\"/>\n     <use xlink:href=\"#DejaVuSans-6f\" x=\"85.197266\"/>\n     <use xlink:href=\"#DejaVuSans-75\" x=\"146.378906\"/>\n     <use xlink:href=\"#DejaVuSans-73\" x=\"209.757812\"/>\n     <use xlink:href=\"#DejaVuSans-65\" x=\"261.857422\"/>\n     <use xlink:href=\"#DejaVuSans-72\" x=\"323.380859\"/>\n    </g>\n   </g>\n  </g>\n  <g id=\"axes_4\">\n   <g clip-path=\"url(#p6cc9b94e22)\">\n    <image xlink:href=\"data:image/png;base64,\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\" id=\"image342f4e4ebb\" transform=\"scale(1 -1) translate(0 -137.52)\" x=\"7.2\" y=\"-192.890215\" width=\"137.52\" height=\"137.52\"/>\n   </g>\n   <g id=\"text_4\">\n    <!-- Pullover -->\n    <g transform=\"translate(35.441365 187.186685) scale(0.2016 -0.2016)\">\n     <defs>\n      <path id=\"DejaVuSans-50\" d=\"M 1259 4147 \nL 1259 2394 \nL 2053 2394 \nQ 2494 2394 2734 2622 \nQ 2975 2850 2975 3272 \nQ 2975 3691 2734 3919 \nQ 2494 4147 2053 4147 \nL 1259 4147 \nz\nM 628 4666 \nL 2053 4666 \nQ 2838 4666 3239 4311 \nQ 3641 3956 3641 3272 \nQ 3641 2581 3239 2228 \nQ 2838 1875 2053 1875 \nL 1259 1875 \nL 1259 0 \nL 628 0 \nL 628 4666 \nz\n\" transform=\"scale(0.015625)\"/>\n      <path id=\"DejaVuSans-6c\" d=\"M 603 4863 \nL 1178 4863 \nL 1178 0 \nL 603 0 \nL 603 4863 \nz\n\" transform=\"scale(0.015625)\"/>\n      <path id=\"DejaVuSans-76\" d=\"M 191 3500 \nL 800 3500 \nL 1894 563 \nL 2988 3500 \nL 3597 3500 \nL 2284 0 \nL 1503 0 \nL 191 3500 \nz\n\" transform=\"scale(0.015625)\"/>\n     </defs>\n     <use xlink:href=\"#DejaVuSans-50\"/>\n     <use xlink:href=\"#DejaVuSans-75\" x=\"58.552734\"/>\n     <use xlink:href=\"#DejaVuSans-6c\" x=\"121.931641\"/>\n     <use xlink:href=\"#DejaVuSans-6c\" x=\"149.714844\"/>\n     <use xlink:href=\"#DejaVuSans-6f\" x=\"177.498047\"/>\n     <use xlink:href=\"#DejaVuSans-76\" x=\"238.679688\"/>\n     <use xlink:href=\"#DejaVuSans-65\" x=\"297.859375\"/>\n     <use xlink:href=\"#DejaVuSans-72\" x=\"359.382812\"/>\n    </g>\n   </g>\n  </g>\n  <g id=\"axes_5\">\n   <g clip-path=\"url(#pfe9fca53b5)\">\n    <image xlink:href=\"data:image/png;base64,\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\" id=\"image72fe75a687\" transform=\"scale(1 -1) translate(0 -137.52)\" x=\"184.065882\" y=\"-192.890215\" width=\"137.52\" height=\"137.52\"/>\n   </g>\n   <g id=\"text_5\">\n    <!-- Shirt -->\n    <g transform=\"translate(228.994372 187.186685) scale(0.2016 -0.2016)\">\n     <use xlink:href=\"#DejaVuSans-53\"/>\n     <use xlink:href=\"#DejaVuSans-68\" x=\"63.476562\"/>\n     <use xlink:href=\"#DejaVuSans-69\" x=\"126.855469\"/>\n     <use xlink:href=\"#DejaVuSans-72\" x=\"154.638672\"/>\n     <use xlink:href=\"#DejaVuSans-74\" x=\"195.751953\"/>\n    </g>\n   </g>\n  </g>\n  <g id=\"axes_6\">\n   <g clip-path=\"url(#pd26d098db1)\">\n    <image xlink:href=\"data:image/png;base64,\niVBORw0KGgoAAAANSUhEUgAAAL8AAAC/CAYAAACv6g0GAAAJYklEQVR4nO3dv49cVxnG8XPv/Nyd9c7+9tqWbYgNEkJCIoiAqCMhIaE0aVIgIRpaOhr+A4REQ5uKkpq/gAgEAtKEH8FEDo7jtde7nuzszs7Mzr2Xiu48L9qRYxOe76e8r+7cM7PPnuLVOfcUrxdvNgkwVL7sAQAvC+GHLcIPW4Qftgg/bBF+2CL8sEX4YYvwwxbhhy3CD1uEH7YIP2wRftgi/LBF+GGL8MMW4Yctwg9bhB+2CD9sEX7YIvywRfhhi/DDFuGHrfbLHsB/tLa3dHF/V5bOb67L2tGXO9nrk2u1HsfNiax1OpWutXRtfNbPXq+mwc8/Dealrh5/qgpZap3o57Wm+eurB/rz+sd6HKtPLmStbuvPbJ8tZK2o82/WbH8iBp9Sqt77u6wx88MW4Yctwg9bhB+2CD9sEX7YCludJ299U9Yefyvfdtq7cyTveXX3I1nrlieydqP3oazN6nw7M6WUfrLzt+z1d2czec+Tak3Wfj+5I2u9Urf21Bije3bbY1l7pftE1o6D8a8W+ntPm/wYN1q69Tso5rLWL3TrN6qN6q6sHVWD7PUP5nvynl+8/YasMfPDFuGHLcIPW4Qftgg/bBF+2Cq+9v2fyUOou289ljc+OhzmC0c9ec+Vf+r/tZWneoVg9zRYPfjgVNaK0/P89YVutU3v6BWkdUePv+rplYoXg/x9J7f1503u6Dbi1esjWdta0a3JyYVuIyrjmb7n+MGGrJXBqtSmo8897+3r8Q8H+b/nsKdXdc5/ek3WmPlhi/DDFuGHLcIPW4Qftgg/bBXfHv5A9p3mr96VN/buP80XLvQG5HpTbzYvGt3+WqznN4CnlNJ8U7fiTm9cfn/+ZF+3LEPBnnI1xdTB8Nq645eaYMqq9E+Vqn7wG2/k/27lqv57lh/rh0Ub3yOFflxqzfPjn27pZ91++56sMfPDFuGHLcIPW4Qftgg/bBF+2GpXJ3rjePfwTNZGr13PXl95olcjTnf0ZvOm1O0q9Y7GlFIK9kLL9mMTtBgHD/Wzgv3m6ZO7wfjFGAv9qHQevE+0O9Jz1vCe/tDORH/m2dX832a2qf9mi4F+1ulN/ay1f+nxL1ZlSa6crfVC4lQfj2SNmR+2CD9sEX7YIvywRfhhK1z5FZ1q0bn99ez1yVW90Gy2oTsiVTc4rWOquwqzob6vFF2WjXt69dTBN1qy1j3Rz1rRbxBM48/lxx8t/rr1a91pq7t6jO0/vS9rxSD/ur+UUhoOVmRNqXb0QsX739W1k6/ojuD2b4PuUl90e/QtqVnoFh0zP2wRftgi/LBF+GGL8MMW4Yet4vXizWB5ldbaFa/1CxaoVY+DfmCkCPaDBnt/lda6bsNVY30iSigYx/kbr2WvP/iOvueLP/yDrEUHdhdX9MksTVu3SFMv36Ku+8HB1QfPZK0+Opa1w+99VdaiPdT9w/zv1T3Vv+Pwl7+TNWZ+2CL8sEX4YYvwwxbhhy3CD1tLtzqVqI1YbG3IWjMOTljp6pWiTXDKSqrztWL9ir5nqg9qbjb0fbPrQfu0l59jVt8Xr3xMKdUfPpS11r4+dLnpX/70lZRSqtfzqzrrnm511j3dOi1n+u/SeTSStb/+SJ+kovY8v/IrfTJL+Zt3dU1WgP9zhB+2CD9sEX7YIvywRfhh6/JHl/wX0esPW73gvXKBZdqZKaXUzMXm5ZEeYzEM2qBPR7LUHwWrQdv5n7k60Ktcmwu9yTtaMdkEJ+OkRr9CsFzNvyewDP5mzdVtWatX9a7y+Y1NWfvSzx/J2l9+fDV7vaiW69Yz88MW4Yctwg9bhB+2CD9sEX7Yeu6rOj8NRUevVCzX9PsnUzd4iaN61kpwinO0kT5oxzZqpeie3oi+GAbjCEQrLauunut6T8+z18uT/PWUUiomejVlqnVbNVod23R1971p58ff/PE9PY4AMz9sEX7YIvywRfhhi/DDFuGHree+qjO05Ds3oxWO1TNdU88r2roFWgatzvA9mFPd9mtu7mevL9Z0CzdaqahafimlVE51y7W40O3H6X5+VWd1S3/n1kx/XmesV5e2x/olAeXhSNYWN/KrSMN3rwarjJn5YYvwwxbhhy3CD1uEH7ZebLdniVNUPo3nhd2joFZ84aaszXb0Ic4rH+X395Zz3ZmpBtHJykGppRe2NS3dbese5793taojcr6jxzjdCg7KnuouV39Td9umW/nnrf05WGAXYOaHLcIPW4Qftgg/bBF+2CL8sPViW52fceU/Hshaf3b98p83Ea9TTCmVM70wrBroVuGyp6WUF/la54ORvKf7zmNZKwb5hXIppVR/Xv9W0WK/8538XD0I2tMRZn7YIvywRfhhi/DDFuGHLcIPW7Q6LyE8dWaqTylJvXz7rggOvI72O7fnwekr0cks4zP9uNX8qtRqS+/hLdZ1O7M41ifVtJ4GJ+Nc6NdP7r0zyV6vl9wbzswPW4Qftgg/bBF+2CL8sEX4YYtW53NSD3XbrzzNtzSLmV7V2fSCDex1sIM92MAenTrTHD3LXi/F9ZRSam7p1ZnV3lDWIuq3SimlxXa+Ddq+ok964XWFQAbhhy3CD1uEH7YIP2wRftii1fmcNC09j9Rrvez1oqN//qLSm83DlZuBi2ubsra4u5u93gpOeglP2gkUlT7RZR68q1OdSNNaLPd7MPPDFuGHLcIPW4Qftgg/bHl2e5bc89na3pK1eXCSSvdJfu9s3dc/f1MEnaCFftZ8W58QM1/Xn9k9yXdMqr5eKBedw9u09W9cd/U42me6c3Oxnv/e0YK9NMnv+02JmR/GCD9sEX7YIvywRfhhi/DDlmerc9nDsIO9s+2T4NWDB4fZy9HMU/SD9l1Xtzr7o1NZ6411TX23op9flJdSSqkMvkEdtEEXerFc9LzWMP/qxOZMtzMjzPywRfhhi/DDFuGHLcIPW4QftjxbnUuqx8FpIwfBa/3a4mcOWqfNdKoHErUsI9GeYXEyS9iynOvXLaY9vQK2mOjvFu2FTvfuZy/X0W8VYOaHLcIPW4Qftgg/bBF+2CL8sEWr8xKa4LV4i4cfv8CRfAYc5ley/i9h5octwg9bhB+2CD9sEX7YIvywRfhhi/DDFuGHLcIPW4Qftgg/bBF+2CL8sEX4YYvwwxbhhy3CD1uEH7YIP2wRftgi/LBF+GGL8MMW4Yctwg9bhB+2CD9sEX7YIvywRfhhi/DDFuGHrX8D7XI6FnJQsGIAAAAASUVORK5CYII=\" id=\"imagebad15ad8eb\" transform=\"scale(1 -1) translate(0 -137.52)\" x=\"360.931765\" y=\"-192.890215\" width=\"137.52\" height=\"137.52\"/>\n   </g>\n   <g id=\"text_6\">\n    <!-- Ankle Boot -->\n    <g transform=\"translate(375.013879 187.186685) scale(0.2016 -0.2016)\">\n     <defs>\n      <path id=\"DejaVuSans-41\" d=\"M 2188 4044 \nL 1331 1722 \nL 3047 1722 \nL 2188 4044 \nz\nM 1831 4666 \nL 2547 4666 \nL 4325 0 \nL 3669 0 \nL 3244 1197 \nL 1141 1197 \nL 716 0 \nL 50 0 \nL 1831 4666 \nz\n\" transform=\"scale(0.015625)\"/>\n      <path id=\"DejaVuSans-6e\" d=\"M 3513 2113 \nL 3513 0 \nL 2938 0 \nL 2938 2094 \nQ 2938 2591 2744 2837 \nQ 2550 3084 2163 3084 \nQ 1697 3084 1428 2787 \nQ 1159 2491 1159 1978 \nL 1159 0 \nL 581 0 \nL 581 3500 \nL 1159 3500 \nL 1159 2956 \nQ 1366 3272 1645 3428 \nQ 1925 3584 2291 3584 \nQ 2894 3584 3203 3211 \nQ 3513 2838 3513 2113 \nz\n\" transform=\"scale(0.015625)\"/>\n      <path id=\"DejaVuSans-6b\" d=\"M 581 4863 \nL 1159 4863 \nL 1159 1991 \nL 2875 3500 \nL 3609 3500 \nL 1753 1863 \nL 3688 0 \nL 2938 0 \nL 1159 1709 \nL 1159 0 \nL 581 0 \nL 581 4863 \nz\n\" transform=\"scale(0.015625)\"/>\n      <path id=\"DejaVuSans-20\" transform=\"scale(0.015625)\"/>\n      <path id=\"DejaVuSans-42\" d=\"M 1259 2228 \nL 1259 519 \nL 2272 519 \nQ 2781 519 3026 730 \nQ 3272 941 3272 1375 \nQ 3272 1813 3026 2020 \nQ 2781 2228 2272 2228 \nL 1259 2228 \nz\nM 1259 4147 \nL 1259 2741 \nL 2194 2741 \nQ 2656 2741 2882 2914 \nQ 3109 3088 3109 3444 \nQ 3109 3797 2882 3972 \nQ 2656 4147 2194 4147 \nL 1259 4147 \nz\nM 628 4666 \nL 2241 4666 \nQ 2963 4666 3353 4366 \nQ 3744 4066 3744 3513 \nQ 3744 3084 3544 2831 \nQ 3344 2578 2956 2516 \nQ 3422 2416 3680 2098 \nQ 3938 1781 3938 1306 \nQ 3938 681 3513 340 \nQ 3088 0 2303 0 \nL 628 0 \nL 628 4666 \nz\n\" transform=\"scale(0.015625)\"/>\n     </defs>\n     <use xlink:href=\"#DejaVuSans-41\"/>\n     <use xlink:href=\"#DejaVuSans-6e\" x=\"68.408203\"/>\n     <use xlink:href=\"#DejaVuSans-6b\" x=\"131.787109\"/>\n     <use xlink:href=\"#DejaVuSans-6c\" x=\"189.697266\"/>\n     <use xlink:href=\"#DejaVuSans-65\" x=\"217.480469\"/>\n     <use xlink:href=\"#DejaVuSans-20\" x=\"279.003906\"/>\n     <use xlink:href=\"#DejaVuSans-42\" x=\"310.791016\"/>\n     <use xlink:href=\"#DejaVuSans-6f\" x=\"379.394531\"/>\n     <use xlink:href=\"#DejaVuSans-6f\" x=\"440.576172\"/>\n     <use xlink:href=\"#DejaVuSans-74\" x=\"501.757812\"/>\n    </g>\n   </g>\n  </g>\n  <g id=\"axes_7\">\n   <g clip-path=\"url(#p841652ed6c)\">\n    <image xlink:href=\"data:image/png;base64,\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\" id=\"imageb3b73ccb11\" transform=\"scale(1 -1) translate(0 -137.52)\" x=\"7.2\" y=\"-357.55845\" width=\"137.52\" height=\"137.52\"/>\n   </g>\n   <g id=\"text_7\">\n    <!-- Sandal -->\n    <g transform=\"translate(41.470465 351.854921) scale(0.2016 -0.2016)\">\n     <defs>\n      <path id=\"DejaVuSans-64\" d=\"M 2906 2969 \nL 2906 4863 \nL 3481 4863 \nL 3481 0 \nL 2906 0 \nL 2906 525 \nQ 2725 213 2448 61 \nQ 2172 -91 1784 -91 \nQ 1150 -91 751 415 \nQ 353 922 353 1747 \nQ 353 2572 751 3078 \nQ 1150 3584 1784 3584 \nQ 2172 3584 2448 3432 \nQ 2725 3281 2906 2969 \nz\nM 947 1747 \nQ 947 1113 1208 752 \nQ 1469 391 1925 391 \nQ 2381 391 2643 752 \nQ 2906 1113 2906 1747 \nQ 2906 2381 2643 2742 \nQ 2381 3103 1925 3103 \nQ 1469 3103 1208 2742 \nQ 947 2381 947 1747 \nz\n\" transform=\"scale(0.015625)\"/>\n     </defs>\n     <use xlink:href=\"#DejaVuSans-53\"/>\n     <use xlink:href=\"#DejaVuSans-61\" x=\"63.476562\"/>\n     <use xlink:href=\"#DejaVuSans-6e\" x=\"124.755859\"/>\n     <use xlink:href=\"#DejaVuSans-64\" x=\"188.134766\"/>\n     <use xlink:href=\"#DejaVuSans-61\" x=\"251.611328\"/>\n     <use xlink:href=\"#DejaVuSans-6c\" x=\"312.890625\"/>\n    </g>\n   </g>\n  </g>\n  <g id=\"axes_8\">\n   <g clip-path=\"url(#p99f674f202)\">\n    <image xlink:href=\"data:image/png;base64,\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\" id=\"image51d2410129\" transform=\"scale(1 -1) translate(0 -137.52)\" x=\"184.065882\" y=\"-357.55845\" width=\"137.52\" height=\"137.52\"/>\n   </g>\n   <g id=\"text_8\">\n    <!-- Bag -->\n    <g transform=\"translate(233.185447 351.854921) scale(0.2016 -0.2016)\">\n     <defs>\n      <path id=\"DejaVuSans-67\" d=\"M 2906 1791 \nQ 2906 2416 2648 2759 \nQ 2391 3103 1925 3103 \nQ 1463 3103 1205 2759 \nQ 947 2416 947 1791 \nQ 947 1169 1205 825 \nQ 1463 481 1925 481 \nQ 2391 481 2648 825 \nQ 2906 1169 2906 1791 \nz\nM 3481 434 \nQ 3481 -459 3084 -895 \nQ 2688 -1331 1869 -1331 \nQ 1566 -1331 1297 -1286 \nQ 1028 -1241 775 -1147 \nL 775 -588 \nQ 1028 -725 1275 -790 \nQ 1522 -856 1778 -856 \nQ 2344 -856 2625 -561 \nQ 2906 -266 2906 331 \nL 2906 616 \nQ 2728 306 2450 153 \nQ 2172 0 1784 0 \nQ 1141 0 747 490 \nQ 353 981 353 1791 \nQ 353 2603 747 3093 \nQ 1141 3584 1784 3584 \nQ 2172 3584 2450 3431 \nQ 2728 3278 2906 2969 \nL 2906 3500 \nL 3481 3500 \nL 3481 434 \nz\n\" transform=\"scale(0.015625)\"/>\n     </defs>\n     <use xlink:href=\"#DejaVuSans-42\"/>\n     <use xlink:href=\"#DejaVuSans-61\" x=\"68.603516\"/>\n     <use xlink:href=\"#DejaVuSans-67\" x=\"129.882812\"/>\n    </g>\n   </g>\n  </g>\n  <g id=\"axes_9\">\n   <g clip-path=\"url(#p8c08710121)\">\n    <image xlink:href=\"data:image/png;base64,\niVBORw0KGgoAAAANSUhEUgAAAL8AAAC/CAYAAACv6g0GAAAGxElEQVR4nO3dTWwUZRzH8ZnZ2b5saaEtBdRQarFVDDEmgtGQqDH1AEZjlGjUeMSDmmi4cPagBw/GxJMJsV5M4KQHjyYeTDCYCCGgRKtAtSIIhdrXbfdlPOjx+T2GTQX09/0c55/ZnV2+nYQnszPpWLq3SABD2Y0+AOBGIX7YIn7YIn7YIn7YIn7YIn7YIn7YIn7YIn7YIn7YIn7YIn7YIn7YIn7YIn7YIn7YIn7YIn7YIn7YIn7YIn7YIn7YIn7YIn7YIn7YIn7YIn7YIn7YIn7YIn7YIn7YIn7YIn7YIn7YIn7YIn7YIn7YIn7YIn7YIn7YIn7YIn7YIn7YIn7YIn7YIn7YIn7YIn7YIn7YIn7YIn7YIn7YIn7Yyq/ru2UlPWory1na0a5fs13P0iz8t100m9e8T5IkSZJHvq6i0LN6XewS2acZmRX6+FvWaOE1S5HvKo3MIsefxr7jNBWvp7+rxvRVOePMD1vED1vED1vED1vED1t5qb9PDtM1Xdf8gs21ep+iXa/oRFdgquHVkr921P/TL+oNvZ/aJzJLV2p6GHuvsvjcnZFVrFyvjEXfK7YCE1vJUt9/ZJ8i17O0FjnGyPEXkc9diGNpVnRXpWpVzjjzwxbxwxbxwxbxwxbxwxbxw1ae9nTLYRG72Gx+MTz44Zx+vciyU8y1L1gCf9u4QY4488MW8cMW8cMW8cMW8cMW8cNWXj87uaovWOrpkbNsdEjOlm7TS66NDv03enVUXwW43B++RjOfF78FTZKkyPV1nWld7xc7jSz3hq+YXDs0I/eptK/I2fSsvnJ2ebpTzrIlfZD5Qvizlar6M6eRn/1mkfXpNDLLIhfO5gvhf5vYcfSNf6XfS+8G/L8RP2wRP2wRP2wRP2wRP2zlpYEBOTz99pCcjQ7/Ftz+05HNcp9an16T2jJ6Qc4uHLtVznq3X5Kz4/ceCm9f0cfxztRuOTv9+0Y5qy62yVn5547g9vmF8PYkSZLdg9/J2eDgtD6OQl+J253pq2q7suXg9iyyjjjT0EuutUIvQZcja52b8hk5axP7zTQqcp/x8S1yxpkftogftogftogftogftogfttKxdK+8jLE0Mix3rG7pDW9fH7lv4rK+YvLKNr00Vr17Sc6as/r9uibDT/ko7v9D7pNl+hhrJ9fK2XsvfChnj3WGj/+ZH/Wy6sljt8tZz/CMnK2r6O+qq6yvFK3k4dlKQz8pZaGul3frTX1e3bbuopwNtM3JWXsavmfrwS8fkfuMvHpUzjjzwxbxwxbxwxbxwxbxwxbxw1b0IdSNiTNyVp4Q21s8kMonerb8+E45u7JPL431fbYmuD09oa8CvLhTf4Jy5FajB049LWdvih+jf7DtY7nP6yvPydlwt76q85YOvYw739CPQerNw/deLUWu6lxs6KXOc4v9clZrRpa1m/r7XyzC77fuZGvncM78sEX8sEX8sEX8sEX8sBW9sC3NI4tBafjvpmhE7kXXXP1nrKQ7tsvZxIvh1Z6xXSfkPndW9EVXhybvk7Ms1RfEtZXCn/uXyfVynzu26t80D3dflrMn+47LWUeq7wX4/tRYcPtSXa++7N50Ss52duqVws/n9L/ZbF3/rvnopaHg9jVPTMl9ipq+mI8zP2wRP2wRP2wRP2wRP2wRP2xFlzqvqzTy1JNidQ8x69K32Uu26tstThzQTz3Z1K8vKFNH/9Kg/n3p4V93yNlA57ycxX5zW92vl1aLb76Vs1Zk99wlZ9/v19//u7sOy9lH53cFty89rJenYzjzwxbxwxbxwxbxwxbxwxbxw9bNs9R5k0jb9e9cp97QV3XWevTX+NSe8IOQvzg/Ive5fFk/lDuZ01dajryml0//C2aff0DOykvh3xN3fvp1S+/FmR+2iB+2iB+2iB+2iB+2iB+2WOpcJfVH9TLomWfF7flyfSvAs3sOytlDr7wsZ7Flv9gyblELP/Wk1ZsOxG5+EL3JwSpfwRvDmR+2iB+2iB+2iB+2iB+2iB+2WOq8gab3PShnixv0D/o3v3WktTfM9BNRWlrS/BduOpCW9dNekiK8NFzUxTLtP+DMD1vED1vED1vED1vED1us9sAWZ37YIn7YIn7YIn7YIn7YIn7YIn7YIn7YIn7YIn7YIn7YIn7YIn7YIn7YIn7YIn7YIn7YIn7YIn7YIn7YIn7YIn7YIn7YIn7YIn7YIn7YIn7YIn7YIn7YIn7YIn7YIn7YIn7YIn7YIn7YIn7YIn7YIn7YIn7YIn7YIn7YIn7YIn7YIn7YIn7YIn7YIn7YIn7YIn7YIn7YIn7YIn7YIn7YIn7Y+hOiJ0jggefT3AAAAABJRU5ErkJggg==\" id=\"image267eae52a8\" transform=\"scale(1 -1) translate(0 -137.52)\" x=\"360.931765\" y=\"-357.55845\" width=\"137.52\" height=\"137.52\"/>\n   </g>\n   <g id=\"text_9\">\n    <!-- Sneaker -->\n    <g transform=\"translate(388.558879 351.854921) scale(0.2016 -0.2016)\">\n     <use xlink:href=\"#DejaVuSans-53\"/>\n     <use xlink:href=\"#DejaVuSans-6e\" x=\"63.476562\"/>\n     <use xlink:href=\"#DejaVuSans-65\" x=\"126.855469\"/>\n     <use xlink:href=\"#DejaVuSans-61\" x=\"188.378906\"/>\n     <use xlink:href=\"#DejaVuSans-6b\" x=\"249.658203\"/>\n     <use xlink:href=\"#DejaVuSans-65\" x=\"303.943359\"/>\n     <use xlink:href=\"#DejaVuSans-72\" x=\"365.466797\"/>\n    </g>\n   </g>\n  </g>\n </g>\n <defs>\n  <clipPath id=\"p3d2e44b657\">\n   <rect x=\"7.2\" y=\"28.51845\" width=\"137.223529\" height=\"137.223529\"/>\n  </clipPath>\n  <clipPath id=\"pfcafda4f3b\">\n   <rect x=\"184.065882\" y=\"28.51845\" width=\"137.223529\" height=\"137.223529\"/>\n  </clipPath>\n  <clipPath id=\"pde9ccfc4f1\">\n   <rect x=\"360.931765\" y=\"28.51845\" width=\"137.223529\" height=\"137.223529\"/>\n  </clipPath>\n  <clipPath id=\"p6cc9b94e22\">\n   <rect x=\"7.2\" y=\"193.186685\" width=\"137.223529\" height=\"137.223529\"/>\n  </clipPath>\n  <clipPath id=\"pfe9fca53b5\">\n   <rect x=\"184.065882\" y=\"193.186685\" width=\"137.223529\" height=\"137.223529\"/>\n  </clipPath>\n  <clipPath id=\"pd26d098db1\">\n   <rect x=\"360.931765\" y=\"193.186685\" width=\"137.223529\" height=\"137.223529\"/>\n  </clipPath>\n  <clipPath id=\"p841652ed6c\">\n   <rect x=\"7.2\" y=\"357.854921\" width=\"137.223529\" height=\"137.223529\"/>\n  </clipPath>\n  <clipPath id=\"p99f674f202\">\n   <rect x=\"184.065882\" y=\"357.854921\" width=\"137.223529\" height=\"137.223529\"/>\n  </clipPath>\n  <clipPath id=\"p8c08710121\">\n   <rect x=\"360.931765\" y=\"357.854921\" width=\"137.223529\" height=\"137.223529\"/>\n  </clipPath>\n </defs>\n</svg>\n",
      "text/plain": [
       "<Figure size 800x800 with 9 Axes>"
      ]
     },
     "metadata": {},
     "output_type": "display_data"
    }
   ],
   "source": [
    "# Look at data\n",
    "\n",
    "# Labels\n",
    "labels_map = {\n",
    "    0: \"T-Shirt\",\n",
    "    1: \"Trouser\",\n",
    "    2: \"Pullover\",\n",
    "    3: \"Dress\",\n",
    "    4: \"Coat\",\n",
    "    5: \"Sandal\",\n",
    "    6: \"Shirt\",\n",
    "    7: \"Sneaker\",\n",
    "    8: \"Bag\",\n",
    "    9: \"Ankle Boot\",\n",
    "}\n",
    "\n",
    "# plot data\n",
    "figure = plt.figure(figsize=(8, 8))\n",
    "cols, rows = 3, 3\n",
    "for i in range(1, cols * rows + 1):\n",
    "    sample_idx = torch.randint(len(data.train), size=(1,)).item()\n",
    "    img, label = data.train[sample_idx]\n",
    "    figure.add_subplot(rows, cols, i)\n",
    "    plt.title(labels_map[label])\n",
    "    plt.imshow(img.squeeze())\n",
    "    plt.axis(\"off\")"
   ]
  },
  {
   "cell_type": "code",
   "execution_count": null,
   "metadata": {},
   "outputs": [],
   "source": [
    "# Convert to Dataloaders\n"
   ]
  },
  {
   "cell_type": "code",
   "execution_count": 7,
   "metadata": {},
   "outputs": [
    {
     "name": "stdout",
     "output_type": "stream",
     "text": [
      "torch.Size([32, 2]) torch.Size([32, 1])\n",
      "Epoch 1\n",
      "-------------------------------\n",
      "loss: 50.698044  [    0/ 2000]\n",
      "Epoch 2\n",
      "-------------------------------\n",
      "loss: 0.206054  [    0/ 2000]\n",
      "Epoch 3\n",
      "-------------------------------\n",
      "loss: 0.097946  [    0/ 2000]\n",
      "Done!\n",
      "\n",
      "The final parameters are (with w = tensor([ 2.0000, -3.4000]) and b = 4.2 as correct answer): \n",
      "OrderedDict([('model.0.weight', tensor([[ 1.9062, -3.2327]])), ('model.0.bias', tensor([4.0953]))])\n",
      "error in estimating w: tensor([[ 0.0938, -0.1673]])\n",
      "error in estimating b: tensor([0.1047])\n"
     ]
    }
   ],
   "source": [
    "# Random data for testing\n",
    "torch.manual_seed(1701)\n",
    "\n",
    "# Create synthetic data\n",
    "num_train=1000\n",
    "num_val=1000\n",
    "w = torch.tensor([2, -3.4])\n",
    "b = 4.2\n",
    "n = num_train + num_val\n",
    "noise = 0.1\n",
    "\n",
    "X = torch.randn((n, len(w)))\n",
    "y = X @ w.reshape(-1, 1) + b + noise\n",
    "\n",
    "\n",
    "class Mydata(Dataset):\n",
    "    def __init__(self, X, y):\n",
    "        self.X = X\n",
    "        self.y = y\n",
    "\n",
    "    def __len__(self):\n",
    "        return len(self.y)\n",
    "\n",
    "    def __getitem__(self, index):\n",
    "        return self.X[index], self.y[index]\n",
    "\n",
    "\n",
    "# Create dataset\n",
    "dataset = Mydata(X, y)\n",
    "\n",
    "# Create dataloader\n",
    "data = DataLoader(dataset, batch_size=32)\n",
    "\n",
    "for x, y in data:\n",
    "    print (x.shape, y.shape)\n",
    "    break\n",
    "\n",
    "\n",
    "# Create model\n",
    "class MyModel(nn.Module):\n",
    "    def __init__(self):\n",
    "        super().__init__()\n",
    "        self.model = nn.Sequential(nn.Linear(2,1))\n",
    "\n",
    "    def forward(self, x):\n",
    "        x = self.model(x)\n",
    "        return x\n",
    "\n",
    "model = MyModel()\n",
    "loss_fn = nn.MSELoss()\n",
    "optimizer = torch.optim.SGD(model.parameters(), lr=0.03, weight_decay=0.1)\n",
    "\n",
    "\n",
    "def train(data, model, loss_fn, optimizer):\n",
    "    size = len(data.dataset)\n",
    "    model.train()\n",
    "    for batch, (X, y) in enumerate(data):\n",
    "        pred = model(X)\n",
    "        loss = loss_fn(pred, y)\n",
    "\n",
    "        optimizer.zero_grad()\n",
    "        loss.backward()\n",
    "        optimizer.step()\n",
    "\n",
    "        if batch % 100 == 0:\n",
    "            loss, current = loss.item(), batch * len(X)\n",
    "            print(f\"loss: {loss:>7f}  [{current:>5d}/{size:>5d}]\")\n",
    "\n",
    "\n",
    "\n",
    "#train(data, model, loss_fn, optimizer)\n",
    "\n",
    "epochs = 3\n",
    "for t in range(epochs):\n",
    "    print(f\"Epoch {t+1}\\n-------------------------------\")\n",
    "    train(data, model, loss_fn, optimizer)\n",
    "print(\"Done!\")\n",
    "\n",
    "#for p in model.parameters():\n",
    "#    print (p)\n",
    "\n",
    "print (f'\\nThe final parameters are (with w = {w} and b = {b} as correct answer): ')\n",
    "print (model.state_dict())\n",
    "answ = w - model.state_dict()['model.0.weight']\n",
    "ansb = b - model.state_dict()['model.0.bias']\n",
    "print(f'error in estimating w: {answ}')\n",
    "print(f'error in estimating b: {ansb}')\n",
    "\n",
    "\n",
    "\n"
   ]
  },
  {
   "cell_type": "markdown",
   "metadata": {},
   "source": []
  },
  {
   "cell_type": "code",
   "execution_count": 34,
   "metadata": {},
   "outputs": [
    {
     "data": {
      "text/plain": [
       "OrderedDict([('model.0.weight', tensor([[ 2.0000, -3.3999]])),\n",
       "             ('model.0.bias', tensor([4.2999]))])"
      ]
     },
     "execution_count": 34,
     "metadata": {},
     "output_type": "execute_result"
    }
   ],
   "source": [
    "model.state_dict()"
   ]
  },
  {
   "cell_type": "code",
   "execution_count": null,
   "metadata": {},
   "outputs": [],
   "source": []
  }
 ],
 "metadata": {
  "kernelspec": {
   "display_name": "Python 3",
   "language": "python",
   "name": "python3"
  },
  "language_info": {
   "codemirror_mode": {
    "name": "ipython",
    "version": 3
   },
   "file_extension": ".py",
   "mimetype": "text/x-python",
   "name": "python",
   "nbconvert_exporter": "python",
   "pygments_lexer": "ipython3",
   "version": "3.9.6"
  },
  "orig_nbformat": 4,
  "vscode": {
   "interpreter": {
    "hash": "31f2aee4e71d21fbe5cf8b01ff0e069b9275f58929596ceb00d14d90e3e16cd6"
   }
  }
 },
 "nbformat": 4,
 "nbformat_minor": 2
}
