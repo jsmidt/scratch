{
 "cells": [
  {
   "cell_type": "code",
   "execution_count": 1,
   "metadata": {},
   "outputs": [],
   "source": [
    "import torch\n",
    "import torch.nn as nn\n",
    "from torch.utils.data import Dataset, DataLoader\n",
    "from torchvision import datasets\n",
    "import matplotlib.pyplot as plt\n",
    "from torchvision.transforms import ToTensor\n",
    "import time\n",
    "%config InlineBackend.figure_formats = ['svg']\n",
    "plt.style.use('fivethirtyeight')"
   ]
  },
  {
   "attachments": {},
   "cell_type": "markdown",
   "metadata": {},
   "source": [
    "### Test against problems from Chap. 4 of D2L"
   ]
  },
  {
   "attachments": {},
   "cell_type": "markdown",
   "metadata": {},
   "source": [
    "#### Problem 4.2"
   ]
  },
  {
   "cell_type": "code",
   "execution_count": 2,
   "metadata": {},
   "outputs": [
    {
     "data": {
      "text/plain": [
       "(60000, 10000, 59, 10)"
      ]
     },
     "execution_count": 2,
     "metadata": {},
     "output_type": "execute_result"
    }
   ],
   "source": [
    "# Import Datasets\n",
    "class FashionMNIST:\n",
    "    def __init__(self) -> None:\n",
    "        # Get datasets\n",
    "        self.train = datasets.FashionMNIST(root='data', train=True, transform=ToTensor())\n",
    "        self.val = datasets.FashionMNIST(root='data', train=False, transform=ToTensor())\n",
    "\n",
    "        # Create data loaders\n",
    "        self.train_dl = torch.utils.data.DataLoader(self.train, batch_size = 1024, shuffle=True)\n",
    "        self.val_dl = torch.utils.data.DataLoader(self.val, batch_size = 1024, shuffle=True)\n",
    "\n",
    "data = FashionMNIST()\n",
    "len(data.train), len(data.val), len(data.train_dl), len(data.val_dl)"
   ]
  },
  {
   "cell_type": "code",
   "execution_count": 3,
   "metadata": {},
   "outputs": [
    {
     "data": {
      "image/svg+xml": "<?xml version=\"1.0\" encoding=\"utf-8\" standalone=\"no\"?>\n<!DOCTYPE svg PUBLIC \"-//W3C//DTD SVG 1.1//EN\"\n  \"http://www.w3.org/Graphics/SVG/1.1/DTD/svg11.dtd\">\n<svg xmlns:xlink=\"http://www.w3.org/1999/xlink\" width=\"505.355294pt\" height=\"502.27845pt\" viewBox=\"0 0 505.355294 502.27845\" xmlns=\"http://www.w3.org/2000/svg\" version=\"1.1\">\n <metadata>\n  <rdf:RDF xmlns:dc=\"http://purl.org/dc/elements/1.1/\" xmlns:cc=\"http://creativecommons.org/ns#\" xmlns:rdf=\"http://www.w3.org/1999/02/22-rdf-syntax-ns#\">\n   <cc:Work>\n    <dc:type rdf:resource=\"http://purl.org/dc/dcmitype/StillImage\"/>\n    <dc:date>2023-01-19T05:50:36.227906</dc:date>\n    <dc:format>image/svg+xml</dc:format>\n    <dc:creator>\n     <cc:Agent>\n      <dc:title>Matplotlib v3.6.3, https://matplotlib.org/</dc:title>\n     </cc:Agent>\n    </dc:creator>\n   </cc:Work>\n  </rdf:RDF>\n </metadata>\n <defs>\n  <style type=\"text/css\">*{stroke-linejoin: round; stroke-linecap: butt}</style>\n </defs>\n <g id=\"figure_1\">\n  <g id=\"patch_1\">\n   <path d=\"M 0 502.27845 \nL 505.355294 502.27845 \nL 505.355294 0 \nL 0 0 \nz\n\" style=\"fill: #f0f0f0\"/>\n  </g>\n  <g id=\"axes_1\">\n   <g clip-path=\"url(#p074cd52eea)\">\n    <image xlink:href=\"data:image/png;base64,\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\" id=\"image9334015858\" transform=\"scale(1 -1) translate(0 -137.52)\" x=\"7.2\" y=\"-28.221979\" width=\"137.52\" height=\"137.52\"/>\n   </g>\n   <g id=\"text_1\">\n    <!-- Shirt -->\n    <g transform=\"translate(52.12849 22.51845) scale(0.2016 -0.2016)\">\n     <defs>\n      <path id=\"DejaVuSans-53\" d=\"M 3425 4513 \nL 3425 3897 \nQ 3066 4069 2747 4153 \nQ 2428 4238 2131 4238 \nQ 1616 4238 1336 4038 \nQ 1056 3838 1056 3469 \nQ 1056 3159 1242 3001 \nQ 1428 2844 1947 2747 \nL 2328 2669 \nQ 3034 2534 3370 2195 \nQ 3706 1856 3706 1288 \nQ 3706 609 3251 259 \nQ 2797 -91 1919 -91 \nQ 1588 -91 1214 -16 \nQ 841 59 441 206 \nL 441 856 \nQ 825 641 1194 531 \nQ 1563 422 1919 422 \nQ 2459 422 2753 634 \nQ 3047 847 3047 1241 \nQ 3047 1584 2836 1778 \nQ 2625 1972 2144 2069 \nL 1759 2144 \nQ 1053 2284 737 2584 \nQ 422 2884 422 3419 \nQ 422 4038 858 4394 \nQ 1294 4750 2059 4750 \nQ 2388 4750 2728 4690 \nQ 3069 4631 3425 4513 \nz\n\" transform=\"scale(0.015625)\"/>\n      <path id=\"DejaVuSans-68\" d=\"M 3513 2113 \nL 3513 0 \nL 2938 0 \nL 2938 2094 \nQ 2938 2591 2744 2837 \nQ 2550 3084 2163 3084 \nQ 1697 3084 1428 2787 \nQ 1159 2491 1159 1978 \nL 1159 0 \nL 581 0 \nL 581 4863 \nL 1159 4863 \nL 1159 2956 \nQ 1366 3272 1645 3428 \nQ 1925 3584 2291 3584 \nQ 2894 3584 3203 3211 \nQ 3513 2838 3513 2113 \nz\n\" transform=\"scale(0.015625)\"/>\n      <path id=\"DejaVuSans-69\" d=\"M 603 3500 \nL 1178 3500 \nL 1178 0 \nL 603 0 \nL 603 3500 \nz\nM 603 4863 \nL 1178 4863 \nL 1178 4134 \nL 603 4134 \nL 603 4863 \nz\n\" transform=\"scale(0.015625)\"/>\n      <path id=\"DejaVuSans-72\" d=\"M 2631 2963 \nQ 2534 3019 2420 3045 \nQ 2306 3072 2169 3072 \nQ 1681 3072 1420 2755 \nQ 1159 2438 1159 1844 \nL 1159 0 \nL 581 0 \nL 581 3500 \nL 1159 3500 \nL 1159 2956 \nQ 1341 3275 1631 3429 \nQ 1922 3584 2338 3584 \nQ 2397 3584 2469 3576 \nQ 2541 3569 2628 3553 \nL 2631 2963 \nz\n\" transform=\"scale(0.015625)\"/>\n      <path id=\"DejaVuSans-74\" d=\"M 1172 4494 \nL 1172 3500 \nL 2356 3500 \nL 2356 3053 \nL 1172 3053 \nL 1172 1153 \nQ 1172 725 1289 603 \nQ 1406 481 1766 481 \nL 2356 481 \nL 2356 0 \nL 1766 0 \nQ 1100 0 847 248 \nQ 594 497 594 1153 \nL 594 3053 \nL 172 3053 \nL 172 3500 \nL 594 3500 \nL 594 4494 \nL 1172 4494 \nz\n\" transform=\"scale(0.015625)\"/>\n     </defs>\n     <use xlink:href=\"#DejaVuSans-53\"/>\n     <use xlink:href=\"#DejaVuSans-68\" x=\"63.476562\"/>\n     <use xlink:href=\"#DejaVuSans-69\" x=\"126.855469\"/>\n     <use xlink:href=\"#DejaVuSans-72\" x=\"154.638672\"/>\n     <use xlink:href=\"#DejaVuSans-74\" x=\"195.751953\"/>\n    </g>\n   </g>\n  </g>\n  <g id=\"axes_2\">\n   <g clip-path=\"url(#p9f89ca0464)\">\n    <image xlink:href=\"data:image/png;base64,\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\" id=\"imagecb040c6e8b\" transform=\"scale(1 -1) translate(0 -137.52)\" x=\"184.065882\" y=\"-28.221979\" width=\"137.52\" height=\"137.52\"/>\n   </g>\n   <g id=\"text_2\">\n    <!-- Bag -->\n    <g transform=\"translate(233.185447 22.51845) scale(0.2016 -0.2016)\">\n     <defs>\n      <path id=\"DejaVuSans-42\" d=\"M 1259 2228 \nL 1259 519 \nL 2272 519 \nQ 2781 519 3026 730 \nQ 3272 941 3272 1375 \nQ 3272 1813 3026 2020 \nQ 2781 2228 2272 2228 \nL 1259 2228 \nz\nM 1259 4147 \nL 1259 2741 \nL 2194 2741 \nQ 2656 2741 2882 2914 \nQ 3109 3088 3109 3444 \nQ 3109 3797 2882 3972 \nQ 2656 4147 2194 4147 \nL 1259 4147 \nz\nM 628 4666 \nL 2241 4666 \nQ 2963 4666 3353 4366 \nQ 3744 4066 3744 3513 \nQ 3744 3084 3544 2831 \nQ 3344 2578 2956 2516 \nQ 3422 2416 3680 2098 \nQ 3938 1781 3938 1306 \nQ 3938 681 3513 340 \nQ 3088 0 2303 0 \nL 628 0 \nL 628 4666 \nz\n\" transform=\"scale(0.015625)\"/>\n      <path id=\"DejaVuSans-61\" d=\"M 2194 1759 \nQ 1497 1759 1228 1600 \nQ 959 1441 959 1056 \nQ 959 750 1161 570 \nQ 1363 391 1709 391 \nQ 2188 391 2477 730 \nQ 2766 1069 2766 1631 \nL 2766 1759 \nL 2194 1759 \nz\nM 3341 1997 \nL 3341 0 \nL 2766 0 \nL 2766 531 \nQ 2569 213 2275 61 \nQ 1981 -91 1556 -91 \nQ 1019 -91 701 211 \nQ 384 513 384 1019 \nQ 384 1609 779 1909 \nQ 1175 2209 1959 2209 \nL 2766 2209 \nL 2766 2266 \nQ 2766 2663 2505 2880 \nQ 2244 3097 1772 3097 \nQ 1472 3097 1187 3025 \nQ 903 2953 641 2809 \nL 641 3341 \nQ 956 3463 1253 3523 \nQ 1550 3584 1831 3584 \nQ 2591 3584 2966 3190 \nQ 3341 2797 3341 1997 \nz\n\" transform=\"scale(0.015625)\"/>\n      <path id=\"DejaVuSans-67\" d=\"M 2906 1791 \nQ 2906 2416 2648 2759 \nQ 2391 3103 1925 3103 \nQ 1463 3103 1205 2759 \nQ 947 2416 947 1791 \nQ 947 1169 1205 825 \nQ 1463 481 1925 481 \nQ 2391 481 2648 825 \nQ 2906 1169 2906 1791 \nz\nM 3481 434 \nQ 3481 -459 3084 -895 \nQ 2688 -1331 1869 -1331 \nQ 1566 -1331 1297 -1286 \nQ 1028 -1241 775 -1147 \nL 775 -588 \nQ 1028 -725 1275 -790 \nQ 1522 -856 1778 -856 \nQ 2344 -856 2625 -561 \nQ 2906 -266 2906 331 \nL 2906 616 \nQ 2728 306 2450 153 \nQ 2172 0 1784 0 \nQ 1141 0 747 490 \nQ 353 981 353 1791 \nQ 353 2603 747 3093 \nQ 1141 3584 1784 3584 \nQ 2172 3584 2450 3431 \nQ 2728 3278 2906 2969 \nL 2906 3500 \nL 3481 3500 \nL 3481 434 \nz\n\" transform=\"scale(0.015625)\"/>\n     </defs>\n     <use xlink:href=\"#DejaVuSans-42\"/>\n     <use xlink:href=\"#DejaVuSans-61\" x=\"68.603516\"/>\n     <use xlink:href=\"#DejaVuSans-67\" x=\"129.882812\"/>\n    </g>\n   </g>\n  </g>\n  <g id=\"axes_3\">\n   <g clip-path=\"url(#p57b308859c)\">\n    <image xlink:href=\"data:image/png;base64,\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\" id=\"image08a00e44ff\" transform=\"scale(1 -1) translate(0 -137.52)\" x=\"360.931765\" y=\"-28.221979\" width=\"137.52\" height=\"137.52\"/>\n   </g>\n   <g id=\"text_3\">\n    <!-- Pullover -->\n    <g transform=\"translate(389.173129 22.51845) scale(0.2016 -0.2016)\">\n     <defs>\n      <path id=\"DejaVuSans-50\" d=\"M 1259 4147 \nL 1259 2394 \nL 2053 2394 \nQ 2494 2394 2734 2622 \nQ 2975 2850 2975 3272 \nQ 2975 3691 2734 3919 \nQ 2494 4147 2053 4147 \nL 1259 4147 \nz\nM 628 4666 \nL 2053 4666 \nQ 2838 4666 3239 4311 \nQ 3641 3956 3641 3272 \nQ 3641 2581 3239 2228 \nQ 2838 1875 2053 1875 \nL 1259 1875 \nL 1259 0 \nL 628 0 \nL 628 4666 \nz\n\" transform=\"scale(0.015625)\"/>\n      <path id=\"DejaVuSans-75\" d=\"M 544 1381 \nL 544 3500 \nL 1119 3500 \nL 1119 1403 \nQ 1119 906 1312 657 \nQ 1506 409 1894 409 \nQ 2359 409 2629 706 \nQ 2900 1003 2900 1516 \nL 2900 3500 \nL 3475 3500 \nL 3475 0 \nL 2900 0 \nL 2900 538 \nQ 2691 219 2414 64 \nQ 2138 -91 1772 -91 \nQ 1169 -91 856 284 \nQ 544 659 544 1381 \nz\nM 1991 3584 \nL 1991 3584 \nz\n\" transform=\"scale(0.015625)\"/>\n      <path id=\"DejaVuSans-6c\" d=\"M 603 4863 \nL 1178 4863 \nL 1178 0 \nL 603 0 \nL 603 4863 \nz\n\" transform=\"scale(0.015625)\"/>\n      <path id=\"DejaVuSans-6f\" d=\"M 1959 3097 \nQ 1497 3097 1228 2736 \nQ 959 2375 959 1747 \nQ 959 1119 1226 758 \nQ 1494 397 1959 397 \nQ 2419 397 2687 759 \nQ 2956 1122 2956 1747 \nQ 2956 2369 2687 2733 \nQ 2419 3097 1959 3097 \nz\nM 1959 3584 \nQ 2709 3584 3137 3096 \nQ 3566 2609 3566 1747 \nQ 3566 888 3137 398 \nQ 2709 -91 1959 -91 \nQ 1206 -91 779 398 \nQ 353 888 353 1747 \nQ 353 2609 779 3096 \nQ 1206 3584 1959 3584 \nz\n\" transform=\"scale(0.015625)\"/>\n      <path id=\"DejaVuSans-76\" d=\"M 191 3500 \nL 800 3500 \nL 1894 563 \nL 2988 3500 \nL 3597 3500 \nL 2284 0 \nL 1503 0 \nL 191 3500 \nz\n\" transform=\"scale(0.015625)\"/>\n      <path id=\"DejaVuSans-65\" d=\"M 3597 1894 \nL 3597 1613 \nL 953 1613 \nQ 991 1019 1311 708 \nQ 1631 397 2203 397 \nQ 2534 397 2845 478 \nQ 3156 559 3463 722 \nL 3463 178 \nQ 3153 47 2828 -22 \nQ 2503 -91 2169 -91 \nQ 1331 -91 842 396 \nQ 353 884 353 1716 \nQ 353 2575 817 3079 \nQ 1281 3584 2069 3584 \nQ 2775 3584 3186 3129 \nQ 3597 2675 3597 1894 \nz\nM 3022 2063 \nQ 3016 2534 2758 2815 \nQ 2500 3097 2075 3097 \nQ 1594 3097 1305 2825 \nQ 1016 2553 972 2059 \nL 3022 2063 \nz\n\" transform=\"scale(0.015625)\"/>\n     </defs>\n     <use xlink:href=\"#DejaVuSans-50\"/>\n     <use xlink:href=\"#DejaVuSans-75\" x=\"58.552734\"/>\n     <use xlink:href=\"#DejaVuSans-6c\" x=\"121.931641\"/>\n     <use xlink:href=\"#DejaVuSans-6c\" x=\"149.714844\"/>\n     <use xlink:href=\"#DejaVuSans-6f\" x=\"177.498047\"/>\n     <use xlink:href=\"#DejaVuSans-76\" x=\"238.679688\"/>\n     <use xlink:href=\"#DejaVuSans-65\" x=\"297.859375\"/>\n     <use xlink:href=\"#DejaVuSans-72\" x=\"359.382812\"/>\n    </g>\n   </g>\n  </g>\n  <g id=\"axes_4\">\n   <g clip-path=\"url(#p831a15148e)\">\n    <image xlink:href=\"data:image/png;base64,\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\" id=\"image011c92ff52\" transform=\"scale(1 -1) translate(0 -137.52)\" x=\"7.2\" y=\"-192.890215\" width=\"137.52\" height=\"137.52\"/>\n   </g>\n   <g id=\"text_4\">\n    <!-- Shirt -->\n    <g transform=\"translate(52.12849 187.186685) scale(0.2016 -0.2016)\">\n     <use xlink:href=\"#DejaVuSans-53\"/>\n     <use xlink:href=\"#DejaVuSans-68\" x=\"63.476562\"/>\n     <use xlink:href=\"#DejaVuSans-69\" x=\"126.855469\"/>\n     <use xlink:href=\"#DejaVuSans-72\" x=\"154.638672\"/>\n     <use xlink:href=\"#DejaVuSans-74\" x=\"195.751953\"/>\n    </g>\n   </g>\n  </g>\n  <g id=\"axes_5\">\n   <g clip-path=\"url(#p2e46521998)\">\n    <image xlink:href=\"data:image/png;base64,\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\" id=\"imagea5e6e6edc8\" transform=\"scale(1 -1) translate(0 -137.52)\" x=\"184.065882\" y=\"-192.890215\" width=\"137.52\" height=\"137.52\"/>\n   </g>\n   <g id=\"text_5\">\n    <!-- Bag -->\n    <g transform=\"translate(233.185447 187.186685) scale(0.2016 -0.2016)\">\n     <use xlink:href=\"#DejaVuSans-42\"/>\n     <use xlink:href=\"#DejaVuSans-61\" x=\"68.603516\"/>\n     <use xlink:href=\"#DejaVuSans-67\" x=\"129.882812\"/>\n    </g>\n   </g>\n  </g>\n  <g id=\"axes_6\">\n   <g clip-path=\"url(#p6842ac5bbf)\">\n    <image xlink:href=\"data:image/png;base64,\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\" id=\"image39a8f5af31\" transform=\"scale(1 -1) translate(0 -137.52)\" x=\"360.931765\" y=\"-192.890215\" width=\"137.52\" height=\"137.52\"/>\n   </g>\n   <g id=\"text_6\">\n    <!-- Dress -->\n    <g transform=\"translate(401.160454 187.186685) scale(0.2016 -0.2016)\">\n     <defs>\n      <path id=\"DejaVuSans-44\" d=\"M 1259 4147 \nL 1259 519 \nL 2022 519 \nQ 2988 519 3436 956 \nQ 3884 1394 3884 2338 \nQ 3884 3275 3436 3711 \nQ 2988 4147 2022 4147 \nL 1259 4147 \nz\nM 628 4666 \nL 1925 4666 \nQ 3281 4666 3915 4102 \nQ 4550 3538 4550 2338 \nQ 4550 1131 3912 565 \nQ 3275 0 1925 0 \nL 628 0 \nL 628 4666 \nz\n\" transform=\"scale(0.015625)\"/>\n      <path id=\"DejaVuSans-73\" d=\"M 2834 3397 \nL 2834 2853 \nQ 2591 2978 2328 3040 \nQ 2066 3103 1784 3103 \nQ 1356 3103 1142 2972 \nQ 928 2841 928 2578 \nQ 928 2378 1081 2264 \nQ 1234 2150 1697 2047 \nL 1894 2003 \nQ 2506 1872 2764 1633 \nQ 3022 1394 3022 966 \nQ 3022 478 2636 193 \nQ 2250 -91 1575 -91 \nQ 1294 -91 989 -36 \nQ 684 19 347 128 \nL 347 722 \nQ 666 556 975 473 \nQ 1284 391 1588 391 \nQ 1994 391 2212 530 \nQ 2431 669 2431 922 \nQ 2431 1156 2273 1281 \nQ 2116 1406 1581 1522 \nL 1381 1569 \nQ 847 1681 609 1914 \nQ 372 2147 372 2553 \nQ 372 3047 722 3315 \nQ 1072 3584 1716 3584 \nQ 2034 3584 2315 3537 \nQ 2597 3491 2834 3397 \nz\n\" transform=\"scale(0.015625)\"/>\n     </defs>\n     <use xlink:href=\"#DejaVuSans-44\"/>\n     <use xlink:href=\"#DejaVuSans-72\" x=\"77.001953\"/>\n     <use xlink:href=\"#DejaVuSans-65\" x=\"115.865234\"/>\n     <use xlink:href=\"#DejaVuSans-73\" x=\"177.388672\"/>\n     <use xlink:href=\"#DejaVuSans-73\" x=\"229.488281\"/>\n    </g>\n   </g>\n  </g>\n  <g id=\"axes_7\">\n   <g clip-path=\"url(#p3e362b2d6d)\">\n    <image xlink:href=\"data:image/png;base64,\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\" id=\"imagee1d2ba3315\" transform=\"scale(1 -1) translate(0 -137.52)\" x=\"7.2\" y=\"-357.55845\" width=\"137.52\" height=\"137.52\"/>\n   </g>\n   <g id=\"text_7\">\n    <!-- Sneaker -->\n    <g transform=\"translate(34.827115 351.854921) scale(0.2016 -0.2016)\">\n     <defs>\n      <path id=\"DejaVuSans-6e\" d=\"M 3513 2113 \nL 3513 0 \nL 2938 0 \nL 2938 2094 \nQ 2938 2591 2744 2837 \nQ 2550 3084 2163 3084 \nQ 1697 3084 1428 2787 \nQ 1159 2491 1159 1978 \nL 1159 0 \nL 581 0 \nL 581 3500 \nL 1159 3500 \nL 1159 2956 \nQ 1366 3272 1645 3428 \nQ 1925 3584 2291 3584 \nQ 2894 3584 3203 3211 \nQ 3513 2838 3513 2113 \nz\n\" transform=\"scale(0.015625)\"/>\n      <path id=\"DejaVuSans-6b\" d=\"M 581 4863 \nL 1159 4863 \nL 1159 1991 \nL 2875 3500 \nL 3609 3500 \nL 1753 1863 \nL 3688 0 \nL 2938 0 \nL 1159 1709 \nL 1159 0 \nL 581 0 \nL 581 4863 \nz\n\" transform=\"scale(0.015625)\"/>\n     </defs>\n     <use xlink:href=\"#DejaVuSans-53\"/>\n     <use xlink:href=\"#DejaVuSans-6e\" x=\"63.476562\"/>\n     <use xlink:href=\"#DejaVuSans-65\" x=\"126.855469\"/>\n     <use xlink:href=\"#DejaVuSans-61\" x=\"188.378906\"/>\n     <use xlink:href=\"#DejaVuSans-6b\" x=\"249.658203\"/>\n     <use xlink:href=\"#DejaVuSans-65\" x=\"303.943359\"/>\n     <use xlink:href=\"#DejaVuSans-72\" x=\"365.466797\"/>\n    </g>\n   </g>\n  </g>\n  <g id=\"axes_8\">\n   <g clip-path=\"url(#pa2d1845400)\">\n    <image xlink:href=\"data:image/png;base64,\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\" id=\"image2b322a02ce\" transform=\"scale(1 -1) translate(0 -137.52)\" x=\"184.065882\" y=\"-357.55845\" width=\"137.52\" height=\"137.52\"/>\n   </g>\n   <g id=\"text_8\">\n    <!-- Ankle Boot -->\n    <g transform=\"translate(198.147997 351.854921) scale(0.2016 -0.2016)\">\n     <defs>\n      <path id=\"DejaVuSans-41\" d=\"M 2188 4044 \nL 1331 1722 \nL 3047 1722 \nL 2188 4044 \nz\nM 1831 4666 \nL 2547 4666 \nL 4325 0 \nL 3669 0 \nL 3244 1197 \nL 1141 1197 \nL 716 0 \nL 50 0 \nL 1831 4666 \nz\n\" transform=\"scale(0.015625)\"/>\n      <path id=\"DejaVuSans-20\" transform=\"scale(0.015625)\"/>\n     </defs>\n     <use xlink:href=\"#DejaVuSans-41\"/>\n     <use xlink:href=\"#DejaVuSans-6e\" x=\"68.408203\"/>\n     <use xlink:href=\"#DejaVuSans-6b\" x=\"131.787109\"/>\n     <use xlink:href=\"#DejaVuSans-6c\" x=\"189.697266\"/>\n     <use xlink:href=\"#DejaVuSans-65\" x=\"217.480469\"/>\n     <use xlink:href=\"#DejaVuSans-20\" x=\"279.003906\"/>\n     <use xlink:href=\"#DejaVuSans-42\" x=\"310.791016\"/>\n     <use xlink:href=\"#DejaVuSans-6f\" x=\"379.394531\"/>\n     <use xlink:href=\"#DejaVuSans-6f\" x=\"440.576172\"/>\n     <use xlink:href=\"#DejaVuSans-74\" x=\"501.757812\"/>\n    </g>\n   </g>\n  </g>\n  <g id=\"axes_9\">\n   <g clip-path=\"url(#pe294a913f5)\">\n    <image xlink:href=\"data:image/png;base64,\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\" id=\"imagec9c1282354\" transform=\"scale(1 -1) translate(0 -137.52)\" x=\"360.931765\" y=\"-357.55845\" width=\"137.52\" height=\"137.52\"/>\n   </g>\n   <g id=\"text_9\">\n    <!-- Bag -->\n    <g transform=\"translate(410.051329 351.854921) scale(0.2016 -0.2016)\">\n     <use xlink:href=\"#DejaVuSans-42\"/>\n     <use xlink:href=\"#DejaVuSans-61\" x=\"68.603516\"/>\n     <use xlink:href=\"#DejaVuSans-67\" x=\"129.882812\"/>\n    </g>\n   </g>\n  </g>\n </g>\n <defs>\n  <clipPath id=\"p074cd52eea\">\n   <rect x=\"7.2\" y=\"28.51845\" width=\"137.223529\" height=\"137.223529\"/>\n  </clipPath>\n  <clipPath id=\"p9f89ca0464\">\n   <rect x=\"184.065882\" y=\"28.51845\" width=\"137.223529\" height=\"137.223529\"/>\n  </clipPath>\n  <clipPath id=\"p57b308859c\">\n   <rect x=\"360.931765\" y=\"28.51845\" width=\"137.223529\" height=\"137.223529\"/>\n  </clipPath>\n  <clipPath id=\"p831a15148e\">\n   <rect x=\"7.2\" y=\"193.186685\" width=\"137.223529\" height=\"137.223529\"/>\n  </clipPath>\n  <clipPath id=\"p2e46521998\">\n   <rect x=\"184.065882\" y=\"193.186685\" width=\"137.223529\" height=\"137.223529\"/>\n  </clipPath>\n  <clipPath id=\"p6842ac5bbf\">\n   <rect x=\"360.931765\" y=\"193.186685\" width=\"137.223529\" height=\"137.223529\"/>\n  </clipPath>\n  <clipPath id=\"p3e362b2d6d\">\n   <rect x=\"7.2\" y=\"357.854921\" width=\"137.223529\" height=\"137.223529\"/>\n  </clipPath>\n  <clipPath id=\"pa2d1845400\">\n   <rect x=\"184.065882\" y=\"357.854921\" width=\"137.223529\" height=\"137.223529\"/>\n  </clipPath>\n  <clipPath id=\"pe294a913f5\">\n   <rect x=\"360.931765\" y=\"357.854921\" width=\"137.223529\" height=\"137.223529\"/>\n  </clipPath>\n </defs>\n</svg>\n",
      "text/plain": [
       "<Figure size 800x800 with 9 Axes>"
      ]
     },
     "metadata": {},
     "output_type": "display_data"
    }
   ],
   "source": [
    "# Look at data\n",
    "\n",
    "# Labels\n",
    "labels_map = {\n",
    "    0: \"T-Shirt\",\n",
    "    1: \"Trouser\",\n",
    "    2: \"Pullover\",\n",
    "    3: \"Dress\",\n",
    "    4: \"Coat\",\n",
    "    5: \"Sandal\",\n",
    "    6: \"Shirt\",\n",
    "    7: \"Sneaker\",\n",
    "    8: \"Bag\",\n",
    "    9: \"Ankle Boot\",\n",
    "}\n",
    "\n",
    "# plot data\n",
    "figure = plt.figure(figsize=(8, 8))\n",
    "cols, rows = 3, 3\n",
    "for i in range(1, cols * rows + 1):\n",
    "    sample_idx = torch.randint(len(data.train), size=(1,)).item()\n",
    "    img, label = data.train[sample_idx]\n",
    "    figure.add_subplot(rows, cols, i)\n",
    "    plt.title(labels_map[label])\n",
    "    plt.imshow(img.squeeze())\n",
    "    plt.axis(\"off\")"
   ]
  },
  {
   "cell_type": "code",
   "execution_count": 4,
   "metadata": {},
   "outputs": [
    {
     "name": "stdout",
     "output_type": "stream",
     "text": [
      "torch.Size([1024, 1, 28, 28]) torch.float32 torch.Size([1024]) torch.int64\n"
     ]
    }
   ],
   "source": [
    "X, y = next(iter(data.train_dl))\n",
    "print(X.shape, X.dtype, y.shape, y.dtype)"
   ]
  },
  {
   "cell_type": "code",
   "execution_count": 6,
   "metadata": {},
   "outputs": [
    {
     "data": {
      "text/plain": [
       "'1.48 sec'"
      ]
     },
     "execution_count": 6,
     "metadata": {},
     "output_type": "execute_result"
    }
   ],
   "source": [
    "tic = time.time()\n",
    "for X, y in data.train_dl:\n",
    "    continue\n",
    "f'{time.time() - tic:.2f} sec'"
   ]
  },
  {
   "cell_type": "code",
   "execution_count": 7,
   "metadata": {},
   "outputs": [
    {
     "name": "stdout",
     "output_type": "stream",
     "text": [
      "X =  tensor([[1., 2., 3.],\n",
      "        [5., 6., 7.]])\n",
      "Sum along 0 axis:  tensor([[ 6.,  8., 10.]])\n",
      "Sum along 1 axis:  tensor([[ 6.],\n",
      "        [18.]])\n"
     ]
    }
   ],
   "source": [
    "X = torch.tensor([[1.0, 2.0, 3.0], [5.0, 6.0, 7.0]])\n",
    "print ('X = ', X)\n",
    "print ('Sum along 0 axis: ', X.sum(0, keepdim=True))\n",
    "print ('Sum along 1 axis: ', X.sum(1, keepdim=True))"
   ]
  },
  {
   "cell_type": "code",
   "execution_count": 8,
   "metadata": {},
   "outputs": [
    {
     "name": "stdout",
     "output_type": "stream",
     "text": [
      "tensor([[0.0900, 0.2447, 0.6652],\n",
      "        [0.0900, 0.2447, 0.6652]])\n",
      "tensor([[1.],\n",
      "        [1.]])\n"
     ]
    }
   ],
   "source": [
    "def softmax(X):\n",
    "    X_exp = torch.exp(X)\n",
    "    partition = X_exp.sum(1, keepdim=True)\n",
    "    return X_exp/partition\n",
    "\n",
    "Y = softmax(X)\n",
    "print (Y)\n",
    "print (Y.sum(1, keepdim=True))"
   ]
  },
  {
   "cell_type": "code",
   "execution_count": 9,
   "metadata": {},
   "outputs": [
    {
     "name": "stdout",
     "output_type": "stream",
     "text": [
      "tensor([[ 0.1241,  0.3629,  0.8175, -0.5168,  0.9708],\n",
      "        [ 0.2078,  2.7218, -0.0328, -0.9058, -0.8130]])\n",
      "tensor([[0.1403, 0.1781, 0.2806, 0.0739, 0.3271],\n",
      "        [0.0674, 0.8331, 0.0530, 0.0221, 0.0243]])\n",
      "tensor([[1.],\n",
      "        [1.]])\n"
     ]
    }
   ],
   "source": [
    "X = torch.randn((2,5))\n",
    "print (X)\n",
    "Y = softmax(X)\n",
    "print (Y)\n",
    "print (Y.sum(1, keepdim=True))"
   ]
  },
  {
   "cell_type": "code",
   "execution_count": 10,
   "metadata": {},
   "outputs": [],
   "source": [
    "def cross_entropy(y_hat, y):\n",
    "    return - torch.log(y_hat[torch.arange(len(y_hat)), y]).mean()\n",
    "\n",
    "\n",
    "def softmax(X):\n",
    "    X_exp = torch.exp(X)\n",
    "    partition = X_exp.sum(1, keepdim=True)\n",
    "    return X_exp/partition\n",
    "\n",
    "# Create model\n",
    "\n",
    "\n",
    "class Classifier(nn.Module):\n",
    "    def __init__(self, fan_in, fan_out):\n",
    "        super().__init__()\n",
    "        # self.model = nn.Sequential(nn.Linear(28*28,1))\n",
    "        self.W = torch.randn((fan_in, fan_out))/fan_in**0.5\n",
    "        self.W.requires_grad = True\n",
    "        self.b = torch.zeros(fan_out, requires_grad=True)\n",
    "\n",
    "    def parameters(self):\n",
    "        return [self.W, self.b]\n",
    "\n",
    "    def forward(self, x):\n",
    "        x = x.view(-1,self.W.shape[0])\n",
    "        out = x @ self.W + self.b\n",
    "        return softmax(out)\n",
    "\n",
    "    def loss (self, y_hat, y):\n",
    "        return cross_entropy(y_hat, y)\n",
    "\n",
    "    def accuracy(self, Y_hat, y):\n",
    "        Y_hat = Y_hat.reshape((-1, Y_hat.shape[-1]))\n",
    "        preds = Y_hat.argmax(axis=1).long()\n",
    "        compare = (preds == y).float()\n",
    "        return compare.mean()\n",
    "    \n"
   ]
  },
  {
   "cell_type": "code",
   "execution_count": 16,
   "metadata": {},
   "outputs": [
    {
     "name": "stdout",
     "output_type": "stream",
     "text": [
      "Epoch (0): train loss = 0.80, val loss = 0.82, acc = 0.71\n",
      "Epoch (1): train loss = 0.70, val loss = 0.68, acc = 0.80\n",
      "Epoch (2): train loss = 0.64, val loss = 0.69, acc = 0.77\n",
      "Epoch (3): train loss = 0.56, val loss = 0.62, acc = 0.80\n",
      "Epoch (4): train loss = 0.58, val loss = 0.59, acc = 0.80\n",
      "Epoch (5): train loss = 0.61, val loss = 0.60, acc = 0.80\n",
      "Epoch (6): train loss = 0.54, val loss = 0.58, acc = 0.80\n",
      "Epoch (7): train loss = 0.60, val loss = 0.56, acc = 0.79\n",
      "Epoch (8): train loss = 0.60, val loss = 0.57, acc = 0.80\n",
      "Epoch (9): train loss = 0.50, val loss = 0.52, acc = 0.83\n",
      "Epoch (10): train loss = 0.51, val loss = 0.53, acc = 0.82\n",
      "Epoch (11): train loss = 0.48, val loss = 0.48, acc = 0.84\n",
      "Epoch (12): train loss = 0.47, val loss = 0.52, acc = 0.83\n",
      "Epoch (13): train loss = 0.47, val loss = 0.54, acc = 0.81\n",
      "Epoch (14): train loss = 0.48, val loss = 0.53, acc = 0.84\n",
      "Epoch (15): train loss = 0.54, val loss = 0.51, acc = 0.82\n",
      "Epoch (16): train loss = 0.50, val loss = 0.52, acc = 0.83\n",
      "Epoch (17): train loss = 0.43, val loss = 0.55, acc = 0.81\n",
      "Epoch (18): train loss = 0.50, val loss = 0.49, acc = 0.83\n",
      "Epoch (19): train loss = 0.43, val loss = 0.53, acc = 0.82\n"
     ]
    },
    {
     "data": {
      "text/plain": [
       "<matplotlib.legend.Legend at 0x155ac2a00>"
      ]
     },
     "execution_count": 16,
     "metadata": {},
     "output_type": "execute_result"
    },
    {
     "data": {
      "image/svg+xml": "<?xml version=\"1.0\" encoding=\"utf-8\" standalone=\"no\"?>\n<!DOCTYPE svg PUBLIC \"-//W3C//DTD SVG 1.1//EN\"\n  \"http://www.w3.org/Graphics/SVG/1.1/DTD/svg11.dtd\">\n<svg xmlns:xlink=\"http://www.w3.org/1999/xlink\" width=\"449.967875pt\" height=\"312.123107pt\" viewBox=\"0 0 449.967875 312.123107\" xmlns=\"http://www.w3.org/2000/svg\" version=\"1.1\">\n <metadata>\n  <rdf:RDF xmlns:dc=\"http://purl.org/dc/elements/1.1/\" xmlns:cc=\"http://creativecommons.org/ns#\" xmlns:rdf=\"http://www.w3.org/1999/02/22-rdf-syntax-ns#\">\n   <cc:Work>\n    <dc:type rdf:resource=\"http://purl.org/dc/dcmitype/StillImage\"/>\n    <dc:date>2023-01-19T05:53:48.039366</dc:date>\n    <dc:format>image/svg+xml</dc:format>\n    <dc:creator>\n     <cc:Agent>\n      <dc:title>Matplotlib v3.6.3, https://matplotlib.org/</dc:title>\n     </cc:Agent>\n    </dc:creator>\n   </cc:Work>\n  </rdf:RDF>\n </metadata>\n <defs>\n  <style type=\"text/css\">*{stroke-linejoin: round; stroke-linecap: butt}</style>\n </defs>\n <g id=\"figure_1\">\n  <g id=\"patch_1\">\n   <path d=\"M 0 312.123107 \nL 449.967875 312.123107 \nL 449.967875 0 \nL 0 0 \nz\n\" style=\"fill: #f0f0f0\"/>\n  </g>\n  <g id=\"axes_1\">\n   <g id=\"patch_2\">\n    <path d=\"M 41.871875 287.873732 \nL 442.767875 287.873732 \nL 442.767875 7.937732 \nL 41.871875 7.937732 \nz\n\" style=\"fill: #f0f0f0\"/>\n   </g>\n   <g id=\"matplotlib.axis_1\">\n    <g id=\"xtick_1\">\n     <g id=\"line2d_1\">\n      <path d=\"M 60.09442 287.873732 \nL 60.09442 7.937732 \n\" clip-path=\"url(#pe1cc93e944)\" style=\"fill: none; stroke: #cbcbcb\"/>\n     </g>\n     <g id=\"line2d_2\"/>\n     <g id=\"text_1\">\n      <!-- 0.0 -->\n      <g transform=\"translate(48.962233 302.011545) scale(0.14 -0.14)\">\n       <defs>\n        <path id=\"DejaVuSans-30\" d=\"M 2034 4250 \nQ 1547 4250 1301 3770 \nQ 1056 3291 1056 2328 \nQ 1056 1369 1301 889 \nQ 1547 409 2034 409 \nQ 2525 409 2770 889 \nQ 3016 1369 3016 2328 \nQ 3016 3291 2770 3770 \nQ 2525 4250 2034 4250 \nz\nM 2034 4750 \nQ 2819 4750 3233 4129 \nQ 3647 3509 3647 2328 \nQ 3647 1150 3233 529 \nQ 2819 -91 2034 -91 \nQ 1250 -91 836 529 \nQ 422 1150 422 2328 \nQ 422 3509 836 4129 \nQ 1250 4750 2034 4750 \nz\n\" transform=\"scale(0.015625)\"/>\n        <path id=\"DejaVuSans-2e\" d=\"M 684 794 \nL 1344 794 \nL 1344 0 \nL 684 0 \nL 684 794 \nz\n\" transform=\"scale(0.015625)\"/>\n       </defs>\n       <use xlink:href=\"#DejaVuSans-30\"/>\n       <use xlink:href=\"#DejaVuSans-2e\" x=\"63.623047\"/>\n       <use xlink:href=\"#DejaVuSans-30\" x=\"95.410156\"/>\n      </g>\n     </g>\n    </g>\n    <g id=\"xtick_2\">\n     <g id=\"line2d_3\">\n      <path d=\"M 108.048487 287.873732 \nL 108.048487 7.937732 \n\" clip-path=\"url(#pe1cc93e944)\" style=\"fill: none; stroke: #cbcbcb\"/>\n     </g>\n     <g id=\"line2d_4\"/>\n     <g id=\"text_2\">\n      <!-- 2.5 -->\n      <g transform=\"translate(96.9163 302.011545) scale(0.14 -0.14)\">\n       <defs>\n        <path id=\"DejaVuSans-32\" d=\"M 1228 531 \nL 3431 531 \nL 3431 0 \nL 469 0 \nL 469 531 \nQ 828 903 1448 1529 \nQ 2069 2156 2228 2338 \nQ 2531 2678 2651 2914 \nQ 2772 3150 2772 3378 \nQ 2772 3750 2511 3984 \nQ 2250 4219 1831 4219 \nQ 1534 4219 1204 4116 \nQ 875 4013 500 3803 \nL 500 4441 \nQ 881 4594 1212 4672 \nQ 1544 4750 1819 4750 \nQ 2544 4750 2975 4387 \nQ 3406 4025 3406 3419 \nQ 3406 3131 3298 2873 \nQ 3191 2616 2906 2266 \nQ 2828 2175 2409 1742 \nQ 1991 1309 1228 531 \nz\n\" transform=\"scale(0.015625)\"/>\n        <path id=\"DejaVuSans-35\" d=\"M 691 4666 \nL 3169 4666 \nL 3169 4134 \nL 1269 4134 \nL 1269 2991 \nQ 1406 3038 1543 3061 \nQ 1681 3084 1819 3084 \nQ 2600 3084 3056 2656 \nQ 3513 2228 3513 1497 \nQ 3513 744 3044 326 \nQ 2575 -91 1722 -91 \nQ 1428 -91 1123 -41 \nQ 819 9 494 109 \nL 494 744 \nQ 775 591 1075 516 \nQ 1375 441 1709 441 \nQ 2250 441 2565 725 \nQ 2881 1009 2881 1497 \nQ 2881 1984 2565 2268 \nQ 2250 2553 1709 2553 \nQ 1456 2553 1204 2497 \nQ 953 2441 691 2322 \nL 691 4666 \nz\n\" transform=\"scale(0.015625)\"/>\n       </defs>\n       <use xlink:href=\"#DejaVuSans-32\"/>\n       <use xlink:href=\"#DejaVuSans-2e\" x=\"63.623047\"/>\n       <use xlink:href=\"#DejaVuSans-35\" x=\"95.410156\"/>\n      </g>\n     </g>\n    </g>\n    <g id=\"xtick_3\">\n     <g id=\"line2d_5\">\n      <path d=\"M 156.002554 287.873732 \nL 156.002554 7.937732 \n\" clip-path=\"url(#pe1cc93e944)\" style=\"fill: none; stroke: #cbcbcb\"/>\n     </g>\n     <g id=\"line2d_6\"/>\n     <g id=\"text_3\">\n      <!-- 5.0 -->\n      <g transform=\"translate(144.870367 302.011545) scale(0.14 -0.14)\">\n       <use xlink:href=\"#DejaVuSans-35\"/>\n       <use xlink:href=\"#DejaVuSans-2e\" x=\"63.623047\"/>\n       <use xlink:href=\"#DejaVuSans-30\" x=\"95.410156\"/>\n      </g>\n     </g>\n    </g>\n    <g id=\"xtick_4\">\n     <g id=\"line2d_7\">\n      <path d=\"M 203.956621 287.873732 \nL 203.956621 7.937732 \n\" clip-path=\"url(#pe1cc93e944)\" style=\"fill: none; stroke: #cbcbcb\"/>\n     </g>\n     <g id=\"line2d_8\"/>\n     <g id=\"text_4\">\n      <!-- 7.5 -->\n      <g transform=\"translate(192.824434 302.011545) scale(0.14 -0.14)\">\n       <defs>\n        <path id=\"DejaVuSans-37\" d=\"M 525 4666 \nL 3525 4666 \nL 3525 4397 \nL 1831 0 \nL 1172 0 \nL 2766 4134 \nL 525 4134 \nL 525 4666 \nz\n\" transform=\"scale(0.015625)\"/>\n       </defs>\n       <use xlink:href=\"#DejaVuSans-37\"/>\n       <use xlink:href=\"#DejaVuSans-2e\" x=\"63.623047\"/>\n       <use xlink:href=\"#DejaVuSans-35\" x=\"95.410156\"/>\n      </g>\n     </g>\n    </g>\n    <g id=\"xtick_5\">\n     <g id=\"line2d_9\">\n      <path d=\"M 251.910688 287.873732 \nL 251.910688 7.937732 \n\" clip-path=\"url(#pe1cc93e944)\" style=\"fill: none; stroke: #cbcbcb\"/>\n     </g>\n     <g id=\"line2d_10\"/>\n     <g id=\"text_5\">\n      <!-- 10.0 -->\n      <g transform=\"translate(236.324751 302.011545) scale(0.14 -0.14)\">\n       <defs>\n        <path id=\"DejaVuSans-31\" d=\"M 794 531 \nL 1825 531 \nL 1825 4091 \nL 703 3866 \nL 703 4441 \nL 1819 4666 \nL 2450 4666 \nL 2450 531 \nL 3481 531 \nL 3481 0 \nL 794 0 \nL 794 531 \nz\n\" transform=\"scale(0.015625)\"/>\n       </defs>\n       <use xlink:href=\"#DejaVuSans-31\"/>\n       <use xlink:href=\"#DejaVuSans-30\" x=\"63.623047\"/>\n       <use xlink:href=\"#DejaVuSans-2e\" x=\"127.246094\"/>\n       <use xlink:href=\"#DejaVuSans-30\" x=\"159.033203\"/>\n      </g>\n     </g>\n    </g>\n    <g id=\"xtick_6\">\n     <g id=\"line2d_11\">\n      <path d=\"M 299.864755 287.873732 \nL 299.864755 7.937732 \n\" clip-path=\"url(#pe1cc93e944)\" style=\"fill: none; stroke: #cbcbcb\"/>\n     </g>\n     <g id=\"line2d_12\"/>\n     <g id=\"text_6\">\n      <!-- 12.5 -->\n      <g transform=\"translate(284.278818 302.011545) scale(0.14 -0.14)\">\n       <use xlink:href=\"#DejaVuSans-31\"/>\n       <use xlink:href=\"#DejaVuSans-32\" x=\"63.623047\"/>\n       <use xlink:href=\"#DejaVuSans-2e\" x=\"127.246094\"/>\n       <use xlink:href=\"#DejaVuSans-35\" x=\"159.033203\"/>\n      </g>\n     </g>\n    </g>\n    <g id=\"xtick_7\">\n     <g id=\"line2d_13\">\n      <path d=\"M 347.818822 287.873732 \nL 347.818822 7.937732 \n\" clip-path=\"url(#pe1cc93e944)\" style=\"fill: none; stroke: #cbcbcb\"/>\n     </g>\n     <g id=\"line2d_14\"/>\n     <g id=\"text_7\">\n      <!-- 15.0 -->\n      <g transform=\"translate(332.232885 302.011545) scale(0.14 -0.14)\">\n       <use xlink:href=\"#DejaVuSans-31\"/>\n       <use xlink:href=\"#DejaVuSans-35\" x=\"63.623047\"/>\n       <use xlink:href=\"#DejaVuSans-2e\" x=\"127.246094\"/>\n       <use xlink:href=\"#DejaVuSans-30\" x=\"159.033203\"/>\n      </g>\n     </g>\n    </g>\n    <g id=\"xtick_8\">\n     <g id=\"line2d_15\">\n      <path d=\"M 395.772889 287.873732 \nL 395.772889 7.937732 \n\" clip-path=\"url(#pe1cc93e944)\" style=\"fill: none; stroke: #cbcbcb\"/>\n     </g>\n     <g id=\"line2d_16\"/>\n     <g id=\"text_8\">\n      <!-- 17.5 -->\n      <g transform=\"translate(380.186952 302.011545) scale(0.14 -0.14)\">\n       <use xlink:href=\"#DejaVuSans-31\"/>\n       <use xlink:href=\"#DejaVuSans-37\" x=\"63.623047\"/>\n       <use xlink:href=\"#DejaVuSans-2e\" x=\"127.246094\"/>\n       <use xlink:href=\"#DejaVuSans-35\" x=\"159.033203\"/>\n      </g>\n     </g>\n    </g>\n   </g>\n   <g id=\"matplotlib.axis_2\">\n    <g id=\"ytick_1\">\n     <g id=\"line2d_17\">\n      <path d=\"M 41.871875 261.433125 \nL 442.767875 261.433125 \n\" clip-path=\"url(#pe1cc93e944)\" style=\"fill: none; stroke: #cbcbcb\"/>\n     </g>\n     <g id=\"line2d_18\"/>\n     <g id=\"text_9\">\n      <!-- 0.45 -->\n      <g transform=\"translate(7.2 266.752031) scale(0.14 -0.14)\">\n       <defs>\n        <path id=\"DejaVuSans-34\" d=\"M 2419 4116 \nL 825 1625 \nL 2419 1625 \nL 2419 4116 \nz\nM 2253 4666 \nL 3047 4666 \nL 3047 1625 \nL 3713 1625 \nL 3713 1100 \nL 3047 1100 \nL 3047 0 \nL 2419 0 \nL 2419 1100 \nL 313 1100 \nL 313 1709 \nL 2253 4666 \nz\n\" transform=\"scale(0.015625)\"/>\n       </defs>\n       <use xlink:href=\"#DejaVuSans-30\"/>\n       <use xlink:href=\"#DejaVuSans-2e\" x=\"63.623047\"/>\n       <use xlink:href=\"#DejaVuSans-34\" x=\"95.410156\"/>\n       <use xlink:href=\"#DejaVuSans-35\" x=\"159.033203\"/>\n      </g>\n     </g>\n    </g>\n    <g id=\"ytick_2\">\n     <g id=\"line2d_19\">\n      <path d=\"M 41.871875 230.318848 \nL 442.767875 230.318848 \n\" clip-path=\"url(#pe1cc93e944)\" style=\"fill: none; stroke: #cbcbcb\"/>\n     </g>\n     <g id=\"line2d_20\"/>\n     <g id=\"text_10\">\n      <!-- 0.50 -->\n      <g transform=\"translate(7.2 235.637754) scale(0.14 -0.14)\">\n       <use xlink:href=\"#DejaVuSans-30\"/>\n       <use xlink:href=\"#DejaVuSans-2e\" x=\"63.623047\"/>\n       <use xlink:href=\"#DejaVuSans-35\" x=\"95.410156\"/>\n       <use xlink:href=\"#DejaVuSans-30\" x=\"159.033203\"/>\n      </g>\n     </g>\n    </g>\n    <g id=\"ytick_3\">\n     <g id=\"line2d_21\">\n      <path d=\"M 41.871875 199.20457 \nL 442.767875 199.20457 \n\" clip-path=\"url(#pe1cc93e944)\" style=\"fill: none; stroke: #cbcbcb\"/>\n     </g>\n     <g id=\"line2d_22\"/>\n     <g id=\"text_11\">\n      <!-- 0.55 -->\n      <g transform=\"translate(7.2 204.523476) scale(0.14 -0.14)\">\n       <use xlink:href=\"#DejaVuSans-30\"/>\n       <use xlink:href=\"#DejaVuSans-2e\" x=\"63.623047\"/>\n       <use xlink:href=\"#DejaVuSans-35\" x=\"95.410156\"/>\n       <use xlink:href=\"#DejaVuSans-35\" x=\"159.033203\"/>\n      </g>\n     </g>\n    </g>\n    <g id=\"ytick_4\">\n     <g id=\"line2d_23\">\n      <path d=\"M 41.871875 168.090293 \nL 442.767875 168.090293 \n\" clip-path=\"url(#pe1cc93e944)\" style=\"fill: none; stroke: #cbcbcb\"/>\n     </g>\n     <g id=\"line2d_24\"/>\n     <g id=\"text_12\">\n      <!-- 0.60 -->\n      <g transform=\"translate(7.2 173.409199) scale(0.14 -0.14)\">\n       <defs>\n        <path id=\"DejaVuSans-36\" d=\"M 2113 2584 \nQ 1688 2584 1439 2293 \nQ 1191 2003 1191 1497 \nQ 1191 994 1439 701 \nQ 1688 409 2113 409 \nQ 2538 409 2786 701 \nQ 3034 994 3034 1497 \nQ 3034 2003 2786 2293 \nQ 2538 2584 2113 2584 \nz\nM 3366 4563 \nL 3366 3988 \nQ 3128 4100 2886 4159 \nQ 2644 4219 2406 4219 \nQ 1781 4219 1451 3797 \nQ 1122 3375 1075 2522 \nQ 1259 2794 1537 2939 \nQ 1816 3084 2150 3084 \nQ 2853 3084 3261 2657 \nQ 3669 2231 3669 1497 \nQ 3669 778 3244 343 \nQ 2819 -91 2113 -91 \nQ 1303 -91 875 529 \nQ 447 1150 447 2328 \nQ 447 3434 972 4092 \nQ 1497 4750 2381 4750 \nQ 2619 4750 2861 4703 \nQ 3103 4656 3366 4563 \nz\n\" transform=\"scale(0.015625)\"/>\n       </defs>\n       <use xlink:href=\"#DejaVuSans-30\"/>\n       <use xlink:href=\"#DejaVuSans-2e\" x=\"63.623047\"/>\n       <use xlink:href=\"#DejaVuSans-36\" x=\"95.410156\"/>\n       <use xlink:href=\"#DejaVuSans-30\" x=\"159.033203\"/>\n      </g>\n     </g>\n    </g>\n    <g id=\"ytick_5\">\n     <g id=\"line2d_25\">\n      <path d=\"M 41.871875 136.976016 \nL 442.767875 136.976016 \n\" clip-path=\"url(#pe1cc93e944)\" style=\"fill: none; stroke: #cbcbcb\"/>\n     </g>\n     <g id=\"line2d_26\"/>\n     <g id=\"text_13\">\n      <!-- 0.65 -->\n      <g transform=\"translate(7.2 142.294922) scale(0.14 -0.14)\">\n       <use xlink:href=\"#DejaVuSans-30\"/>\n       <use xlink:href=\"#DejaVuSans-2e\" x=\"63.623047\"/>\n       <use xlink:href=\"#DejaVuSans-36\" x=\"95.410156\"/>\n       <use xlink:href=\"#DejaVuSans-35\" x=\"159.033203\"/>\n      </g>\n     </g>\n    </g>\n    <g id=\"ytick_6\">\n     <g id=\"line2d_27\">\n      <path d=\"M 41.871875 105.861738 \nL 442.767875 105.861738 \n\" clip-path=\"url(#pe1cc93e944)\" style=\"fill: none; stroke: #cbcbcb\"/>\n     </g>\n     <g id=\"line2d_28\"/>\n     <g id=\"text_14\">\n      <!-- 0.70 -->\n      <g transform=\"translate(7.2 111.180644) scale(0.14 -0.14)\">\n       <use xlink:href=\"#DejaVuSans-30\"/>\n       <use xlink:href=\"#DejaVuSans-2e\" x=\"63.623047\"/>\n       <use xlink:href=\"#DejaVuSans-37\" x=\"95.410156\"/>\n       <use xlink:href=\"#DejaVuSans-30\" x=\"159.033203\"/>\n      </g>\n     </g>\n    </g>\n    <g id=\"ytick_7\">\n     <g id=\"line2d_29\">\n      <path d=\"M 41.871875 74.747461 \nL 442.767875 74.747461 \n\" clip-path=\"url(#pe1cc93e944)\" style=\"fill: none; stroke: #cbcbcb\"/>\n     </g>\n     <g id=\"line2d_30\"/>\n     <g id=\"text_15\">\n      <!-- 0.75 -->\n      <g transform=\"translate(7.2 80.066367) scale(0.14 -0.14)\">\n       <use xlink:href=\"#DejaVuSans-30\"/>\n       <use xlink:href=\"#DejaVuSans-2e\" x=\"63.623047\"/>\n       <use xlink:href=\"#DejaVuSans-37\" x=\"95.410156\"/>\n       <use xlink:href=\"#DejaVuSans-35\" x=\"159.033203\"/>\n      </g>\n     </g>\n    </g>\n    <g id=\"ytick_8\">\n     <g id=\"line2d_31\">\n      <path d=\"M 41.871875 43.633184 \nL 442.767875 43.633184 \n\" clip-path=\"url(#pe1cc93e944)\" style=\"fill: none; stroke: #cbcbcb\"/>\n     </g>\n     <g id=\"line2d_32\"/>\n     <g id=\"text_16\">\n      <!-- 0.80 -->\n      <g transform=\"translate(7.2 48.95209) scale(0.14 -0.14)\">\n       <defs>\n        <path id=\"DejaVuSans-38\" d=\"M 2034 2216 \nQ 1584 2216 1326 1975 \nQ 1069 1734 1069 1313 \nQ 1069 891 1326 650 \nQ 1584 409 2034 409 \nQ 2484 409 2743 651 \nQ 3003 894 3003 1313 \nQ 3003 1734 2745 1975 \nQ 2488 2216 2034 2216 \nz\nM 1403 2484 \nQ 997 2584 770 2862 \nQ 544 3141 544 3541 \nQ 544 4100 942 4425 \nQ 1341 4750 2034 4750 \nQ 2731 4750 3128 4425 \nQ 3525 4100 3525 3541 \nQ 3525 3141 3298 2862 \nQ 3072 2584 2669 2484 \nQ 3125 2378 3379 2068 \nQ 3634 1759 3634 1313 \nQ 3634 634 3220 271 \nQ 2806 -91 2034 -91 \nQ 1263 -91 848 271 \nQ 434 634 434 1313 \nQ 434 1759 690 2068 \nQ 947 2378 1403 2484 \nz\nM 1172 3481 \nQ 1172 3119 1398 2916 \nQ 1625 2713 2034 2713 \nQ 2441 2713 2670 2916 \nQ 2900 3119 2900 3481 \nQ 2900 3844 2670 4047 \nQ 2441 4250 2034 4250 \nQ 1625 4250 1398 4047 \nQ 1172 3844 1172 3481 \nz\n\" transform=\"scale(0.015625)\"/>\n       </defs>\n       <use xlink:href=\"#DejaVuSans-30\"/>\n       <use xlink:href=\"#DejaVuSans-2e\" x=\"63.623047\"/>\n       <use xlink:href=\"#DejaVuSans-38\" x=\"95.410156\"/>\n       <use xlink:href=\"#DejaVuSans-30\" x=\"159.033203\"/>\n      </g>\n     </g>\n    </g>\n    <g id=\"ytick_9\">\n     <g id=\"line2d_33\">\n      <path d=\"M 41.871875 12.518906 \nL 442.767875 12.518906 \n\" clip-path=\"url(#pe1cc93e944)\" style=\"fill: none; stroke: #cbcbcb\"/>\n     </g>\n     <g id=\"line2d_34\"/>\n     <g id=\"text_17\">\n      <!-- 0.85 -->\n      <g transform=\"translate(7.2 17.837812) scale(0.14 -0.14)\">\n       <use xlink:href=\"#DejaVuSans-30\"/>\n       <use xlink:href=\"#DejaVuSans-2e\" x=\"63.623047\"/>\n       <use xlink:href=\"#DejaVuSans-38\" x=\"95.410156\"/>\n       <use xlink:href=\"#DejaVuSans-35\" x=\"159.033203\"/>\n      </g>\n     </g>\n    </g>\n   </g>\n   <g id=\"line2d_35\">\n    <path d=\"M 60.09442 42.328237 \nL 79.276047 102.971013 \nL 98.457674 143.941741 \nL 117.639301 194.343625 \nL 136.820928 180.703518 \nL 156.002554 160.346322 \nL 175.184181 207.285083 \nL 194.365808 169.683378 \nL 213.547435 167.894919 \nL 232.729062 227.746728 \nL 251.910688 224.380338 \nL 271.092315 240.447632 \nL 290.273942 246.51787 \nL 309.455569 249.836393 \nL 328.637196 244.206111 \nL 347.818822 208.345555 \nL 367.000449 232.254707 \nL 386.182076 274.392302 \nL 405.363703 231.320103 \nL 424.54533 275.149369 \n\" clip-path=\"url(#pe1cc93e944)\" style=\"fill: none; stroke: #008fd5; stroke-width: 4\"/>\n   </g>\n   <g id=\"line2d_36\">\n    <path d=\"M 60.09442 34.001431 \nL 79.276047 120.906307 \nL 98.457674 112.716294 \nL 117.639301 156.934163 \nL 136.820928 171.273363 \nL 156.002554 170.872408 \nL 175.184181 181.453055 \nL 194.365808 190.567787 \nL 213.547435 184.237559 \nL 232.729062 217.638065 \nL 251.910688 213.717498 \nL 271.092315 243.814763 \nL 290.273942 219.727296 \nL 309.455569 203.65123 \nL 328.637196 214.480054 \nL 347.818822 223.535737 \nL 367.000449 215.276214 \nL 386.182076 199.956029 \nL 405.363703 236.383114 \nL 424.54533 210.725469 \n\" clip-path=\"url(#pe1cc93e944)\" style=\"fill: none; stroke-dasharray: 14.8,6.4; stroke-dashoffset: 0; stroke: #fc4f30; stroke-width: 4\"/>\n   </g>\n   <g id=\"line2d_37\">\n    <path d=\"M 60.09442 97.232388 \nL 79.276047 44.970125 \nL 98.457674 60.162643 \nL 117.639301 45.577826 \nL 136.820928 44.362424 \nL 156.002554 42.539322 \nL 175.184181 44.362424 \nL 194.365808 46.793227 \nL 213.547435 44.970125 \nL 232.729062 23.7006 \nL 251.910688 28.562205 \nL 271.092315 20.662096 \nL 290.273942 23.092899 \nL 309.455569 34.639213 \nL 328.637196 21.269797 \nL 347.818822 29.777607 \nL 367.000449 23.092899 \nL 386.182076 38.285417 \nL 405.363703 24.3083 \nL 424.54533 30.385308 \n\" clip-path=\"url(#pe1cc93e944)\" style=\"fill: none; stroke-dasharray: 14.8,6.4; stroke-dashoffset: 0; stroke: #e5ae38; stroke-width: 4\"/>\n   </g>\n   <g id=\"patch_3\">\n    <path d=\"M 41.871875 287.873732 \nL 41.871875 7.937732 \n\" style=\"fill: none; stroke: #f0f0f0; stroke-width: 3; stroke-linejoin: miter; stroke-linecap: square\"/>\n   </g>\n   <g id=\"patch_4\">\n    <path d=\"M 442.767875 287.873732 \nL 442.767875 7.937732 \n\" style=\"fill: none; stroke: #f0f0f0; stroke-width: 3; stroke-linejoin: miter; stroke-linecap: square\"/>\n   </g>\n   <g id=\"patch_5\">\n    <path d=\"M 41.871875 287.873732 \nL 442.767875 287.873732 \n\" style=\"fill: none; stroke: #f0f0f0; stroke-width: 3; stroke-linejoin: miter; stroke-linecap: square\"/>\n   </g>\n   <g id=\"patch_6\">\n    <path d=\"M 41.871875 7.937732 \nL 442.767875 7.937732 \n\" style=\"fill: none; stroke: #f0f0f0; stroke-width: 3; stroke-linejoin: miter; stroke-linecap: square\"/>\n   </g>\n   <g id=\"legend_1\">\n    <g id=\"patch_7\">\n     <path d=\"M 51.671875 280.873732 \nL 161.545625 280.873732 \nQ 164.345625 280.873732 164.345625 278.073732 \nL 164.345625 217.825607 \nQ 164.345625 215.025607 161.545625 215.025607 \nL 51.671875 215.025607 \nQ 48.871875 215.025607 48.871875 217.825607 \nL 48.871875 278.073732 \nQ 48.871875 280.873732 51.671875 280.873732 \nz\n\" style=\"fill: #f0f0f0; opacity: 0.8; stroke: #cccccc; stroke-width: 0.5; stroke-linejoin: miter\"/>\n    </g>\n    <g id=\"line2d_38\">\n     <path d=\"M 54.471875 226.36342 \nL 68.471875 226.36342 \nL 82.471875 226.36342 \n\" style=\"fill: none; stroke: #008fd5; stroke-width: 4\"/>\n    </g>\n    <g id=\"text_18\">\n     <!-- Train loss -->\n     <g transform=\"translate(93.671875 231.26342) scale(0.14 -0.14)\">\n      <defs>\n       <path id=\"DejaVuSans-54\" d=\"M -19 4666 \nL 3928 4666 \nL 3928 4134 \nL 2272 4134 \nL 2272 0 \nL 1638 0 \nL 1638 4134 \nL -19 4134 \nL -19 4666 \nz\n\" transform=\"scale(0.015625)\"/>\n       <path id=\"DejaVuSans-72\" d=\"M 2631 2963 \nQ 2534 3019 2420 3045 \nQ 2306 3072 2169 3072 \nQ 1681 3072 1420 2755 \nQ 1159 2438 1159 1844 \nL 1159 0 \nL 581 0 \nL 581 3500 \nL 1159 3500 \nL 1159 2956 \nQ 1341 3275 1631 3429 \nQ 1922 3584 2338 3584 \nQ 2397 3584 2469 3576 \nQ 2541 3569 2628 3553 \nL 2631 2963 \nz\n\" transform=\"scale(0.015625)\"/>\n       <path id=\"DejaVuSans-61\" d=\"M 2194 1759 \nQ 1497 1759 1228 1600 \nQ 959 1441 959 1056 \nQ 959 750 1161 570 \nQ 1363 391 1709 391 \nQ 2188 391 2477 730 \nQ 2766 1069 2766 1631 \nL 2766 1759 \nL 2194 1759 \nz\nM 3341 1997 \nL 3341 0 \nL 2766 0 \nL 2766 531 \nQ 2569 213 2275 61 \nQ 1981 -91 1556 -91 \nQ 1019 -91 701 211 \nQ 384 513 384 1019 \nQ 384 1609 779 1909 \nQ 1175 2209 1959 2209 \nL 2766 2209 \nL 2766 2266 \nQ 2766 2663 2505 2880 \nQ 2244 3097 1772 3097 \nQ 1472 3097 1187 3025 \nQ 903 2953 641 2809 \nL 641 3341 \nQ 956 3463 1253 3523 \nQ 1550 3584 1831 3584 \nQ 2591 3584 2966 3190 \nQ 3341 2797 3341 1997 \nz\n\" transform=\"scale(0.015625)\"/>\n       <path id=\"DejaVuSans-69\" d=\"M 603 3500 \nL 1178 3500 \nL 1178 0 \nL 603 0 \nL 603 3500 \nz\nM 603 4863 \nL 1178 4863 \nL 1178 4134 \nL 603 4134 \nL 603 4863 \nz\n\" transform=\"scale(0.015625)\"/>\n       <path id=\"DejaVuSans-6e\" d=\"M 3513 2113 \nL 3513 0 \nL 2938 0 \nL 2938 2094 \nQ 2938 2591 2744 2837 \nQ 2550 3084 2163 3084 \nQ 1697 3084 1428 2787 \nQ 1159 2491 1159 1978 \nL 1159 0 \nL 581 0 \nL 581 3500 \nL 1159 3500 \nL 1159 2956 \nQ 1366 3272 1645 3428 \nQ 1925 3584 2291 3584 \nQ 2894 3584 3203 3211 \nQ 3513 2838 3513 2113 \nz\n\" transform=\"scale(0.015625)\"/>\n       <path id=\"DejaVuSans-20\" transform=\"scale(0.015625)\"/>\n       <path id=\"DejaVuSans-6c\" d=\"M 603 4863 \nL 1178 4863 \nL 1178 0 \nL 603 0 \nL 603 4863 \nz\n\" transform=\"scale(0.015625)\"/>\n       <path id=\"DejaVuSans-6f\" d=\"M 1959 3097 \nQ 1497 3097 1228 2736 \nQ 959 2375 959 1747 \nQ 959 1119 1226 758 \nQ 1494 397 1959 397 \nQ 2419 397 2687 759 \nQ 2956 1122 2956 1747 \nQ 2956 2369 2687 2733 \nQ 2419 3097 1959 3097 \nz\nM 1959 3584 \nQ 2709 3584 3137 3096 \nQ 3566 2609 3566 1747 \nQ 3566 888 3137 398 \nQ 2709 -91 1959 -91 \nQ 1206 -91 779 398 \nQ 353 888 353 1747 \nQ 353 2609 779 3096 \nQ 1206 3584 1959 3584 \nz\n\" transform=\"scale(0.015625)\"/>\n       <path id=\"DejaVuSans-73\" d=\"M 2834 3397 \nL 2834 2853 \nQ 2591 2978 2328 3040 \nQ 2066 3103 1784 3103 \nQ 1356 3103 1142 2972 \nQ 928 2841 928 2578 \nQ 928 2378 1081 2264 \nQ 1234 2150 1697 2047 \nL 1894 2003 \nQ 2506 1872 2764 1633 \nQ 3022 1394 3022 966 \nQ 3022 478 2636 193 \nQ 2250 -91 1575 -91 \nQ 1294 -91 989 -36 \nQ 684 19 347 128 \nL 347 722 \nQ 666 556 975 473 \nQ 1284 391 1588 391 \nQ 1994 391 2212 530 \nQ 2431 669 2431 922 \nQ 2431 1156 2273 1281 \nQ 2116 1406 1581 1522 \nL 1381 1569 \nQ 847 1681 609 1914 \nQ 372 2147 372 2553 \nQ 372 3047 722 3315 \nQ 1072 3584 1716 3584 \nQ 2034 3584 2315 3537 \nQ 2597 3491 2834 3397 \nz\n\" transform=\"scale(0.015625)\"/>\n      </defs>\n      <use xlink:href=\"#DejaVuSans-54\"/>\n      <use xlink:href=\"#DejaVuSans-72\" x=\"46.333984\"/>\n      <use xlink:href=\"#DejaVuSans-61\" x=\"87.447266\"/>\n      <use xlink:href=\"#DejaVuSans-69\" x=\"148.726562\"/>\n      <use xlink:href=\"#DejaVuSans-6e\" x=\"176.509766\"/>\n      <use xlink:href=\"#DejaVuSans-20\" x=\"239.888672\"/>\n      <use xlink:href=\"#DejaVuSans-6c\" x=\"271.675781\"/>\n      <use xlink:href=\"#DejaVuSans-6f\" x=\"299.458984\"/>\n      <use xlink:href=\"#DejaVuSans-73\" x=\"360.640625\"/>\n      <use xlink:href=\"#DejaVuSans-73\" x=\"412.740234\"/>\n     </g>\n    </g>\n    <g id=\"line2d_39\">\n     <path d=\"M 54.471875 246.912795 \nL 68.471875 246.912795 \nL 82.471875 246.912795 \n\" style=\"fill: none; stroke-dasharray: 14.8,6.4; stroke-dashoffset: 0; stroke: #fc4f30; stroke-width: 4\"/>\n    </g>\n    <g id=\"text_19\">\n     <!-- Val loss -->\n     <g transform=\"translate(93.671875 251.812795) scale(0.14 -0.14)\">\n      <defs>\n       <path id=\"DejaVuSans-56\" d=\"M 1831 0 \nL 50 4666 \nL 709 4666 \nL 2188 738 \nL 3669 4666 \nL 4325 4666 \nL 2547 0 \nL 1831 0 \nz\n\" transform=\"scale(0.015625)\"/>\n      </defs>\n      <use xlink:href=\"#DejaVuSans-56\"/>\n      <use xlink:href=\"#DejaVuSans-61\" x=\"60.658203\"/>\n      <use xlink:href=\"#DejaVuSans-6c\" x=\"121.9375\"/>\n      <use xlink:href=\"#DejaVuSans-20\" x=\"149.720703\"/>\n      <use xlink:href=\"#DejaVuSans-6c\" x=\"181.507812\"/>\n      <use xlink:href=\"#DejaVuSans-6f\" x=\"209.291016\"/>\n      <use xlink:href=\"#DejaVuSans-73\" x=\"270.472656\"/>\n      <use xlink:href=\"#DejaVuSans-73\" x=\"322.572266\"/>\n     </g>\n    </g>\n    <g id=\"line2d_40\">\n     <path d=\"M 54.471875 267.46217 \nL 68.471875 267.46217 \nL 82.471875 267.46217 \n\" style=\"fill: none; stroke-dasharray: 14.8,6.4; stroke-dashoffset: 0; stroke: #e5ae38; stroke-width: 4\"/>\n    </g>\n    <g id=\"text_20\">\n     <!-- Accuracy -->\n     <g transform=\"translate(93.671875 272.36217) scale(0.14 -0.14)\">\n      <defs>\n       <path id=\"DejaVuSans-41\" d=\"M 2188 4044 \nL 1331 1722 \nL 3047 1722 \nL 2188 4044 \nz\nM 1831 4666 \nL 2547 4666 \nL 4325 0 \nL 3669 0 \nL 3244 1197 \nL 1141 1197 \nL 716 0 \nL 50 0 \nL 1831 4666 \nz\n\" transform=\"scale(0.015625)\"/>\n       <path id=\"DejaVuSans-63\" d=\"M 3122 3366 \nL 3122 2828 \nQ 2878 2963 2633 3030 \nQ 2388 3097 2138 3097 \nQ 1578 3097 1268 2742 \nQ 959 2388 959 1747 \nQ 959 1106 1268 751 \nQ 1578 397 2138 397 \nQ 2388 397 2633 464 \nQ 2878 531 3122 666 \nL 3122 134 \nQ 2881 22 2623 -34 \nQ 2366 -91 2075 -91 \nQ 1284 -91 818 406 \nQ 353 903 353 1747 \nQ 353 2603 823 3093 \nQ 1294 3584 2113 3584 \nQ 2378 3584 2631 3529 \nQ 2884 3475 3122 3366 \nz\n\" transform=\"scale(0.015625)\"/>\n       <path id=\"DejaVuSans-75\" d=\"M 544 1381 \nL 544 3500 \nL 1119 3500 \nL 1119 1403 \nQ 1119 906 1312 657 \nQ 1506 409 1894 409 \nQ 2359 409 2629 706 \nQ 2900 1003 2900 1516 \nL 2900 3500 \nL 3475 3500 \nL 3475 0 \nL 2900 0 \nL 2900 538 \nQ 2691 219 2414 64 \nQ 2138 -91 1772 -91 \nQ 1169 -91 856 284 \nQ 544 659 544 1381 \nz\nM 1991 3584 \nL 1991 3584 \nz\n\" transform=\"scale(0.015625)\"/>\n       <path id=\"DejaVuSans-79\" d=\"M 2059 -325 \nQ 1816 -950 1584 -1140 \nQ 1353 -1331 966 -1331 \nL 506 -1331 \nL 506 -850 \nL 844 -850 \nQ 1081 -850 1212 -737 \nQ 1344 -625 1503 -206 \nL 1606 56 \nL 191 3500 \nL 800 3500 \nL 1894 763 \nL 2988 3500 \nL 3597 3500 \nL 2059 -325 \nz\n\" transform=\"scale(0.015625)\"/>\n      </defs>\n      <use xlink:href=\"#DejaVuSans-41\"/>\n      <use xlink:href=\"#DejaVuSans-63\" x=\"66.658203\"/>\n      <use xlink:href=\"#DejaVuSans-63\" x=\"121.638672\"/>\n      <use xlink:href=\"#DejaVuSans-75\" x=\"176.619141\"/>\n      <use xlink:href=\"#DejaVuSans-72\" x=\"239.998047\"/>\n      <use xlink:href=\"#DejaVuSans-61\" x=\"281.111328\"/>\n      <use xlink:href=\"#DejaVuSans-63\" x=\"342.390625\"/>\n      <use xlink:href=\"#DejaVuSans-79\" x=\"397.371094\"/>\n     </g>\n    </g>\n   </g>\n  </g>\n </g>\n <defs>\n  <clipPath id=\"pe1cc93e944\">\n   <rect x=\"41.871875\" y=\"7.937732\" width=\"400.896\" height=\"279.936\"/>\n  </clipPath>\n </defs>\n</svg>\n",
      "text/plain": [
       "<Figure size 640x480 with 1 Axes>"
      ]
     },
     "metadata": {},
     "output_type": "display_data"
    }
   ],
   "source": [
    "max_epochs = 20\n",
    "model = Classifier(fan_in=784, fan_out=10)\n",
    "params = model.parameters()\n",
    "\n",
    "\n",
    "epochs = []\n",
    "train_losses = []\n",
    "val_losses = []\n",
    "accs = []\n",
    "for epoch in range(max_epochs):\n",
    "    losses = []\n",
    "    for step, batch in enumerate(data.train_dl):\n",
    "\n",
    "        # Get minibatch\n",
    "        x, y = batch\n",
    "\n",
    "        # Forward pass\n",
    "        logits = model.forward(x)\n",
    "\n",
    "        # Get loss\n",
    "        train_loss = model.loss(logits, y)\n",
    "\n",
    "        # Backward pass\n",
    "        for p in params:\n",
    "            p.grad = None\n",
    "        train_loss.backward()\n",
    "\n",
    "        # Update params\n",
    "        lr = 0.1\n",
    "        for p in params:\n",
    "            p.data += - lr*p.grad\n",
    "\n",
    "    # Print losses\n",
    "    # Do not let computations effect gradient\n",
    "    with torch.no_grad():\n",
    "        epochs.append(epoch)\n",
    "        # Training losses\n",
    "        train_losses.append(train_loss.item())\n",
    "        # Val losses\n",
    "        for batch in data.val_dl:\n",
    "            x, y = batch\n",
    "            logits = model.forward(x)\n",
    "            val_loss = model.loss(logits, y)\n",
    "            acc = model.accuracy(logits,y)\n",
    "            break\n",
    "        val_losses.append(val_loss.item())\n",
    "        accs.append(acc.item())\n",
    "        # Print\n",
    "        print(f'Epoch ({epoch}): train loss = {train_loss.item():.2f}, val loss = {val_loss.item():.2f}, acc = {acc.item():.2f}')\n",
    "\n",
    "# Plot losses\n",
    "plt.plot(epochs, train_losses, 'C0',label='Train loss')\n",
    "plt.plot(epochs, val_losses, 'C1--',label='Val loss')\n",
    "plt.plot(epochs, accs, 'C2--',label='Accuracy')\n",
    "\n",
    "plt.legend()\n"
   ]
  },
  {
   "cell_type": "code",
   "execution_count": 14,
   "metadata": {},
   "outputs": [
    {
     "data": {
      "text/plain": [
       "0.6005633473396301"
      ]
     },
     "execution_count": 14,
     "metadata": {},
     "output_type": "execute_result"
    }
   ],
   "source": [
    "train_loss.item()"
   ]
  },
  {
   "cell_type": "code",
   "execution_count": null,
   "metadata": {},
   "outputs": [],
   "source": []
  },
  {
   "cell_type": "code",
   "execution_count": 7,
   "metadata": {},
   "outputs": [
    {
     "name": "stdout",
     "output_type": "stream",
     "text": [
      "torch.Size([32, 2]) torch.Size([32, 1])\n",
      "Epoch 1\n",
      "-------------------------------\n",
      "loss: 50.698044  [    0/ 2000]\n",
      "Epoch 2\n",
      "-------------------------------\n",
      "loss: 0.206054  [    0/ 2000]\n",
      "Epoch 3\n",
      "-------------------------------\n",
      "loss: 0.097946  [    0/ 2000]\n",
      "Done!\n",
      "\n",
      "The final parameters are (with w = tensor([ 2.0000, -3.4000]) and b = 4.2 as correct answer): \n",
      "OrderedDict([('model.0.weight', tensor([[ 1.9062, -3.2327]])), ('model.0.bias', tensor([4.0953]))])\n",
      "error in estimating w: tensor([[ 0.0938, -0.1673]])\n",
      "error in estimating b: tensor([0.1047])\n"
     ]
    }
   ],
   "source": [
    "# Random data for testing\n",
    "torch.manual_seed(1701)\n",
    "\n",
    "# Create synthetic data\n",
    "num_train=1000\n",
    "num_val=1000\n",
    "w = torch.tensor([2, -3.4])\n",
    "b = 4.2\n",
    "n = num_train + num_val\n",
    "noise = 0.1\n",
    "\n",
    "X = torch.randn((n, len(w)))\n",
    "y = X @ w.reshape(-1, 1) + b + noise\n",
    "\n",
    "\n",
    "class Mydata(Dataset):\n",
    "    def __init__(self, X, y):\n",
    "        self.X = X\n",
    "        self.y = y\n",
    "\n",
    "    def __len__(self):\n",
    "        return len(self.y)\n",
    "\n",
    "    def __getitem__(self, index):\n",
    "        return self.X[index], self.y[index]\n",
    "\n",
    "\n",
    "# Create dataset\n",
    "dataset = Mydata(X, y)\n",
    "\n",
    "# Create dataloader\n",
    "data = DataLoader(dataset, batch_size=32)\n",
    "\n",
    "for x, y in data:\n",
    "    print (x.shape, y.shape)\n",
    "    break\n",
    "\n",
    "\n",
    "# Create model\n",
    "class MyModel(nn.Module):\n",
    "    def __init__(self):\n",
    "        super().__init__()\n",
    "        self.model = nn.Sequential(nn.Linear(2,1))\n",
    "\n",
    "    def forward(self, x):\n",
    "        x = self.model(x)\n",
    "        return x\n",
    "\n",
    "model = MyModel()\n",
    "loss_fn = nn.MSELoss()\n",
    "optimizer = torch.optim.SGD(model.parameters(), lr=0.03, weight_decay=0.1)\n",
    "\n",
    "\n",
    "def train(data, model, loss_fn, optimizer):\n",
    "    size = len(data.dataset)\n",
    "    model.train()\n",
    "    for batch, (X, y) in enumerate(data):\n",
    "        pred = model(X)\n",
    "        loss = loss_fn(pred, y)\n",
    "\n",
    "        optimizer.zero_grad()\n",
    "        loss.backward()\n",
    "        optimizer.step()\n",
    "\n",
    "        if batch % 100 == 0:\n",
    "            loss, current = loss.item(), batch * len(X)\n",
    "            print(f\"loss: {loss:>7f}  [{current:>5d}/{size:>5d}]\")\n",
    "\n",
    "\n",
    "\n",
    "#train(data, model, loss_fn, optimizer)\n",
    "\n",
    "epochs = 3\n",
    "for t in range(epochs):\n",
    "    print(f\"Epoch {t+1}\\n-------------------------------\")\n",
    "    train(data, model, loss_fn, optimizer)\n",
    "print(\"Done!\")\n",
    "\n",
    "#for p in model.parameters():\n",
    "#    print (p)\n",
    "\n",
    "print (f'\\nThe final parameters are (with w = {w} and b = {b} as correct answer): ')\n",
    "print (model.state_dict())\n",
    "answ = w - model.state_dict()['model.0.weight']\n",
    "ansb = b - model.state_dict()['model.0.bias']\n",
    "print(f'error in estimating w: {answ}')\n",
    "print(f'error in estimating b: {ansb}')\n",
    "\n",
    "\n",
    "\n"
   ]
  },
  {
   "cell_type": "markdown",
   "metadata": {},
   "source": []
  },
  {
   "cell_type": "code",
   "execution_count": 34,
   "metadata": {},
   "outputs": [
    {
     "data": {
      "text/plain": [
       "OrderedDict([('model.0.weight', tensor([[ 2.0000, -3.3999]])),\n",
       "             ('model.0.bias', tensor([4.2999]))])"
      ]
     },
     "execution_count": 34,
     "metadata": {},
     "output_type": "execute_result"
    }
   ],
   "source": [
    "model.state_dict()"
   ]
  },
  {
   "cell_type": "code",
   "execution_count": null,
   "metadata": {},
   "outputs": [],
   "source": []
  }
 ],
 "metadata": {
  "kernelspec": {
   "display_name": "Python 3",
   "language": "python",
   "name": "python3"
  },
  "language_info": {
   "codemirror_mode": {
    "name": "ipython",
    "version": 3
   },
   "file_extension": ".py",
   "mimetype": "text/x-python",
   "name": "python",
   "nbconvert_exporter": "python",
   "pygments_lexer": "ipython3",
   "version": "3.9.6"
  },
  "orig_nbformat": 4,
  "vscode": {
   "interpreter": {
    "hash": "31f2aee4e71d21fbe5cf8b01ff0e069b9275f58929596ceb00d14d90e3e16cd6"
   }
  }
 },
 "nbformat": 4,
 "nbformat_minor": 2
}
