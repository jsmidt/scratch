{
 "cells": [
  {
   "cell_type": "code",
   "execution_count": 3,
   "metadata": {},
   "outputs": [],
   "source": [
    "import time\n",
    "from dataclasses import field\n",
    "from typing import Any\n",
    "import jax\n",
    "import numpy as np\n",
    "from flax import linen as nn\n",
    "from flax.training import train_state\n",
    "from jax import numpy as jnp\n",
    "\n",
    "\n",
    "\n",
    "# For classes\n",
    "import inspect \n",
    "import random\n",
    "import matplotlib.pyplot as plt\n",
    "import collections\n",
    "from dataclasses import field\n",
    "from dataclasses import dataclass"
   ]
  },
  {
   "cell_type": "code",
   "execution_count": 4,
   "metadata": {},
   "outputs": [],
   "source": [
    "get_seed = lambda: random.randint(0, 1e6)\n",
    "get_key = lambda: jax.random.PRNGKey(get_seed())"
   ]
  },
  {
   "cell_type": "code",
   "execution_count": 5,
   "metadata": {},
   "outputs": [],
   "source": [
    "class HyperParameters:\n",
    "    '''Parent class to save parameters not ignored'''\n",
    "\n",
    "    # Save paremeters not ignored to self\n",
    "    # See HyperparametersMixin from Pytorch Lightning API\n",
    "    def save_hyperparameters(self, * args, ignore=[]):\n",
    "\n",
    "        # Get local variables passed to function (a=b,...) -> {a:b,...}\n",
    "        frame = inspect.currentframe().f_back\n",
    "        _, _, _, local_vars = inspect.getargvalues(frame)\n",
    "\n",
    "        # Get parameters not ignored and place in dictionary\n",
    "        self.hparams = {k: v for k, v in local_vars.items() if k not in\n",
    "                        set(ignore + ['self']) and not k.startswith('_')}\n",
    "\n",
    "        # Save parameter values to self. {a:b} -> self.a = b\n",
    "        for k, v in self.hparams.items():\n",
    "            setattr(self, k, v)\n",
    "\n",
    "\n",
    "class ProgressBoard(HyperParameters):  # @save\n",
    "    \"\"\"Plot data points in animation.\"\"\"\n",
    "\n",
    "    def __init__(self, xlabel=None, ylabel=None, xlim=None,\n",
    "                 ylim=None, xscale='linear', yscale='linear',\n",
    "                 ls=['-', '--', '-.', ':'], colors=['C0', 'C1', 'C2', 'C3'],\n",
    "                 fig=None, axes=None, figsize=(3.5, 2.5), display=True):\n",
    "        self.save_hyperparameters()\n",
    "\n",
    "    def draw(self, x, y, label, every_n=1):\n",
    "\n",
    "        # Create named tuple Point\n",
    "        Point = collections.namedtuple('Point', ['x', 'y'])\n",
    "\n",
    "        # If new data, make dictionary for points and data\n",
    "        if not hasattr(self, 'raw_points'):\n",
    "            # Make an ordered dictionary\n",
    "            self.raw_points = collections.OrderedDict()\n",
    "            self.data = collections.OrderedDict()\n",
    "\n",
    "        # If no data, initialize data with an array\n",
    "        if label not in self.raw_points:\n",
    "            self.raw_points[label] = []\n",
    "            self.data[label] = []\n",
    "\n",
    "        # Get current data and append new data\n",
    "        points = self.raw_points[label]\n",
    "        line = self.data[label]\n",
    "        points.append(Point(x, y))\n",
    "        # print (self.raw_points, self.data)\n",
    "        # Return if not every_n\n",
    "        if len(points) != every_n:\n",
    "            return\n",
    "\n",
    "        # calculate the mean for line\n",
    "        def mean(x): return sum(x) / len(x)\n",
    "        line.append(Point(mean([p.x for p in points]),\n",
    "                          mean([p.y for p in points])))\n",
    "\n",
    "        points.clear()\n",
    "        if self.fig is None:\n",
    "            self.fig = plt.figure()\n",
    "        plt_lines, labels = [], []\n",
    "\n",
    "        for (k, v), ls, color in zip(self.data.items(), self.ls, self.colors):\n",
    "            plt_lines.append(plt.plot([p.x for p in v],\n",
    "                                      [p.y for p in v], linestyle=ls, color=color)[0])\n",
    "            labels.append(k)\n",
    "        axes = plt.gca()\n",
    "        if self.ylim:\n",
    "            axes.set_ylim(self.ylim)\n",
    "        if not self.xlabel:\n",
    "            self.xlabel = self.x\n",
    "        axes.set_xlabel(self.xlabel)\n",
    "        axes.set_ylabel(self.ylabel)\n",
    "        axes.set_xscale(self.xscale)\n",
    "        axes.set_yscale(self.yscale)\n",
    "        axes.legend(plt_lines, labels)\n"
   ]
  },
  {
   "cell_type": "code",
   "execution_count": 6,
   "metadata": {},
   "outputs": [
    {
     "data": {
      "image/png": "[encoded data removed]",
      "text/plain": [
       "<Figure size 432x288 with 1 Axes>"
      ]
     },
     "metadata": {
      "needs_background": "light"
     },
     "output_type": "display_data"
    }
   ],
   "source": [
    "board = ProgressBoard('Epoch')\n",
    "for x in np.arange(0, 10, 0.1):\n",
    "    board.draw(x, np.sin(x), 'sin', every_n=2)\n",
    "    board.draw(x, np.cos(x), 'cos', every_n=10)"
   ]
  },
  {
   "cell_type": "code",
   "execution_count": 7,
   "metadata": {},
   "outputs": [
    {
     "data": {
      "text/plain": [
       "2"
      ]
     },
     "execution_count": 7,
     "metadata": {},
     "output_type": "execute_result"
    }
   ],
   "source": [
    "@dataclass\n",
    "class Module(HyperParameters):\n",
    "    plot_train_per_epoch: int = field(default=2, init=False)\n",
    "    plot_valid_per_epoch: int = field(default=1, init=False)\n",
    "    board: ProgressBoard = field(\n",
    "        default_factory=lambda: ProgressBoard(), init=False)\n",
    "\n",
    "    def loss(self, y_hat, y):\n",
    "        raise NotImplementedError\n",
    "\n",
    "    def forward(self, X, *args):\n",
    "        assert hasattr(self, 'net'), 'Neural network is defined'\n",
    "        return self.net(X, *args)\n",
    "\n",
    "    def __call__(self, X, *args):\n",
    "        return self.forward(X, *args)\n",
    "\n",
    "    def plot(self, key, value, train):\n",
    "        assert hasattr(self, 'trainer'), 'Trainer is not initiated'\n",
    "        self.board.xlabel = 'epoch'\n",
    "\n",
    "        if train:\n",
    "            x = self.trainer.train_batch_idx / \\\n",
    "                self.trainer.num_train_batches\n",
    "            n = self.trainer.num_train_batches / \\\n",
    "                self.plot_train_per_epoch\n",
    "        else:\n",
    "            x = self.trainer.epoch + 1\n",
    "            n = self.trainer.num_val_batches / \\\n",
    "                self.plot_valid_per_epoch\n",
    "        self.board.draw(x, value,\n",
    "                        ('train_' if train else 'val_') + key,\n",
    "                        every_n=int(n))\n",
    "\n",
    "        def training_step(self, params, batch, state):\n",
    "            l, grads = jax.value_and_grad(self.loss)(params, batch[:-1], batch[-1], state)\n",
    "            self.plot('loss', l, train=True)\n",
    "            return l\n",
    "\n",
    "        def validation_step(self, params, batch, state):\n",
    "            l = self.loss(params, batch[:-1], batch[-1], state)\n",
    "            self.plot('loss', l, train=False)\n",
    "\n",
    "        def configure_optimizers(self):\n",
    "            raise NotImplementedError\n",
    "\n",
    "        def apply_init(self, dummy_input, key):\n",
    "            params = self.init(key, *dummy_input)\n",
    "            return params\n",
    "\n",
    "\n",
    "\n",
    "mod = Module()\n",
    "mod.plot_train_per_epoch\n"
   ]
  },
  {
   "cell_type": "code",
   "execution_count": 8,
   "metadata": {},
   "outputs": [],
   "source": [
    "class DataModule(HyperParameters):  #@save\n",
    "    def __init__(self, root='data'):\n",
    "        self.save_hyperparameters()\n",
    "\n",
    "    def get_dataloader(self, train):\n",
    "        raise NotImplementedError\n",
    "\n",
    "    def train_dataloader(self):\n",
    "        return self.get_dataloader(train=True)\n",
    "\n",
    "    def val_dataloader(self):\n",
    "        return self.get_dataloader(train=False)\n",
    "\n",
    "    def get_tensorloader(self, tensors, train, indices=slice(0, None)):\n",
    "        tensors = tuple(a[indices] for a in tensors)\n",
    "        return tensors\n",
    "        # Use Tensorflow Datasets & Dataloader. JAX or Flax do not provide\n",
    "        # any dataloading functionality\n",
    "        #shuffle_buffer = tensors[0].shape[0] if train else 1\n",
    "        #return tfds.as_numpy(\n",
    "        #    tf.data.Dataset.from_tensor_slices(tensors).shuffle(\n",
    "        #        buffer_size=shuffle_buffer).batch(self.batch_size))"
   ]
  },
  {
   "cell_type": "code",
   "execution_count": 9,
   "metadata": {},
   "outputs": [
    {
     "data": {
      "text/plain": [
       "{'max_epochs': 10, 'num_gpus': 0, 'gradient_clip_val': 0}"
      ]
     },
     "execution_count": 9,
     "metadata": {},
     "output_type": "execute_result"
    }
   ],
   "source": [
    "class Trainer(HyperParameters):\n",
    "    def __init__(self, max_epochs, num_gpus=0, gradient_clip_val=0):\n",
    "        self.save_hyperparameters()\n",
    "        assert num_gpus == 0, 'No GPU support yet'\n",
    "\n",
    "    def prepare_data(self, data):\n",
    "        self.train_dataloader = data.train_dataloader()\n",
    "        self.val_dataloader = data.val_dataloader()\n",
    "        self.num_train_batches = len(self.train_dataloader)\n",
    "        self.num_val_batches = (len(self.val_dataloader)\n",
    "                                if self.val_dataloader is not None else 0)\n",
    "\n",
    "    def prepare_model(self, model):\n",
    "        model.trainer = self\n",
    "        model.board.xlim = [0, self.max_epochs]\n",
    "        self.model = model\n",
    "\n",
    "    def fit(self, model, data, key=None):\n",
    "        self.prepare_data(data)\n",
    "        self.prepare_model(model)\n",
    "        self.optim = model.configure_optimizers()\n",
    "\n",
    "        if key is None:\n",
    "            root_key = get_key()\n",
    "        else:\n",
    "            root_key = key\n",
    "\n",
    "        params_key, dropout_key = jax.random.split(root_key)\n",
    "        key = {'params': params_key, 'dropout': dropout_key}\n",
    "\n",
    "        dummy_index = next(iter(self.train_dataloader))[:-1]\n",
    "        variables = model.apply_init(dummy_index,key=key)\n",
    "        params = variables['params']\n",
    "\n",
    "        if 'batch_stats' in variables.keys():\n",
    "            batch_stats = variables['batch_stats']\n",
    "        else:\n",
    "            batch_stats = {}\n",
    "\n",
    "        class TrainState(train_state.TrainState):\n",
    "            batch_stats: Any\n",
    "            dropout_rng: jax.random.PRNGKeyArray\n",
    "\n",
    "        self.state = TrainState.create(apply_fn=model.apply,\n",
    "                                       params=params,\n",
    "                                       batch_stats=batch_stats,\n",
    "                                       dropout_rng=dropout_key,\n",
    "                                       tx=model.configure_optimizers())        \n",
    "\n",
    "\n",
    "        self.epoch = 0\n",
    "        self.train_batch_idx = 0\n",
    "        self.val_batch_idx = 0\n",
    "        for self.epoch in range(self.max_epochs):\n",
    "            self.fit_epoch()\n",
    "    \n",
    "    def fit_epoch(self):\n",
    "        raise NotImplementedError\n",
    "\n",
    "tn = Trainer(10)\n",
    "tn.hparams"
   ]
  },
  {
   "cell_type": "code",
   "execution_count": 10,
   "metadata": {},
   "outputs": [],
   "source": [
    "class SyntheticRegressionData(DataModule):\n",
    "    def __init__(self, w, b, noise=0.01, num_train=1000, num_val=1000,\n",
    "                 batch_size=32, seed=0):\n",
    "        super().__init__()\n",
    "        self.save_hyperparameters()\n",
    "        n = num_train + num_val\n",
    "        key = jax.random.PRNGKey(seed)\n",
    "        key1, key2 = jax.random.split(key)\n",
    "        self.X = jax.random.normal(key1, (n, w.shape[0]))\n",
    "        noise = jax.random.normal(key2, (n, 1))*noise\n",
    "        self.y = self.X @ w.reshape(-1, 1) + b + noise\n",
    "\n",
    "    def get_dataloader(self, train):\n",
    "        if train:\n",
    "            indices = list(range(0, self.num_train))\n",
    "            # The examples are read in random order\n",
    "            random.shuffle(indices)\n",
    "        else:\n",
    "            indices = list(range(self.num_train, self.num_train+self.num_val))\n",
    "        for i in range(0, len(indices), self.batch_size):\n",
    "            batch_indices = jnp.array(indices[i: i+self.batch_size])\n",
    "            yield self.X[batch_indices], self.y[batch_indices]\n",
    "\n",
    "\n"
   ]
  },
  {
   "cell_type": "code",
   "execution_count": 11,
   "metadata": {},
   "outputs": [
    {
     "name": "stdout",
     "output_type": "stream",
     "text": [
      "features: [-0.86997527 -3.2320356 ], \n",
      "label=[13.438176]\n"
     ]
    }
   ],
   "source": [
    "data = SyntheticRegressionData(w=jnp.array([2, -3.4]), b=4.2)\n",
    "print (f'features: {data.X[0]}, \\nlabel={data.y[0]}')"
   ]
  },
  {
   "cell_type": "markdown",
   "metadata": {},
   "source": []
  },
  {
   "cell_type": "code",
   "execution_count": 12,
   "metadata": {},
   "outputs": [
    {
     "name": "stdout",
     "output_type": "stream",
     "text": [
      "X shape: (32, 2) \n",
      "y shape: (32, 1)\n"
     ]
    }
   ],
   "source": [
    "X, y = next(iter(data.train_dataloader()))\n",
    "print(f'X shape: {X.shape} \\ny shape: {y.shape}')"
   ]
  },
  {
   "cell_type": "code",
   "execution_count": 88,
   "metadata": {},
   "outputs": [
    {
     "ename": "TypeError",
     "evalue": "object of type 'generator' has no len()",
     "output_type": "error",
     "traceback": [
      "\u001b[0;31m---------------------------------------------------------------------------\u001b[0m",
      "\u001b[0;31mTypeError\u001b[0m                                 Traceback (most recent call last)",
      "Cell \u001b[0;32mIn[88], line 1\u001b[0m\n\u001b[0;32m----> 1\u001b[0m \u001b[39mlen\u001b[39m(data\u001b[39m.\u001b[39mtrain_dataloader())\n",
      "\u001b[0;31mTypeError\u001b[0m: object of type 'generator' has no len()"
     ]
    }
   ],
   "source": [
    "\n",
    "len(data.train_dataloader())\n"
   ]
  },
  {
   "cell_type": "code",
   "execution_count": 14,
   "metadata": {},
   "outputs": [
    {
     "ename": "AttributeError",
     "evalue": "'LinearRegressionScratch' object has no attribute 'param'",
     "output_type": "error",
     "traceback": [
      "\u001b[0;31m---------------------------------------------------------------------------\u001b[0m",
      "\u001b[0;31mAttributeError\u001b[0m                            Traceback (most recent call last)",
      "Cell \u001b[0;32mIn[14], line 11\u001b[0m\n\u001b[1;32m      8\u001b[0m         \u001b[39mself\u001b[39m\u001b[39m.\u001b[39mb \u001b[39m=\u001b[39m \u001b[39mself\u001b[39m\u001b[39m.\u001b[39mparam(\u001b[39m'\u001b[39m\u001b[39mb\u001b[39m\u001b[39m'\u001b[39m)\n\u001b[1;32m     10\u001b[0m a \u001b[39m=\u001b[39m LinearRegressionScratch()\n\u001b[0;32m---> 11\u001b[0m a\u001b[39m.\u001b[39;49msetup()\n",
      "Cell \u001b[0;32mIn[14], line 7\u001b[0m, in \u001b[0;36mLinearRegressionScratch.setup\u001b[0;34m(self)\u001b[0m\n\u001b[1;32m      6\u001b[0m \u001b[39mdef\u001b[39;00m \u001b[39msetup\u001b[39m(\u001b[39mself\u001b[39m):\n\u001b[0;32m----> 7\u001b[0m     \u001b[39mself\u001b[39m\u001b[39m.\u001b[39mw \u001b[39m=\u001b[39m \u001b[39mself\u001b[39;49m\u001b[39m.\u001b[39;49mparam(\u001b[39m'\u001b[39m\u001b[39mw\u001b[39m\u001b[39m'\u001b[39m)\n\u001b[1;32m      8\u001b[0m     \u001b[39mself\u001b[39m\u001b[39m.\u001b[39mb \u001b[39m=\u001b[39m \u001b[39mself\u001b[39m\u001b[39m.\u001b[39mparam(\u001b[39m'\u001b[39m\u001b[39mb\u001b[39m\u001b[39m'\u001b[39m)\n",
      "\u001b[0;31mAttributeError\u001b[0m: 'LinearRegressionScratch' object has no attribute 'param'"
     ]
    }
   ],
   "source": [
    "class LinearRegressionScratch(Module):\n",
    "    num_inputs: int\n",
    "    lr: float\n",
    "    sigma: float = 0.01\n",
    "\n",
    "    def setup(self):\n",
    "        self.w = self.param('w')\n",
    "        self.b = self.param('b')\n",
    "\n",
    "a = LinearRegressionScratch()\n",
    "a.setup()\n"
   ]
  },
  {
   "cell_type": "code",
   "execution_count": 160,
   "metadata": {},
   "outputs": [
    {
     "data": {
      "image/png": "[encoded data removed]",
      "text/plain": [
       "<Figure size 432x288 with 1 Axes>"
      ]
     },
     "metadata": {
      "needs_background": "light"
     },
     "output_type": "display_data"
    }
   ],
   "source": [
    "class Model:\n",
    "    def __init__(self, n_in, n_out=1, m=0, b = 0, seed=0):\n",
    "        key = jax.random.PRNGKey(seed)\n",
    "\n",
    "        self.x = jnp.arange(n_in, dtype=jnp.float32)\n",
    "        self.m = m\n",
    "        self.b = b\n",
    "        noise = jax.random.normal(key, (n_in,), dtype=jnp.float32)\n",
    "        self.y = self.m*self.x + self.b + noise\n",
    "\n",
    "mymodel = Model(100, m=1.0, b = 10.)\n",
    "#mymodel.y.flatten().shape\n",
    "#plt.scatter(mymodel.x, mymodel.y);\n",
    "mymodel.x.shape, mymodel.y.shape\n",
    "plt.scatter(mymodel.x, mymodel.y);"
   ]
  },
  {
   "cell_type": "code",
   "execution_count": 212,
   "metadata": {},
   "outputs": [
    {
     "name": "stdout",
     "output_type": "stream",
     "text": [
      "\n",
      "m = 0.0, b = 0.0\n",
      "grad m = -571.325927734375, grad b = -8.993230819702148\n",
      "Loss equals 629.8775024414062\n",
      "\n",
      "m = 1.137751817703247, b = 0.9976820945739746\n",
      "grad m = 0.0740509033203125, grad b = -4.930723667144775\n",
      "Loss equals 45.948909759521484\n",
      "\n",
      "m = 1.1229221820831299, b = 1.9813039302825928\n",
      "grad m = 0.07330703735351562, grad b = -4.904034614562988\n",
      "Loss equals 41.11027526855469\n",
      "\n",
      "m = 1.108188509941101, b = 2.9585635662078857\n",
      "grad m = 0.07335662841796875, grad b = -4.86629056930542\n",
      "Loss equals 36.334022521972656\n",
      "\n",
      "m = 1.0935930013656616, b = 3.9266586303710938\n",
      "grad m = 0.0725250244140625, grad b = -4.810912132263184\n",
      "Loss equals 31.64693260192871\n",
      "\n",
      "m = 1.0792049169540405, b = 4.880992412567139\n",
      "grad m = 0.070465087890625, grad b = -4.7260613441467285\n",
      "Loss equals 27.09210968017578\n",
      "\n",
      "m = 1.0651428699493408, b = 5.813702583312988\n",
      "grad m = 0.0690765380859375, grad b = -4.58970832824707\n",
      "Loss equals 22.741252899169922\n",
      "\n",
      "m = 1.0516178607940674, b = 6.710794925689697\n",
      "grad m = 0.065521240234375, grad b = -4.360843658447266\n",
      "Loss equals 18.715839385986328\n",
      "\n",
      "m = 1.049738883972168, b = 7.538871765136719\n",
      "grad m = 212.18356323242188, grad b = -0.4945307970046997\n",
      "Loss equals 16.416217803955078\n",
      "\n",
      "m = 1.0473393201828003, b = 8.174229621887207\n",
      "grad m = 355.681396484375, grad b = 2.6515824794769287\n",
      "Loss equals 16.420269012451172\n",
      "\n",
      "m = 1.043163537979126, b = 8.640521049499512\n",
      "grad m = 412.73114013671875, grad b = 4.23233699798584\n",
      "Loss equals 16.42084312438965\n",
      "9.442892\n"
     ]
    }
   ],
   "source": [
    "x = jnp.arange(mymodel.y.size, dtype=jnp.float32)\n",
    "\n",
    "m = jnp.array(0.0)\n",
    "b = jnp.array(0.0)\n",
    "\n",
    "params = dict(m=jnp.array(m),b=jnp.array(b))\n",
    "\n",
    "def test(params):\n",
    "    return jnp.sum((params['m']*x + params['b'] - mymodel.y)**2.0)**0.5\n",
    "\n",
    "for i in range(20001):\n",
    "    if i %2000 == 0:\n",
    "        print()\n",
    "        print (f\"m = {params['m']}, b = {params['b']}\")\n",
    "\n",
    "    grads = jax.grad(test)(params)\n",
    "    \n",
    "    #params['m'] += -0.0001*grads['m']\n",
    "    #params['b'] += -0.0001*grads['b']\n",
    "\n",
    "    params = jax.tree_map(lambda p, g: p - 0.0001 * g, params, grads)\n",
    "\n",
    "    if i %2000 == 0:\n",
    "        print (f\"grad m = {grads['m']}, grad b = {grads['b']}\")\n",
    "        print (f'Loss equals {test(params)}')\n",
    "\n",
    "\n",
    "#plt.plot(x, mymodel.y)\n",
    "#plt.plot(x, m*x + b)\n",
    "\n",
    "#m = 1.0\n",
    "#print (jnp.mean((m*x + b - mymodel.y)**2.0))\n",
    "\n",
    "params['m'] = 1.0\n",
    "params['b'] = 10.0\n",
    "print (test(params))\n",
    "\n"
   ]
  },
  {
   "cell_type": "code",
   "execution_count": 194,
   "metadata": {},
   "outputs": [
    {
     "data": {
      "text/plain": [
       "dict_keys(['m', 'b'])"
      ]
     },
     "execution_count": 194,
     "metadata": {},
     "output_type": "execute_result"
    }
   ],
   "source": [
    "params = dict(m=jnp.array(m),b=jnp.array(b))\n",
    "params.keys()"
   ]
  },
  {
   "cell_type": "code",
   "execution_count": null,
   "metadata": {},
   "outputs": [],
   "source": []
  },
  {
   "cell_type": "code",
   "execution_count": 159,
   "metadata": {},
   "outputs": [
    {
     "name": "stdout",
     "output_type": "stream",
     "text": [
      "\n",
      "* Epoch 0\n",
      " * params: params['m'].item() = 0.10000000149011612, params['b'].item() = 0.10000000149011612\n",
      "{'b': Array(-109.064255, dtype=float32, weak_type=True), 'm': Array(-6903.718, dtype=float32, weak_type=True)}\n",
      " * grad: gloss['m'].item() = -6903.7177734375, gloss['b'].item() = -109.06425476074219\n",
      "3654.2393\n",
      "\n",
      "* Epoch 20\n",
      " * params: params['m'].item() = 0.8809539079666138, params['b'].item() = 0.11277005076408386\n",
      "{'b': Array(-31.724281, dtype=float32, weak_type=True), 'm': Array(-1773.9299, dtype=float32, weak_type=True)}\n",
      " * grad: gloss['m'].item() = -1773.929931640625, gloss['b'].item() = -31.724281311035156\n",
      "264.91882\n",
      "\n",
      "* Epoch 40\n",
      " * params: params['m'].item() = 1.0816173553466797, params['b'].item() = 0.11679121851921082\n",
      "{'b': Array(-11.850559, dtype=float32, weak_type=True), 'm': Array(-455.77502, dtype=float32, weak_type=True)}\n",
      " * grad: gloss['m'].item() = -455.7750244140625, gloss['b'].item() = -11.85055923461914\n",
      "41.12108\n",
      "\n",
      "* Epoch 60\n",
      " * params: params['m'].item() = 1.1508668661117554, params['b'].item() = 0.12778855860233307\n",
      "{'b': Array(-4.9728594, dtype=float32, weak_type=True), 'm': Array(0.07548523, dtype=float32, weak_type=True)}\n",
      " * grad: gloss['m'].item() = 0.0754852294921875, gloss['b'].item() = -4.9728593826293945\n",
      "25.250078\n",
      "\n",
      "* Epoch 80\n",
      " * params: params['m'].item() = 69608768.0, params['b'].item() = 1049459.75\n",
      "{'b': Array(6.8933663e+09, dtype=float32, weak_type=True), 'm': Array(4.5722465e+11, dtype=float32, weak_type=True)}\n",
      " * grad: gloss['m'].item() = 457224650752.0, gloss['b'].item() = 6893366272.0\n",
      "1.591704e+19\n"
     ]
    }
   ],
   "source": [
    "def loss (params, y):\n",
    "    x = jnp.arange(y.size, dtype=jnp.float32)\n",
    "    off = (params['m']*x + params['b'] - y)**2.0\n",
    "    return off.mean()\n",
    "\n",
    "m = jnp.array(0.1)\n",
    "b = jnp.array(0.1)\n",
    "params = []\n",
    "params = dict(m=jnp.array(m),b=jnp.array(b))\n",
    "\n",
    "for i in range(100):\n",
    "    \n",
    "    \n",
    "    #params['m'] = m\n",
    "    #params['b'] = b\n",
    "    if i%20 == 0:\n",
    "        print (f'\\n* Epoch {i}')\n",
    "        print (f\" * params: {params['m'].item() = }, {params['b'].item() = }\")\n",
    "\n",
    "    myloss = loss(params, mymodel.y)\n",
    "    gloss = jax.grad(loss)(params, mymodel.y)\n",
    "    if i%20 == 0:\n",
    "        print (gloss)\n",
    "\n",
    "    if i < 40:\n",
    "        lr = 0.00001\n",
    "    elif i < 60:\n",
    "        lr = 0.0001\n",
    "    else:\n",
    "        lr = 0.001\n",
    "    \n",
    "    params['m'] = params['m'] - lr*gloss['m']\n",
    "    params['b'] = params['b'] - lr*gloss['b']\n",
    "    #print (i, myloss)\n",
    "    #print (myloss)\n",
    "    if i%20 == 0:\n",
    "        print (f\" * grad: {gloss['m'].item() = }, {gloss['b'].item() = }\")\n",
    "        print (myloss)\n",
    "\n",
    "\n",
    "\n",
    "    \n"
   ]
  },
  {
   "cell_type": "code",
   "execution_count": null,
   "metadata": {},
   "outputs": [],
   "source": [
    "\n"
   ]
  },
  {
   "cell_type": "code",
   "execution_count": null,
   "metadata": {},
   "outputs": [],
   "source": []
  },
  {
   "cell_type": "code",
   "execution_count": null,
   "metadata": {},
   "outputs": [],
   "source": []
  },
  {
   "cell_type": "code",
   "execution_count": null,
   "metadata": {},
   "outputs": [],
   "source": []
  }
 ],
 "metadata": {
  "kernelspec": {
   "display_name": "Python 3",
   "language": "python",
   "name": "python3"
  },
  "language_info": {
   "codemirror_mode": {
    "name": "ipython",
    "version": 3
   },
   "file_extension": ".py",
   "mimetype": "text/x-python",
   "name": "python",
   "nbconvert_exporter": "python",
   "pygments_lexer": "ipython3",
   "version": "3.8.9"
  },
  "orig_nbformat": 4,
  "vscode": {
   "interpreter": {
    "hash": "31f2aee4e71d21fbe5cf8b01ff0e069b9275f58929596ceb00d14d90e3e16cd6"
   }
  }
 },
 "nbformat": 4,
 "nbformat_minor": 2
}
