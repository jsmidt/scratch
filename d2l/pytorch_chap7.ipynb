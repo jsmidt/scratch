{
 "cells": [
  {
   "cell_type": "code",
   "execution_count": 79,
   "metadata": {},
   "outputs": [],
   "source": [
    "import torch\n",
    "from torch import nn\n",
    "from torch.nn import functional as F\n",
    "import matplotlib.pyplot as plt\n",
    "%config InlineBackend.figure_formats = ['svg']\n",
    "plt.style.use('fivethirtyeight')"
   ]
  },
  {
   "cell_type": "code",
   "execution_count": 4,
   "metadata": {},
   "outputs": [
    {
     "name": "stdout",
     "output_type": "stream",
     "text": [
      "tensor([[0, 1, 2],\n",
      "        [3, 4, 5],\n",
      "        [6, 7, 8]]) torch.Size([3, 3])\n",
      "tensor([[0, 1],\n",
      "        [2, 3]]) torch.Size([2, 2])\n",
      "tensor([[19., 25.],\n",
      "        [37., 43.]])\n"
     ]
    }
   ],
   "source": [
    "def corr2d(X, K):\n",
    "    h, w = K.shape\n",
    "    Y = torch.zeros((X.shape[0] - h + 1, X.shape[1] - w + 1))\n",
    "    for i in range(Y.shape[0]):\n",
    "        for j in range(Y.shape[1]):\n",
    "            Y[i, j] = (X[i:i + h, j:j + w] * K).sum()\n",
    "    return (Y)\n",
    "\n",
    "x = torch.tensor([[0, 1, 2], [3, 4, 5], [6, 7, 8]])\n",
    "k = torch.tensor([[0, 1], [2, 3]])\n",
    "\n",
    "print (x, x.shape)\n",
    "print (k, k.shape)\n",
    "\n",
    "print (corr2d(x, k))"
   ]
  },
  {
   "cell_type": "code",
   "execution_count": 5,
   "metadata": {},
   "outputs": [],
   "source": [
    "def corr2d(X, K):\n",
    "    h, w = K.shape\n",
    "    Y = torch.zeros((X.shape[0] - h + 1, X.shape[1] - w + 1))\n",
    "    for i in range(Y.shape[0]):\n",
    "        for j in range(Y.shape[1]):\n",
    "            Y[i, j] = (X[i:i + h, j:j + w] * K).sum()\n",
    "    return (Y)\n",
    "\n",
    "class Conv2D(nn.Module):\n",
    "    def __init__(self, kernel_size):\n",
    "        self.weight = nn.Parameter(torch.rand(kernel_size))\n",
    "        self.bias = nn.Parameter(torch.zeros(1))\n",
    "\n",
    "    def forward(self, x):\n",
    "        return (corr2d(x, self.weight) + self.bias)\n"
   ]
  },
  {
   "cell_type": "code",
   "execution_count": 6,
   "metadata": {},
   "outputs": [
    {
     "name": "stdout",
     "output_type": "stream",
     "text": [
      "tensor([[1., 1., 0., 0., 0., 0., 1., 1.],\n",
      "        [1., 1., 0., 0., 0., 0., 1., 1.],\n",
      "        [1., 1., 0., 0., 0., 0., 1., 1.],\n",
      "        [1., 1., 0., 0., 0., 0., 1., 1.],\n",
      "        [1., 1., 0., 0., 0., 0., 1., 1.],\n",
      "        [1., 1., 0., 0., 0., 0., 1., 1.]]) torch.Size([6, 8])\n",
      "tensor([[ 1., -1.]]) torch.Size([1, 2])\n",
      "tensor([[ 0.,  1.,  0.,  0.,  0., -1.,  0.],\n",
      "        [ 0.,  1.,  0.,  0.,  0., -1.,  0.],\n",
      "        [ 0.,  1.,  0.,  0.,  0., -1.,  0.],\n",
      "        [ 0.,  1.,  0.,  0.,  0., -1.,  0.],\n",
      "        [ 0.,  1.,  0.,  0.,  0., -1.,  0.],\n",
      "        [ 0.,  1.,  0.,  0.,  0., -1.,  0.]]) torch.Size([6, 7])\n"
     ]
    }
   ],
   "source": [
    "X = torch.ones((6, 8))\n",
    "X[:,  2:6] = 0\n",
    "print (X, X.shape)\n",
    "\n",
    "# K representing finite difference operator: edge detection\n",
    "K = torch.tensor([[1.0, -1.0]])\n",
    "print (K, K.shape)\n",
    "\n",
    "Y = corr2d(X, K)\n",
    "\n",
    "print (Y, Y.shape)"
   ]
  },
  {
   "cell_type": "code",
   "execution_count": 7,
   "metadata": {},
   "outputs": [
    {
     "data": {
      "text/plain": [
       "tensor([[0., 0., 0., 0., 0.],\n",
       "        [0., 0., 0., 0., 0.],\n",
       "        [0., 0., 0., 0., 0.],\n",
       "        [0., 0., 0., 0., 0.],\n",
       "        [0., 0., 0., 0., 0.],\n",
       "        [0., 0., 0., 0., 0.],\n",
       "        [0., 0., 0., 0., 0.],\n",
       "        [0., 0., 0., 0., 0.]])"
      ]
     },
     "execution_count": 7,
     "metadata": {},
     "output_type": "execute_result"
    }
   ],
   "source": [
    "corr2d(X.T, K)"
   ]
  },
  {
   "cell_type": "code",
   "execution_count": 44,
   "metadata": {},
   "outputs": [
    {
     "name": "stdout",
     "output_type": "stream",
     "text": [
      "Original X:\n",
      "tensor([[[[1., 1., 0., 0., 0., 0., 1., 1.],\n",
      "          [1., 1., 0., 0., 0., 0., 1., 1.],\n",
      "          [1., 1., 0., 0., 0., 0., 1., 1.],\n",
      "          [1., 1., 0., 0., 0., 0., 1., 1.],\n",
      "          [1., 1., 0., 0., 0., 0., 1., 1.],\n",
      "          [1., 1., 0., 0., 0., 0., 1., 1.]]]]) torch.Size([1, 1, 6, 8])\n",
      "Original Y to fit:\n",
      "tensor([[[[ 0.,  1.,  0.,  0.,  0., -1.,  0.],\n",
      "          [ 0.,  1.,  0.,  0.,  0., -1.,  0.],\n",
      "          [ 0.,  1.,  0.,  0.,  0., -1.,  0.],\n",
      "          [ 0.,  1.,  0.,  0.,  0., -1.,  0.],\n",
      "          [ 0.,  1.,  0.,  0.,  0., -1.,  0.],\n",
      "          [ 0.,  1.,  0.,  0.,  0., -1.,  0.]]]]) torch.Size([1, 1, 6, 7])\n",
      "Example of Conv2D:\n",
      "tensor([[[[ 0.0917, -0.3280,  0.0000,  0.0000,  0.0000,  0.4197,  0.0917],\n",
      "          [ 0.0917, -0.3280,  0.0000,  0.0000,  0.0000,  0.4197,  0.0917],\n",
      "          [ 0.0917, -0.3280,  0.0000,  0.0000,  0.0000,  0.4197,  0.0917],\n",
      "          [ 0.0917, -0.3280,  0.0000,  0.0000,  0.0000,  0.4197,  0.0917],\n",
      "          [ 0.0917, -0.3280,  0.0000,  0.0000,  0.0000,  0.4197,  0.0917],\n",
      "          [ 0.0917, -0.3280,  0.0000,  0.0000,  0.0000,  0.4197,  0.0917]]]],\n",
      "       grad_fn=<ConvolutionBackward0>) torch.Size([1, 1, 6, 7])\n"
     ]
    },
    {
     "name": "stderr",
     "output_type": "stream",
     "text": [
      "/Users/jsmidt/Library/Python/3.8/lib/python/site-packages/torch/nn/modules/lazy.py:180: UserWarning: Lazy modules are a new feature under heavy development so changes to the API or functionality can happen at any moment.\n",
      "  warnings.warn('Lazy modules are a new feature under heavy development '\n"
     ]
    }
   ],
   "source": [
    "conv2D = nn.LazyConv2d(1, kernel_size=(1, 2), bias=False)\n",
    "\n",
    "X = X.reshape((1, 1, 6, 8))\n",
    "\n",
    "print('Original X:')\n",
    "print(X, X.shape)\n",
    "\n",
    "print('Original Y to fit:')\n",
    "Y = Y.reshape([1, 1, 6, 7])\n",
    "print(Y, Y.shape)\n",
    "\n",
    "print('Example of Conv2D:')\n",
    "Z = conv2D(X)\n",
    "print(Z, Z.shape)\n"
   ]
  },
  {
   "cell_type": "code",
   "execution_count": 45,
   "metadata": {},
   "outputs": [
    {
     "name": "stdout",
     "output_type": "stream",
     "text": [
      "epoch 2, loss 9.358\n",
      "epoch 4, loss 1.589\n",
      "epoch 6, loss 0.275\n",
      "epoch 8, loss 0.049\n",
      "epoch 10, loss 0.010\n",
      "epoch 12, loss 0.002\n"
     ]
    }
   ],
   "source": [
    "lr = 0.03\n",
    "for i in range(12):\n",
    "    Y_hat = conv2D(X)\n",
    "    l = ((Y_hat - Y)**2).sum()\n",
    "    conv2D.zero_grad()\n",
    "    l.backward()\n",
    "    #print(conv2D.weight.grad)\n",
    "    conv2D.weight.data[:] -= lr * conv2D.weight.grad\n",
    "    if (i+1) % 2 == 0:\n",
    "        print(f'epoch {i + 1}, loss {l.item():.3f}')"
   ]
  },
  {
   "cell_type": "code",
   "execution_count": 48,
   "metadata": {},
   "outputs": [
    {
     "name": "stdout",
     "output_type": "stream",
     "text": [
      "tensor([ 0.9967, -0.9904])\n",
      "tensor([[[[ 0.,  1.,  0.,  0.,  0., -1.,  0.],\n",
      "          [ 0.,  1.,  0.,  0.,  0., -1.,  0.],\n",
      "          [ 0.,  1.,  0.,  0.,  0., -1.,  0.],\n",
      "          [ 0.,  1.,  0.,  0.,  0., -1.,  0.],\n",
      "          [ 0.,  1.,  0.,  0.,  0., -1.,  0.],\n",
      "          [ 0.,  1.,  0.,  0.,  0., -1.,  0.]]]])\n",
      "tensor([[[[-0.0079,  0.9859,  0.0000,  0.0000,  0.0000, -0.9938, -0.0079],\n",
      "          [-0.0079,  0.9859,  0.0000,  0.0000,  0.0000, -0.9938, -0.0079],\n",
      "          [-0.0079,  0.9859,  0.0000,  0.0000,  0.0000, -0.9938, -0.0079],\n",
      "          [-0.0079,  0.9859,  0.0000,  0.0000,  0.0000, -0.9938, -0.0079],\n",
      "          [-0.0079,  0.9859,  0.0000,  0.0000,  0.0000, -0.9938, -0.0079],\n",
      "          [-0.0079,  0.9859,  0.0000,  0.0000,  0.0000, -0.9938, -0.0079]]]],\n",
      "       grad_fn=<ConvolutionBackward0>)\n"
     ]
    }
   ],
   "source": [
    "print (conv2D.weight.data.view(2))\n",
    "print (Y)\n",
    "print (Y_hat)"
   ]
  },
  {
   "cell_type": "code",
   "execution_count": 75,
   "metadata": {},
   "outputs": [
    {
     "data": {
      "text/plain": [
       "tensor([[1., 0., 0., 0., 0., 0., 0., 0.],\n",
       "        [1., 1., 0., 0., 0., 0., 0., 0.],\n",
       "        [1., 1., 1., 0., 0., 0., 0., 0.],\n",
       "        [0., 1., 1., 1., 0., 0., 0., 0.],\n",
       "        [0., 0., 1., 1., 1., 0., 0., 0.],\n",
       "        [0., 0., 0., 1., 1., 1., 0., 0.]])"
      ]
     },
     "execution_count": 75,
     "metadata": {},
     "output_type": "execute_result"
    }
   ],
   "source": [
    "X = torch.zeros((6,8))\n",
    "\n",
    "X[1:6,0:8].fill_diagonal_(1.0)\n",
    "X[0:6,0:8].fill_diagonal_(1.0)\n",
    "X[2:6,0:8].fill_diagonal_(1.0)\n",
    "\n",
    "X"
   ]
  },
  {
   "cell_type": "code",
   "execution_count": 78,
   "metadata": {},
   "outputs": [
    {
     "name": "stdout",
     "output_type": "stream",
     "text": [
      "tensor([[ 1., -1.]]) torch.Size([1, 2])\n",
      "Normal X\n",
      "tensor([[ 1.,  0.,  0.,  0.,  0.,  0.,  0.],\n",
      "        [ 0.,  1.,  0.,  0.,  0.,  0.,  0.],\n",
      "        [ 0.,  0.,  1.,  0.,  0.,  0.,  0.],\n",
      "        [-1.,  0.,  0.,  1.,  0.,  0.,  0.],\n",
      "        [ 0., -1.,  0.,  0.,  1.,  0.,  0.],\n",
      "        [ 0.,  0., -1.,  0.,  0.,  1.,  0.]])\n",
      "Transpose X\n",
      "tensor([[ 0.,  0.,  1.,  0.,  0.],\n",
      "        [-1.,  0.,  0.,  1.,  0.],\n",
      "        [ 0., -1.,  0.,  0.,  1.],\n",
      "        [ 0.,  0., -1.,  0.,  0.],\n",
      "        [ 0.,  0.,  0., -1.,  0.],\n",
      "        [ 0.,  0.,  0.,  0., -1.],\n",
      "        [ 0.,  0.,  0.,  0.,  0.],\n",
      "        [ 0.,  0.,  0.,  0.,  0.]])\n",
      "Transpose K\n",
      "tensor([[ 0., -1.,  0.,  0.,  0.,  0.,  0.,  0.],\n",
      "        [ 0.,  0., -1.,  0.,  0.,  0.,  0.,  0.],\n",
      "        [ 1.,  0.,  0., -1.,  0.,  0.,  0.,  0.],\n",
      "        [ 0.,  1.,  0.,  0., -1.,  0.,  0.,  0.],\n",
      "        [ 0.,  0.,  1.,  0.,  0., -1.,  0.,  0.]])\n"
     ]
    }
   ],
   "source": [
    "def corr2d(X, K):\n",
    "    h, w = K.shape\n",
    "    Y = torch.zeros((X.shape[0] - h + 1, X.shape[1] - w + 1))\n",
    "    for i in range(Y.shape[0]):\n",
    "        for j in range(Y.shape[1]):\n",
    "            Y[i, j] = (X[i:i + h, j:j + w] * K).sum()\n",
    "    return (Y)\n",
    "\n",
    "\n",
    "# K representing finite difference operator: edge detection\n",
    "K = torch.tensor([[1.0, -1.0]])\n",
    "print (K, K.shape)\n",
    "\n",
    "print (\"Normal X\")\n",
    "Y = corr2d(X, K)\n",
    "print (Y)\n",
    "\n",
    "print (\"Transpose X\")\n",
    "Y = corr2d(X.T, K)\n",
    "print (Y)\n",
    "\n",
    "print (\"Transpose K\")\n",
    "Y = corr2d(X, K.T)\n",
    "print (Y)"
   ]
  },
  {
   "cell_type": "code",
   "execution_count": 22,
   "metadata": {},
   "outputs": [
    {
     "name": "stdout",
     "output_type": "stream",
     "text": [
      "torch.Size([8, 8])\n",
      "tensor([[ 0.2249,  0.0190, -0.0297,  0.3708,  0.1563,  0.1599, -0.1715, -0.0242],\n",
      "        [ 0.1242, -0.1107, -0.0125, -0.2845, -0.1606, -0.2476, -0.3285, -0.2991],\n",
      "        [ 0.2812, -0.2579, -0.2680, -0.3600, -0.0043, -0.0227,  0.0208, -0.3025],\n",
      "        [-0.1561, -0.2783,  0.0342,  0.1681,  0.3364, -0.0629, -0.2515, -0.3790],\n",
      "        [-0.0200,  0.3406,  0.0017, -0.1172, -0.3205, -0.2876, -0.5326, -0.3680],\n",
      "        [ 0.1894, -0.3008, -0.3717, -0.4712, -0.3533, -0.2045, -0.1415, -0.2119],\n",
      "        [-0.0662, -0.2230, -0.1037,  0.0741, -0.1633,  0.0549,  0.0603,  0.0845],\n",
      "        [-0.3636, -0.2313, -0.0654, -0.3774, -0.1489, -0.2385, -0.0418, -0.4194]],\n",
      "       grad_fn=<ReshapeAliasBackward0>) torch.Size([8, 8])\n"
     ]
    }
   ],
   "source": [
    "def comp_conv2d(conv2D, X):\n",
    "    X = X.reshape((1,1) + X.shape)\n",
    "    Y = conv2D(X)\n",
    "    return Y.reshape(Y.shape[2:])\n",
    "\n",
    "conv2D = nn.LazyConv2d(1, kernel_size=3, padding=1)\n",
    "X = torch.rand((8,8))\n",
    "print (X.shape)\n",
    "Y = comp_conv2d(conv2D, X)\n",
    "\n",
    "print (Y, Y.shape)\n"
   ]
  },
  {
   "cell_type": "code",
   "execution_count": 39,
   "metadata": {},
   "outputs": [
    {
     "name": "stdout",
     "output_type": "stream",
     "text": [
      "tensor([[0.4322, 0.5679, 0.2444, 0.4230],\n",
      "        [0.5999, 0.8545, 0.8634, 0.9430],\n",
      "        [0.6543, 0.3259, 0.5415, 0.6712],\n",
      "        [0.5548, 0.7564, 0.3921, 0.4204]], grad_fn=<ReshapeAliasBackward0>) torch.Size([4, 4])\n"
     ]
    }
   ],
   "source": [
    "conv2D = nn.LazyConv2d(1, kernel_size=3, padding=1, stride=2)\n",
    "\n",
    "Y = comp_conv2d(conv2D, X)\n",
    "\n",
    "print (Y, Y.shape)"
   ]
  },
  {
   "cell_type": "code",
   "execution_count": 43,
   "metadata": {},
   "outputs": [
    {
     "name": "stderr",
     "output_type": "stream",
     "text": [
      "/Users/jsmidt/Library/Python/3.9/lib/python/site-packages/torch/nn/modules/lazy.py:180: UserWarning: Lazy modules are a new feature under heavy development so changes to the API or functionality can happen at any moment.\n",
      "  warnings.warn('Lazy modules are a new feature under heavy development '\n"
     ]
    },
    {
     "data": {
      "text/plain": [
       "Parameter containing:\n",
       "tensor([[[[-0.1666,  0.0273, -0.1168,  0.1210,  0.0513],\n",
       "          [-0.1438, -0.0706,  0.2099,  0.1201, -0.0334],\n",
       "          [ 0.2075,  0.1467,  0.1505, -0.0046,  0.0119]]]], requires_grad=True)"
      ]
     },
     "execution_count": 43,
     "metadata": {},
     "output_type": "execute_result"
    }
   ],
   "source": [
    "conv2D = nn.LazyConv2d(1, kernel_size=(3, 5), padding=(0, 1), stride=(3, 4))\n",
    "comp_conv2d(conv2D, X)\n"
   ]
  },
  {
   "cell_type": "code",
   "execution_count": 80,
   "metadata": {},
   "outputs": [
    {
     "name": "stdout",
     "output_type": "stream",
     "text": [
      "tensor([[[0.3447, 0.1833, 0.0658],\n",
      "         [0.8468, 0.2135, 0.4940],\n",
      "         [0.7293, 0.5813, 0.0133]],\n",
      "\n",
      "        [[0.6210, 0.2011, 0.8367],\n",
      "         [0.0631, 0.6373, 0.0665],\n",
      "         [0.2933, 0.5737, 0.5621]],\n",
      "\n",
      "        [[0.8011, 0.2778, 0.6255],\n",
      "         [0.4148, 0.5092, 0.2928],\n",
      "         [0.5838, 0.8066, 0.2257]]]) torch.Size([3, 3, 3])\n",
      "tensor([[[ 0.2678,  0.2477,  0.1635],\n",
      "         [ 0.4945,  0.2316,  0.3682],\n",
      "         [ 0.4340,  0.3577,  0.1728]],\n",
      "\n",
      "        [[-0.4817, -0.3961, -0.5909],\n",
      "         [-0.2504, -0.5127, -0.3087],\n",
      "         [-0.3317, -0.4312, -0.5278]],\n",
      "\n",
      "        [[ 0.3482,  0.3519,  0.4249],\n",
      "         [ 0.2654,  0.3950,  0.3056],\n",
      "         [ 0.2920,  0.3228,  0.4304]]], grad_fn=<ReshapeAliasBackward0>) torch.Size([3, 3, 3])\n"
     ]
    }
   ],
   "source": [
    "def comp_conv2d(conv2D, X):\n",
    "    X = X.reshape((1,) + X.shape)\n",
    "    Y = conv2D(X)\n",
    "    return Y.reshape(Y.shape[1:])\n",
    "\n",
    "\n",
    "conv2D = nn.LazyConv2d(3, kernel_size=1)\n",
    "X = torch.rand((3, 3, 3))\n",
    "print(X,X.shape)\n",
    "Y = comp_conv2d(conv2D, X)\n",
    "print(Y, Y.shape)\n"
   ]
  },
  {
   "cell_type": "code",
   "execution_count": 74,
   "metadata": {},
   "outputs": [
    {
     "data": {
      "text/plain": [
       "torch.Size([2, 3, 3])"
      ]
     },
     "execution_count": 74,
     "metadata": {},
     "output_type": "execute_result"
    }
   ],
   "source": [
    "Y.shape[1:]"
   ]
  },
  {
   "cell_type": "code",
   "execution_count": 55,
   "metadata": {},
   "outputs": [
    {
     "data": {
      "text/plain": [
       "(1, 2, 2, 2)"
      ]
     },
     "execution_count": 55,
     "metadata": {},
     "output_type": "execute_result"
    }
   ],
   "source": [
    "(1,) + X.shape"
   ]
  },
  {
   "cell_type": "code",
   "execution_count": 87,
   "metadata": {},
   "outputs": [
    {
     "name": "stdout",
     "output_type": "stream",
     "text": [
      "tensor([[0., 1., 2.],\n",
      "        [3., 4., 5.],\n",
      "        [6., 7., 8.]])\n",
      "tensor([[4., 5.],\n",
      "        [7., 8.]])\n",
      "tensor([[2., 3.],\n",
      "        [5., 6.]])\n"
     ]
    }
   ],
   "source": [
    "def pool2d(X, pool_size, mode='max'):\n",
    "    p_h, p_w = pool_size\n",
    "    Y = torch.zeros((X.shape[0] - p_h + 1, X.shape[1] - p_w + 1))\n",
    "    for i in range(Y.shape[0]):\n",
    "        for j in range(Y.shape[1]):\n",
    "            if mode == 'max':\n",
    "                Y[i, j] = X[i:i+p_h, j: j+p_w].max()\n",
    "            elif mode == 'avg':\n",
    "                Y[i, j] = X[i:i+p_h, j: j+p_w].mean()\n",
    "\n",
    "    return Y\n",
    "\n",
    "X = torch.tensor([[0.0, 1.0, 2.0], [3.0, 4.0, 5.0], [6.0, 7.0, 8.0]])\n",
    "\n",
    "X = torch.arange(9).view(3,3).float()\n",
    "\n",
    "print (X)\n",
    "\n",
    "print (pool2d(X, (2,2)))\n",
    "print (pool2d(X, (2,2), mode='avg'))"
   ]
  },
  {
   "cell_type": "code",
   "execution_count": 89,
   "metadata": {},
   "outputs": [
    {
     "data": {
      "text/plain": [
       "tensor([[[[10.]]]])"
      ]
     },
     "execution_count": 89,
     "metadata": {},
     "output_type": "execute_result"
    }
   ],
   "source": [
    "X = torch.arange(16, dtype=torch.float32).reshape((1, 1, 4, 4))\n",
    "\n",
    "pool2d = nn.MaxPool2d(3)\n",
    "\n",
    "pool2d(X)"
   ]
  },
  {
   "cell_type": "code",
   "execution_count": 91,
   "metadata": {},
   "outputs": [
    {
     "data": {
      "text/plain": [
       "tensor([[[[ 5.,  7.],\n",
       "          [13., 15.]]]])"
      ]
     },
     "execution_count": 91,
     "metadata": {},
     "output_type": "execute_result"
    }
   ],
   "source": [
    "pool2d = nn.MaxPool2d((2,3), padding=(0,1), stride=(2,3))\n",
    "pool2d(X)"
   ]
  },
  {
   "cell_type": "code",
   "execution_count": 92,
   "metadata": {},
   "outputs": [
    {
     "data": {
      "text/plain": [
       "tensor([[[[ 0.,  1.,  2.,  3.],\n",
       "          [ 4.,  5.,  6.,  7.],\n",
       "          [ 8.,  9., 10., 11.],\n",
       "          [12., 13., 14., 15.]],\n",
       "\n",
       "         [[ 1.,  2.,  3.,  4.],\n",
       "          [ 5.,  6.,  7.,  8.],\n",
       "          [ 9., 10., 11., 12.],\n",
       "          [13., 14., 15., 16.]]]])"
      ]
     },
     "execution_count": 92,
     "metadata": {},
     "output_type": "execute_result"
    }
   ],
   "source": [
    "X = torch.cat((X, X + 1), 1)\n",
    "X"
   ]
  },
  {
   "cell_type": "code",
   "execution_count": 93,
   "metadata": {},
   "outputs": [
    {
     "data": {
      "text/plain": [
       "tensor([[[[ 5.,  7.],\n",
       "          [13., 15.]],\n",
       "\n",
       "         [[ 6.,  8.],\n",
       "          [14., 16.]]]])"
      ]
     },
     "execution_count": 93,
     "metadata": {},
     "output_type": "execute_result"
    }
   ],
   "source": [
    "pool2d = nn.MaxPool2d(3, padding=1, stride=2)\n",
    "pool2d(X)"
   ]
  },
  {
   "cell_type": "code",
   "execution_count": 94,
   "metadata": {},
   "outputs": [],
   "source": [
    "# Random pooling can improve accuracy in some cases. "
   ]
  },
  {
   "cell_type": "code",
   "execution_count": null,
   "metadata": {},
   "outputs": [],
   "source": []
  }
 ],
 "metadata": {
  "kernelspec": {
   "display_name": "Python 3",
   "language": "python",
   "name": "python3"
  },
  "language_info": {
   "codemirror_mode": {
    "name": "ipython",
    "version": 3
   },
   "file_extension": ".py",
   "mimetype": "text/x-python",
   "name": "python",
   "nbconvert_exporter": "python",
   "pygments_lexer": "ipython3",
   "version": "3.9.6"
  },
  "orig_nbformat": 4,
  "vscode": {
   "interpreter": {
    "hash": "31f2aee4e71d21fbe5cf8b01ff0e069b9275f58929596ceb00d14d90e3e16cd6"
   }
  }
 },
 "nbformat": 4,
 "nbformat_minor": 2
}
