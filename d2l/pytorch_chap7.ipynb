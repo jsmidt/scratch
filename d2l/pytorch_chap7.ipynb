{
 "cells": [
  {
   "cell_type": "code",
   "execution_count": 3,
   "metadata": {},
   "outputs": [],
   "source": [
    "import torch\n",
    "from torch import nn\n",
    "from torch.nn import functional as F\n",
    "import matplotlib.pyplot as plt\n",
    "%config InlineBackend.figure_formats = ['svg']\n",
    "plt.style.use('fivethirtyeight')"
   ]
  },
  {
   "cell_type": "code",
   "execution_count": 4,
   "metadata": {},
   "outputs": [
    {
     "name": "stdout",
     "output_type": "stream",
     "text": [
      "tensor([[0, 1, 2],\n",
      "        [3, 4, 5],\n",
      "        [6, 7, 8]]) torch.Size([3, 3])\n",
      "tensor([[0, 1],\n",
      "        [2, 3]]) torch.Size([2, 2])\n",
      "tensor([[19., 25.],\n",
      "        [37., 43.]])\n"
     ]
    }
   ],
   "source": [
    "def corr2d(X, K):\n",
    "    h, w = K.shape\n",
    "    Y = torch.zeros((X.shape[0] - h + 1, X.shape[1] - w + 1))\n",
    "    for i in range(Y.shape[0]):\n",
    "        for j in range(Y.shape[1]):\n",
    "            Y[i, j] = (X[i:i + h, j:j + w] * K).sum()\n",
    "    return (Y)\n",
    "\n",
    "x = torch.tensor([[0, 1, 2], [3, 4, 5], [6, 7, 8]])\n",
    "k = torch.tensor([[0, 1], [2, 3]])\n",
    "\n",
    "print (x, x.shape)\n",
    "print (k, k.shape)\n",
    "\n",
    "print (corr2d(x, k))"
   ]
  },
  {
   "cell_type": "code",
   "execution_count": 5,
   "metadata": {},
   "outputs": [],
   "source": [
    "def corr2d(X, K):\n",
    "    h, w = K.shape\n",
    "    Y = torch.zeros((X.shape[0] - h + 1, X.shape[1] - w + 1))\n",
    "    for i in range(Y.shape[0]):\n",
    "        for j in range(Y.shape[1]):\n",
    "            Y[i, j] = (X[i:i + h, j:j + w] * K).sum()\n",
    "    return (Y)\n",
    "\n",
    "class Conv2D(nn.Module):\n",
    "    def __init__(self, kernel_size):\n",
    "        self.weight = nn.Parameter(torch.rand(kernel_size))\n",
    "        self.bias = nn.Parameter(torch.zeros(1))\n",
    "\n",
    "    def forward(self, x):\n",
    "        return (corr2d(x, self.weight) + self.bias)\n"
   ]
  },
  {
   "cell_type": "code",
   "execution_count": 6,
   "metadata": {},
   "outputs": [
    {
     "name": "stdout",
     "output_type": "stream",
     "text": [
      "tensor([[1., 1., 0., 0., 0., 0., 1., 1.],\n",
      "        [1., 1., 0., 0., 0., 0., 1., 1.],\n",
      "        [1., 1., 0., 0., 0., 0., 1., 1.],\n",
      "        [1., 1., 0., 0., 0., 0., 1., 1.],\n",
      "        [1., 1., 0., 0., 0., 0., 1., 1.],\n",
      "        [1., 1., 0., 0., 0., 0., 1., 1.]]) torch.Size([6, 8])\n",
      "tensor([[ 1., -1.]]) torch.Size([1, 2])\n",
      "tensor([[ 0.,  1.,  0.,  0.,  0., -1.,  0.],\n",
      "        [ 0.,  1.,  0.,  0.,  0., -1.,  0.],\n",
      "        [ 0.,  1.,  0.,  0.,  0., -1.,  0.],\n",
      "        [ 0.,  1.,  0.,  0.,  0., -1.,  0.],\n",
      "        [ 0.,  1.,  0.,  0.,  0., -1.,  0.],\n",
      "        [ 0.,  1.,  0.,  0.,  0., -1.,  0.]]) torch.Size([6, 7])\n"
     ]
    }
   ],
   "source": [
    "X = torch.ones((6, 8))\n",
    "X[:,  2:6] = 0\n",
    "print (X, X.shape)\n",
    "\n",
    "# K representing finite difference operator: edge detection\n",
    "K = torch.tensor([[1.0, -1.0]])\n",
    "print (K, K.shape)\n",
    "\n",
    "Y = corr2d(X, K)\n",
    "\n",
    "print (Y, Y.shape)"
   ]
  },
  {
   "cell_type": "code",
   "execution_count": 7,
   "metadata": {},
   "outputs": [
    {
     "data": {
      "text/plain": [
       "tensor([[0., 0., 0., 0., 0.],\n",
       "        [0., 0., 0., 0., 0.],\n",
       "        [0., 0., 0., 0., 0.],\n",
       "        [0., 0., 0., 0., 0.],\n",
       "        [0., 0., 0., 0., 0.],\n",
       "        [0., 0., 0., 0., 0.],\n",
       "        [0., 0., 0., 0., 0.],\n",
       "        [0., 0., 0., 0., 0.]])"
      ]
     },
     "execution_count": 7,
     "metadata": {},
     "output_type": "execute_result"
    }
   ],
   "source": [
    "corr2d(X.T, K)"
   ]
  },
  {
   "cell_type": "code",
   "execution_count": 44,
   "metadata": {},
   "outputs": [
    {
     "name": "stdout",
     "output_type": "stream",
     "text": [
      "Original X:\n",
      "tensor([[[[1., 1., 0., 0., 0., 0., 1., 1.],\n",
      "          [1., 1., 0., 0., 0., 0., 1., 1.],\n",
      "          [1., 1., 0., 0., 0., 0., 1., 1.],\n",
      "          [1., 1., 0., 0., 0., 0., 1., 1.],\n",
      "          [1., 1., 0., 0., 0., 0., 1., 1.],\n",
      "          [1., 1., 0., 0., 0., 0., 1., 1.]]]]) torch.Size([1, 1, 6, 8])\n",
      "Original Y to fit:\n",
      "tensor([[[[ 0.,  1.,  0.,  0.,  0., -1.,  0.],\n",
      "          [ 0.,  1.,  0.,  0.,  0., -1.,  0.],\n",
      "          [ 0.,  1.,  0.,  0.,  0., -1.,  0.],\n",
      "          [ 0.,  1.,  0.,  0.,  0., -1.,  0.],\n",
      "          [ 0.,  1.,  0.,  0.,  0., -1.,  0.],\n",
      "          [ 0.,  1.,  0.,  0.,  0., -1.,  0.]]]]) torch.Size([1, 1, 6, 7])\n",
      "Example of Conv2D:\n",
      "tensor([[[[ 0.0917, -0.3280,  0.0000,  0.0000,  0.0000,  0.4197,  0.0917],\n",
      "          [ 0.0917, -0.3280,  0.0000,  0.0000,  0.0000,  0.4197,  0.0917],\n",
      "          [ 0.0917, -0.3280,  0.0000,  0.0000,  0.0000,  0.4197,  0.0917],\n",
      "          [ 0.0917, -0.3280,  0.0000,  0.0000,  0.0000,  0.4197,  0.0917],\n",
      "          [ 0.0917, -0.3280,  0.0000,  0.0000,  0.0000,  0.4197,  0.0917],\n",
      "          [ 0.0917, -0.3280,  0.0000,  0.0000,  0.0000,  0.4197,  0.0917]]]],\n",
      "       grad_fn=<ConvolutionBackward0>) torch.Size([1, 1, 6, 7])\n"
     ]
    },
    {
     "name": "stderr",
     "output_type": "stream",
     "text": [
      "/Users/jsmidt/Library/Python/3.8/lib/python/site-packages/torch/nn/modules/lazy.py:180: UserWarning: Lazy modules are a new feature under heavy development so changes to the API or functionality can happen at any moment.\n",
      "  warnings.warn('Lazy modules are a new feature under heavy development '\n"
     ]
    }
   ],
   "source": [
    "conv2D = nn.LazyConv2d(1, kernel_size=(1, 2), bias=False)\n",
    "\n",
    "X = X.reshape((1, 1, 6, 8))\n",
    "\n",
    "print('Original X:')\n",
    "print(X, X.shape)\n",
    "\n",
    "print('Original Y to fit:')\n",
    "Y = Y.reshape([1, 1, 6, 7])\n",
    "print(Y, Y.shape)\n",
    "\n",
    "print('Example of Conv2D:')\n",
    "Z = conv2D(X)\n",
    "print(Z, Z.shape)\n"
   ]
  },
  {
   "cell_type": "code",
   "execution_count": 45,
   "metadata": {},
   "outputs": [
    {
     "name": "stdout",
     "output_type": "stream",
     "text": [
      "epoch 2, loss 9.358\n",
      "epoch 4, loss 1.589\n",
      "epoch 6, loss 0.275\n",
      "epoch 8, loss 0.049\n",
      "epoch 10, loss 0.010\n",
      "epoch 12, loss 0.002\n"
     ]
    }
   ],
   "source": [
    "lr = 0.03\n",
    "for i in range(12):\n",
    "    Y_hat = conv2D(X)\n",
    "    l = ((Y_hat - Y)**2).sum()\n",
    "    conv2D.zero_grad()\n",
    "    l.backward()\n",
    "    #print(conv2D.weight.grad)\n",
    "    conv2D.weight.data[:] -= lr * conv2D.weight.grad\n",
    "    if (i+1) % 2 == 0:\n",
    "        print(f'epoch {i + 1}, loss {l.item():.3f}')"
   ]
  },
  {
   "cell_type": "code",
   "execution_count": 48,
   "metadata": {},
   "outputs": [
    {
     "name": "stdout",
     "output_type": "stream",
     "text": [
      "tensor([ 0.9967, -0.9904])\n",
      "tensor([[[[ 0.,  1.,  0.,  0.,  0., -1.,  0.],\n",
      "          [ 0.,  1.,  0.,  0.,  0., -1.,  0.],\n",
      "          [ 0.,  1.,  0.,  0.,  0., -1.,  0.],\n",
      "          [ 0.,  1.,  0.,  0.,  0., -1.,  0.],\n",
      "          [ 0.,  1.,  0.,  0.,  0., -1.,  0.],\n",
      "          [ 0.,  1.,  0.,  0.,  0., -1.,  0.]]]])\n",
      "tensor([[[[-0.0079,  0.9859,  0.0000,  0.0000,  0.0000, -0.9938, -0.0079],\n",
      "          [-0.0079,  0.9859,  0.0000,  0.0000,  0.0000, -0.9938, -0.0079],\n",
      "          [-0.0079,  0.9859,  0.0000,  0.0000,  0.0000, -0.9938, -0.0079],\n",
      "          [-0.0079,  0.9859,  0.0000,  0.0000,  0.0000, -0.9938, -0.0079],\n",
      "          [-0.0079,  0.9859,  0.0000,  0.0000,  0.0000, -0.9938, -0.0079],\n",
      "          [-0.0079,  0.9859,  0.0000,  0.0000,  0.0000, -0.9938, -0.0079]]]],\n",
      "       grad_fn=<ConvolutionBackward0>)\n"
     ]
    }
   ],
   "source": [
    "print (conv2D.weight.data.view(2))\n",
    "print (Y)\n",
    "print (Y_hat)"
   ]
  },
  {
   "cell_type": "code",
   "execution_count": 75,
   "metadata": {},
   "outputs": [
    {
     "data": {
      "text/plain": [
       "tensor([[1., 0., 0., 0., 0., 0., 0., 0.],\n",
       "        [1., 1., 0., 0., 0., 0., 0., 0.],\n",
       "        [1., 1., 1., 0., 0., 0., 0., 0.],\n",
       "        [0., 1., 1., 1., 0., 0., 0., 0.],\n",
       "        [0., 0., 1., 1., 1., 0., 0., 0.],\n",
       "        [0., 0., 0., 1., 1., 1., 0., 0.]])"
      ]
     },
     "execution_count": 75,
     "metadata": {},
     "output_type": "execute_result"
    }
   ],
   "source": [
    "X = torch.zeros((6,8))\n",
    "\n",
    "X[1:6,0:8].fill_diagonal_(1.0)\n",
    "X[0:6,0:8].fill_diagonal_(1.0)\n",
    "X[2:6,0:8].fill_diagonal_(1.0)\n",
    "\n",
    "X"
   ]
  },
  {
   "cell_type": "code",
   "execution_count": 78,
   "metadata": {},
   "outputs": [
    {
     "name": "stdout",
     "output_type": "stream",
     "text": [
      "tensor([[ 1., -1.]]) torch.Size([1, 2])\n",
      "Normal X\n",
      "tensor([[ 1.,  0.,  0.,  0.,  0.,  0.,  0.],\n",
      "        [ 0.,  1.,  0.,  0.,  0.,  0.,  0.],\n",
      "        [ 0.,  0.,  1.,  0.,  0.,  0.,  0.],\n",
      "        [-1.,  0.,  0.,  1.,  0.,  0.,  0.],\n",
      "        [ 0., -1.,  0.,  0.,  1.,  0.,  0.],\n",
      "        [ 0.,  0., -1.,  0.,  0.,  1.,  0.]])\n",
      "Transpose X\n",
      "tensor([[ 0.,  0.,  1.,  0.,  0.],\n",
      "        [-1.,  0.,  0.,  1.,  0.],\n",
      "        [ 0., -1.,  0.,  0.,  1.],\n",
      "        [ 0.,  0., -1.,  0.,  0.],\n",
      "        [ 0.,  0.,  0., -1.,  0.],\n",
      "        [ 0.,  0.,  0.,  0., -1.],\n",
      "        [ 0.,  0.,  0.,  0.,  0.],\n",
      "        [ 0.,  0.,  0.,  0.,  0.]])\n",
      "Transpose K\n",
      "tensor([[ 0., -1.,  0.,  0.,  0.,  0.,  0.,  0.],\n",
      "        [ 0.,  0., -1.,  0.,  0.,  0.,  0.,  0.],\n",
      "        [ 1.,  0.,  0., -1.,  0.,  0.,  0.,  0.],\n",
      "        [ 0.,  1.,  0.,  0., -1.,  0.,  0.,  0.],\n",
      "        [ 0.,  0.,  1.,  0.,  0., -1.,  0.,  0.]])\n"
     ]
    }
   ],
   "source": [
    "def corr2d(X, K):\n",
    "    h, w = K.shape\n",
    "    Y = torch.zeros((X.shape[0] - h + 1, X.shape[1] - w + 1))\n",
    "    for i in range(Y.shape[0]):\n",
    "        for j in range(Y.shape[1]):\n",
    "            Y[i, j] = (X[i:i + h, j:j + w] * K).sum()\n",
    "    return (Y)\n",
    "\n",
    "\n",
    "# K representing finite difference operator: edge detection\n",
    "K = torch.tensor([[1.0, -1.0]])\n",
    "print (K, K.shape)\n",
    "\n",
    "print (\"Normal X\")\n",
    "Y = corr2d(X, K)\n",
    "print (Y)\n",
    "\n",
    "print (\"Transpose X\")\n",
    "Y = corr2d(X.T, K)\n",
    "print (Y)\n",
    "\n",
    "print (\"Transpose K\")\n",
    "Y = corr2d(X, K.T)\n",
    "print (Y)"
   ]
  },
  {
   "cell_type": "code",
   "execution_count": null,
   "metadata": {},
   "outputs": [],
   "source": []
  }
 ],
 "metadata": {
  "kernelspec": {
   "display_name": "Python 3",
   "language": "python",
   "name": "python3"
  },
  "language_info": {
   "codemirror_mode": {
    "name": "ipython",
    "version": 3
   },
   "file_extension": ".py",
   "mimetype": "text/x-python",
   "name": "python",
   "nbconvert_exporter": "python",
   "pygments_lexer": "ipython3",
   "version": "3.8.9"
  },
  "orig_nbformat": 4,
  "vscode": {
   "interpreter": {
    "hash": "31f2aee4e71d21fbe5cf8b01ff0e069b9275f58929596ceb00d14d90e3e16cd6"
   }
  }
 },
 "nbformat": 4,
 "nbformat_minor": 2
}
