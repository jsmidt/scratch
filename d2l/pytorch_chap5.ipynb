{
 "cells": [
  {
   "cell_type": "code",
   "execution_count": 127,
   "metadata": {},
   "outputs": [],
   "source": [
    "import torch\n",
    "import torch.nn as nn\n",
    "from torch.utils.data import Dataset, DataLoader\n",
    "from torchvision import datasets\n",
    "import matplotlib.pyplot as plt\n",
    "from IPython import display\n",
    "from torchvision.transforms import ToTensor, Normalize, Compose\n",
    "import time\n",
    "%config InlineBackend.figure_formats = ['svg']\n",
    "plt.style.use('fivethirtyeight')\n",
    "import pytorch_lightning as pl\n",
    "from pytorch_lightning.callbacks import TQDMProgressBar, LearningRateMonitor, EarlyStopping\n",
    "import warnings\n",
    "warnings.filterwarnings(\"ignore\")\n",
    "import torchmetrics"
   ]
  },
  {
   "cell_type": "code",
   "execution_count": 89,
   "metadata": {},
   "outputs": [
    {
     "data": {
      "image/svg+xml": "<?xml version=\"1.0\" encoding=\"utf-8\" standalone=\"no\"?>\n<!DOCTYPE svg PUBLIC \"-//W3C//DTD SVG 1.1//EN\"\n  \"http://www.w3.org/Graphics/SVG/1.1/DTD/svg11.dtd\">\n<svg xmlns:xlink=\"http://www.w3.org/1999/xlink\" width=\"310.983625pt\" height=\"226.668625pt\" viewBox=\"0 0 310.983625 226.668625\" xmlns=\"http://www.w3.org/2000/svg\" version=\"1.1\">\n <metadata>\n  <rdf:RDF xmlns:dc=\"http://purl.org/dc/elements/1.1/\" xmlns:cc=\"http://creativecommons.org/ns#\" xmlns:rdf=\"http://www.w3.org/1999/02/22-rdf-syntax-ns#\">\n   <cc:Work>\n    <dc:type rdf:resource=\"http://purl.org/dc/dcmitype/StillImage\"/>\n    <dc:date>2023-01-21T08:13:39.326438</dc:date>\n    <dc:format>image/svg+xml</dc:format>\n    <dc:creator>\n     <cc:Agent>\n      <dc:title>Matplotlib v3.6.3, https://matplotlib.org/</dc:title>\n     </cc:Agent>\n    </dc:creator>\n   </cc:Work>\n  </rdf:RDF>\n </metadata>\n <defs>\n  <style type=\"text/css\">*{stroke-linejoin: round; stroke-linecap: butt}</style>\n </defs>\n <g id=\"figure_1\">\n  <g id=\"patch_1\">\n   <path d=\"M 0 226.668625 \nL 310.983625 226.668625 \nL 310.983625 0 \nL 0 0 \nz\n\" style=\"fill: #f0f0f0\"/>\n  </g>\n  <g id=\"axes_1\">\n   <g id=\"patch_2\">\n    <path d=\"M 53.223625 182.16 \nL 303.783625 182.16 \nL 303.783625 7.2 \nL 53.223625 7.2 \nz\n\" style=\"fill: #f0f0f0\"/>\n   </g>\n   <g id=\"matplotlib.axis_1\">\n    <g id=\"xtick_1\">\n     <g id=\"line2d_1\">\n      <path d=\"M 64.612716 182.16 \nL 64.612716 7.2 \n\" clip-path=\"url(#pea2f5c1576)\" style=\"fill: none; stroke: #cbcbcb\"/>\n     </g>\n     <g id=\"line2d_2\"/>\n     <g id=\"text_1\">\n      <!-- −2 -->\n      <g transform=\"translate(54.293185 196.297813) scale(0.14 -0.14)\">\n       <defs>\n        <path id=\"DejaVuSans-2212\" d=\"M 678 2272 \nL 4684 2272 \nL 4684 1741 \nL 678 1741 \nL 678 2272 \nz\n\" transform=\"scale(0.015625)\"/>\n        <path id=\"DejaVuSans-32\" d=\"M 1228 531 \nL 3431 531 \nL 3431 0 \nL 469 0 \nL 469 531 \nQ 828 903 1448 1529 \nQ 2069 2156 2228 2338 \nQ 2531 2678 2651 2914 \nQ 2772 3150 2772 3378 \nQ 2772 3750 2511 3984 \nQ 2250 4219 1831 4219 \nQ 1534 4219 1204 4116 \nQ 875 4013 500 3803 \nL 500 4441 \nQ 881 4594 1212 4672 \nQ 1544 4750 1819 4750 \nQ 2544 4750 2975 4387 \nQ 3406 4025 3406 3419 \nQ 3406 3131 3298 2873 \nQ 3191 2616 2906 2266 \nQ 2828 2175 2409 1742 \nQ 1991 1309 1228 531 \nz\n\" transform=\"scale(0.015625)\"/>\n       </defs>\n       <use xlink:href=\"#DejaVuSans-2212\"/>\n       <use xlink:href=\"#DejaVuSans-32\" x=\"83.789062\"/>\n      </g>\n     </g>\n    </g>\n    <g id=\"xtick_2\">\n     <g id=\"line2d_3\">\n      <path d=\"M 121.55817 182.16 \nL 121.55817 7.2 \n\" clip-path=\"url(#pea2f5c1576)\" style=\"fill: none; stroke: #cbcbcb\"/>\n     </g>\n     <g id=\"line2d_4\"/>\n     <g id=\"text_2\">\n      <!-- −1 -->\n      <g transform=\"translate(111.238639 196.297813) scale(0.14 -0.14)\">\n       <defs>\n        <path id=\"DejaVuSans-31\" d=\"M 794 531 \nL 1825 531 \nL 1825 4091 \nL 703 3866 \nL 703 4441 \nL 1819 4666 \nL 2450 4666 \nL 2450 531 \nL 3481 531 \nL 3481 0 \nL 794 0 \nL 794 531 \nz\n\" transform=\"scale(0.015625)\"/>\n       </defs>\n       <use xlink:href=\"#DejaVuSans-2212\"/>\n       <use xlink:href=\"#DejaVuSans-31\" x=\"83.789062\"/>\n      </g>\n     </g>\n    </g>\n    <g id=\"xtick_3\">\n     <g id=\"line2d_5\">\n      <path d=\"M 178.503625 182.16 \nL 178.503625 7.2 \n\" clip-path=\"url(#pea2f5c1576)\" style=\"fill: none; stroke: #cbcbcb\"/>\n     </g>\n     <g id=\"line2d_6\"/>\n     <g id=\"text_3\">\n      <!-- 0 -->\n      <g transform=\"translate(174.049875 196.297813) scale(0.14 -0.14)\">\n       <defs>\n        <path id=\"DejaVuSans-30\" d=\"M 2034 4250 \nQ 1547 4250 1301 3770 \nQ 1056 3291 1056 2328 \nQ 1056 1369 1301 889 \nQ 1547 409 2034 409 \nQ 2525 409 2770 889 \nQ 3016 1369 3016 2328 \nQ 3016 3291 2770 3770 \nQ 2525 4250 2034 4250 \nz\nM 2034 4750 \nQ 2819 4750 3233 4129 \nQ 3647 3509 3647 2328 \nQ 3647 1150 3233 529 \nQ 2819 -91 2034 -91 \nQ 1250 -91 836 529 \nQ 422 1150 422 2328 \nQ 422 3509 836 4129 \nQ 1250 4750 2034 4750 \nz\n\" transform=\"scale(0.015625)\"/>\n       </defs>\n       <use xlink:href=\"#DejaVuSans-30\"/>\n      </g>\n     </g>\n    </g>\n    <g id=\"xtick_4\">\n     <g id=\"line2d_7\">\n      <path d=\"M 235.44908 182.16 \nL 235.44908 7.2 \n\" clip-path=\"url(#pea2f5c1576)\" style=\"fill: none; stroke: #cbcbcb\"/>\n     </g>\n     <g id=\"line2d_8\"/>\n     <g id=\"text_4\">\n      <!-- 1 -->\n      <g transform=\"translate(230.99533 196.297813) scale(0.14 -0.14)\">\n       <use xlink:href=\"#DejaVuSans-31\"/>\n      </g>\n     </g>\n    </g>\n    <g id=\"xtick_5\">\n     <g id=\"line2d_9\">\n      <path d=\"M 292.394534 182.16 \nL 292.394534 7.2 \n\" clip-path=\"url(#pea2f5c1576)\" style=\"fill: none; stroke: #cbcbcb\"/>\n     </g>\n     <g id=\"line2d_10\"/>\n     <g id=\"text_5\">\n      <!-- 2 -->\n      <g transform=\"translate(287.940784 196.297813) scale(0.14 -0.14)\">\n       <use xlink:href=\"#DejaVuSans-32\"/>\n      </g>\n     </g>\n    </g>\n    <g id=\"text_6\">\n     <!-- x -->\n     <g transform=\"translate(173.531875 215.97475) scale(0.168 -0.168)\">\n      <defs>\n       <path id=\"DejaVuSans-78\" d=\"M 3513 3500 \nL 2247 1797 \nL 3578 0 \nL 2900 0 \nL 1881 1375 \nL 863 0 \nL 184 0 \nL 1544 1831 \nL 300 3500 \nL 978 3500 \nL 1906 2253 \nL 2834 3500 \nL 3513 3500 \nz\n\" transform=\"scale(0.015625)\"/>\n      </defs>\n      <use xlink:href=\"#DejaVuSans-78\"/>\n     </g>\n    </g>\n   </g>\n   <g id=\"matplotlib.axis_2\">\n    <g id=\"ytick_1\">\n     <g id=\"line2d_11\">\n      <path d=\"M 53.223625 174.207273 \nL 303.783625 174.207273 \n\" clip-path=\"url(#pea2f5c1576)\" style=\"fill: none; stroke: #cbcbcb\"/>\n     </g>\n     <g id=\"line2d_12\"/>\n     <g id=\"text_7\">\n      <!-- 0.0 -->\n      <g transform=\"translate(27.45925 179.526179) scale(0.14 -0.14)\">\n       <defs>\n        <path id=\"DejaVuSans-2e\" d=\"M 684 794 \nL 1344 794 \nL 1344 0 \nL 684 0 \nL 684 794 \nz\n\" transform=\"scale(0.015625)\"/>\n       </defs>\n       <use xlink:href=\"#DejaVuSans-30\"/>\n       <use xlink:href=\"#DejaVuSans-2e\" x=\"63.623047\"/>\n       <use xlink:href=\"#DejaVuSans-30\" x=\"95.410156\"/>\n      </g>\n     </g>\n    </g>\n    <g id=\"ytick_2\">\n     <g id=\"line2d_13\">\n      <path d=\"M 53.223625 134.443636 \nL 303.783625 134.443636 \n\" clip-path=\"url(#pea2f5c1576)\" style=\"fill: none; stroke: #cbcbcb\"/>\n     </g>\n     <g id=\"line2d_14\"/>\n     <g id=\"text_8\">\n      <!-- 0.5 -->\n      <g transform=\"translate(27.45925 139.762543) scale(0.14 -0.14)\">\n       <defs>\n        <path id=\"DejaVuSans-35\" d=\"M 691 4666 \nL 3169 4666 \nL 3169 4134 \nL 1269 4134 \nL 1269 2991 \nQ 1406 3038 1543 3061 \nQ 1681 3084 1819 3084 \nQ 2600 3084 3056 2656 \nQ 3513 2228 3513 1497 \nQ 3513 744 3044 326 \nQ 2575 -91 1722 -91 \nQ 1428 -91 1123 -41 \nQ 819 9 494 109 \nL 494 744 \nQ 775 591 1075 516 \nQ 1375 441 1709 441 \nQ 2250 441 2565 725 \nQ 2881 1009 2881 1497 \nQ 2881 1984 2565 2268 \nQ 2250 2553 1709 2553 \nQ 1456 2553 1204 2497 \nQ 953 2441 691 2322 \nL 691 4666 \nz\n\" transform=\"scale(0.015625)\"/>\n       </defs>\n       <use xlink:href=\"#DejaVuSans-30\"/>\n       <use xlink:href=\"#DejaVuSans-2e\" x=\"63.623047\"/>\n       <use xlink:href=\"#DejaVuSans-35\" x=\"95.410156\"/>\n      </g>\n     </g>\n    </g>\n    <g id=\"ytick_3\">\n     <g id=\"line2d_15\">\n      <path d=\"M 53.223625 94.68 \nL 303.783625 94.68 \n\" clip-path=\"url(#pea2f5c1576)\" style=\"fill: none; stroke: #cbcbcb\"/>\n     </g>\n     <g id=\"line2d_16\"/>\n     <g id=\"text_9\">\n      <!-- 1.0 -->\n      <g transform=\"translate(27.45925 99.998906) scale(0.14 -0.14)\">\n       <use xlink:href=\"#DejaVuSans-31\"/>\n       <use xlink:href=\"#DejaVuSans-2e\" x=\"63.623047\"/>\n       <use xlink:href=\"#DejaVuSans-30\" x=\"95.410156\"/>\n      </g>\n     </g>\n    </g>\n    <g id=\"ytick_4\">\n     <g id=\"line2d_17\">\n      <path d=\"M 53.223625 54.916364 \nL 303.783625 54.916364 \n\" clip-path=\"url(#pea2f5c1576)\" style=\"fill: none; stroke: #cbcbcb\"/>\n     </g>\n     <g id=\"line2d_18\"/>\n     <g id=\"text_10\">\n      <!-- 1.5 -->\n      <g transform=\"translate(27.45925 60.23527) scale(0.14 -0.14)\">\n       <use xlink:href=\"#DejaVuSans-31\"/>\n       <use xlink:href=\"#DejaVuSans-2e\" x=\"63.623047\"/>\n       <use xlink:href=\"#DejaVuSans-35\" x=\"95.410156\"/>\n      </g>\n     </g>\n    </g>\n    <g id=\"ytick_5\">\n     <g id=\"line2d_19\">\n      <path d=\"M 53.223625 15.152727 \nL 303.783625 15.152727 \n\" clip-path=\"url(#pea2f5c1576)\" style=\"fill: none; stroke: #cbcbcb\"/>\n     </g>\n     <g id=\"line2d_20\"/>\n     <g id=\"text_11\">\n      <!-- 2.0 -->\n      <g transform=\"translate(27.45925 20.471634) scale(0.14 -0.14)\">\n       <use xlink:href=\"#DejaVuSans-32\"/>\n       <use xlink:href=\"#DejaVuSans-2e\" x=\"63.623047\"/>\n       <use xlink:href=\"#DejaVuSans-30\" x=\"95.410156\"/>\n      </g>\n     </g>\n    </g>\n    <g id=\"text_12\">\n     <!-- Relu(x) -->\n     <g transform=\"translate(19.965375 124.490813) rotate(-90) scale(0.168 -0.168)\">\n      <defs>\n       <path id=\"DejaVuSans-52\" d=\"M 2841 2188 \nQ 3044 2119 3236 1894 \nQ 3428 1669 3622 1275 \nL 4263 0 \nL 3584 0 \nL 2988 1197 \nQ 2756 1666 2539 1819 \nQ 2322 1972 1947 1972 \nL 1259 1972 \nL 1259 0 \nL 628 0 \nL 628 4666 \nL 2053 4666 \nQ 2853 4666 3247 4331 \nQ 3641 3997 3641 3322 \nQ 3641 2881 3436 2590 \nQ 3231 2300 2841 2188 \nz\nM 1259 4147 \nL 1259 2491 \nL 2053 2491 \nQ 2509 2491 2742 2702 \nQ 2975 2913 2975 3322 \nQ 2975 3731 2742 3939 \nQ 2509 4147 2053 4147 \nL 1259 4147 \nz\n\" transform=\"scale(0.015625)\"/>\n       <path id=\"DejaVuSans-65\" d=\"M 3597 1894 \nL 3597 1613 \nL 953 1613 \nQ 991 1019 1311 708 \nQ 1631 397 2203 397 \nQ 2534 397 2845 478 \nQ 3156 559 3463 722 \nL 3463 178 \nQ 3153 47 2828 -22 \nQ 2503 -91 2169 -91 \nQ 1331 -91 842 396 \nQ 353 884 353 1716 \nQ 353 2575 817 3079 \nQ 1281 3584 2069 3584 \nQ 2775 3584 3186 3129 \nQ 3597 2675 3597 1894 \nz\nM 3022 2063 \nQ 3016 2534 2758 2815 \nQ 2500 3097 2075 3097 \nQ 1594 3097 1305 2825 \nQ 1016 2553 972 2059 \nL 3022 2063 \nz\n\" transform=\"scale(0.015625)\"/>\n       <path id=\"DejaVuSans-6c\" d=\"M 603 4863 \nL 1178 4863 \nL 1178 0 \nL 603 0 \nL 603 4863 \nz\n\" transform=\"scale(0.015625)\"/>\n       <path id=\"DejaVuSans-75\" d=\"M 544 1381 \nL 544 3500 \nL 1119 3500 \nL 1119 1403 \nQ 1119 906 1312 657 \nQ 1506 409 1894 409 \nQ 2359 409 2629 706 \nQ 2900 1003 2900 1516 \nL 2900 3500 \nL 3475 3500 \nL 3475 0 \nL 2900 0 \nL 2900 538 \nQ 2691 219 2414 64 \nQ 2138 -91 1772 -91 \nQ 1169 -91 856 284 \nQ 544 659 544 1381 \nz\nM 1991 3584 \nL 1991 3584 \nz\n\" transform=\"scale(0.015625)\"/>\n       <path id=\"DejaVuSans-28\" d=\"M 1984 4856 \nQ 1566 4138 1362 3434 \nQ 1159 2731 1159 2009 \nQ 1159 1288 1364 580 \nQ 1569 -128 1984 -844 \nL 1484 -844 \nQ 1016 -109 783 600 \nQ 550 1309 550 2009 \nQ 550 2706 781 3412 \nQ 1013 4119 1484 4856 \nL 1984 4856 \nz\n\" transform=\"scale(0.015625)\"/>\n       <path id=\"DejaVuSans-29\" d=\"M 513 4856 \nL 1013 4856 \nQ 1481 4119 1714 3412 \nQ 1947 2706 1947 2009 \nQ 1947 1309 1714 600 \nQ 1481 -109 1013 -844 \nL 513 -844 \nQ 928 -128 1133 580 \nQ 1338 1288 1338 2009 \nQ 1338 2731 1133 3434 \nQ 928 4138 513 4856 \nz\n\" transform=\"scale(0.015625)\"/>\n      </defs>\n      <use xlink:href=\"#DejaVuSans-52\"/>\n      <use xlink:href=\"#DejaVuSans-65\" x=\"64.982422\"/>\n      <use xlink:href=\"#DejaVuSans-6c\" x=\"126.505859\"/>\n      <use xlink:href=\"#DejaVuSans-75\" x=\"154.289062\"/>\n      <use xlink:href=\"#DejaVuSans-28\" x=\"217.667969\"/>\n      <use xlink:href=\"#DejaVuSans-78\" x=\"256.681641\"/>\n      <use xlink:href=\"#DejaVuSans-29\" x=\"315.861328\"/>\n     </g>\n    </g>\n   </g>\n   <g id=\"line2d_21\">\n    <path d=\"M 64.612716 174.207273 \nL 66.913545 174.207273 \nL 69.214367 174.207273 \nL 71.515195 174.207273 \nL 73.816024 174.207273 \nL 76.116846 174.207273 \nL 78.417675 174.207273 \nL 80.718504 174.207273 \nL 83.019326 174.207273 \nL 85.320155 174.207273 \nL 87.620977 174.207273 \nL 89.921805 174.207273 \nL 92.222634 174.207273 \nL 94.523456 174.207273 \nL 96.824285 174.207273 \nL 99.125114 174.207273 \nL 101.425936 174.207273 \nL 103.726764 174.207273 \nL 106.027586 174.207273 \nL 108.328415 174.207273 \nL 110.629244 174.207273 \nL 112.930066 174.207273 \nL 115.230895 174.207273 \nL 117.531723 174.207273 \nL 119.832552 174.207273 \nL 122.133378 174.207273 \nL 124.434206 174.207273 \nL 126.735032 174.207273 \nL 129.035857 174.207273 \nL 131.336686 174.207273 \nL 133.637511 174.207273 \nL 135.938337 174.207273 \nL 138.239162 174.207273 \nL 140.539988 174.207273 \nL 142.840816 174.207273 \nL 145.141642 174.207273 \nL 147.442467 174.207273 \nL 149.743296 174.207273 \nL 152.044121 174.207273 \nL 154.344947 174.207273 \nL 156.645772 174.207273 \nL 158.946599 174.207273 \nL 161.247424 174.207273 \nL 163.548252 174.207273 \nL 165.849078 174.207273 \nL 168.149904 174.207273 \nL 170.450731 174.207273 \nL 172.751557 174.207273 \nL 175.052389 174.207273 \nL 177.353215 174.207273 \nL 179.654042 172.600657 \nL 181.954868 169.387433 \nL 184.255694 166.17421 \nL 186.556521 162.960987 \nL 188.857348 159.747763 \nL 191.158174 156.534541 \nL 193.458998 153.32132 \nL 195.759826 150.108096 \nL 198.060651 146.894874 \nL 200.361478 143.68165 \nL 202.662303 140.468429 \nL 204.96313 137.255205 \nL 207.263958 134.041981 \nL 209.564783 130.828759 \nL 211.865608 127.615537 \nL 214.166434 124.402316 \nL 216.467262 121.189089 \nL 218.768088 117.975868 \nL 221.068913 114.762646 \nL 223.369742 111.54942 \nL 225.670567 108.336198 \nL 227.971393 105.122976 \nL 230.272218 101.909755 \nL 232.573044 98.696533 \nL 234.873872 95.483307 \nL 237.174698 92.270085 \nL 239.475527 89.056859 \nL 241.776349 85.843642 \nL 244.077177 82.630415 \nL 246.378006 79.417189 \nL 248.678828 76.203972 \nL 250.979657 72.990746 \nL 253.280479 69.777529 \nL 255.581308 66.564302 \nL 257.882136 63.351076 \nL 260.182958 60.137859 \nL 262.483787 56.924633 \nL 264.784616 53.711406 \nL 267.085445 50.49818 \nL 269.386273 47.284953 \nL 271.687095 44.071736 \nL 273.987924 40.85851 \nL 276.288753 37.645284 \nL 278.589575 34.432067 \nL 280.890404 31.21884 \nL 283.191233 28.005614 \nL 285.492055 24.792397 \nL 287.792883 21.579171 \nL 290.093705 18.365954 \nL 292.394534 15.152727 \n\" clip-path=\"url(#pea2f5c1576)\" style=\"fill: none; stroke: #008fd5; stroke-width: 4\"/>\n   </g>\n   <g id=\"line2d_22\">\n    <path d=\"M 64.612716 174.207273 \nL 66.913545 174.207273 \nL 69.214367 174.207273 \nL 71.515195 174.207273 \nL 73.816024 174.207273 \nL 76.116846 174.207273 \nL 78.417675 174.207273 \nL 80.718504 174.207273 \nL 83.019326 174.207273 \nL 85.320155 174.207273 \nL 87.620977 174.207273 \nL 89.921805 174.207273 \nL 92.222634 174.207273 \nL 94.523456 174.207273 \nL 96.824285 174.207273 \nL 99.125114 174.207273 \nL 101.425936 174.207273 \nL 103.726764 174.207273 \nL 106.027586 174.207273 \nL 108.328415 174.207273 \nL 110.629244 174.207273 \nL 112.930066 174.207273 \nL 115.230895 174.207273 \nL 117.531723 174.207273 \nL 119.832552 174.207273 \nL 122.133378 174.207273 \nL 124.434206 174.207273 \nL 126.735032 174.207273 \nL 129.035857 174.207273 \nL 131.336686 174.207273 \nL 133.637511 174.207273 \nL 135.938337 174.207273 \nL 138.239162 174.207273 \nL 140.539988 174.207273 \nL 142.840816 174.207273 \nL 145.141642 174.207273 \nL 147.442467 174.207273 \nL 149.743296 174.207273 \nL 152.044121 174.207273 \nL 154.344947 174.207273 \nL 156.645772 174.207273 \nL 158.946599 174.207273 \nL 161.247424 174.207273 \nL 163.548252 174.207273 \nL 165.849078 174.207273 \nL 168.149904 174.207273 \nL 170.450731 174.207273 \nL 172.751557 174.207273 \nL 175.052389 174.207273 \nL 177.353215 174.207273 \nL 179.654042 94.68 \nL 181.954868 94.68 \nL 184.255694 94.68 \nL 186.556521 94.68 \nL 188.857348 94.68 \nL 191.158174 94.68 \nL 193.458998 94.68 \nL 195.759826 94.68 \nL 198.060651 94.68 \nL 200.361478 94.68 \nL 202.662303 94.68 \nL 204.96313 94.68 \nL 207.263958 94.68 \nL 209.564783 94.68 \nL 211.865608 94.68 \nL 214.166434 94.68 \nL 216.467262 94.68 \nL 218.768088 94.68 \nL 221.068913 94.68 \nL 223.369742 94.68 \nL 225.670567 94.68 \nL 227.971393 94.68 \nL 230.272218 94.68 \nL 232.573044 94.68 \nL 234.873872 94.68 \nL 237.174698 94.68 \nL 239.475527 94.68 \nL 241.776349 94.68 \nL 244.077177 94.68 \nL 246.378006 94.68 \nL 248.678828 94.68 \nL 250.979657 94.68 \nL 253.280479 94.68 \nL 255.581308 94.68 \nL 257.882136 94.68 \nL 260.182958 94.68 \nL 262.483787 94.68 \nL 264.784616 94.68 \nL 267.085445 94.68 \nL 269.386273 94.68 \nL 271.687095 94.68 \nL 273.987924 94.68 \nL 276.288753 94.68 \nL 278.589575 94.68 \nL 280.890404 94.68 \nL 283.191233 94.68 \nL 285.492055 94.68 \nL 287.792883 94.68 \nL 290.093705 94.68 \nL 292.394534 94.68 \n\" clip-path=\"url(#pea2f5c1576)\" style=\"fill: none; stroke-dasharray: 14.8,6.4; stroke-dashoffset: 0; stroke: #fc4f30; stroke-width: 4\"/>\n   </g>\n   <g id=\"patch_3\">\n    <path d=\"M 53.223625 182.16 \nL 53.223625 7.2 \n\" style=\"fill: none; stroke: #f0f0f0; stroke-width: 3; stroke-linejoin: miter; stroke-linecap: square\"/>\n   </g>\n   <g id=\"patch_4\">\n    <path d=\"M 303.783625 182.16 \nL 303.783625 7.2 \n\" style=\"fill: none; stroke: #f0f0f0; stroke-width: 3; stroke-linejoin: miter; stroke-linecap: square\"/>\n   </g>\n   <g id=\"patch_5\">\n    <path d=\"M 53.223625 182.16 \nL 303.783625 182.16 \n\" style=\"fill: none; stroke: #f0f0f0; stroke-width: 3; stroke-linejoin: miter; stroke-linecap: square\"/>\n   </g>\n   <g id=\"patch_6\">\n    <path d=\"M 53.223625 7.2 \nL 303.783625 7.2 \n\" style=\"fill: none; stroke: #f0f0f0; stroke-width: 3; stroke-linejoin: miter; stroke-linecap: square\"/>\n   </g>\n   <g id=\"legend_1\">\n    <g id=\"patch_7\">\n     <path d=\"M 63.023625 59.49875 \nL 179.409562 59.49875 \nQ 182.209563 59.49875 182.209563 56.69875 \nL 182.209563 17 \nQ 182.209563 14.2 179.409562 14.2 \nL 63.023625 14.2 \nQ 60.223625 14.2 60.223625 17 \nL 60.223625 56.69875 \nQ 60.223625 59.49875 63.023625 59.49875 \nz\n\" style=\"fill: #f0f0f0; opacity: 0.8; stroke: #cccccc; stroke-width: 0.5; stroke-linejoin: miter\"/>\n    </g>\n    <g id=\"line2d_23\">\n     <path d=\"M 65.823625 25.537813 \nL 79.823625 25.537813 \nL 93.823625 25.537813 \n\" style=\"fill: none; stroke: #008fd5; stroke-width: 4\"/>\n    </g>\n    <g id=\"text_13\">\n     <!-- f = relu(x) -->\n     <g transform=\"translate(105.023625 30.437813) scale(0.14 -0.14)\">\n      <defs>\n       <path id=\"DejaVuSans-66\" d=\"M 2375 4863 \nL 2375 4384 \nL 1825 4384 \nQ 1516 4384 1395 4259 \nQ 1275 4134 1275 3809 \nL 1275 3500 \nL 2222 3500 \nL 2222 3053 \nL 1275 3053 \nL 1275 0 \nL 697 0 \nL 697 3053 \nL 147 3053 \nL 147 3500 \nL 697 3500 \nL 697 3744 \nQ 697 4328 969 4595 \nQ 1241 4863 1831 4863 \nL 2375 4863 \nz\n\" transform=\"scale(0.015625)\"/>\n       <path id=\"DejaVuSans-20\" transform=\"scale(0.015625)\"/>\n       <path id=\"DejaVuSans-3d\" d=\"M 678 2906 \nL 4684 2906 \nL 4684 2381 \nL 678 2381 \nL 678 2906 \nz\nM 678 1631 \nL 4684 1631 \nL 4684 1100 \nL 678 1100 \nL 678 1631 \nz\n\" transform=\"scale(0.015625)\"/>\n       <path id=\"DejaVuSans-72\" d=\"M 2631 2963 \nQ 2534 3019 2420 3045 \nQ 2306 3072 2169 3072 \nQ 1681 3072 1420 2755 \nQ 1159 2438 1159 1844 \nL 1159 0 \nL 581 0 \nL 581 3500 \nL 1159 3500 \nL 1159 2956 \nQ 1341 3275 1631 3429 \nQ 1922 3584 2338 3584 \nQ 2397 3584 2469 3576 \nQ 2541 3569 2628 3553 \nL 2631 2963 \nz\n\" transform=\"scale(0.015625)\"/>\n      </defs>\n      <use xlink:href=\"#DejaVuSans-66\"/>\n      <use xlink:href=\"#DejaVuSans-20\" x=\"35.205078\"/>\n      <use xlink:href=\"#DejaVuSans-3d\" x=\"66.992188\"/>\n      <use xlink:href=\"#DejaVuSans-20\" x=\"150.78125\"/>\n      <use xlink:href=\"#DejaVuSans-72\" x=\"182.568359\"/>\n      <use xlink:href=\"#DejaVuSans-65\" x=\"221.431641\"/>\n      <use xlink:href=\"#DejaVuSans-6c\" x=\"282.955078\"/>\n      <use xlink:href=\"#DejaVuSans-75\" x=\"310.738281\"/>\n      <use xlink:href=\"#DejaVuSans-28\" x=\"374.117188\"/>\n      <use xlink:href=\"#DejaVuSans-78\" x=\"413.130859\"/>\n      <use xlink:href=\"#DejaVuSans-29\" x=\"472.310547\"/>\n     </g>\n    </g>\n    <g id=\"line2d_24\">\n     <path d=\"M 65.823625 46.087188 \nL 79.823625 46.087188 \nL 93.823625 46.087188 \n\" style=\"fill: none; stroke-dasharray: 14.8,6.4; stroke-dashoffset: 0; stroke: #fc4f30; stroke-width: 4\"/>\n    </g>\n    <g id=\"text_14\">\n     <!-- df/dx -->\n     <g transform=\"translate(105.023625 50.987188) scale(0.14 -0.14)\">\n      <defs>\n       <path id=\"DejaVuSans-64\" d=\"M 2906 2969 \nL 2906 4863 \nL 3481 4863 \nL 3481 0 \nL 2906 0 \nL 2906 525 \nQ 2725 213 2448 61 \nQ 2172 -91 1784 -91 \nQ 1150 -91 751 415 \nQ 353 922 353 1747 \nQ 353 2572 751 3078 \nQ 1150 3584 1784 3584 \nQ 2172 3584 2448 3432 \nQ 2725 3281 2906 2969 \nz\nM 947 1747 \nQ 947 1113 1208 752 \nQ 1469 391 1925 391 \nQ 2381 391 2643 752 \nQ 2906 1113 2906 1747 \nQ 2906 2381 2643 2742 \nQ 2381 3103 1925 3103 \nQ 1469 3103 1208 2742 \nQ 947 2381 947 1747 \nz\n\" transform=\"scale(0.015625)\"/>\n       <path id=\"DejaVuSans-2f\" d=\"M 1625 4666 \nL 2156 4666 \nL 531 -594 \nL 0 -594 \nL 1625 4666 \nz\n\" transform=\"scale(0.015625)\"/>\n      </defs>\n      <use xlink:href=\"#DejaVuSans-64\"/>\n      <use xlink:href=\"#DejaVuSans-66\" x=\"63.476562\"/>\n      <use xlink:href=\"#DejaVuSans-2f\" x=\"98.681641\"/>\n      <use xlink:href=\"#DejaVuSans-64\" x=\"132.373047\"/>\n      <use xlink:href=\"#DejaVuSans-78\" x=\"195.849609\"/>\n     </g>\n    </g>\n   </g>\n  </g>\n </g>\n <defs>\n  <clipPath id=\"pea2f5c1576\">\n   <rect x=\"53.223625\" y=\"7.2\" width=\"250.56\" height=\"174.96\"/>\n  </clipPath>\n </defs>\n</svg>\n",
      "text/plain": [
       "<Figure size 400x300 with 1 Axes>"
      ]
     },
     "metadata": {},
     "output_type": "display_data"
    }
   ],
   "source": [
    "plt.figure(figsize=(4,3))\n",
    "x = torch.linspace(-2.0, 2.0, 100, requires_grad=True)\n",
    "y = torch.relu(x)\n",
    "y.backward(torch.ones_like(x))\n",
    "\n",
    "plt.plot(x.detach(), y.detach(), label='f = relu(x)');\n",
    "plt.plot(x.detach(), x.grad.detach(), 'C1--', label='df/dx');\n",
    "plt.xlabel('x')\n",
    "plt.ylabel('Relu(x)')\n",
    "plt.legend();"
   ]
  },
  {
   "cell_type": "code",
   "execution_count": 90,
   "metadata": {},
   "outputs": [
    {
     "data": {
      "image/svg+xml": "<?xml version=\"1.0\" encoding=\"utf-8\" standalone=\"no\"?>\n<!DOCTYPE svg PUBLIC \"-//W3C//DTD SVG 1.1//EN\"\n  \"http://www.w3.org/Graphics/SVG/1.1/DTD/svg11.dtd\">\n<svg xmlns:xlink=\"http://www.w3.org/1999/xlink\" width=\"310.983625pt\" height=\"226.668625pt\" viewBox=\"0 0 310.983625 226.668625\" xmlns=\"http://www.w3.org/2000/svg\" version=\"1.1\">\n <metadata>\n  <rdf:RDF xmlns:dc=\"http://purl.org/dc/elements/1.1/\" xmlns:cc=\"http://creativecommons.org/ns#\" xmlns:rdf=\"http://www.w3.org/1999/02/22-rdf-syntax-ns#\">\n   <cc:Work>\n    <dc:type rdf:resource=\"http://purl.org/dc/dcmitype/StillImage\"/>\n    <dc:date>2023-01-21T08:13:40.042051</dc:date>\n    <dc:format>image/svg+xml</dc:format>\n    <dc:creator>\n     <cc:Agent>\n      <dc:title>Matplotlib v3.6.3, https://matplotlib.org/</dc:title>\n     </cc:Agent>\n    </dc:creator>\n   </cc:Work>\n  </rdf:RDF>\n </metadata>\n <defs>\n  <style type=\"text/css\">*{stroke-linejoin: round; stroke-linecap: butt}</style>\n </defs>\n <g id=\"figure_1\">\n  <g id=\"patch_1\">\n   <path d=\"M 0 226.668625 \nL 310.983625 226.668625 \nL 310.983625 0 \nL 0 0 \nz\n\" style=\"fill: #f0f0f0\"/>\n  </g>\n  <g id=\"axes_1\">\n   <g id=\"patch_2\">\n    <path d=\"M 53.223625 182.16 \nL 303.783625 182.16 \nL 303.783625 7.2 \nL 53.223625 7.2 \nz\n\" style=\"fill: #f0f0f0\"/>\n   </g>\n   <g id=\"matplotlib.axis_1\">\n    <g id=\"xtick_1\">\n     <g id=\"line2d_1\">\n      <path d=\"M 83.594534 182.16 \nL 83.594534 7.2 \n\" clip-path=\"url(#p129ae198b7)\" style=\"fill: none; stroke: #cbcbcb\"/>\n     </g>\n     <g id=\"line2d_2\"/>\n     <g id=\"text_1\">\n      <!-- −5 -->\n      <g transform=\"translate(73.275003 196.297813) scale(0.14 -0.14)\">\n       <defs>\n        <path id=\"DejaVuSans-2212\" d=\"M 678 2272 \nL 4684 2272 \nL 4684 1741 \nL 678 1741 \nL 678 2272 \nz\n\" transform=\"scale(0.015625)\"/>\n        <path id=\"DejaVuSans-35\" d=\"M 691 4666 \nL 3169 4666 \nL 3169 4134 \nL 1269 4134 \nL 1269 2991 \nQ 1406 3038 1543 3061 \nQ 1681 3084 1819 3084 \nQ 2600 3084 3056 2656 \nQ 3513 2228 3513 1497 \nQ 3513 744 3044 326 \nQ 2575 -91 1722 -91 \nQ 1428 -91 1123 -41 \nQ 819 9 494 109 \nL 494 744 \nQ 775 591 1075 516 \nQ 1375 441 1709 441 \nQ 2250 441 2565 725 \nQ 2881 1009 2881 1497 \nQ 2881 1984 2565 2268 \nQ 2250 2553 1709 2553 \nQ 1456 2553 1204 2497 \nQ 953 2441 691 2322 \nL 691 4666 \nz\n\" transform=\"scale(0.015625)\"/>\n       </defs>\n       <use xlink:href=\"#DejaVuSans-2212\"/>\n       <use xlink:href=\"#DejaVuSans-35\" x=\"83.789062\"/>\n      </g>\n     </g>\n    </g>\n    <g id=\"xtick_2\">\n     <g id=\"line2d_3\">\n      <path d=\"M 178.503625 182.16 \nL 178.503625 7.2 \n\" clip-path=\"url(#p129ae198b7)\" style=\"fill: none; stroke: #cbcbcb\"/>\n     </g>\n     <g id=\"line2d_4\"/>\n     <g id=\"text_2\">\n      <!-- 0 -->\n      <g transform=\"translate(174.049875 196.297813) scale(0.14 -0.14)\">\n       <defs>\n        <path id=\"DejaVuSans-30\" d=\"M 2034 4250 \nQ 1547 4250 1301 3770 \nQ 1056 3291 1056 2328 \nQ 1056 1369 1301 889 \nQ 1547 409 2034 409 \nQ 2525 409 2770 889 \nQ 3016 1369 3016 2328 \nQ 3016 3291 2770 3770 \nQ 2525 4250 2034 4250 \nz\nM 2034 4750 \nQ 2819 4750 3233 4129 \nQ 3647 3509 3647 2328 \nQ 3647 1150 3233 529 \nQ 2819 -91 2034 -91 \nQ 1250 -91 836 529 \nQ 422 1150 422 2328 \nQ 422 3509 836 4129 \nQ 1250 4750 2034 4750 \nz\n\" transform=\"scale(0.015625)\"/>\n       </defs>\n       <use xlink:href=\"#DejaVuSans-30\"/>\n      </g>\n     </g>\n    </g>\n    <g id=\"xtick_3\">\n     <g id=\"line2d_5\">\n      <path d=\"M 273.412716 182.16 \nL 273.412716 7.2 \n\" clip-path=\"url(#p129ae198b7)\" style=\"fill: none; stroke: #cbcbcb\"/>\n     </g>\n     <g id=\"line2d_6\"/>\n     <g id=\"text_3\">\n      <!-- 5 -->\n      <g transform=\"translate(268.958966 196.297813) scale(0.14 -0.14)\">\n       <use xlink:href=\"#DejaVuSans-35\"/>\n      </g>\n     </g>\n    </g>\n    <g id=\"text_4\">\n     <!-- x -->\n     <g transform=\"translate(173.531875 215.97475) scale(0.168 -0.168)\">\n      <defs>\n       <path id=\"DejaVuSans-78\" d=\"M 3513 3500 \nL 2247 1797 \nL 3578 0 \nL 2900 0 \nL 1881 1375 \nL 863 0 \nL 184 0 \nL 1544 1831 \nL 300 3500 \nL 978 3500 \nL 1906 2253 \nL 2834 3500 \nL 3513 3500 \nz\n\" transform=\"scale(0.015625)\"/>\n      </defs>\n      <use xlink:href=\"#DejaVuSans-78\"/>\n     </g>\n    </g>\n   </g>\n   <g id=\"matplotlib.axis_2\">\n    <g id=\"ytick_1\">\n     <g id=\"line2d_7\">\n      <path d=\"M 53.223625 174.601523 \nL 303.783625 174.601523 \n\" clip-path=\"url(#p129ae198b7)\" style=\"fill: none; stroke: #cbcbcb\"/>\n     </g>\n     <g id=\"line2d_8\"/>\n     <g id=\"text_5\">\n      <!-- 0.0 -->\n      <g transform=\"translate(27.45925 179.920429) scale(0.14 -0.14)\">\n       <defs>\n        <path id=\"DejaVuSans-2e\" d=\"M 684 794 \nL 1344 794 \nL 1344 0 \nL 684 0 \nL 684 794 \nz\n\" transform=\"scale(0.015625)\"/>\n       </defs>\n       <use xlink:href=\"#DejaVuSans-30\"/>\n       <use xlink:href=\"#DejaVuSans-2e\" x=\"63.623047\"/>\n       <use xlink:href=\"#DejaVuSans-30\" x=\"95.410156\"/>\n      </g>\n     </g>\n    </g>\n    <g id=\"ytick_2\">\n     <g id=\"line2d_9\">\n      <path d=\"M 53.223625 142.632718 \nL 303.783625 142.632718 \n\" clip-path=\"url(#p129ae198b7)\" style=\"fill: none; stroke: #cbcbcb\"/>\n     </g>\n     <g id=\"line2d_10\"/>\n     <g id=\"text_6\">\n      <!-- 0.2 -->\n      <g transform=\"translate(27.45925 147.951624) scale(0.14 -0.14)\">\n       <defs>\n        <path id=\"DejaVuSans-32\" d=\"M 1228 531 \nL 3431 531 \nL 3431 0 \nL 469 0 \nL 469 531 \nQ 828 903 1448 1529 \nQ 2069 2156 2228 2338 \nQ 2531 2678 2651 2914 \nQ 2772 3150 2772 3378 \nQ 2772 3750 2511 3984 \nQ 2250 4219 1831 4219 \nQ 1534 4219 1204 4116 \nQ 875 4013 500 3803 \nL 500 4441 \nQ 881 4594 1212 4672 \nQ 1544 4750 1819 4750 \nQ 2544 4750 2975 4387 \nQ 3406 4025 3406 3419 \nQ 3406 3131 3298 2873 \nQ 3191 2616 2906 2266 \nQ 2828 2175 2409 1742 \nQ 1991 1309 1228 531 \nz\n\" transform=\"scale(0.015625)\"/>\n       </defs>\n       <use xlink:href=\"#DejaVuSans-30\"/>\n       <use xlink:href=\"#DejaVuSans-2e\" x=\"63.623047\"/>\n       <use xlink:href=\"#DejaVuSans-32\" x=\"95.410156\"/>\n      </g>\n     </g>\n    </g>\n    <g id=\"ytick_3\">\n     <g id=\"line2d_11\">\n      <path d=\"M 53.223625 110.663914 \nL 303.783625 110.663914 \n\" clip-path=\"url(#p129ae198b7)\" style=\"fill: none; stroke: #cbcbcb\"/>\n     </g>\n     <g id=\"line2d_12\"/>\n     <g id=\"text_7\">\n      <!-- 0.4 -->\n      <g transform=\"translate(27.45925 115.98282) scale(0.14 -0.14)\">\n       <defs>\n        <path id=\"DejaVuSans-34\" d=\"M 2419 4116 \nL 825 1625 \nL 2419 1625 \nL 2419 4116 \nz\nM 2253 4666 \nL 3047 4666 \nL 3047 1625 \nL 3713 1625 \nL 3713 1100 \nL 3047 1100 \nL 3047 0 \nL 2419 0 \nL 2419 1100 \nL 313 1100 \nL 313 1709 \nL 2253 4666 \nz\n\" transform=\"scale(0.015625)\"/>\n       </defs>\n       <use xlink:href=\"#DejaVuSans-30\"/>\n       <use xlink:href=\"#DejaVuSans-2e\" x=\"63.623047\"/>\n       <use xlink:href=\"#DejaVuSans-34\" x=\"95.410156\"/>\n      </g>\n     </g>\n    </g>\n    <g id=\"ytick_4\">\n     <g id=\"line2d_13\">\n      <path d=\"M 53.223625 78.695109 \nL 303.783625 78.695109 \n\" clip-path=\"url(#p129ae198b7)\" style=\"fill: none; stroke: #cbcbcb\"/>\n     </g>\n     <g id=\"line2d_14\"/>\n     <g id=\"text_8\">\n      <!-- 0.6 -->\n      <g transform=\"translate(27.45925 84.014015) scale(0.14 -0.14)\">\n       <defs>\n        <path id=\"DejaVuSans-36\" d=\"M 2113 2584 \nQ 1688 2584 1439 2293 \nQ 1191 2003 1191 1497 \nQ 1191 994 1439 701 \nQ 1688 409 2113 409 \nQ 2538 409 2786 701 \nQ 3034 994 3034 1497 \nQ 3034 2003 2786 2293 \nQ 2538 2584 2113 2584 \nz\nM 3366 4563 \nL 3366 3988 \nQ 3128 4100 2886 4159 \nQ 2644 4219 2406 4219 \nQ 1781 4219 1451 3797 \nQ 1122 3375 1075 2522 \nQ 1259 2794 1537 2939 \nQ 1816 3084 2150 3084 \nQ 2853 3084 3261 2657 \nQ 3669 2231 3669 1497 \nQ 3669 778 3244 343 \nQ 2819 -91 2113 -91 \nQ 1303 -91 875 529 \nQ 447 1150 447 2328 \nQ 447 3434 972 4092 \nQ 1497 4750 2381 4750 \nQ 2619 4750 2861 4703 \nQ 3103 4656 3366 4563 \nz\n\" transform=\"scale(0.015625)\"/>\n       </defs>\n       <use xlink:href=\"#DejaVuSans-30\"/>\n       <use xlink:href=\"#DejaVuSans-2e\" x=\"63.623047\"/>\n       <use xlink:href=\"#DejaVuSans-36\" x=\"95.410156\"/>\n      </g>\n     </g>\n    </g>\n    <g id=\"ytick_5\">\n     <g id=\"line2d_15\">\n      <path d=\"M 53.223625 46.726305 \nL 303.783625 46.726305 \n\" clip-path=\"url(#p129ae198b7)\" style=\"fill: none; stroke: #cbcbcb\"/>\n     </g>\n     <g id=\"line2d_16\"/>\n     <g id=\"text_9\">\n      <!-- 0.8 -->\n      <g transform=\"translate(27.45925 52.045211) scale(0.14 -0.14)\">\n       <defs>\n        <path id=\"DejaVuSans-38\" d=\"M 2034 2216 \nQ 1584 2216 1326 1975 \nQ 1069 1734 1069 1313 \nQ 1069 891 1326 650 \nQ 1584 409 2034 409 \nQ 2484 409 2743 651 \nQ 3003 894 3003 1313 \nQ 3003 1734 2745 1975 \nQ 2488 2216 2034 2216 \nz\nM 1403 2484 \nQ 997 2584 770 2862 \nQ 544 3141 544 3541 \nQ 544 4100 942 4425 \nQ 1341 4750 2034 4750 \nQ 2731 4750 3128 4425 \nQ 3525 4100 3525 3541 \nQ 3525 3141 3298 2862 \nQ 3072 2584 2669 2484 \nQ 3125 2378 3379 2068 \nQ 3634 1759 3634 1313 \nQ 3634 634 3220 271 \nQ 2806 -91 2034 -91 \nQ 1263 -91 848 271 \nQ 434 634 434 1313 \nQ 434 1759 690 2068 \nQ 947 2378 1403 2484 \nz\nM 1172 3481 \nQ 1172 3119 1398 2916 \nQ 1625 2713 2034 2713 \nQ 2441 2713 2670 2916 \nQ 2900 3119 2900 3481 \nQ 2900 3844 2670 4047 \nQ 2441 4250 2034 4250 \nQ 1625 4250 1398 4047 \nQ 1172 3844 1172 3481 \nz\n\" transform=\"scale(0.015625)\"/>\n       </defs>\n       <use xlink:href=\"#DejaVuSans-30\"/>\n       <use xlink:href=\"#DejaVuSans-2e\" x=\"63.623047\"/>\n       <use xlink:href=\"#DejaVuSans-38\" x=\"95.410156\"/>\n      </g>\n     </g>\n    </g>\n    <g id=\"ytick_6\">\n     <g id=\"line2d_17\">\n      <path d=\"M 53.223625 14.7575 \nL 303.783625 14.7575 \n\" clip-path=\"url(#p129ae198b7)\" style=\"fill: none; stroke: #cbcbcb\"/>\n     </g>\n     <g id=\"line2d_18\"/>\n     <g id=\"text_10\">\n      <!-- 1.0 -->\n      <g transform=\"translate(27.45925 20.076406) scale(0.14 -0.14)\">\n       <defs>\n        <path id=\"DejaVuSans-31\" d=\"M 794 531 \nL 1825 531 \nL 1825 4091 \nL 703 3866 \nL 703 4441 \nL 1819 4666 \nL 2450 4666 \nL 2450 531 \nL 3481 531 \nL 3481 0 \nL 794 0 \nL 794 531 \nz\n\" transform=\"scale(0.015625)\"/>\n       </defs>\n       <use xlink:href=\"#DejaVuSans-31\"/>\n       <use xlink:href=\"#DejaVuSans-2e\" x=\"63.623047\"/>\n       <use xlink:href=\"#DejaVuSans-30\" x=\"95.410156\"/>\n      </g>\n     </g>\n    </g>\n    <g id=\"text_11\">\n     <!-- Relu(x) -->\n     <g transform=\"translate(19.965375 124.490813) rotate(-90) scale(0.168 -0.168)\">\n      <defs>\n       <path id=\"DejaVuSans-52\" d=\"M 2841 2188 \nQ 3044 2119 3236 1894 \nQ 3428 1669 3622 1275 \nL 4263 0 \nL 3584 0 \nL 2988 1197 \nQ 2756 1666 2539 1819 \nQ 2322 1972 1947 1972 \nL 1259 1972 \nL 1259 0 \nL 628 0 \nL 628 4666 \nL 2053 4666 \nQ 2853 4666 3247 4331 \nQ 3641 3997 3641 3322 \nQ 3641 2881 3436 2590 \nQ 3231 2300 2841 2188 \nz\nM 1259 4147 \nL 1259 2491 \nL 2053 2491 \nQ 2509 2491 2742 2702 \nQ 2975 2913 2975 3322 \nQ 2975 3731 2742 3939 \nQ 2509 4147 2053 4147 \nL 1259 4147 \nz\n\" transform=\"scale(0.015625)\"/>\n       <path id=\"DejaVuSans-65\" d=\"M 3597 1894 \nL 3597 1613 \nL 953 1613 \nQ 991 1019 1311 708 \nQ 1631 397 2203 397 \nQ 2534 397 2845 478 \nQ 3156 559 3463 722 \nL 3463 178 \nQ 3153 47 2828 -22 \nQ 2503 -91 2169 -91 \nQ 1331 -91 842 396 \nQ 353 884 353 1716 \nQ 353 2575 817 3079 \nQ 1281 3584 2069 3584 \nQ 2775 3584 3186 3129 \nQ 3597 2675 3597 1894 \nz\nM 3022 2063 \nQ 3016 2534 2758 2815 \nQ 2500 3097 2075 3097 \nQ 1594 3097 1305 2825 \nQ 1016 2553 972 2059 \nL 3022 2063 \nz\n\" transform=\"scale(0.015625)\"/>\n       <path id=\"DejaVuSans-6c\" d=\"M 603 4863 \nL 1178 4863 \nL 1178 0 \nL 603 0 \nL 603 4863 \nz\n\" transform=\"scale(0.015625)\"/>\n       <path id=\"DejaVuSans-75\" d=\"M 544 1381 \nL 544 3500 \nL 1119 3500 \nL 1119 1403 \nQ 1119 906 1312 657 \nQ 1506 409 1894 409 \nQ 2359 409 2629 706 \nQ 2900 1003 2900 1516 \nL 2900 3500 \nL 3475 3500 \nL 3475 0 \nL 2900 0 \nL 2900 538 \nQ 2691 219 2414 64 \nQ 2138 -91 1772 -91 \nQ 1169 -91 856 284 \nQ 544 659 544 1381 \nz\nM 1991 3584 \nL 1991 3584 \nz\n\" transform=\"scale(0.015625)\"/>\n       <path id=\"DejaVuSans-28\" d=\"M 1984 4856 \nQ 1566 4138 1362 3434 \nQ 1159 2731 1159 2009 \nQ 1159 1288 1364 580 \nQ 1569 -128 1984 -844 \nL 1484 -844 \nQ 1016 -109 783 600 \nQ 550 1309 550 2009 \nQ 550 2706 781 3412 \nQ 1013 4119 1484 4856 \nL 1984 4856 \nz\n\" transform=\"scale(0.015625)\"/>\n       <path id=\"DejaVuSans-29\" d=\"M 513 4856 \nL 1013 4856 \nQ 1481 4119 1714 3412 \nQ 1947 2706 1947 2009 \nQ 1947 1309 1714 600 \nQ 1481 -109 1013 -844 \nL 513 -844 \nQ 928 -128 1133 580 \nQ 1338 1288 1338 2009 \nQ 1338 2731 1133 3434 \nQ 928 4138 513 4856 \nz\n\" transform=\"scale(0.015625)\"/>\n      </defs>\n      <use xlink:href=\"#DejaVuSans-52\"/>\n      <use xlink:href=\"#DejaVuSans-65\" x=\"64.982422\"/>\n      <use xlink:href=\"#DejaVuSans-6c\" x=\"126.505859\"/>\n      <use xlink:href=\"#DejaVuSans-75\" x=\"154.289062\"/>\n      <use xlink:href=\"#DejaVuSans-28\" x=\"217.667969\"/>\n      <use xlink:href=\"#DejaVuSans-78\" x=\"256.681641\"/>\n      <use xlink:href=\"#DejaVuSans-29\" x=\"315.861328\"/>\n     </g>\n    </g>\n   </g>\n   <g id=\"line2d_19\">\n    <path d=\"M 64.612716 174.206289 \nL 66.91354 174.155499 \nL 69.214364 174.098204 \nL 71.515198 174.033574 \nL 73.816022 173.960679 \nL 76.116846 173.878471 \nL 78.41768 173.785771 \nL 80.718504 173.681255 \nL 83.019328 173.563435 \nL 85.320152 173.430643 \nL 87.620977 173.281005 \nL 89.92181 173.112422 \nL 92.222634 172.922546 \nL 94.523458 172.708748 \nL 96.824292 172.468091 \nL 99.125116 172.197303 \nL 101.42594 171.892736 \nL 103.726764 171.550333 \nL 106.027593 171.165595 \nL 108.328422 170.73354 \nL 110.629246 170.24867 \nL 112.93007 169.704926 \nL 115.230899 169.095663 \nL 117.531728 168.413621 \nL 119.832552 167.650895 \nL 122.133377 166.798931 \nL 124.434205 165.848512 \nL 126.735034 164.789797 \nL 129.035858 163.612343 \nL 131.336683 162.305168 \nL 133.637511 160.856858 \nL 135.93834 159.255703 \nL 138.239164 157.489876 \nL 140.539991 155.547646 \nL 142.840817 153.417687 \nL 145.141644 151.089388 \nL 147.44247 148.553263 \nL 149.743297 145.801368 \nL 152.044123 142.82779 \nL 154.34495 139.629126 \nL 156.645777 136.204993 \nL 158.946603 132.558489 \nL 161.24743 128.696567 \nL 163.548256 124.630387 \nL 165.849083 120.375453 \nL 168.149909 115.951612 \nL 170.450736 111.382882 \nL 172.751562 106.697079 \nL 175.052389 101.925191 \nL 177.353215 97.10064 \nL 179.654042 92.258368 \nL 181.954868 87.433812 \nL 184.255695 82.661934 \nL 186.556521 77.976126 \nL 188.857348 73.407401 \nL 191.158174 68.98356 \nL 193.458992 64.728641 \nL 195.759818 60.66246 \nL 198.060645 56.800539 \nL 200.361471 53.154032 \nL 202.662298 49.729897 \nL 204.963124 46.531238 \nL 207.263951 43.557665 \nL 209.564777 40.805767 \nL 211.865604 38.269637 \nL 214.16643 35.941339 \nL 216.467257 33.811383 \nL 218.768086 31.869156 \nL 221.06891 30.103329 \nL 223.369734 28.502175 \nL 225.670563 27.05387 \nL 227.971392 25.746676 \nL 230.272216 24.569217 \nL 232.57304 23.510508 \nL 234.873869 22.560098 \nL 237.174698 21.708125 \nL 239.475522 20.945415 \nL 241.776346 20.263354 \nL 244.077175 19.654093 \nL 246.378004 19.110343 \nL 248.678828 18.625472 \nL 250.979652 18.19344 \nL 253.280481 17.808684 \nL 255.58131 17.466296 \nL 257.882134 17.161713 \nL 260.182958 16.890934 \nL 262.483783 16.65027 \nL 264.784616 16.436474 \nL 267.08544 16.246602 \nL 269.386264 16.078014 \nL 271.687098 15.928376 \nL 273.987922 15.795592 \nL 276.288746 15.677766 \nL 278.58957 15.57325 \nL 280.890395 15.480548 \nL 283.191228 15.398345 \nL 285.492052 15.325441 \nL 287.792886 15.260826 \nL 290.09371 15.203528 \nL 292.394534 15.152727 \n\" clip-path=\"url(#p129ae198b7)\" style=\"fill: none; stroke: #008fd5; stroke-width: 4\"/>\n   </g>\n   <g id=\"line2d_20\">\n    <path d=\"M 64.612716 174.207266 \nL 66.91354 174.156744 \nL 69.214364 174.099788 \nL 71.515198 174.035592 \nL 73.816022 173.963248 \nL 76.116846 173.881742 \nL 78.41768 173.789934 \nL 80.718504 173.686553 \nL 83.019328 173.570177 \nL 85.320152 173.43922 \nL 87.620977 173.291914 \nL 89.92181 173.126294 \nL 92.222634 172.940181 \nL 94.523458 172.731161 \nL 96.824292 172.496566 \nL 99.125116 172.233465 \nL 101.42594 171.93864 \nL 103.726764 171.608576 \nL 106.027593 171.239452 \nL 108.328422 170.82714 \nL 110.629246 170.367206 \nL 112.93007 169.854927 \nL 115.230899 169.285314 \nL 117.531728 168.653168 \nL 119.832552 167.953135 \nL 122.133377 167.179805 \nL 124.434205 166.327825 \nL 126.735034 165.392072 \nL 129.035858 164.367843 \nL 131.336683 163.251092 \nL 133.637511 162.038734 \nL 135.93834 160.728977 \nL 138.239164 159.321714 \nL 140.539991 157.818924 \nL 142.840817 156.225142 \nL 145.141644 154.547887 \nL 147.44247 152.7981 \nL 149.743297 150.990482 \nL 152.044123 149.14376 \nL 154.34495 147.280763 \nL 156.645777 145.428318 \nL 158.946603 143.616874 \nL 161.24743 141.879823 \nL 163.548256 140.252581 \nL 165.849083 138.771303 \nL 168.149909 137.471417 \nL 170.450736 136.385986 \nL 172.751562 135.544036 \nL 175.052389 134.968961 \nL 177.353215 134.677188 \nL 179.654042 134.67719 \nL 181.954868 134.968964 \nL 184.255695 135.544036 \nL 186.556521 136.385988 \nL 188.857348 137.471419 \nL 191.158174 138.771306 \nL 193.458992 140.252581 \nL 195.759818 141.879823 \nL 198.060645 143.616872 \nL 200.361471 145.428318 \nL 202.662298 147.280763 \nL 204.963124 149.143758 \nL 207.263951 150.990477 \nL 209.564777 152.798095 \nL 211.865604 154.547887 \nL 214.16643 156.22514 \nL 216.467257 157.818919 \nL 218.768086 159.321708 \nL 221.06891 160.72897 \nL 223.369734 162.038725 \nL 225.670563 163.251079 \nL 227.971392 164.367846 \nL 230.272216 165.392079 \nL 232.57304 166.327827 \nL 234.873869 167.1798 \nL 237.174698 167.953138 \nL 239.475522 168.653156 \nL 241.776346 169.285318 \nL 244.077175 169.85493 \nL 246.378004 170.367216 \nL 248.678828 170.82715 \nL 250.979652 171.23944 \nL 253.280481 171.608581 \nL 255.58131 171.938631 \nL 257.882134 172.233471 \nL 260.182958 172.496564 \nL 262.483783 172.731165 \nL 264.784616 172.940184 \nL 267.08544 173.126293 \nL 269.386264 173.291918 \nL 271.687098 173.439224 \nL 273.987922 173.570173 \nL 276.288746 173.686555 \nL 278.58957 173.789936 \nL 280.890395 173.881746 \nL 283.191228 173.963247 \nL 285.492052 174.0356 \nL 287.792886 174.099782 \nL 290.09371 174.15674 \nL 292.394534 174.207273 \n\" clip-path=\"url(#p129ae198b7)\" style=\"fill: none; stroke-dasharray: 14.8,6.4; stroke-dashoffset: 0; stroke: #fc4f30; stroke-width: 4\"/>\n   </g>\n   <g id=\"patch_3\">\n    <path d=\"M 53.223625 182.16 \nL 53.223625 7.2 \n\" style=\"fill: none; stroke: #f0f0f0; stroke-width: 3; stroke-linejoin: miter; stroke-linecap: square\"/>\n   </g>\n   <g id=\"patch_4\">\n    <path d=\"M 303.783625 182.16 \nL 303.783625 7.2 \n\" style=\"fill: none; stroke: #f0f0f0; stroke-width: 3; stroke-linejoin: miter; stroke-linecap: square\"/>\n   </g>\n   <g id=\"patch_5\">\n    <path d=\"M 53.223625 182.16 \nL 303.783625 182.16 \n\" style=\"fill: none; stroke: #f0f0f0; stroke-width: 3; stroke-linejoin: miter; stroke-linecap: square\"/>\n   </g>\n   <g id=\"patch_6\">\n    <path d=\"M 53.223625 7.2 \nL 303.783625 7.2 \n\" style=\"fill: none; stroke: #f0f0f0; stroke-width: 3; stroke-linejoin: miter; stroke-linecap: square\"/>\n   </g>\n   <g id=\"legend_1\">\n    <g id=\"patch_7\">\n     <path d=\"M 63.023625 59.49875 \nL 179.409562 59.49875 \nQ 182.209563 59.49875 182.209563 56.69875 \nL 182.209563 17 \nQ 182.209563 14.2 179.409562 14.2 \nL 63.023625 14.2 \nQ 60.223625 14.2 60.223625 17 \nL 60.223625 56.69875 \nQ 60.223625 59.49875 63.023625 59.49875 \nz\n\" style=\"fill: #f0f0f0; opacity: 0.8; stroke: #cccccc; stroke-width: 0.5; stroke-linejoin: miter\"/>\n    </g>\n    <g id=\"line2d_21\">\n     <path d=\"M 65.823625 25.537813 \nL 79.823625 25.537813 \nL 93.823625 25.537813 \n\" style=\"fill: none; stroke: #008fd5; stroke-width: 4\"/>\n    </g>\n    <g id=\"text_12\">\n     <!-- f = relu(x) -->\n     <g transform=\"translate(105.023625 30.437813) scale(0.14 -0.14)\">\n      <defs>\n       <path id=\"DejaVuSans-66\" d=\"M 2375 4863 \nL 2375 4384 \nL 1825 4384 \nQ 1516 4384 1395 4259 \nQ 1275 4134 1275 3809 \nL 1275 3500 \nL 2222 3500 \nL 2222 3053 \nL 1275 3053 \nL 1275 0 \nL 697 0 \nL 697 3053 \nL 147 3053 \nL 147 3500 \nL 697 3500 \nL 697 3744 \nQ 697 4328 969 4595 \nQ 1241 4863 1831 4863 \nL 2375 4863 \nz\n\" transform=\"scale(0.015625)\"/>\n       <path id=\"DejaVuSans-20\" transform=\"scale(0.015625)\"/>\n       <path id=\"DejaVuSans-3d\" d=\"M 678 2906 \nL 4684 2906 \nL 4684 2381 \nL 678 2381 \nL 678 2906 \nz\nM 678 1631 \nL 4684 1631 \nL 4684 1100 \nL 678 1100 \nL 678 1631 \nz\n\" transform=\"scale(0.015625)\"/>\n       <path id=\"DejaVuSans-72\" d=\"M 2631 2963 \nQ 2534 3019 2420 3045 \nQ 2306 3072 2169 3072 \nQ 1681 3072 1420 2755 \nQ 1159 2438 1159 1844 \nL 1159 0 \nL 581 0 \nL 581 3500 \nL 1159 3500 \nL 1159 2956 \nQ 1341 3275 1631 3429 \nQ 1922 3584 2338 3584 \nQ 2397 3584 2469 3576 \nQ 2541 3569 2628 3553 \nL 2631 2963 \nz\n\" transform=\"scale(0.015625)\"/>\n      </defs>\n      <use xlink:href=\"#DejaVuSans-66\"/>\n      <use xlink:href=\"#DejaVuSans-20\" x=\"35.205078\"/>\n      <use xlink:href=\"#DejaVuSans-3d\" x=\"66.992188\"/>\n      <use xlink:href=\"#DejaVuSans-20\" x=\"150.78125\"/>\n      <use xlink:href=\"#DejaVuSans-72\" x=\"182.568359\"/>\n      <use xlink:href=\"#DejaVuSans-65\" x=\"221.431641\"/>\n      <use xlink:href=\"#DejaVuSans-6c\" x=\"282.955078\"/>\n      <use xlink:href=\"#DejaVuSans-75\" x=\"310.738281\"/>\n      <use xlink:href=\"#DejaVuSans-28\" x=\"374.117188\"/>\n      <use xlink:href=\"#DejaVuSans-78\" x=\"413.130859\"/>\n      <use xlink:href=\"#DejaVuSans-29\" x=\"472.310547\"/>\n     </g>\n    </g>\n    <g id=\"line2d_22\">\n     <path d=\"M 65.823625 46.087188 \nL 79.823625 46.087188 \nL 93.823625 46.087188 \n\" style=\"fill: none; stroke-dasharray: 14.8,6.4; stroke-dashoffset: 0; stroke: #fc4f30; stroke-width: 4\"/>\n    </g>\n    <g id=\"text_13\">\n     <!-- df/dx -->\n     <g transform=\"translate(105.023625 50.987188) scale(0.14 -0.14)\">\n      <defs>\n       <path id=\"DejaVuSans-64\" d=\"M 2906 2969 \nL 2906 4863 \nL 3481 4863 \nL 3481 0 \nL 2906 0 \nL 2906 525 \nQ 2725 213 2448 61 \nQ 2172 -91 1784 -91 \nQ 1150 -91 751 415 \nQ 353 922 353 1747 \nQ 353 2572 751 3078 \nQ 1150 3584 1784 3584 \nQ 2172 3584 2448 3432 \nQ 2725 3281 2906 2969 \nz\nM 947 1747 \nQ 947 1113 1208 752 \nQ 1469 391 1925 391 \nQ 2381 391 2643 752 \nQ 2906 1113 2906 1747 \nQ 2906 2381 2643 2742 \nQ 2381 3103 1925 3103 \nQ 1469 3103 1208 2742 \nQ 947 2381 947 1747 \nz\n\" transform=\"scale(0.015625)\"/>\n       <path id=\"DejaVuSans-2f\" d=\"M 1625 4666 \nL 2156 4666 \nL 531 -594 \nL 0 -594 \nL 1625 4666 \nz\n\" transform=\"scale(0.015625)\"/>\n      </defs>\n      <use xlink:href=\"#DejaVuSans-64\"/>\n      <use xlink:href=\"#DejaVuSans-66\" x=\"63.476562\"/>\n      <use xlink:href=\"#DejaVuSans-2f\" x=\"98.681641\"/>\n      <use xlink:href=\"#DejaVuSans-64\" x=\"132.373047\"/>\n      <use xlink:href=\"#DejaVuSans-78\" x=\"195.849609\"/>\n     </g>\n    </g>\n   </g>\n  </g>\n </g>\n <defs>\n  <clipPath id=\"p129ae198b7\">\n   <rect x=\"53.223625\" y=\"7.2\" width=\"250.56\" height=\"174.96\"/>\n  </clipPath>\n </defs>\n</svg>\n",
      "text/plain": [
       "<Figure size 400x300 with 1 Axes>"
      ]
     },
     "metadata": {},
     "output_type": "display_data"
    }
   ],
   "source": [
    "plt.figure(figsize=(4,3))\n",
    "x = torch.linspace(-6.0, 6.0, 100, requires_grad=True)\n",
    "y = torch.sigmoid(x)\n",
    "y.backward(torch.ones_like(x))\n",
    "\n",
    "plt.plot(x.detach(), y.detach(), label='f = relu(x)');\n",
    "plt.plot(x.detach(), x.grad.detach(), 'C1--', label='df/dx');\n",
    "plt.xlabel('x')\n",
    "plt.ylabel('Relu(x)')\n",
    "plt.legend();\n"
   ]
  },
  {
   "cell_type": "code",
   "execution_count": 91,
   "metadata": {},
   "outputs": [
    {
     "data": {
      "image/svg+xml": "<?xml version=\"1.0\" encoding=\"utf-8\" standalone=\"no\"?>\n<!DOCTYPE svg PUBLIC \"-//W3C//DTD SVG 1.1//EN\"\n  \"http://www.w3.org/Graphics/SVG/1.1/DTD/svg11.dtd\">\n<svg xmlns:xlink=\"http://www.w3.org/1999/xlink\" width=\"322.715187pt\" height=\"226.668625pt\" viewBox=\"0 0 322.715187 226.668625\" xmlns=\"http://www.w3.org/2000/svg\" version=\"1.1\">\n <metadata>\n  <rdf:RDF xmlns:dc=\"http://purl.org/dc/elements/1.1/\" xmlns:cc=\"http://creativecommons.org/ns#\" xmlns:rdf=\"http://www.w3.org/1999/02/22-rdf-syntax-ns#\">\n   <cc:Work>\n    <dc:type rdf:resource=\"http://purl.org/dc/dcmitype/StillImage\"/>\n    <dc:date>2023-01-21T08:13:40.796006</dc:date>\n    <dc:format>image/svg+xml</dc:format>\n    <dc:creator>\n     <cc:Agent>\n      <dc:title>Matplotlib v3.6.3, https://matplotlib.org/</dc:title>\n     </cc:Agent>\n    </dc:creator>\n   </cc:Work>\n  </rdf:RDF>\n </metadata>\n <defs>\n  <style type=\"text/css\">*{stroke-linejoin: round; stroke-linecap: butt}</style>\n </defs>\n <g id=\"figure_1\">\n  <g id=\"patch_1\">\n   <path d=\"M 0 226.668625 \nL 322.715187 226.668625 \nL 322.715187 0 \nL 0 0 \nz\n\" style=\"fill: #f0f0f0\"/>\n  </g>\n  <g id=\"axes_1\">\n   <g id=\"patch_2\">\n    <path d=\"M 64.955188 182.16 \nL 315.515187 182.16 \nL 315.515187 7.2 \nL 64.955188 7.2 \nz\n\" style=\"fill: #f0f0f0\"/>\n   </g>\n   <g id=\"matplotlib.axis_1\">\n    <g id=\"xtick_1\">\n     <g id=\"line2d_1\">\n      <path d=\"M 95.326097 182.16 \nL 95.326097 7.2 \n\" clip-path=\"url(#p24f22e17e7)\" style=\"fill: none; stroke: #cbcbcb\"/>\n     </g>\n     <g id=\"line2d_2\"/>\n     <g id=\"text_1\">\n      <!-- −5 -->\n      <g transform=\"translate(85.006565 196.297813) scale(0.14 -0.14)\">\n       <defs>\n        <path id=\"DejaVuSans-2212\" d=\"M 678 2272 \nL 4684 2272 \nL 4684 1741 \nL 678 1741 \nL 678 2272 \nz\n\" transform=\"scale(0.015625)\"/>\n        <path id=\"DejaVuSans-35\" d=\"M 691 4666 \nL 3169 4666 \nL 3169 4134 \nL 1269 4134 \nL 1269 2991 \nQ 1406 3038 1543 3061 \nQ 1681 3084 1819 3084 \nQ 2600 3084 3056 2656 \nQ 3513 2228 3513 1497 \nQ 3513 744 3044 326 \nQ 2575 -91 1722 -91 \nQ 1428 -91 1123 -41 \nQ 819 9 494 109 \nL 494 744 \nQ 775 591 1075 516 \nQ 1375 441 1709 441 \nQ 2250 441 2565 725 \nQ 2881 1009 2881 1497 \nQ 2881 1984 2565 2268 \nQ 2250 2553 1709 2553 \nQ 1456 2553 1204 2497 \nQ 953 2441 691 2322 \nL 691 4666 \nz\n\" transform=\"scale(0.015625)\"/>\n       </defs>\n       <use xlink:href=\"#DejaVuSans-2212\"/>\n       <use xlink:href=\"#DejaVuSans-35\" x=\"83.789062\"/>\n      </g>\n     </g>\n    </g>\n    <g id=\"xtick_2\">\n     <g id=\"line2d_3\">\n      <path d=\"M 190.235187 182.16 \nL 190.235187 7.2 \n\" clip-path=\"url(#p24f22e17e7)\" style=\"fill: none; stroke: #cbcbcb\"/>\n     </g>\n     <g id=\"line2d_4\"/>\n     <g id=\"text_2\">\n      <!-- 0 -->\n      <g transform=\"translate(185.781437 196.297813) scale(0.14 -0.14)\">\n       <defs>\n        <path id=\"DejaVuSans-30\" d=\"M 2034 4250 \nQ 1547 4250 1301 3770 \nQ 1056 3291 1056 2328 \nQ 1056 1369 1301 889 \nQ 1547 409 2034 409 \nQ 2525 409 2770 889 \nQ 3016 1369 3016 2328 \nQ 3016 3291 2770 3770 \nQ 2525 4250 2034 4250 \nz\nM 2034 4750 \nQ 2819 4750 3233 4129 \nQ 3647 3509 3647 2328 \nQ 3647 1150 3233 529 \nQ 2819 -91 2034 -91 \nQ 1250 -91 836 529 \nQ 422 1150 422 2328 \nQ 422 3509 836 4129 \nQ 1250 4750 2034 4750 \nz\n\" transform=\"scale(0.015625)\"/>\n       </defs>\n       <use xlink:href=\"#DejaVuSans-30\"/>\n      </g>\n     </g>\n    </g>\n    <g id=\"xtick_3\">\n     <g id=\"line2d_5\">\n      <path d=\"M 285.144278 182.16 \nL 285.144278 7.2 \n\" clip-path=\"url(#p24f22e17e7)\" style=\"fill: none; stroke: #cbcbcb\"/>\n     </g>\n     <g id=\"line2d_6\"/>\n     <g id=\"text_3\">\n      <!-- 5 -->\n      <g transform=\"translate(280.690528 196.297813) scale(0.14 -0.14)\">\n       <use xlink:href=\"#DejaVuSans-35\"/>\n      </g>\n     </g>\n    </g>\n    <g id=\"text_4\">\n     <!-- x -->\n     <g transform=\"translate(185.263438 215.97475) scale(0.168 -0.168)\">\n      <defs>\n       <path id=\"DejaVuSans-78\" d=\"M 3513 3500 \nL 2247 1797 \nL 3578 0 \nL 2900 0 \nL 1881 1375 \nL 863 0 \nL 184 0 \nL 1544 1831 \nL 300 3500 \nL 978 3500 \nL 1906 2253 \nL 2834 3500 \nL 3513 3500 \nz\n\" transform=\"scale(0.015625)\"/>\n      </defs>\n      <use xlink:href=\"#DejaVuSans-78\"/>\n     </g>\n    </g>\n   </g>\n   <g id=\"matplotlib.axis_2\">\n    <g id=\"ytick_1\">\n     <g id=\"line2d_7\">\n      <path d=\"M 64.955188 174.208249 \nL 315.515187 174.208249 \n\" clip-path=\"url(#p24f22e17e7)\" style=\"fill: none; stroke: #cbcbcb\"/>\n     </g>\n     <g id=\"line2d_8\"/>\n     <g id=\"text_5\">\n      <!-- −1.0 -->\n      <g transform=\"translate(27.45925 179.527155) scale(0.14 -0.14)\">\n       <defs>\n        <path id=\"DejaVuSans-31\" d=\"M 794 531 \nL 1825 531 \nL 1825 4091 \nL 703 3866 \nL 703 4441 \nL 1819 4666 \nL 2450 4666 \nL 2450 531 \nL 3481 531 \nL 3481 0 \nL 794 0 \nL 794 531 \nz\n\" transform=\"scale(0.015625)\"/>\n        <path id=\"DejaVuSans-2e\" d=\"M 684 794 \nL 1344 794 \nL 1344 0 \nL 684 0 \nL 684 794 \nz\n\" transform=\"scale(0.015625)\"/>\n       </defs>\n       <use xlink:href=\"#DejaVuSans-2212\"/>\n       <use xlink:href=\"#DejaVuSans-31\" x=\"83.789062\"/>\n       <use xlink:href=\"#DejaVuSans-2e\" x=\"147.412109\"/>\n       <use xlink:href=\"#DejaVuSans-30\" x=\"179.199219\"/>\n      </g>\n     </g>\n    </g>\n    <g id=\"ytick_2\">\n     <g id=\"line2d_9\">\n      <path d=\"M 64.955188 134.444125 \nL 315.515187 134.444125 \n\" clip-path=\"url(#p24f22e17e7)\" style=\"fill: none; stroke: #cbcbcb\"/>\n     </g>\n     <g id=\"line2d_10\"/>\n     <g id=\"text_6\">\n      <!-- −0.5 -->\n      <g transform=\"translate(27.45925 139.763031) scale(0.14 -0.14)\">\n       <use xlink:href=\"#DejaVuSans-2212\"/>\n       <use xlink:href=\"#DejaVuSans-30\" x=\"83.789062\"/>\n       <use xlink:href=\"#DejaVuSans-2e\" x=\"147.412109\"/>\n       <use xlink:href=\"#DejaVuSans-35\" x=\"179.199219\"/>\n      </g>\n     </g>\n    </g>\n    <g id=\"ytick_3\">\n     <g id=\"line2d_11\">\n      <path d=\"M 64.955188 94.68 \nL 315.515187 94.68 \n\" clip-path=\"url(#p24f22e17e7)\" style=\"fill: none; stroke: #cbcbcb\"/>\n     </g>\n     <g id=\"line2d_12\"/>\n     <g id=\"text_7\">\n      <!-- 0.0 -->\n      <g transform=\"translate(39.190813 99.998906) scale(0.14 -0.14)\">\n       <use xlink:href=\"#DejaVuSans-30\"/>\n       <use xlink:href=\"#DejaVuSans-2e\" x=\"63.623047\"/>\n       <use xlink:href=\"#DejaVuSans-30\" x=\"95.410156\"/>\n      </g>\n     </g>\n    </g>\n    <g id=\"ytick_4\">\n     <g id=\"line2d_13\">\n      <path d=\"M 64.955188 54.915875 \nL 315.515187 54.915875 \n\" clip-path=\"url(#p24f22e17e7)\" style=\"fill: none; stroke: #cbcbcb\"/>\n     </g>\n     <g id=\"line2d_14\"/>\n     <g id=\"text_8\">\n      <!-- 0.5 -->\n      <g transform=\"translate(39.190813 60.234782) scale(0.14 -0.14)\">\n       <use xlink:href=\"#DejaVuSans-30\"/>\n       <use xlink:href=\"#DejaVuSans-2e\" x=\"63.623047\"/>\n       <use xlink:href=\"#DejaVuSans-35\" x=\"95.410156\"/>\n      </g>\n     </g>\n    </g>\n    <g id=\"ytick_5\">\n     <g id=\"line2d_15\">\n      <path d=\"M 64.955188 15.151751 \nL 315.515187 15.151751 \n\" clip-path=\"url(#p24f22e17e7)\" style=\"fill: none; stroke: #cbcbcb\"/>\n     </g>\n     <g id=\"line2d_16\"/>\n     <g id=\"text_9\">\n      <!-- 1.0 -->\n      <g transform=\"translate(39.190813 20.470657) scale(0.14 -0.14)\">\n       <use xlink:href=\"#DejaVuSans-31\"/>\n       <use xlink:href=\"#DejaVuSans-2e\" x=\"63.623047\"/>\n       <use xlink:href=\"#DejaVuSans-30\" x=\"95.410156\"/>\n      </g>\n     </g>\n    </g>\n    <g id=\"text_10\">\n     <!-- Relu(x) -->\n     <g transform=\"translate(19.965375 124.490813) rotate(-90) scale(0.168 -0.168)\">\n      <defs>\n       <path id=\"DejaVuSans-52\" d=\"M 2841 2188 \nQ 3044 2119 3236 1894 \nQ 3428 1669 3622 1275 \nL 4263 0 \nL 3584 0 \nL 2988 1197 \nQ 2756 1666 2539 1819 \nQ 2322 1972 1947 1972 \nL 1259 1972 \nL 1259 0 \nL 628 0 \nL 628 4666 \nL 2053 4666 \nQ 2853 4666 3247 4331 \nQ 3641 3997 3641 3322 \nQ 3641 2881 3436 2590 \nQ 3231 2300 2841 2188 \nz\nM 1259 4147 \nL 1259 2491 \nL 2053 2491 \nQ 2509 2491 2742 2702 \nQ 2975 2913 2975 3322 \nQ 2975 3731 2742 3939 \nQ 2509 4147 2053 4147 \nL 1259 4147 \nz\n\" transform=\"scale(0.015625)\"/>\n       <path id=\"DejaVuSans-65\" d=\"M 3597 1894 \nL 3597 1613 \nL 953 1613 \nQ 991 1019 1311 708 \nQ 1631 397 2203 397 \nQ 2534 397 2845 478 \nQ 3156 559 3463 722 \nL 3463 178 \nQ 3153 47 2828 -22 \nQ 2503 -91 2169 -91 \nQ 1331 -91 842 396 \nQ 353 884 353 1716 \nQ 353 2575 817 3079 \nQ 1281 3584 2069 3584 \nQ 2775 3584 3186 3129 \nQ 3597 2675 3597 1894 \nz\nM 3022 2063 \nQ 3016 2534 2758 2815 \nQ 2500 3097 2075 3097 \nQ 1594 3097 1305 2825 \nQ 1016 2553 972 2059 \nL 3022 2063 \nz\n\" transform=\"scale(0.015625)\"/>\n       <path id=\"DejaVuSans-6c\" d=\"M 603 4863 \nL 1178 4863 \nL 1178 0 \nL 603 0 \nL 603 4863 \nz\n\" transform=\"scale(0.015625)\"/>\n       <path id=\"DejaVuSans-75\" d=\"M 544 1381 \nL 544 3500 \nL 1119 3500 \nL 1119 1403 \nQ 1119 906 1312 657 \nQ 1506 409 1894 409 \nQ 2359 409 2629 706 \nQ 2900 1003 2900 1516 \nL 2900 3500 \nL 3475 3500 \nL 3475 0 \nL 2900 0 \nL 2900 538 \nQ 2691 219 2414 64 \nQ 2138 -91 1772 -91 \nQ 1169 -91 856 284 \nQ 544 659 544 1381 \nz\nM 1991 3584 \nL 1991 3584 \nz\n\" transform=\"scale(0.015625)\"/>\n       <path id=\"DejaVuSans-28\" d=\"M 1984 4856 \nQ 1566 4138 1362 3434 \nQ 1159 2731 1159 2009 \nQ 1159 1288 1364 580 \nQ 1569 -128 1984 -844 \nL 1484 -844 \nQ 1016 -109 783 600 \nQ 550 1309 550 2009 \nQ 550 2706 781 3412 \nQ 1013 4119 1484 4856 \nL 1984 4856 \nz\n\" transform=\"scale(0.015625)\"/>\n       <path id=\"DejaVuSans-29\" d=\"M 513 4856 \nL 1013 4856 \nQ 1481 4119 1714 3412 \nQ 1947 2706 1947 2009 \nQ 1947 1309 1714 600 \nQ 1481 -109 1013 -844 \nL 513 -844 \nQ 928 -128 1133 580 \nQ 1338 1288 1338 2009 \nQ 1338 2731 1133 3434 \nQ 928 4138 513 4856 \nz\n\" transform=\"scale(0.015625)\"/>\n      </defs>\n      <use xlink:href=\"#DejaVuSans-52\"/>\n      <use xlink:href=\"#DejaVuSans-65\" x=\"64.982422\"/>\n      <use xlink:href=\"#DejaVuSans-6c\" x=\"126.505859\"/>\n      <use xlink:href=\"#DejaVuSans-75\" x=\"154.289062\"/>\n      <use xlink:href=\"#DejaVuSans-28\" x=\"217.667969\"/>\n      <use xlink:href=\"#DejaVuSans-78\" x=\"256.681641\"/>\n      <use xlink:href=\"#DejaVuSans-29\" x=\"315.861328\"/>\n     </g>\n    </g>\n   </g>\n   <g id=\"line2d_17\">\n    <path d=\"M 76.344278 174.207273 \nL 78.645103 174.207003 \nL 80.945927 174.206661 \nL 83.24676 174.206225 \nL 85.547584 174.205671 \nL 87.848409 174.204964 \nL 90.149242 174.204064 \nL 92.450066 174.202916 \nL 94.750891 174.201452 \nL 97.051715 174.199589 \nL 99.352539 174.197214 \nL 101.653372 174.194185 \nL 103.954197 174.190326 \nL 106.255021 174.185411 \nL 108.555854 174.179149 \nL 110.856678 174.171166 \nL 113.157503 174.160998 \nL 115.458327 174.148039 \nL 117.759156 174.131528 \nL 120.059984 174.110496 \nL 122.360809 174.083699 \nL 124.661633 174.049565 \nL 126.962462 174.006087 \nL 129.263291 173.950716 \nL 131.564115 173.880209 \nL 133.864939 173.790453 \nL 136.165768 173.676222 \nL 138.466597 173.530891 \nL 140.767421 173.346073 \nL 143.068245 173.111179 \nL 145.369074 172.812856 \nL 147.669903 172.434323 \nL 149.970727 171.954567 \nL 152.271553 171.347426 \nL 154.57238 170.5805 \nL 156.873206 169.614029 \nL 159.174033 168.399704 \nL 161.474859 166.879638 \nL 163.775686 164.985722 \nL 166.076512 162.639676 \nL 168.377339 159.754417 \nL 170.678166 156.237234 \nL 172.978992 151.995656 \nL 175.279819 146.946409 \nL 177.580645 141.027701 \nL 179.881472 134.21394 \nL 182.182298 126.530926 \nL 184.483125 118.067918 \nL 186.783951 108.982412 \nL 189.084778 99.493987 \nL 191.385604 89.865984 \nL 193.686431 80.37756 \nL 195.987257 71.292056 \nL 198.288084 62.82905 \nL 200.58891 55.146038 \nL 202.889737 48.332285 \nL 205.190554 42.413595 \nL 207.491381 37.364349 \nL 209.792207 33.122771 \nL 212.093034 29.605588 \nL 214.39386 26.720324 \nL 216.694687 24.374283 \nL 218.995513 22.480362 \nL 221.29634 20.960296 \nL 223.597166 19.745971 \nL 225.897993 18.7795 \nL 228.198819 18.012574 \nL 230.499648 17.405433 \nL 232.800472 16.925677 \nL 235.101297 16.547144 \nL 237.402125 16.248821 \nL 239.702954 16.013927 \nL 242.003778 15.829109 \nL 244.304603 15.683778 \nL 246.605431 15.569547 \nL 248.90626 15.479791 \nL 251.207084 15.409284 \nL 253.507909 15.353913 \nL 255.808738 15.310435 \nL 258.109566 15.276301 \nL 260.410391 15.249504 \nL 262.711215 15.228472 \nL 265.012044 15.211961 \nL 267.312872 15.199002 \nL 269.613697 15.188834 \nL 271.914521 15.180851 \nL 274.215345 15.174589 \nL 276.516178 15.169674 \nL 278.817003 15.165815 \nL 281.117827 15.162786 \nL 283.41866 15.160411 \nL 285.719484 15.158548 \nL 288.020309 15.157084 \nL 290.321133 15.155936 \nL 292.621957 15.155036 \nL 294.922791 15.154329 \nL 297.223615 15.153775 \nL 299.524448 15.153339 \nL 301.825272 15.152997 \nL 304.126097 15.152727 \n\" clip-path=\"url(#p24f22e17e7)\" style=\"fill: none; stroke: #008fd5; stroke-width: 4\"/>\n   </g>\n   <g id=\"line2d_18\">\n    <path d=\"M 76.344278 94.678047 \nL 78.645103 94.677507 \nL 80.945927 94.676824 \nL 83.24676 94.675952 \nL 85.547584 94.674843 \nL 87.848409 94.67343 \nL 90.149242 94.671629 \nL 92.450066 94.669334 \nL 94.750891 94.666405 \nL 97.051715 94.662679 \nL 99.352539 94.657929 \nL 101.653372 94.651876 \nL 103.954197 94.644159 \nL 106.255021 94.634328 \nL 108.555854 94.621809 \nL 110.856678 94.605853 \nL 113.157503 94.585527 \nL 115.458327 94.559626 \nL 117.759156 94.526634 \nL 120.059984 94.484612 \nL 122.360809 94.431094 \nL 124.661633 94.362948 \nL 126.962462 94.276187 \nL 129.263291 94.165768 \nL 131.564115 94.025272 \nL 133.864939 93.846602 \nL 136.165768 93.619506 \nL 138.466597 93.331052 \nL 140.767421 92.964995 \nL 143.068245 92.500996 \nL 145.369074 91.913697 \nL 147.669903 91.171715 \nL 149.970727 90.236501 \nL 152.271553 89.061264 \nL 154.57238 87.589985 \nL 156.873206 85.756962 \nL 159.174033 83.487153 \nL 161.474859 80.698116 \nL 163.775686 77.304441 \nL 166.076512 73.225676 \nL 168.377339 68.399241 \nL 170.678166 62.798883 \nL 172.978992 56.458889 \nL 175.279819 49.50153 \nL 177.580645 42.162395 \nL 179.881472 34.804295 \nL 182.182298 27.90799 \nL 184.483125 22.029744 \nL 186.783951 17.723907 \nL 189.084778 15.443148 \nL 191.385604 15.443153 \nL 193.686431 17.723916 \nL 195.987257 22.029758 \nL 198.288084 27.908009 \nL 200.58891 34.804318 \nL 202.889737 42.162414 \nL 205.190554 49.50152 \nL 207.491381 56.458885 \nL 209.792207 62.798878 \nL 212.093034 68.399231 \nL 214.39386 73.225676 \nL 216.694687 77.304432 \nL 218.995513 80.698116 \nL 221.29634 83.487153 \nL 223.597166 85.756962 \nL 225.897993 87.589985 \nL 228.198819 89.061264 \nL 230.499648 90.236501 \nL 232.800472 91.171715 \nL 235.101297 91.913697 \nL 237.402125 92.500996 \nL 239.702954 92.964995 \nL 242.003778 93.331052 \nL 244.304603 93.619506 \nL 246.605431 93.846602 \nL 248.90626 94.025272 \nL 251.207084 94.165768 \nL 253.507909 94.276187 \nL 255.808738 94.362948 \nL 258.109566 94.431094 \nL 260.410391 94.484612 \nL 262.711215 94.526634 \nL 265.012044 94.559626 \nL 267.312872 94.585527 \nL 269.613697 94.605853 \nL 271.914521 94.621809 \nL 274.215345 94.634328 \nL 276.516178 94.644159 \nL 278.817003 94.651876 \nL 281.117827 94.657929 \nL 283.41866 94.662679 \nL 285.719484 94.666405 \nL 288.020309 94.669334 \nL 290.321133 94.671629 \nL 292.621957 94.67343 \nL 294.922791 94.674843 \nL 297.223615 94.675952 \nL 299.524448 94.676824 \nL 301.825272 94.677507 \nL 304.126097 94.678047 \n\" clip-path=\"url(#p24f22e17e7)\" style=\"fill: none; stroke-dasharray: 14.8,6.4; stroke-dashoffset: 0; stroke: #fc4f30; stroke-width: 4\"/>\n   </g>\n   <g id=\"patch_3\">\n    <path d=\"M 64.955188 182.16 \nL 64.955188 7.2 \n\" style=\"fill: none; stroke: #f0f0f0; stroke-width: 3; stroke-linejoin: miter; stroke-linecap: square\"/>\n   </g>\n   <g id=\"patch_4\">\n    <path d=\"M 315.515187 182.16 \nL 315.515187 7.2 \n\" style=\"fill: none; stroke: #f0f0f0; stroke-width: 3; stroke-linejoin: miter; stroke-linecap: square\"/>\n   </g>\n   <g id=\"patch_5\">\n    <path d=\"M 64.955188 182.16 \nL 315.515187 182.16 \n\" style=\"fill: none; stroke: #f0f0f0; stroke-width: 3; stroke-linejoin: miter; stroke-linecap: square\"/>\n   </g>\n   <g id=\"patch_6\">\n    <path d=\"M 64.955188 7.2 \nL 315.515187 7.2 \n\" style=\"fill: none; stroke: #f0f0f0; stroke-width: 3; stroke-linejoin: miter; stroke-linecap: square\"/>\n   </g>\n   <g id=\"legend_1\">\n    <g id=\"patch_7\">\n     <path d=\"M 189.32925 175.16 \nL 305.715187 175.16 \nQ 308.515187 175.16 308.515187 172.36 \nL 308.515187 132.66125 \nQ 308.515187 129.86125 305.715187 129.86125 \nL 189.32925 129.86125 \nQ 186.52925 129.86125 186.52925 132.66125 \nL 186.52925 172.36 \nQ 186.52925 175.16 189.32925 175.16 \nz\n\" style=\"fill: #f0f0f0; opacity: 0.8; stroke: #cccccc; stroke-width: 0.5; stroke-linejoin: miter\"/>\n    </g>\n    <g id=\"line2d_19\">\n     <path d=\"M 192.12925 141.199063 \nL 206.12925 141.199063 \nL 220.12925 141.199063 \n\" style=\"fill: none; stroke: #008fd5; stroke-width: 4\"/>\n    </g>\n    <g id=\"text_11\">\n     <!-- f = relu(x) -->\n     <g transform=\"translate(231.32925 146.099063) scale(0.14 -0.14)\">\n      <defs>\n       <path id=\"DejaVuSans-66\" d=\"M 2375 4863 \nL 2375 4384 \nL 1825 4384 \nQ 1516 4384 1395 4259 \nQ 1275 4134 1275 3809 \nL 1275 3500 \nL 2222 3500 \nL 2222 3053 \nL 1275 3053 \nL 1275 0 \nL 697 0 \nL 697 3053 \nL 147 3053 \nL 147 3500 \nL 697 3500 \nL 697 3744 \nQ 697 4328 969 4595 \nQ 1241 4863 1831 4863 \nL 2375 4863 \nz\n\" transform=\"scale(0.015625)\"/>\n       <path id=\"DejaVuSans-20\" transform=\"scale(0.015625)\"/>\n       <path id=\"DejaVuSans-3d\" d=\"M 678 2906 \nL 4684 2906 \nL 4684 2381 \nL 678 2381 \nL 678 2906 \nz\nM 678 1631 \nL 4684 1631 \nL 4684 1100 \nL 678 1100 \nL 678 1631 \nz\n\" transform=\"scale(0.015625)\"/>\n       <path id=\"DejaVuSans-72\" d=\"M 2631 2963 \nQ 2534 3019 2420 3045 \nQ 2306 3072 2169 3072 \nQ 1681 3072 1420 2755 \nQ 1159 2438 1159 1844 \nL 1159 0 \nL 581 0 \nL 581 3500 \nL 1159 3500 \nL 1159 2956 \nQ 1341 3275 1631 3429 \nQ 1922 3584 2338 3584 \nQ 2397 3584 2469 3576 \nQ 2541 3569 2628 3553 \nL 2631 2963 \nz\n\" transform=\"scale(0.015625)\"/>\n      </defs>\n      <use xlink:href=\"#DejaVuSans-66\"/>\n      <use xlink:href=\"#DejaVuSans-20\" x=\"35.205078\"/>\n      <use xlink:href=\"#DejaVuSans-3d\" x=\"66.992188\"/>\n      <use xlink:href=\"#DejaVuSans-20\" x=\"150.78125\"/>\n      <use xlink:href=\"#DejaVuSans-72\" x=\"182.568359\"/>\n      <use xlink:href=\"#DejaVuSans-65\" x=\"221.431641\"/>\n      <use xlink:href=\"#DejaVuSans-6c\" x=\"282.955078\"/>\n      <use xlink:href=\"#DejaVuSans-75\" x=\"310.738281\"/>\n      <use xlink:href=\"#DejaVuSans-28\" x=\"374.117188\"/>\n      <use xlink:href=\"#DejaVuSans-78\" x=\"413.130859\"/>\n      <use xlink:href=\"#DejaVuSans-29\" x=\"472.310547\"/>\n     </g>\n    </g>\n    <g id=\"line2d_20\">\n     <path d=\"M 192.12925 161.748438 \nL 206.12925 161.748438 \nL 220.12925 161.748438 \n\" style=\"fill: none; stroke-dasharray: 14.8,6.4; stroke-dashoffset: 0; stroke: #fc4f30; stroke-width: 4\"/>\n    </g>\n    <g id=\"text_12\">\n     <!-- df/dx -->\n     <g transform=\"translate(231.32925 166.648438) scale(0.14 -0.14)\">\n      <defs>\n       <path id=\"DejaVuSans-64\" d=\"M 2906 2969 \nL 2906 4863 \nL 3481 4863 \nL 3481 0 \nL 2906 0 \nL 2906 525 \nQ 2725 213 2448 61 \nQ 2172 -91 1784 -91 \nQ 1150 -91 751 415 \nQ 353 922 353 1747 \nQ 353 2572 751 3078 \nQ 1150 3584 1784 3584 \nQ 2172 3584 2448 3432 \nQ 2725 3281 2906 2969 \nz\nM 947 1747 \nQ 947 1113 1208 752 \nQ 1469 391 1925 391 \nQ 2381 391 2643 752 \nQ 2906 1113 2906 1747 \nQ 2906 2381 2643 2742 \nQ 2381 3103 1925 3103 \nQ 1469 3103 1208 2742 \nQ 947 2381 947 1747 \nz\n\" transform=\"scale(0.015625)\"/>\n       <path id=\"DejaVuSans-2f\" d=\"M 1625 4666 \nL 2156 4666 \nL 531 -594 \nL 0 -594 \nL 1625 4666 \nz\n\" transform=\"scale(0.015625)\"/>\n      </defs>\n      <use xlink:href=\"#DejaVuSans-64\"/>\n      <use xlink:href=\"#DejaVuSans-66\" x=\"63.476562\"/>\n      <use xlink:href=\"#DejaVuSans-2f\" x=\"98.681641\"/>\n      <use xlink:href=\"#DejaVuSans-64\" x=\"132.373047\"/>\n      <use xlink:href=\"#DejaVuSans-78\" x=\"195.849609\"/>\n     </g>\n    </g>\n   </g>\n  </g>\n </g>\n <defs>\n  <clipPath id=\"p24f22e17e7\">\n   <rect x=\"64.955188\" y=\"7.2\" width=\"250.56\" height=\"174.96\"/>\n  </clipPath>\n </defs>\n</svg>\n",
      "text/plain": [
       "<Figure size 400x300 with 1 Axes>"
      ]
     },
     "metadata": {},
     "output_type": "display_data"
    }
   ],
   "source": [
    "plt.figure(figsize=(4,3))\n",
    "x = torch.linspace(-6.0, 6.0, 100, requires_grad=True)\n",
    "y = torch.tanh(x)\n",
    "y.backward(torch.ones_like(x))\n",
    "\n",
    "plt.plot(x.detach(), y.detach(), label='f = relu(x)');\n",
    "plt.plot(x.detach(), x.grad.detach(), 'C1--', label='df/dx');\n",
    "plt.xlabel('x')\n",
    "plt.ylabel('Relu(x)')\n",
    "plt.legend();\n"
   ]
  },
  {
   "cell_type": "code",
   "execution_count": 92,
   "metadata": {},
   "outputs": [
    {
     "data": {
      "image/svg+xml": "<?xml version=\"1.0\" encoding=\"utf-8\" standalone=\"no\"?>\n<!DOCTYPE svg PUBLIC \"-//W3C//DTD SVG 1.1//EN\"\n  \"http://www.w3.org/Graphics/SVG/1.1/DTD/svg11.dtd\">\n<svg xmlns:xlink=\"http://www.w3.org/1999/xlink\" width=\"297.62675pt\" height=\"226.668625pt\" viewBox=\"0 0 297.62675 226.668625\" xmlns=\"http://www.w3.org/2000/svg\" version=\"1.1\">\n <metadata>\n  <rdf:RDF xmlns:dc=\"http://purl.org/dc/elements/1.1/\" xmlns:cc=\"http://creativecommons.org/ns#\" xmlns:rdf=\"http://www.w3.org/1999/02/22-rdf-syntax-ns#\">\n   <cc:Work>\n    <dc:type rdf:resource=\"http://purl.org/dc/dcmitype/StillImage\"/>\n    <dc:date>2023-01-21T08:13:41.520217</dc:date>\n    <dc:format>image/svg+xml</dc:format>\n    <dc:creator>\n     <cc:Agent>\n      <dc:title>Matplotlib v3.6.3, https://matplotlib.org/</dc:title>\n     </cc:Agent>\n    </dc:creator>\n   </cc:Work>\n  </rdf:RDF>\n </metadata>\n <defs>\n  <style type=\"text/css\">*{stroke-linejoin: round; stroke-linecap: butt}</style>\n </defs>\n <g id=\"figure_1\">\n  <g id=\"patch_1\">\n   <path d=\"M 0 226.668625 \nL 297.62675 226.668625 \nL 297.62675 0 \nL 0 0 \nz\n\" style=\"fill: #f0f0f0\"/>\n  </g>\n  <g id=\"axes_1\">\n   <g id=\"patch_2\">\n    <path d=\"M 39.86675 182.16 \nL 290.42675 182.16 \nL 290.42675 7.2 \nL 39.86675 7.2 \nz\n\" style=\"fill: #f0f0f0\"/>\n   </g>\n   <g id=\"matplotlib.axis_1\">\n    <g id=\"xtick_1\">\n     <g id=\"line2d_1\">\n      <path d=\"M 70.237659 182.16 \nL 70.237659 7.2 \n\" clip-path=\"url(#pab119b1ff3)\" style=\"fill: none; stroke: #cbcbcb\"/>\n     </g>\n     <g id=\"line2d_2\"/>\n     <g id=\"text_1\">\n      <!-- −5 -->\n      <g transform=\"translate(59.918128 196.297813) scale(0.14 -0.14)\">\n       <defs>\n        <path id=\"DejaVuSans-2212\" d=\"M 678 2272 \nL 4684 2272 \nL 4684 1741 \nL 678 1741 \nL 678 2272 \nz\n\" transform=\"scale(0.015625)\"/>\n        <path id=\"DejaVuSans-35\" d=\"M 691 4666 \nL 3169 4666 \nL 3169 4134 \nL 1269 4134 \nL 1269 2991 \nQ 1406 3038 1543 3061 \nQ 1681 3084 1819 3084 \nQ 2600 3084 3056 2656 \nQ 3513 2228 3513 1497 \nQ 3513 744 3044 326 \nQ 2575 -91 1722 -91 \nQ 1428 -91 1123 -41 \nQ 819 9 494 109 \nL 494 744 \nQ 775 591 1075 516 \nQ 1375 441 1709 441 \nQ 2250 441 2565 725 \nQ 2881 1009 2881 1497 \nQ 2881 1984 2565 2268 \nQ 2250 2553 1709 2553 \nQ 1456 2553 1204 2497 \nQ 953 2441 691 2322 \nL 691 4666 \nz\n\" transform=\"scale(0.015625)\"/>\n       </defs>\n       <use xlink:href=\"#DejaVuSans-2212\"/>\n       <use xlink:href=\"#DejaVuSans-35\" x=\"83.789062\"/>\n      </g>\n     </g>\n    </g>\n    <g id=\"xtick_2\">\n     <g id=\"line2d_3\">\n      <path d=\"M 165.14675 182.16 \nL 165.14675 7.2 \n\" clip-path=\"url(#pab119b1ff3)\" style=\"fill: none; stroke: #cbcbcb\"/>\n     </g>\n     <g id=\"line2d_4\"/>\n     <g id=\"text_2\">\n      <!-- 0 -->\n      <g transform=\"translate(160.693 196.297813) scale(0.14 -0.14)\">\n       <defs>\n        <path id=\"DejaVuSans-30\" d=\"M 2034 4250 \nQ 1547 4250 1301 3770 \nQ 1056 3291 1056 2328 \nQ 1056 1369 1301 889 \nQ 1547 409 2034 409 \nQ 2525 409 2770 889 \nQ 3016 1369 3016 2328 \nQ 3016 3291 2770 3770 \nQ 2525 4250 2034 4250 \nz\nM 2034 4750 \nQ 2819 4750 3233 4129 \nQ 3647 3509 3647 2328 \nQ 3647 1150 3233 529 \nQ 2819 -91 2034 -91 \nQ 1250 -91 836 529 \nQ 422 1150 422 2328 \nQ 422 3509 836 4129 \nQ 1250 4750 2034 4750 \nz\n\" transform=\"scale(0.015625)\"/>\n       </defs>\n       <use xlink:href=\"#DejaVuSans-30\"/>\n      </g>\n     </g>\n    </g>\n    <g id=\"xtick_3\">\n     <g id=\"line2d_5\">\n      <path d=\"M 260.055841 182.16 \nL 260.055841 7.2 \n\" clip-path=\"url(#pab119b1ff3)\" style=\"fill: none; stroke: #cbcbcb\"/>\n     </g>\n     <g id=\"line2d_6\"/>\n     <g id=\"text_3\">\n      <!-- 5 -->\n      <g transform=\"translate(255.602091 196.297813) scale(0.14 -0.14)\">\n       <use xlink:href=\"#DejaVuSans-35\"/>\n      </g>\n     </g>\n    </g>\n    <g id=\"text_4\">\n     <!-- x -->\n     <g transform=\"translate(160.175 215.97475) scale(0.168 -0.168)\">\n      <defs>\n       <path id=\"DejaVuSans-78\" d=\"M 3513 3500 \nL 2247 1797 \nL 3578 0 \nL 2900 0 \nL 1881 1375 \nL 863 0 \nL 184 0 \nL 1544 1831 \nL 300 3500 \nL 978 3500 \nL 1906 2253 \nL 2834 3500 \nL 3513 3500 \nz\n\" transform=\"scale(0.015625)\"/>\n      </defs>\n      <use xlink:href=\"#DejaVuSans-78\"/>\n     </g>\n    </g>\n   </g>\n   <g id=\"matplotlib.axis_2\">\n    <g id=\"ytick_1\">\n     <g id=\"line2d_7\">\n      <path d=\"M 39.86675 167.136212 \nL 290.42675 167.136212 \n\" clip-path=\"url(#pab119b1ff3)\" style=\"fill: none; stroke: #cbcbcb\"/>\n     </g>\n     <g id=\"line2d_8\"/>\n     <g id=\"text_5\">\n      <!-- 0 -->\n      <g transform=\"translate(27.45925 172.455118) scale(0.14 -0.14)\">\n       <use xlink:href=\"#DejaVuSans-30\"/>\n      </g>\n     </g>\n    </g>\n    <g id=\"ytick_2\">\n     <g id=\"line2d_9\">\n      <path d=\"M 39.86675 116.349477 \nL 290.42675 116.349477 \n\" clip-path=\"url(#pab119b1ff3)\" style=\"fill: none; stroke: #cbcbcb\"/>\n     </g>\n     <g id=\"line2d_10\"/>\n     <g id=\"text_6\">\n      <!-- 2 -->\n      <g transform=\"translate(27.45925 121.668383) scale(0.14 -0.14)\">\n       <defs>\n        <path id=\"DejaVuSans-32\" d=\"M 1228 531 \nL 3431 531 \nL 3431 0 \nL 469 0 \nL 469 531 \nQ 828 903 1448 1529 \nQ 2069 2156 2228 2338 \nQ 2531 2678 2651 2914 \nQ 2772 3150 2772 3378 \nQ 2772 3750 2511 3984 \nQ 2250 4219 1831 4219 \nQ 1534 4219 1204 4116 \nQ 875 4013 500 3803 \nL 500 4441 \nQ 881 4594 1212 4672 \nQ 1544 4750 1819 4750 \nQ 2544 4750 2975 4387 \nQ 3406 4025 3406 3419 \nQ 3406 3131 3298 2873 \nQ 3191 2616 2906 2266 \nQ 2828 2175 2409 1742 \nQ 1991 1309 1228 531 \nz\n\" transform=\"scale(0.015625)\"/>\n       </defs>\n       <use xlink:href=\"#DejaVuSans-32\"/>\n      </g>\n     </g>\n    </g>\n    <g id=\"ytick_3\">\n     <g id=\"line2d_11\">\n      <path d=\"M 39.86675 65.562742 \nL 290.42675 65.562742 \n\" clip-path=\"url(#pab119b1ff3)\" style=\"fill: none; stroke: #cbcbcb\"/>\n     </g>\n     <g id=\"line2d_12\"/>\n     <g id=\"text_7\">\n      <!-- 4 -->\n      <g transform=\"translate(27.45925 70.881648) scale(0.14 -0.14)\">\n       <defs>\n        <path id=\"DejaVuSans-34\" d=\"M 2419 4116 \nL 825 1625 \nL 2419 1625 \nL 2419 4116 \nz\nM 2253 4666 \nL 3047 4666 \nL 3047 1625 \nL 3713 1625 \nL 3713 1100 \nL 3047 1100 \nL 3047 0 \nL 2419 0 \nL 2419 1100 \nL 313 1100 \nL 313 1709 \nL 2253 4666 \nz\n\" transform=\"scale(0.015625)\"/>\n       </defs>\n       <use xlink:href=\"#DejaVuSans-34\"/>\n      </g>\n     </g>\n    </g>\n    <g id=\"ytick_4\">\n     <g id=\"line2d_13\">\n      <path d=\"M 39.86675 14.776008 \nL 290.42675 14.776008 \n\" clip-path=\"url(#pab119b1ff3)\" style=\"fill: none; stroke: #cbcbcb\"/>\n     </g>\n     <g id=\"line2d_14\"/>\n     <g id=\"text_8\">\n      <!-- 6 -->\n      <g transform=\"translate(27.45925 20.094914) scale(0.14 -0.14)\">\n       <defs>\n        <path id=\"DejaVuSans-36\" d=\"M 2113 2584 \nQ 1688 2584 1439 2293 \nQ 1191 2003 1191 1497 \nQ 1191 994 1439 701 \nQ 1688 409 2113 409 \nQ 2538 409 2786 701 \nQ 3034 994 3034 1497 \nQ 3034 2003 2786 2293 \nQ 2538 2584 2113 2584 \nz\nM 3366 4563 \nL 3366 3988 \nQ 3128 4100 2886 4159 \nQ 2644 4219 2406 4219 \nQ 1781 4219 1451 3797 \nQ 1122 3375 1075 2522 \nQ 1259 2794 1537 2939 \nQ 1816 3084 2150 3084 \nQ 2853 3084 3261 2657 \nQ 3669 2231 3669 1497 \nQ 3669 778 3244 343 \nQ 2819 -91 2113 -91 \nQ 1303 -91 875 529 \nQ 447 1150 447 2328 \nQ 447 3434 972 4092 \nQ 1497 4750 2381 4750 \nQ 2619 4750 2861 4703 \nQ 3103 4656 3366 4563 \nz\n\" transform=\"scale(0.015625)\"/>\n       </defs>\n       <use xlink:href=\"#DejaVuSans-36\"/>\n      </g>\n     </g>\n    </g>\n    <g id=\"text_9\">\n     <!-- Relu(x) -->\n     <g transform=\"translate(19.965375 124.490813) rotate(-90) scale(0.168 -0.168)\">\n      <defs>\n       <path id=\"DejaVuSans-52\" d=\"M 2841 2188 \nQ 3044 2119 3236 1894 \nQ 3428 1669 3622 1275 \nL 4263 0 \nL 3584 0 \nL 2988 1197 \nQ 2756 1666 2539 1819 \nQ 2322 1972 1947 1972 \nL 1259 1972 \nL 1259 0 \nL 628 0 \nL 628 4666 \nL 2053 4666 \nQ 2853 4666 3247 4331 \nQ 3641 3997 3641 3322 \nQ 3641 2881 3436 2590 \nQ 3231 2300 2841 2188 \nz\nM 1259 4147 \nL 1259 2491 \nL 2053 2491 \nQ 2509 2491 2742 2702 \nQ 2975 2913 2975 3322 \nQ 2975 3731 2742 3939 \nQ 2509 4147 2053 4147 \nL 1259 4147 \nz\n\" transform=\"scale(0.015625)\"/>\n       <path id=\"DejaVuSans-65\" d=\"M 3597 1894 \nL 3597 1613 \nL 953 1613 \nQ 991 1019 1311 708 \nQ 1631 397 2203 397 \nQ 2534 397 2845 478 \nQ 3156 559 3463 722 \nL 3463 178 \nQ 3153 47 2828 -22 \nQ 2503 -91 2169 -91 \nQ 1331 -91 842 396 \nQ 353 884 353 1716 \nQ 353 2575 817 3079 \nQ 1281 3584 2069 3584 \nQ 2775 3584 3186 3129 \nQ 3597 2675 3597 1894 \nz\nM 3022 2063 \nQ 3016 2534 2758 2815 \nQ 2500 3097 2075 3097 \nQ 1594 3097 1305 2825 \nQ 1016 2553 972 2059 \nL 3022 2063 \nz\n\" transform=\"scale(0.015625)\"/>\n       <path id=\"DejaVuSans-6c\" d=\"M 603 4863 \nL 1178 4863 \nL 1178 0 \nL 603 0 \nL 603 4863 \nz\n\" transform=\"scale(0.015625)\"/>\n       <path id=\"DejaVuSans-75\" d=\"M 544 1381 \nL 544 3500 \nL 1119 3500 \nL 1119 1403 \nQ 1119 906 1312 657 \nQ 1506 409 1894 409 \nQ 2359 409 2629 706 \nQ 2900 1003 2900 1516 \nL 2900 3500 \nL 3475 3500 \nL 3475 0 \nL 2900 0 \nL 2900 538 \nQ 2691 219 2414 64 \nQ 2138 -91 1772 -91 \nQ 1169 -91 856 284 \nQ 544 659 544 1381 \nz\nM 1991 3584 \nL 1991 3584 \nz\n\" transform=\"scale(0.015625)\"/>\n       <path id=\"DejaVuSans-28\" d=\"M 1984 4856 \nQ 1566 4138 1362 3434 \nQ 1159 2731 1159 2009 \nQ 1159 1288 1364 580 \nQ 1569 -128 1984 -844 \nL 1484 -844 \nQ 1016 -109 783 600 \nQ 550 1309 550 2009 \nQ 550 2706 781 3412 \nQ 1013 4119 1484 4856 \nL 1984 4856 \nz\n\" transform=\"scale(0.015625)\"/>\n       <path id=\"DejaVuSans-29\" d=\"M 513 4856 \nL 1013 4856 \nQ 1481 4119 1714 3412 \nQ 1947 2706 1947 2009 \nQ 1947 1309 1714 600 \nQ 1481 -109 1013 -844 \nL 513 -844 \nQ 928 -128 1133 580 \nQ 1338 1288 1338 2009 \nQ 1338 2731 1133 3434 \nQ 928 4138 513 4856 \nz\n\" transform=\"scale(0.015625)\"/>\n      </defs>\n      <use xlink:href=\"#DejaVuSans-52\"/>\n      <use xlink:href=\"#DejaVuSans-65\" x=\"64.982422\"/>\n      <use xlink:href=\"#DejaVuSans-6c\" x=\"126.505859\"/>\n      <use xlink:href=\"#DejaVuSans-75\" x=\"154.289062\"/>\n      <use xlink:href=\"#DejaVuSans-28\" x=\"217.667969\"/>\n      <use xlink:href=\"#DejaVuSans-78\" x=\"256.681641\"/>\n      <use xlink:href=\"#DejaVuSans-29\" x=\"315.861328\"/>\n     </g>\n    </g>\n   </g>\n   <g id=\"line2d_15\">\n    <path d=\"M 51.255841 167.512941 \nL 53.556665 167.552764 \nL 55.857489 167.596581 \nL 58.158323 167.644759 \nL 60.459147 167.69769 \nL 62.759971 167.755794 \nL 65.060805 167.819521 \nL 67.361629 167.889347 \nL 69.662453 167.965779 \nL 71.963277 168.049351 \nL 74.264102 168.140622 \nL 76.564935 168.240175 \nL 78.865759 168.348612 \nL 81.166583 168.466549 \nL 83.467417 168.594612 \nL 85.768241 168.733426 \nL 88.069065 168.8836 \nL 90.369889 169.045724 \nL 92.670718 169.22034 \nL 94.971547 169.407928 \nL 97.272371 169.60888 \nL 99.573195 169.823468 \nL 101.874024 170.05181 \nL 104.174853 170.293827 \nL 106.475677 170.549194 \nL 108.776502 170.817289 \nL 111.07733 171.097124 \nL 113.378159 171.387277 \nL 115.678983 171.685816 \nL 117.979808 171.990216 \nL 120.280636 172.297269 \nL 122.581465 172.602993 \nL 124.882289 172.902546 \nL 127.183116 173.190139 \nL 129.483942 173.458965 \nL 131.784769 173.70114 \nL 134.085595 173.907673 \nL 136.386422 174.06847 \nL 138.687248 174.172376 \nL 140.988075 174.207273 \nL 143.288902 174.160227 \nL 145.589728 174.017707 \nL 147.890555 173.765863 \nL 150.191381 173.390853 \nL 152.492208 172.879236 \nL 154.793034 172.218387 \nL 157.093861 171.396931 \nL 159.394687 170.405159 \nL 161.695514 169.235411 \nL 163.99634 167.882395 \nL 166.297167 166.343402 \nL 168.597993 164.618435 \nL 170.89882 162.710198 \nL 173.199646 160.623986 \nL 175.500473 158.367458 \nL 177.801299 155.950321 \nL 180.102117 153.383965 \nL 182.402943 150.68099 \nL 184.70377 147.854851 \nL 187.004596 144.919385 \nL 189.305423 141.888449 \nL 191.606249 138.775568 \nL 193.907076 135.593678 \nL 196.207902 132.354896 \nL 198.508729 129.070378 \nL 200.809555 125.750217 \nL 203.110382 122.40341 \nL 205.411211 119.037831 \nL 207.712035 115.660297 \nL 210.012859 112.276595 \nL 212.313688 108.891554 \nL 214.614517 105.50916 \nL 216.915341 102.132644 \nL 219.216165 98.764507 \nL 221.516994 95.406692 \nL 223.817823 92.060605 \nL 226.118647 88.727261 \nL 228.419471 85.407256 \nL 230.7203 82.100933 \nL 233.021129 78.808353 \nL 235.321953 75.529419 \nL 237.622777 72.263859 \nL 239.923606 69.011249 \nL 242.224435 65.771148 \nL 244.525259 62.542979 \nL 246.826083 59.326186 \nL 249.126908 56.120146 \nL 251.427741 52.924216 \nL 253.728565 49.737803 \nL 256.029389 46.560266 \nL 258.330223 43.390999 \nL 260.631047 40.229445 \nL 262.931871 37.075035 \nL 265.232695 33.927225 \nL 267.53352 30.785517 \nL 269.834353 27.649427 \nL 272.135177 24.518508 \nL 274.436011 21.392347 \nL 276.736835 18.270545 \nL 279.037659 15.152727 \n\" clip-path=\"url(#pab119b1ff3)\" style=\"fill: none; stroke: #008fd5; stroke-width: 4\"/>\n   </g>\n   <g id=\"line2d_16\">\n    <path d=\"M 51.255841 167.449221 \nL 53.556665 167.480745 \nL 55.857489 167.515173 \nL 58.158323 167.552726 \nL 60.459147 167.593633 \nL 62.759971 167.638125 \nL 65.060805 167.68644 \nL 67.361629 167.738814 \nL 69.662453 167.795478 \nL 71.963277 167.856653 \nL 74.264102 167.922542 \nL 76.564935 167.993327 \nL 78.865759 168.069149 \nL 81.166583 168.150103 \nL 83.467417 168.236223 \nL 85.768241 168.327459 \nL 88.069065 168.423661 \nL 90.369889 168.524551 \nL 92.670718 168.629697 \nL 94.971547 168.738476 \nL 97.272371 168.850036 \nL 99.573195 168.963258 \nL 101.874024 169.076702 \nL 104.174853 169.188557 \nL 106.475677 169.296585 \nL 108.776502 169.398055 \nL 111.07733 169.489693 \nL 113.378159 169.567609 \nL 115.678983 169.627255 \nL 117.979808 169.66337 \nL 120.280636 169.669956 \nL 122.581465 169.640265 \nL 124.882289 169.566832 \nL 127.183116 169.441529 \nL 129.483942 169.255685 \nL 131.784769 169.000258 \nL 134.085595 168.666077 \nL 136.386422 168.244148 \nL 138.687248 167.726047 \nL 140.988075 167.104356 \nL 143.288902 166.373167 \nL 145.589728 165.528599 \nL 147.890555 164.569303 \nL 150.191381 163.496915 \nL 152.492208 162.316413 \nL 154.793034 161.036312 \nL 157.093861 159.668678 \nL 159.394687 158.228923 \nL 161.695514 156.735357 \nL 163.99634 155.20855 \nL 166.297167 153.670502 \nL 168.597993 152.143694 \nL 170.89882 150.65013 \nL 173.199646 149.210373 \nL 175.500473 147.842741 \nL 177.801299 146.562641 \nL 180.102117 145.382144 \nL 182.402943 144.309754 \nL 184.70377 143.350457 \nL 187.004596 142.50589 \nL 189.305423 141.7747 \nL 191.606249 141.153009 \nL 193.907076 140.63491 \nL 196.207902 140.212981 \nL 198.508729 139.878798 \nL 200.809555 139.623369 \nL 203.110382 139.437525 \nL 205.411211 139.312223 \nL 207.712035 139.238788 \nL 210.012859 139.209098 \nL 212.313688 139.215682 \nL 214.614517 139.251802 \nL 216.915341 139.311448 \nL 219.216165 139.389363 \nL 221.516994 139.481 \nL 223.817823 139.582473 \nL 226.118647 139.690496 \nL 228.419471 139.802354 \nL 230.7203 139.915799 \nL 233.021129 140.029025 \nL 235.321953 140.140584 \nL 237.622777 140.249351 \nL 239.923606 140.354508 \nL 242.224435 140.45539 \nL 244.525259 140.551601 \nL 246.826083 140.642832 \nL 249.126908 140.728954 \nL 251.427741 140.809908 \nL 253.728565 140.885726 \nL 256.029389 140.956518 \nL 258.330223 141.022407 \nL 260.631047 141.083576 \nL 262.931871 141.140243 \nL 265.232695 141.192616 \nL 267.53352 141.240932 \nL 269.834353 141.285421 \nL 272.135177 141.326333 \nL 274.436011 141.363878 \nL 276.736835 141.398306 \nL 279.037659 141.429839 \n\" clip-path=\"url(#pab119b1ff3)\" style=\"fill: none; stroke-dasharray: 14.8,6.4; stroke-dashoffset: 0; stroke: #fc4f30; stroke-width: 4\"/>\n   </g>\n   <g id=\"patch_3\">\n    <path d=\"M 39.86675 182.16 \nL 39.86675 7.2 \n\" style=\"fill: none; stroke: #f0f0f0; stroke-width: 3; stroke-linejoin: miter; stroke-linecap: square\"/>\n   </g>\n   <g id=\"patch_4\">\n    <path d=\"M 290.42675 182.16 \nL 290.42675 7.2 \n\" style=\"fill: none; stroke: #f0f0f0; stroke-width: 3; stroke-linejoin: miter; stroke-linecap: square\"/>\n   </g>\n   <g id=\"patch_5\">\n    <path d=\"M 39.86675 182.16 \nL 290.42675 182.16 \n\" style=\"fill: none; stroke: #f0f0f0; stroke-width: 3; stroke-linejoin: miter; stroke-linecap: square\"/>\n   </g>\n   <g id=\"patch_6\">\n    <path d=\"M 39.86675 7.2 \nL 290.42675 7.2 \n\" style=\"fill: none; stroke: #f0f0f0; stroke-width: 3; stroke-linejoin: miter; stroke-linecap: square\"/>\n   </g>\n   <g id=\"legend_1\">\n    <g id=\"patch_7\">\n     <path d=\"M 49.66675 59.49875 \nL 166.052687 59.49875 \nQ 168.852688 59.49875 168.852688 56.69875 \nL 168.852688 17 \nQ 168.852688 14.2 166.052687 14.2 \nL 49.66675 14.2 \nQ 46.86675 14.2 46.86675 17 \nL 46.86675 56.69875 \nQ 46.86675 59.49875 49.66675 59.49875 \nz\n\" style=\"fill: #f0f0f0; opacity: 0.8; stroke: #cccccc; stroke-width: 0.5; stroke-linejoin: miter\"/>\n    </g>\n    <g id=\"line2d_17\">\n     <path d=\"M 52.46675 25.537813 \nL 66.46675 25.537813 \nL 80.46675 25.537813 \n\" style=\"fill: none; stroke: #008fd5; stroke-width: 4\"/>\n    </g>\n    <g id=\"text_10\">\n     <!-- f = relu(x) -->\n     <g transform=\"translate(91.66675 30.437813) scale(0.14 -0.14)\">\n      <defs>\n       <path id=\"DejaVuSans-66\" d=\"M 2375 4863 \nL 2375 4384 \nL 1825 4384 \nQ 1516 4384 1395 4259 \nQ 1275 4134 1275 3809 \nL 1275 3500 \nL 2222 3500 \nL 2222 3053 \nL 1275 3053 \nL 1275 0 \nL 697 0 \nL 697 3053 \nL 147 3053 \nL 147 3500 \nL 697 3500 \nL 697 3744 \nQ 697 4328 969 4595 \nQ 1241 4863 1831 4863 \nL 2375 4863 \nz\n\" transform=\"scale(0.015625)\"/>\n       <path id=\"DejaVuSans-20\" transform=\"scale(0.015625)\"/>\n       <path id=\"DejaVuSans-3d\" d=\"M 678 2906 \nL 4684 2906 \nL 4684 2381 \nL 678 2381 \nL 678 2906 \nz\nM 678 1631 \nL 4684 1631 \nL 4684 1100 \nL 678 1100 \nL 678 1631 \nz\n\" transform=\"scale(0.015625)\"/>\n       <path id=\"DejaVuSans-72\" d=\"M 2631 2963 \nQ 2534 3019 2420 3045 \nQ 2306 3072 2169 3072 \nQ 1681 3072 1420 2755 \nQ 1159 2438 1159 1844 \nL 1159 0 \nL 581 0 \nL 581 3500 \nL 1159 3500 \nL 1159 2956 \nQ 1341 3275 1631 3429 \nQ 1922 3584 2338 3584 \nQ 2397 3584 2469 3576 \nQ 2541 3569 2628 3553 \nL 2631 2963 \nz\n\" transform=\"scale(0.015625)\"/>\n      </defs>\n      <use xlink:href=\"#DejaVuSans-66\"/>\n      <use xlink:href=\"#DejaVuSans-20\" x=\"35.205078\"/>\n      <use xlink:href=\"#DejaVuSans-3d\" x=\"66.992188\"/>\n      <use xlink:href=\"#DejaVuSans-20\" x=\"150.78125\"/>\n      <use xlink:href=\"#DejaVuSans-72\" x=\"182.568359\"/>\n      <use xlink:href=\"#DejaVuSans-65\" x=\"221.431641\"/>\n      <use xlink:href=\"#DejaVuSans-6c\" x=\"282.955078\"/>\n      <use xlink:href=\"#DejaVuSans-75\" x=\"310.738281\"/>\n      <use xlink:href=\"#DejaVuSans-28\" x=\"374.117188\"/>\n      <use xlink:href=\"#DejaVuSans-78\" x=\"413.130859\"/>\n      <use xlink:href=\"#DejaVuSans-29\" x=\"472.310547\"/>\n     </g>\n    </g>\n    <g id=\"line2d_18\">\n     <path d=\"M 52.46675 46.087188 \nL 66.46675 46.087188 \nL 80.46675 46.087188 \n\" style=\"fill: none; stroke-dasharray: 14.8,6.4; stroke-dashoffset: 0; stroke: #fc4f30; stroke-width: 4\"/>\n    </g>\n    <g id=\"text_11\">\n     <!-- df/dx -->\n     <g transform=\"translate(91.66675 50.987188) scale(0.14 -0.14)\">\n      <defs>\n       <path id=\"DejaVuSans-64\" d=\"M 2906 2969 \nL 2906 4863 \nL 3481 4863 \nL 3481 0 \nL 2906 0 \nL 2906 525 \nQ 2725 213 2448 61 \nQ 2172 -91 1784 -91 \nQ 1150 -91 751 415 \nQ 353 922 353 1747 \nQ 353 2572 751 3078 \nQ 1150 3584 1784 3584 \nQ 2172 3584 2448 3432 \nQ 2725 3281 2906 2969 \nz\nM 947 1747 \nQ 947 1113 1208 752 \nQ 1469 391 1925 391 \nQ 2381 391 2643 752 \nQ 2906 1113 2906 1747 \nQ 2906 2381 2643 2742 \nQ 2381 3103 1925 3103 \nQ 1469 3103 1208 2742 \nQ 947 2381 947 1747 \nz\n\" transform=\"scale(0.015625)\"/>\n       <path id=\"DejaVuSans-2f\" d=\"M 1625 4666 \nL 2156 4666 \nL 531 -594 \nL 0 -594 \nL 1625 4666 \nz\n\" transform=\"scale(0.015625)\"/>\n      </defs>\n      <use xlink:href=\"#DejaVuSans-64\"/>\n      <use xlink:href=\"#DejaVuSans-66\" x=\"63.476562\"/>\n      <use xlink:href=\"#DejaVuSans-2f\" x=\"98.681641\"/>\n      <use xlink:href=\"#DejaVuSans-64\" x=\"132.373047\"/>\n      <use xlink:href=\"#DejaVuSans-78\" x=\"195.849609\"/>\n     </g>\n    </g>\n   </g>\n  </g>\n </g>\n <defs>\n  <clipPath id=\"pab119b1ff3\">\n   <rect x=\"39.86675\" y=\"7.2\" width=\"250.56\" height=\"174.96\"/>\n  </clipPath>\n </defs>\n</svg>\n",
      "text/plain": [
       "<Figure size 400x300 with 1 Axes>"
      ]
     },
     "metadata": {},
     "output_type": "display_data"
    }
   ],
   "source": [
    "plt.figure(figsize=(4,3))\n",
    "x = torch.linspace(-6.0, 6.0, 100, requires_grad=True)\n",
    "y = torch.nn.functional.silu(x)\n",
    "y.backward(torch.ones_like(x))\n",
    "\n",
    "plt.plot(x.detach(), y.detach(), label='f = relu(x)');\n",
    "plt.plot(x.detach(), x.grad.detach(), 'C1--', label='df/dx');\n",
    "plt.xlabel('x')\n",
    "plt.ylabel('Relu(x)')\n",
    "plt.legend();"
   ]
  },
  {
   "cell_type": "code",
   "execution_count": 93,
   "metadata": {},
   "outputs": [
    {
     "data": {
      "text/plain": [
       "(60000, 10000, 59, 10)"
      ]
     },
     "execution_count": 93,
     "metadata": {},
     "output_type": "execute_result"
    }
   ],
   "source": [
    "# Import Datasets\n",
    "class FashionMNIST:\n",
    "    def __init__(self) -> None:\n",
    "        # Get datasets\n",
    "        transforms = Compose([ToTensor(), Normalize((0.2860,), (0.3530,))])\n",
    "        self.train = datasets.FashionMNIST(root='data', train=True, transform=transforms)\n",
    "        self.val = datasets.FashionMNIST(root='data', train=False, transform=transforms)\n",
    "\n",
    "        # Create data loaders\n",
    "        self.train_dl = torch.utils.data.DataLoader(self.train, batch_size = 1024, shuffle=True)\n",
    "        self.val_dl = torch.utils.data.DataLoader(self.val, batch_size = 1024, shuffle=True)\n",
    "\n",
    "data = FashionMNIST()\n",
    "len(data.train), len(data.val), len(data.train_dl), len(data.val_dl)"
   ]
  },
  {
   "cell_type": "code",
   "execution_count": 94,
   "metadata": {},
   "outputs": [
    {
     "name": "stdout",
     "output_type": "stream",
     "text": [
      "tensor(2.0227)\n",
      "tensor(-0.0001)\n",
      "tensor(0.9999)\n"
     ]
    },
    {
     "data": {
      "image/svg+xml": "<?xml version=\"1.0\" encoding=\"utf-8\" standalone=\"no\"?>\n<!DOCTYPE svg PUBLIC \"-//W3C//DTD SVG 1.1//EN\"\n  \"http://www.w3.org/Graphics/SVG/1.1/DTD/svg11.dtd\">\n<svg xmlns:xlink=\"http://www.w3.org/1999/xlink\" width=\"315.651pt\" height=\"311.705424pt\" viewBox=\"0 0 315.651 311.705424\" xmlns=\"http://www.w3.org/2000/svg\" version=\"1.1\">\n <metadata>\n  <rdf:RDF xmlns:dc=\"http://purl.org/dc/elements/1.1/\" xmlns:cc=\"http://creativecommons.org/ns#\" xmlns:rdf=\"http://www.w3.org/1999/02/22-rdf-syntax-ns#\">\n   <cc:Work>\n    <dc:type rdf:resource=\"http://purl.org/dc/dcmitype/StillImage\"/>\n    <dc:date>2023-01-21T08:13:46.597110</dc:date>\n    <dc:format>image/svg+xml</dc:format>\n    <dc:creator>\n     <cc:Agent>\n      <dc:title>Matplotlib v3.6.3, https://matplotlib.org/</dc:title>\n     </cc:Agent>\n    </dc:creator>\n   </cc:Work>\n  </rdf:RDF>\n </metadata>\n <defs>\n  <style type=\"text/css\">*{stroke-linejoin: round; stroke-linecap: butt}</style>\n </defs>\n <g id=\"figure_1\">\n  <g id=\"patch_1\">\n   <path d=\"M 0 311.705424 \nL 315.651 311.705424 \nL 315.651 0 \nL 0 0 \nz\n\" style=\"fill: #f0f0f0\"/>\n  </g>\n  <g id=\"axes_1\">\n   <g id=\"patch_2\">\n    <path d=\"M 28.515 287.456049 \nL 308.451 287.456049 \nL 308.451 7.520049 \nL 28.515 7.520049 \nz\n\" style=\"fill: #f0f0f0\"/>\n   </g>\n   <g clip-path=\"url(#p7b50f562fa)\">\n    <image xlink:href=\"data:image/png;base64,\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\" id=\"image764553cd5a\" transform=\"scale(1 -1) translate(0 -280.08)\" x=\"28.515\" y=\"-7.376049\" width=\"280.08\" height=\"280.08\"/>\n   </g>\n   <g id=\"matplotlib.axis_1\">\n    <g id=\"xtick_1\">\n     <g id=\"line2d_1\">\n      <path d=\"M 33.513857 287.456049 \nL 33.513857 7.520049 \n\" clip-path=\"url(#p7b50f562fa)\" style=\"fill: none; stroke: #cbcbcb\"/>\n     </g>\n     <g id=\"line2d_2\"/>\n     <g id=\"text_1\">\n      <!-- 0 -->\n      <g transform=\"translate(29.060107 301.593862) scale(0.14 -0.14)\">\n       <defs>\n        <path id=\"DejaVuSans-30\" d=\"M 2034 4250 \nQ 1547 4250 1301 3770 \nQ 1056 3291 1056 2328 \nQ 1056 1369 1301 889 \nQ 1547 409 2034 409 \nQ 2525 409 2770 889 \nQ 3016 1369 3016 2328 \nQ 3016 3291 2770 3770 \nQ 2525 4250 2034 4250 \nz\nM 2034 4750 \nQ 2819 4750 3233 4129 \nQ 3647 3509 3647 2328 \nQ 3647 1150 3233 529 \nQ 2819 -91 2034 -91 \nQ 1250 -91 836 529 \nQ 422 1150 422 2328 \nQ 422 3509 836 4129 \nQ 1250 4750 2034 4750 \nz\n\" transform=\"scale(0.015625)\"/>\n       </defs>\n       <use xlink:href=\"#DejaVuSans-30\"/>\n      </g>\n     </g>\n    </g>\n    <g id=\"xtick_2\">\n     <g id=\"line2d_3\">\n      <path d=\"M 83.502429 287.456049 \nL 83.502429 7.520049 \n\" clip-path=\"url(#p7b50f562fa)\" style=\"fill: none; stroke: #cbcbcb\"/>\n     </g>\n     <g id=\"line2d_4\"/>\n     <g id=\"text_2\">\n      <!-- 5 -->\n      <g transform=\"translate(79.048679 301.593862) scale(0.14 -0.14)\">\n       <defs>\n        <path id=\"DejaVuSans-35\" d=\"M 691 4666 \nL 3169 4666 \nL 3169 4134 \nL 1269 4134 \nL 1269 2991 \nQ 1406 3038 1543 3061 \nQ 1681 3084 1819 3084 \nQ 2600 3084 3056 2656 \nQ 3513 2228 3513 1497 \nQ 3513 744 3044 326 \nQ 2575 -91 1722 -91 \nQ 1428 -91 1123 -41 \nQ 819 9 494 109 \nL 494 744 \nQ 775 591 1075 516 \nQ 1375 441 1709 441 \nQ 2250 441 2565 725 \nQ 2881 1009 2881 1497 \nQ 2881 1984 2565 2268 \nQ 2250 2553 1709 2553 \nQ 1456 2553 1204 2497 \nQ 953 2441 691 2322 \nL 691 4666 \nz\n\" transform=\"scale(0.015625)\"/>\n       </defs>\n       <use xlink:href=\"#DejaVuSans-35\"/>\n      </g>\n     </g>\n    </g>\n    <g id=\"xtick_3\">\n     <g id=\"line2d_5\">\n      <path d=\"M 133.491 287.456049 \nL 133.491 7.520049 \n\" clip-path=\"url(#p7b50f562fa)\" style=\"fill: none; stroke: #cbcbcb\"/>\n     </g>\n     <g id=\"line2d_6\"/>\n     <g id=\"text_3\">\n      <!-- 10 -->\n      <g transform=\"translate(124.5835 301.593862) scale(0.14 -0.14)\">\n       <defs>\n        <path id=\"DejaVuSans-31\" d=\"M 794 531 \nL 1825 531 \nL 1825 4091 \nL 703 3866 \nL 703 4441 \nL 1819 4666 \nL 2450 4666 \nL 2450 531 \nL 3481 531 \nL 3481 0 \nL 794 0 \nL 794 531 \nz\n\" transform=\"scale(0.015625)\"/>\n       </defs>\n       <use xlink:href=\"#DejaVuSans-31\"/>\n       <use xlink:href=\"#DejaVuSans-30\" x=\"63.623047\"/>\n      </g>\n     </g>\n    </g>\n    <g id=\"xtick_4\">\n     <g id=\"line2d_7\">\n      <path d=\"M 183.479571 287.456049 \nL 183.479571 7.520049 \n\" clip-path=\"url(#p7b50f562fa)\" style=\"fill: none; stroke: #cbcbcb\"/>\n     </g>\n     <g id=\"line2d_8\"/>\n     <g id=\"text_4\">\n      <!-- 15 -->\n      <g transform=\"translate(174.572071 301.593862) scale(0.14 -0.14)\">\n       <use xlink:href=\"#DejaVuSans-31\"/>\n       <use xlink:href=\"#DejaVuSans-35\" x=\"63.623047\"/>\n      </g>\n     </g>\n    </g>\n    <g id=\"xtick_5\">\n     <g id=\"line2d_9\">\n      <path d=\"M 233.468143 287.456049 \nL 233.468143 7.520049 \n\" clip-path=\"url(#p7b50f562fa)\" style=\"fill: none; stroke: #cbcbcb\"/>\n     </g>\n     <g id=\"line2d_10\"/>\n     <g id=\"text_5\">\n      <!-- 20 -->\n      <g transform=\"translate(224.560643 301.593862) scale(0.14 -0.14)\">\n       <defs>\n        <path id=\"DejaVuSans-32\" d=\"M 1228 531 \nL 3431 531 \nL 3431 0 \nL 469 0 \nL 469 531 \nQ 828 903 1448 1529 \nQ 2069 2156 2228 2338 \nQ 2531 2678 2651 2914 \nQ 2772 3150 2772 3378 \nQ 2772 3750 2511 3984 \nQ 2250 4219 1831 4219 \nQ 1534 4219 1204 4116 \nQ 875 4013 500 3803 \nL 500 4441 \nQ 881 4594 1212 4672 \nQ 1544 4750 1819 4750 \nQ 2544 4750 2975 4387 \nQ 3406 4025 3406 3419 \nQ 3406 3131 3298 2873 \nQ 3191 2616 2906 2266 \nQ 2828 2175 2409 1742 \nQ 1991 1309 1228 531 \nz\n\" transform=\"scale(0.015625)\"/>\n       </defs>\n       <use xlink:href=\"#DejaVuSans-32\"/>\n       <use xlink:href=\"#DejaVuSans-30\" x=\"63.623047\"/>\n      </g>\n     </g>\n    </g>\n    <g id=\"xtick_6\">\n     <g id=\"line2d_11\">\n      <path d=\"M 283.456714 287.456049 \nL 283.456714 7.520049 \n\" clip-path=\"url(#p7b50f562fa)\" style=\"fill: none; stroke: #cbcbcb\"/>\n     </g>\n     <g id=\"line2d_12\"/>\n     <g id=\"text_6\">\n      <!-- 25 -->\n      <g transform=\"translate(274.549214 301.593862) scale(0.14 -0.14)\">\n       <use xlink:href=\"#DejaVuSans-32\"/>\n       <use xlink:href=\"#DejaVuSans-35\" x=\"63.623047\"/>\n      </g>\n     </g>\n    </g>\n   </g>\n   <g id=\"matplotlib.axis_2\">\n    <g id=\"ytick_1\">\n     <g id=\"line2d_13\">\n      <path d=\"M 28.515 12.518906 \nL 308.451 12.518906 \n\" clip-path=\"url(#p7b50f562fa)\" style=\"fill: none; stroke: #cbcbcb\"/>\n     </g>\n     <g id=\"line2d_14\"/>\n     <g id=\"text_7\">\n      <!-- 0 -->\n      <g transform=\"translate(16.1075 17.837812) scale(0.14 -0.14)\">\n       <use xlink:href=\"#DejaVuSans-30\"/>\n      </g>\n     </g>\n    </g>\n    <g id=\"ytick_2\">\n     <g id=\"line2d_15\">\n      <path d=\"M 28.515 62.507478 \nL 308.451 62.507478 \n\" clip-path=\"url(#p7b50f562fa)\" style=\"fill: none; stroke: #cbcbcb\"/>\n     </g>\n     <g id=\"line2d_16\"/>\n     <g id=\"text_8\">\n      <!-- 5 -->\n      <g transform=\"translate(16.1075 67.826384) scale(0.14 -0.14)\">\n       <use xlink:href=\"#DejaVuSans-35\"/>\n      </g>\n     </g>\n    </g>\n    <g id=\"ytick_3\">\n     <g id=\"line2d_17\">\n      <path d=\"M 28.515 112.496049 \nL 308.451 112.496049 \n\" clip-path=\"url(#p7b50f562fa)\" style=\"fill: none; stroke: #cbcbcb\"/>\n     </g>\n     <g id=\"line2d_18\"/>\n     <g id=\"text_9\">\n      <!-- 10 -->\n      <g transform=\"translate(7.2 117.814955) scale(0.14 -0.14)\">\n       <use xlink:href=\"#DejaVuSans-31\"/>\n       <use xlink:href=\"#DejaVuSans-30\" x=\"63.623047\"/>\n      </g>\n     </g>\n    </g>\n    <g id=\"ytick_4\">\n     <g id=\"line2d_19\">\n      <path d=\"M 28.515 162.484621 \nL 308.451 162.484621 \n\" clip-path=\"url(#p7b50f562fa)\" style=\"fill: none; stroke: #cbcbcb\"/>\n     </g>\n     <g id=\"line2d_20\"/>\n     <g id=\"text_10\">\n      <!-- 15 -->\n      <g transform=\"translate(7.2 167.803527) scale(0.14 -0.14)\">\n       <use xlink:href=\"#DejaVuSans-31\"/>\n       <use xlink:href=\"#DejaVuSans-35\" x=\"63.623047\"/>\n      </g>\n     </g>\n    </g>\n    <g id=\"ytick_5\">\n     <g id=\"line2d_21\">\n      <path d=\"M 28.515 212.473192 \nL 308.451 212.473192 \n\" clip-path=\"url(#p7b50f562fa)\" style=\"fill: none; stroke: #cbcbcb\"/>\n     </g>\n     <g id=\"line2d_22\"/>\n     <g id=\"text_11\">\n      <!-- 20 -->\n      <g transform=\"translate(7.2 217.792098) scale(0.14 -0.14)\">\n       <use xlink:href=\"#DejaVuSans-32\"/>\n       <use xlink:href=\"#DejaVuSans-30\" x=\"63.623047\"/>\n      </g>\n     </g>\n    </g>\n    <g id=\"ytick_6\">\n     <g id=\"line2d_23\">\n      <path d=\"M 28.515 262.461763 \nL 308.451 262.461763 \n\" clip-path=\"url(#p7b50f562fa)\" style=\"fill: none; stroke: #cbcbcb\"/>\n     </g>\n     <g id=\"line2d_24\"/>\n     <g id=\"text_12\">\n      <!-- 25 -->\n      <g transform=\"translate(7.2 267.78067) scale(0.14 -0.14)\">\n       <use xlink:href=\"#DejaVuSans-32\"/>\n       <use xlink:href=\"#DejaVuSans-35\" x=\"63.623047\"/>\n      </g>\n     </g>\n    </g>\n   </g>\n   <g id=\"patch_3\">\n    <path d=\"M 28.515 287.456049 \nL 28.515 7.520049 \n\" style=\"fill: none; stroke: #f0f0f0; stroke-width: 3; stroke-linejoin: miter; stroke-linecap: square\"/>\n   </g>\n   <g id=\"patch_4\">\n    <path d=\"M 308.451 287.456049 \nL 308.451 7.520049 \n\" style=\"fill: none; stroke: #f0f0f0; stroke-width: 3; stroke-linejoin: miter; stroke-linecap: square\"/>\n   </g>\n   <g id=\"patch_5\">\n    <path d=\"M 28.515 287.456049 \nL 308.451 287.456049 \n\" style=\"fill: none; stroke: #f0f0f0; stroke-width: 3; stroke-linejoin: miter; stroke-linecap: square\"/>\n   </g>\n   <g id=\"patch_6\">\n    <path d=\"M 28.515 7.520049 \nL 308.451 7.520049 \n\" style=\"fill: none; stroke: #f0f0f0; stroke-width: 3; stroke-linejoin: miter; stroke-linecap: square\"/>\n   </g>\n  </g>\n </g>\n <defs>\n  <clipPath id=\"p7b50f562fa\">\n   <rect x=\"28.515\" y=\"7.520049\" width=\"279.936\" height=\"279.936\"/>\n  </clipPath>\n </defs>\n</svg>\n",
      "text/plain": [
       "<Figure size 640x480 with 1 Axes>"
      ]
     },
     "metadata": {},
     "output_type": "display_data"
    }
   ],
   "source": [
    "means = []\n",
    "stds = []\n",
    "for batch in data.train_dl:\n",
    "    x, y = batch\n",
    "    means.append(x.mean())\n",
    "    stds.append(x.std())\n",
    "    \n",
    "\n",
    "img = x[0]\n",
    "\n",
    "print (img.max())\n",
    "plt.imshow(img.view(28,28));\n",
    "\n",
    "print (sum(means)/len(means))\n",
    "print (sum(stds)/len(means))\n"
   ]
  },
  {
   "cell_type": "code",
   "execution_count": null,
   "metadata": {},
   "outputs": [],
   "source": []
  },
  {
   "cell_type": "code",
   "execution_count": 196,
   "metadata": {},
   "outputs": [],
   "source": [
    "class Classifier(nn.Module):\n",
    "    def __init__(self, in_features, out_features, num_hidden, lr=0.1):\n",
    "        super().__init__()\n",
    "        self.W1 = nn.Parameter(torch.randn(\n",
    "            in_features, num_hidden)*(2.0/in_features)**0.5)\n",
    "        self.b1 = nn.Parameter(torch.zeros(num_hidden)/in_features**0.5)\n",
    "\n",
    "        self.W2 = nn.Parameter(torch.randn(\n",
    "            num_hidden, num_hidden)*(2.0/num_hidden)**0.5)\n",
    "        self.b2 = nn.Parameter(torch.zeros(num_hidden)/num_hidden**0.5)\n",
    "\n",
    "        self.W3 = nn.Parameter(torch.randn(\n",
    "            num_hidden, out_features)/num_hidden**0.5)\n",
    "        self.b3 = nn.Parameter(torch.zeros(out_features)/num_hidden**0.5)\n",
    "\n",
    "        self.lr = lr\n",
    "        self.dropout = 0.5\n",
    "\n",
    "        self.optimizer = self.configure_optimizer()\n",
    "\n",
    "    def relu(self, x):\n",
    "        a = torch.zeros_like(x)\n",
    "        return torch.max(a, x)\n",
    "\n",
    "    def training_step(self, x):\n",
    "        x = x.view(-1, self.W1.shape[0])\n",
    "\n",
    "        h1 = self.relu(x @ self.W1 + self.b1)\n",
    "        h1 = self.dropout_layer(h1, self.dropout)\n",
    "\n",
    "        h2 = self.relu(h1 @ self.W2 + self.b2)\n",
    "        h2 = self.dropout_layer(h2, self.dropout)\n",
    "\n",
    "        return h2 @ self.W3 + self.b3\n",
    "\n",
    "    def validation_step(self, x):\n",
    "        x = x.view(-1, self.W1.shape[0])\n",
    "        h1 = self.relu(x @ self.W1 + self.b1)\n",
    "        h2 = self.relu(h1 @ self.W2 + self.b2)\n",
    "        return h2 @ self.W3 + self.b3\n",
    "\n",
    "    def loss(self, x, y):\n",
    "        return nn.functional.cross_entropy(x, y)\n",
    "\n",
    "    def configure_optimizer(self):\n",
    "        optimizer = torch.optim.SGD(self.parameters(), self.lr)\n",
    "        return optimizer\n",
    "\n",
    "    def accuracy(self, Y_hat, y):\n",
    "        Y_hat = Y_hat.reshape((-1, Y_hat.shape[-1]))\n",
    "        preds = Y_hat.argmax(axis=1).long()\n",
    "        compare = (preds == y).float()\n",
    "        return compare.mean()\n",
    "\n",
    "    def dropout_layer(self, x, dropout):\n",
    "        assert 0 <= dropout <= 1\n",
    "        if dropout == 1.0:\n",
    "            return torch.zeros_like(x)\n",
    "        mask = (torch.rand(x.shape) > dropout).float()\n",
    "        return mask * x / (1.0 - dropout)\n"
   ]
  },
  {
   "cell_type": "code",
   "execution_count": 197,
   "metadata": {},
   "outputs": [],
   "source": [
    "model = Classifier(784, 10, 256, lr = 0.1)"
   ]
  },
  {
   "cell_type": "code",
   "execution_count": 198,
   "metadata": {},
   "outputs": [],
   "source": [
    "\n",
    "\n",
    "class Trainer:\n",
    "    def __init__(self, max_epochs, smooth=5):\n",
    "        self.max_epochs = max_epochs\n",
    "        self.smooth = smooth\n",
    "        self.fig = None\n",
    "        self.out_strings = ''\n",
    "\n",
    "    def fit(self, model, train_data, val_data):\n",
    "        epochs = []\n",
    "        train_losses = []\n",
    "        val_losses = []\n",
    "        accuracies = []\n",
    "        logits_std = []\n",
    "        for epoch in range(1, self.max_epochs+1):\n",
    "            for batch in train_data:\n",
    "\n",
    "                # Minibatch\n",
    "                x, y = batch\n",
    "\n",
    "                # Forward\n",
    "                logits = model.training_step(x)\n",
    "\n",
    "                # loss\n",
    "                train_loss = model.loss(logits, y)\n",
    "\n",
    "                # Backward and update\n",
    "                model.optimizer.zero_grad(set_to_none=True)\n",
    "                train_loss.backward()\n",
    "                model.optimizer.step()\n",
    "\n",
    "            # Validation Loss\n",
    "            with torch.no_grad():\n",
    "                for batch in data.val_dl:\n",
    "                    x, y = batch\n",
    "                    logits = model.validation_step(x)\n",
    "                    val_loss = model.loss(logits, y)\n",
    "                    accuracy = model.accuracy(logits, y)\n",
    "                    break\n",
    "\n",
    "            epochs.append(epoch)\n",
    "            train_losses.append(train_loss.item())\n",
    "            val_losses.append(val_loss.item())\n",
    "            accuracies.append(accuracy.item())\n",
    "            logits_std.append(logits.std().item())\n",
    "            #print (logits_std[-1])\n",
    "\n",
    "            if epoch % self.smooth == 0:\n",
    "                self.print_epoch(epochs, train_losses, val_losses, accuracies)\n",
    "                self.plot(epochs, train_losses, val_losses, accuracies, logits.view(-1).detach())\n",
    "\n",
    "    def print_epoch(self, epochs, train_losses, val_losses, accuracies):\n",
    "        # Training losses\n",
    "\n",
    "        out_string = f'Epoch {epochs[-1]:>4d}/{self.max_epochs:>4d}:  '\n",
    "        out_string += f'training loss = {train_losses[-1]:6.3f},  '\n",
    "        out_string += f'validation loss = {val_losses[-1]:6.3f},  '\n",
    "        out_string += f'accuracy = {accuracies[-1]:6.3f}'\n",
    "        out_string += '\\n'\n",
    "        self.out_strings += out_string\n",
    "        print(self.out_strings)\n",
    "\n",
    "    def plot(self, epochs, train_losses, val_losses, accuracies, logits):\n",
    "        \n",
    "        if self.fig is None:\n",
    "            self.fig, (self.ax1, self.ax2) = plt.subplots(1, 2, figsize=(10,3.75))\n",
    "            self.init_logits = logits\n",
    "            self.init_epoch = epochs[-1]\n",
    "\n",
    "        # Smooth for plotting\n",
    "        tl = torch.tensor(train_losses).view(-1, self.smooth).mean(axis=1)\n",
    "        vl = torch.tensor(val_losses).view(-1, self.smooth).mean(axis=1)\n",
    "        ac = torch.tensor(accuracies).view(-1, self.smooth).mean(axis=1)\n",
    "        ep = torch.tensor(epochs).float().view(-1, self.smooth).mean(axis=1)\n",
    "\n",
    "        # Make plots\n",
    "        self.ax1.cla()\n",
    "        self.ax1.plot(epochs, train_losses, 'C0', alpha=0.15)\n",
    "        self.ax1.plot(epochs, val_losses, 'C1', alpha=0.15)\n",
    "        self.ax1.plot(epochs, accuracies, 'C2', alpha=0.15)\n",
    "\n",
    "        self.ax1.plot(ep, tl, 'C0', label='Train loss')\n",
    "        self.ax1.plot(ep, vl, 'C1--', label='Val loss')\n",
    "        self.ax1.plot(ep, ac, 'C2:', label='Accuracy')\n",
    "\n",
    "        # Label Plots\n",
    "        self.ax1.set_xlabel('Epochs')\n",
    "        self.ax1.legend()\n",
    "\n",
    "        self.ax2.cla()\n",
    "        self.ax2.hist(self.init_logits,50,density=True,label=f'Epoch {self.init_epoch}',histtype='step',linewidth=5)\n",
    "        self.ax2.hist(logits,50,density=True,label=f'Epoch {epochs[-1]}',histtype='step',linewidth=3)        \n",
    "        self.ax2.set_xlabel('Logits')\n",
    "        self.ax2.legend()\n",
    "\n",
    "        if epochs[-1] < self.max_epochs:\n",
    "            display.display(self.fig)\n",
    "            display.clear_output(wait=True)\n",
    "        else:\n",
    "            display.display(self.fig)\n",
    "            display.clear_output(wait=True)\n",
    "            # Reprint out_strings since it was killed by clear outputs\n",
    "            print(self.out_strings)\n"
   ]
  },
  {
   "cell_type": "code",
   "execution_count": 199,
   "metadata": {},
   "outputs": [
    {
     "name": "stdout",
     "output_type": "stream",
     "text": [
      "Epoch    5/ 100:  training loss =   0.57,  validation loss =   0.45,  accuracy =   0.82\n",
      "Epoch   10/ 100:  training loss =   0.52,  validation loss =   0.39,  accuracy =   0.87\n",
      "Epoch   15/ 100:  training loss =   0.41,  validation loss =   0.43,  accuracy =   0.84\n",
      "Epoch   20/ 100:  training loss =   0.40,  validation loss =   0.40,  accuracy =   0.85\n",
      "Epoch   25/ 100:  training loss =   0.38,  validation loss =   0.35,  accuracy =   0.87\n",
      "Epoch   30/ 100:  training loss =   0.41,  validation loss =   0.37,  accuracy =   0.87\n",
      "Epoch   35/ 100:  training loss =   0.36,  validation loss =   0.34,  accuracy =   0.87\n",
      "Epoch   40/ 100:  training loss =   0.34,  validation loss =   0.37,  accuracy =   0.86\n",
      "Epoch   45/ 100:  training loss =   0.39,  validation loss =   0.36,  accuracy =   0.88\n",
      "Epoch   50/ 100:  training loss =   0.41,  validation loss =   0.35,  accuracy =   0.88\n",
      "Epoch   55/ 100:  training loss =   0.31,  validation loss =   0.34,  accuracy =   0.88\n",
      "Epoch   60/ 100:  training loss =   0.31,  validation loss =   0.36,  accuracy =   0.86\n",
      "Epoch   65/ 100:  training loss =   0.36,  validation loss =   0.37,  accuracy =   0.88\n",
      "Epoch   70/ 100:  training loss =   0.31,  validation loss =   0.34,  accuracy =   0.88\n",
      "Epoch   75/ 100:  training loss =   0.33,  validation loss =   0.32,  accuracy =   0.88\n",
      "Epoch   80/ 100:  training loss =   0.35,  validation loss =   0.33,  accuracy =   0.88\n",
      "Epoch   85/ 100:  training loss =   0.33,  validation loss =   0.30,  accuracy =   0.90\n",
      "Epoch   90/ 100:  training loss =   0.29,  validation loss =   0.32,  accuracy =   0.89\n",
      "Epoch   95/ 100:  training loss =   0.27,  validation loss =   0.33,  accuracy =   0.87\n",
      "Epoch  100/ 100:  training loss =   0.29,  validation loss =   0.32,  accuracy =   0.89\n",
      "\n"
     ]
    },
    {
     "data": {
      "image/svg+xml": "<?xml version=\"1.0\" encoding=\"utf-8\" standalone=\"no\"?>\n<!DOCTYPE svg PUBLIC \"-//W3C//DTD SVG 1.1//EN\"\n  \"http://www.w3.org/Graphics/SVG/1.1/DTD/svg11.dtd\">\n<svg xmlns:xlink=\"http://www.w3.org/1999/xlink\" width=\"666.564375pt\" height=\"275.147601pt\" viewBox=\"0 0 666.564375 275.147601\" xmlns=\"http://www.w3.org/2000/svg\" version=\"1.1\">\n <metadata>\n  <rdf:RDF xmlns:dc=\"http://purl.org/dc/elements/1.1/\" xmlns:cc=\"http://creativecommons.org/ns#\" xmlns:rdf=\"http://www.w3.org/1999/02/22-rdf-syntax-ns#\">\n   <cc:Work>\n    <dc:type rdf:resource=\"http://purl.org/dc/dcmitype/StillImage\"/>\n    <dc:date>2023-01-21T09:55:22.993790</dc:date>\n    <dc:format>image/svg+xml</dc:format>\n    <dc:creator>\n     <cc:Agent>\n      <dc:title>Matplotlib v3.6.3, https://matplotlib.org/</dc:title>\n     </cc:Agent>\n    </dc:creator>\n   </cc:Work>\n  </rdf:RDF>\n </metadata>\n <defs>\n  <style type=\"text/css\">*{stroke-linejoin: round; stroke-linecap: butt}</style>\n </defs>\n <g id=\"figure_1\">\n  <g id=\"patch_1\">\n   <path d=\"M 0 275.147601 \nL 666.564375 275.147601 \nL 666.564375 0 \nL 0 0 \nz\n\" style=\"fill: #f0f0f0\"/>\n  </g>\n  <g id=\"axes_1\">\n   <g id=\"patch_2\">\n    <path d=\"M 32.964375 230.638976 \nL 317.691648 230.638976 \nL 317.691648 11.938976 \nL 32.964375 11.938976 \nz\n\" style=\"fill: #f0f0f0\"/>\n   </g>\n   <g id=\"matplotlib.axis_1\">\n    <g id=\"xtick_1\">\n     <g id=\"line2d_1\">\n      <path d=\"M 43.291948 230.638976 \nL 43.291948 11.938976 \n\" clip-path=\"url(#p4bfd68326f)\" style=\"fill: none; stroke: #cbcbcb\"/>\n     </g>\n     <g id=\"line2d_2\"/>\n     <g id=\"text_1\">\n      <!-- 0 -->\n      <g transform=\"translate(38.838198 244.776788) scale(0.14 -0.14)\">\n       <defs>\n        <path id=\"DejaVuSans-30\" d=\"M 2034 4250 \nQ 1547 4250 1301 3770 \nQ 1056 3291 1056 2328 \nQ 1056 1369 1301 889 \nQ 1547 409 2034 409 \nQ 2525 409 2770 889 \nQ 3016 1369 3016 2328 \nQ 3016 3291 2770 3770 \nQ 2525 4250 2034 4250 \nz\nM 2034 4750 \nQ 2819 4750 3233 4129 \nQ 3647 3509 3647 2328 \nQ 3647 1150 3233 529 \nQ 2819 -91 2034 -91 \nQ 1250 -91 836 529 \nQ 422 1150 422 2328 \nQ 422 3509 836 4129 \nQ 1250 4750 2034 4750 \nz\n\" transform=\"scale(0.015625)\"/>\n       </defs>\n       <use xlink:href=\"#DejaVuSans-30\"/>\n      </g>\n     </g>\n    </g>\n    <g id=\"xtick_2\">\n     <g id=\"line2d_3\">\n      <path d=\"M 95.583458 230.638976 \nL 95.583458 11.938976 \n\" clip-path=\"url(#p4bfd68326f)\" style=\"fill: none; stroke: #cbcbcb\"/>\n     </g>\n     <g id=\"line2d_4\"/>\n     <g id=\"text_2\">\n      <!-- 20 -->\n      <g transform=\"translate(86.675958 244.776788) scale(0.14 -0.14)\">\n       <defs>\n        <path id=\"DejaVuSans-32\" d=\"M 1228 531 \nL 3431 531 \nL 3431 0 \nL 469 0 \nL 469 531 \nQ 828 903 1448 1529 \nQ 2069 2156 2228 2338 \nQ 2531 2678 2651 2914 \nQ 2772 3150 2772 3378 \nQ 2772 3750 2511 3984 \nQ 2250 4219 1831 4219 \nQ 1534 4219 1204 4116 \nQ 875 4013 500 3803 \nL 500 4441 \nQ 881 4594 1212 4672 \nQ 1544 4750 1819 4750 \nQ 2544 4750 2975 4387 \nQ 3406 4025 3406 3419 \nQ 3406 3131 3298 2873 \nQ 3191 2616 2906 2266 \nQ 2828 2175 2409 1742 \nQ 1991 1309 1228 531 \nz\n\" transform=\"scale(0.015625)\"/>\n       </defs>\n       <use xlink:href=\"#DejaVuSans-32\"/>\n       <use xlink:href=\"#DejaVuSans-30\" x=\"63.623047\"/>\n      </g>\n     </g>\n    </g>\n    <g id=\"xtick_3\">\n     <g id=\"line2d_5\">\n      <path d=\"M 147.874969 230.638976 \nL 147.874969 11.938976 \n\" clip-path=\"url(#p4bfd68326f)\" style=\"fill: none; stroke: #cbcbcb\"/>\n     </g>\n     <g id=\"line2d_6\"/>\n     <g id=\"text_3\">\n      <!-- 40 -->\n      <g transform=\"translate(138.967469 244.776788) scale(0.14 -0.14)\">\n       <defs>\n        <path id=\"DejaVuSans-34\" d=\"M 2419 4116 \nL 825 1625 \nL 2419 1625 \nL 2419 4116 \nz\nM 2253 4666 \nL 3047 4666 \nL 3047 1625 \nL 3713 1625 \nL 3713 1100 \nL 3047 1100 \nL 3047 0 \nL 2419 0 \nL 2419 1100 \nL 313 1100 \nL 313 1709 \nL 2253 4666 \nz\n\" transform=\"scale(0.015625)\"/>\n       </defs>\n       <use xlink:href=\"#DejaVuSans-34\"/>\n       <use xlink:href=\"#DejaVuSans-30\" x=\"63.623047\"/>\n      </g>\n     </g>\n    </g>\n    <g id=\"xtick_4\">\n     <g id=\"line2d_7\">\n      <path d=\"M 200.166479 230.638976 \nL 200.166479 11.938976 \n\" clip-path=\"url(#p4bfd68326f)\" style=\"fill: none; stroke: #cbcbcb\"/>\n     </g>\n     <g id=\"line2d_8\"/>\n     <g id=\"text_4\">\n      <!-- 60 -->\n      <g transform=\"translate(191.258979 244.776788) scale(0.14 -0.14)\">\n       <defs>\n        <path id=\"DejaVuSans-36\" d=\"M 2113 2584 \nQ 1688 2584 1439 2293 \nQ 1191 2003 1191 1497 \nQ 1191 994 1439 701 \nQ 1688 409 2113 409 \nQ 2538 409 2786 701 \nQ 3034 994 3034 1497 \nQ 3034 2003 2786 2293 \nQ 2538 2584 2113 2584 \nz\nM 3366 4563 \nL 3366 3988 \nQ 3128 4100 2886 4159 \nQ 2644 4219 2406 4219 \nQ 1781 4219 1451 3797 \nQ 1122 3375 1075 2522 \nQ 1259 2794 1537 2939 \nQ 1816 3084 2150 3084 \nQ 2853 3084 3261 2657 \nQ 3669 2231 3669 1497 \nQ 3669 778 3244 343 \nQ 2819 -91 2113 -91 \nQ 1303 -91 875 529 \nQ 447 1150 447 2328 \nQ 447 3434 972 4092 \nQ 1497 4750 2381 4750 \nQ 2619 4750 2861 4703 \nQ 3103 4656 3366 4563 \nz\n\" transform=\"scale(0.015625)\"/>\n       </defs>\n       <use xlink:href=\"#DejaVuSans-36\"/>\n       <use xlink:href=\"#DejaVuSans-30\" x=\"63.623047\"/>\n      </g>\n     </g>\n    </g>\n    <g id=\"xtick_5\">\n     <g id=\"line2d_9\">\n      <path d=\"M 252.457989 230.638976 \nL 252.457989 11.938976 \n\" clip-path=\"url(#p4bfd68326f)\" style=\"fill: none; stroke: #cbcbcb\"/>\n     </g>\n     <g id=\"line2d_10\"/>\n     <g id=\"text_5\">\n      <!-- 80 -->\n      <g transform=\"translate(243.550489 244.776788) scale(0.14 -0.14)\">\n       <defs>\n        <path id=\"DejaVuSans-38\" d=\"M 2034 2216 \nQ 1584 2216 1326 1975 \nQ 1069 1734 1069 1313 \nQ 1069 891 1326 650 \nQ 1584 409 2034 409 \nQ 2484 409 2743 651 \nQ 3003 894 3003 1313 \nQ 3003 1734 2745 1975 \nQ 2488 2216 2034 2216 \nz\nM 1403 2484 \nQ 997 2584 770 2862 \nQ 544 3141 544 3541 \nQ 544 4100 942 4425 \nQ 1341 4750 2034 4750 \nQ 2731 4750 3128 4425 \nQ 3525 4100 3525 3541 \nQ 3525 3141 3298 2862 \nQ 3072 2584 2669 2484 \nQ 3125 2378 3379 2068 \nQ 3634 1759 3634 1313 \nQ 3634 634 3220 271 \nQ 2806 -91 2034 -91 \nQ 1263 -91 848 271 \nQ 434 634 434 1313 \nQ 434 1759 690 2068 \nQ 947 2378 1403 2484 \nz\nM 1172 3481 \nQ 1172 3119 1398 2916 \nQ 1625 2713 2034 2713 \nQ 2441 2713 2670 2916 \nQ 2900 3119 2900 3481 \nQ 2900 3844 2670 4047 \nQ 2441 4250 2034 4250 \nQ 1625 4250 1398 4047 \nQ 1172 3844 1172 3481 \nz\n\" transform=\"scale(0.015625)\"/>\n       </defs>\n       <use xlink:href=\"#DejaVuSans-38\"/>\n       <use xlink:href=\"#DejaVuSans-30\" x=\"63.623047\"/>\n      </g>\n     </g>\n    </g>\n    <g id=\"xtick_6\">\n     <g id=\"line2d_11\">\n      <path d=\"M 304.749499 230.638976 \nL 304.749499 11.938976 \n\" clip-path=\"url(#p4bfd68326f)\" style=\"fill: none; stroke: #cbcbcb\"/>\n     </g>\n     <g id=\"line2d_12\"/>\n     <g id=\"text_6\">\n      <!-- 100 -->\n      <g transform=\"translate(291.388249 244.776788) scale(0.14 -0.14)\">\n       <defs>\n        <path id=\"DejaVuSans-31\" d=\"M 794 531 \nL 1825 531 \nL 1825 4091 \nL 703 3866 \nL 703 4441 \nL 1819 4666 \nL 2450 4666 \nL 2450 531 \nL 3481 531 \nL 3481 0 \nL 794 0 \nL 794 531 \nz\n\" transform=\"scale(0.015625)\"/>\n       </defs>\n       <use xlink:href=\"#DejaVuSans-31\"/>\n       <use xlink:href=\"#DejaVuSans-30\" x=\"63.623047\"/>\n       <use xlink:href=\"#DejaVuSans-30\" x=\"127.246094\"/>\n      </g>\n     </g>\n    </g>\n    <g id=\"text_7\">\n     <!-- Epochs -->\n     <g transform=\"translate(145.229761 264.453726) scale(0.168 -0.168)\">\n      <defs>\n       <path id=\"DejaVuSans-45\" d=\"M 628 4666 \nL 3578 4666 \nL 3578 4134 \nL 1259 4134 \nL 1259 2753 \nL 3481 2753 \nL 3481 2222 \nL 1259 2222 \nL 1259 531 \nL 3634 531 \nL 3634 0 \nL 628 0 \nL 628 4666 \nz\n\" transform=\"scale(0.015625)\"/>\n       <path id=\"DejaVuSans-70\" d=\"M 1159 525 \nL 1159 -1331 \nL 581 -1331 \nL 581 3500 \nL 1159 3500 \nL 1159 2969 \nQ 1341 3281 1617 3432 \nQ 1894 3584 2278 3584 \nQ 2916 3584 3314 3078 \nQ 3713 2572 3713 1747 \nQ 3713 922 3314 415 \nQ 2916 -91 2278 -91 \nQ 1894 -91 1617 61 \nQ 1341 213 1159 525 \nz\nM 3116 1747 \nQ 3116 2381 2855 2742 \nQ 2594 3103 2138 3103 \nQ 1681 3103 1420 2742 \nQ 1159 2381 1159 1747 \nQ 1159 1113 1420 752 \nQ 1681 391 2138 391 \nQ 2594 391 2855 752 \nQ 3116 1113 3116 1747 \nz\n\" transform=\"scale(0.015625)\"/>\n       <path id=\"DejaVuSans-6f\" d=\"M 1959 3097 \nQ 1497 3097 1228 2736 \nQ 959 2375 959 1747 \nQ 959 1119 1226 758 \nQ 1494 397 1959 397 \nQ 2419 397 2687 759 \nQ 2956 1122 2956 1747 \nQ 2956 2369 2687 2733 \nQ 2419 3097 1959 3097 \nz\nM 1959 3584 \nQ 2709 3584 3137 3096 \nQ 3566 2609 3566 1747 \nQ 3566 888 3137 398 \nQ 2709 -91 1959 -91 \nQ 1206 -91 779 398 \nQ 353 888 353 1747 \nQ 353 2609 779 3096 \nQ 1206 3584 1959 3584 \nz\n\" transform=\"scale(0.015625)\"/>\n       <path id=\"DejaVuSans-63\" d=\"M 3122 3366 \nL 3122 2828 \nQ 2878 2963 2633 3030 \nQ 2388 3097 2138 3097 \nQ 1578 3097 1268 2742 \nQ 959 2388 959 1747 \nQ 959 1106 1268 751 \nQ 1578 397 2138 397 \nQ 2388 397 2633 464 \nQ 2878 531 3122 666 \nL 3122 134 \nQ 2881 22 2623 -34 \nQ 2366 -91 2075 -91 \nQ 1284 -91 818 406 \nQ 353 903 353 1747 \nQ 353 2603 823 3093 \nQ 1294 3584 2113 3584 \nQ 2378 3584 2631 3529 \nQ 2884 3475 3122 3366 \nz\n\" transform=\"scale(0.015625)\"/>\n       <path id=\"DejaVuSans-68\" d=\"M 3513 2113 \nL 3513 0 \nL 2938 0 \nL 2938 2094 \nQ 2938 2591 2744 2837 \nQ 2550 3084 2163 3084 \nQ 1697 3084 1428 2787 \nQ 1159 2491 1159 1978 \nL 1159 0 \nL 581 0 \nL 581 4863 \nL 1159 4863 \nL 1159 2956 \nQ 1366 3272 1645 3428 \nQ 1925 3584 2291 3584 \nQ 2894 3584 3203 3211 \nQ 3513 2838 3513 2113 \nz\n\" transform=\"scale(0.015625)\"/>\n       <path id=\"DejaVuSans-73\" d=\"M 2834 3397 \nL 2834 2853 \nQ 2591 2978 2328 3040 \nQ 2066 3103 1784 3103 \nQ 1356 3103 1142 2972 \nQ 928 2841 928 2578 \nQ 928 2378 1081 2264 \nQ 1234 2150 1697 2047 \nL 1894 2003 \nQ 2506 1872 2764 1633 \nQ 3022 1394 3022 966 \nQ 3022 478 2636 193 \nQ 2250 -91 1575 -91 \nQ 1294 -91 989 -36 \nQ 684 19 347 128 \nL 347 722 \nQ 666 556 975 473 \nQ 1284 391 1588 391 \nQ 1994 391 2212 530 \nQ 2431 669 2431 922 \nQ 2431 1156 2273 1281 \nQ 2116 1406 1581 1522 \nL 1381 1569 \nQ 847 1681 609 1914 \nQ 372 2147 372 2553 \nQ 372 3047 722 3315 \nQ 1072 3584 1716 3584 \nQ 2034 3584 2315 3537 \nQ 2597 3491 2834 3397 \nz\n\" transform=\"scale(0.015625)\"/>\n      </defs>\n      <use xlink:href=\"#DejaVuSans-45\"/>\n      <use xlink:href=\"#DejaVuSans-70\" x=\"63.183594\"/>\n      <use xlink:href=\"#DejaVuSans-6f\" x=\"126.660156\"/>\n      <use xlink:href=\"#DejaVuSans-63\" x=\"187.841797\"/>\n      <use xlink:href=\"#DejaVuSans-68\" x=\"242.822266\"/>\n      <use xlink:href=\"#DejaVuSans-73\" x=\"306.201172\"/>\n     </g>\n    </g>\n   </g>\n   <g id=\"matplotlib.axis_2\">\n    <g id=\"ytick_1\">\n     <g id=\"line2d_13\">\n      <path d=\"M 32.964375 176.103968 \nL 317.691648 176.103968 \n\" clip-path=\"url(#p4bfd68326f)\" style=\"fill: none; stroke: #cbcbcb\"/>\n     </g>\n     <g id=\"line2d_14\"/>\n     <g id=\"text_8\">\n      <!-- 0.4 -->\n      <g transform=\"translate(7.2 181.422874) scale(0.14 -0.14)\">\n       <defs>\n        <path id=\"DejaVuSans-2e\" d=\"M 684 794 \nL 1344 794 \nL 1344 0 \nL 684 0 \nL 684 794 \nz\n\" transform=\"scale(0.015625)\"/>\n       </defs>\n       <use xlink:href=\"#DejaVuSans-30\"/>\n       <use xlink:href=\"#DejaVuSans-2e\" x=\"63.623047\"/>\n       <use xlink:href=\"#DejaVuSans-34\" x=\"95.410156\"/>\n      </g>\n     </g>\n    </g>\n    <g id=\"ytick_2\">\n     <g id=\"line2d_15\">\n      <path d=\"M 32.964375 115.058177 \nL 317.691648 115.058177 \n\" clip-path=\"url(#p4bfd68326f)\" style=\"fill: none; stroke: #cbcbcb\"/>\n     </g>\n     <g id=\"line2d_16\"/>\n     <g id=\"text_9\">\n      <!-- 0.6 -->\n      <g transform=\"translate(7.2 120.377083) scale(0.14 -0.14)\">\n       <use xlink:href=\"#DejaVuSans-30\"/>\n       <use xlink:href=\"#DejaVuSans-2e\" x=\"63.623047\"/>\n       <use xlink:href=\"#DejaVuSans-36\" x=\"95.410156\"/>\n      </g>\n     </g>\n    </g>\n    <g id=\"ytick_3\">\n     <g id=\"line2d_17\">\n      <path d=\"M 32.964375 54.012386 \nL 317.691648 54.012386 \n\" clip-path=\"url(#p4bfd68326f)\" style=\"fill: none; stroke: #cbcbcb\"/>\n     </g>\n     <g id=\"line2d_18\"/>\n     <g id=\"text_10\">\n      <!-- 0.8 -->\n      <g transform=\"translate(7.2 59.331292) scale(0.14 -0.14)\">\n       <use xlink:href=\"#DejaVuSans-30\"/>\n       <use xlink:href=\"#DejaVuSans-2e\" x=\"63.623047\"/>\n       <use xlink:href=\"#DejaVuSans-38\" x=\"95.410156\"/>\n      </g>\n     </g>\n    </g>\n   </g>\n   <g id=\"line2d_19\">\n    <path d=\"M 45.906524 72.518276 \nL 48.521099 83.385011 \nL 51.135675 99.760187 \nL 53.75025 114.774394 \nL 56.364826 124.767717 \nL 58.979401 157.550053 \nL 61.593977 153.760474 \nL 64.208552 143.314963 \nL 66.823128 136.021819 \nL 69.437703 138.449246 \nL 72.052279 159.307375 \nL 74.666854 158.785771 \nL 77.28143 161.515549 \nL 79.896005 169.079352 \nL 82.510581 171.922473 \nL 85.125156 179.051825 \nL 87.739732 175.653761 \nL 90.354307 171.800061 \nL 92.968883 183.432578 \nL 95.583458 177.052525 \nL 98.198034 178.836692 \nL 100.812609 175.795639 \nL 103.427185 177.933734 \nL 106.04176 165.424611 \nL 108.656336 182.606467 \nL 111.270911 197.35441 \nL 113.885487 181.282922 \nL 116.500062 161.694769 \nL 119.114638 178.707739 \nL 121.729213 172.295039 \nL 124.343789 174.067189 \nL 126.958364 157.183954 \nL 129.57294 167.21922 \nL 132.187515 176.448616 \nL 134.802091 186.837564 \nL 137.416667 178.572783 \nL 140.031242 192.835954 \nL 142.645818 184.697342 \nL 145.260393 169.774299 \nL 147.874969 195.829277 \nL 150.489544 194.997044 \nL 153.10412 182.19474 \nL 155.718695 184.761763 \nL 158.333271 178.865164 \nL 160.947846 180.363763 \nL 163.562422 192.823346 \nL 166.176997 195.65828 \nL 168.791573 191.869811 \nL 171.406148 186.529892 \nL 174.020724 172.849082 \nL 176.635299 184.848408 \nL 179.249875 181.779502 \nL 181.86445 206.927282 \nL 184.479026 193.661346 \nL 187.093601 202.674763 \nL 189.708177 187.218418 \nL 192.322752 185.504586 \nL 194.937328 190.872659 \nL 197.551903 206.258205 \nL 200.166479 204.374932 \nL 202.781054 173.282168 \nL 205.39563 192.838073 \nL 208.010205 207.9572 \nL 210.624781 193.148602 \nL 213.239356 187.812967 \nL 215.853932 204.296028 \nL 218.468507 196.170269 \nL 221.083083 201.640705 \nL 223.697658 200.494069 \nL 226.312234 204.914047 \nL 228.926809 215.45518 \nL 231.541385 203.745242 \nL 234.15596 206.252183 \nL 236.770536 199.57965 \nL 239.385111 198.897555 \nL 241.999687 200.845941 \nL 244.614262 219.652657 \nL 247.228838 162.200036 \nL 249.843413 199.309301 \nL 252.457989 191.948405 \nL 255.072564 203.361478 \nL 257.68714 202.359177 \nL 260.301715 212.227667 \nL 262.916291 197.09455 \nL 265.530866 196.378962 \nL 268.145442 198.545001 \nL 270.760017 209.027007 \nL 273.374593 203.155451 \nL 275.989168 206.334143 \nL 278.603744 210.495551 \nL 281.218319 206.603673 \nL 283.832895 208.483726 \nL 286.44747 202.341484 \nL 289.062046 211.635292 \nL 291.676621 217.14457 \nL 294.291197 208.25131 \nL 296.905772 198.580832 \nL 299.520348 220.698067 \nL 302.134923 199.451452 \nL 304.749499 209.150229 \n\" clip-path=\"url(#p4bfd68326f)\" style=\"fill: none; stroke: #008fd5; stroke-opacity: 0.15; stroke-width: 4\"/>\n   </g>\n   <g id=\"line2d_20\">\n    <path d=\"M 45.906524 115.726074 \nL 48.521099 125.830283 \nL 51.135675 139.3458 \nL 53.75025 146.844317 \nL 56.364826 159.495692 \nL 58.979401 158.014931 \nL 61.593977 164.202091 \nL 64.208552 160.37498 \nL 66.823128 155.459133 \nL 69.437703 177.64762 \nL 72.052279 173.273444 \nL 74.666854 163.405144 \nL 77.28143 169.944514 \nL 79.896005 172.303608 \nL 82.510581 165.881275 \nL 85.125156 176.151841 \nL 87.739732 182.494871 \nL 90.354307 176.849127 \nL 92.968883 177.921235 \nL 95.583458 176.240578 \nL 98.198034 184.476642 \nL 100.812609 182.494962 \nL 103.427185 182.847062 \nL 106.04176 178.84436 \nL 108.656336 192.725786 \nL 111.270911 171.011782 \nL 113.885487 187.336282 \nL 116.500062 189.405825 \nL 119.114638 174.904034 \nL 121.729213 184.687126 \nL 124.343789 194.678456 \nL 126.958364 179.517604 \nL 129.57294 184.065378 \nL 132.187515 184.897338 \nL 134.802091 192.910564 \nL 137.416667 191.842231 \nL 140.031242 195.557445 \nL 142.645818 197.410245 \nL 145.260393 204.472892 \nL 147.874969 183.875998 \nL 150.489544 186.703509 \nL 153.10412 182.83218 \nL 155.718695 190.909027 \nL 158.333271 194.424954 \nL 160.947846 186.845751 \nL 163.562422 192.965561 \nL 166.176997 188.295584 \nL 168.791573 183.603975 \nL 171.406148 187.178775 \nL 174.020724 191.511699 \nL 176.635299 206.494524 \nL 179.249875 185.680649 \nL 181.86445 202.617691 \nL 184.479026 180.075567 \nL 187.093601 193.91866 \nL 189.708177 186.352647 \nL 192.322752 193.799804 \nL 194.937328 192.687098 \nL 197.551903 181.1594 \nL 200.166479 189.297157 \nL 202.781054 205.35249 \nL 205.39563 196.583297 \nL 208.010205 198.156461 \nL 210.624781 188.063559 \nL 213.239356 186.272788 \nL 215.853932 194.136194 \nL 218.468507 212.927973 \nL 221.083083 206.02718 \nL 223.697658 196.080487 \nL 226.312234 195.113907 \nL 228.926809 200.675909 \nL 231.541385 198.839556 \nL 234.15596 197.694402 \nL 236.770536 187.005814 \nL 239.385111 199.498208 \nL 241.999687 201.464524 \nL 244.614262 215.258768 \nL 247.228838 200.375651 \nL 249.843413 189.580887 \nL 252.457989 198.099871 \nL 255.072564 198.784158 \nL 257.68714 196.915694 \nL 260.301715 195.476259 \nL 262.916291 173.849382 \nL 265.530866 205.500737 \nL 268.145442 197.480625 \nL 270.760017 194.792463 \nL 273.374593 193.643162 \nL 275.989168 208.749363 \nL 278.603744 200.942128 \nL 281.218319 195.495953 \nL 283.832895 204.574646 \nL 286.44747 201.172698 \nL 289.062046 200.961022 \nL 291.676621 197.44866 \nL 294.291197 213.92548 \nL 296.905772 196.934733 \nL 299.520348 186.136376 \nL 302.134923 198.250228 \nL 304.749499 201.478359 \n\" clip-path=\"url(#p4bfd68326f)\" style=\"fill: none; stroke: #fc4f30; stroke-opacity: 0.15; stroke-width: 4\"/>\n   </g>\n   <g id=\"line2d_21\">\n    <path d=\"M 45.906524 59.735429 \nL 48.521099 60.629654 \nL 51.135675 54.370076 \nL 53.75025 52.879701 \nL 56.364826 46.918197 \nL 58.979401 45.129747 \nL 61.593977 42.745145 \nL 64.208552 46.322047 \nL 66.823128 41.85092 \nL 69.437703 33.802891 \nL 72.052279 35.591342 \nL 74.666854 40.062469 \nL 77.28143 42.44707 \nL 79.896005 38.572093 \nL 82.510581 41.85092 \nL 85.125156 37.677868 \nL 87.739732 32.61059 \nL 90.354307 34.995191 \nL 92.968883 37.379793 \nL 95.583458 38.572093 \nL 98.198034 32.312515 \nL 100.812609 35.293267 \nL 103.427185 31.120214 \nL 106.04176 34.995191 \nL 108.656336 33.802891 \nL 111.270911 35.293267 \nL 113.885487 30.225989 \nL 116.500062 32.312515 \nL 119.114638 39.168244 \nL 121.729213 32.01444 \nL 124.343789 30.822139 \nL 126.958364 35.591342 \nL 129.57294 34.399041 \nL 132.187515 35.293267 \nL 134.802091 32.908665 \nL 137.416667 31.41829 \nL 140.031242 31.41829 \nL 142.645818 29.033688 \nL 145.260393 27.245237 \nL 147.874969 34.697116 \nL 150.489544 32.01444 \nL 153.10412 34.697116 \nL 155.718695 32.61059 \nL 158.333271 31.120214 \nL 160.947846 29.629839 \nL 163.562422 24.860636 \nL 166.176997 34.399041 \nL 168.791573 36.485567 \nL 171.406148 34.399041 \nL 174.020724 29.927914 \nL 176.635299 26.351012 \nL 179.249875 33.504816 \nL 181.86445 27.841388 \nL 184.479026 32.01444 \nL 187.093601 29.033688 \nL 189.708177 31.120214 \nL 192.322752 28.139463 \nL 194.937328 32.908665 \nL 197.551903 38.274018 \nL 200.166479 35.889417 \nL 202.781054 27.245237 \nL 205.39563 34.100966 \nL 208.010205 29.033688 \nL 210.624781 33.802891 \nL 213.239356 30.822139 \nL 215.853932 27.543313 \nL 218.468507 24.860636 \nL 221.083083 28.437538 \nL 223.697658 26.947162 \nL 226.312234 30.822139 \nL 228.926809 30.822139 \nL 231.541385 30.225989 \nL 234.15596 29.629839 \nL 236.770536 31.716365 \nL 239.385111 29.629839 \nL 241.999687 25.754862 \nL 244.614262 23.370261 \nL 247.228838 26.947162 \nL 249.843413 34.399041 \nL 252.457989 29.927914 \nL 255.072564 30.225989 \nL 257.68714 31.120214 \nL 260.301715 28.139463 \nL 262.916291 34.697116 \nL 265.530866 23.966411 \nL 268.145442 26.351012 \nL 270.760017 26.351012 \nL 273.374593 30.822139 \nL 275.989168 24.264486 \nL 278.603744 27.543313 \nL 281.218319 29.629839 \nL 283.832895 25.456787 \nL 286.44747 32.61059 \nL 289.062046 30.225989 \nL 291.676621 33.504816 \nL 294.291197 21.879885 \nL 296.905772 30.822139 \nL 299.520348 31.716365 \nL 302.134923 29.331764 \nL 304.749499 27.543313 \n\" clip-path=\"url(#p4bfd68326f)\" style=\"fill: none; stroke: #e5ae38; stroke-opacity: 0.15; stroke-width: 4\"/>\n   </g>\n   <g id=\"line2d_22\">\n    <path d=\"M 51.135675 99.041124 \nL 64.208552 145.819302 \nL 77.28143 164.122106 \nL 90.354307 177.398157 \nL 103.427185 176.119421 \nL 116.500062 178.266976 \nL 129.57294 172.35131 \nL 142.645818 184.341931 \nL 155.718695 184.236502 \nL 168.791573 187.946077 \nL 181.86445 193.97826 \nL 194.937328 194.84576 \nL 208.010205 191.007797 \nL 221.083083 201.503029 \nL 234.15596 204.785958 \nL 247.228838 194.791263 \nL 260.301715 202.284358 \nL 273.374593 205.511434 \nL 286.44747 209.241749 \nL 299.520348 207.226376 \n\" clip-path=\"url(#p4bfd68326f)\" style=\"fill: none; stroke: #008fd5; stroke-width: 4\"/>\n   </g>\n   <g id=\"line2d_23\">\n    <path d=\"M 51.135675 137.448446 \nL 64.208552 163.139753 \nL 77.28143 168.961606 \nL 90.354307 177.931532 \nL 103.427185 184.277764 \nL 116.500062 181.46901 \nL 129.57294 187.21387 \nL 142.645818 194.631764 \nL 155.718695 188.343086 \nL 168.791573 188.711123 \nL 181.86445 193.757414 \nL 194.937328 188.659218 \nL 208.010205 194.885712 \nL 221.083083 200.857148 \nL 234.15596 196.742778 \nL 247.228838 200.955937 \nL 260.301715 194.105248 \nL 273.374593 199.121539 \nL 286.44747 199.930594 \nL 299.520348 199.345041 \n\" clip-path=\"url(#p4bfd68326f)\" style=\"fill: none; stroke-dasharray: 14.8,6.4; stroke-dashoffset: 0; stroke: #fc4f30; stroke-width: 4\"/>\n   </g>\n   <g id=\"line2d_24\">\n    <path d=\"M 51.135675 54.906608 \nL 64.208552 41.970157 \nL 77.28143 39.704775 \nL 90.354307 36.247111 \nL 103.427185 33.504816 \nL 116.500062 33.802891 \nL 129.57294 33.802891 \nL 142.645818 30.762521 \nL 155.718695 32.01444 \nL 168.791573 32.01444 \nL 181.86445 29.749076 \nL 194.937328 33.266359 \nL 208.010205 31.000977 \nL 221.083083 27.72215 \nL 234.15596 30.404827 \nL 247.228838 28.079844 \nL 260.301715 29.629839 \nL 273.374593 27.0664 \nL 286.44747 30.285608 \nL 299.520348 28.2587 \n\" clip-path=\"url(#p4bfd68326f)\" style=\"fill: none; stroke-dasharray: 4,6.6; stroke-dashoffset: 0; stroke: #e5ae38; stroke-width: 4\"/>\n   </g>\n   <g id=\"patch_3\">\n    <path d=\"M 32.964375 230.638976 \nL 32.964375 11.938976 \n\" style=\"fill: none; stroke: #f0f0f0; stroke-width: 3; stroke-linejoin: miter; stroke-linecap: square\"/>\n   </g>\n   <g id=\"patch_4\">\n    <path d=\"M 317.691648 230.638976 \nL 317.691648 11.938976 \n\" style=\"fill: none; stroke: #f0f0f0; stroke-width: 3; stroke-linejoin: miter; stroke-linecap: square\"/>\n   </g>\n   <g id=\"patch_5\">\n    <path d=\"M 32.964375 230.638976 \nL 317.691648 230.638976 \n\" style=\"fill: none; stroke: #f0f0f0; stroke-width: 3; stroke-linejoin: miter; stroke-linecap: square\"/>\n   </g>\n   <g id=\"patch_6\">\n    <path d=\"M 32.964375 11.938976 \nL 317.691648 11.938976 \n\" style=\"fill: none; stroke: #f0f0f0; stroke-width: 3; stroke-linejoin: miter; stroke-linecap: square\"/>\n   </g>\n   <g id=\"legend_1\">\n    <g id=\"patch_7\">\n     <path d=\"M 198.017898 154.213038 \nL 307.891648 154.213038 \nQ 310.691648 154.213038 310.691648 151.413038 \nL 310.691648 91.164913 \nQ 310.691648 88.364913 307.891648 88.364913 \nL 198.017898 88.364913 \nQ 195.217898 88.364913 195.217898 91.164913 \nL 195.217898 151.413038 \nQ 195.217898 154.213038 198.017898 154.213038 \nz\n\" style=\"fill: #f0f0f0; opacity: 0.8; stroke: #cccccc; stroke-width: 0.5; stroke-linejoin: miter\"/>\n    </g>\n    <g id=\"line2d_25\">\n     <path d=\"M 200.817898 99.702726 \nL 214.817898 99.702726 \nL 228.817898 99.702726 \n\" style=\"fill: none; stroke: #008fd5; stroke-width: 4\"/>\n    </g>\n    <g id=\"text_11\">\n     <!-- Train loss -->\n     <g transform=\"translate(240.017898 104.602726) scale(0.14 -0.14)\">\n      <defs>\n       <path id=\"DejaVuSans-54\" d=\"M -19 4666 \nL 3928 4666 \nL 3928 4134 \nL 2272 4134 \nL 2272 0 \nL 1638 0 \nL 1638 4134 \nL -19 4134 \nL -19 4666 \nz\n\" transform=\"scale(0.015625)\"/>\n       <path id=\"DejaVuSans-72\" d=\"M 2631 2963 \nQ 2534 3019 2420 3045 \nQ 2306 3072 2169 3072 \nQ 1681 3072 1420 2755 \nQ 1159 2438 1159 1844 \nL 1159 0 \nL 581 0 \nL 581 3500 \nL 1159 3500 \nL 1159 2956 \nQ 1341 3275 1631 3429 \nQ 1922 3584 2338 3584 \nQ 2397 3584 2469 3576 \nQ 2541 3569 2628 3553 \nL 2631 2963 \nz\n\" transform=\"scale(0.015625)\"/>\n       <path id=\"DejaVuSans-61\" d=\"M 2194 1759 \nQ 1497 1759 1228 1600 \nQ 959 1441 959 1056 \nQ 959 750 1161 570 \nQ 1363 391 1709 391 \nQ 2188 391 2477 730 \nQ 2766 1069 2766 1631 \nL 2766 1759 \nL 2194 1759 \nz\nM 3341 1997 \nL 3341 0 \nL 2766 0 \nL 2766 531 \nQ 2569 213 2275 61 \nQ 1981 -91 1556 -91 \nQ 1019 -91 701 211 \nQ 384 513 384 1019 \nQ 384 1609 779 1909 \nQ 1175 2209 1959 2209 \nL 2766 2209 \nL 2766 2266 \nQ 2766 2663 2505 2880 \nQ 2244 3097 1772 3097 \nQ 1472 3097 1187 3025 \nQ 903 2953 641 2809 \nL 641 3341 \nQ 956 3463 1253 3523 \nQ 1550 3584 1831 3584 \nQ 2591 3584 2966 3190 \nQ 3341 2797 3341 1997 \nz\n\" transform=\"scale(0.015625)\"/>\n       <path id=\"DejaVuSans-69\" d=\"M 603 3500 \nL 1178 3500 \nL 1178 0 \nL 603 0 \nL 603 3500 \nz\nM 603 4863 \nL 1178 4863 \nL 1178 4134 \nL 603 4134 \nL 603 4863 \nz\n\" transform=\"scale(0.015625)\"/>\n       <path id=\"DejaVuSans-6e\" d=\"M 3513 2113 \nL 3513 0 \nL 2938 0 \nL 2938 2094 \nQ 2938 2591 2744 2837 \nQ 2550 3084 2163 3084 \nQ 1697 3084 1428 2787 \nQ 1159 2491 1159 1978 \nL 1159 0 \nL 581 0 \nL 581 3500 \nL 1159 3500 \nL 1159 2956 \nQ 1366 3272 1645 3428 \nQ 1925 3584 2291 3584 \nQ 2894 3584 3203 3211 \nQ 3513 2838 3513 2113 \nz\n\" transform=\"scale(0.015625)\"/>\n       <path id=\"DejaVuSans-20\" transform=\"scale(0.015625)\"/>\n       <path id=\"DejaVuSans-6c\" d=\"M 603 4863 \nL 1178 4863 \nL 1178 0 \nL 603 0 \nL 603 4863 \nz\n\" transform=\"scale(0.015625)\"/>\n      </defs>\n      <use xlink:href=\"#DejaVuSans-54\"/>\n      <use xlink:href=\"#DejaVuSans-72\" x=\"46.333984\"/>\n      <use xlink:href=\"#DejaVuSans-61\" x=\"87.447266\"/>\n      <use xlink:href=\"#DejaVuSans-69\" x=\"148.726562\"/>\n      <use xlink:href=\"#DejaVuSans-6e\" x=\"176.509766\"/>\n      <use xlink:href=\"#DejaVuSans-20\" x=\"239.888672\"/>\n      <use xlink:href=\"#DejaVuSans-6c\" x=\"271.675781\"/>\n      <use xlink:href=\"#DejaVuSans-6f\" x=\"299.458984\"/>\n      <use xlink:href=\"#DejaVuSans-73\" x=\"360.640625\"/>\n      <use xlink:href=\"#DejaVuSans-73\" x=\"412.740234\"/>\n     </g>\n    </g>\n    <g id=\"line2d_26\">\n     <path d=\"M 200.817898 120.252101 \nL 214.817898 120.252101 \nL 228.817898 120.252101 \n\" style=\"fill: none; stroke-dasharray: 14.8,6.4; stroke-dashoffset: 0; stroke: #fc4f30; stroke-width: 4\"/>\n    </g>\n    <g id=\"text_12\">\n     <!-- Val loss -->\n     <g transform=\"translate(240.017898 125.152101) scale(0.14 -0.14)\">\n      <defs>\n       <path id=\"DejaVuSans-56\" d=\"M 1831 0 \nL 50 4666 \nL 709 4666 \nL 2188 738 \nL 3669 4666 \nL 4325 4666 \nL 2547 0 \nL 1831 0 \nz\n\" transform=\"scale(0.015625)\"/>\n      </defs>\n      <use xlink:href=\"#DejaVuSans-56\"/>\n      <use xlink:href=\"#DejaVuSans-61\" x=\"60.658203\"/>\n      <use xlink:href=\"#DejaVuSans-6c\" x=\"121.9375\"/>\n      <use xlink:href=\"#DejaVuSans-20\" x=\"149.720703\"/>\n      <use xlink:href=\"#DejaVuSans-6c\" x=\"181.507812\"/>\n      <use xlink:href=\"#DejaVuSans-6f\" x=\"209.291016\"/>\n      <use xlink:href=\"#DejaVuSans-73\" x=\"270.472656\"/>\n      <use xlink:href=\"#DejaVuSans-73\" x=\"322.572266\"/>\n     </g>\n    </g>\n    <g id=\"line2d_27\">\n     <path d=\"M 200.817898 140.801476 \nL 214.817898 140.801476 \nL 228.817898 140.801476 \n\" style=\"fill: none; stroke-dasharray: 4,6.6; stroke-dashoffset: 0; stroke: #e5ae38; stroke-width: 4\"/>\n    </g>\n    <g id=\"text_13\">\n     <!-- Accuracy -->\n     <g transform=\"translate(240.017898 145.701476) scale(0.14 -0.14)\">\n      <defs>\n       <path id=\"DejaVuSans-41\" d=\"M 2188 4044 \nL 1331 1722 \nL 3047 1722 \nL 2188 4044 \nz\nM 1831 4666 \nL 2547 4666 \nL 4325 0 \nL 3669 0 \nL 3244 1197 \nL 1141 1197 \nL 716 0 \nL 50 0 \nL 1831 4666 \nz\n\" transform=\"scale(0.015625)\"/>\n       <path id=\"DejaVuSans-75\" d=\"M 544 1381 \nL 544 3500 \nL 1119 3500 \nL 1119 1403 \nQ 1119 906 1312 657 \nQ 1506 409 1894 409 \nQ 2359 409 2629 706 \nQ 2900 1003 2900 1516 \nL 2900 3500 \nL 3475 3500 \nL 3475 0 \nL 2900 0 \nL 2900 538 \nQ 2691 219 2414 64 \nQ 2138 -91 1772 -91 \nQ 1169 -91 856 284 \nQ 544 659 544 1381 \nz\nM 1991 3584 \nL 1991 3584 \nz\n\" transform=\"scale(0.015625)\"/>\n       <path id=\"DejaVuSans-79\" d=\"M 2059 -325 \nQ 1816 -950 1584 -1140 \nQ 1353 -1331 966 -1331 \nL 506 -1331 \nL 506 -850 \nL 844 -850 \nQ 1081 -850 1212 -737 \nQ 1344 -625 1503 -206 \nL 1606 56 \nL 191 3500 \nL 800 3500 \nL 1894 763 \nL 2988 3500 \nL 3597 3500 \nL 2059 -325 \nz\n\" transform=\"scale(0.015625)\"/>\n      </defs>\n      <use xlink:href=\"#DejaVuSans-41\"/>\n      <use xlink:href=\"#DejaVuSans-63\" x=\"66.658203\"/>\n      <use xlink:href=\"#DejaVuSans-63\" x=\"121.638672\"/>\n      <use xlink:href=\"#DejaVuSans-75\" x=\"176.619141\"/>\n      <use xlink:href=\"#DejaVuSans-72\" x=\"239.998047\"/>\n      <use xlink:href=\"#DejaVuSans-61\" x=\"281.111328\"/>\n      <use xlink:href=\"#DejaVuSans-63\" x=\"342.390625\"/>\n      <use xlink:href=\"#DejaVuSans-79\" x=\"397.371094\"/>\n     </g>\n    </g>\n   </g>\n  </g>\n  <g id=\"axes_2\">\n   <g id=\"patch_8\">\n    <path d=\"M 374.637102 230.638976 \nL 659.364375 230.638976 \nL 659.364375 11.938976 \nL 374.637102 11.938976 \nz\n\" style=\"fill: #f0f0f0\"/>\n   </g>\n   <g id=\"matplotlib.axis_3\">\n    <g id=\"xtick_7\">\n     <g id=\"line2d_28\">\n      <path d=\"M 401.675216 230.638976 \nL 401.675216 11.938976 \n\" clip-path=\"url(#p860aad48dd)\" style=\"fill: none; stroke: #cbcbcb\"/>\n     </g>\n     <g id=\"line2d_29\"/>\n     <g id=\"text_14\">\n      <!-- −20 -->\n      <g transform=\"translate(386.901935 244.776788) scale(0.14 -0.14)\">\n       <defs>\n        <path id=\"DejaVuSans-2212\" d=\"M 678 2272 \nL 4684 2272 \nL 4684 1741 \nL 678 1741 \nL 678 2272 \nz\n\" transform=\"scale(0.015625)\"/>\n       </defs>\n       <use xlink:href=\"#DejaVuSans-2212\"/>\n       <use xlink:href=\"#DejaVuSans-32\" x=\"83.789062\"/>\n       <use xlink:href=\"#DejaVuSans-30\" x=\"147.412109\"/>\n      </g>\n     </g>\n    </g>\n    <g id=\"xtick_8\">\n     <g id=\"line2d_30\">\n      <path d=\"M 483.762619 230.638976 \nL 483.762619 11.938976 \n\" clip-path=\"url(#p860aad48dd)\" style=\"fill: none; stroke: #cbcbcb\"/>\n     </g>\n     <g id=\"line2d_31\"/>\n     <g id=\"text_15\">\n      <!-- 0 -->\n      <g transform=\"translate(479.308869 244.776788) scale(0.14 -0.14)\">\n       <use xlink:href=\"#DejaVuSans-30\"/>\n      </g>\n     </g>\n    </g>\n    <g id=\"xtick_9\">\n     <g id=\"line2d_32\">\n      <path d=\"M 565.850022 230.638976 \nL 565.850022 11.938976 \n\" clip-path=\"url(#p860aad48dd)\" style=\"fill: none; stroke: #cbcbcb\"/>\n     </g>\n     <g id=\"line2d_33\"/>\n     <g id=\"text_16\">\n      <!-- 20 -->\n      <g transform=\"translate(556.942522 244.776788) scale(0.14 -0.14)\">\n       <use xlink:href=\"#DejaVuSans-32\"/>\n       <use xlink:href=\"#DejaVuSans-30\" x=\"63.623047\"/>\n      </g>\n     </g>\n    </g>\n    <g id=\"xtick_10\">\n     <g id=\"line2d_34\">\n      <path d=\"M 647.937426 230.638976 \nL 647.937426 11.938976 \n\" clip-path=\"url(#p860aad48dd)\" style=\"fill: none; stroke: #cbcbcb\"/>\n     </g>\n     <g id=\"line2d_35\"/>\n     <g id=\"text_17\">\n      <!-- 40 -->\n      <g transform=\"translate(639.029926 244.776788) scale(0.14 -0.14)\">\n       <use xlink:href=\"#DejaVuSans-34\"/>\n       <use xlink:href=\"#DejaVuSans-30\" x=\"63.623047\"/>\n      </g>\n     </g>\n    </g>\n    <g id=\"text_18\">\n     <!-- Logits -->\n     <g transform=\"translate(491.992364 264.453726) scale(0.168 -0.168)\">\n      <defs>\n       <path id=\"DejaVuSans-4c\" d=\"M 628 4666 \nL 1259 4666 \nL 1259 531 \nL 3531 531 \nL 3531 0 \nL 628 0 \nL 628 4666 \nz\n\" transform=\"scale(0.015625)\"/>\n       <path id=\"DejaVuSans-67\" d=\"M 2906 1791 \nQ 2906 2416 2648 2759 \nQ 2391 3103 1925 3103 \nQ 1463 3103 1205 2759 \nQ 947 2416 947 1791 \nQ 947 1169 1205 825 \nQ 1463 481 1925 481 \nQ 2391 481 2648 825 \nQ 2906 1169 2906 1791 \nz\nM 3481 434 \nQ 3481 -459 3084 -895 \nQ 2688 -1331 1869 -1331 \nQ 1566 -1331 1297 -1286 \nQ 1028 -1241 775 -1147 \nL 775 -588 \nQ 1028 -725 1275 -790 \nQ 1522 -856 1778 -856 \nQ 2344 -856 2625 -561 \nQ 2906 -266 2906 331 \nL 2906 616 \nQ 2728 306 2450 153 \nQ 2172 0 1784 0 \nQ 1141 0 747 490 \nQ 353 981 353 1791 \nQ 353 2603 747 3093 \nQ 1141 3584 1784 3584 \nQ 2172 3584 2450 3431 \nQ 2728 3278 2906 2969 \nL 2906 3500 \nL 3481 3500 \nL 3481 434 \nz\n\" transform=\"scale(0.015625)\"/>\n       <path id=\"DejaVuSans-74\" d=\"M 1172 4494 \nL 1172 3500 \nL 2356 3500 \nL 2356 3053 \nL 1172 3053 \nL 1172 1153 \nQ 1172 725 1289 603 \nQ 1406 481 1766 481 \nL 2356 481 \nL 2356 0 \nL 1766 0 \nQ 1100 0 847 248 \nQ 594 497 594 1153 \nL 594 3053 \nL 172 3053 \nL 172 3500 \nL 594 3500 \nL 594 4494 \nL 1172 4494 \nz\n\" transform=\"scale(0.015625)\"/>\n      </defs>\n      <use xlink:href=\"#DejaVuSans-4c\"/>\n      <use xlink:href=\"#DejaVuSans-6f\" x=\"53.962891\"/>\n      <use xlink:href=\"#DejaVuSans-67\" x=\"115.144531\"/>\n      <use xlink:href=\"#DejaVuSans-69\" x=\"178.621094\"/>\n      <use xlink:href=\"#DejaVuSans-74\" x=\"206.404297\"/>\n      <use xlink:href=\"#DejaVuSans-73\" x=\"245.613281\"/>\n     </g>\n    </g>\n   </g>\n   <g id=\"matplotlib.axis_4\">\n    <g id=\"ytick_4\">\n     <g id=\"line2d_36\">\n      <path d=\"M 374.637102 230.638976 \nL 659.364375 230.638976 \n\" clip-path=\"url(#p860aad48dd)\" style=\"fill: none; stroke: #cbcbcb\"/>\n     </g>\n     <g id=\"line2d_37\"/>\n     <g id=\"text_19\">\n      <!-- 0.000 -->\n      <g transform=\"translate(331.057727 235.957882) scale(0.14 -0.14)\">\n       <use xlink:href=\"#DejaVuSans-30\"/>\n       <use xlink:href=\"#DejaVuSans-2e\" x=\"63.623047\"/>\n       <use xlink:href=\"#DejaVuSans-30\" x=\"95.410156\"/>\n       <use xlink:href=\"#DejaVuSans-30\" x=\"159.033203\"/>\n       <use xlink:href=\"#DejaVuSans-30\" x=\"222.65625\"/>\n      </g>\n     </g>\n    </g>\n    <g id=\"ytick_5\">\n     <g id=\"line2d_38\">\n      <path d=\"M 374.637102 194.285631 \nL 659.364375 194.285631 \n\" clip-path=\"url(#p860aad48dd)\" style=\"fill: none; stroke: #cbcbcb\"/>\n     </g>\n     <g id=\"line2d_39\"/>\n     <g id=\"text_20\">\n      <!-- 0.025 -->\n      <g transform=\"translate(331.057727 199.604537) scale(0.14 -0.14)\">\n       <defs>\n        <path id=\"DejaVuSans-35\" d=\"M 691 4666 \nL 3169 4666 \nL 3169 4134 \nL 1269 4134 \nL 1269 2991 \nQ 1406 3038 1543 3061 \nQ 1681 3084 1819 3084 \nQ 2600 3084 3056 2656 \nQ 3513 2228 3513 1497 \nQ 3513 744 3044 326 \nQ 2575 -91 1722 -91 \nQ 1428 -91 1123 -41 \nQ 819 9 494 109 \nL 494 744 \nQ 775 591 1075 516 \nQ 1375 441 1709 441 \nQ 2250 441 2565 725 \nQ 2881 1009 2881 1497 \nQ 2881 1984 2565 2268 \nQ 2250 2553 1709 2553 \nQ 1456 2553 1204 2497 \nQ 953 2441 691 2322 \nL 691 4666 \nz\n\" transform=\"scale(0.015625)\"/>\n       </defs>\n       <use xlink:href=\"#DejaVuSans-30\"/>\n       <use xlink:href=\"#DejaVuSans-2e\" x=\"63.623047\"/>\n       <use xlink:href=\"#DejaVuSans-30\" x=\"95.410156\"/>\n       <use xlink:href=\"#DejaVuSans-32\" x=\"159.033203\"/>\n       <use xlink:href=\"#DejaVuSans-35\" x=\"222.65625\"/>\n      </g>\n     </g>\n    </g>\n    <g id=\"ytick_6\">\n     <g id=\"line2d_40\">\n      <path d=\"M 374.637102 157.932286 \nL 659.364375 157.932286 \n\" clip-path=\"url(#p860aad48dd)\" style=\"fill: none; stroke: #cbcbcb\"/>\n     </g>\n     <g id=\"line2d_41\"/>\n     <g id=\"text_21\">\n      <!-- 0.050 -->\n      <g transform=\"translate(331.057727 163.251192) scale(0.14 -0.14)\">\n       <use xlink:href=\"#DejaVuSans-30\"/>\n       <use xlink:href=\"#DejaVuSans-2e\" x=\"63.623047\"/>\n       <use xlink:href=\"#DejaVuSans-30\" x=\"95.410156\"/>\n       <use xlink:href=\"#DejaVuSans-35\" x=\"159.033203\"/>\n       <use xlink:href=\"#DejaVuSans-30\" x=\"222.65625\"/>\n      </g>\n     </g>\n    </g>\n    <g id=\"ytick_7\">\n     <g id=\"line2d_42\">\n      <path d=\"M 374.637102 121.578941 \nL 659.364375 121.578941 \n\" clip-path=\"url(#p860aad48dd)\" style=\"fill: none; stroke: #cbcbcb\"/>\n     </g>\n     <g id=\"line2d_43\"/>\n     <g id=\"text_22\">\n      <!-- 0.075 -->\n      <g transform=\"translate(331.057727 126.897847) scale(0.14 -0.14)\">\n       <defs>\n        <path id=\"DejaVuSans-37\" d=\"M 525 4666 \nL 3525 4666 \nL 3525 4397 \nL 1831 0 \nL 1172 0 \nL 2766 4134 \nL 525 4134 \nL 525 4666 \nz\n\" transform=\"scale(0.015625)\"/>\n       </defs>\n       <use xlink:href=\"#DejaVuSans-30\"/>\n       <use xlink:href=\"#DejaVuSans-2e\" x=\"63.623047\"/>\n       <use xlink:href=\"#DejaVuSans-30\" x=\"95.410156\"/>\n       <use xlink:href=\"#DejaVuSans-37\" x=\"159.033203\"/>\n       <use xlink:href=\"#DejaVuSans-35\" x=\"222.65625\"/>\n      </g>\n     </g>\n    </g>\n    <g id=\"ytick_8\">\n     <g id=\"line2d_44\">\n      <path d=\"M 374.637102 85.225596 \nL 659.364375 85.225596 \n\" clip-path=\"url(#p860aad48dd)\" style=\"fill: none; stroke: #cbcbcb\"/>\n     </g>\n     <g id=\"line2d_45\"/>\n     <g id=\"text_23\">\n      <!-- 0.100 -->\n      <g transform=\"translate(331.057727 90.544502) scale(0.14 -0.14)\">\n       <use xlink:href=\"#DejaVuSans-30\"/>\n       <use xlink:href=\"#DejaVuSans-2e\" x=\"63.623047\"/>\n       <use xlink:href=\"#DejaVuSans-31\" x=\"95.410156\"/>\n       <use xlink:href=\"#DejaVuSans-30\" x=\"159.033203\"/>\n       <use xlink:href=\"#DejaVuSans-30\" x=\"222.65625\"/>\n      </g>\n     </g>\n    </g>\n    <g id=\"ytick_9\">\n     <g id=\"line2d_46\">\n      <path d=\"M 374.637102 48.872251 \nL 659.364375 48.872251 \n\" clip-path=\"url(#p860aad48dd)\" style=\"fill: none; stroke: #cbcbcb\"/>\n     </g>\n     <g id=\"line2d_47\"/>\n     <g id=\"text_24\">\n      <!-- 0.125 -->\n      <g transform=\"translate(331.057727 54.191157) scale(0.14 -0.14)\">\n       <use xlink:href=\"#DejaVuSans-30\"/>\n       <use xlink:href=\"#DejaVuSans-2e\" x=\"63.623047\"/>\n       <use xlink:href=\"#DejaVuSans-31\" x=\"95.410156\"/>\n       <use xlink:href=\"#DejaVuSans-32\" x=\"159.033203\"/>\n       <use xlink:href=\"#DejaVuSans-35\" x=\"222.65625\"/>\n      </g>\n     </g>\n    </g>\n    <g id=\"ytick_10\">\n     <g id=\"line2d_48\">\n      <path d=\"M 374.637102 12.518906 \nL 659.364375 12.518906 \n\" clip-path=\"url(#p860aad48dd)\" style=\"fill: none; stroke: #cbcbcb\"/>\n     </g>\n     <g id=\"line2d_49\"/>\n     <g id=\"text_25\">\n      <!-- 0.150 -->\n      <g transform=\"translate(331.057727 17.837812) scale(0.14 -0.14)\">\n       <use xlink:href=\"#DejaVuSans-30\"/>\n       <use xlink:href=\"#DejaVuSans-2e\" x=\"63.623047\"/>\n       <use xlink:href=\"#DejaVuSans-31\" x=\"95.410156\"/>\n       <use xlink:href=\"#DejaVuSans-35\" x=\"159.033203\"/>\n       <use xlink:href=\"#DejaVuSans-30\" x=\"222.65625\"/>\n      </g>\n     </g>\n    </g>\n   </g>\n   <g id=\"patch_9\">\n    <path d=\"M 450.913187 230.638976 \nL 450.913187 230.11761 \nL 453.149014 230.11761 \nL 453.149014 228.032146 \nL 455.384841 228.032146 \nL 455.384841 226.728731 \nL 457.620669 226.728731 \nL 457.620669 219.429597 \nL 459.856494 219.429597 \nL 459.856494 205.613408 \nL 462.092321 205.613408 \nL 462.092321 185.540817 \nL 464.328148 185.540817 \nL 464.328148 151.652028 \nL 466.563975 151.652028 \nL 466.563975 113.070893 \nL 468.799801 113.070893 \nL 468.799801 69.536884 \nL 471.035629 69.536884 \nL 471.035629 22.353261 \nL 473.271456 22.353261 \nL 473.271456 44.511235 \nL 475.507282 44.511235 \nL 475.507282 37.212192 \nL 477.743109 37.212192 \nL 477.743109 31.998511 \nL 479.978936 31.998511 \nL 479.978936 35.38739 \nL 482.214763 35.38739 \nL 482.214763 51.81042 \nL 484.45059 51.81042 \nL 484.45059 82.049651 \nL 486.686417 82.049651 \nL 486.686417 112.810235 \nL 488.922243 112.810235 \nL 488.922243 144.613568 \nL 491.15807 144.613568 \nL 491.15807 154.258858 \nL 493.393897 154.258858 \nL 493.393897 153.998175 \nL 495.629724 153.998175 \nL 495.629724 163.12205 \nL 497.865551 163.12205 \nL 497.865551 162.340031 \nL 500.101378 162.340031 \nL 500.101378 173.028008 \nL 502.337204 173.028008 \nL 502.337204 178.502376 \nL 504.573031 178.502376 \nL 504.573031 184.237402 \nL 506.808858 184.237402 \nL 506.808858 193.100624 \nL 509.044686 193.100624 \nL 509.044686 194.143356 \nL 511.280513 194.143356 \nL 511.280513 205.874091 \nL 513.51634 205.874091 \nL 513.51634 203.006554 \nL 515.752165 203.006554 \nL 515.752165 206.134795 \nL 517.987994 206.134795 \nL 517.987994 209.262951 \nL 520.223819 209.262951 \nL 520.223819 216.822765 \nL 522.459645 216.822765 \nL 522.459645 213.955279 \nL 524.695474 213.955279 \nL 524.695474 221.515063 \nL 526.931299 221.515063 \nL 526.931299 220.73303 \nL 529.167128 220.73303 \nL 529.167128 224.382578 \nL 531.402953 224.382578 \nL 531.402953 223.339858 \nL 533.638782 223.339858 \nL 533.638782 225.685994 \nL 535.874608 225.685994 \nL 535.874608 225.946678 \nL 538.110433 225.946678 \nL 538.110433 226.207369 \nL 540.346262 226.207369 \nL 540.346262 226.207361 \nL 542.582087 226.207361 \nL 542.582087 228.553514 \nL 544.817916 228.553514 \nL 544.817916 227.77146 \nL 547.053741 227.77146 \nL 547.053741 227.77146 \nL 549.289567 227.77146 \nL 549.289567 229.856927 \nL 551.525396 229.856927 \nL 551.525396 229.596243 \nL 553.761221 229.596243 \nL 553.761221 229.596243 \nL 555.997046 229.596243 \nL 555.997046 230.378293 \nL 558.232879 230.378293 \nL 558.232879 230.378292 \nL 560.468704 230.378292 \nL 560.468704 230.378292 \nL 562.70453 230.378292 \nL 562.70453 230.638976 \n\" clip-path=\"url(#p860aad48dd)\" style=\"fill: none; stroke: #008fd5; stroke-width: 5; stroke-linejoin: miter\"/>\n   </g>\n   <g id=\"patch_10\">\n    <path d=\"M 387.579251 230.638976 \nL 387.579251 230.52639 \nL 392.756113 230.52639 \nL 392.756113 230.638976 \nL 397.932967 230.638976 \nL 397.932967 230.52639 \nL 403.109829 230.52639 \nL 403.109829 230.52639 \nL 408.286691 230.52639 \nL 408.286691 230.301217 \nL 413.463545 230.301217 \nL 413.463545 230.413804 \nL 418.640407 230.413804 \nL 418.640407 229.513116 \nL 423.817269 229.513116 \nL 423.817269 229.287943 \nL 428.994128 229.287943 \nL 428.994128 227.711738 \nL 434.170986 227.711738 \nL 434.170986 223.77123 \nL 439.347848 223.77123 \nL 439.347848 218.47968 \nL 444.524706 218.47968 \nL 444.524706 206.545556 \nL 449.701564 206.545556 \nL 449.701564 189.995419 \nL 454.878424 189.995419 \nL 454.878424 165.226492 \nL 460.055284 165.226492 \nL 460.055284 134.040161 \nL 465.232144 134.040161 \nL 465.232144 103.191565 \nL 470.409003 103.191565 \nL 470.409003 112.873976 \nL 475.585863 112.873976 \nL 475.585863 112.986562 \nL 480.762722 112.986562 \nL 480.762722 136.742208 \nL 485.939582 136.742208 \nL 485.939582 149.802206 \nL 491.116441 149.802206 \nL 491.116441 164.213205 \nL 496.2933 164.213205 \nL 496.2933 174.34596 \nL 501.47016 174.34596 \nL 501.47016 184.140945 \nL 506.64702 184.140945 \nL 506.64702 196.187637 \nL 511.823879 196.187637 \nL 511.823879 202.492468 \nL 517.000739 202.492468 \nL 517.000739 207.333659 \nL 522.177597 207.333659 \nL 522.177597 207.108504 \nL 527.354459 207.108504 \nL 527.354459 213.976237 \nL 532.531317 213.976237 \nL 532.531317 215.552442 \nL 537.708175 215.552442 \nL 537.708175 219.943307 \nL 542.885037 219.943307 \nL 542.885037 222.420192 \nL 548.061895 222.420192 \nL 548.061895 224.221574 \nL 553.238757 224.221574 \nL 553.238757 226.473288 \nL 558.415611 226.473288 \nL 558.415611 226.135536 \nL 563.592473 226.135536 \nL 563.592473 227.14881 \nL 568.769335 227.14881 \nL 568.769335 226.585874 \nL 573.946189 226.585874 \nL 573.946189 228.725014 \nL 579.123051 228.725014 \nL 579.123051 228.950186 \nL 584.299913 228.950186 \nL 584.299913 229.062772 \nL 589.476775 229.062772 \nL 589.476775 229.175356 \nL 594.65363 229.175356 \nL 594.65363 229.287944 \nL 599.830492 229.287944 \nL 599.830492 229.850874 \nL 605.007354 229.850874 \nL 605.007354 229.963459 \nL 610.184208 229.963459 \nL 610.184208 229.738288 \nL 615.36107 229.738288 \nL 615.36107 230.413803 \nL 620.537924 230.413803 \nL 620.537924 230.413804 \nL 625.714794 230.413804 \nL 625.714794 230.413803 \nL 630.891648 230.413803 \nL 630.891648 230.52639 \nL 636.068502 230.52639 \nL 636.068502 230.638976 \nL 641.245372 230.638976 \nL 641.245372 230.52639 \nL 646.422226 230.52639 \nL 646.422226 230.638976 \n\" clip-path=\"url(#p860aad48dd)\" style=\"fill: none; stroke: #fc4f30; stroke-width: 3; stroke-linejoin: miter\"/>\n   </g>\n   <g id=\"patch_11\">\n    <path d=\"M 374.637102 230.638976 \nL 374.637102 11.938976 \n\" style=\"fill: none; stroke: #f0f0f0; stroke-width: 3; stroke-linejoin: miter; stroke-linecap: square\"/>\n   </g>\n   <g id=\"patch_12\">\n    <path d=\"M 659.364375 230.638976 \nL 659.364375 11.938976 \n\" style=\"fill: none; stroke: #f0f0f0; stroke-width: 3; stroke-linejoin: miter; stroke-linecap: square\"/>\n   </g>\n   <g id=\"patch_13\">\n    <path d=\"M 374.637102 230.638976 \nL 659.364375 230.638976 \n\" style=\"fill: none; stroke: #f0f0f0; stroke-width: 3; stroke-linejoin: miter; stroke-linecap: square\"/>\n   </g>\n   <g id=\"patch_14\">\n    <path d=\"M 374.637102 11.938976 \nL 659.364375 11.938976 \n\" style=\"fill: none; stroke: #f0f0f0; stroke-width: 3; stroke-linejoin: miter; stroke-linecap: square\"/>\n   </g>\n   <g id=\"legend_2\">\n    <g id=\"patch_15\">\n     <path d=\"M 530.721875 64.237726 \nL 649.564375 64.237726 \nQ 652.364375 64.237726 652.364375 61.437726 \nL 652.364375 21.738976 \nQ 652.364375 18.938976 649.564375 18.938976 \nL 530.721875 18.938976 \nQ 527.921875 18.938976 527.921875 21.738976 \nL 527.921875 61.437726 \nQ 527.921875 64.237726 530.721875 64.237726 \nz\n\" style=\"fill: #f0f0f0; opacity: 0.8; stroke: #cccccc; stroke-width: 0.5; stroke-linejoin: miter\"/>\n    </g>\n    <g id=\"patch_16\">\n     <path d=\"M 533.521875 35.176788 \nL 561.521875 35.176788 \nL 561.521875 25.376788 \nL 533.521875 25.376788 \nL 533.521875 35.176788 \nz\n\" style=\"fill: none; stroke: #008fd5; stroke-width: 5; stroke-linejoin: miter\"/>\n    </g>\n    <g id=\"text_26\">\n     <!-- Epoch 5 -->\n     <g transform=\"translate(572.721875 35.176788) scale(0.14 -0.14)\">\n      <use xlink:href=\"#DejaVuSans-45\"/>\n      <use xlink:href=\"#DejaVuSans-70\" x=\"63.183594\"/>\n      <use xlink:href=\"#DejaVuSans-6f\" x=\"126.660156\"/>\n      <use xlink:href=\"#DejaVuSans-63\" x=\"187.841797\"/>\n      <use xlink:href=\"#DejaVuSans-68\" x=\"242.822266\"/>\n      <use xlink:href=\"#DejaVuSans-20\" x=\"306.201172\"/>\n      <use xlink:href=\"#DejaVuSans-35\" x=\"337.988281\"/>\n     </g>\n    </g>\n    <g id=\"patch_17\">\n     <path d=\"M 533.521875 55.726163 \nL 561.521875 55.726163 \nL 561.521875 45.926163 \nL 533.521875 45.926163 \nL 533.521875 55.726163 \nz\n\" style=\"fill: none; stroke: #fc4f30; stroke-width: 3; stroke-linejoin: miter\"/>\n    </g>\n    <g id=\"text_27\">\n     <!-- Epoch 100 -->\n     <g transform=\"translate(572.721875 55.726163) scale(0.14 -0.14)\">\n      <use xlink:href=\"#DejaVuSans-45\"/>\n      <use xlink:href=\"#DejaVuSans-70\" x=\"63.183594\"/>\n      <use xlink:href=\"#DejaVuSans-6f\" x=\"126.660156\"/>\n      <use xlink:href=\"#DejaVuSans-63\" x=\"187.841797\"/>\n      <use xlink:href=\"#DejaVuSans-68\" x=\"242.822266\"/>\n      <use xlink:href=\"#DejaVuSans-20\" x=\"306.201172\"/>\n      <use xlink:href=\"#DejaVuSans-31\" x=\"337.988281\"/>\n      <use xlink:href=\"#DejaVuSans-30\" x=\"401.611328\"/>\n      <use xlink:href=\"#DejaVuSans-30\" x=\"465.234375\"/>\n     </g>\n    </g>\n   </g>\n  </g>\n </g>\n <defs>\n  <clipPath id=\"p4bfd68326f\">\n   <rect x=\"32.964375\" y=\"11.938976\" width=\"284.727273\" height=\"218.7\"/>\n  </clipPath>\n  <clipPath id=\"p860aad48dd\">\n   <rect x=\"374.637102\" y=\"11.938976\" width=\"284.727273\" height=\"218.7\"/>\n  </clipPath>\n </defs>\n</svg>\n",
      "text/plain": [
       "<Figure size 1000x375 with 2 Axes>"
      ]
     },
     "metadata": {},
     "output_type": "display_data"
    }
   ],
   "source": [
    "trainer = Trainer(max_epochs=100, smooth=5)\n",
    "trainer.fit(model, data.train_dl, data.val_dl)"
   ]
  },
  {
   "cell_type": "code",
   "execution_count": 15,
   "metadata": {},
   "outputs": [
    {
     "name": "stdout",
     "output_type": "stream",
     "text": [
      "tensor(0.2863) tensor(0.3526)\n",
      "tensor(1.)\n"
     ]
    },
    {
     "data": {
      "image/svg+xml": "<?xml version=\"1.0\" encoding=\"utf-8\" standalone=\"no\"?>\n<!DOCTYPE svg PUBLIC \"-//W3C//DTD SVG 1.1//EN\"\n  \"http://www.w3.org/Graphics/SVG/1.1/DTD/svg11.dtd\">\n<svg xmlns:xlink=\"http://www.w3.org/1999/xlink\" width=\"315.651pt\" height=\"311.705424pt\" viewBox=\"0 0 315.651 311.705424\" xmlns=\"http://www.w3.org/2000/svg\" version=\"1.1\">\n <metadata>\n  <rdf:RDF xmlns:dc=\"http://purl.org/dc/elements/1.1/\" xmlns:cc=\"http://creativecommons.org/ns#\" xmlns:rdf=\"http://www.w3.org/1999/02/22-rdf-syntax-ns#\">\n   <cc:Work>\n    <dc:type rdf:resource=\"http://purl.org/dc/dcmitype/StillImage\"/>\n    <dc:date>2023-01-21T07:48:29.744712</dc:date>\n    <dc:format>image/svg+xml</dc:format>\n    <dc:creator>\n     <cc:Agent>\n      <dc:title>Matplotlib v3.6.3, https://matplotlib.org/</dc:title>\n     </cc:Agent>\n    </dc:creator>\n   </cc:Work>\n  </rdf:RDF>\n </metadata>\n <defs>\n  <style type=\"text/css\">*{stroke-linejoin: round; stroke-linecap: butt}</style>\n </defs>\n <g id=\"figure_1\">\n  <g id=\"patch_1\">\n   <path d=\"M 0 311.705424 \nL 315.651 311.705424 \nL 315.651 0 \nL 0 0 \nz\n\" style=\"fill: #f0f0f0\"/>\n  </g>\n  <g id=\"axes_1\">\n   <g id=\"patch_2\">\n    <path d=\"M 28.515 287.456049 \nL 308.451 287.456049 \nL 308.451 7.520049 \nL 28.515 7.520049 \nz\n\" style=\"fill: #f0f0f0\"/>\n   </g>\n   <g clip-path=\"url(#p32efee514c)\">\n    <image xlink:href=\"data:image/png;base64,\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\" id=\"image0aedfce9de\" transform=\"scale(1 -1) translate(0 -280.08)\" x=\"28.515\" y=\"-7.376049\" width=\"280.08\" height=\"280.08\"/>\n   </g>\n   <g id=\"matplotlib.axis_1\">\n    <g id=\"xtick_1\">\n     <g id=\"line2d_1\">\n      <path d=\"M 33.513857 287.456049 \nL 33.513857 7.520049 \n\" clip-path=\"url(#p32efee514c)\" style=\"fill: none; stroke: #cbcbcb\"/>\n     </g>\n     <g id=\"line2d_2\"/>\n     <g id=\"text_1\">\n      <!-- 0 -->\n      <g transform=\"translate(29.060107 301.593862) scale(0.14 -0.14)\">\n       <defs>\n        <path id=\"DejaVuSans-30\" d=\"M 2034 4250 \nQ 1547 4250 1301 3770 \nQ 1056 3291 1056 2328 \nQ 1056 1369 1301 889 \nQ 1547 409 2034 409 \nQ 2525 409 2770 889 \nQ 3016 1369 3016 2328 \nQ 3016 3291 2770 3770 \nQ 2525 4250 2034 4250 \nz\nM 2034 4750 \nQ 2819 4750 3233 4129 \nQ 3647 3509 3647 2328 \nQ 3647 1150 3233 529 \nQ 2819 -91 2034 -91 \nQ 1250 -91 836 529 \nQ 422 1150 422 2328 \nQ 422 3509 836 4129 \nQ 1250 4750 2034 4750 \nz\n\" transform=\"scale(0.015625)\"/>\n       </defs>\n       <use xlink:href=\"#DejaVuSans-30\"/>\n      </g>\n     </g>\n    </g>\n    <g id=\"xtick_2\">\n     <g id=\"line2d_3\">\n      <path d=\"M 83.502429 287.456049 \nL 83.502429 7.520049 \n\" clip-path=\"url(#p32efee514c)\" style=\"fill: none; stroke: #cbcbcb\"/>\n     </g>\n     <g id=\"line2d_4\"/>\n     <g id=\"text_2\">\n      <!-- 5 -->\n      <g transform=\"translate(79.048679 301.593862) scale(0.14 -0.14)\">\n       <defs>\n        <path id=\"DejaVuSans-35\" d=\"M 691 4666 \nL 3169 4666 \nL 3169 4134 \nL 1269 4134 \nL 1269 2991 \nQ 1406 3038 1543 3061 \nQ 1681 3084 1819 3084 \nQ 2600 3084 3056 2656 \nQ 3513 2228 3513 1497 \nQ 3513 744 3044 326 \nQ 2575 -91 1722 -91 \nQ 1428 -91 1123 -41 \nQ 819 9 494 109 \nL 494 744 \nQ 775 591 1075 516 \nQ 1375 441 1709 441 \nQ 2250 441 2565 725 \nQ 2881 1009 2881 1497 \nQ 2881 1984 2565 2268 \nQ 2250 2553 1709 2553 \nQ 1456 2553 1204 2497 \nQ 953 2441 691 2322 \nL 691 4666 \nz\n\" transform=\"scale(0.015625)\"/>\n       </defs>\n       <use xlink:href=\"#DejaVuSans-35\"/>\n      </g>\n     </g>\n    </g>\n    <g id=\"xtick_3\">\n     <g id=\"line2d_5\">\n      <path d=\"M 133.491 287.456049 \nL 133.491 7.520049 \n\" clip-path=\"url(#p32efee514c)\" style=\"fill: none; stroke: #cbcbcb\"/>\n     </g>\n     <g id=\"line2d_6\"/>\n     <g id=\"text_3\">\n      <!-- 10 -->\n      <g transform=\"translate(124.5835 301.593862) scale(0.14 -0.14)\">\n       <defs>\n        <path id=\"DejaVuSans-31\" d=\"M 794 531 \nL 1825 531 \nL 1825 4091 \nL 703 3866 \nL 703 4441 \nL 1819 4666 \nL 2450 4666 \nL 2450 531 \nL 3481 531 \nL 3481 0 \nL 794 0 \nL 794 531 \nz\n\" transform=\"scale(0.015625)\"/>\n       </defs>\n       <use xlink:href=\"#DejaVuSans-31\"/>\n       <use xlink:href=\"#DejaVuSans-30\" x=\"63.623047\"/>\n      </g>\n     </g>\n    </g>\n    <g id=\"xtick_4\">\n     <g id=\"line2d_7\">\n      <path d=\"M 183.479571 287.456049 \nL 183.479571 7.520049 \n\" clip-path=\"url(#p32efee514c)\" style=\"fill: none; stroke: #cbcbcb\"/>\n     </g>\n     <g id=\"line2d_8\"/>\n     <g id=\"text_4\">\n      <!-- 15 -->\n      <g transform=\"translate(174.572071 301.593862) scale(0.14 -0.14)\">\n       <use xlink:href=\"#DejaVuSans-31\"/>\n       <use xlink:href=\"#DejaVuSans-35\" x=\"63.623047\"/>\n      </g>\n     </g>\n    </g>\n    <g id=\"xtick_5\">\n     <g id=\"line2d_9\">\n      <path d=\"M 233.468143 287.456049 \nL 233.468143 7.520049 \n\" clip-path=\"url(#p32efee514c)\" style=\"fill: none; stroke: #cbcbcb\"/>\n     </g>\n     <g id=\"line2d_10\"/>\n     <g id=\"text_5\">\n      <!-- 20 -->\n      <g transform=\"translate(224.560643 301.593862) scale(0.14 -0.14)\">\n       <defs>\n        <path id=\"DejaVuSans-32\" d=\"M 1228 531 \nL 3431 531 \nL 3431 0 \nL 469 0 \nL 469 531 \nQ 828 903 1448 1529 \nQ 2069 2156 2228 2338 \nQ 2531 2678 2651 2914 \nQ 2772 3150 2772 3378 \nQ 2772 3750 2511 3984 \nQ 2250 4219 1831 4219 \nQ 1534 4219 1204 4116 \nQ 875 4013 500 3803 \nL 500 4441 \nQ 881 4594 1212 4672 \nQ 1544 4750 1819 4750 \nQ 2544 4750 2975 4387 \nQ 3406 4025 3406 3419 \nQ 3406 3131 3298 2873 \nQ 3191 2616 2906 2266 \nQ 2828 2175 2409 1742 \nQ 1991 1309 1228 531 \nz\n\" transform=\"scale(0.015625)\"/>\n       </defs>\n       <use xlink:href=\"#DejaVuSans-32\"/>\n       <use xlink:href=\"#DejaVuSans-30\" x=\"63.623047\"/>\n      </g>\n     </g>\n    </g>\n    <g id=\"xtick_6\">\n     <g id=\"line2d_11\">\n      <path d=\"M 283.456714 287.456049 \nL 283.456714 7.520049 \n\" clip-path=\"url(#p32efee514c)\" style=\"fill: none; stroke: #cbcbcb\"/>\n     </g>\n     <g id=\"line2d_12\"/>\n     <g id=\"text_6\">\n      <!-- 25 -->\n      <g transform=\"translate(274.549214 301.593862) scale(0.14 -0.14)\">\n       <use xlink:href=\"#DejaVuSans-32\"/>\n       <use xlink:href=\"#DejaVuSans-35\" x=\"63.623047\"/>\n      </g>\n     </g>\n    </g>\n   </g>\n   <g id=\"matplotlib.axis_2\">\n    <g id=\"ytick_1\">\n     <g id=\"line2d_13\">\n      <path d=\"M 28.515 12.518906 \nL 308.451 12.518906 \n\" clip-path=\"url(#p32efee514c)\" style=\"fill: none; stroke: #cbcbcb\"/>\n     </g>\n     <g id=\"line2d_14\"/>\n     <g id=\"text_7\">\n      <!-- 0 -->\n      <g transform=\"translate(16.1075 17.837812) scale(0.14 -0.14)\">\n       <use xlink:href=\"#DejaVuSans-30\"/>\n      </g>\n     </g>\n    </g>\n    <g id=\"ytick_2\">\n     <g id=\"line2d_15\">\n      <path d=\"M 28.515 62.507478 \nL 308.451 62.507478 \n\" clip-path=\"url(#p32efee514c)\" style=\"fill: none; stroke: #cbcbcb\"/>\n     </g>\n     <g id=\"line2d_16\"/>\n     <g id=\"text_8\">\n      <!-- 5 -->\n      <g transform=\"translate(16.1075 67.826384) scale(0.14 -0.14)\">\n       <use xlink:href=\"#DejaVuSans-35\"/>\n      </g>\n     </g>\n    </g>\n    <g id=\"ytick_3\">\n     <g id=\"line2d_17\">\n      <path d=\"M 28.515 112.496049 \nL 308.451 112.496049 \n\" clip-path=\"url(#p32efee514c)\" style=\"fill: none; stroke: #cbcbcb\"/>\n     </g>\n     <g id=\"line2d_18\"/>\n     <g id=\"text_9\">\n      <!-- 10 -->\n      <g transform=\"translate(7.2 117.814955) scale(0.14 -0.14)\">\n       <use xlink:href=\"#DejaVuSans-31\"/>\n       <use xlink:href=\"#DejaVuSans-30\" x=\"63.623047\"/>\n      </g>\n     </g>\n    </g>\n    <g id=\"ytick_4\">\n     <g id=\"line2d_19\">\n      <path d=\"M 28.515 162.484621 \nL 308.451 162.484621 \n\" clip-path=\"url(#p32efee514c)\" style=\"fill: none; stroke: #cbcbcb\"/>\n     </g>\n     <g id=\"line2d_20\"/>\n     <g id=\"text_10\">\n      <!-- 15 -->\n      <g transform=\"translate(7.2 167.803527) scale(0.14 -0.14)\">\n       <use xlink:href=\"#DejaVuSans-31\"/>\n       <use xlink:href=\"#DejaVuSans-35\" x=\"63.623047\"/>\n      </g>\n     </g>\n    </g>\n    <g id=\"ytick_5\">\n     <g id=\"line2d_21\">\n      <path d=\"M 28.515 212.473192 \nL 308.451 212.473192 \n\" clip-path=\"url(#p32efee514c)\" style=\"fill: none; stroke: #cbcbcb\"/>\n     </g>\n     <g id=\"line2d_22\"/>\n     <g id=\"text_11\">\n      <!-- 20 -->\n      <g transform=\"translate(7.2 217.792098) scale(0.14 -0.14)\">\n       <use xlink:href=\"#DejaVuSans-32\"/>\n       <use xlink:href=\"#DejaVuSans-30\" x=\"63.623047\"/>\n      </g>\n     </g>\n    </g>\n    <g id=\"ytick_6\">\n     <g id=\"line2d_23\">\n      <path d=\"M 28.515 262.461763 \nL 308.451 262.461763 \n\" clip-path=\"url(#p32efee514c)\" style=\"fill: none; stroke: #cbcbcb\"/>\n     </g>\n     <g id=\"line2d_24\"/>\n     <g id=\"text_12\">\n      <!-- 25 -->\n      <g transform=\"translate(7.2 267.78067) scale(0.14 -0.14)\">\n       <use xlink:href=\"#DejaVuSans-32\"/>\n       <use xlink:href=\"#DejaVuSans-35\" x=\"63.623047\"/>\n      </g>\n     </g>\n    </g>\n   </g>\n   <g id=\"patch_3\">\n    <path d=\"M 28.515 287.456049 \nL 28.515 7.520049 \n\" style=\"fill: none; stroke: #f0f0f0; stroke-width: 3; stroke-linejoin: miter; stroke-linecap: square\"/>\n   </g>\n   <g id=\"patch_4\">\n    <path d=\"M 308.451 287.456049 \nL 308.451 7.520049 \n\" style=\"fill: none; stroke: #f0f0f0; stroke-width: 3; stroke-linejoin: miter; stroke-linecap: square\"/>\n   </g>\n   <g id=\"patch_5\">\n    <path d=\"M 28.515 287.456049 \nL 308.451 287.456049 \n\" style=\"fill: none; stroke: #f0f0f0; stroke-width: 3; stroke-linejoin: miter; stroke-linecap: square\"/>\n   </g>\n   <g id=\"patch_6\">\n    <path d=\"M 28.515 7.520049 \nL 308.451 7.520049 \n\" style=\"fill: none; stroke: #f0f0f0; stroke-width: 3; stroke-linejoin: miter; stroke-linecap: square\"/>\n   </g>\n  </g>\n </g>\n <defs>\n  <clipPath id=\"p32efee514c\">\n   <rect x=\"28.515\" y=\"7.520049\" width=\"279.936\" height=\"279.936\"/>\n  </clipPath>\n </defs>\n</svg>\n",
      "text/plain": [
       "<Figure size 640x480 with 1 Axes>"
      ]
     },
     "metadata": {},
     "output_type": "display_data"
    }
   ],
   "source": [
    "for batch in data.train_dl:\n",
    "    x, y = batch\n",
    "    print (x.mean(), x.std())\n",
    "    break\n",
    "\n",
    "img = x[0]\n",
    "\n",
    "print (img.max())\n",
    "plt.imshow(img.view(28,28));\n"
   ]
  },
  {
   "cell_type": "code",
   "execution_count": null,
   "metadata": {},
   "outputs": [],
   "source": []
  },
  {
   "cell_type": "code",
   "execution_count": 214,
   "metadata": {},
   "outputs": [],
   "source": [
    "# Lightning\n",
    "\n",
    "# Define Model\n",
    "\n",
    "torch.manual_seed(42)\n",
    "n_embd = 10\n",
    "n_hidden = 200\n",
    "batch_size = 1024\n",
    "\n",
    "\n",
    "class Classifier3(pl.LightningModule):\n",
    "    def __init__(self):\n",
    "        super().__init__()\n",
    "        self.model = nn.Sequential(nn.Flatten(),\n",
    "                                   nn.Linear(784, 256), nn.ReLU(), nn.Dropout(0.5),\n",
    "                                   nn.Linear(256, 256), nn.ReLU(), nn.Dropout(0.5),\n",
    "                                   nn.Linear(256, 10))\n",
    "        self.batch_size = 1024\n",
    "        self.learning_rate = 0.3\n",
    "        self.val_acc = torchmetrics.Accuracy(\n",
    "            task='multiclass', num_classes=10)\n",
    "\n",
    "    def training_step(self, batch, batch_idx):\n",
    "        # training_step defines the train loop.\n",
    "        x, y = batch\n",
    "        # x = x.view(x.size(0), -1)\n",
    "        logits = self.model(x)\n",
    "        loss = nn.functional.cross_entropy(logits, y)\n",
    "        self.log(\"train_loss\", loss, prog_bar=False,\n",
    "                 on_step=False, on_epoch=True)\n",
    "        return loss\n",
    "\n",
    "    def validation_step(self, batch, batch_idx):\n",
    "        # training_step defines the train loop.\n",
    "        x, y = batch\n",
    "        # x = x.view(x.size(0), -1)\n",
    "        logits = self.model(x)\n",
    "        loss = nn.functional.cross_entropy(logits, y)\n",
    "        self.val_acc(logits, y)\n",
    "\n",
    "        # self.log('train_loss', loss)\n",
    "        self.log(\"val_loss\", loss, prog_bar=True,\n",
    "                 on_step=False, on_epoch=True)\n",
    "        self.log('val_acc', self.val_acc, prog_bar=True,\n",
    "                 on_step=False, on_epoch=True)\n",
    "        return loss\n",
    "\n",
    "    def predict_step(self, batch, batch_idx):\n",
    "        # training_step defines the train loop.\n",
    "        # x, y = batch\n",
    "        x = batch\n",
    "        # x = x.view(x.size(0), -1)\n",
    "        logits = self.model(x)\n",
    "        return logits\n",
    "\n",
    "    def configure_optimizers(self):\n",
    "        optimizer = torch.optim.SGD(self.parameters(), lr=self.learning_rate, weight_decay=0.01)\n",
    "        scheduler = torch.optim.lr_scheduler.ReduceLROnPlateau(\n",
    "            optimizer, patience=10)\n",
    "        lr_scheduler = {\"scheduler\": scheduler,\n",
    "                        \"interval\": \"epoch\", \"monitor\": \"val_loss\"}\n",
    "        return [optimizer], [lr_scheduler]\n",
    "\n",
    "\n",
    "model = Classifier3()\n"
   ]
  },
  {
   "cell_type": "code",
   "execution_count": 215,
   "metadata": {},
   "outputs": [
    {
     "name": "stderr",
     "output_type": "stream",
     "text": [
      "GPU available: True (mps), used: False\n",
      "TPU available: False, using: 0 TPU cores\n",
      "IPU available: False, using: 0 IPUs\n",
      "HPU available: False, using: 0 HPUs\n"
     ]
    },
    {
     "data": {
      "application/vnd.jupyter.widget-view+json": {
       "model_id": "91537cbbe32a4dddbb61284ea2e377a5",
       "version_major": 2,
       "version_minor": 0
      },
      "text/plain": [
       "Finding best initial lr:   0%|          | 0/100 [00:00<?, ?it/s]"
      ]
     },
     "metadata": {},
     "output_type": "display_data"
    },
    {
     "name": "stderr",
     "output_type": "stream",
     "text": [
      "`Trainer.fit` stopped: `max_steps=100` reached.\n",
      "Restoring states from the checkpoint path at /Users/jsmidt/Documents/AI/scratch/d2l/.lr_find_3b2cf039-d5b5-4f4f-85fa-90f3cf9b66d0.ckpt\n",
      "Restored all states from the checkpoint file at /Users/jsmidt/Documents/AI/scratch/d2l/.lr_find_3b2cf039-d5b5-4f4f-85fa-90f3cf9b66d0.ckpt\n"
     ]
    },
    {
     "name": "stdout",
     "output_type": "stream",
     "text": [
      "0.3311311214825908\n"
     ]
    },
    {
     "data": {
      "image/svg+xml": "<?xml version=\"1.0\" encoding=\"utf-8\" standalone=\"no\"?>\n<!DOCTYPE svg PUBLIC \"-//W3C//DTD SVG 1.1//EN\"\n  \"http://www.w3.org/Graphics/SVG/1.1/DTD/svg11.dtd\">\n<svg xmlns:xlink=\"http://www.w3.org/1999/xlink\" width=\"461.319625pt\" height=\"331.644625pt\" viewBox=\"0 0 461.319625 331.644625\" xmlns=\"http://www.w3.org/2000/svg\" version=\"1.1\">\n <metadata>\n  <rdf:RDF xmlns:dc=\"http://purl.org/dc/elements/1.1/\" xmlns:cc=\"http://creativecommons.org/ns#\" xmlns:rdf=\"http://www.w3.org/1999/02/22-rdf-syntax-ns#\">\n   <cc:Work>\n    <dc:type rdf:resource=\"http://purl.org/dc/dcmitype/StillImage\"/>\n    <dc:date>2023-01-21T10:20:48.105863</dc:date>\n    <dc:format>image/svg+xml</dc:format>\n    <dc:creator>\n     <cc:Agent>\n      <dc:title>Matplotlib v3.6.3, https://matplotlib.org/</dc:title>\n     </cc:Agent>\n    </dc:creator>\n   </cc:Work>\n  </rdf:RDF>\n </metadata>\n <defs>\n  <style type=\"text/css\">*{stroke-linejoin: round; stroke-linecap: butt}</style>\n </defs>\n <g id=\"figure_1\">\n  <g id=\"patch_1\">\n   <path d=\"M 0 331.644625 \nL 461.319625 331.644625 \nL 461.319625 0 \nL 0 0 \nz\n\" style=\"fill: #f0f0f0\"/>\n  </g>\n  <g id=\"axes_1\">\n   <g id=\"patch_2\">\n    <path d=\"M 53.223625 287.136 \nL 454.119625 287.136 \nL 454.119625 7.2 \nL 53.223625 7.2 \nz\n\" style=\"fill: #f0f0f0\"/>\n   </g>\n   <g id=\"matplotlib.axis_1\">\n    <g id=\"xtick_1\">\n     <g id=\"line2d_1\">\n      <path d=\"M 117.002534 287.136 \nL 117.002534 7.2 \n\" clip-path=\"url(#p3604d663c8)\" style=\"fill: none; stroke: #cbcbcb\"/>\n     </g>\n     <g id=\"line2d_2\"/>\n     <g id=\"text_1\">\n      <!-- $\\mathdefault{10^{-7}}$ -->\n      <g transform=\"translate(100.552534 301.273812) scale(0.14 -0.14)\">\n       <defs>\n        <path id=\"DejaVuSans-31\" d=\"M 794 531 \nL 1825 531 \nL 1825 4091 \nL 703 3866 \nL 703 4441 \nL 1819 4666 \nL 2450 4666 \nL 2450 531 \nL 3481 531 \nL 3481 0 \nL 794 0 \nL 794 531 \nz\n\" transform=\"scale(0.015625)\"/>\n        <path id=\"DejaVuSans-30\" d=\"M 2034 4250 \nQ 1547 4250 1301 3770 \nQ 1056 3291 1056 2328 \nQ 1056 1369 1301 889 \nQ 1547 409 2034 409 \nQ 2525 409 2770 889 \nQ 3016 1369 3016 2328 \nQ 3016 3291 2770 3770 \nQ 2525 4250 2034 4250 \nz\nM 2034 4750 \nQ 2819 4750 3233 4129 \nQ 3647 3509 3647 2328 \nQ 3647 1150 3233 529 \nQ 2819 -91 2034 -91 \nQ 1250 -91 836 529 \nQ 422 1150 422 2328 \nQ 422 3509 836 4129 \nQ 1250 4750 2034 4750 \nz\n\" transform=\"scale(0.015625)\"/>\n        <path id=\"DejaVuSans-2212\" d=\"M 678 2272 \nL 4684 2272 \nL 4684 1741 \nL 678 1741 \nL 678 2272 \nz\n\" transform=\"scale(0.015625)\"/>\n        <path id=\"DejaVuSans-37\" d=\"M 525 4666 \nL 3525 4666 \nL 3525 4397 \nL 1831 0 \nL 1172 0 \nL 2766 4134 \nL 525 4134 \nL 525 4666 \nz\n\" transform=\"scale(0.015625)\"/>\n       </defs>\n       <use xlink:href=\"#DejaVuSans-31\" transform=\"translate(0 0.684375)\"/>\n       <use xlink:href=\"#DejaVuSans-30\" transform=\"translate(63.623047 0.684375)\"/>\n       <use xlink:href=\"#DejaVuSans-2212\" transform=\"translate(128.203125 38.965625) scale(0.7)\"/>\n       <use xlink:href=\"#DejaVuSans-37\" transform=\"translate(186.855469 38.965625) scale(0.7)\"/>\n      </g>\n     </g>\n    </g>\n    <g id=\"xtick_2\">\n     <g id=\"line2d_3\">\n      <path d=\"M 208.115261 287.136 \nL 208.115261 7.2 \n\" clip-path=\"url(#p3604d663c8)\" style=\"fill: none; stroke: #cbcbcb\"/>\n     </g>\n     <g id=\"line2d_4\"/>\n     <g id=\"text_2\">\n      <!-- $\\mathdefault{10^{-5}}$ -->\n      <g transform=\"translate(191.665261 301.273812) scale(0.14 -0.14)\">\n       <defs>\n        <path id=\"DejaVuSans-35\" d=\"M 691 4666 \nL 3169 4666 \nL 3169 4134 \nL 1269 4134 \nL 1269 2991 \nQ 1406 3038 1543 3061 \nQ 1681 3084 1819 3084 \nQ 2600 3084 3056 2656 \nQ 3513 2228 3513 1497 \nQ 3513 744 3044 326 \nQ 2575 -91 1722 -91 \nQ 1428 -91 1123 -41 \nQ 819 9 494 109 \nL 494 744 \nQ 775 591 1075 516 \nQ 1375 441 1709 441 \nQ 2250 441 2565 725 \nQ 2881 1009 2881 1497 \nQ 2881 1984 2565 2268 \nQ 2250 2553 1709 2553 \nQ 1456 2553 1204 2497 \nQ 953 2441 691 2322 \nL 691 4666 \nz\n\" transform=\"scale(0.015625)\"/>\n       </defs>\n       <use xlink:href=\"#DejaVuSans-31\" transform=\"translate(0 0.684375)\"/>\n       <use xlink:href=\"#DejaVuSans-30\" transform=\"translate(63.623047 0.684375)\"/>\n       <use xlink:href=\"#DejaVuSans-2212\" transform=\"translate(128.203125 38.965625) scale(0.7)\"/>\n       <use xlink:href=\"#DejaVuSans-35\" transform=\"translate(186.855469 38.965625) scale(0.7)\"/>\n      </g>\n     </g>\n    </g>\n    <g id=\"xtick_3\">\n     <g id=\"line2d_5\">\n      <path d=\"M 299.227989 287.136 \nL 299.227989 7.2 \n\" clip-path=\"url(#p3604d663c8)\" style=\"fill: none; stroke: #cbcbcb\"/>\n     </g>\n     <g id=\"line2d_6\"/>\n     <g id=\"text_3\">\n      <!-- $\\mathdefault{10^{-3}}$ -->\n      <g transform=\"translate(282.777989 301.273812) scale(0.14 -0.14)\">\n       <defs>\n        <path id=\"DejaVuSans-33\" d=\"M 2597 2516 \nQ 3050 2419 3304 2112 \nQ 3559 1806 3559 1356 \nQ 3559 666 3084 287 \nQ 2609 -91 1734 -91 \nQ 1441 -91 1130 -33 \nQ 819 25 488 141 \nL 488 750 \nQ 750 597 1062 519 \nQ 1375 441 1716 441 \nQ 2309 441 2620 675 \nQ 2931 909 2931 1356 \nQ 2931 1769 2642 2001 \nQ 2353 2234 1838 2234 \nL 1294 2234 \nL 1294 2753 \nL 1863 2753 \nQ 2328 2753 2575 2939 \nQ 2822 3125 2822 3475 \nQ 2822 3834 2567 4026 \nQ 2313 4219 1838 4219 \nQ 1578 4219 1281 4162 \nQ 984 4106 628 3988 \nL 628 4550 \nQ 988 4650 1302 4700 \nQ 1616 4750 1894 4750 \nQ 2613 4750 3031 4423 \nQ 3450 4097 3450 3541 \nQ 3450 3153 3228 2886 \nQ 3006 2619 2597 2516 \nz\n\" transform=\"scale(0.015625)\"/>\n       </defs>\n       <use xlink:href=\"#DejaVuSans-31\" transform=\"translate(0 0.765625)\"/>\n       <use xlink:href=\"#DejaVuSans-30\" transform=\"translate(63.623047 0.765625)\"/>\n       <use xlink:href=\"#DejaVuSans-2212\" transform=\"translate(128.203125 39.046875) scale(0.7)\"/>\n       <use xlink:href=\"#DejaVuSans-33\" transform=\"translate(186.855469 39.046875) scale(0.7)\"/>\n      </g>\n     </g>\n    </g>\n    <g id=\"xtick_4\">\n     <g id=\"line2d_7\">\n      <path d=\"M 390.340716 287.136 \nL 390.340716 7.2 \n\" clip-path=\"url(#p3604d663c8)\" style=\"fill: none; stroke: #cbcbcb\"/>\n     </g>\n     <g id=\"line2d_8\"/>\n     <g id=\"text_4\">\n      <!-- $\\mathdefault{10^{-1}}$ -->\n      <g transform=\"translate(373.890716 301.273812) scale(0.14 -0.14)\">\n       <use xlink:href=\"#DejaVuSans-31\" transform=\"translate(0 0.684375)\"/>\n       <use xlink:href=\"#DejaVuSans-30\" transform=\"translate(63.623047 0.684375)\"/>\n       <use xlink:href=\"#DejaVuSans-2212\" transform=\"translate(128.203125 38.965625) scale(0.7)\"/>\n       <use xlink:href=\"#DejaVuSans-31\" transform=\"translate(186.855469 38.965625) scale(0.7)\"/>\n      </g>\n     </g>\n    </g>\n    <g id=\"text_5\">\n     <!-- Learning rate -->\n     <g transform=\"translate(197.470375 320.95075) scale(0.168 -0.168)\">\n      <defs>\n       <path id=\"DejaVuSans-4c\" d=\"M 628 4666 \nL 1259 4666 \nL 1259 531 \nL 3531 531 \nL 3531 0 \nL 628 0 \nL 628 4666 \nz\n\" transform=\"scale(0.015625)\"/>\n       <path id=\"DejaVuSans-65\" d=\"M 3597 1894 \nL 3597 1613 \nL 953 1613 \nQ 991 1019 1311 708 \nQ 1631 397 2203 397 \nQ 2534 397 2845 478 \nQ 3156 559 3463 722 \nL 3463 178 \nQ 3153 47 2828 -22 \nQ 2503 -91 2169 -91 \nQ 1331 -91 842 396 \nQ 353 884 353 1716 \nQ 353 2575 817 3079 \nQ 1281 3584 2069 3584 \nQ 2775 3584 3186 3129 \nQ 3597 2675 3597 1894 \nz\nM 3022 2063 \nQ 3016 2534 2758 2815 \nQ 2500 3097 2075 3097 \nQ 1594 3097 1305 2825 \nQ 1016 2553 972 2059 \nL 3022 2063 \nz\n\" transform=\"scale(0.015625)\"/>\n       <path id=\"DejaVuSans-61\" d=\"M 2194 1759 \nQ 1497 1759 1228 1600 \nQ 959 1441 959 1056 \nQ 959 750 1161 570 \nQ 1363 391 1709 391 \nQ 2188 391 2477 730 \nQ 2766 1069 2766 1631 \nL 2766 1759 \nL 2194 1759 \nz\nM 3341 1997 \nL 3341 0 \nL 2766 0 \nL 2766 531 \nQ 2569 213 2275 61 \nQ 1981 -91 1556 -91 \nQ 1019 -91 701 211 \nQ 384 513 384 1019 \nQ 384 1609 779 1909 \nQ 1175 2209 1959 2209 \nL 2766 2209 \nL 2766 2266 \nQ 2766 2663 2505 2880 \nQ 2244 3097 1772 3097 \nQ 1472 3097 1187 3025 \nQ 903 2953 641 2809 \nL 641 3341 \nQ 956 3463 1253 3523 \nQ 1550 3584 1831 3584 \nQ 2591 3584 2966 3190 \nQ 3341 2797 3341 1997 \nz\n\" transform=\"scale(0.015625)\"/>\n       <path id=\"DejaVuSans-72\" d=\"M 2631 2963 \nQ 2534 3019 2420 3045 \nQ 2306 3072 2169 3072 \nQ 1681 3072 1420 2755 \nQ 1159 2438 1159 1844 \nL 1159 0 \nL 581 0 \nL 581 3500 \nL 1159 3500 \nL 1159 2956 \nQ 1341 3275 1631 3429 \nQ 1922 3584 2338 3584 \nQ 2397 3584 2469 3576 \nQ 2541 3569 2628 3553 \nL 2631 2963 \nz\n\" transform=\"scale(0.015625)\"/>\n       <path id=\"DejaVuSans-6e\" d=\"M 3513 2113 \nL 3513 0 \nL 2938 0 \nL 2938 2094 \nQ 2938 2591 2744 2837 \nQ 2550 3084 2163 3084 \nQ 1697 3084 1428 2787 \nQ 1159 2491 1159 1978 \nL 1159 0 \nL 581 0 \nL 581 3500 \nL 1159 3500 \nL 1159 2956 \nQ 1366 3272 1645 3428 \nQ 1925 3584 2291 3584 \nQ 2894 3584 3203 3211 \nQ 3513 2838 3513 2113 \nz\n\" transform=\"scale(0.015625)\"/>\n       <path id=\"DejaVuSans-69\" d=\"M 603 3500 \nL 1178 3500 \nL 1178 0 \nL 603 0 \nL 603 3500 \nz\nM 603 4863 \nL 1178 4863 \nL 1178 4134 \nL 603 4134 \nL 603 4863 \nz\n\" transform=\"scale(0.015625)\"/>\n       <path id=\"DejaVuSans-67\" d=\"M 2906 1791 \nQ 2906 2416 2648 2759 \nQ 2391 3103 1925 3103 \nQ 1463 3103 1205 2759 \nQ 947 2416 947 1791 \nQ 947 1169 1205 825 \nQ 1463 481 1925 481 \nQ 2391 481 2648 825 \nQ 2906 1169 2906 1791 \nz\nM 3481 434 \nQ 3481 -459 3084 -895 \nQ 2688 -1331 1869 -1331 \nQ 1566 -1331 1297 -1286 \nQ 1028 -1241 775 -1147 \nL 775 -588 \nQ 1028 -725 1275 -790 \nQ 1522 -856 1778 -856 \nQ 2344 -856 2625 -561 \nQ 2906 -266 2906 331 \nL 2906 616 \nQ 2728 306 2450 153 \nQ 2172 0 1784 0 \nQ 1141 0 747 490 \nQ 353 981 353 1791 \nQ 353 2603 747 3093 \nQ 1141 3584 1784 3584 \nQ 2172 3584 2450 3431 \nQ 2728 3278 2906 2969 \nL 2906 3500 \nL 3481 3500 \nL 3481 434 \nz\n\" transform=\"scale(0.015625)\"/>\n       <path id=\"DejaVuSans-20\" transform=\"scale(0.015625)\"/>\n       <path id=\"DejaVuSans-74\" d=\"M 1172 4494 \nL 1172 3500 \nL 2356 3500 \nL 2356 3053 \nL 1172 3053 \nL 1172 1153 \nQ 1172 725 1289 603 \nQ 1406 481 1766 481 \nL 2356 481 \nL 2356 0 \nL 1766 0 \nQ 1100 0 847 248 \nQ 594 497 594 1153 \nL 594 3053 \nL 172 3053 \nL 172 3500 \nL 594 3500 \nL 594 4494 \nL 1172 4494 \nz\n\" transform=\"scale(0.015625)\"/>\n      </defs>\n      <use xlink:href=\"#DejaVuSans-4c\"/>\n      <use xlink:href=\"#DejaVuSans-65\" x=\"53.962891\"/>\n      <use xlink:href=\"#DejaVuSans-61\" x=\"115.486328\"/>\n      <use xlink:href=\"#DejaVuSans-72\" x=\"176.765625\"/>\n      <use xlink:href=\"#DejaVuSans-6e\" x=\"216.128906\"/>\n      <use xlink:href=\"#DejaVuSans-69\" x=\"279.507812\"/>\n      <use xlink:href=\"#DejaVuSans-6e\" x=\"307.291016\"/>\n      <use xlink:href=\"#DejaVuSans-67\" x=\"370.669922\"/>\n      <use xlink:href=\"#DejaVuSans-20\" x=\"434.146484\"/>\n      <use xlink:href=\"#DejaVuSans-72\" x=\"465.933594\"/>\n      <use xlink:href=\"#DejaVuSans-61\" x=\"507.046875\"/>\n      <use xlink:href=\"#DejaVuSans-74\" x=\"568.326172\"/>\n      <use xlink:href=\"#DejaVuSans-65\" x=\"607.535156\"/>\n     </g>\n    </g>\n   </g>\n   <g id=\"matplotlib.axis_2\">\n    <g id=\"ytick_1\">\n     <g id=\"line2d_9\">\n      <path d=\"M 53.223625 265.741578 \nL 454.119625 265.741578 \n\" clip-path=\"url(#p3604d663c8)\" style=\"fill: none; stroke: #cbcbcb\"/>\n     </g>\n     <g id=\"line2d_10\"/>\n     <g id=\"text_6\">\n      <!-- 1.2 -->\n      <g transform=\"translate(27.45925 271.060485) scale(0.14 -0.14)\">\n       <defs>\n        <path id=\"DejaVuSans-2e\" d=\"M 684 794 \nL 1344 794 \nL 1344 0 \nL 684 0 \nL 684 794 \nz\n\" transform=\"scale(0.015625)\"/>\n        <path id=\"DejaVuSans-32\" d=\"M 1228 531 \nL 3431 531 \nL 3431 0 \nL 469 0 \nL 469 531 \nQ 828 903 1448 1529 \nQ 2069 2156 2228 2338 \nQ 2531 2678 2651 2914 \nQ 2772 3150 2772 3378 \nQ 2772 3750 2511 3984 \nQ 2250 4219 1831 4219 \nQ 1534 4219 1204 4116 \nQ 875 4013 500 3803 \nL 500 4441 \nQ 881 4594 1212 4672 \nQ 1544 4750 1819 4750 \nQ 2544 4750 2975 4387 \nQ 3406 4025 3406 3419 \nQ 3406 3131 3298 2873 \nQ 3191 2616 2906 2266 \nQ 2828 2175 2409 1742 \nQ 1991 1309 1228 531 \nz\n\" transform=\"scale(0.015625)\"/>\n       </defs>\n       <use xlink:href=\"#DejaVuSans-31\"/>\n       <use xlink:href=\"#DejaVuSans-2e\" x=\"63.623047\"/>\n       <use xlink:href=\"#DejaVuSans-32\" x=\"95.410156\"/>\n      </g>\n     </g>\n    </g>\n    <g id=\"ytick_2\">\n     <g id=\"line2d_11\">\n      <path d=\"M 53.223625 220.752761 \nL 454.119625 220.752761 \n\" clip-path=\"url(#p3604d663c8)\" style=\"fill: none; stroke: #cbcbcb\"/>\n     </g>\n     <g id=\"line2d_12\"/>\n     <g id=\"text_7\">\n      <!-- 1.4 -->\n      <g transform=\"translate(27.45925 226.071668) scale(0.14 -0.14)\">\n       <defs>\n        <path id=\"DejaVuSans-34\" d=\"M 2419 4116 \nL 825 1625 \nL 2419 1625 \nL 2419 4116 \nz\nM 2253 4666 \nL 3047 4666 \nL 3047 1625 \nL 3713 1625 \nL 3713 1100 \nL 3047 1100 \nL 3047 0 \nL 2419 0 \nL 2419 1100 \nL 313 1100 \nL 313 1709 \nL 2253 4666 \nz\n\" transform=\"scale(0.015625)\"/>\n       </defs>\n       <use xlink:href=\"#DejaVuSans-31\"/>\n       <use xlink:href=\"#DejaVuSans-2e\" x=\"63.623047\"/>\n       <use xlink:href=\"#DejaVuSans-34\" x=\"95.410156\"/>\n      </g>\n     </g>\n    </g>\n    <g id=\"ytick_3\">\n     <g id=\"line2d_13\">\n      <path d=\"M 53.223625 175.763944 \nL 454.119625 175.763944 \n\" clip-path=\"url(#p3604d663c8)\" style=\"fill: none; stroke: #cbcbcb\"/>\n     </g>\n     <g id=\"line2d_14\"/>\n     <g id=\"text_8\">\n      <!-- 1.6 -->\n      <g transform=\"translate(27.45925 181.08285) scale(0.14 -0.14)\">\n       <defs>\n        <path id=\"DejaVuSans-36\" d=\"M 2113 2584 \nQ 1688 2584 1439 2293 \nQ 1191 2003 1191 1497 \nQ 1191 994 1439 701 \nQ 1688 409 2113 409 \nQ 2538 409 2786 701 \nQ 3034 994 3034 1497 \nQ 3034 2003 2786 2293 \nQ 2538 2584 2113 2584 \nz\nM 3366 4563 \nL 3366 3988 \nQ 3128 4100 2886 4159 \nQ 2644 4219 2406 4219 \nQ 1781 4219 1451 3797 \nQ 1122 3375 1075 2522 \nQ 1259 2794 1537 2939 \nQ 1816 3084 2150 3084 \nQ 2853 3084 3261 2657 \nQ 3669 2231 3669 1497 \nQ 3669 778 3244 343 \nQ 2819 -91 2113 -91 \nQ 1303 -91 875 529 \nQ 447 1150 447 2328 \nQ 447 3434 972 4092 \nQ 1497 4750 2381 4750 \nQ 2619 4750 2861 4703 \nQ 3103 4656 3366 4563 \nz\n\" transform=\"scale(0.015625)\"/>\n       </defs>\n       <use xlink:href=\"#DejaVuSans-31\"/>\n       <use xlink:href=\"#DejaVuSans-2e\" x=\"63.623047\"/>\n       <use xlink:href=\"#DejaVuSans-36\" x=\"95.410156\"/>\n      </g>\n     </g>\n    </g>\n    <g id=\"ytick_4\">\n     <g id=\"line2d_15\">\n      <path d=\"M 53.223625 130.775127 \nL 454.119625 130.775127 \n\" clip-path=\"url(#p3604d663c8)\" style=\"fill: none; stroke: #cbcbcb\"/>\n     </g>\n     <g id=\"line2d_16\"/>\n     <g id=\"text_9\">\n      <!-- 1.8 -->\n      <g transform=\"translate(27.45925 136.094033) scale(0.14 -0.14)\">\n       <defs>\n        <path id=\"DejaVuSans-38\" d=\"M 2034 2216 \nQ 1584 2216 1326 1975 \nQ 1069 1734 1069 1313 \nQ 1069 891 1326 650 \nQ 1584 409 2034 409 \nQ 2484 409 2743 651 \nQ 3003 894 3003 1313 \nQ 3003 1734 2745 1975 \nQ 2488 2216 2034 2216 \nz\nM 1403 2484 \nQ 997 2584 770 2862 \nQ 544 3141 544 3541 \nQ 544 4100 942 4425 \nQ 1341 4750 2034 4750 \nQ 2731 4750 3128 4425 \nQ 3525 4100 3525 3541 \nQ 3525 3141 3298 2862 \nQ 3072 2584 2669 2484 \nQ 3125 2378 3379 2068 \nQ 3634 1759 3634 1313 \nQ 3634 634 3220 271 \nQ 2806 -91 2034 -91 \nQ 1263 -91 848 271 \nQ 434 634 434 1313 \nQ 434 1759 690 2068 \nQ 947 2378 1403 2484 \nz\nM 1172 3481 \nQ 1172 3119 1398 2916 \nQ 1625 2713 2034 2713 \nQ 2441 2713 2670 2916 \nQ 2900 3119 2900 3481 \nQ 2900 3844 2670 4047 \nQ 2441 4250 2034 4250 \nQ 1625 4250 1398 4047 \nQ 1172 3844 1172 3481 \nz\n\" transform=\"scale(0.015625)\"/>\n       </defs>\n       <use xlink:href=\"#DejaVuSans-31\"/>\n       <use xlink:href=\"#DejaVuSans-2e\" x=\"63.623047\"/>\n       <use xlink:href=\"#DejaVuSans-38\" x=\"95.410156\"/>\n      </g>\n     </g>\n    </g>\n    <g id=\"ytick_5\">\n     <g id=\"line2d_17\">\n      <path d=\"M 53.223625 85.78631 \nL 454.119625 85.78631 \n\" clip-path=\"url(#p3604d663c8)\" style=\"fill: none; stroke: #cbcbcb\"/>\n     </g>\n     <g id=\"line2d_18\"/>\n     <g id=\"text_10\">\n      <!-- 2.0 -->\n      <g transform=\"translate(27.45925 91.105216) scale(0.14 -0.14)\">\n       <use xlink:href=\"#DejaVuSans-32\"/>\n       <use xlink:href=\"#DejaVuSans-2e\" x=\"63.623047\"/>\n       <use xlink:href=\"#DejaVuSans-30\" x=\"95.410156\"/>\n      </g>\n     </g>\n    </g>\n    <g id=\"ytick_6\">\n     <g id=\"line2d_19\">\n      <path d=\"M 53.223625 40.797493 \nL 454.119625 40.797493 \n\" clip-path=\"url(#p3604d663c8)\" style=\"fill: none; stroke: #cbcbcb\"/>\n     </g>\n     <g id=\"line2d_20\"/>\n     <g id=\"text_11\">\n      <!-- 2.2 -->\n      <g transform=\"translate(27.45925 46.116399) scale(0.14 -0.14)\">\n       <use xlink:href=\"#DejaVuSans-32\"/>\n       <use xlink:href=\"#DejaVuSans-2e\" x=\"63.623047\"/>\n       <use xlink:href=\"#DejaVuSans-32\" x=\"95.410156\"/>\n      </g>\n     </g>\n    </g>\n    <g id=\"text_12\">\n     <!-- Loss -->\n     <g transform=\"translate(19.965375 165.592875) rotate(-90) scale(0.168 -0.168)\">\n      <defs>\n       <path id=\"DejaVuSans-6f\" d=\"M 1959 3097 \nQ 1497 3097 1228 2736 \nQ 959 2375 959 1747 \nQ 959 1119 1226 758 \nQ 1494 397 1959 397 \nQ 2419 397 2687 759 \nQ 2956 1122 2956 1747 \nQ 2956 2369 2687 2733 \nQ 2419 3097 1959 3097 \nz\nM 1959 3584 \nQ 2709 3584 3137 3096 \nQ 3566 2609 3566 1747 \nQ 3566 888 3137 398 \nQ 2709 -91 1959 -91 \nQ 1206 -91 779 398 \nQ 353 888 353 1747 \nQ 353 2609 779 3096 \nQ 1206 3584 1959 3584 \nz\n\" transform=\"scale(0.015625)\"/>\n       <path id=\"DejaVuSans-73\" d=\"M 2834 3397 \nL 2834 2853 \nQ 2591 2978 2328 3040 \nQ 2066 3103 1784 3103 \nQ 1356 3103 1142 2972 \nQ 928 2841 928 2578 \nQ 928 2378 1081 2264 \nQ 1234 2150 1697 2047 \nL 1894 2003 \nQ 2506 1872 2764 1633 \nQ 3022 1394 3022 966 \nQ 3022 478 2636 193 \nQ 2250 -91 1575 -91 \nQ 1294 -91 989 -36 \nQ 684 19 347 128 \nL 347 722 \nQ 666 556 975 473 \nQ 1284 391 1588 391 \nQ 1994 391 2212 530 \nQ 2431 669 2431 922 \nQ 2431 1156 2273 1281 \nQ 2116 1406 1581 1522 \nL 1381 1569 \nQ 847 1681 609 1914 \nQ 372 2147 372 2553 \nQ 372 3047 722 3315 \nQ 1072 3584 1716 3584 \nQ 2034 3584 2315 3537 \nQ 2597 3491 2834 3397 \nz\n\" transform=\"scale(0.015625)\"/>\n      </defs>\n      <use xlink:href=\"#DejaVuSans-4c\"/>\n      <use xlink:href=\"#DejaVuSans-6f\" x=\"53.962891\"/>\n      <use xlink:href=\"#DejaVuSans-73\" x=\"115.144531\"/>\n      <use xlink:href=\"#DejaVuSans-73\" x=\"167.244141\"/>\n     </g>\n    </g>\n   </g>\n   <g id=\"line2d_21\">\n    <path d=\"M 71.44617 274.411636 \nL 78.735189 185.706588 \nL 82.379698 142.376652 \nL 86.024207 116.380382 \nL 89.668716 98.843841 \nL 93.313225 86.035246 \nL 96.957734 76.354555 \nL 100.602243 69.096693 \nL 104.246752 63.081181 \nL 107.891261 58.659213 \nL 111.53577 54.62368 \nL 115.18028 51.348593 \nL 118.824789 48.471444 \nL 122.469298 45.87311 \nL 126.113807 43.656706 \nL 129.758316 41.786597 \nL 133.402825 40.348691 \nL 137.047334 39.021733 \nL 140.691843 37.618142 \nL 144.336352 36.378334 \nL 147.980861 35.284929 \nL 151.62537 34.293819 \nL 155.26988 33.407449 \nL 158.914389 32.623135 \nL 162.558898 31.839248 \nL 166.203407 31.126077 \nL 169.847916 30.509157 \nL 173.492425 29.783701 \nL 177.136934 29.209538 \nL 180.781443 28.561787 \nL 184.425952 28.078817 \nL 188.070461 27.635354 \nL 191.71497 27.119865 \nL 195.35948 26.799365 \nL 199.003989 26.350927 \nL 202.648498 25.997666 \nL 206.293007 25.619154 \nL 209.937516 25.279478 \nL 213.582025 24.929793 \nL 217.226534 24.549287 \nL 220.871043 24.201518 \nL 224.515552 23.920207 \nL 228.160061 23.646426 \nL 231.80457 23.423134 \nL 235.44908 23.17483 \nL 239.093589 23.019276 \nL 242.738098 22.771756 \nL 246.382607 22.564391 \nL 250.027116 22.34848 \nL 253.671625 22.163908 \nL 257.316134 21.983565 \nL 260.960643 21.767327 \nL 264.605152 21.629306 \nL 268.249661 21.469035 \nL 271.89417 21.328879 \nL 275.53868 21.216143 \nL 279.183189 21.069897 \nL 282.827698 20.934475 \nL 286.472207 20.82825 \nL 290.116716 20.717521 \nL 293.761225 20.610215 \nL 297.405734 20.506991 \nL 301.050243 20.412125 \nL 304.694752 20.386931 \nL 308.339261 20.329927 \nL 311.98377 20.253311 \nL 315.62828 20.174014 \nL 319.272789 20.141678 \nL 322.917298 20.071902 \nL 326.561807 20.000035 \nL 330.206316 19.987665 \nL 333.850825 19.950041 \nL 337.495334 19.924364 \nL 341.139843 19.973132 \nL 344.784352 20.021809 \nL 348.428861 20.070866 \nL 352.07337 20.147249 \nL 355.71788 20.203605 \nL 359.362389 20.357917 \nL 363.006898 20.563872 \nL 366.651407 20.829804 \nL 370.295916 21.12771 \nL 373.940425 21.426928 \nL 377.584934 21.858073 \nL 381.229443 22.43898 \nL 384.873952 23.119652 \nL 388.518461 23.968487 \nL 392.16297 25.072374 \nL 395.80748 26.476105 \nL 399.451989 28.206471 \nL 403.096498 30.486085 \nL 406.741007 33.415878 \nL 410.385516 36.796211 \nL 414.030025 40.829764 \nL 417.674534 45.290146 \nL 421.319043 48.413502 \nL 424.963552 47.509919 \nL 428.608061 48.730957 \nL 432.25257 48.862032 \nL 435.89708 50.39467 \n\" clip-path=\"url(#p3604d663c8)\" style=\"fill: none; stroke: #008fd5; stroke-width: 4\"/>\n   </g>\n   <g id=\"line2d_22\">\n    <path d=\"M 414.030025 40.829764 \n\" clip-path=\"url(#p3604d663c8)\" style=\"fill: none; stroke: #ff0000; stroke-width: 4\"/>\n    <defs>\n     <path id=\"mfd3422af19\" d=\"M 0 5 \nC 1.326016 5 2.597899 4.473168 3.535534 3.535534 \nC 4.473168 2.597899 5 1.326016 5 0 \nC 5 -1.326016 4.473168 -2.597899 3.535534 -3.535534 \nC 2.597899 -4.473168 1.326016 -5 0 -5 \nC -1.326016 -5 -2.597899 -4.473168 -3.535534 -3.535534 \nC -4.473168 -2.597899 -5 -1.326016 -5 0 \nC -5 1.326016 -4.473168 2.597899 -3.535534 3.535534 \nC -2.597899 4.473168 -1.326016 5 0 5 \nz\n\" style=\"stroke: #ff0000\"/>\n    </defs>\n    <g clip-path=\"url(#p3604d663c8)\">\n     <use xlink:href=\"#mfd3422af19\" x=\"414.030025\" y=\"40.829764\" style=\"fill: #ff0000; stroke: #ff0000\"/>\n    </g>\n   </g>\n   <g id=\"patch_3\">\n    <path d=\"M 53.223625 287.136 \nL 53.223625 7.2 \n\" style=\"fill: none; stroke: #f0f0f0; stroke-width: 3; stroke-linejoin: miter; stroke-linecap: square\"/>\n   </g>\n   <g id=\"patch_4\">\n    <path d=\"M 454.119625 287.136 \nL 454.119625 7.2 \n\" style=\"fill: none; stroke: #f0f0f0; stroke-width: 3; stroke-linejoin: miter; stroke-linecap: square\"/>\n   </g>\n   <g id=\"patch_5\">\n    <path d=\"M 53.223625 287.136 \nL 454.119625 287.136 \n\" style=\"fill: none; stroke: #f0f0f0; stroke-width: 3; stroke-linejoin: miter; stroke-linecap: square\"/>\n   </g>\n   <g id=\"patch_6\">\n    <path d=\"M 53.223625 7.2 \nL 454.119625 7.2 \n\" style=\"fill: none; stroke: #f0f0f0; stroke-width: 3; stroke-linejoin: miter; stroke-linecap: square\"/>\n   </g>\n  </g>\n </g>\n <defs>\n  <clipPath id=\"p3604d663c8\">\n   <rect x=\"53.223625\" y=\"7.2\" width=\"400.896\" height=\"279.936\"/>\n  </clipPath>\n </defs>\n</svg>\n",
      "text/plain": [
       "<Figure size 640x480 with 1 Axes>"
      ]
     },
     "metadata": {},
     "output_type": "display_data"
    }
   ],
   "source": [
    "# run learning rate finder, results override hparams.learning_rate\n",
    "trainer = pl.Trainer(auto_lr_find=True)\n",
    "\n",
    "# call tune to find the lr\n",
    "#lr_finder = trainer.tune(makemore, train_dataloaders=data)\n",
    "lr_finder = trainer.tuner.lr_find(model, train_dataloaders=data.train_dl)\n",
    "\n",
    "# Results can be found in\n",
    "#print(lr_finder.results)\n",
    "print (lr_finder.suggestion())\n",
    "\n",
    "fig = lr_finder.plot(suggest=True)\n",
    "fig.show()"
   ]
  },
  {
   "cell_type": "code",
   "execution_count": 216,
   "metadata": {},
   "outputs": [
    {
     "name": "stderr",
     "output_type": "stream",
     "text": [
      "GPU available: True (mps), used: False\n",
      "TPU available: False, using: 0 TPU cores\n",
      "IPU available: False, using: 0 IPUs\n",
      "HPU available: False, using: 0 HPUs\n",
      "\n",
      "  | Name    | Type               | Params\n",
      "-----------------------------------------------\n",
      "0 | model   | Sequential         | 269 K \n",
      "1 | val_acc | MulticlassAccuracy | 0     \n",
      "-----------------------------------------------\n",
      "269 K     Trainable params\n",
      "0         Non-trainable params\n",
      "269 K     Total params\n",
      "1.077     Total estimated model params size (MB)\n"
     ]
    },
    {
     "data": {
      "application/vnd.jupyter.widget-view+json": {
       "model_id": "72dfc0daceea48f7955fb9d061d43d99",
       "version_major": 2,
       "version_minor": 0
      },
      "text/plain": [
       "Sanity Checking: 0it [00:00, ?it/s]"
      ]
     },
     "metadata": {},
     "output_type": "display_data"
    },
    {
     "data": {
      "application/vnd.jupyter.widget-view+json": {
       "model_id": "76c60e6a5fcc4b46a1e56faf74bdc262",
       "version_major": 2,
       "version_minor": 0
      },
      "text/plain": [
       "Training: 0it [00:00, ?it/s]"
      ]
     },
     "metadata": {},
     "output_type": "display_data"
    },
    {
     "data": {
      "application/vnd.jupyter.widget-view+json": {
       "model_id": "e3ebf9b674ab4e3c8bc66d2b71a7b2a8",
       "version_major": 2,
       "version_minor": 0
      },
      "text/plain": [
       "Validation: 0it [00:00, ?it/s]"
      ]
     },
     "metadata": {},
     "output_type": "display_data"
    },
    {
     "data": {
      "application/vnd.jupyter.widget-view+json": {
       "model_id": "73bb96a6d4694b2d829e20ee24a792fa",
       "version_major": 2,
       "version_minor": 0
      },
      "text/plain": [
       "Validation: 0it [00:00, ?it/s]"
      ]
     },
     "metadata": {},
     "output_type": "display_data"
    },
    {
     "data": {
      "application/vnd.jupyter.widget-view+json": {
       "model_id": "23978bf9e709490bb1f922e65313f435",
       "version_major": 2,
       "version_minor": 0
      },
      "text/plain": [
       "Validation: 0it [00:00, ?it/s]"
      ]
     },
     "metadata": {},
     "output_type": "display_data"
    },
    {
     "data": {
      "application/vnd.jupyter.widget-view+json": {
       "model_id": "a247ba35399d4d72929c8ca02ffd8289",
       "version_major": 2,
       "version_minor": 0
      },
      "text/plain": [
       "Validation: 0it [00:00, ?it/s]"
      ]
     },
     "metadata": {},
     "output_type": "display_data"
    },
    {
     "data": {
      "application/vnd.jupyter.widget-view+json": {
       "model_id": "40d4dce34d3e4d4ab8fd71301b9b9717",
       "version_major": 2,
       "version_minor": 0
      },
      "text/plain": [
       "Validation: 0it [00:00, ?it/s]"
      ]
     },
     "metadata": {},
     "output_type": "display_data"
    },
    {
     "data": {
      "application/vnd.jupyter.widget-view+json": {
       "model_id": "c93c8a8ebb8e4ce09453a5b0fe6b4ee5",
       "version_major": 2,
       "version_minor": 0
      },
      "text/plain": [
       "Validation: 0it [00:00, ?it/s]"
      ]
     },
     "metadata": {},
     "output_type": "display_data"
    },
    {
     "data": {
      "application/vnd.jupyter.widget-view+json": {
       "model_id": "ca82bc505d3e48bbae1d5006b7e8cbb0",
       "version_major": 2,
       "version_minor": 0
      },
      "text/plain": [
       "Validation: 0it [00:00, ?it/s]"
      ]
     },
     "metadata": {},
     "output_type": "display_data"
    },
    {
     "data": {
      "application/vnd.jupyter.widget-view+json": {
       "model_id": "367f184b6bd0486d8320c62565db2bf3",
       "version_major": 2,
       "version_minor": 0
      },
      "text/plain": [
       "Validation: 0it [00:00, ?it/s]"
      ]
     },
     "metadata": {},
     "output_type": "display_data"
    },
    {
     "data": {
      "application/vnd.jupyter.widget-view+json": {
       "model_id": "3d92b132aa7142a8bc72f540ddda5125",
       "version_major": 2,
       "version_minor": 0
      },
      "text/plain": [
       "Validation: 0it [00:00, ?it/s]"
      ]
     },
     "metadata": {},
     "output_type": "display_data"
    },
    {
     "data": {
      "application/vnd.jupyter.widget-view+json": {
       "model_id": "1672e5a052cd441ca0bc0b5962ca616d",
       "version_major": 2,
       "version_minor": 0
      },
      "text/plain": [
       "Validation: 0it [00:00, ?it/s]"
      ]
     },
     "metadata": {},
     "output_type": "display_data"
    },
    {
     "data": {
      "application/vnd.jupyter.widget-view+json": {
       "model_id": "675fafe0cb2b4be28868454fff92f84e",
       "version_major": 2,
       "version_minor": 0
      },
      "text/plain": [
       "Validation: 0it [00:00, ?it/s]"
      ]
     },
     "metadata": {},
     "output_type": "display_data"
    },
    {
     "data": {
      "application/vnd.jupyter.widget-view+json": {
       "model_id": "72ff358fe2434dde82791ec4f654b623",
       "version_major": 2,
       "version_minor": 0
      },
      "text/plain": [
       "Validation: 0it [00:00, ?it/s]"
      ]
     },
     "metadata": {},
     "output_type": "display_data"
    },
    {
     "data": {
      "application/vnd.jupyter.widget-view+json": {
       "model_id": "617f562429294b6eb55b1711a2168cec",
       "version_major": 2,
       "version_minor": 0
      },
      "text/plain": [
       "Validation: 0it [00:00, ?it/s]"
      ]
     },
     "metadata": {},
     "output_type": "display_data"
    },
    {
     "data": {
      "application/vnd.jupyter.widget-view+json": {
       "model_id": "8fb3175910cd44fca5a88a309de08d08",
       "version_major": 2,
       "version_minor": 0
      },
      "text/plain": [
       "Validation: 0it [00:00, ?it/s]"
      ]
     },
     "metadata": {},
     "output_type": "display_data"
    },
    {
     "data": {
      "application/vnd.jupyter.widget-view+json": {
       "model_id": "4b47cbe89c9a43cdb1319d3d422c0abb",
       "version_major": 2,
       "version_minor": 0
      },
      "text/plain": [
       "Validation: 0it [00:00, ?it/s]"
      ]
     },
     "metadata": {},
     "output_type": "display_data"
    },
    {
     "data": {
      "application/vnd.jupyter.widget-view+json": {
       "model_id": "16e659674ce14906a47eb08e19bdb724",
       "version_major": 2,
       "version_minor": 0
      },
      "text/plain": [
       "Validation: 0it [00:00, ?it/s]"
      ]
     },
     "metadata": {},
     "output_type": "display_data"
    },
    {
     "data": {
      "application/vnd.jupyter.widget-view+json": {
       "model_id": "0e85c7b6759845cc92a0b8b97ee03894",
       "version_major": 2,
       "version_minor": 0
      },
      "text/plain": [
       "Validation: 0it [00:00, ?it/s]"
      ]
     },
     "metadata": {},
     "output_type": "display_data"
    },
    {
     "data": {
      "application/vnd.jupyter.widget-view+json": {
       "model_id": "f3de2a81d2b54c1eb0a4c8f7d23f8c5e",
       "version_major": 2,
       "version_minor": 0
      },
      "text/plain": [
       "Validation: 0it [00:00, ?it/s]"
      ]
     },
     "metadata": {},
     "output_type": "display_data"
    },
    {
     "data": {
      "application/vnd.jupyter.widget-view+json": {
       "model_id": "2d1b698f430146ee8c11c299da664be5",
       "version_major": 2,
       "version_minor": 0
      },
      "text/plain": [
       "Validation: 0it [00:00, ?it/s]"
      ]
     },
     "metadata": {},
     "output_type": "display_data"
    },
    {
     "data": {
      "application/vnd.jupyter.widget-view+json": {
       "model_id": "2c20da58af174265aef838308e04519f",
       "version_major": 2,
       "version_minor": 0
      },
      "text/plain": [
       "Validation: 0it [00:00, ?it/s]"
      ]
     },
     "metadata": {},
     "output_type": "display_data"
    },
    {
     "data": {
      "application/vnd.jupyter.widget-view+json": {
       "model_id": "a1695c5ceb3544ec961218e408eafc7a",
       "version_major": 2,
       "version_minor": 0
      },
      "text/plain": [
       "Validation: 0it [00:00, ?it/s]"
      ]
     },
     "metadata": {},
     "output_type": "display_data"
    },
    {
     "data": {
      "application/vnd.jupyter.widget-view+json": {
       "model_id": "9799ece49ad2421ca8d9288f34fe4a85",
       "version_major": 2,
       "version_minor": 0
      },
      "text/plain": [
       "Validation: 0it [00:00, ?it/s]"
      ]
     },
     "metadata": {},
     "output_type": "display_data"
    },
    {
     "data": {
      "application/vnd.jupyter.widget-view+json": {
       "model_id": "4db2935d05ae4269badb604a80fd773a",
       "version_major": 2,
       "version_minor": 0
      },
      "text/plain": [
       "Validation: 0it [00:00, ?it/s]"
      ]
     },
     "metadata": {},
     "output_type": "display_data"
    },
    {
     "data": {
      "application/vnd.jupyter.widget-view+json": {
       "model_id": "f348b04c9e91448c9a344a83205e4ded",
       "version_major": 2,
       "version_minor": 0
      },
      "text/plain": [
       "Validation: 0it [00:00, ?it/s]"
      ]
     },
     "metadata": {},
     "output_type": "display_data"
    },
    {
     "data": {
      "application/vnd.jupyter.widget-view+json": {
       "model_id": "4cd827a141b0411e9d535ef9660e7c65",
       "version_major": 2,
       "version_minor": 0
      },
      "text/plain": [
       "Validation: 0it [00:00, ?it/s]"
      ]
     },
     "metadata": {},
     "output_type": "display_data"
    },
    {
     "data": {
      "application/vnd.jupyter.widget-view+json": {
       "model_id": "c98df4a1ae1447f4b5c98a7d041d528a",
       "version_major": 2,
       "version_minor": 0
      },
      "text/plain": [
       "Validation: 0it [00:00, ?it/s]"
      ]
     },
     "metadata": {},
     "output_type": "display_data"
    },
    {
     "data": {
      "application/vnd.jupyter.widget-view+json": {
       "model_id": "5f51e36dabc34d84b33dcdfd74492299",
       "version_major": 2,
       "version_minor": 0
      },
      "text/plain": [
       "Validation: 0it [00:00, ?it/s]"
      ]
     },
     "metadata": {},
     "output_type": "display_data"
    },
    {
     "data": {
      "application/vnd.jupyter.widget-view+json": {
       "model_id": "839495c9ddbe43c6ab050c2cb2c7b0fb",
       "version_major": 2,
       "version_minor": 0
      },
      "text/plain": [
       "Validation: 0it [00:00, ?it/s]"
      ]
     },
     "metadata": {},
     "output_type": "display_data"
    },
    {
     "data": {
      "application/vnd.jupyter.widget-view+json": {
       "model_id": "539d605899ae4904bae4e02513212ef1",
       "version_major": 2,
       "version_minor": 0
      },
      "text/plain": [
       "Validation: 0it [00:00, ?it/s]"
      ]
     },
     "metadata": {},
     "output_type": "display_data"
    },
    {
     "data": {
      "application/vnd.jupyter.widget-view+json": {
       "model_id": "66c9cfda0b8245aebbc14bfe6ae825a9",
       "version_major": 2,
       "version_minor": 0
      },
      "text/plain": [
       "Validation: 0it [00:00, ?it/s]"
      ]
     },
     "metadata": {},
     "output_type": "display_data"
    },
    {
     "data": {
      "application/vnd.jupyter.widget-view+json": {
       "model_id": "9b752816d8aa41539b347ed087dbc8e8",
       "version_major": 2,
       "version_minor": 0
      },
      "text/plain": [
       "Validation: 0it [00:00, ?it/s]"
      ]
     },
     "metadata": {},
     "output_type": "display_data"
    },
    {
     "data": {
      "application/vnd.jupyter.widget-view+json": {
       "model_id": "955215f8ebf9451cba841d296edf6486",
       "version_major": 2,
       "version_minor": 0
      },
      "text/plain": [
       "Validation: 0it [00:00, ?it/s]"
      ]
     },
     "metadata": {},
     "output_type": "display_data"
    },
    {
     "data": {
      "application/vnd.jupyter.widget-view+json": {
       "model_id": "7f70aa7dd79c4d0aa12c9978d6d61aac",
       "version_major": 2,
       "version_minor": 0
      },
      "text/plain": [
       "Validation: 0it [00:00, ?it/s]"
      ]
     },
     "metadata": {},
     "output_type": "display_data"
    },
    {
     "data": {
      "application/vnd.jupyter.widget-view+json": {
       "model_id": "d355eab9c12c48e09c4e6f20b249e896",
       "version_major": 2,
       "version_minor": 0
      },
      "text/plain": [
       "Validation: 0it [00:00, ?it/s]"
      ]
     },
     "metadata": {},
     "output_type": "display_data"
    },
    {
     "data": {
      "application/vnd.jupyter.widget-view+json": {
       "model_id": "2e4a2d928491432384742772baca36ec",
       "version_major": 2,
       "version_minor": 0
      },
      "text/plain": [
       "Validation: 0it [00:00, ?it/s]"
      ]
     },
     "metadata": {},
     "output_type": "display_data"
    },
    {
     "data": {
      "application/vnd.jupyter.widget-view+json": {
       "model_id": "1fbf1ef5743041c0ab6168857d2c7547",
       "version_major": 2,
       "version_minor": 0
      },
      "text/plain": [
       "Validation: 0it [00:00, ?it/s]"
      ]
     },
     "metadata": {},
     "output_type": "display_data"
    },
    {
     "data": {
      "application/vnd.jupyter.widget-view+json": {
       "model_id": "ec0f7a8a5eaf40cdbc4ddda2bc7fa7db",
       "version_major": 2,
       "version_minor": 0
      },
      "text/plain": [
       "Validation: 0it [00:00, ?it/s]"
      ]
     },
     "metadata": {},
     "output_type": "display_data"
    },
    {
     "data": {
      "application/vnd.jupyter.widget-view+json": {
       "model_id": "4ce3465863284b7f97ea74c8ca8e00a8",
       "version_major": 2,
       "version_minor": 0
      },
      "text/plain": [
       "Validation: 0it [00:00, ?it/s]"
      ]
     },
     "metadata": {},
     "output_type": "display_data"
    },
    {
     "data": {
      "application/vnd.jupyter.widget-view+json": {
       "model_id": "048e362bb125435bafda94d726ac5322",
       "version_major": 2,
       "version_minor": 0
      },
      "text/plain": [
       "Validation: 0it [00:00, ?it/s]"
      ]
     },
     "metadata": {},
     "output_type": "display_data"
    },
    {
     "data": {
      "application/vnd.jupyter.widget-view+json": {
       "model_id": "833f147f388b4afd8998c05eda314365",
       "version_major": 2,
       "version_minor": 0
      },
      "text/plain": [
       "Validation: 0it [00:00, ?it/s]"
      ]
     },
     "metadata": {},
     "output_type": "display_data"
    },
    {
     "data": {
      "application/vnd.jupyter.widget-view+json": {
       "model_id": "feafda19aaaf485796b221f623cd6564",
       "version_major": 2,
       "version_minor": 0
      },
      "text/plain": [
       "Validation: 0it [00:00, ?it/s]"
      ]
     },
     "metadata": {},
     "output_type": "display_data"
    },
    {
     "data": {
      "application/vnd.jupyter.widget-view+json": {
       "model_id": "775d96f712fd4fcd8dc7cb64ce1794c7",
       "version_major": 2,
       "version_minor": 0
      },
      "text/plain": [
       "Validation: 0it [00:00, ?it/s]"
      ]
     },
     "metadata": {},
     "output_type": "display_data"
    },
    {
     "data": {
      "application/vnd.jupyter.widget-view+json": {
       "model_id": "c71d24df18874568bb3a989af9d3de42",
       "version_major": 2,
       "version_minor": 0
      },
      "text/plain": [
       "Validation: 0it [00:00, ?it/s]"
      ]
     },
     "metadata": {},
     "output_type": "display_data"
    },
    {
     "data": {
      "application/vnd.jupyter.widget-view+json": {
       "model_id": "9a57515b4f064addbd3611891268144b",
       "version_major": 2,
       "version_minor": 0
      },
      "text/plain": [
       "Validation: 0it [00:00, ?it/s]"
      ]
     },
     "metadata": {},
     "output_type": "display_data"
    },
    {
     "data": {
      "application/vnd.jupyter.widget-view+json": {
       "model_id": "ce3a5ebb0419452db2248dc8caf9988a",
       "version_major": 2,
       "version_minor": 0
      },
      "text/plain": [
       "Validation: 0it [00:00, ?it/s]"
      ]
     },
     "metadata": {},
     "output_type": "display_data"
    },
    {
     "data": {
      "application/vnd.jupyter.widget-view+json": {
       "model_id": "544caf43da57459d8c3a5e05e4c01ff1",
       "version_major": 2,
       "version_minor": 0
      },
      "text/plain": [
       "Validation: 0it [00:00, ?it/s]"
      ]
     },
     "metadata": {},
     "output_type": "display_data"
    },
    {
     "data": {
      "application/vnd.jupyter.widget-view+json": {
       "model_id": "e80f89e61c594c8dba5dbeb231319744",
       "version_major": 2,
       "version_minor": 0
      },
      "text/plain": [
       "Validation: 0it [00:00, ?it/s]"
      ]
     },
     "metadata": {},
     "output_type": "display_data"
    },
    {
     "data": {
      "application/vnd.jupyter.widget-view+json": {
       "model_id": "ac8ee650c51743a29ecea3ae32f8484d",
       "version_major": 2,
       "version_minor": 0
      },
      "text/plain": [
       "Validation: 0it [00:00, ?it/s]"
      ]
     },
     "metadata": {},
     "output_type": "display_data"
    },
    {
     "data": {
      "application/vnd.jupyter.widget-view+json": {
       "model_id": "350247ef073640fa8920e812f8d91552",
       "version_major": 2,
       "version_minor": 0
      },
      "text/plain": [
       "Validation: 0it [00:00, ?it/s]"
      ]
     },
     "metadata": {},
     "output_type": "display_data"
    },
    {
     "data": {
      "application/vnd.jupyter.widget-view+json": {
       "model_id": "2c877817ac224377af4eacc548bd5202",
       "version_major": 2,
       "version_minor": 0
      },
      "text/plain": [
       "Validation: 0it [00:00, ?it/s]"
      ]
     },
     "metadata": {},
     "output_type": "display_data"
    },
    {
     "data": {
      "application/vnd.jupyter.widget-view+json": {
       "model_id": "3db99da21def43aba7872188a7cf1aa1",
       "version_major": 2,
       "version_minor": 0
      },
      "text/plain": [
       "Validation: 0it [00:00, ?it/s]"
      ]
     },
     "metadata": {},
     "output_type": "display_data"
    },
    {
     "data": {
      "application/vnd.jupyter.widget-view+json": {
       "model_id": "b3b6b68f1437449ea99b22fd90da8c2b",
       "version_major": 2,
       "version_minor": 0
      },
      "text/plain": [
       "Validation: 0it [00:00, ?it/s]"
      ]
     },
     "metadata": {},
     "output_type": "display_data"
    },
    {
     "data": {
      "application/vnd.jupyter.widget-view+json": {
       "model_id": "f0c4cf3235bf457dae56a682463f5950",
       "version_major": 2,
       "version_minor": 0
      },
      "text/plain": [
       "Validation: 0it [00:00, ?it/s]"
      ]
     },
     "metadata": {},
     "output_type": "display_data"
    },
    {
     "data": {
      "application/vnd.jupyter.widget-view+json": {
       "model_id": "03325eb1aea6453ea2a9110746934835",
       "version_major": 2,
       "version_minor": 0
      },
      "text/plain": [
       "Validation: 0it [00:00, ?it/s]"
      ]
     },
     "metadata": {},
     "output_type": "display_data"
    },
    {
     "data": {
      "application/vnd.jupyter.widget-view+json": {
       "model_id": "bc6a8d622e4049a481376022f637206c",
       "version_major": 2,
       "version_minor": 0
      },
      "text/plain": [
       "Validation: 0it [00:00, ?it/s]"
      ]
     },
     "metadata": {},
     "output_type": "display_data"
    },
    {
     "data": {
      "application/vnd.jupyter.widget-view+json": {
       "model_id": "80ad04d26c4e40938e49861f017bade8",
       "version_major": 2,
       "version_minor": 0
      },
      "text/plain": [
       "Validation: 0it [00:00, ?it/s]"
      ]
     },
     "metadata": {},
     "output_type": "display_data"
    },
    {
     "data": {
      "application/vnd.jupyter.widget-view+json": {
       "model_id": "dbb2b9c41b904dbeaeb1c4cc59a0490a",
       "version_major": 2,
       "version_minor": 0
      },
      "text/plain": [
       "Validation: 0it [00:00, ?it/s]"
      ]
     },
     "metadata": {},
     "output_type": "display_data"
    },
    {
     "data": {
      "application/vnd.jupyter.widget-view+json": {
       "model_id": "90ba995efbbe4b7a931c60feafe013b9",
       "version_major": 2,
       "version_minor": 0
      },
      "text/plain": [
       "Validation: 0it [00:00, ?it/s]"
      ]
     },
     "metadata": {},
     "output_type": "display_data"
    },
    {
     "data": {
      "application/vnd.jupyter.widget-view+json": {
       "model_id": "dfba9140300247b3b390a511e0227c0b",
       "version_major": 2,
       "version_minor": 0
      },
      "text/plain": [
       "Validation: 0it [00:00, ?it/s]"
      ]
     },
     "metadata": {},
     "output_type": "display_data"
    },
    {
     "data": {
      "application/vnd.jupyter.widget-view+json": {
       "model_id": "79a0e333b1434dea9fc946a27a6399c1",
       "version_major": 2,
       "version_minor": 0
      },
      "text/plain": [
       "Validation: 0it [00:00, ?it/s]"
      ]
     },
     "metadata": {},
     "output_type": "display_data"
    },
    {
     "data": {
      "application/vnd.jupyter.widget-view+json": {
       "model_id": "8f0600fdc82d4600bff112dfe9248680",
       "version_major": 2,
       "version_minor": 0
      },
      "text/plain": [
       "Validation: 0it [00:00, ?it/s]"
      ]
     },
     "metadata": {},
     "output_type": "display_data"
    },
    {
     "data": {
      "application/vnd.jupyter.widget-view+json": {
       "model_id": "47c2a88552c84694ac90ab43cb3698a9",
       "version_major": 2,
       "version_minor": 0
      },
      "text/plain": [
       "Validation: 0it [00:00, ?it/s]"
      ]
     },
     "metadata": {},
     "output_type": "display_data"
    },
    {
     "data": {
      "application/vnd.jupyter.widget-view+json": {
       "model_id": "678e189d289046dba9db1162e924e581",
       "version_major": 2,
       "version_minor": 0
      },
      "text/plain": [
       "Validation: 0it [00:00, ?it/s]"
      ]
     },
     "metadata": {},
     "output_type": "display_data"
    },
    {
     "data": {
      "application/vnd.jupyter.widget-view+json": {
       "model_id": "162e00e2f7d04fa299066f334cbbef84",
       "version_major": 2,
       "version_minor": 0
      },
      "text/plain": [
       "Validation: 0it [00:00, ?it/s]"
      ]
     },
     "metadata": {},
     "output_type": "display_data"
    },
    {
     "data": {
      "application/vnd.jupyter.widget-view+json": {
       "model_id": "c00d07c33fb1462997ced1e6f98baa05",
       "version_major": 2,
       "version_minor": 0
      },
      "text/plain": [
       "Validation: 0it [00:00, ?it/s]"
      ]
     },
     "metadata": {},
     "output_type": "display_data"
    },
    {
     "data": {
      "application/vnd.jupyter.widget-view+json": {
       "model_id": "fca52f0fb6714747967c87c6d39bba70",
       "version_major": 2,
       "version_minor": 0
      },
      "text/plain": [
       "Validation: 0it [00:00, ?it/s]"
      ]
     },
     "metadata": {},
     "output_type": "display_data"
    },
    {
     "data": {
      "application/vnd.jupyter.widget-view+json": {
       "model_id": "6971968ce94a4ab9840bf081cd466c14",
       "version_major": 2,
       "version_minor": 0
      },
      "text/plain": [
       "Validation: 0it [00:00, ?it/s]"
      ]
     },
     "metadata": {},
     "output_type": "display_data"
    },
    {
     "data": {
      "application/vnd.jupyter.widget-view+json": {
       "model_id": "d52f7a4af5254dfc82623e3897af07e2",
       "version_major": 2,
       "version_minor": 0
      },
      "text/plain": [
       "Validation: 0it [00:00, ?it/s]"
      ]
     },
     "metadata": {},
     "output_type": "display_data"
    },
    {
     "data": {
      "application/vnd.jupyter.widget-view+json": {
       "model_id": "6e1ee01091aa4365a03f8ffc6f4ee5d6",
       "version_major": 2,
       "version_minor": 0
      },
      "text/plain": [
       "Validation: 0it [00:00, ?it/s]"
      ]
     },
     "metadata": {},
     "output_type": "display_data"
    },
    {
     "data": {
      "application/vnd.jupyter.widget-view+json": {
       "model_id": "761ed73ecb974aef92a69bd5a7c98477",
       "version_major": 2,
       "version_minor": 0
      },
      "text/plain": [
       "Validation: 0it [00:00, ?it/s]"
      ]
     },
     "metadata": {},
     "output_type": "display_data"
    },
    {
     "data": {
      "application/vnd.jupyter.widget-view+json": {
       "model_id": "e69f71bf53104854bb2e1f2c3c66a2b9",
       "version_major": 2,
       "version_minor": 0
      },
      "text/plain": [
       "Validation: 0it [00:00, ?it/s]"
      ]
     },
     "metadata": {},
     "output_type": "display_data"
    },
    {
     "data": {
      "application/vnd.jupyter.widget-view+json": {
       "model_id": "1afeef1e1d8a4e208e09e0d532c81775",
       "version_major": 2,
       "version_minor": 0
      },
      "text/plain": [
       "Validation: 0it [00:00, ?it/s]"
      ]
     },
     "metadata": {},
     "output_type": "display_data"
    },
    {
     "data": {
      "application/vnd.jupyter.widget-view+json": {
       "model_id": "e33d19e00cf54de3b18b0b3f7a0d14bd",
       "version_major": 2,
       "version_minor": 0
      },
      "text/plain": [
       "Validation: 0it [00:00, ?it/s]"
      ]
     },
     "metadata": {},
     "output_type": "display_data"
    },
    {
     "data": {
      "application/vnd.jupyter.widget-view+json": {
       "model_id": "374e3a74dfe149da88d70b61522f75ef",
       "version_major": 2,
       "version_minor": 0
      },
      "text/plain": [
       "Validation: 0it [00:00, ?it/s]"
      ]
     },
     "metadata": {},
     "output_type": "display_data"
    },
    {
     "data": {
      "application/vnd.jupyter.widget-view+json": {
       "model_id": "c0658dd7b7d44949b37b154a06e01b0b",
       "version_major": 2,
       "version_minor": 0
      },
      "text/plain": [
       "Validation: 0it [00:00, ?it/s]"
      ]
     },
     "metadata": {},
     "output_type": "display_data"
    },
    {
     "data": {
      "application/vnd.jupyter.widget-view+json": {
       "model_id": "94b0445bf0554fb595a530922104d26a",
       "version_major": 2,
       "version_minor": 0
      },
      "text/plain": [
       "Validation: 0it [00:00, ?it/s]"
      ]
     },
     "metadata": {},
     "output_type": "display_data"
    },
    {
     "data": {
      "application/vnd.jupyter.widget-view+json": {
       "model_id": "9854f9671e264a6ea80e44ddf6425d7e",
       "version_major": 2,
       "version_minor": 0
      },
      "text/plain": [
       "Validation: 0it [00:00, ?it/s]"
      ]
     },
     "metadata": {},
     "output_type": "display_data"
    },
    {
     "data": {
      "application/vnd.jupyter.widget-view+json": {
       "model_id": "bc0e70a4792f43b5af4554ab1e5c405e",
       "version_major": 2,
       "version_minor": 0
      },
      "text/plain": [
       "Validation: 0it [00:00, ?it/s]"
      ]
     },
     "metadata": {},
     "output_type": "display_data"
    },
    {
     "data": {
      "application/vnd.jupyter.widget-view+json": {
       "model_id": "39f3052594d1407ba201fd4c965715b8",
       "version_major": 2,
       "version_minor": 0
      },
      "text/plain": [
       "Validation: 0it [00:00, ?it/s]"
      ]
     },
     "metadata": {},
     "output_type": "display_data"
    },
    {
     "data": {
      "application/vnd.jupyter.widget-view+json": {
       "model_id": "222c409534324a82bc1acc5ddaf9369d",
       "version_major": 2,
       "version_minor": 0
      },
      "text/plain": [
       "Validation: 0it [00:00, ?it/s]"
      ]
     },
     "metadata": {},
     "output_type": "display_data"
    },
    {
     "data": {
      "application/vnd.jupyter.widget-view+json": {
       "model_id": "f9462da87c9f40b0a3a82bb491ab7cd7",
       "version_major": 2,
       "version_minor": 0
      },
      "text/plain": [
       "Validation: 0it [00:00, ?it/s]"
      ]
     },
     "metadata": {},
     "output_type": "display_data"
    },
    {
     "data": {
      "application/vnd.jupyter.widget-view+json": {
       "model_id": "6eae10ab3c4c44e6872c3f88e1120ee5",
       "version_major": 2,
       "version_minor": 0
      },
      "text/plain": [
       "Validation: 0it [00:00, ?it/s]"
      ]
     },
     "metadata": {},
     "output_type": "display_data"
    },
    {
     "data": {
      "application/vnd.jupyter.widget-view+json": {
       "model_id": "6deddf31456244dfa927fdb0a8ee2c86",
       "version_major": 2,
       "version_minor": 0
      },
      "text/plain": [
       "Validation: 0it [00:00, ?it/s]"
      ]
     },
     "metadata": {},
     "output_type": "display_data"
    },
    {
     "data": {
      "application/vnd.jupyter.widget-view+json": {
       "model_id": "54bf679c00684584b54e39dcbebe0301",
       "version_major": 2,
       "version_minor": 0
      },
      "text/plain": [
       "Validation: 0it [00:00, ?it/s]"
      ]
     },
     "metadata": {},
     "output_type": "display_data"
    },
    {
     "data": {
      "application/vnd.jupyter.widget-view+json": {
       "model_id": "c35b3905e5174aacae2011a56e5128aa",
       "version_major": 2,
       "version_minor": 0
      },
      "text/plain": [
       "Validation: 0it [00:00, ?it/s]"
      ]
     },
     "metadata": {},
     "output_type": "display_data"
    },
    {
     "data": {
      "application/vnd.jupyter.widget-view+json": {
       "model_id": "6b58c8ce3a3f45cf871beff73f1ea620",
       "version_major": 2,
       "version_minor": 0
      },
      "text/plain": [
       "Validation: 0it [00:00, ?it/s]"
      ]
     },
     "metadata": {},
     "output_type": "display_data"
    },
    {
     "data": {
      "application/vnd.jupyter.widget-view+json": {
       "model_id": "337c9fe5dd8c4bbc941acad32c2a9704",
       "version_major": 2,
       "version_minor": 0
      },
      "text/plain": [
       "Validation: 0it [00:00, ?it/s]"
      ]
     },
     "metadata": {},
     "output_type": "display_data"
    },
    {
     "data": {
      "application/vnd.jupyter.widget-view+json": {
       "model_id": "e6947f2d1c6945118f24263c0803d9e3",
       "version_major": 2,
       "version_minor": 0
      },
      "text/plain": [
       "Validation: 0it [00:00, ?it/s]"
      ]
     },
     "metadata": {},
     "output_type": "display_data"
    },
    {
     "data": {
      "application/vnd.jupyter.widget-view+json": {
       "model_id": "8dbe189defec41b5a2b0813f8752643d",
       "version_major": 2,
       "version_minor": 0
      },
      "text/plain": [
       "Validation: 0it [00:00, ?it/s]"
      ]
     },
     "metadata": {},
     "output_type": "display_data"
    },
    {
     "data": {
      "application/vnd.jupyter.widget-view+json": {
       "model_id": "eb81d73a9ab544509ba458adc9967921",
       "version_major": 2,
       "version_minor": 0
      },
      "text/plain": [
       "Validation: 0it [00:00, ?it/s]"
      ]
     },
     "metadata": {},
     "output_type": "display_data"
    },
    {
     "data": {
      "application/vnd.jupyter.widget-view+json": {
       "model_id": "58074981c45e485cb5a3b14f975edf65",
       "version_major": 2,
       "version_minor": 0
      },
      "text/plain": [
       "Validation: 0it [00:00, ?it/s]"
      ]
     },
     "metadata": {},
     "output_type": "display_data"
    },
    {
     "data": {
      "application/vnd.jupyter.widget-view+json": {
       "model_id": "2b1cffc3b61a4f1d8932d802c0ba7356",
       "version_major": 2,
       "version_minor": 0
      },
      "text/plain": [
       "Validation: 0it [00:00, ?it/s]"
      ]
     },
     "metadata": {},
     "output_type": "display_data"
    },
    {
     "data": {
      "application/vnd.jupyter.widget-view+json": {
       "model_id": "942865f337394361b7c52b98b0612910",
       "version_major": 2,
       "version_minor": 0
      },
      "text/plain": [
       "Validation: 0it [00:00, ?it/s]"
      ]
     },
     "metadata": {},
     "output_type": "display_data"
    },
    {
     "data": {
      "application/vnd.jupyter.widget-view+json": {
       "model_id": "cc59fe58f9994eec9735c60320a28771",
       "version_major": 2,
       "version_minor": 0
      },
      "text/plain": [
       "Validation: 0it [00:00, ?it/s]"
      ]
     },
     "metadata": {},
     "output_type": "display_data"
    },
    {
     "data": {
      "application/vnd.jupyter.widget-view+json": {
       "model_id": "ee0990efa4bf496aa6aab9dd3d6e79a7",
       "version_major": 2,
       "version_minor": 0
      },
      "text/plain": [
       "Validation: 0it [00:00, ?it/s]"
      ]
     },
     "metadata": {},
     "output_type": "display_data"
    },
    {
     "data": {
      "application/vnd.jupyter.widget-view+json": {
       "model_id": "b81e0a5c2e5347ad80d651e70229ede5",
       "version_major": 2,
       "version_minor": 0
      },
      "text/plain": [
       "Validation: 0it [00:00, ?it/s]"
      ]
     },
     "metadata": {},
     "output_type": "display_data"
    },
    {
     "data": {
      "application/vnd.jupyter.widget-view+json": {
       "model_id": "f45fcc8d926f4bd8be64bd2bc6c608df",
       "version_major": 2,
       "version_minor": 0
      },
      "text/plain": [
       "Validation: 0it [00:00, ?it/s]"
      ]
     },
     "metadata": {},
     "output_type": "display_data"
    },
    {
     "data": {
      "application/vnd.jupyter.widget-view+json": {
       "model_id": "efc1137224e441a1a5ae75366dcd33c3",
       "version_major": 2,
       "version_minor": 0
      },
      "text/plain": [
       "Validation: 0it [00:00, ?it/s]"
      ]
     },
     "metadata": {},
     "output_type": "display_data"
    },
    {
     "data": {
      "application/vnd.jupyter.widget-view+json": {
       "model_id": "0703d7cadeb0479f85ce219123d22f04",
       "version_major": 2,
       "version_minor": 0
      },
      "text/plain": [
       "Validation: 0it [00:00, ?it/s]"
      ]
     },
     "metadata": {},
     "output_type": "display_data"
    },
    {
     "data": {
      "application/vnd.jupyter.widget-view+json": {
       "model_id": "011c125d6a754558bab2e371637c3693",
       "version_major": 2,
       "version_minor": 0
      },
      "text/plain": [
       "Validation: 0it [00:00, ?it/s]"
      ]
     },
     "metadata": {},
     "output_type": "display_data"
    },
    {
     "data": {
      "application/vnd.jupyter.widget-view+json": {
       "model_id": "a972884e709e4616b8a5422c693aa814",
       "version_major": 2,
       "version_minor": 0
      },
      "text/plain": [
       "Validation: 0it [00:00, ?it/s]"
      ]
     },
     "metadata": {},
     "output_type": "display_data"
    },
    {
     "data": {
      "application/vnd.jupyter.widget-view+json": {
       "model_id": "99cae977e13741b5af3ad7739ea60202",
       "version_major": 2,
       "version_minor": 0
      },
      "text/plain": [
       "Validation: 0it [00:00, ?it/s]"
      ]
     },
     "metadata": {},
     "output_type": "display_data"
    },
    {
     "data": {
      "application/vnd.jupyter.widget-view+json": {
       "model_id": "ea21402b4735472a88e63af59b7f1e0d",
       "version_major": 2,
       "version_minor": 0
      },
      "text/plain": [
       "Validation: 0it [00:00, ?it/s]"
      ]
     },
     "metadata": {},
     "output_type": "display_data"
    },
    {
     "data": {
      "application/vnd.jupyter.widget-view+json": {
       "model_id": "5ca01feb1e034c2e8da5aee1971457a9",
       "version_major": 2,
       "version_minor": 0
      },
      "text/plain": [
       "Validation: 0it [00:00, ?it/s]"
      ]
     },
     "metadata": {},
     "output_type": "display_data"
    },
    {
     "data": {
      "application/vnd.jupyter.widget-view+json": {
       "model_id": "79282e373cc945a79814361db0f16726",
       "version_major": 2,
       "version_minor": 0
      },
      "text/plain": [
       "Validation: 0it [00:00, ?it/s]"
      ]
     },
     "metadata": {},
     "output_type": "display_data"
    },
    {
     "data": {
      "application/vnd.jupyter.widget-view+json": {
       "model_id": "b5bee172a1304c7bb91cf0071f7eea8e",
       "version_major": 2,
       "version_minor": 0
      },
      "text/plain": [
       "Validation: 0it [00:00, ?it/s]"
      ]
     },
     "metadata": {},
     "output_type": "display_data"
    },
    {
     "data": {
      "application/vnd.jupyter.widget-view+json": {
       "model_id": "7c7fab3947fa4b7f8b0c9abe19695396",
       "version_major": 2,
       "version_minor": 0
      },
      "text/plain": [
       "Validation: 0it [00:00, ?it/s]"
      ]
     },
     "metadata": {},
     "output_type": "display_data"
    },
    {
     "data": {
      "application/vnd.jupyter.widget-view+json": {
       "model_id": "80aeffe53c4242ac9599e2cef62d8af6",
       "version_major": 2,
       "version_minor": 0
      },
      "text/plain": [
       "Validation: 0it [00:00, ?it/s]"
      ]
     },
     "metadata": {},
     "output_type": "display_data"
    },
    {
     "data": {
      "application/vnd.jupyter.widget-view+json": {
       "model_id": "81cfbe6163704a408b417defa293aac7",
       "version_major": 2,
       "version_minor": 0
      },
      "text/plain": [
       "Validation: 0it [00:00, ?it/s]"
      ]
     },
     "metadata": {},
     "output_type": "display_data"
    },
    {
     "data": {
      "application/vnd.jupyter.widget-view+json": {
       "model_id": "c39d01b51d984882adc061e51471035f",
       "version_major": 2,
       "version_minor": 0
      },
      "text/plain": [
       "Validation: 0it [00:00, ?it/s]"
      ]
     },
     "metadata": {},
     "output_type": "display_data"
    },
    {
     "data": {
      "application/vnd.jupyter.widget-view+json": {
       "model_id": "33b4c945a8b547879fab3fae8d8a8dcb",
       "version_major": 2,
       "version_minor": 0
      },
      "text/plain": [
       "Validation: 0it [00:00, ?it/s]"
      ]
     },
     "metadata": {},
     "output_type": "display_data"
    },
    {
     "data": {
      "application/vnd.jupyter.widget-view+json": {
       "model_id": "6c2d9699670048c1bcd1bec32d1e5cc2",
       "version_major": 2,
       "version_minor": 0
      },
      "text/plain": [
       "Validation: 0it [00:00, ?it/s]"
      ]
     },
     "metadata": {},
     "output_type": "display_data"
    },
    {
     "data": {
      "application/vnd.jupyter.widget-view+json": {
       "model_id": "07918383c87f474bbc7f2394417f575d",
       "version_major": 2,
       "version_minor": 0
      },
      "text/plain": [
       "Validation: 0it [00:00, ?it/s]"
      ]
     },
     "metadata": {},
     "output_type": "display_data"
    },
    {
     "data": {
      "application/vnd.jupyter.widget-view+json": {
       "model_id": "b1589418b19c4241951067cc9c12fc5d",
       "version_major": 2,
       "version_minor": 0
      },
      "text/plain": [
       "Validation: 0it [00:00, ?it/s]"
      ]
     },
     "metadata": {},
     "output_type": "display_data"
    },
    {
     "data": {
      "application/vnd.jupyter.widget-view+json": {
       "model_id": "e144b37659dc4f6996ed9a4cbc076b04",
       "version_major": 2,
       "version_minor": 0
      },
      "text/plain": [
       "Validation: 0it [00:00, ?it/s]"
      ]
     },
     "metadata": {},
     "output_type": "display_data"
    },
    {
     "data": {
      "application/vnd.jupyter.widget-view+json": {
       "model_id": "1fb7895f37e1431e969682faef06045b",
       "version_major": 2,
       "version_minor": 0
      },
      "text/plain": [
       "Validation: 0it [00:00, ?it/s]"
      ]
     },
     "metadata": {},
     "output_type": "display_data"
    },
    {
     "data": {
      "application/vnd.jupyter.widget-view+json": {
       "model_id": "1d6ac0dbc90a4cea82e0e069739ec858",
       "version_major": 2,
       "version_minor": 0
      },
      "text/plain": [
       "Validation: 0it [00:00, ?it/s]"
      ]
     },
     "metadata": {},
     "output_type": "display_data"
    },
    {
     "data": {
      "application/vnd.jupyter.widget-view+json": {
       "model_id": "7f5fc916aea147c59894402d5b567532",
       "version_major": 2,
       "version_minor": 0
      },
      "text/plain": [
       "Validation: 0it [00:00, ?it/s]"
      ]
     },
     "metadata": {},
     "output_type": "display_data"
    },
    {
     "data": {
      "application/vnd.jupyter.widget-view+json": {
       "model_id": "2673ac5b6f9c4721be88b529f5fcc850",
       "version_major": 2,
       "version_minor": 0
      },
      "text/plain": [
       "Validation: 0it [00:00, ?it/s]"
      ]
     },
     "metadata": {},
     "output_type": "display_data"
    },
    {
     "data": {
      "application/vnd.jupyter.widget-view+json": {
       "model_id": "e9c00c497ffc4b33bbd2ec08ef80fa0f",
       "version_major": 2,
       "version_minor": 0
      },
      "text/plain": [
       "Validation: 0it [00:00, ?it/s]"
      ]
     },
     "metadata": {},
     "output_type": "display_data"
    },
    {
     "data": {
      "application/vnd.jupyter.widget-view+json": {
       "model_id": "bc93886aeb8e4ae4b84b91ce11be8cc4",
       "version_major": 2,
       "version_minor": 0
      },
      "text/plain": [
       "Validation: 0it [00:00, ?it/s]"
      ]
     },
     "metadata": {},
     "output_type": "display_data"
    },
    {
     "data": {
      "application/vnd.jupyter.widget-view+json": {
       "model_id": "d9c096db932a4a17bb8aa8ab42aebfea",
       "version_major": 2,
       "version_minor": 0
      },
      "text/plain": [
       "Validation: 0it [00:00, ?it/s]"
      ]
     },
     "metadata": {},
     "output_type": "display_data"
    },
    {
     "data": {
      "application/vnd.jupyter.widget-view+json": {
       "model_id": "359f87a0337d4f02af05af5fb7915456",
       "version_major": 2,
       "version_minor": 0
      },
      "text/plain": [
       "Validation: 0it [00:00, ?it/s]"
      ]
     },
     "metadata": {},
     "output_type": "display_data"
    },
    {
     "data": {
      "application/vnd.jupyter.widget-view+json": {
       "model_id": "7c21f0048d4b491db13b10ee5d95982d",
       "version_major": 2,
       "version_minor": 0
      },
      "text/plain": [
       "Validation: 0it [00:00, ?it/s]"
      ]
     },
     "metadata": {},
     "output_type": "display_data"
    },
    {
     "data": {
      "application/vnd.jupyter.widget-view+json": {
       "model_id": "f675ef6a1c4a4de695397452cd62211e",
       "version_major": 2,
       "version_minor": 0
      },
      "text/plain": [
       "Validation: 0it [00:00, ?it/s]"
      ]
     },
     "metadata": {},
     "output_type": "display_data"
    },
    {
     "data": {
      "application/vnd.jupyter.widget-view+json": {
       "model_id": "b0fbd67122cb454ab1bce5449afb0f4d",
       "version_major": 2,
       "version_minor": 0
      },
      "text/plain": [
       "Validation: 0it [00:00, ?it/s]"
      ]
     },
     "metadata": {},
     "output_type": "display_data"
    },
    {
     "data": {
      "application/vnd.jupyter.widget-view+json": {
       "model_id": "3b8170afc5fe494684c2ae2507925730",
       "version_major": 2,
       "version_minor": 0
      },
      "text/plain": [
       "Validation: 0it [00:00, ?it/s]"
      ]
     },
     "metadata": {},
     "output_type": "display_data"
    },
    {
     "data": {
      "application/vnd.jupyter.widget-view+json": {
       "model_id": "b479559c27c44e36a55cc3cc0962b1f2",
       "version_major": 2,
       "version_minor": 0
      },
      "text/plain": [
       "Validation: 0it [00:00, ?it/s]"
      ]
     },
     "metadata": {},
     "output_type": "display_data"
    },
    {
     "data": {
      "application/vnd.jupyter.widget-view+json": {
       "model_id": "63a375d87bfa4472a6cdee9cfdbe8e3f",
       "version_major": 2,
       "version_minor": 0
      },
      "text/plain": [
       "Validation: 0it [00:00, ?it/s]"
      ]
     },
     "metadata": {},
     "output_type": "display_data"
    },
    {
     "data": {
      "application/vnd.jupyter.widget-view+json": {
       "model_id": "e34c278940e04512a0558d40b15f1781",
       "version_major": 2,
       "version_minor": 0
      },
      "text/plain": [
       "Validation: 0it [00:00, ?it/s]"
      ]
     },
     "metadata": {},
     "output_type": "display_data"
    },
    {
     "data": {
      "application/vnd.jupyter.widget-view+json": {
       "model_id": "84acc4ea70444373a39bf7ad0e85e820",
       "version_major": 2,
       "version_minor": 0
      },
      "text/plain": [
       "Validation: 0it [00:00, ?it/s]"
      ]
     },
     "metadata": {},
     "output_type": "display_data"
    },
    {
     "data": {
      "application/vnd.jupyter.widget-view+json": {
       "model_id": "70f08a47c5704ca8b449e429a6342c39",
       "version_major": 2,
       "version_minor": 0
      },
      "text/plain": [
       "Validation: 0it [00:00, ?it/s]"
      ]
     },
     "metadata": {},
     "output_type": "display_data"
    },
    {
     "data": {
      "application/vnd.jupyter.widget-view+json": {
       "model_id": "af0cfc4c7cf74b27b4f178a3070a9510",
       "version_major": 2,
       "version_minor": 0
      },
      "text/plain": [
       "Validation: 0it [00:00, ?it/s]"
      ]
     },
     "metadata": {},
     "output_type": "display_data"
    },
    {
     "data": {
      "application/vnd.jupyter.widget-view+json": {
       "model_id": "b7a71190e92645bc974f2a9843d3b4b2",
       "version_major": 2,
       "version_minor": 0
      },
      "text/plain": [
       "Validation: 0it [00:00, ?it/s]"
      ]
     },
     "metadata": {},
     "output_type": "display_data"
    },
    {
     "data": {
      "application/vnd.jupyter.widget-view+json": {
       "model_id": "36be0191d3aa45c79dd98df6e0bdd61d",
       "version_major": 2,
       "version_minor": 0
      },
      "text/plain": [
       "Validation: 0it [00:00, ?it/s]"
      ]
     },
     "metadata": {},
     "output_type": "display_data"
    },
    {
     "data": {
      "application/vnd.jupyter.widget-view+json": {
       "model_id": "45179269ff564d788bb1cb52ff454539",
       "version_major": 2,
       "version_minor": 0
      },
      "text/plain": [
       "Validation: 0it [00:00, ?it/s]"
      ]
     },
     "metadata": {},
     "output_type": "display_data"
    },
    {
     "data": {
      "application/vnd.jupyter.widget-view+json": {
       "model_id": "636875969b894de3bc2a4864a6ab55ef",
       "version_major": 2,
       "version_minor": 0
      },
      "text/plain": [
       "Validation: 0it [00:00, ?it/s]"
      ]
     },
     "metadata": {},
     "output_type": "display_data"
    },
    {
     "data": {
      "application/vnd.jupyter.widget-view+json": {
       "model_id": "0f853a29a9764616b2e7ba279932a17e",
       "version_major": 2,
       "version_minor": 0
      },
      "text/plain": [
       "Validation: 0it [00:00, ?it/s]"
      ]
     },
     "metadata": {},
     "output_type": "display_data"
    },
    {
     "data": {
      "application/vnd.jupyter.widget-view+json": {
       "model_id": "ac73a45050ef4ed4a3428b717780d877",
       "version_major": 2,
       "version_minor": 0
      },
      "text/plain": [
       "Validation: 0it [00:00, ?it/s]"
      ]
     },
     "metadata": {},
     "output_type": "display_data"
    },
    {
     "data": {
      "application/vnd.jupyter.widget-view+json": {
       "model_id": "9bf66da7ed32473190f8749789e41bd5",
       "version_major": 2,
       "version_minor": 0
      },
      "text/plain": [
       "Validation: 0it [00:00, ?it/s]"
      ]
     },
     "metadata": {},
     "output_type": "display_data"
    },
    {
     "data": {
      "application/vnd.jupyter.widget-view+json": {
       "model_id": "ea454d6a60bc4f1cb8ef668abf43edaf",
       "version_major": 2,
       "version_minor": 0
      },
      "text/plain": [
       "Validation: 0it [00:00, ?it/s]"
      ]
     },
     "metadata": {},
     "output_type": "display_data"
    },
    {
     "data": {
      "application/vnd.jupyter.widget-view+json": {
       "model_id": "1bbfac0fc87947eea2093ec7eeabb005",
       "version_major": 2,
       "version_minor": 0
      },
      "text/plain": [
       "Validation: 0it [00:00, ?it/s]"
      ]
     },
     "metadata": {},
     "output_type": "display_data"
    },
    {
     "data": {
      "application/vnd.jupyter.widget-view+json": {
       "model_id": "a5a5fddf47ff4ceaafde49475003f78b",
       "version_major": 2,
       "version_minor": 0
      },
      "text/plain": [
       "Validation: 0it [00:00, ?it/s]"
      ]
     },
     "metadata": {},
     "output_type": "display_data"
    },
    {
     "data": {
      "application/vnd.jupyter.widget-view+json": {
       "model_id": "d1ba355a490244608fb749e93808d124",
       "version_major": 2,
       "version_minor": 0
      },
      "text/plain": [
       "Validation: 0it [00:00, ?it/s]"
      ]
     },
     "metadata": {},
     "output_type": "display_data"
    },
    {
     "data": {
      "application/vnd.jupyter.widget-view+json": {
       "model_id": "b256a9b7f9b3412dadaa1ec7bb5edcdc",
       "version_major": 2,
       "version_minor": 0
      },
      "text/plain": [
       "Validation: 0it [00:00, ?it/s]"
      ]
     },
     "metadata": {},
     "output_type": "display_data"
    },
    {
     "data": {
      "application/vnd.jupyter.widget-view+json": {
       "model_id": "7479986ef536447cbd154f04a452cf24",
       "version_major": 2,
       "version_minor": 0
      },
      "text/plain": [
       "Validation: 0it [00:00, ?it/s]"
      ]
     },
     "metadata": {},
     "output_type": "display_data"
    },
    {
     "data": {
      "application/vnd.jupyter.widget-view+json": {
       "model_id": "900e138cb6ea4f0e9122ea6c8cff77f6",
       "version_major": 2,
       "version_minor": 0
      },
      "text/plain": [
       "Validation: 0it [00:00, ?it/s]"
      ]
     },
     "metadata": {},
     "output_type": "display_data"
    },
    {
     "data": {
      "application/vnd.jupyter.widget-view+json": {
       "model_id": "8294b13d67f64163941615659206115c",
       "version_major": 2,
       "version_minor": 0
      },
      "text/plain": [
       "Validation: 0it [00:00, ?it/s]"
      ]
     },
     "metadata": {},
     "output_type": "display_data"
    },
    {
     "data": {
      "application/vnd.jupyter.widget-view+json": {
       "model_id": "7d9cdbd49942435fb53558a6c3a3eb54",
       "version_major": 2,
       "version_minor": 0
      },
      "text/plain": [
       "Validation: 0it [00:00, ?it/s]"
      ]
     },
     "metadata": {},
     "output_type": "display_data"
    },
    {
     "data": {
      "application/vnd.jupyter.widget-view+json": {
       "model_id": "a8399ab187b74e2985d9703154303ccf",
       "version_major": 2,
       "version_minor": 0
      },
      "text/plain": [
       "Validation: 0it [00:00, ?it/s]"
      ]
     },
     "metadata": {},
     "output_type": "display_data"
    },
    {
     "name": "stderr",
     "output_type": "stream",
     "text": [
      "`Trainer.fit` stopped: `max_epochs=150` reached.\n"
     ]
    }
   ],
   "source": [
    "mycallbacks = [TQDMProgressBar(refresh_rate=100),\n",
    "               EarlyStopping(monitor=\"val_loss\", mode=\"min\", patience=20),\n",
    "               LearningRateMonitor(logging_interval='epoch')]\n",
    "trainer = pl.Trainer(max_epochs=150, accelerator=\"cpu\", callbacks=mycallbacks)\n",
    "trainer.fit(model=model, train_dataloaders=data.train_dl,\n",
    "            val_dataloaders=data.val_dl)\n"
   ]
  },
  {
   "cell_type": "code",
   "execution_count": 94,
   "metadata": {},
   "outputs": [
    {
     "name": "stderr",
     "output_type": "stream",
     "text": [
      "UsageError: Line magic function `%tensorboard` not found.\n"
     ]
    }
   ],
   "source": [
    "%tensorboard"
   ]
  },
  {
   "cell_type": "code",
   "execution_count": 190,
   "metadata": {},
   "outputs": [
    {
     "name": "stdout",
     "output_type": "stream",
     "text": [
      "tensor(0.8617)\n"
     ]
    }
   ],
   "source": [
    "x = torch.randn((1000, 1000))*(2.0/1000)**0.5\n",
    "y = torch.ones((1000,))\n",
    "\n",
    "for i in range(100):\n",
    "    y = nn.functional.relu(x @ y)\n",
    "    x = torch.randn((1000, 1000))*(2.0/1000)**0.5\n",
    "\n",
    "#print(x)\n",
    "print (y.std())"
   ]
  },
  {
   "cell_type": "markdown",
   "metadata": {},
   "source": []
  },
  {
   "cell_type": "code",
   "execution_count": null,
   "metadata": {},
   "outputs": [],
   "source": []
  },
  {
   "cell_type": "code",
   "execution_count": null,
   "metadata": {},
   "outputs": [],
   "source": []
  }
 ],
 "metadata": {
  "kernelspec": {
   "display_name": "Python 3",
   "language": "python",
   "name": "python3"
  },
  "language_info": {
   "codemirror_mode": {
    "name": "ipython",
    "version": 3
   },
   "file_extension": ".py",
   "mimetype": "text/x-python",
   "name": "python",
   "nbconvert_exporter": "python",
   "pygments_lexer": "ipython3",
   "version": "3.9.6"
  },
  "orig_nbformat": 4,
  "vscode": {
   "interpreter": {
    "hash": "31f2aee4e71d21fbe5cf8b01ff0e069b9275f58929596ceb00d14d90e3e16cd6"
   }
  }
 },
 "nbformat": 4,
 "nbformat_minor": 2
}
