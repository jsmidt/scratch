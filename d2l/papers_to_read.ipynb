{
 "cells": [
  {
   "cell_type": "markdown",
   "metadata": {},
   "source": [
    "# Papers to Read"
   ]
  },
  {
   "attachments": {},
   "cell_type": "markdown",
   "metadata": {},
   "source": [
    "### 1995\n",
    "\n",
    "* **LeCun, et al. (1995).** Convolutional networks for images, speech, and time series. The handbook of brain theory and neural networks, 3361(10), 1995."
   ]
  },
  {
   "attachments": {},
   "cell_type": "markdown",
   "metadata": {},
   "source": [
    "### 2009\n",
    "\n",
    "* **Deng, J., et al. (2009).** Imagenet: a large-scale hierarchical image database. 2009 IEEE conference on computer vision and pattern recognition (pp. 248–255)."
   ]
  },
  {
   "attachments": {},
   "cell_type": "markdown",
   "metadata": {},
   "source": [
    "### 2010\n",
    "\n",
    "* **Bottou, L. (2010).** Large-scale machine learning with stochastic gradient descent. \n"
   ]
  },
  {
   "attachments": {},
   "cell_type": "markdown",
   "metadata": {},
   "source": [
    "### 2011\n"
   ]
  },
  {
   "attachments": {},
   "cell_type": "markdown",
   "metadata": {},
   "source": [
    "### 2012\n",
    "\n",
    "* **Krizhevsky et al. (2012).** Imagenet classification with deep convolutional neural networks. Advances in neural information processing systems (pp. 1097–1105)."
   ]
  },
  {
   "attachments": {},
   "cell_type": "markdown",
   "metadata": {},
   "source": [
    "### 2013\n",
    "\n",
    "* **Russakovsky (2013).** Detecting avocados to zucchinis: what have we done, and where are we going? International Conference on Computer Vision (ICCV)."
   ]
  },
  {
   "attachments": {},
   "cell_type": "markdown",
   "metadata": {},
   "source": [
    "### 2014\n",
    "\n",
    "* **Li, M., Zhang, T., Chen, Y., & Smola, A. J. (2014).** Efficient mini-batch training for stochastic optimization. Proceedings of the 20th ACM SIGKDD international conference on Knowledge discovery and data mining\n",
    "* **Chetlur. (2014).** Cudnn: efficient primitives for deep learning. arXiv preprint arXiv:1410.0759.\n",
    "* **Abdel-Hamid et al. (2014).** Convolutional neural networks for speech recognition. IEEE/ACM Transactions on audio, speech, and language processing, 22(10), 1533–1545.\n",
    "* **Kalchbrenner et al.  (2014).** A convolutional neural network for modelling sentences. arXiv preprint arXiv:1404.2188."
   ]
  },
  {
   "attachments": {},
   "cell_type": "markdown",
   "metadata": {},
   "source": [
    "### 2015\n",
    "\n",
    "* **Long et al.  (2015).** Fully convolutional networks for semantic segmentation. Proceedings of the IEEE conference on computer vision and pattern recognition (pp. 3431–3440)."
   ]
  },
  {
   "attachments": {},
   "cell_type": "markdown",
   "metadata": {},
   "source": [
    "### 2016\n",
    "\n",
    "* **Thomee et al., (2016).** Yfcc100m: the new data in multimedia research. Communications of the ACM, 59(2), 64–73.\n",
    "\n",
    "* **Kipf et al. (2016).** Semi-supervised classification with graph convolutional networks. arXiv preprint arXiv:1609.02907."
   ]
  },
  {
   "attachments": {},
   "cell_type": "markdown",
   "metadata": {},
   "source": [
    "### 2017"
   ]
  },
  {
   "attachments": {},
   "cell_type": "markdown",
   "metadata": {},
   "source": [
    "### 2018\n",
    "\n",
    "\n",
    "* **Frazier, P. I. (2018).** A tutorial on bayesian optimization. arXiv preprint arXiv:1807.02811.\n",
    "* **Frankle, J., & Carbin, M. (2018).** The lottery ticket hypothesis: finding sparse, trainable neural networks. arXiv preprint arXiv:1803.03635.\n",
    "* **Izmailov, P., Podoprikhin, D., Garipov, T., Vetrov, D., & Wilson, A. G. (2018).** Averaging weights leads to wider optima and better generalization. arXiv preprint arXiv:1803.05407."
   ]
  },
  {
   "attachments": {},
   "cell_type": "markdown",
   "metadata": {},
   "source": [
    "### 2019"
   ]
  },
  {
   "attachments": {},
   "cell_type": "markdown",
   "metadata": {},
   "source": [
    "### 2020\n",
    "\n",
    "* **Buslaev (2020).** Albumentations: fast and flexible image augmentations. Information, 11(2), 125."
   ]
  },
  {
   "cell_type": "code",
   "execution_count": null,
   "metadata": {},
   "outputs": [],
   "source": []
  },
  {
   "cell_type": "code",
   "execution_count": null,
   "metadata": {},
   "outputs": [],
   "source": []
  },
  {
   "attachments": {},
   "cell_type": "markdown",
   "metadata": {},
   "source": [
    "### 2021"
   ]
  },
  {
   "attachments": {},
   "cell_type": "markdown",
   "metadata": {},
   "source": [
    "### 2022"
   ]
  },
  {
   "attachments": {},
   "cell_type": "markdown",
   "metadata": {},
   "source": [
    "### 2023"
   ]
  },
  {
   "cell_type": "markdown",
   "metadata": {},
   "source": []
  }
 ],
 "metadata": {
  "kernelspec": {
   "display_name": "Python 3",
   "language": "python",
   "name": "python3"
  },
  "language_info": {
   "name": "python",
   "version": "3.9.6 (default, Oct 18 2022, 12:41:40) \n[Clang 14.0.0 (clang-1400.0.29.202)]"
  },
  "orig_nbformat": 4,
  "vscode": {
   "interpreter": {
    "hash": "31f2aee4e71d21fbe5cf8b01ff0e069b9275f58929596ceb00d14d90e3e16cd6"
   }
  }
 },
 "nbformat": 4,
 "nbformat_minor": 2
}
