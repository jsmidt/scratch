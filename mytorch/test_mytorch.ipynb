{
 "cells": [
  {
   "cell_type": "code",
   "execution_count": 1,
   "metadata": {},
   "outputs": [],
   "source": [
    "import mytorch.nn as nn\n",
    "import mytorch.nn.functional as F\n",
    "from mytorch.optim import SGD\n",
    "from mytorch.utils import DataLoader\n",
    "\n",
    "import torch\n",
    "import matplotlib.pyplot as plt\n",
    "import random\n"
   ]
  },
  {
   "cell_type": "code",
   "execution_count": 2,
   "metadata": {},
   "outputs": [
    {
     "name": "stdout",
     "output_type": "stream",
     "text": [
      "Number of names: 32033\n",
      "Median name length: 6\n",
      "Max name length: 15\n",
      "Example names: ['emma', 'olivia', 'ava', 'isabella', 'sophia', 'charlotte', 'mia', 'amelia']\n",
      "{1: 'a', 2: 'b', 3: 'c', 4: 'd', 5: 'e', 6: 'f', 7: 'g', 8: 'h', 9: 'i', 10: 'j', 11: 'k', 12: 'l', 13: 'm', 14: 'n', 15: 'o', 16: 'p', 17: 'q', 18: 'r', 19: 's', 20: 't', 21: 'u', 22: 'v', 23: 'w', 24: 'x', 25: 'y', 26: 'z', 0: '.'}\n",
      "27\n"
     ]
    }
   ],
   "source": [
    "# Load makemore data\n",
    "words = open('../makemore_jax/names.txt', 'r').read().splitlines()\n",
    "print(f'Number of names: {len(words)}')\n",
    "print(\n",
    "    f'Median name length: {torch.median(torch.tensor(list(len(w) for w in words))).item()}')\n",
    "print(f'Max name length: {max(len(w) for w in words)}')\n",
    "print(f'Example names: {words[:8]}')\n",
    "\n",
    "# build the vocapbulary of charactors mapping to/from integers\n",
    "chars = sorted(list(set(''.join(words))))\n",
    "stoi = {s: i+1 for i, s in enumerate(chars)}\n",
    "stoi['.'] = 0\n",
    "itos = {i: s for s, i in stoi.items()}\n",
    "vocab_size = len(itos)\n",
    "print(itos)\n",
    "print(vocab_size)\n"
   ]
  },
  {
   "cell_type": "code",
   "execution_count": 3,
   "metadata": {},
   "outputs": [
    {
     "name": "stdout",
     "output_type": "stream",
     "text": [
      "torch.Size([182580, 3]) torch.Size([182580])\n",
      "torch.Size([22767, 3]) torch.Size([22767])\n",
      "torch.Size([22799, 3]) torch.Size([22799])\n"
     ]
    }
   ],
   "source": [
    "random.seed(42)\n",
    "random.shuffle(words)\n",
    "block_size = 3\n",
    "\n",
    "\n",
    "def build_dataset(words):\n",
    "    X, Y = [], []\n",
    "\n",
    "    for w in words:\n",
    "        context = [0] * block_size\n",
    "        for ch in w + '.':\n",
    "            ix = stoi[ch]\n",
    "            X.append(context)\n",
    "            Y.append(ix)\n",
    "            context = context[1:] + [ix]\n",
    "\n",
    "    X = torch.tensor(X)\n",
    "    Y = torch.tensor(Y)\n",
    "    print(X.shape, Y.shape)\n",
    "    return X, Y\n",
    "\n",
    "\n",
    "random.seed(42)\n",
    "random.shuffle(words)\n",
    "n1 = int(0.8*len(words))\n",
    "n2 = int(0.9*len(words))\n",
    "\n",
    "\n",
    "Xtr, Ytr = build_dataset(words[:n1])  # 80%\n",
    "Xdev, Ydev = build_dataset(words[n1:n2])  # 10%\n",
    "Xte, Yte = build_dataset(words[n2:])  # 10%\n"
   ]
  },
  {
   "cell_type": "code",
   "execution_count": 4,
   "metadata": {},
   "outputs": [],
   "source": [
    "torch.manual_seed(42)\n",
    "n_embd = 10\n",
    "n_hidden = 200\n",
    "batch_size = 32\n",
    "\n",
    "class MyModel(nn.Module):\n",
    "\n",
    "    def __init__(self):\n",
    "        super().__init__()\n",
    "        self.model = nn.Sequential([\n",
    "            nn.Embedding(vocab_size, n_embd),\n",
    "            nn.Flatten(),\n",
    "            nn.Linear(n_embd*block_size, n_hidden,    \n",
    "                   bias=False),nn.BatchNorm1d(n_hidden), nn.Tanh(),\n",
    "            nn.Linear(n_hidden, vocab_size),\n",
    "        ])\n",
    "\n",
    "        parameters = self.model.parameters()\n",
    "        for p in parameters:\n",
    "            p.requires_grad = True\n",
    "\n",
    "    def forward(self, x):\n",
    "        return self(x)\n",
    "\n",
    "\n",
    "model = MyModel()\n",
    "#print(model.model)\n",
    "\n",
    "data = DataLoader(Xtr, Ytr, batch_size=batch_size)\n"
   ]
  },
  {
   "cell_type": "code",
   "execution_count": 5,
   "metadata": {},
   "outputs": [
    {
     "name": "stdout",
     "output_type": "stream",
     "text": [
      "Trainer initialized with the model:\n",
      "Sequential(\n",
      "  (0): Embedding(num_embeddings=27, embedding_dim=10), Total parameters: 270, \n",
      "  (1): Flatten(), Total parameters: 0, \n",
      "  (2): Linear(in_features=30, out_features=200, bias=False), Total parameters: 6000, \n",
      "  (3): Batchnorm1D(num_features=200), Total parameters: 400, \n",
      "  (4): Tanh(), Total parameters: 0, \n",
      "  (5): Linear(in_features=200, out_features=27, bias=True), Total parameters: 5427, \n",
      ")\n",
      "Total parameters: 12097\n"
     ]
    }
   ],
   "source": [
    "max_epochs = 40\n",
    "\n",
    "\n",
    "class MyTrainer(nn.Trainer):\n",
    "\n",
    "    def training_step(self, batch):\n",
    "        # Forward pass\n",
    "        features, targets = batch\n",
    "        logits = self.model(features)\n",
    "        loss = F.cross_entropy(logits, targets)\n",
    "        return loss\n",
    "\n",
    "    def configure_optimizers(self):\n",
    "        optimizer = SGD(self.model.parameters(), lr=0.1)\n",
    "        return optimizer\n",
    "\n",
    "    def predict(self, x):\n",
    "        logits = self.model(x)\n",
    "        probs = F.softmax(logits, dim=1)\n",
    "        ix = torch.multinomial(probs, num_samples=1).item()\n",
    "        return ix\n",
    "\n",
    "\n",
    "trainer = MyTrainer(model=model, max_epochs=max_epochs)\n"
   ]
  },
  {
   "cell_type": "code",
   "execution_count": 6,
   "metadata": {},
   "outputs": [
    {
     "name": "stdout",
     "output_type": "stream",
     "text": [
      "Epoch   0/40: loss = 3.829589\n",
      "Epoch   1/40: loss = 2.403496\n",
      "Epoch   2/40: loss = 2.297980\n",
      "Epoch   3/40: loss = 2.264791\n",
      "Epoch   4/40: loss = 2.243546\n",
      "Epoch   5/40: loss = 2.228312\n",
      "Epoch   6/40: loss = 2.216768\n",
      "Epoch   7/40: loss = 2.207742\n",
      "Epoch   8/40: loss = 2.200488\n",
      "Epoch   9/40: loss = 2.194517\n",
      "Epoch  10/40: loss = 2.189502\n",
      "Epoch  11/40: loss = 2.185218\n",
      "Epoch  12/40: loss = 2.181500\n",
      "Epoch  13/40: loss = 2.178224\n",
      "Epoch  14/40: loss = 2.175298\n",
      "Epoch  15/40: loss = 2.172653\n",
      "Epoch  16/40: loss = 2.170246\n",
      "Epoch  17/40: loss = 2.168045\n",
      "Epoch  18/40: loss = 2.166027\n",
      "Epoch  19/40: loss = 2.164170\n",
      "Epoch  20/40: loss = 2.094188\n",
      "Epoch  21/40: loss = 2.088578\n",
      "Epoch  22/40: loss = 2.087218\n",
      "Epoch  23/40: loss = 2.086286\n",
      "Epoch  24/40: loss = 2.085546\n",
      "Epoch  25/40: loss = 2.084918\n",
      "Epoch  26/40: loss = 2.084364\n",
      "Epoch  27/40: loss = 2.083863\n",
      "Epoch  28/40: loss = 2.083403\n",
      "Epoch  29/40: loss = 2.082974\n",
      "Epoch  30/40: loss = 2.082571\n",
      "Epoch  31/40: loss = 2.082189\n",
      "Epoch  32/40: loss = 2.081826\n",
      "Epoch  33/40: loss = 2.081478\n",
      "Epoch  34/40: loss = 2.081143\n",
      "Epoch  35/40: loss = 2.080821\n",
      "Epoch  36/40: loss = 2.080508\n",
      "Epoch  37/40: loss = 2.080206\n",
      "Epoch  38/40: loss = 2.079912\n",
      "Epoch  39/40: loss = 2.079626\n",
      "Epoch  40/40: loss = 2.079347\n"
     ]
    }
   ],
   "source": [
    "trainer.fit(data)"
   ]
  },
  {
   "cell_type": "code",
   "execution_count": 7,
   "metadata": {},
   "outputs": [
    {
     "name": "stdout",
     "output_type": "stream",
     "text": [
      "train 2.0660884380340576\n",
      "val 2.1118886470794678\n"
     ]
    }
   ],
   "source": [
    "@torch.no_grad()\n",
    "def split_loss(split):\n",
    "    batch = {\n",
    "        'train': (Xtr, Ytr),\n",
    "        'val': (Xdev, Ydev),\n",
    "        'test': (Xte, Yte),\n",
    "    }[split]\n",
    "\n",
    "    loss = trainer.validation_step(batch)\n",
    "    print(split, loss.item())\n",
    "\n",
    "\n",
    "split_loss('train')\n",
    "split_loss('val')\n"
   ]
  },
  {
   "cell_type": "code",
   "execution_count": 12,
   "metadata": {},
   "outputs": [
    {
     "name": "stdout",
     "output_type": "stream",
     "text": [
      "zya.\n",
      "dashaye.\n",
      "monce.\n",
      "usuai.\n",
      "rayciel.\n",
      "pon.\n",
      "aud.\n",
      "ahnalintree.\n",
      "any.\n",
      "rheen.\n",
      "adelynn.\n",
      "gran.\n",
      "solvi.\n",
      "rosel.\n",
      "sarnelah.\n",
      "dezya.\n",
      "samyra.\n",
      "ruham.\n",
      "jaeluette.\n",
      "lam.\n"
     ]
    }
   ],
   "source": [
    "with torch.no_grad():\n",
    "    for _ in range(20):\n",
    "\n",
    "        out = []\n",
    "        context = [0] * block_size\n",
    "        while True:\n",
    "            x = torch.tensor([context])\n",
    "            \n",
    "            # Use either\n",
    "            #logits = trainer.model(x)\n",
    "            #probs = F.softmax(logits, dim=1)\n",
    "            #ix = torch.multinomial(probs, num_samples=1).item()\n",
    "\n",
    "            # Or\n",
    "            ix =  trainer.predict(x)\n",
    "            context = context[1:] + [ix]\n",
    "            out.append(ix)\n",
    "            if ix == 0:\n",
    "                break\n",
    "\n",
    "        print(''.join(itos[i] for i in out))\n"
   ]
  },
  {
   "cell_type": "code",
   "execution_count": null,
   "metadata": {},
   "outputs": [],
   "source": []
  },
  {
   "cell_type": "code",
   "execution_count": null,
   "metadata": {},
   "outputs": [],
   "source": []
  },
  {
   "cell_type": "code",
   "execution_count": null,
   "metadata": {},
   "outputs": [],
   "source": []
  },
  {
   "cell_type": "code",
   "execution_count": null,
   "metadata": {},
   "outputs": [],
   "source": []
  },
  {
   "cell_type": "code",
   "execution_count": null,
   "metadata": {},
   "outputs": [],
   "source": []
  },
  {
   "cell_type": "code",
   "execution_count": null,
   "metadata": {},
   "outputs": [],
   "source": []
  },
  {
   "cell_type": "code",
   "execution_count": null,
   "metadata": {},
   "outputs": [],
   "source": []
  },
  {
   "cell_type": "code",
   "execution_count": null,
   "metadata": {},
   "outputs": [],
   "source": []
  },
  {
   "cell_type": "code",
   "execution_count": null,
   "metadata": {},
   "outputs": [],
   "source": []
  },
  {
   "cell_type": "code",
   "execution_count": null,
   "metadata": {},
   "outputs": [],
   "source": []
  },
  {
   "cell_type": "code",
   "execution_count": null,
   "metadata": {},
   "outputs": [],
   "source": []
  },
  {
   "cell_type": "code",
   "execution_count": 13,
   "metadata": {},
   "outputs": [
    {
     "name": "stdout",
     "output_type": "stream",
     "text": [
      "      0/3000: 3.747302, 0.1\n",
      "   1000/3000: 2.523225, 0.1\n",
      "   2000/3000: 2.363503, 0.01\n"
     ]
    }
   ],
   "source": [
    "max_steps = 3000\n",
    "batch_size = 64\n",
    "lossi = []\n",
    "ud = []\n",
    "optim = SGD(parameters, lr=0.1)\n",
    "\n",
    "\n",
    "class Trainer:\n",
    "    def __init__(self, model, data, optim):\n",
    "        self.model = model\n",
    "        self.data = data\n",
    "        self.optim = optim\n",
    "\n",
    "\n",
    "for i in range(max_steps):\n",
    "\n",
    "    # Minibatch construct\n",
    "    ix = torch.randint(0, Xtr.shape[0], (batch_size, ))\n",
    "    Xb, Yb = Xtr[ix], Ytr[ix]\n",
    "\n",
    "    # Forward pass\n",
    "    logits = model(Xb)\n",
    "    loss = F.cross_entropy(logits, Yb)\n",
    "\n",
    "    # Zero Grad and Backward pass\n",
    "    optim.zero_grad()\n",
    "    loss.backward()\n",
    "\n",
    "    # Update\n",
    "    optim.lr = 0.1 if i < max_steps/2 else 0.01\n",
    "\n",
    "    # for p in parameters:\n",
    "    #    p.data += -lr * p.grad\n",
    "    optim.step()\n",
    "\n",
    "    LOG_N = 1000\n",
    "    lossi.append(loss.item())\n",
    "    if i % LOG_N == 0:\n",
    "        mloss = torch.tensor(lossi)[-LOG_N:].mean()\n",
    "        print(f'{i:7d}/{max_steps:d}: {mloss.item():4f}, {optim.lr}')\n",
    "\n",
    "    with torch.no_grad():\n",
    "        ud.append([(optim.lr*p.grad.std()/p.data.std()).log10().item()\n",
    "                  for p in parameters])\n"
   ]
  },
  {
   "cell_type": "code",
   "execution_count": 8,
   "metadata": {},
   "outputs": [
    {
     "data": {
      "image/png": "[encoded data removed]",
      "text/plain": [
       "<Figure size 640x480 with 1 Axes>"
      ]
     },
     "metadata": {},
     "output_type": "display_data"
    }
   ],
   "source": [
    "lossi = torch.tensor(lossi)\n",
    "plt.plot(lossi.view(-1, 1000).mean(1, keepdim=True))\n"
   ]
  },
  {
   "cell_type": "code",
   "execution_count": 81,
   "metadata": {},
   "outputs": [
    {
     "name": "stdout",
     "output_type": "stream",
     "text": [
      "train 2.329397439956665\n",
      "val 2.337616443634033\n"
     ]
    }
   ],
   "source": [
    "@torch.no_grad()\n",
    "def split_loss(split):\n",
    "    x, y = {\n",
    "        'train': (Xtr, Ytr),\n",
    "        'val': (Xdev, Ydev),\n",
    "        'test': (Xte, Yte),\n",
    "    }[split]\n",
    "    logits = model(x)\n",
    "    loss = F.cross_entropy(logits, y)\n",
    "    print(split, loss.item())\n",
    "\n",
    "\n",
    "for layer in model.layers:\n",
    "    layer.training = False\n",
    "split_loss('train')\n",
    "split_loss('val')\n"
   ]
  },
  {
   "cell_type": "code",
   "execution_count": 10,
   "metadata": {},
   "outputs": [
    {
     "name": "stdout",
     "output_type": "stream",
     "text": [
      "skomarelis.\n",
      "oce.\n",
      "ence.\n",
      "fyn.\n",
      "jinni.\n",
      "nila.\n",
      "zeliomah.\n",
      "ulie.\n",
      "xandila.\n",
      "eline.\n",
      "tamid.\n",
      "avrick.\n",
      "saia.\n",
      "dami.\n",
      "emeeriston.\n",
      "dechar.\n",
      "karielle.\n",
      "clani.\n",
      "jaylin.\n",
      "hazarionaliz.\n"
     ]
    }
   ],
   "source": [
    "for _ in range(20):\n",
    "\n",
    "    out = []\n",
    "    context = [0] * block_size\n",
    "    while True:\n",
    "        logits = model(torch.tensor([context]))\n",
    "\n",
    "        probs = F.softmax(logits, dim=1)\n",
    "        ix = torch.multinomial(probs, num_samples=1).item()\n",
    "\n",
    "        context = context[1:] + [ix]\n",
    "        out.append(ix)\n",
    "        if ix == 0:\n",
    "            break\n",
    "\n",
    "    print(''.join(itos[i] for i in out))\n"
   ]
  },
  {
   "cell_type": "code",
   "execution_count": null,
   "metadata": {},
   "outputs": [],
   "source": []
  },
  {
   "cell_type": "code",
   "execution_count": 25,
   "metadata": {},
   "outputs": [
    {
     "name": "stdout",
     "output_type": "stream",
     "text": [
      "tensor([[0., 1.],\n",
      "        [2., 3.]])\n",
      "tensor([[0.2689, 0.7311],\n",
      "        [0.2689, 0.7311]])\n",
      "tensor([1., 1.])\n"
     ]
    }
   ],
   "source": [
    "x = torch.arange(4).view(2, 2).float()\n",
    "print(x)\n",
    "probs = (F.softmax(x, dim=1))\n",
    "print(probs)\n",
    "print(probs.sum(dim=1))\n"
   ]
  },
  {
   "cell_type": "code",
   "execution_count": null,
   "metadata": {},
   "outputs": [],
   "source": []
  },
  {
   "cell_type": "code",
   "execution_count": 2,
   "metadata": {},
   "outputs": [
    {
     "name": "stdout",
     "output_type": "stream",
     "text": [
      "Sequential(\n",
      "  (0): Embedding(num_embeddings=27, embedding_dim=10), Total parameters: 270, \n",
      "  (1): Flatten(), Total parameters: 0, \n",
      "  (2): Linear(in_features=1, out_features=128, bias=True), Total parameters: 256, \n",
      "  (3): Batchnorm1D(num_features=4), Total parameters: 8, \n",
      "  (4): Tanh(), Total parameters: 0, \n",
      ")\n",
      "Total parameters: 534\n"
     ]
    }
   ],
   "source": [
    "x = nn.Linear(1, 128)\n",
    "e = nn.Embedding(27, 10)\n",
    "tanh = nn.Tanh()\n",
    "relu = nn.Relu()\n",
    "flat = nn.Flatten()\n",
    "batch = nn.BatchNorm1d(num_features=4)\n",
    "\n",
    "model = nn.Sequential([e, flat, x, batch, tanh])\n",
    "print(model)\n"
   ]
  },
  {
   "cell_type": "code",
   "execution_count": 14,
   "metadata": {},
   "outputs": [
    {
     "data": {
      "text/plain": [
       "(True, True, True, True)"
      ]
     },
     "execution_count": 14,
     "metadata": {},
     "output_type": "execute_result"
    }
   ],
   "source": [
    "x.training, e.training, tanh.training, relu.training\n"
   ]
  },
  {
   "cell_type": "code",
   "execution_count": 15,
   "metadata": {},
   "outputs": [
    {
     "data": {
      "text/plain": [
       "(tensor([-0.0785, -0.1494, -0.0207,  0.0096,  0.0587, -0.1104, -0.1929, -0.0221,\n",
       "          0.0521,  0.0249,  0.1014, -0.0515,  0.0238, -0.1275,  0.1297, -0.0205,\n",
       "          0.1089, -0.0289,  0.1085, -0.0456, -0.0392,  0.0756,  0.0327, -0.0677,\n",
       "         -0.0549,  0.0514,  0.0817,  0.0696, -0.0842, -0.0332,  0.0546,  0.2098,\n",
       "          0.1142, -0.0533,  0.0224, -0.0231,  0.0453,  0.0284,  0.0713,  0.0298,\n",
       "          0.0312,  0.0992, -0.0455, -0.1131, -0.0906, -0.0575,  0.1381, -0.1349,\n",
       "         -0.0200, -0.0898,  0.0787,  0.1457, -0.0345,  0.0463, -0.0402,  0.1577,\n",
       "          0.0255, -0.1128, -0.0094,  0.0673, -0.1770,  0.1254,  0.0415, -0.0998,\n",
       "          0.0589, -0.0404, -0.0070,  0.0222,  0.0400,  0.0065,  0.1021, -0.0176,\n",
       "          0.2169, -0.0443, -0.0210,  0.0465, -0.0667, -0.2673, -0.0444,  0.0737,\n",
       "         -0.1130, -0.0816, -0.0942, -0.0172,  0.1377,  0.0483,  0.0715, -0.0683,\n",
       "          0.1647,  0.0148,  0.0598, -0.1399, -0.1563,  0.1046, -0.0503,  0.0490,\n",
       "         -0.0689,  0.0017,  0.0879, -0.0771, -0.0147, -0.0151,  0.1357,  0.0125,\n",
       "         -0.1131, -0.1023,  0.0483,  0.1110, -0.0360, -0.0332, -0.1321, -0.0933,\n",
       "          0.0045, -0.0216,  0.0228, -0.0507,  0.1403, -0.0795,  0.0117, -0.0667,\n",
       "         -0.0396, -0.0881, -0.0360,  0.0422,  0.1146, -0.1039,  0.1087, -0.0849]),\n",
       " tensor([[-7.4588e-01, -1.5561e+00, -7.5994e-02, -9.4809e-01, -8.5060e-01,\n",
       "           1.9829e+00,  1.0712e+00,  3.0345e-01, -3.9547e-01,  1.0131e+00],\n",
       "         [-1.4893e-01, -1.0968e+00,  1.7787e+00, -1.7057e+00,  9.1160e-02,\n",
       "          -1.1115e+00,  5.0495e-01,  1.5536e-01,  1.3263e+00,  1.4555e+00],\n",
       "         [-7.8843e-01, -3.5019e-02,  1.3870e-01,  1.2962e+00,  2.4865e-01,\n",
       "           7.5589e-01,  5.0784e-01, -1.3659e-01,  8.3214e-01,  5.3592e-01],\n",
       "         [ 8.1257e-01, -2.0006e-01, -5.3963e-04, -6.0951e-01, -1.8587e+00,\n",
       "          -1.2215e+00,  1.2744e-01,  9.3035e-01,  3.3491e-01,  3.6070e-01],\n",
       "         [-5.2858e-01,  1.1077e+00,  1.4560e+00,  7.9692e-01,  2.9602e-01,\n",
       "          -1.3971e+00, -5.6936e-01, -3.1977e-01,  1.4614e+00, -1.7738e+00],\n",
       "         [-1.1226e+00,  8.5869e-01,  2.0312e+00,  3.4064e-01,  5.2701e-01,\n",
       "          -5.2345e-01, -7.4528e-01, -9.2346e-01, -9.5152e-01,  7.3934e-01],\n",
       "         [ 1.5648e-03,  8.7800e-01, -4.5979e-01, -1.5019e+00,  2.1752e+00,\n",
       "          -4.9548e-01,  7.9673e-01, -1.1971e+00, -8.1480e-01, -5.6187e-01],\n",
       "         [ 2.0699e-01, -8.5378e-01,  1.0246e+00, -6.3495e-01,  1.8794e+00,\n",
       "          -1.8602e-01,  1.1339e+00, -7.4897e-01,  1.1611e+00, -1.0904e+00],\n",
       "         [ 3.4860e-01, -3.0757e-01, -4.7511e-02,  3.6019e-01,  3.1770e-01,\n",
       "           5.2471e-01, -2.3757e-01, -8.3600e-01,  5.9030e-01,  2.0417e-01],\n",
       "         [-5.0429e-02,  2.4030e+00, -1.1966e-03, -8.2061e-02,  1.1435e+00,\n",
       "           7.5221e-01,  1.1809e-01,  3.0007e-01, -1.2396e+00, -3.8093e-01],\n",
       "         [ 7.0138e-01, -4.4508e-01, -2.7112e-01, -1.2835e+00,  1.4852e+00,\n",
       "          -6.9437e-02,  2.7276e+00, -1.0773e+00,  8.0266e-02, -9.2709e-01],\n",
       "         [-2.1405e-01, -2.6448e-01, -1.9806e+00,  1.4975e+00, -1.6937e+00,\n",
       "           7.7472e-01,  2.3051e-01, -1.0126e+00,  5.0661e-02,  1.3897e+00],\n",
       "         [ 2.4500e+00,  1.6317e-01,  3.2846e-01, -3.3579e-01, -1.0713e-01,\n",
       "          -1.7663e+00, -4.4851e-01, -2.8526e-01, -5.4408e-01,  8.3461e-03],\n",
       "         [-2.4851e-01, -1.1309e-01,  1.3634e+00,  3.2225e-01, -2.3864e-01,\n",
       "          -1.0994e+00,  2.1713e-01, -6.0536e-02,  4.5351e-01, -6.7705e-01],\n",
       "         [ 7.3956e-02, -1.6203e+00, -1.9143e+00, -1.2000e+00,  5.3501e-01,\n",
       "           1.0473e+00, -9.7154e-01,  1.4871e+00, -3.8970e-01, -4.9290e-01],\n",
       "         [-1.3563e+00, -2.2199e-01, -3.1003e-01,  3.4943e-02,  8.4665e-01,\n",
       "          -1.0147e+00,  5.0723e-01,  1.3065e+00, -1.7130e+00,  2.1700e+00],\n",
       "         [-1.3034e+00, -4.0906e-01,  7.5915e-01,  1.5249e+00, -8.4267e-01,\n",
       "          -9.2971e-01, -7.5686e-01,  6.4970e-01, -7.5650e-01,  1.8333e-01],\n",
       "         [-3.2073e-01,  1.1188e+00,  8.6695e-01, -3.3361e-01,  1.3255e-01,\n",
       "           3.4634e-01,  1.4942e+00, -8.4600e-01,  4.6151e-01, -5.6776e-01],\n",
       "         [ 4.0296e-01, -4.2896e-01, -1.5770e-01, -3.8230e-01,  5.9466e-01,\n",
       "           5.0548e-01,  2.2900e+00, -1.3268e+00,  3.5365e-01, -2.5685e+00],\n",
       "         [ 5.6397e-01,  1.8825e+00,  8.4765e-01, -5.2818e-01, -4.8110e-01,\n",
       "          -1.0749e-01,  1.8797e+00,  1.1940e+00,  8.1488e-01, -1.6440e+00],\n",
       "         [ 5.9463e-01,  6.7921e-03,  1.1262e+00,  1.6253e+00, -8.9674e-01,\n",
       "          -1.0338e+00,  1.7525e+00,  5.1637e-02,  1.4372e+00, -6.4238e-01],\n",
       "         [ 9.0950e-01,  1.2961e+00,  1.9481e+00, -1.5063e+00,  1.6514e+00,\n",
       "          -2.0022e-01,  1.2358e-01,  7.1053e-01,  2.4602e-01,  2.3304e+00],\n",
       "         [-1.8618e-01, -6.2306e-01,  6.2106e-01, -9.5389e-01,  2.3844e-01,\n",
       "           8.9276e-01,  1.3994e+00, -5.5911e-01,  5.7910e-01, -5.9814e-01],\n",
       "         [ 8.3469e-01,  1.2670e+00,  1.2284e-02,  3.2923e-01,  6.8735e-01,\n",
       "          -2.0370e+00,  2.3395e-02, -3.2698e-01,  9.5606e-01, -1.2120e+00],\n",
       "         [-8.8478e-01, -4.2530e-01,  4.5794e-01, -1.2144e-02, -2.1535e+00,\n",
       "           9.6161e-01,  1.0353e+00, -1.0279e+00, -4.5265e-01, -1.4698e+00],\n",
       "         [ 3.2468e-01, -1.3192e+00,  2.7264e-01, -1.8381e+00, -8.5378e-01,\n",
       "           2.1355e+00,  1.7013e+00, -1.5088e-01, -1.5986e+00, -2.0658e+00],\n",
       "         [-9.0029e-01, -8.4628e-01, -4.2618e-01, -1.6429e+00, -1.0589e+00,\n",
       "           4.6672e-01,  1.0173e+00, -2.3532e-01, -6.9211e-02,  1.8840e-01]]))"
      ]
     },
     "execution_count": 15,
     "metadata": {},
     "output_type": "execute_result"
    }
   ],
   "source": [
    "x.bias, e.weight\n"
   ]
  },
  {
   "cell_type": "code",
   "execution_count": 4,
   "metadata": {},
   "outputs": [
    {
     "name": "stdout",
     "output_type": "stream",
     "text": [
      "Linear(in_features=1, out_features=128, bias=True), Total parameters: 256\n",
      "Embedding(num_embeddings=27, embedding_dim=10), Total parameters: 270\n",
      "Tanh(), Total parameters: 0\n",
      "Relu(), Total parameters: 0\n",
      "Flatten(), Total parameters: 0\n",
      "Batchnorm1D(num_features=32), Total parameters: 64\n"
     ]
    }
   ],
   "source": [
    "print(x)\n",
    "print(e)\n",
    "print(tanh)\n",
    "print(relu)\n",
    "print(flat)\n",
    "print(batch)\n"
   ]
  },
  {
   "cell_type": "code",
   "execution_count": 6,
   "metadata": {},
   "outputs": [],
   "source": [
    "IX = torch.ones((2, 2)).long()\n"
   ]
  },
  {
   "cell_type": "code",
   "execution_count": 7,
   "metadata": {},
   "outputs": [
    {
     "name": "stdout",
     "output_type": "stream",
     "text": [
      "torch.Size([2, 2])\n",
      "torch.Size([27, 10])\n"
     ]
    },
    {
     "data": {
      "text/plain": [
       "torch.Size([2, 2, 10])"
      ]
     },
     "execution_count": 7,
     "metadata": {},
     "output_type": "execute_result"
    }
   ],
   "source": [
    "print(IX.shape)\n",
    "print(e.weight.shape)\n",
    "(e(IX)).shape\n"
   ]
  },
  {
   "cell_type": "code",
   "execution_count": 8,
   "metadata": {},
   "outputs": [
    {
     "name": "stdout",
     "output_type": "stream",
     "text": [
      "tensor([-1.5276, -1.4555, -1.2932, -0.7492, -0.6569, -0.5099, -0.3733, -0.1158,\n",
      "        -0.1053, -0.0859,  0.0366,  0.0689,  0.0917,  0.3974,  0.4850,  0.5594,\n",
      "         0.6167,  1.1036,  1.2550,  1.8873])\n",
      "tensor([-0.9100, -0.8968, -0.8600, -0.6347, -0.5763, -0.4698, -0.3569, -0.1153,\n",
      "        -0.1049, -0.0857,  0.0365,  0.0688,  0.0915,  0.3778,  0.4502,  0.5075,\n",
      "         0.5488,  0.8018,  0.8497,  0.9551])\n"
     ]
    },
    {
     "data": {
      "text/plain": [
       "[<matplotlib.lines.Line2D at 0x12fd36130>]"
      ]
     },
     "execution_count": 8,
     "metadata": {},
     "output_type": "execute_result"
    },
    {
     "data": {
      "image/png": "[encoded data removed]",
      "text/plain": [
       "<Figure size 640x480 with 1 Axes>"
      ]
     },
     "metadata": {},
     "output_type": "display_data"
    }
   ],
   "source": [
    "X = torch.randn(20).sort()[0]\n",
    "print(X)\n",
    "print(tanh(X))\n",
    "# X = sorted(X)\n",
    "plt.plot(X, X)\n",
    "plt.plot(X, tanh(X))\n"
   ]
  },
  {
   "cell_type": "code",
   "execution_count": 8,
   "metadata": {},
   "outputs": [
    {
     "name": "stdout",
     "output_type": "stream",
     "text": [
      "tensor([-1.5223, -1.3503, -1.0024, -0.8869, -0.7216, -0.6995, -0.6536, -0.4907,\n",
      "        -0.3490, -0.3337, -0.2595, -0.1302,  0.1233,  0.2270,  0.2994,  0.6556,\n",
      "         0.6698,  0.8161,  1.0352,  2.0342])\n",
      "tensor([-0.9091, -0.8741, -0.7626, -0.7099, -0.6179, -0.6041, -0.5741, -0.4548,\n",
      "        -0.3355, -0.3219, -0.2539, -0.1295,  0.1227,  0.2231,  0.2907,  0.5754,\n",
      "         0.5848,  0.6730,  0.7760,  0.9664])\n"
     ]
    },
    {
     "data": {
      "text/plain": [
       "[<matplotlib.lines.Line2D at 0x12ec63340>]"
      ]
     },
     "execution_count": 8,
     "metadata": {},
     "output_type": "execute_result"
    },
    {
     "data": {
      "image/png": "[encoded data removed]",
      "text/plain": [
       "<Figure size 640x480 with 1 Axes>"
      ]
     },
     "metadata": {},
     "output_type": "display_data"
    }
   ],
   "source": [
    "X = torch.randn(20).sort()[0]\n",
    "print(X)\n",
    "print(tanh(X))\n",
    "# X = sorted(X)\n",
    "plt.plot(X, X)\n",
    "plt.plot(X, relu(X))\n"
   ]
  },
  {
   "cell_type": "code",
   "execution_count": 9,
   "metadata": {},
   "outputs": [
    {
     "data": {
      "text/plain": [
       "tensor([0.])"
      ]
     },
     "execution_count": 9,
     "metadata": {},
     "output_type": "execute_result"
    }
   ],
   "source": [
    "torch.zeros(1)\n"
   ]
  },
  {
   "cell_type": "code",
   "execution_count": 4,
   "metadata": {},
   "outputs": [
    {
     "name": "stdout",
     "output_type": "stream",
     "text": [
      "tensor([[ 0.9014,  0.1880,  0.7426, -1.7965],\n",
      "        [-0.9668,  1.1091, -0.6421, -0.2078],\n",
      "        [-0.9781,  1.2942, -0.1494, -0.7955],\n",
      "        [ 0.0565, -1.4704, -1.2808,  0.2141]])\n",
      "tensor([[ 0.9014,  0.1880,  0.7426, -1.7965, -0.9668,  1.1091, -0.6421, -0.2078,\n",
      "         -0.9781,  1.2942, -0.1494, -0.7955,  0.0565, -1.4704, -1.2808,  0.2141]])\n"
     ]
    },
    {
     "data": {
      "text/plain": [
       "16"
      ]
     },
     "execution_count": 4,
     "metadata": {},
     "output_type": "execute_result"
    }
   ],
   "source": [
    "X = torch.randn(4, 4)\n",
    "print(X)\n",
    "print(flat(X))\n",
    "X.numel()\n"
   ]
  },
  {
   "cell_type": "code",
   "execution_count": 19,
   "metadata": {},
   "outputs": [
    {
     "name": "stdout",
     "output_type": "stream",
     "text": [
      "tensor([[-0.0577,  1.0218, -0.2243, -1.2648],\n",
      "        [-1.1769, -1.2967,  1.4056, -0.1785],\n",
      "        [-0.0344,  0.4816, -0.9623,  0.3175],\n",
      "        [ 1.2690, -0.2067, -0.2190,  1.1259]])\n",
      "tensor([[ 0.1890, -0.0969, -0.0732, -0.0087]])\n",
      "tensor([[1.1317, 1.2256, 0.8649, 0.9185]])\n"
     ]
    }
   ],
   "source": [
    "X = torch.randn(4, 4)\n",
    "\n",
    "print(batch(X))\n",
    "print(batch.running_mean)\n",
    "print(batch.running_var)\n"
   ]
  },
  {
   "cell_type": "code",
   "execution_count": 3,
   "metadata": {},
   "outputs": [
    {
     "name": "stdout",
     "output_type": "stream",
     "text": [
      "Sequence([Embedding(num_embeddings=27, embedding_dim=10), Total parameters: 270, Flatten(), Total parameters: 0, Linear(in_features=30, out_features=200, bias=False), Total parameters: 6000, Batchnorm1D(num_features=200), Total parameters: 400, Tanh(), Total parameters: 0, Linear(in_features=200, out_features=27, bias=True), Total parameters: 5427]), \n",
      "Model has total parameters: 12097\n"
     ]
    }
   ],
   "source": [
    "torch.manual_seed(42)\n",
    "n_embd = 10\n",
    "n_hidden = 200\n",
    "block_size = 3\n",
    "vocab_size = 27\n",
    "\n",
    "\n",
    "model = nn.Sequential([\n",
    "    nn.Embedding(vocab_size, n_embd),\n",
    "    nn.Flatten(),\n",
    "    nn.Linear(n_embd*block_size, n_hidden,\n",
    "              bias=False), nn.BatchNorm1d(n_hidden), nn.Tanh(),\n",
    "    nn.Linear(n_hidden, vocab_size),\n",
    "])\n",
    "\n",
    "print(model)\n"
   ]
  },
  {
   "cell_type": "code",
   "execution_count": 22,
   "metadata": {},
   "outputs": [
    {
     "data": {
      "text/plain": [
       "200"
      ]
     },
     "execution_count": 22,
     "metadata": {},
     "output_type": "execute_result"
    }
   ],
   "source": [
    "max_steps = 200000\n",
    "batch_size = 64\n",
    "lossi = []\n",
    "ud = []\n",
    "optim = nn.SGD(parameters, lr=0.1)\n",
    "\n",
    "for i in range(max_steps):\n",
    "\n",
    "    # Minibatch construct\n",
    "    ix = torch.randint(0, Xtr.shape[0], (batch_size, ))\n",
    "    Xb, Yb = Xtr[ix], Ytr[ix]\n",
    "\n",
    "    # Forward pass\n",
    "    logits = model(Xb)\n",
    "    loss = F.cross_entropy(logits, Yb)\n",
    "\n",
    "    # Zero Grad and Backward pass\n",
    "    optim.zero_grad()\n",
    "    loss.backward()\n",
    "\n",
    "    # Update\n",
    "    optim.lr = 0.1 if i < max_steps/2 else 0.01\n",
    "\n",
    "    # for p in parameters:\n",
    "    #    p.data += -lr * p.grad\n",
    "    optim.step()\n",
    "\n",
    "    lossi.append(loss.item())\n",
    "    if i % 10000 == 0:\n",
    "        mloss = torch.tensor(lossi)[-10000:].mean()\n",
    "        print(f'{i:7d}/{max_steps:d}: {mloss.item():4f}, {optim.lr}')\n",
    "\n",
    "    with torch.no_grad():\n",
    "        ud.append([(optim.lr*p.grad.std()/p.data.std()).log10().item()\n",
    "                  for p in parameters])\n"
   ]
  },
  {
   "cell_type": "code",
   "execution_count": null,
   "metadata": {},
   "outputs": [],
   "source": []
  },
  {
   "cell_type": "code",
   "execution_count": null,
   "metadata": {},
   "outputs": [],
   "source": []
  },
  {
   "cell_type": "code",
   "execution_count": null,
   "metadata": {},
   "outputs": [],
   "source": []
  },
  {
   "cell_type": "code",
   "execution_count": 3,
   "metadata": {},
   "outputs": [
    {
     "name": "stdout",
     "output_type": "stream",
     "text": [
      "Number of names: 32033\n",
      "Median name length: 6\n",
      "Max name length: 15\n",
      "Example names: ['emma', 'olivia', 'ava', 'isabella', 'sophia', 'charlotte', 'mia', 'amelia']\n"
     ]
    }
   ],
   "source": [
    "words = open('../makemore_jax/names.txt', 'r').read().splitlines()\n",
    "print(f'Number of names: {len(words)}')\n",
    "print(\n",
    "    f'Median name length: {torch.median(torch.tensor(list(len(w) for w in words))).item()}')\n",
    "print(f'Max name length: {max(len(w) for w in words)}')\n",
    "print(f'Example names: {words[:8]}')\n"
   ]
  },
  {
   "cell_type": "code",
   "execution_count": 4,
   "metadata": {},
   "outputs": [
    {
     "name": "stdout",
     "output_type": "stream",
     "text": [
      "{1: 'a', 2: 'b', 3: 'c', 4: 'd', 5: 'e', 6: 'f', 7: 'g', 8: 'h', 9: 'i', 10: 'j', 11: 'k', 12: 'l', 13: 'm', 14: 'n', 15: 'o', 16: 'p', 17: 'q', 18: 'r', 19: 's', 20: 't', 21: 'u', 22: 'v', 23: 'w', 24: 'x', 25: 'y', 26: 'z', 0: '.'}\n",
      "27\n"
     ]
    }
   ],
   "source": [
    "# build the vocapbulary of charactors mapping to/from integers\n",
    "chars = sorted(list(set(''.join(words))))\n",
    "stoi = {s: i+1 for i, s in enumerate(chars)}\n",
    "stoi['.'] = 0\n",
    "itos = {i: s for s, i in stoi.items()}\n",
    "vocab_size = len(itos)\n",
    "print(itos)\n",
    "print(vocab_size)\n"
   ]
  },
  {
   "cell_type": "code",
   "execution_count": 5,
   "metadata": {},
   "outputs": [],
   "source": [
    "random.seed(42)\n",
    "random.shuffle(words)\n"
   ]
  },
  {
   "cell_type": "code",
   "execution_count": 6,
   "metadata": {},
   "outputs": [
    {
     "name": "stdout",
     "output_type": "stream",
     "text": [
      "torch.Size([182580, 3]) torch.Size([182580])\n",
      "torch.Size([22767, 3]) torch.Size([22767])\n",
      "torch.Size([22799, 3]) torch.Size([22799])\n"
     ]
    }
   ],
   "source": [
    "block_size = 3\n",
    "\n",
    "\n",
    "def build_dataset(words):\n",
    "    X, Y = [], []\n",
    "\n",
    "    for w in words:\n",
    "        context = [0] * block_size\n",
    "        for ch in w + '.':\n",
    "            ix = stoi[ch]\n",
    "            X.append(context)\n",
    "            Y.append(ix)\n",
    "            context = context[1:] + [ix]\n",
    "\n",
    "    X = torch.tensor(X)\n",
    "    Y = torch.tensor(Y)\n",
    "    print(X.shape, Y.shape)\n",
    "    return X, Y\n",
    "\n",
    "\n",
    "random.seed(42)\n",
    "random.shuffle(words)\n",
    "n1 = int(0.8*len(words))\n",
    "n2 = int(0.9*len(words))\n",
    "\n",
    "\n",
    "Xtr, Ytr = build_dataset(words[:n1])  # 80%\n",
    "Xdev, Ydev = build_dataset(words[n1:n2])  # 10%\n",
    "Xte, Yte = build_dataset(words[n2:])  # 10%\n"
   ]
  },
  {
   "cell_type": "code",
   "execution_count": 7,
   "metadata": {},
   "outputs": [
    {
     "name": "stdout",
     "output_type": "stream",
     "text": [
      "... ---> e\n",
      "..e ---> b\n",
      ".eb ---> r\n",
      "ebr ---> i\n",
      "bri ---> m\n",
      "rim ---> a\n",
      "ima ---> .\n",
      "... ---> h\n",
      "..h ---> i\n",
      ".hi ---> l\n",
      "hil ---> t\n",
      "ilt ---> o\n",
      "lto ---> n\n",
      "ton ---> .\n",
      "... ---> j\n",
      "..j ---> h\n",
      ".jh ---> e\n",
      "jhe ---> n\n",
      "hen ---> e\n",
      "ene ---> .\n"
     ]
    }
   ],
   "source": [
    "for x, y in zip(Xtr[:20], Ytr[:20]):\n",
    "    print(''.join(itos[ix.item()] for ix in x), '--->', itos[y.item()])\n"
   ]
  },
  {
   "cell_type": "code",
   "execution_count": 31,
   "metadata": {},
   "outputs": [
    {
     "name": "stdout",
     "output_type": "stream",
     "text": [
      "Sequential(\n",
      "  (0): Embedding(num_embeddings=27, embedding_dim=10), Total parameters: 270, \n",
      "  (1): Flatten(), Total parameters: 0, \n",
      "  (2): Linear(in_features=30, out_features=200, bias=False), Total parameters: 6000, \n",
      "  (3): Batchnorm1D(num_features=200), Total parameters: 400, \n",
      "  (4): Tanh(), Total parameters: 0, \n",
      "  (5): Linear(in_features=200, out_features=27, bias=True), Total parameters: 5427, \n",
      ")\n",
      "Total parameters: 12097\n"
     ]
    }
   ],
   "source": [
    "torch.manual_seed(42)\n",
    "n_embd = 10\n",
    "n_hidden = 200\n",
    "\n",
    "model = nn.Sequential([\n",
    "    nn.Embedding(vocab_size, n_embd),\n",
    "    nn.Flatten(),\n",
    "    nn.Linear(n_embd*block_size, n_hidden,\n",
    "              bias=False), nn.BatchNorm1d(n_hidden), nn.Tanh(),\n",
    "    nn.Linear(n_hidden, vocab_size),\n",
    "])\n",
    "\n",
    "\n",
    "parameters = model.parameters()\n",
    "for p in parameters:\n",
    "    p.requires_grad = True\n",
    "\n",
    "print(model)\n"
   ]
  },
  {
   "cell_type": "code",
   "execution_count": 32,
   "metadata": {},
   "outputs": [
    {
     "name": "stdout",
     "output_type": "stream",
     "text": [
      "      0/200000: 3.761614\n",
      "  10000/200000: 2.476745\n",
      "  20000/200000: 2.090284\n",
      "  30000/200000: 2.124772\n",
      "  40000/200000: 2.076088\n",
      "  50000/200000: 2.321423\n",
      "  60000/200000: 1.917560\n",
      "  70000/200000: 2.108340\n",
      "  80000/200000: 2.126670\n",
      "  90000/200000: 2.019176\n",
      " 100000/200000: 2.400859\n",
      " 110000/200000: 2.194901\n",
      " 120000/200000: 2.137100\n",
      " 130000/200000: 1.933233\n",
      " 140000/200000: 1.935771\n",
      " 150000/200000: 1.752927\n",
      " 160000/200000: 2.039273\n",
      " 170000/200000: 2.233839\n",
      " 180000/200000: 2.039437\n",
      " 190000/200000: 1.738539\n"
     ]
    }
   ],
   "source": [
    "max_steps = 200000\n",
    "batch_size = 64\n",
    "lossi = []\n",
    "ud = []\n",
    "\n",
    "for i in range(max_steps):\n",
    "\n",
    "    # Minibatch construct\n",
    "    ix = torch.randint(0, Xtr.shape[0], (batch_size, ))\n",
    "    Xb, Yb = Xtr[ix], Ytr[ix]\n",
    "\n",
    "    # Forward pass\n",
    "    logits = model(Xb)\n",
    "    loss = F.cross_entropy(logits, Yb)\n",
    "\n",
    "    # Zero Grad\n",
    "    for p in parameters:\n",
    "        p.grad = None\n",
    "\n",
    "    loss.backward()\n",
    "\n",
    "    lr = 0.1 if i < max_steps/2 else 0.01\n",
    "    for p in parameters:\n",
    "        p.data += -lr * p.grad\n",
    "\n",
    "    if i % 10000 == 0:\n",
    "        print(f'{i:7d}/{max_steps:d}: {loss.item():4f}')\n",
    "\n",
    "    lossi.append(loss.log10().item())\n",
    "    with torch.no_grad():\n",
    "        ud.append([(lr*p.grad.std()/p.data.std()).log10().item()\n",
    "                  for p in parameters])\n"
   ]
  },
  {
   "cell_type": "code",
   "execution_count": 33,
   "metadata": {},
   "outputs": [
    {
     "data": {
      "image/png": "[encoded data removed]",
      "text/plain": [
       "<Figure size 640x480 with 1 Axes>"
      ]
     },
     "metadata": {},
     "output_type": "display_data"
    }
   ],
   "source": [
    "lossi = torch.tensor(lossi)\n",
    "plt.plot(lossi.view(-1, 1000).mean(1, keepdim=True))\n"
   ]
  },
  {
   "cell_type": "markdown",
   "metadata": {},
   "source": []
  },
  {
   "cell_type": "code",
   "execution_count": 8,
   "metadata": {},
   "outputs": [
    {
     "ename": "RuntimeError",
     "evalue": "mat1 and mat2 shapes cannot be multiplied (182580x30 and 1x128)",
     "output_type": "error",
     "traceback": [
      "\u001b[0;31m---------------------------------------------------------------------------\u001b[0m",
      "\u001b[0;31mRuntimeError\u001b[0m                              Traceback (most recent call last)",
      "Cell \u001b[0;32mIn[8], line 14\u001b[0m\n\u001b[1;32m     12\u001b[0m \u001b[39mfor\u001b[39;00m layer \u001b[39min\u001b[39;00m model\u001b[39m.\u001b[39mlayers:\n\u001b[1;32m     13\u001b[0m     layer\u001b[39m.\u001b[39mtraining \u001b[39m=\u001b[39m \u001b[39mFalse\u001b[39;00m\n\u001b[0;32m---> 14\u001b[0m split_loss(\u001b[39m'\u001b[39m\u001b[39mtrain\u001b[39m\u001b[39m'\u001b[39m)\n\u001b[1;32m     15\u001b[0m split_loss(\u001b[39m'\u001b[39m\u001b[39mval\u001b[39m\u001b[39m'\u001b[39m)\n",
      "File \u001b[0;32m~/Library/Python/3.9/lib/python/site-packages/torch/autograd/grad_mode.py:27\u001b[0m, in \u001b[0;36m_DecoratorContextManager.__call__.<locals>.decorate_context\u001b[0;34m(*args, **kwargs)\u001b[0m\n\u001b[1;32m     24\u001b[0m \u001b[39m@functools\u001b[39m\u001b[39m.\u001b[39mwraps(func)\n\u001b[1;32m     25\u001b[0m \u001b[39mdef\u001b[39;00m \u001b[39mdecorate_context\u001b[39m(\u001b[39m*\u001b[39margs, \u001b[39m*\u001b[39m\u001b[39m*\u001b[39mkwargs):\n\u001b[1;32m     26\u001b[0m     \u001b[39mwith\u001b[39;00m \u001b[39mself\u001b[39m\u001b[39m.\u001b[39mclone():\n\u001b[0;32m---> 27\u001b[0m         \u001b[39mreturn\u001b[39;00m func(\u001b[39m*\u001b[39;49margs, \u001b[39m*\u001b[39;49m\u001b[39m*\u001b[39;49mkwargs)\n",
      "Cell \u001b[0;32mIn[8], line 8\u001b[0m, in \u001b[0;36msplit_loss\u001b[0;34m(split)\u001b[0m\n\u001b[1;32m      1\u001b[0m \u001b[39m@torch\u001b[39m\u001b[39m.\u001b[39mno_grad()\n\u001b[1;32m      2\u001b[0m \u001b[39mdef\u001b[39;00m \u001b[39msplit_loss\u001b[39m(split):\n\u001b[1;32m      3\u001b[0m     x,y \u001b[39m=\u001b[39m {\n\u001b[1;32m      4\u001b[0m         \u001b[39m'\u001b[39m\u001b[39mtrain\u001b[39m\u001b[39m'\u001b[39m: (Xtr, Ytr),\n\u001b[1;32m      5\u001b[0m         \u001b[39m'\u001b[39m\u001b[39mval\u001b[39m\u001b[39m'\u001b[39m: (Xdev, Ydev),\n\u001b[1;32m      6\u001b[0m         \u001b[39m'\u001b[39m\u001b[39mtest\u001b[39m\u001b[39m'\u001b[39m: (Xte, Yte),\n\u001b[1;32m      7\u001b[0m     }[split]\n\u001b[0;32m----> 8\u001b[0m     logits \u001b[39m=\u001b[39m model(x)\n\u001b[1;32m      9\u001b[0m     loss \u001b[39m=\u001b[39m F\u001b[39m.\u001b[39mcross_entropy(logits, y)\n\u001b[1;32m     10\u001b[0m     \u001b[39mprint\u001b[39m (split, loss\u001b[39m.\u001b[39mitem())\n",
      "File \u001b[0;32m~/Documents/AI/scratch/mytorch/mytorch/nn.py:208\u001b[0m, in \u001b[0;36mSequential.__call__\u001b[0;34m(self, x)\u001b[0m\n\u001b[1;32m    206\u001b[0m \u001b[39mdef\u001b[39;00m \u001b[39m__call__\u001b[39m(\u001b[39mself\u001b[39m, x):\n\u001b[1;32m    207\u001b[0m     \u001b[39mfor\u001b[39;00m layer \u001b[39min\u001b[39;00m \u001b[39mself\u001b[39m\u001b[39m.\u001b[39mlayers:\n\u001b[0;32m--> 208\u001b[0m         x \u001b[39m=\u001b[39m layer(x)\n\u001b[1;32m    209\u001b[0m     \u001b[39mself\u001b[39m\u001b[39m.\u001b[39mout \u001b[39m=\u001b[39m x\n\u001b[1;32m    210\u001b[0m     \u001b[39mreturn\u001b[39;00m \u001b[39mself\u001b[39m\u001b[39m.\u001b[39mout\n",
      "File \u001b[0;32m~/Documents/AI/scratch/mytorch/mytorch/nn.py:44\u001b[0m, in \u001b[0;36mLinear.__call__\u001b[0;34m(self, x)\u001b[0m\n\u001b[1;32m     42\u001b[0m \u001b[39mdef\u001b[39;00m \u001b[39m__call__\u001b[39m(\u001b[39mself\u001b[39m, x):\n\u001b[1;32m     43\u001b[0m     \u001b[39mr\u001b[39m\u001b[39m\"\"\"The 'forward pass' returning y = x @ w.T + b.\"\"\"\u001b[39;00m\n\u001b[0;32m---> 44\u001b[0m     \u001b[39mself\u001b[39m\u001b[39m.\u001b[39mout \u001b[39m=\u001b[39m x \u001b[39m@\u001b[39;49m \u001b[39mself\u001b[39;49m\u001b[39m.\u001b[39;49mweight\n\u001b[1;32m     45\u001b[0m     \u001b[39mif\u001b[39;00m \u001b[39mself\u001b[39m\u001b[39m.\u001b[39mbias \u001b[39mis\u001b[39;00m \u001b[39mnot\u001b[39;00m \u001b[39mNone\u001b[39;00m:\n\u001b[1;32m     46\u001b[0m         \u001b[39mself\u001b[39m\u001b[39m.\u001b[39mout \u001b[39m+\u001b[39m\u001b[39m=\u001b[39m \u001b[39mself\u001b[39m\u001b[39m.\u001b[39mbias\n",
      "\u001b[0;31mRuntimeError\u001b[0m: mat1 and mat2 shapes cannot be multiplied (182580x30 and 1x128)"
     ]
    }
   ],
   "source": [
    "@torch.no_grad()\n",
    "def split_loss(split):\n",
    "    x, y = {\n",
    "        'train': (Xtr, Ytr),\n",
    "        'val': (Xdev, Ydev),\n",
    "        'test': (Xte, Yte),\n",
    "    }[split]\n",
    "    logits = model(x)\n",
    "    loss = F.cross_entropy(logits, y)\n",
    "    print(split, loss.item())\n",
    "\n",
    "\n",
    "for layer in model.layers:\n",
    "    layer.training = False\n",
    "split_loss('train')\n",
    "split_loss('val')\n"
   ]
  },
  {
   "cell_type": "code",
   "execution_count": 35,
   "metadata": {},
   "outputs": [
    {
     "name": "stdout",
     "output_type": "stream",
     "text": [
      "skimberlynn.\n",
      "carenceliya.\n",
      "jacoutneli.\n",
      "zeliomah.\n",
      "uad.\n",
      "muctan.\n",
      "mae.\n",
      "sukatherdo.\n",
      "bri.\n",
      "kosaia.\n",
      "dami.\n",
      "emmeriston.\n",
      "mery.\n",
      "raki.\n",
      "khish.\n",
      "clani.\n",
      "jaylin.\n",
      "haz.\n",
      "giovanna.\n",
      "flack.\n"
     ]
    }
   ],
   "source": [
    "for _ in range(20):\n",
    "\n",
    "    out = []\n",
    "    context = [0] * block_size\n",
    "    while True:\n",
    "        logits = model(torch.tensor([context]))\n",
    "\n",
    "        probs = F.softmax(logits, dim=1)\n",
    "        ix = torch.multinomial(probs, num_samples=1).item()\n",
    "\n",
    "        context = context[1:] + [ix]\n",
    "        out.append(ix)\n",
    "        if ix == 0:\n",
    "            break\n",
    "\n",
    "    print(''.join(itos[i] for i in out))\n"
   ]
  },
  {
   "cell_type": "code",
   "execution_count": 9,
   "metadata": {},
   "outputs": [
    {
     "name": "stdout",
     "output_type": "stream",
     "text": [
      "Sequential(\n",
      "  (0): Embedding(num_embeddings=27, embedding_dim=10), Total parameters: 270, \n",
      "  (1): Flatten(), Total parameters: 0, \n",
      "  (2): Linear(in_features=30, out_features=200, bias=False), Total parameters: 6000, \n",
      "  (3): Batchnorm1D(num_features=200), Total parameters: 400, \n",
      "  (4): Tanh(), Total parameters: 0, \n",
      "  (5): Linear(in_features=200, out_features=27, bias=True), Total parameters: 5427, \n",
      ")\n",
      "Total parameters: 12097\n"
     ]
    }
   ],
   "source": [
    "torch.manual_seed(42)\n",
    "n_embd = 10\n",
    "n_hidden = 200\n",
    "\n",
    "model = nn.Sequential([\n",
    "    nn.Embedding(vocab_size, n_embd),\n",
    "    nn.Flatten(),\n",
    "    nn.Linear(n_embd*block_size, n_hidden,\n",
    "              bias=False), nn.BatchNorm1d(n_hidden), nn.Tanh(),\n",
    "    nn.Linear(n_hidden, vocab_size),\n",
    "])\n",
    "\n",
    "\n",
    "parameters = model.parameters()\n",
    "for p in parameters:\n",
    "    p.requires_grad = True\n",
    "\n",
    "print(model)\n"
   ]
  },
  {
   "cell_type": "code",
   "execution_count": 10,
   "metadata": {},
   "outputs": [
    {
     "name": "stdout",
     "output_type": "stream",
     "text": [
      "      0/200000: 3.747302, 0.1\n",
      "  10000/200000: 2.305099, 0.1\n",
      "  20000/200000: 2.202176, 0.1\n",
      "  30000/200000: 2.168681, 0.1\n",
      "  40000/200000: 2.149550, 0.1\n",
      "  50000/200000: 2.139941, 0.1\n",
      "  60000/200000: 2.126383, 0.1\n",
      "  70000/200000: 2.124258, 0.1\n",
      "  80000/200000: 2.118143, 0.1\n",
      "  90000/200000: 2.117481, 0.1\n",
      " 100000/200000: 2.114033, 0.01\n",
      " 110000/200000: 2.072109, 0.01\n",
      " 120000/200000: 2.067954, 0.01\n",
      " 130000/200000: 2.066607, 0.01\n",
      " 140000/200000: 2.069798, 0.01\n",
      " 150000/200000: 2.067392, 0.01\n",
      " 160000/200000: 2.066038, 0.01\n",
      " 170000/200000: 2.064824, 0.01\n",
      " 180000/200000: 2.064353, 0.01\n",
      " 190000/200000: 2.065345, 0.01\n"
     ]
    }
   ],
   "source": [
    "max_steps = 200000\n",
    "batch_size = 64\n",
    "lossi = []\n",
    "ud = []\n",
    "optim = nn.SGD(parameters, lr=0.1)\n",
    "\n",
    "for i in range(max_steps):\n",
    "\n",
    "    # Minibatch construct\n",
    "    ix = torch.randint(0, Xtr.shape[0], (batch_size, ))\n",
    "    Xb, Yb = Xtr[ix], Ytr[ix]\n",
    "\n",
    "    # Forward pass\n",
    "    logits = model(Xb)\n",
    "    loss = F.cross_entropy(logits, Yb)\n",
    "\n",
    "    # Zero Grad and Backward pass\n",
    "    optim.zero_grad()\n",
    "    loss.backward()\n",
    "\n",
    "    # Update\n",
    "    optim.lr = 0.1 if i < max_steps/2 else 0.01\n",
    "\n",
    "    # for p in parameters:\n",
    "    #    p.data += -lr * p.grad\n",
    "    optim.step()\n",
    "\n",
    "    lossi.append(loss.item())\n",
    "    if i % 10000 == 0:\n",
    "        mloss = torch.tensor(lossi)[-10000:].mean()\n",
    "        print(f'{i:7d}/{max_steps:d}: {mloss.item():4f}, {optim.lr}')\n",
    "\n",
    "    with torch.no_grad():\n",
    "        ud.append([(optim.lr*p.grad.std()/p.data.std()).log10().item()\n",
    "                  for p in parameters])\n"
   ]
  },
  {
   "cell_type": "code",
   "execution_count": 19,
   "metadata": {},
   "outputs": [
    {
     "data": {
      "image/png": "[encoded data removed]",
      "text/plain": [
       "<Figure size 640x480 with 1 Axes>"
      ]
     },
     "metadata": {},
     "output_type": "display_data"
    }
   ],
   "source": [
    "lossi = torch.tensor(lossi)\n",
    "plt.plot(lossi.view(-1, 1000).mean(1, keepdim=True))\n"
   ]
  },
  {
   "cell_type": "code",
   "execution_count": 20,
   "metadata": {},
   "outputs": [
    {
     "name": "stdout",
     "output_type": "stream",
     "text": [
      "train 2.044288158416748\n",
      "val 2.097588539123535\n"
     ]
    }
   ],
   "source": [
    "@torch.no_grad()\n",
    "def split_loss(split):\n",
    "    x, y = {\n",
    "        'train': (Xtr, Ytr),\n",
    "        'val': (Xdev, Ydev),\n",
    "        'test': (Xte, Yte),\n",
    "    }[split]\n",
    "    logits = model(x)\n",
    "    loss = F.cross_entropy(logits, y)\n",
    "    print(split, loss.item())\n",
    "\n",
    "\n",
    "for layer in model.layers:\n",
    "    layer.training = False\n",
    "split_loss('train')\n",
    "split_loss('val')\n"
   ]
  },
  {
   "cell_type": "code",
   "execution_count": 20,
   "metadata": {},
   "outputs": [
    {
     "ename": "TypeError",
     "evalue": "'MyModel' object is not callable",
     "output_type": "error",
     "traceback": [
      "\u001b[0;31m---------------------------------------------------------------------------\u001b[0m",
      "\u001b[0;31mTypeError\u001b[0m                                 Traceback (most recent call last)",
      "Cell \u001b[0;32mIn[20], line 6\u001b[0m\n\u001b[1;32m      4\u001b[0m context \u001b[39m=\u001b[39m [\u001b[39m0\u001b[39m] \u001b[39m*\u001b[39m block_size\n\u001b[1;32m      5\u001b[0m \u001b[39mwhile\u001b[39;00m \u001b[39mTrue\u001b[39;00m:\n\u001b[0;32m----> 6\u001b[0m     logits \u001b[39m=\u001b[39m model(torch\u001b[39m.\u001b[39mtensor([context]))\n\u001b[1;32m      8\u001b[0m     probs \u001b[39m=\u001b[39m F\u001b[39m.\u001b[39msoftmax(logits, dim\u001b[39m=\u001b[39m\u001b[39m1\u001b[39m)\n\u001b[1;32m      9\u001b[0m     ix \u001b[39m=\u001b[39m torch\u001b[39m.\u001b[39mmultinomial(probs, num_samples\u001b[39m=\u001b[39m\u001b[39m1\u001b[39m)\u001b[39m.\u001b[39mitem()\n",
      "\u001b[0;31mTypeError\u001b[0m: 'MyModel' object is not callable"
     ]
    }
   ],
   "source": [
    "for _ in range(20):\n",
    "\n",
    "    out = []\n",
    "    context = [0] * block_size\n",
    "    while True:\n",
    "        logits = model(torch.tensor([context]))\n",
    "\n",
    "        probs = F.softmax(logits, dim=1)\n",
    "        ix = torch.multinomial(probs, num_samples=1).item()\n",
    "\n",
    "        context = context[1:] + [ix]\n",
    "        out.append(ix)\n",
    "        if ix == 0:\n",
    "            break\n",
    "\n",
    "    print(''.join(itos[i] for i in out))\n"
   ]
  },
  {
   "cell_type": "code",
   "execution_count": 11,
   "metadata": {},
   "outputs": [],
   "source": [
    "aa = nn.Optimizer(parameters, lr=0.2)\n"
   ]
  },
  {
   "cell_type": "code",
   "execution_count": 12,
   "metadata": {},
   "outputs": [],
   "source": [
    "aa.zero_grad()\n"
   ]
  },
  {
   "cell_type": "code",
   "execution_count": 13,
   "metadata": {},
   "outputs": [
    {
     "data": {
      "text/plain": [
       "<mytorch.nn.Optimizer at 0x1555443a0>"
      ]
     },
     "execution_count": 13,
     "metadata": {},
     "output_type": "execute_result"
    }
   ],
   "source": [
    "aa\n"
   ]
  },
  {
   "cell_type": "code",
   "execution_count": 17,
   "metadata": {},
   "outputs": [
    {
     "name": "stdout",
     "output_type": "stream",
     "text": [
      "\u001b[0;31mInit signature:\u001b[0m \u001b[0mnn\u001b[0m\u001b[0;34m.\u001b[0m\u001b[0mOptimizer\u001b[0m\u001b[0;34m(\u001b[0m\u001b[0mparams\u001b[0m\u001b[0;34m,\u001b[0m \u001b[0mlr\u001b[0m\u001b[0;34m=\u001b[0m\u001b[0;36m0.01\u001b[0m\u001b[0;34m)\u001b[0m\u001b[0;34m\u001b[0m\u001b[0;34m\u001b[0m\u001b[0m\n",
      "\u001b[0;31mDocstring:\u001b[0m      <no docstring>\n",
      "\u001b[0;31mInit docstring:\u001b[0m Minibatch stochastic gradient descent.\n",
      "\u001b[0;31mFile:\u001b[0m           ~/Documents/AI/scratch/mytorch/mytorch/nn.py\n",
      "\u001b[0;31mType:\u001b[0m           type\n",
      "\u001b[0;31mSubclasses:\u001b[0m     SGD"
     ]
    }
   ],
   "source": [
    "?nn.Optimizer\n"
   ]
  },
  {
   "cell_type": "code",
   "execution_count": null,
   "metadata": {},
   "outputs": [],
   "source": []
  }
 ],
 "metadata": {
  "kernelspec": {
   "display_name": "Python 3",
   "language": "python",
   "name": "python3"
  },
  "language_info": {
   "codemirror_mode": {
    "name": "ipython",
    "version": 3
   },
   "file_extension": ".py",
   "mimetype": "text/x-python",
   "name": "python",
   "nbconvert_exporter": "python",
   "pygments_lexer": "ipython3",
   "version": "3.9.6"
  },
  "orig_nbformat": 4,
  "vscode": {
   "interpreter": {
    "hash": "31f2aee4e71d21fbe5cf8b01ff0e069b9275f58929596ceb00d14d90e3e16cd6"
   }
  }
 },
 "nbformat": 4,
 "nbformat_minor": 2
}
