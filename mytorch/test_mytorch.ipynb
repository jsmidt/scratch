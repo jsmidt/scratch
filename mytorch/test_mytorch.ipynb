{
 "cells": [
  {
   "cell_type": "code",
   "execution_count": 1,
   "metadata": {},
   "outputs": [],
   "source": [
    "import mytorch.nn as nn\n",
    "import torch\n",
    "import matplotlib.pyplot as plt\n"
   ]
  },
  {
   "cell_type": "code",
   "execution_count": 2,
   "metadata": {},
   "outputs": [
    {
     "name": "stdout",
     "output_type": "stream",
     "text": [
      "Sequence([Embedding(num_embeddings=27, embedding_dim=10), Total parameters: 270, Flatten(), Total parameters: 0, Linear(in_features=1, out_features=128, bias=True), Total parameters: 256, Batchnorm1D(num_features=4), Total parameters: 8, Tanh(), Total parameters: 0]), \n",
      "Model has total parameters: 534\n"
     ]
    }
   ],
   "source": [
    "x = nn.Linear(1,128)\n",
    "e = nn.Embedding(27,10)\n",
    "tanh = nn.Tanh()\n",
    "relu = nn.Relu()\n",
    "flat = nn.Flatten()\n",
    "batch = nn.BatchNorm1d(num_features=4)\n",
    "\n",
    "model = nn.Sequential([e, flat, x, batch, tanh])\n",
    "print (model)"
   ]
  },
  {
   "cell_type": "code",
   "execution_count": 14,
   "metadata": {},
   "outputs": [
    {
     "data": {
      "text/plain": [
       "(True, True, True, True)"
      ]
     },
     "execution_count": 14,
     "metadata": {},
     "output_type": "execute_result"
    }
   ],
   "source": [
    "x.training, e.training, tanh.training, relu.training"
   ]
  },
  {
   "cell_type": "code",
   "execution_count": 15,
   "metadata": {},
   "outputs": [
    {
     "data": {
      "text/plain": [
       "(tensor([-0.0785, -0.1494, -0.0207,  0.0096,  0.0587, -0.1104, -0.1929, -0.0221,\n",
       "          0.0521,  0.0249,  0.1014, -0.0515,  0.0238, -0.1275,  0.1297, -0.0205,\n",
       "          0.1089, -0.0289,  0.1085, -0.0456, -0.0392,  0.0756,  0.0327, -0.0677,\n",
       "         -0.0549,  0.0514,  0.0817,  0.0696, -0.0842, -0.0332,  0.0546,  0.2098,\n",
       "          0.1142, -0.0533,  0.0224, -0.0231,  0.0453,  0.0284,  0.0713,  0.0298,\n",
       "          0.0312,  0.0992, -0.0455, -0.1131, -0.0906, -0.0575,  0.1381, -0.1349,\n",
       "         -0.0200, -0.0898,  0.0787,  0.1457, -0.0345,  0.0463, -0.0402,  0.1577,\n",
       "          0.0255, -0.1128, -0.0094,  0.0673, -0.1770,  0.1254,  0.0415, -0.0998,\n",
       "          0.0589, -0.0404, -0.0070,  0.0222,  0.0400,  0.0065,  0.1021, -0.0176,\n",
       "          0.2169, -0.0443, -0.0210,  0.0465, -0.0667, -0.2673, -0.0444,  0.0737,\n",
       "         -0.1130, -0.0816, -0.0942, -0.0172,  0.1377,  0.0483,  0.0715, -0.0683,\n",
       "          0.1647,  0.0148,  0.0598, -0.1399, -0.1563,  0.1046, -0.0503,  0.0490,\n",
       "         -0.0689,  0.0017,  0.0879, -0.0771, -0.0147, -0.0151,  0.1357,  0.0125,\n",
       "         -0.1131, -0.1023,  0.0483,  0.1110, -0.0360, -0.0332, -0.1321, -0.0933,\n",
       "          0.0045, -0.0216,  0.0228, -0.0507,  0.1403, -0.0795,  0.0117, -0.0667,\n",
       "         -0.0396, -0.0881, -0.0360,  0.0422,  0.1146, -0.1039,  0.1087, -0.0849]),\n",
       " tensor([[-7.4588e-01, -1.5561e+00, -7.5994e-02, -9.4809e-01, -8.5060e-01,\n",
       "           1.9829e+00,  1.0712e+00,  3.0345e-01, -3.9547e-01,  1.0131e+00],\n",
       "         [-1.4893e-01, -1.0968e+00,  1.7787e+00, -1.7057e+00,  9.1160e-02,\n",
       "          -1.1115e+00,  5.0495e-01,  1.5536e-01,  1.3263e+00,  1.4555e+00],\n",
       "         [-7.8843e-01, -3.5019e-02,  1.3870e-01,  1.2962e+00,  2.4865e-01,\n",
       "           7.5589e-01,  5.0784e-01, -1.3659e-01,  8.3214e-01,  5.3592e-01],\n",
       "         [ 8.1257e-01, -2.0006e-01, -5.3963e-04, -6.0951e-01, -1.8587e+00,\n",
       "          -1.2215e+00,  1.2744e-01,  9.3035e-01,  3.3491e-01,  3.6070e-01],\n",
       "         [-5.2858e-01,  1.1077e+00,  1.4560e+00,  7.9692e-01,  2.9602e-01,\n",
       "          -1.3971e+00, -5.6936e-01, -3.1977e-01,  1.4614e+00, -1.7738e+00],\n",
       "         [-1.1226e+00,  8.5869e-01,  2.0312e+00,  3.4064e-01,  5.2701e-01,\n",
       "          -5.2345e-01, -7.4528e-01, -9.2346e-01, -9.5152e-01,  7.3934e-01],\n",
       "         [ 1.5648e-03,  8.7800e-01, -4.5979e-01, -1.5019e+00,  2.1752e+00,\n",
       "          -4.9548e-01,  7.9673e-01, -1.1971e+00, -8.1480e-01, -5.6187e-01],\n",
       "         [ 2.0699e-01, -8.5378e-01,  1.0246e+00, -6.3495e-01,  1.8794e+00,\n",
       "          -1.8602e-01,  1.1339e+00, -7.4897e-01,  1.1611e+00, -1.0904e+00],\n",
       "         [ 3.4860e-01, -3.0757e-01, -4.7511e-02,  3.6019e-01,  3.1770e-01,\n",
       "           5.2471e-01, -2.3757e-01, -8.3600e-01,  5.9030e-01,  2.0417e-01],\n",
       "         [-5.0429e-02,  2.4030e+00, -1.1966e-03, -8.2061e-02,  1.1435e+00,\n",
       "           7.5221e-01,  1.1809e-01,  3.0007e-01, -1.2396e+00, -3.8093e-01],\n",
       "         [ 7.0138e-01, -4.4508e-01, -2.7112e-01, -1.2835e+00,  1.4852e+00,\n",
       "          -6.9437e-02,  2.7276e+00, -1.0773e+00,  8.0266e-02, -9.2709e-01],\n",
       "         [-2.1405e-01, -2.6448e-01, -1.9806e+00,  1.4975e+00, -1.6937e+00,\n",
       "           7.7472e-01,  2.3051e-01, -1.0126e+00,  5.0661e-02,  1.3897e+00],\n",
       "         [ 2.4500e+00,  1.6317e-01,  3.2846e-01, -3.3579e-01, -1.0713e-01,\n",
       "          -1.7663e+00, -4.4851e-01, -2.8526e-01, -5.4408e-01,  8.3461e-03],\n",
       "         [-2.4851e-01, -1.1309e-01,  1.3634e+00,  3.2225e-01, -2.3864e-01,\n",
       "          -1.0994e+00,  2.1713e-01, -6.0536e-02,  4.5351e-01, -6.7705e-01],\n",
       "         [ 7.3956e-02, -1.6203e+00, -1.9143e+00, -1.2000e+00,  5.3501e-01,\n",
       "           1.0473e+00, -9.7154e-01,  1.4871e+00, -3.8970e-01, -4.9290e-01],\n",
       "         [-1.3563e+00, -2.2199e-01, -3.1003e-01,  3.4943e-02,  8.4665e-01,\n",
       "          -1.0147e+00,  5.0723e-01,  1.3065e+00, -1.7130e+00,  2.1700e+00],\n",
       "         [-1.3034e+00, -4.0906e-01,  7.5915e-01,  1.5249e+00, -8.4267e-01,\n",
       "          -9.2971e-01, -7.5686e-01,  6.4970e-01, -7.5650e-01,  1.8333e-01],\n",
       "         [-3.2073e-01,  1.1188e+00,  8.6695e-01, -3.3361e-01,  1.3255e-01,\n",
       "           3.4634e-01,  1.4942e+00, -8.4600e-01,  4.6151e-01, -5.6776e-01],\n",
       "         [ 4.0296e-01, -4.2896e-01, -1.5770e-01, -3.8230e-01,  5.9466e-01,\n",
       "           5.0548e-01,  2.2900e+00, -1.3268e+00,  3.5365e-01, -2.5685e+00],\n",
       "         [ 5.6397e-01,  1.8825e+00,  8.4765e-01, -5.2818e-01, -4.8110e-01,\n",
       "          -1.0749e-01,  1.8797e+00,  1.1940e+00,  8.1488e-01, -1.6440e+00],\n",
       "         [ 5.9463e-01,  6.7921e-03,  1.1262e+00,  1.6253e+00, -8.9674e-01,\n",
       "          -1.0338e+00,  1.7525e+00,  5.1637e-02,  1.4372e+00, -6.4238e-01],\n",
       "         [ 9.0950e-01,  1.2961e+00,  1.9481e+00, -1.5063e+00,  1.6514e+00,\n",
       "          -2.0022e-01,  1.2358e-01,  7.1053e-01,  2.4602e-01,  2.3304e+00],\n",
       "         [-1.8618e-01, -6.2306e-01,  6.2106e-01, -9.5389e-01,  2.3844e-01,\n",
       "           8.9276e-01,  1.3994e+00, -5.5911e-01,  5.7910e-01, -5.9814e-01],\n",
       "         [ 8.3469e-01,  1.2670e+00,  1.2284e-02,  3.2923e-01,  6.8735e-01,\n",
       "          -2.0370e+00,  2.3395e-02, -3.2698e-01,  9.5606e-01, -1.2120e+00],\n",
       "         [-8.8478e-01, -4.2530e-01,  4.5794e-01, -1.2144e-02, -2.1535e+00,\n",
       "           9.6161e-01,  1.0353e+00, -1.0279e+00, -4.5265e-01, -1.4698e+00],\n",
       "         [ 3.2468e-01, -1.3192e+00,  2.7264e-01, -1.8381e+00, -8.5378e-01,\n",
       "           2.1355e+00,  1.7013e+00, -1.5088e-01, -1.5986e+00, -2.0658e+00],\n",
       "         [-9.0029e-01, -8.4628e-01, -4.2618e-01, -1.6429e+00, -1.0589e+00,\n",
       "           4.6672e-01,  1.0173e+00, -2.3532e-01, -6.9211e-02,  1.8840e-01]]))"
      ]
     },
     "execution_count": 15,
     "metadata": {},
     "output_type": "execute_result"
    }
   ],
   "source": [
    "x.bias, e.weight"
   ]
  },
  {
   "cell_type": "code",
   "execution_count": 4,
   "metadata": {},
   "outputs": [
    {
     "name": "stdout",
     "output_type": "stream",
     "text": [
      "Linear(in_features=1, out_features=128, bias=True), Total parameters: 256\n",
      "Embedding(num_embeddings=27, embedding_dim=10), Total parameters: 270\n",
      "Tanh(), Total parameters: 0\n",
      "Relu(), Total parameters: 0\n",
      "Flatten(), Total parameters: 0\n",
      "Batchnorm1D(num_features=32), Total parameters: 64\n"
     ]
    }
   ],
   "source": [
    "print (x)\n",
    "print (e)\n",
    "print (tanh)\n",
    "print (relu)\n",
    "print (flat)\n",
    "print (batch)"
   ]
  },
  {
   "cell_type": "code",
   "execution_count": 6,
   "metadata": {},
   "outputs": [],
   "source": [
    "IX = torch.ones((2,2)).long()"
   ]
  },
  {
   "cell_type": "code",
   "execution_count": 7,
   "metadata": {},
   "outputs": [
    {
     "name": "stdout",
     "output_type": "stream",
     "text": [
      "torch.Size([2, 2])\n",
      "torch.Size([27, 10])\n"
     ]
    },
    {
     "data": {
      "text/plain": [
       "torch.Size([2, 2, 10])"
      ]
     },
     "execution_count": 7,
     "metadata": {},
     "output_type": "execute_result"
    }
   ],
   "source": [
    "print (IX.shape)\n",
    "print (e.weight.shape)\n",
    "(e(IX)).shape"
   ]
  },
  {
   "cell_type": "code",
   "execution_count": 8,
   "metadata": {},
   "outputs": [
    {
     "name": "stdout",
     "output_type": "stream",
     "text": [
      "tensor([-1.5276, -1.4555, -1.2932, -0.7492, -0.6569, -0.5099, -0.3733, -0.1158,\n",
      "        -0.1053, -0.0859,  0.0366,  0.0689,  0.0917,  0.3974,  0.4850,  0.5594,\n",
      "         0.6167,  1.1036,  1.2550,  1.8873])\n",
      "tensor([-0.9100, -0.8968, -0.8600, -0.6347, -0.5763, -0.4698, -0.3569, -0.1153,\n",
      "        -0.1049, -0.0857,  0.0365,  0.0688,  0.0915,  0.3778,  0.4502,  0.5075,\n",
      "         0.5488,  0.8018,  0.8497,  0.9551])\n"
     ]
    },
    {
     "data": {
      "text/plain": [
       "[<matplotlib.lines.Line2D at 0x12fd36130>]"
      ]
     },
     "execution_count": 8,
     "metadata": {},
     "output_type": "execute_result"
    },
    {
     "data": {
      "image/png": "[encoded data removed]",
      "text/plain": [
       "<Figure size 640x480 with 1 Axes>"
      ]
     },
     "metadata": {},
     "output_type": "display_data"
    }
   ],
   "source": [
    "X = torch.randn(20).sort()[0]\n",
    "print(X)\n",
    "print(tanh(X))\n",
    "#X = sorted(X)\n",
    "plt.plot(X,X)\n",
    "plt.plot(X,tanh(X))\n"
   ]
  },
  {
   "cell_type": "code",
   "execution_count": 8,
   "metadata": {},
   "outputs": [
    {
     "name": "stdout",
     "output_type": "stream",
     "text": [
      "tensor([-1.5223, -1.3503, -1.0024, -0.8869, -0.7216, -0.6995, -0.6536, -0.4907,\n",
      "        -0.3490, -0.3337, -0.2595, -0.1302,  0.1233,  0.2270,  0.2994,  0.6556,\n",
      "         0.6698,  0.8161,  1.0352,  2.0342])\n",
      "tensor([-0.9091, -0.8741, -0.7626, -0.7099, -0.6179, -0.6041, -0.5741, -0.4548,\n",
      "        -0.3355, -0.3219, -0.2539, -0.1295,  0.1227,  0.2231,  0.2907,  0.5754,\n",
      "         0.5848,  0.6730,  0.7760,  0.9664])\n"
     ]
    },
    {
     "data": {
      "text/plain": [
       "[<matplotlib.lines.Line2D at 0x12ec63340>]"
      ]
     },
     "execution_count": 8,
     "metadata": {},
     "output_type": "execute_result"
    },
    {
     "data": {
      "image/png": "[encoded data removed]",
      "text/plain": [
       "<Figure size 640x480 with 1 Axes>"
      ]
     },
     "metadata": {},
     "output_type": "display_data"
    }
   ],
   "source": [
    "X = torch.randn(20).sort()[0]\n",
    "print(X)\n",
    "print(tanh(X))\n",
    "#X = sorted(X)\n",
    "plt.plot(X,X)\n",
    "plt.plot(X,relu(X))"
   ]
  },
  {
   "cell_type": "code",
   "execution_count": 9,
   "metadata": {},
   "outputs": [
    {
     "data": {
      "text/plain": [
       "tensor([0.])"
      ]
     },
     "execution_count": 9,
     "metadata": {},
     "output_type": "execute_result"
    }
   ],
   "source": [
    "torch.zeros(1)"
   ]
  },
  {
   "cell_type": "code",
   "execution_count": 4,
   "metadata": {},
   "outputs": [
    {
     "name": "stdout",
     "output_type": "stream",
     "text": [
      "tensor([[ 0.9014,  0.1880,  0.7426, -1.7965],\n",
      "        [-0.9668,  1.1091, -0.6421, -0.2078],\n",
      "        [-0.9781,  1.2942, -0.1494, -0.7955],\n",
      "        [ 0.0565, -1.4704, -1.2808,  0.2141]])\n",
      "tensor([[ 0.9014,  0.1880,  0.7426, -1.7965, -0.9668,  1.1091, -0.6421, -0.2078,\n",
      "         -0.9781,  1.2942, -0.1494, -0.7955,  0.0565, -1.4704, -1.2808,  0.2141]])\n"
     ]
    },
    {
     "data": {
      "text/plain": [
       "16"
      ]
     },
     "execution_count": 4,
     "metadata": {},
     "output_type": "execute_result"
    }
   ],
   "source": [
    "X = torch.randn(4,4)\n",
    "print (X)\n",
    "print (flat(X))\n",
    "X.numel()"
   ]
  },
  {
   "cell_type": "code",
   "execution_count": 19,
   "metadata": {},
   "outputs": [
    {
     "name": "stdout",
     "output_type": "stream",
     "text": [
      "tensor([[-0.0577,  1.0218, -0.2243, -1.2648],\n",
      "        [-1.1769, -1.2967,  1.4056, -0.1785],\n",
      "        [-0.0344,  0.4816, -0.9623,  0.3175],\n",
      "        [ 1.2690, -0.2067, -0.2190,  1.1259]])\n",
      "tensor([[ 0.1890, -0.0969, -0.0732, -0.0087]])\n",
      "tensor([[1.1317, 1.2256, 0.8649, 0.9185]])\n"
     ]
    }
   ],
   "source": [
    "X = torch.randn(4,4)\n",
    "\n",
    "print (batch(X))\n",
    "print (batch.running_mean)\n",
    "print (batch.running_var)\n"
   ]
  },
  {
   "cell_type": "code",
   "execution_count": 3,
   "metadata": {},
   "outputs": [
    {
     "name": "stdout",
     "output_type": "stream",
     "text": [
      "Sequence([Embedding(num_embeddings=27, embedding_dim=10), Total parameters: 270, Flatten(), Total parameters: 0, Linear(in_features=30, out_features=200, bias=False), Total parameters: 6000, Batchnorm1D(num_features=200), Total parameters: 400, Tanh(), Total parameters: 0, Linear(in_features=200, out_features=27, bias=True), Total parameters: 5427]), \n",
      "Model has total parameters: 12097\n"
     ]
    }
   ],
   "source": [
    "torch.manual_seed(42)\n",
    "n_embd = 10\n",
    "n_hidden = 200\n",
    "block_size = 3\n",
    "vocab_size = 27\n",
    "\n",
    "\n",
    "model = nn.Sequential([\n",
    "    nn.Embedding(vocab_size, n_embd),\n",
    "    nn.Flatten(),\n",
    "    nn.Linear(n_embd*block_size, n_hidden,\n",
    "           bias=False), nn.BatchNorm1d(n_hidden), nn.Tanh(),\n",
    "    nn.Linear(n_hidden, vocab_size),\n",
    "])\n",
    "\n",
    "print (model)"
   ]
  },
  {
   "cell_type": "code",
   "execution_count": 22,
   "metadata": {},
   "outputs": [
    {
     "data": {
      "text/plain": [
       "200"
      ]
     },
     "execution_count": 22,
     "metadata": {},
     "output_type": "execute_result"
    }
   ],
   "source": [
    "12297 - 12097"
   ]
  },
  {
   "cell_type": "code",
   "execution_count": null,
   "metadata": {},
   "outputs": [],
   "source": []
  }
 ],
 "metadata": {
  "kernelspec": {
   "display_name": "Python 3",
   "language": "python",
   "name": "python3"
  },
  "language_info": {
   "codemirror_mode": {
    "name": "ipython",
    "version": 3
   },
   "file_extension": ".py",
   "mimetype": "text/x-python",
   "name": "python",
   "nbconvert_exporter": "python",
   "pygments_lexer": "ipython3",
   "version": "3.9.6"
  },
  "orig_nbformat": 4,
  "vscode": {
   "interpreter": {
    "hash": "31f2aee4e71d21fbe5cf8b01ff0e069b9275f58929596ceb00d14d90e3e16cd6"
   }
  }
 },
 "nbformat": 4,
 "nbformat_minor": 2
}
