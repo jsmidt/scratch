{
 "cells": [
  {
   "cell_type": "code",
   "execution_count": 1,
   "metadata": {},
   "outputs": [],
   "source": [
    "import torch\n",
    "import torch.nn as nn\n",
    "import torch.nn.functional as F\n",
    "# from mytorch.optim import SGD\n",
    "# from mytorch.utils import DataLoader\n",
    "import matplotlib.pyplot as plt\n",
    "import pytorch_lightning as pl\n",
    "import random\n",
    "from torch.utils.data import DataLoader\n",
    "from pytorch_lightning.callbacks import RichProgressBar\n",
    "from pytorch_lightning.callbacks import TQDMProgressBar\n",
    "import warnings\n",
    "# warnings.filterwarnings(\"ignore\")\n",
    "warnings.filterwarnings(\"ignore\", \".*does not have many workers.*\")\n",
    "warnings.filterwarnings(\"ignore\", \"MPS available but not used\")\n",
    "warnings.filterwarnings(\"ignore\", \".*You defined a.*\")\n",
    "warnings.filterwarnings(\"ignore\", \".*IOPub message rate.*\")\n",
    "warnings.filterwarnings(\"ignore\", \".*Current values.*\")\n"
   ]
  },
  {
   "cell_type": "code",
   "execution_count": 2,
   "metadata": {},
   "outputs": [
    {
     "name": "stdout",
     "output_type": "stream",
     "text": [
      "Number of names: 32033\n",
      "Median name length: 6\n",
      "Max name length: 15\n",
      "Example names: ['emma', 'olivia', 'ava', 'isabella', 'sophia', 'charlotte', 'mia', 'amelia']\n",
      "{1: 'a', 2: 'b', 3: 'c', 4: 'd', 5: 'e', 6: 'f', 7: 'g', 8: 'h', 9: 'i', 10: 'j', 11: 'k', 12: 'l', 13: 'm', 14: 'n', 15: 'o', 16: 'p', 17: 'q', 18: 'r', 19: 's', 20: 't', 21: 'u', 22: 'v', 23: 'w', 24: 'x', 25: 'y', 26: 'z', 0: '.'}\n",
      "27\n"
     ]
    }
   ],
   "source": [
    "# Load Raw Data\n",
    "words = open('names.txt', 'r').read().splitlines()\n",
    "print(f'Number of names: {len(words)}')\n",
    "print(\n",
    "    f'Median name length: {torch.median(torch.tensor(list(len(w) for w in words))).item()}')\n",
    "print(f'Max name length: {max(len(w) for w in words)}')\n",
    "print(f'Example names: {words[:8]}')\n",
    "\n",
    "# build the vocapbulary of charactors mapping to/from integers\n",
    "chars = sorted(list(set(''.join(words))))\n",
    "stoi = {s: i+1 for i, s in enumerate(chars)}\n",
    "stoi['.'] = 0\n",
    "itos = {i: s for s, i in stoi.items()}\n",
    "vocab_size = len(itos)\n",
    "print(itos)\n",
    "print(vocab_size)\n"
   ]
  },
  {
   "cell_type": "code",
   "execution_count": 3,
   "metadata": {},
   "outputs": [],
   "source": [
    "# Make Dataset and data loaders\n",
    "\n",
    "block_size = 3\n",
    "\n",
    "\n",
    "class Dataset(torch.utils.data.Dataset):\n",
    "    'Characterizes a dataset for PyTorch'\n",
    "\n",
    "    def __init__(self, words):\n",
    "        'Initialization'\n",
    "        X, Y = [], []\n",
    "\n",
    "        for w in words:\n",
    "            context = [0] * block_size\n",
    "            for ch in w + '.':\n",
    "                ix = stoi[ch]\n",
    "                X.append(context)\n",
    "                Y.append(ix)\n",
    "                context = context[1:] + [ix]\n",
    "\n",
    "        self.X = torch.tensor(X)\n",
    "        self.Y = torch.tensor(Y)\n",
    "\n",
    "    def __len__(self):\n",
    "        'Denotes the total number of samples'\n",
    "        return len(self.Y)\n",
    "\n",
    "    def __getitem__(self, index):\n",
    "        'Generates one sample of data'\n",
    "        # Select sample\n",
    "        # ID = self.target[index]\n",
    "\n",
    "        # Load data and get label\n",
    "        X = self.X[index]\n",
    "        y = self.Y[index]\n",
    "\n",
    "        return X, y\n",
    "\n",
    "\n",
    "random.seed(42)\n",
    "random.shuffle(words)\n",
    "batch_size = 64\n",
    "n1 = int(0.8*len(words))\n",
    "n2 = int(0.9*len(words))\n",
    "# train_data = Dataset(Xtr,Ytr)\n",
    "# valid_data = Dataset(Xdev,Ydev)\n",
    "train_data = Dataset(words[:n1])  # 80%\n",
    "valid_data = Dataset(words[n1:n2])  # 10%\n",
    "test_data = Dataset(words[n2:])  # 10%\n",
    "\n",
    "data = DataLoader(train_data, batch_size=batch_size)\n",
    "data_dev = DataLoader(valid_data, batch_size=batch_size)\n"
   ]
  },
  {
   "cell_type": "code",
   "execution_count": 4,
   "metadata": {},
   "outputs": [],
   "source": [
    "# Define Model\n",
    "\n",
    "torch.manual_seed(42)\n",
    "n_embd = 10\n",
    "n_hidden = 200\n",
    "batch_size = 64\n",
    "\n",
    "\n",
    "class MakeMore(pl.LightningModule):\n",
    "    def __init__(self):\n",
    "        super().__init__()\n",
    "        self.model = nn.Sequential(\n",
    "            nn.Embedding(vocab_size, n_embd),\n",
    "            nn.Flatten(),\n",
    "            nn.Linear(n_embd*block_size, n_hidden,\n",
    "                      bias=False), nn.BatchNorm1d(n_hidden), nn.Tanh(),\n",
    "            nn.Linear(n_hidden, vocab_size))\n",
    "        self.batch_size = 64\n",
    "\n",
    "    def training_step(self, batch, batch_idx):\n",
    "        # training_step defines the train loop.\n",
    "        x, y = batch\n",
    "        # x = x.view(x.size(0), -1)\n",
    "        logits = self.model(x)\n",
    "        loss = F.cross_entropy(logits, y)\n",
    "        # self.log('train_loss', loss)\n",
    "        self.log(\"train_loss\", loss, prog_bar=False,\n",
    "                 on_step=False, on_epoch=True)\n",
    "        return loss\n",
    "\n",
    "    def validation_step(self, batch, batch_idx):\n",
    "        # training_step defines the train loop.\n",
    "        x, y = batch\n",
    "        # x = x.view(x.size(0), -1)\n",
    "        logits = self.model(x)\n",
    "        loss = F.cross_entropy(logits, y)\n",
    "        # self.log('train_loss', loss)\n",
    "        self.log(\"train_loss\", loss, prog_bar=True,\n",
    "                 on_step=False, on_epoch=True)\n",
    "        return loss\n",
    "\n",
    "    def predict_step(self, batch, batch_idx):\n",
    "        # training_step defines the train loop.\n",
    "        # x, y = batch\n",
    "        x = batch\n",
    "        # x = x.view(x.size(0), -1)\n",
    "        logits = self.model(x)\n",
    "        return logits\n",
    "\n",
    "    def configure_optimizers(self):\n",
    "        optimizer = torch.optim.SGD(self.parameters(), lr=0.05)\n",
    "        return optimizer\n",
    "\n",
    "\n",
    "makemore = MakeMore()\n"
   ]
  },
  {
   "cell_type": "code",
   "execution_count": 5,
   "metadata": {},
   "outputs": [
    {
     "data": {
      "text/html": [
       "<pre style=\"white-space:pre;overflow-x:auto;line-height:normal;font-family:Menlo,'DejaVu Sans Mono',consolas,'Courier New',monospace\"><span style=\"color: #c0c0c0; text-decoration-color: #c0c0c0\">Epoch 0/39</span> <span style=\"color: #6206e0; text-decoration-color: #6206e0\">━━━━━━━━━━━━━━━━━━━━━━</span><span style=\"color: #3a3a3a; text-decoration-color: #3a3a3a\">╺━━━━━━━━━━━━━━━━━</span> <span style=\"color: #c0c0c0; text-decoration-color: #c0c0c0\">1600/2854</span> <span style=\"color: #8a8a8a; text-decoration-color: #8a8a8a\">0:00:07 • 0:00:05</span> <span style=\"color: #b2b2b2; text-decoration-color: #b2b2b2\">262.88it/s</span> <span style=\"color: #c0c0c0; text-decoration-color: #c0c0c0\">loss: 2.33 v_num: 16 </span>\n",
       "</pre>\n"
      ],
      "text/plain": [
       "\u001b[37mEpoch 0/39\u001b[0m \u001b[38;2;98;6;224m━━━━━━━━━━━━━━━━━━━━━━\u001b[0m\u001b[38;5;237m╺\u001b[0m\u001b[38;5;237m━━━━━━━━━━━━━━━━━\u001b[0m \u001b[37m1600/2854\u001b[0m \u001b[38;5;245m0:00:07 • 0:00:05\u001b[0m \u001b[38;5;249m262.88it/s\u001b[0m \u001b[37mloss: 2.33 v_num: 16 \u001b[0m\n"
      ]
     },
     "metadata": {},
     "output_type": "display_data"
    }
   ],
   "source": [
    "# Define traner and train\n",
    "# trainer = pl.Trainer(max_epochs=5,accelerator=\"mps\",callbacks=[RichProgressBar(refresh_rate=200)])\n",
    "# trainer = pl.Trainer(max_epochs=10,accelerator=\"mps\",callbacks=[TQDMProgressBar(refresh_rate=1000)])\n",
    "# trainer = pl.Trainer(max_epochs=10,enable_progress_bar=False)\n",
    "\n",
    "trainer = pl.Trainer(max_epochs=40,  callbacks=[\n",
    "                     TQDMProgressBar(refresh_rate=400)])\n",
    "trainer.fit(model=makemore, train_dataloaders=data)\n"
   ]
  },
  {
   "cell_type": "code",
   "execution_count": null,
   "metadata": {},
   "outputs": [],
   "source": []
  },
  {
   "cell_type": "code",
   "execution_count": 23,
   "metadata": {},
   "outputs": [
    {
     "data": {
      "application/vnd.jupyter.widget-view+json": {
       "model_id": "bcec82a2b469429ea70d895dc3558379",
       "version_major": 2,
       "version_minor": 0
      },
      "text/plain": [
       "Validation: 0it [00:00, ?it/s]"
      ]
     },
     "metadata": {},
     "output_type": "display_data"
    },
    {
     "data": {
      "text/html": [
       "<pre style=\"white-space:pre;overflow-x:auto;line-height:normal;font-family:Menlo,'DejaVu Sans Mono',consolas,'Courier New',monospace\">┏━━━━━━━━━━━━━━━━━━━━━━━━━━━┳━━━━━━━━━━━━━━━━━━━━━━━━━━━┓\n",
       "┃<span style=\"font-weight: bold\">      Validate metric      </span>┃<span style=\"font-weight: bold\">       DataLoader 0        </span>┃\n",
       "┡━━━━━━━━━━━━━━━━━━━━━━━━━━━╇━━━━━━━━━━━━━━━━━━━━━━━━━━━┩\n",
       "│<span style=\"color: #008080; text-decoration-color: #008080\">        train_loss         </span>│<span style=\"color: #800080; text-decoration-color: #800080\">    2.0957701206207275     </span>│\n",
       "└───────────────────────────┴───────────────────────────┘\n",
       "</pre>\n"
      ],
      "text/plain": [
       "┏━━━━━━━━━━━━━━━━━━━━━━━━━━━┳━━━━━━━━━━━━━━━━━━━━━━━━━━━┓\n",
       "┃\u001b[1m \u001b[0m\u001b[1m     Validate metric     \u001b[0m\u001b[1m \u001b[0m┃\u001b[1m \u001b[0m\u001b[1m      DataLoader 0       \u001b[0m\u001b[1m \u001b[0m┃\n",
       "┡━━━━━━━━━━━━━━━━━━━━━━━━━━━╇━━━━━━━━━━━━━━━━━━━━━━━━━━━┩\n",
       "│\u001b[36m \u001b[0m\u001b[36m       train_loss        \u001b[0m\u001b[36m \u001b[0m│\u001b[35m \u001b[0m\u001b[35m   2.0957701206207275    \u001b[0m\u001b[35m \u001b[0m│\n",
       "└───────────────────────────┴───────────────────────────┘\n"
      ]
     },
     "metadata": {},
     "output_type": "display_data"
    },
    {
     "name": "stdout",
     "output_type": "stream",
     "text": [
      "Final loss on training set is:  [{'train_loss': 2.0957701206207275}]\n"
     ]
    },
    {
     "data": {
      "application/vnd.jupyter.widget-view+json": {
       "model_id": "cc88ad46116147fa9be615f0acd1f21e",
       "version_major": 2,
       "version_minor": 0
      },
      "text/plain": [
       "Validation: 0it [00:00, ?it/s]"
      ]
     },
     "metadata": {},
     "output_type": "display_data"
    },
    {
     "data": {
      "text/html": [
       "<pre style=\"white-space:pre;overflow-x:auto;line-height:normal;font-family:Menlo,'DejaVu Sans Mono',consolas,'Courier New',monospace\">┏━━━━━━━━━━━━━━━━━━━━━━━━━━━┳━━━━━━━━━━━━━━━━━━━━━━━━━━━┓\n",
       "┃<span style=\"font-weight: bold\">      Validate metric      </span>┃<span style=\"font-weight: bold\">       DataLoader 0        </span>┃\n",
       "┡━━━━━━━━━━━━━━━━━━━━━━━━━━━╇━━━━━━━━━━━━━━━━━━━━━━━━━━━┩\n",
       "│<span style=\"color: #008080; text-decoration-color: #008080\">        train_loss         </span>│<span style=\"color: #800080; text-decoration-color: #800080\">     2.142583131790161     </span>│\n",
       "└───────────────────────────┴───────────────────────────┘\n",
       "</pre>\n"
      ],
      "text/plain": [
       "┏━━━━━━━━━━━━━━━━━━━━━━━━━━━┳━━━━━━━━━━━━━━━━━━━━━━━━━━━┓\n",
       "┃\u001b[1m \u001b[0m\u001b[1m     Validate metric     \u001b[0m\u001b[1m \u001b[0m┃\u001b[1m \u001b[0m\u001b[1m      DataLoader 0       \u001b[0m\u001b[1m \u001b[0m┃\n",
       "┡━━━━━━━━━━━━━━━━━━━━━━━━━━━╇━━━━━━━━━━━━━━━━━━━━━━━━━━━┩\n",
       "│\u001b[36m \u001b[0m\u001b[36m       train_loss        \u001b[0m\u001b[36m \u001b[0m│\u001b[35m \u001b[0m\u001b[35m    2.142583131790161    \u001b[0m\u001b[35m \u001b[0m│\n",
       "└───────────────────────────┴───────────────────────────┘\n"
      ]
     },
     "metadata": {},
     "output_type": "display_data"
    },
    {
     "name": "stdout",
     "output_type": "stream",
     "text": [
      "Final loss on validation set is:  [{'train_loss': 2.142583131790161}]\n"
     ]
    }
   ],
   "source": [
    "# Validate data\n",
    "print('Final loss on training set is: ', trainer.validate(\n",
    "    model=makemore, dataloaders=data))\n",
    "print('Final loss on validation set is: ', trainer.validate(\n",
    "    model=makemore, dataloaders=data_dev))\n"
   ]
  },
  {
   "cell_type": "code",
   "execution_count": 15,
   "metadata": {},
   "outputs": [],
   "source": []
  },
  {
   "cell_type": "code",
   "execution_count": 29,
   "metadata": {},
   "outputs": [
    {
     "name": "stdout",
     "output_type": "stream",
     "text": [
      "tensor([[0, 0, 0]]) torch.Size([1, 3])\n",
      "tensor([[0, 0, 0]]) torch.Size([1, 3])\n",
      "tensor([[-6.6805,  1.7537,  0.7105,  0.6615,  0.4226,  1.2999, -0.1599, -0.2810,\n",
      "          0.9469, -0.0277,  1.2543,  1.7956,  1.3231,  1.6305,  0.6792, -0.3639,\n",
      "         -0.1842, -1.9578,  0.8891,  1.0497,  0.8093, -2.1067, -0.7126, -0.6525,\n",
      "         -1.7903, -0.3205,  0.3402]], grad_fn=<AddmmBackward0>)\n"
     ]
    }
   ],
   "source": [
    "# This Should work\n",
    "x = train_data[:1][0]\n",
    "print (x, x.shape)\n",
    "\n",
    "# What about this?\n",
    "context = [0,0,0]\n",
    "x = torch.tensor([context])\n",
    "print (x, x.shape)\n",
    "\n",
    "makemore.model.eval()\n",
    "\n",
    "print (makemore.model(x))\n",
    "\n",
    "#batch = next(iter(data))\n",
    "#x, y = batch\n",
    "#print (x)\n",
    "#trainer.predict(makemore,x)\n",
    "\n",
    "#trainer.predict()\n"
   ]
  },
  {
   "cell_type": "code",
   "execution_count": null,
   "metadata": {},
   "outputs": [],
   "source": []
  },
  {
   "cell_type": "code",
   "execution_count": 30,
   "metadata": {},
   "outputs": [
    {
     "name": "stdout",
     "output_type": "stream",
     "text": [
      "loud.\n",
      "williyah.\n",
      "holuwad.\n",
      "kymon.\n",
      "yamli.\n",
      "justina.\n",
      "smari.\n",
      "coreem.\n",
      "gobellon.\n",
      "nour.\n",
      "aubrael.\n",
      "rai.\n",
      "janna.\n",
      "rextaygansley.\n",
      "hendalinn.\n",
      "brymern.\n",
      "luwianie.\n",
      "tere.\n",
      "haia.\n",
      "alayshamyllian.\n"
     ]
    }
   ],
   "source": [
    "makemore.model.eval()\n",
    "with torch.no_grad():\n",
    "    for _ in range(20):\n",
    "\n",
    "        out = []\n",
    "        context = [0] * block_size\n",
    "        while True:\n",
    "            x = torch.tensor([context])\n",
    "            logits = makemore.model(x)\n",
    "\n",
    "            probs = F.softmax(logits, dim=1)\n",
    "            ix = torch.multinomial(probs, num_samples=1).item()\n",
    "\n",
    "            context = context[1:] + [ix]\n",
    "            out.append(ix)\n",
    "            if ix == 0:\n",
    "                break\n",
    "\n",
    "        print(''.join(itos[i] for i in out))"
   ]
  },
  {
   "cell_type": "code",
   "execution_count": null,
   "metadata": {},
   "outputs": [],
   "source": []
  }
 ],
 "metadata": {
  "kernelspec": {
   "display_name": "Python 3",
   "language": "python",
   "name": "python3"
  },
  "language_info": {
   "codemirror_mode": {
    "name": "ipython",
    "version": 3
   },
   "file_extension": ".py",
   "mimetype": "text/x-python",
   "name": "python",
   "nbconvert_exporter": "python",
   "pygments_lexer": "ipython3",
   "version": "3.9.6"
  },
  "orig_nbformat": 4,
  "vscode": {
   "interpreter": {
    "hash": "31f2aee4e71d21fbe5cf8b01ff0e069b9275f58929596ceb00d14d90e3e16cd6"
   }
  }
 },
 "nbformat": 4,
 "nbformat_minor": 2
}
