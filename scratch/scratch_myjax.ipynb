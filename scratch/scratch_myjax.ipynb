{
 "cells": [
  {
   "cell_type": "code",
   "execution_count": 1,
   "metadata": {},
   "outputs": [],
   "source": [
    "import jax\n",
    "import jax.numpy as jnp\n",
    "import matplotlib.pyplot as plt\n"
   ]
  },
  {
   "attachments": {},
   "cell_type": "markdown",
   "metadata": {},
   "source": [
    "### Steps for PyTorch Training\n",
    "\n",
    "- [x] Build Dataset:  torch.utils.data.Dataset,  \\_\\_init__, \\_\\_len__, and \\_\\_getitem__, transform if needed\n",
    "- [x] Build DataLoader: torch.utils.data.DataLoader\n",
    "- [x] Set backend (CPU, GPU, etc...)\n",
    "- [ ] Create a Model with forward pass\n",
    "- [ ] Create a loss function and optimizer\n",
    "- [ ] Write trainer with the following:\n",
    "   * Write training loop/step: with model.train()\n",
    "   * Write validation loop/step: with model.eval() and with torch.no_grad()\n",
    "- [ ] Loop over epochs\n",
    "- [ ] Save the model\n",
    "- [ ] Make predictions"
   ]
  },
  {
   "cell_type": "code",
   "execution_count": 2,
   "metadata": {},
   "outputs": [],
   "source": [
    "class Dataset:\n",
    "    '''Takes x, y (features, targets) and puts them in a dataset'''\n",
    "\n",
    "    def __init__(self, features, targets, dtype_features=jnp.float32, dtype_labels=jnp.float32) -> None:\n",
    "        self.features = jnp.array(features, dtype=dtype_features)\n",
    "        self.targets = jnp.array(targets, dtype=dtype_labels)\n",
    "\n",
    "    def __len__(self) -> int:\n",
    "        return len(self.targets)\n",
    "\n",
    "    def __getitem__(self, idx: int) -> tuple[jnp.array, jnp.array]:\n",
    "        return self.features[idx], self.targets[idx]\n",
    "\n",
    "\n",
    "class DataLoader:\n",
    "    '''Makes dataset iterable and randomly shuffled if a key supplied'''\n",
    "\n",
    "    def __init__(self, dataset, key=None, batch_size=32) -> None:\n",
    "\n",
    "        self.dataset = dataset\n",
    "        self.batch_size = batch_size\n",
    "        self.key = key\n",
    "\n",
    "    def __iter__(self):\n",
    "\n",
    "        # If key present, randomly shuffle\n",
    "        if self.key is not None:\n",
    "            # After looping through data in epoch, reorder data for next epoch\n",
    "            self.key, i_key = jax.random.split(self.key)\n",
    "            self.indices = jax.random.permutation(i_key, len(dataset))\n",
    "        else:\n",
    "            self.indices = jnp.arange(len(dataset))\n",
    "\n",
    "        # Loop over indicies and yield result\n",
    "        for i in range(0, len(self.dataset), self.batch_size):\n",
    "            batch_indices = self.indices[i: i+self.batch_size]\n",
    "            yield self.dataset[batch_indices]\n",
    "\n",
    "    def __len__(self):\n",
    "        return len(range(0, len(self.dataset), self.batch_size))\n",
    "\n",
    "    def __getitem__(self, idx: int) -> tuple[jnp.array, jnp.array]:\n",
    "        return self.dataset[idx]\n"
   ]
  },
  {
   "cell_type": "code",
   "execution_count": 38,
   "metadata": {},
   "outputs": [],
   "source": [
    "class Linear:\n",
    "    r\"\"\"Linear nn layer with learnable weights w and bias b. \n",
    "        The return on input data x is y = x @ w.T + b.\n",
    "\n",
    "    Paramaters:\n",
    "        in_features: size of each input sample\n",
    "        out_features: size of each output sample\n",
    "        bias: If set to ``False``, the layer will not learn an additive bias.\n",
    "            Default: ``True``\n",
    "    \"\"\"\n",
    "\n",
    "    def __init__(self, in_features, out_features, bias=True, nonlinearity=None, device=None, dtype=jnp.float32) -> None:\n",
    "        # super(Linear, self).__init__()\n",
    "        self.in_features = in_features\n",
    "        self.out_features = out_features\n",
    "        self.bias = bias\n",
    "        self.dtype = dtype\n",
    "        self.nonlinearity = nonlinearity\n",
    "\n",
    "    def init(self, key):\n",
    "        '''Initialize with a key'''\n",
    "\n",
    "        # Scale weights for nonlinearity\n",
    "        if self.nonlinearity == 'tanh':\n",
    "            a = 5/3.\n",
    "        elif self.nonlinearity is None:\n",
    "            a = 1.0\n",
    "        else:\n",
    "            a = 2.0**0.5\n",
    "\n",
    "        # Set weights and bias as parameters\n",
    "        params = {}\n",
    "        key, w_key, b_key = jax.random.split(key, num=3)\n",
    "        params['weights'] = jax.random.normal(key=w_key,\n",
    "                                              shape=(self.in_features,\n",
    "                                                     self.out_features)\n",
    "                                              )*a/(self.in_features)**0.5\n",
    "        # Only use bias if desired\n",
    "        if self.bias == True:\n",
    "            params['bias'] = jax.random.normal(key=b_key,\n",
    "                                               shape=(self.out_features,)) * 0.1\n",
    "\n",
    "        # Record number of parameters\n",
    "        self.num_params = sum(params[p].size for p in params)\n",
    "\n",
    "        # Return parameters and new key\n",
    "        return key, params\n",
    "\n",
    "    def __call__(self, params: dict, x: jnp.array) -> jnp.array:\n",
    "        '''The return on input data x is y = x @ w.T + b.'''\n",
    "        out = x @ params['weights']\n",
    "        if self.bias == True:\n",
    "            out += params['bias']\n",
    "        return out\n",
    "\n",
    "    def __repr__(self) -> str:\n",
    "        mystr = f\"Linear(in_features={self.in_features}, out_features={self.out_features}, bias={self.bias}), Total parameters: {self.num_params}\"\n",
    "        return mystr\n",
    "\n",
    "class Relu:\n",
    "    r\"\"\"Applies the rectified linear unit function element-wise:\n",
    "    \"\"\"\n",
    "\n",
    "    def __call__(self, params, x):\n",
    "        return jax.nn.relu(x)\n",
    "\n",
    "    def init(self, key):\n",
    "        params = jnp.array([])\n",
    "        self.num_params = sum(params[p].size for p in params)\n",
    "        return key, params\n",
    "\n",
    "    def __repr__(self):\n",
    "        mystr = f\"Relu(), Total parameters: {self.num_params}\"\n",
    "        return mystr\n"
   ]
  },
  {
   "cell_type": "code",
   "execution_count": 39,
   "metadata": {},
   "outputs": [],
   "source": [
    "class Model:\n",
    "    '''Base class for model types'''\n",
    "\n",
    "    def __init__(self) -> None:\n",
    "        pass\n",
    "\n",
    "    # Every model needs an init\n",
    "    def init(self, key) -> None:\n",
    "        NotImplementedError\n",
    "\n",
    "    # Models use the \"forward\" method for call\n",
    "    def __call__(self, params, x) -> jnp.array:\n",
    "        return self.forward(params, x)\n",
    "\n",
    "    # Every model needs a forward routine. See call.\n",
    "    def forward(self, params, x) -> jnp.array:\n",
    "        NotImplementedError\n",
    "\n",
    "\n",
    "class Sequential(Model):\n",
    "    '''Sequential model'''\n",
    "\n",
    "    def __init__(self, layers) -> None:\n",
    "        self.layers = layers\n",
    "\n",
    "    # Init model with a key\n",
    "    def init(self, key):\n",
    "        '''Initialize model with a key'''\n",
    "\n",
    "        # Parameters for each later\n",
    "        params = {}\n",
    "        self.num_params = 0\n",
    "        for i, layer in enumerate(self.layers):\n",
    "            # Initialize each layer with a key\n",
    "            key, l_key = jax.random.split(key)\n",
    "            key, paramsl = layer.init(l_key)\n",
    "            params[i] = paramsl\n",
    "            #if paramsl is not None:\n",
    "            #    self.num_params += layer.num_params\n",
    "\n",
    "        # Record total number of parameters\n",
    "        self.num_params = sum([l.num_params for l in self.layers])\n",
    "\n",
    "        return key, params\n",
    "\n",
    "    # Forward routine when called\n",
    "    def forward(self, params, x) -> jnp.array:\n",
    "        '''Evaluate model for batch x'''\n",
    "        for i, layer in enumerate(self.layers):\n",
    "            x = layer(params[i], x)\n",
    "        return x\n",
    "\n",
    "    # Print model info\n",
    "    def __repr__(self):\n",
    "        '''Model info as a string'''\n",
    "\n",
    "        # Name of model\n",
    "        mystr = f\"{self.__class__.__name__}(\"\n",
    "\n",
    "        # List each layer\n",
    "        for i, layer in enumerate(self.layers):\n",
    "            mystr += f\"\\n  ({i}): {layer}, \"\n",
    "        mystr += f\"\\n)\"\n",
    "\n",
    "        # Print total parameters of model\n",
    "        mystr += f\"\\nTotal parameters: {self.num_params}\"\n",
    "        return mystr\n"
   ]
  },
  {
   "cell_type": "code",
   "execution_count": 40,
   "metadata": {},
   "outputs": [],
   "source": [
    "\n",
    "def mse_loss(input, target):\n",
    "    return jnp.mean((input-target)**2)\n",
    "\n",
    "\n",
    "class Trainer:\n",
    "    '''Pytorch Lightning like trainer class'''\n",
    "\n",
    "    def __init__(self, learning_rate=0.001):\n",
    "\n",
    "        self.learning_rate = learning_rate\n",
    "\n",
    "    def training_step(self, params, model, x, y):\n",
    "        ''' Loss function for training set'''\n",
    "        logits = model(params, x)\n",
    "        loss = mse_loss(logits, y)\n",
    "        return loss\n",
    "\n",
    "    def validation_step(self):\n",
    "        # Loss function for validation set\n",
    "        # model.eval()\n",
    "        pass\n",
    "\n",
    "    def prediction_step(self):\n",
    "        # prediction\n",
    "        # model.eval()\n",
    "        pass\n",
    "\n",
    "    def configure_optimzers(self):\n",
    "        # optimizers to be used\n",
    "        pass\n",
    "\n",
    "    def fit(self, params, model, dataloader, max_epochs=100, log_epoch=1):\n",
    "        '''Train the model by fitting to data'''\n",
    "\n",
    "        # Print loss from first batch\n",
    "        x, y = dataloader[0]\n",
    "        params, loss = self.fit_step(params, model, x, y)\n",
    "        print(f'Epoch (0) train_loss = {loss.item():.5g}')\n",
    "\n",
    "        # Now train over each epoch\n",
    "        for epoch in range(1, max_epochs+1):\n",
    "            for batch, (x, y) in enumerate(dataloader):\n",
    "\n",
    "                params, loss = self.fit_step(params, model, x, y)\n",
    "\n",
    "                # if i % 4 == 0:\n",
    "            \n",
    "            if epoch % log_epoch == 0:\n",
    "                print(f'Epoch ({epoch}) train_loss = {loss.item():.5g}')\n",
    "\n",
    "        return params\n",
    "\n",
    "    def fit_step(self, params, model, x, y):\n",
    "\n",
    "        # Get loss and gradients\n",
    "        loss, grads = jax.value_and_grad(self.training_step)(params, model, x, y)\n",
    "\n",
    "        # Update parameters and return\n",
    "        params = self.optimizer(params, grads)\n",
    "        return params, loss\n",
    "\n",
    "    def optimizer(self, params, grads):\n",
    "        params = jax.tree_map(\n",
    "            lambda p, g: p - self.learning_rate * g, params, grads)\n",
    "        return params\n",
    "\n"
   ]
  },
  {
   "cell_type": "code",
   "execution_count": 61,
   "metadata": {},
   "outputs": [
    {
     "name": "stdout",
     "output_type": "stream",
     "text": [
      "Sequential(\n",
      "  (0): Linear(in_features=1, out_features=1, bias=True), Total parameters: 2, \n",
      ")\n",
      "Total parameters: 2\n",
      "{0: {'weights': Array([[0.15725993]], dtype=float32), 'bias': Array([0.02744711], dtype=float32)}}\n",
      "Epoch (0) train_loss = 50.689\n",
      "Epoch (100) train_loss = 4.836\n",
      "Epoch (200) train_loss = 2.6259\n",
      "Epoch (300) train_loss = 1.6699\n",
      "Epoch (400) train_loss = 1.2552\n",
      "Epoch (500) train_loss = 1.0748\n",
      "Epoch (600) train_loss = 0.996\n",
      "Epoch (700) train_loss = 0.96154\n",
      "Epoch (800) train_loss = 0.94641\n",
      "Epoch (900) train_loss = 0.93975\n",
      "Epoch (1000) train_loss = 0.93681\n",
      "{0: {'bias': Array([-0.99630237], dtype=float32), 'weights': Array([[2.9090002]], dtype=float32)}}\n",
      "(100, 1)\n",
      "(100, 1)\n"
     ]
    },
    {
     "data": {
      "image/png": "[encoded data removed]",
      "text/plain": [
       "<Figure size 640x480 with 1 Axes>"
      ]
     },
     "metadata": {},
     "output_type": "display_data"
    }
   ],
   "source": [
    "# Random data for testing\n",
    "seed = 1701\n",
    "key = jax.random.PRNGKey(seed)\n",
    "key, x_key, n_key = jax.random.split(key, num=3)\n",
    "xs = jax.random.normal(x_key, shape=(100,1))\n",
    "noise = jax.random.normal(n_key, shape=(100,1))\n",
    "ys = xs * 3 - 1 + noise\n",
    "\n",
    "# Create dataset\n",
    "dataset = Dataset(xs, ys)\n",
    "\n",
    "# Create dataloader\n",
    "data = DataLoader(dataset, key=key, batch_size=100)\n",
    "\n",
    "# Create model\n",
    "#model = Sequential([Linear(1,1)])\n",
    "model = Sequential([Linear(1,1) ])\n",
    "\n",
    "# Initialize Model\n",
    "key, l1_key = jax.random.split(key)\n",
    "key, params = model.init(key)\n",
    "print (model)\n",
    "\n",
    "\n",
    "trainer = Trainer(learning_rate=0.002)\n",
    "print (params)\n",
    "params = trainer.fit(params, model, data, max_epochs = 1000, log_epoch=100)\n",
    "print (params)\n",
    "\n",
    "print(xs.shape)\n",
    "plt.scatter(xs, ys)\n",
    "\n",
    "y_hat = jnp.array(model(params, xs))\n",
    "print (y_hat.shape)\n",
    "plt.scatter(xs, y_hat);\n",
    "\n"
   ]
  },
  {
   "cell_type": "code",
   "execution_count": null,
   "metadata": {},
   "outputs": [],
   "source": []
  },
  {
   "cell_type": "code",
   "execution_count": null,
   "metadata": {},
   "outputs": [],
   "source": []
  },
  {
   "cell_type": "code",
   "execution_count": null,
   "metadata": {},
   "outputs": [],
   "source": []
  },
  {
   "cell_type": "code",
   "execution_count": null,
   "metadata": {},
   "outputs": [],
   "source": []
  },
  {
   "cell_type": "code",
   "execution_count": null,
   "metadata": {},
   "outputs": [],
   "source": []
  },
  {
   "cell_type": "code",
   "execution_count": null,
   "metadata": {},
   "outputs": [],
   "source": []
  },
  {
   "cell_type": "code",
   "execution_count": null,
   "metadata": {},
   "outputs": [],
   "source": []
  },
  {
   "cell_type": "code",
   "execution_count": null,
   "metadata": {},
   "outputs": [],
   "source": []
  },
  {
   "cell_type": "code",
   "execution_count": null,
   "metadata": {},
   "outputs": [],
   "source": []
  },
  {
   "cell_type": "code",
   "execution_count": null,
   "metadata": {},
   "outputs": [],
   "source": []
  },
  {
   "cell_type": "code",
   "execution_count": null,
   "metadata": {},
   "outputs": [],
   "source": []
  },
  {
   "cell_type": "code",
   "execution_count": 38,
   "metadata": {},
   "outputs": [],
   "source": [
    "import torch\n",
    "from torch import nn\n",
    "from torch.utils.data import DataLoader\n",
    "from torchvision import datasets\n",
    "from torchvision.transforms import ToTensor\n",
    "import matplotlib.pyplot as plt\n"
   ]
  },
  {
   "cell_type": "code",
   "execution_count": 2,
   "metadata": {},
   "outputs": [],
   "source": [
    "# Download training data from open datasets.\n",
    "training_data = datasets.FashionMNIST(\n",
    "    root=\"data\",\n",
    "    train=True,\n",
    "    download=False,\n",
    "    transform=ToTensor(),\n",
    ")\n",
    "\n",
    "# Download test data from open datasets.\n",
    "test_data = datasets.FashionMNIST(\n",
    "    root=\"data\",\n",
    "    train=False,\n",
    "    download=False,\n",
    "    transform=ToTensor(),\n",
    ")\n"
   ]
  },
  {
   "cell_type": "code",
   "execution_count": 3,
   "metadata": {},
   "outputs": [
    {
     "name": "stdout",
     "output_type": "stream",
     "text": [
      "Shape of X [N, C, H, W]: torch.Size([64, 1, 28, 28])\n",
      "Shape of y: torch.Size([64]) torch.int64\n",
      "labels = [0, 1, 2, 3, 4, 5, 6, 7, 8, 9]\n"
     ]
    }
   ],
   "source": [
    "batch_size = 64\n",
    "\n",
    "# Create data loaders.\n",
    "train_dataloader = DataLoader(training_data, batch_size=batch_size)\n",
    "test_dataloader = DataLoader(test_data, batch_size=batch_size)\n",
    "\n",
    "for X, y in test_dataloader:\n",
    "    print(f\"Shape of X [N, C, H, W]: {X.shape}\")\n",
    "    print(f\"Shape of y: {y.shape} {y.dtype}\")\n",
    "    break\n",
    "\n",
    "# xx = sorted(set(list(y.item())))\n",
    "labels = sorted(set(list([yy.item() for yy in y])))\n",
    "\n",
    "print(f'{labels = }')\n"
   ]
  },
  {
   "cell_type": "code",
   "execution_count": 4,
   "metadata": {},
   "outputs": [
    {
     "name": "stdout",
     "output_type": "stream",
     "text": [
      "Using cpu device\n",
      "NeuralNetwork(\n",
      "  (flatten): Flatten(start_dim=1, end_dim=-1)\n",
      "  (linear_relu_stack): Sequential(\n",
      "    (0): Linear(in_features=784, out_features=512, bias=True)\n",
      "    (1): ReLU()\n",
      "    (2): Linear(in_features=512, out_features=512, bias=True)\n",
      "    (3): ReLU()\n",
      "    (4): Linear(in_features=512, out_features=10, bias=True)\n",
      "  )\n",
      ")\n"
     ]
    }
   ],
   "source": [
    "# Get cpu or gpu device for training.\n",
    "# device = \"cuda\" if torch.cuda.is_available() else \"mps\" if torch.backends.mps.is_available() else \"cpu\"\n",
    "device = \"cpu\"\n",
    "print(f\"Using {device} device\")\n",
    "\n",
    "# Define model\n",
    "\n",
    "\n",
    "class NeuralNetwork(nn.Module):\n",
    "    def __init__(self):\n",
    "        super().__init__()\n",
    "        self.flatten = nn.Flatten()\n",
    "        self.linear_relu_stack = nn.Sequential(\n",
    "            nn.Linear(28*28, 512),\n",
    "            nn.ReLU(),\n",
    "            nn.Linear(512, 512),\n",
    "            nn.ReLU(),\n",
    "            nn.Linear(512, 10)\n",
    "        )\n",
    "\n",
    "    def forward(self, x):\n",
    "        x = self.flatten(x)\n",
    "        logits = self.linear_relu_stack(x)\n",
    "        return logits\n",
    "\n",
    "\n",
    "model = NeuralNetwork().to(device)\n",
    "print(model)\n"
   ]
  },
  {
   "cell_type": "code",
   "execution_count": 5,
   "metadata": {},
   "outputs": [],
   "source": [
    "loss_fn = nn.CrossEntropyLoss()\n",
    "optimizer = torch.optim.SGD(model.parameters(), lr=1e-3)\n"
   ]
  },
  {
   "cell_type": "code",
   "execution_count": 6,
   "metadata": {},
   "outputs": [],
   "source": [
    "def train(dataloader, model, loss_fn, optimizer):\n",
    "    size = len(dataloader.dataset)\n",
    "    model.train()\n",
    "    for batch, (X, y) in enumerate(dataloader):\n",
    "        X, y = X.to(device), y.to(device)\n",
    "\n",
    "        # Compute prediction error\n",
    "        pred = model(X)\n",
    "        loss = loss_fn(pred, y)\n",
    "\n",
    "        # Backpropagation\n",
    "        optimizer.zero_grad()\n",
    "        loss.backward()\n",
    "        optimizer.step()\n",
    "\n",
    "        # if batch % 500 == 0:\n",
    "        #    loss, current = loss.item(), batch * len(X)\n",
    "        #    print(f\"loss: {loss:>7f}  [{current:>5d}/{size:>5d}]\")\n"
   ]
  },
  {
   "cell_type": "code",
   "execution_count": 7,
   "metadata": {},
   "outputs": [],
   "source": [
    "def test(dataloader, model, loss_fn):\n",
    "    size = len(dataloader.dataset)\n",
    "    num_batches = len(dataloader)\n",
    "    model.eval()\n",
    "    test_loss, correct = 0, 0\n",
    "    with torch.no_grad():\n",
    "        for X, y in dataloader:\n",
    "            X, y = X.to(device), y.to(device)\n",
    "            pred = model(X)\n",
    "            test_loss += loss_fn(pred, y).item()\n",
    "            correct += (pred.argmax(1) == y).type(torch.float).sum().item()\n",
    "    test_loss /= num_batches\n",
    "    correct /= size\n",
    "    print(\n",
    "        f\"Test Error: \\n Accuracy: {(100*correct):>0.1f}%, Avg loss: {test_loss:>8f} \\n\")\n"
   ]
  },
  {
   "cell_type": "code",
   "execution_count": 11,
   "metadata": {},
   "outputs": [
    {
     "name": "stdout",
     "output_type": "stream",
     "text": [
      "Epoch 1\n",
      "-------------------------------\n",
      "Test Error: \n",
      " Accuracy: 78.6%, Avg loss: 0.605081 \n",
      "\n",
      "Epoch 2\n",
      "-------------------------------\n",
      "Test Error: \n",
      " Accuracy: 79.0%, Avg loss: 0.596671 \n",
      "\n",
      "Done!\n"
     ]
    }
   ],
   "source": [
    "# 20 epochs on MPS is 1m 18.3s or 3.915s per epoch\n",
    "# 20 epochs on CPU is 1m 0.8s or 3.04s per epoch\n",
    "epochs = 2\n",
    "for t in range(epochs):\n",
    "    print(f\"Epoch {t+1}\\n-------------------------------\")\n",
    "    train(train_dataloader, model, loss_fn, optimizer)\n",
    "    test(test_dataloader, model, loss_fn)\n",
    "print(\"Done!\")\n"
   ]
  },
  {
   "cell_type": "code",
   "execution_count": 38,
   "metadata": {},
   "outputs": [
    {
     "name": "stdout",
     "output_type": "stream",
     "text": [
      "Saved PyTorch Model State to model.pth\n"
     ]
    }
   ],
   "source": [
    "torch.save(model.state_dict(), \"model.pth\")\n",
    "print(\"Saved PyTorch Model State to model.pth\")\n"
   ]
  },
  {
   "cell_type": "code",
   "execution_count": 39,
   "metadata": {},
   "outputs": [
    {
     "data": {
      "text/plain": [
       "<All keys matched successfully>"
      ]
     },
     "execution_count": 39,
     "metadata": {},
     "output_type": "execute_result"
    }
   ],
   "source": [
    "model = NeuralNetwork()\n",
    "model.load_state_dict(torch.load(\"model.pth\"))\n"
   ]
  },
  {
   "cell_type": "code",
   "execution_count": 25,
   "metadata": {},
   "outputs": [
    {
     "name": "stdout",
     "output_type": "stream",
     "text": [
      "Predicted: Ankle boot,    Actual: Ankle boot\n",
      "Predicted:   Pullover,    Actual:   Pullover\n",
      "Predicted:    Trouser,    Actual:    Trouser\n",
      "Predicted:    Trouser,    Actual:    Trouser\n",
      "Predicted:      Shirt,    Actual:      Shirt\n",
      "Predicted:    Trouser,    Actual:    Trouser\n",
      "Predicted:       Coat,    Actual:       Coat\n",
      "Predicted:       Coat,    Actual:      Shirt\n",
      "Predicted:    Sneaker,    Actual:     Sandal\n",
      "Predicted:    Sneaker,    Actual:    Sneaker\n",
      "Predicted:       Coat,    Actual:       Coat\n",
      "Predicted:     Sandal,    Actual:     Sandal\n"
     ]
    }
   ],
   "source": [
    "classes = [\n",
    "    \"T-shirt/top\",\n",
    "    \"Trouser\",\n",
    "    \"Pullover\",\n",
    "    \"Dress\",\n",
    "    \"Coat\",\n",
    "    \"Sandal\",\n",
    "    \"Shirt\",\n",
    "    \"Sneaker\",\n",
    "    \"Bag\",\n",
    "    \"Ankle boot\",\n",
    "]\n",
    "\n",
    "model.eval()\n",
    "x, y = test_data[0][0], test_data[0][1]\n",
    "with torch.no_grad():\n",
    "    for i, (x, y) in enumerate(test_data):\n",
    "        pred = model(x)\n",
    "        predicted, actual = classes[pred[0].argmax(0)], classes[y]\n",
    "        print(f'Predicted: {predicted:>10s},    Actual: {actual:>10s}')\n",
    "        if i > 10:\n",
    "            break\n"
   ]
  },
  {
   "cell_type": "code",
   "execution_count": 37,
   "metadata": {},
   "outputs": [
    {
     "data": {
      "image/png": "[encoded data removed]",
      "text/plain": [
       "<Figure size 800x800 with 9 Axes>"
      ]
     },
     "metadata": {},
     "output_type": "display_data"
    }
   ],
   "source": [
    "labels_map = {\n",
    "    0: \"T-Shirt\",\n",
    "    1: \"Trouser\",\n",
    "    2: \"Pullover\",\n",
    "    3: \"Dress\",\n",
    "    4: \"Coat\",\n",
    "    5: \"Sandal\",\n",
    "    6: \"Shirt\",\n",
    "    7: \"Sneaker\",\n",
    "    8: \"Bag\",\n",
    "    9: \"Ankle Boot\",\n",
    "}\n",
    "figure = plt.figure(figsize=(8, 8))\n",
    "cols, rows = 3, 3\n",
    "for i in range(1, cols * rows + 1):\n",
    "    sample_idx = torch.randint(len(training_data), size=(1,)).item()\n",
    "    img, label = training_data[sample_idx]\n",
    "    pred = model(img)\n",
    "    predicted, actual = labels_map[pred[0].argmax(0).item()], labels_map[y]\n",
    "    figure.add_subplot(rows, cols, i)\n",
    "    plt.title(labels_map[label] + '/' + predicted)\n",
    "    plt.axis(\"off\")\n",
    "    plt.imshow(img.squeeze(), cmap=\"gray\")\n",
    "plt.show()\n"
   ]
  },
  {
   "cell_type": "code",
   "execution_count": null,
   "metadata": {},
   "outputs": [],
   "source": []
  }
 ],
 "metadata": {
  "kernelspec": {
   "display_name": "Python 3",
   "language": "python",
   "name": "python3"
  },
  "language_info": {
   "codemirror_mode": {
    "name": "ipython",
    "version": 3
   },
   "file_extension": ".py",
   "mimetype": "text/x-python",
   "name": "python",
   "nbconvert_exporter": "python",
   "pygments_lexer": "ipython3",
   "version": "3.9.6"
  },
  "orig_nbformat": 4,
  "vscode": {
   "interpreter": {
    "hash": "31f2aee4e71d21fbe5cf8b01ff0e069b9275f58929596ceb00d14d90e3e16cd6"
   }
  }
 },
 "nbformat": 4,
 "nbformat_minor": 2
}
