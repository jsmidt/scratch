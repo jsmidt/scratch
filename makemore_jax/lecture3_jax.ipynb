{
 "cells": [
  {
   "cell_type": "code",
   "execution_count": 301,
   "metadata": {},
   "outputs": [],
   "source": [
    "import jax\n",
    "import jax.numpy as jnp\n",
    "import matplotlib.pyplot as plt\n",
    "import random"
   ]
  },
  {
   "cell_type": "code",
   "execution_count": 302,
   "metadata": {},
   "outputs": [
    {
     "data": {
      "text/plain": [
       "['emma', 'olivia', 'ava', 'isabella', 'sophia', 'charlotte', 'mia', 'amelia']"
      ]
     },
     "execution_count": 302,
     "metadata": {},
     "output_type": "execute_result"
    }
   ],
   "source": [
    "words = open('names.txt', 'r').read().splitlines()\n",
    "words[:8]"
   ]
  },
  {
   "cell_type": "code",
   "execution_count": 303,
   "metadata": {},
   "outputs": [
    {
     "name": "stdout",
     "output_type": "stream",
     "text": [
      "{1: 'a', 2: 'b', 3: 'c', 4: 'd', 5: 'e', 6: 'f', 7: 'g', 8: 'h', 9: 'i', 10: 'j', 11: 'k', 12: 'l', 13: 'm', 14: 'n', 15: 'o', 16: 'p', 17: 'q', 18: 'r', 19: 's', 20: 't', 21: 'u', 22: 'v', 23: 'w', 24: 'x', 25: 'y', 26: 'z', 0: '.'}\n",
      "27\n"
     ]
    }
   ],
   "source": [
    "# build the vocapbulary of charactors mapping to/from integers\n",
    "chars = sorted(list(set(''.join(words))))\n",
    "stoi = {s:i+1 for i,s in enumerate(chars)}\n",
    "stoi['.'] = 0\n",
    "itos = {i:s for s, i in stoi.items()}\n",
    "vocab_size = len(itos)\n",
    "print (itos)\n",
    "print(vocab_size)"
   ]
  },
  {
   "cell_type": "code",
   "execution_count": 304,
   "metadata": {},
   "outputs": [
    {
     "name": "stdout",
     "output_type": "stream",
     "text": [
      "(182625, 3) (182625,)\n",
      "(22655, 3) (22655,)\n",
      "(22866, 3) (22866,)\n"
     ]
    }
   ],
   "source": [
    "block_size = 3\n",
    "\n",
    "def build_dataset(words):\n",
    "    X, Y = [], []\n",
    "\n",
    "    for w in words:\n",
    "        context = [0] * block_size\n",
    "        for ch in w + '.':\n",
    "            ix = stoi[ch]\n",
    "            X.append(context)\n",
    "            Y.append(ix)\n",
    "            context = context[1:] + [ix]\n",
    "\n",
    "    X = jnp.array(X, dtype=jnp.int32)\n",
    "    Y = jnp.array(Y, dtype=jnp.int32)\n",
    "    print(X.shape, Y.shape)\n",
    "    return X, Y\n",
    "\n",
    "\n",
    "random.seed(42)\n",
    "random.shuffle(words)\n",
    "n1 = int(0.8*len(words))\n",
    "n2 = int(0.9*len(words))\n",
    "\n",
    "\n",
    "Xtr, Ytr = build_dataset(words[:n1])  # 80%\n",
    "Xdev, Ydev = build_dataset(words[n1:n2])  # 10%\n",
    "Xte, Yte = build_dataset(words[n2:])  # 10%\n"
   ]
  },
  {
   "cell_type": "code",
   "execution_count": 305,
   "metadata": {},
   "outputs": [
    {
     "name": "stdout",
     "output_type": "stream",
     "text": [
      "Xtr.shape = (182625, 3)\n",
      "C.shape = (27, 10)\n",
      "C[Xtr].shape = (182625, 3, 10)\n"
     ]
    }
   ],
   "source": [
    "# Set master seed and key from beginning\n",
    "seed = 1701\n",
    "key = jax.random.PRNGKey(seed)\n",
    "\n",
    "# MLP Model\n",
    "n_embd = 10\n",
    "n_hidden = 200\n",
    "\n",
    "# Embedding Matrix\n",
    "key, C_key = jax.random.split(key)\n",
    "C = jax.random.normal(C_key, (vocab_size, n_embd), dtype=jnp.float32)\n",
    "\n",
    "# First layer weights\n",
    "key, W1_key, b1_key = jax.random.split(key,num=3)\n",
    "W1 = jax.random.normal(W1_key, (n_embd * block_size, n_hidden), dtype=jnp.float32)/(n_embd * block_size)**0.5\n",
    "b1 = jax.random.normal(b1_key, (n_hidden, ), dtype=jnp.float32)*0.01\n",
    "\n",
    "# Second layer weights\n",
    "key, W2_key, b2_key = jax.random.split(key,num=3)\n",
    "W2 = jax.random.normal(W2_key, (n_hidden, vocab_size), dtype=jnp.float32)/n_hidden**0.5\n",
    "b2 = jax.random.normal(b2_key, (vocab_size, ), dtype=jnp.float32)*0.01\n",
    "\n",
    "#params = [C, W1, b1, W2, b2]\n",
    "params = dict(C=C, W1=W1, b1=b1, W2=W2, b2=b2)\n",
    "\n",
    "#print (params)\n",
    "\n",
    "#print(f'Network parameter size is: {sum(p.size for p in params)}')\n",
    "\n",
    "print(f'{Xtr.shape = }')\n",
    "print(f'{C.shape = }')\n",
    "print(f'{C[Xtr].shape = }')\n"
   ]
  },
  {
   "cell_type": "code",
   "execution_count": 306,
   "metadata": {},
   "outputs": [
    {
     "name": "stdout",
     "output_type": "stream",
     "text": [
      "      0/  40000: loss = 3.3785\n",
      "   2000/  40000: loss = 2.4202\n",
      "   4000/  40000: loss = 2.2946\n",
      "   6000/  40000: loss = 2.2615\n",
      "   8000/  40000: loss = 2.2318\n",
      "  10000/  40000: loss = 2.2174\n",
      "  12000/  40000: loss = 2.2028\n",
      "  14000/  40000: loss = 2.1930\n",
      "  16000/  40000: loss = 2.1895\n",
      "  18000/  40000: loss = 2.1715\n",
      "  20000/  40000: loss = 2.1724\n",
      "  22000/  40000: loss = 2.1141\n",
      "  24000/  40000: loss = 2.1098\n",
      "  26000/  40000: loss = 2.1150\n",
      "  28000/  40000: loss = 2.1200\n",
      "  30000/  40000: loss = 2.1107\n",
      "  32000/  40000: loss = 2.1089\n",
      "  34000/  40000: loss = 2.1081\n",
      "  36000/  40000: loss = 2.1103\n",
      "  38000/  40000: loss = 2.1077\n"
     ]
    }
   ],
   "source": [
    "# Training loop\n",
    "max_steps = 40000\n",
    "batch_size = 64\n",
    "lossi = []\n",
    "\n",
    "\n",
    "def forward(params, X):\n",
    "\n",
    "        # forward pass\n",
    "    emb = params['C'][X]\n",
    "    embcat = emb.reshape(emb.shape[0], -1)\n",
    "\n",
    "    hpreact = embcat @ params['W1'] + params['b1']\n",
    "    #hpreact = bngain*(hpreact - bnmeanr)/bnstdr + bnbias\n",
    "\n",
    "    h = jnp.tanh(hpreact)\n",
    "    logits = h @ params['W2'] + params['b2']\n",
    "    return logits\n",
    "\n",
    "def softmax_cross_entropy(logits,targets):\n",
    "   \n",
    "    # Get Log probabilities \n",
    "    lprobs = jax.nn.log_softmax(logits)\n",
    "    \n",
    "    # Average loss per target\n",
    "    loss = -jnp.mean(lprobs[jnp.arange(logits.shape[0]), targets])\n",
    "\n",
    "    return loss\n",
    "\n",
    "\n",
    "def get_loss(params, X, Y, regularization=True):\n",
    "\n",
    "    # Get logits\n",
    "    logits = forward(params, X)\n",
    "    \n",
    "    \n",
    "    # Get loss\n",
    "    loss = softmax_cross_entropy(logits, Y) \n",
    "\n",
    "    if regularization == True:\n",
    "        pen = 0.00001\n",
    "        loss += pen*jnp.sum(params['W1']**2) + pen*jnp.sum(params['W1']**2)\n",
    "\n",
    "    return loss\n",
    "\n",
    "    \n",
    "\n",
    "for i in range(max_steps):\n",
    "\n",
    "    # minibatch construct\n",
    "    key, ix_key = jax.random.split(key)\n",
    "    ix = jax.random.randint(ix_key, (batch_size, ),\n",
    "                            minval=0, maxval=Xtr.shape[0], dtype=jnp.int32)\n",
    "    Xb, Yb = Xtr[ix], Ytr[ix]\n",
    "\n",
    "    loss = get_loss(params, Xb, Yb)\n",
    "\n",
    "    grads = jax.grad(get_loss)(params, Xb, Yb)\n",
    "\n",
    "    #loss = -jnp.mean(loss1[jnp.arange(Xb.shape[0], Yb)])\n",
    "\n",
    "    lr = 0.1 if i < max_steps/2 else 0.01\n",
    "    params = jax.tree_map(lambda p, g: p - lr * g, params, grads)\n",
    "\n",
    "\n",
    "    NN = int(max_steps/20)\n",
    "    lossi.append(loss)\n",
    "    if i % NN == 0:\n",
    "        aloss = jnp.mean(jnp.array(lossi[-NN:]))\n",
    "        print(f'{i:7d}/{max_steps:7d}: loss = {aloss:.4f}')\n",
    "\n",
    "\n",
    "    #break\n"
   ]
  },
  {
   "cell_type": "code",
   "execution_count": 309,
   "metadata": {},
   "outputs": [
    {
     "name": "stdout",
     "output_type": "stream",
     "text": [
      "train loss = 2.0966\n",
      "val   loss = 2.1314\n"
     ]
    }
   ],
   "source": [
    "def split_loss(split):\n",
    "    x, y = {\n",
    "        'train': (Xtr, Ytr),\n",
    "        'val': (Xdev, Ydev),\n",
    "        'test': (Xte, Yte)\n",
    "    }[split]\n",
    "\n",
    "    # forward pass\n",
    "    emb = params['C'][x]\n",
    "    embcat = emb.reshape(emb.shape[0], -1)\n",
    "\n",
    "    hpreact = embcat @ params['W1'] + params['b1']\n",
    "    #hpreact = bngain*(hpreact - bnmeanr)/bnstdr + bnbias\n",
    "\n",
    "    h = jnp.tanh(hpreact)\n",
    "    logits = h @ params['W2'] + params['b2']\n",
    "    loss = softmax_cross_entropy(logits,y)\n",
    "    \n",
    "    print(f'{split:5s} loss = {loss.item():.4f}')\n",
    "\n",
    "\n",
    "split_loss('train')\n",
    "split_loss('val')"
   ]
  },
  {
   "cell_type": "code",
   "execution_count": 308,
   "metadata": {},
   "outputs": [
    {
     "name": "stdout",
     "output_type": "stream",
     "text": [
      "koeanleynne.\n",
      "stel.\n",
      "arwi.\n",
      "sanie.\n",
      "elszin.\n",
      "kayneya.\n",
      "bena.\n",
      "jamyike.\n",
      "holy.\n",
      "kaieana.\n",
      "peanahani.\n",
      "emahonielilan.\n",
      "hcce.\n",
      "eleslynn.\n",
      "cohiefe.\n",
      "ghon.\n",
      "cani.\n",
      "carrossiyah.\n",
      "hilah.\n",
      "chris.\n"
     ]
    }
   ],
   "source": [
    "seed = 42\n",
    "key = jax.random.PRNGKey(seed)\n",
    "\n",
    "\n",
    "for _ in range(20):\n",
    "\n",
    "    out = []\n",
    "    context = [0] * block_size\n",
    "    while True:\n",
    "        \n",
    "        logits = forward(params, jnp.array([context]))\n",
    "\n",
    "        key, ix_key = jax.random.split(key)\n",
    "        ix = jax.random.categorical(ix_key,logits).item()\n",
    "\n",
    "        # Uniform logits to compare with\n",
    "        #ix = jax.random.categorical(ix_key,jnp.ones(logits.shape)).item()\n",
    "\n",
    "        context = context[1:] + [ix]\n",
    "        out.append(ix)\n",
    "        \n",
    "        if ix == 0:\n",
    "            break\n",
    "    \n",
    "    print(''.join(itos[i] for i in out))\n",
    "\n",
    "\n"
   ]
  },
  {
   "cell_type": "code",
   "execution_count": null,
   "metadata": {},
   "outputs": [],
   "source": []
  }
 ],
 "metadata": {
  "kernelspec": {
   "display_name": "Python 3",
   "language": "python",
   "name": "python3"
  },
  "language_info": {
   "codemirror_mode": {
    "name": "ipython",
    "version": 3
   },
   "file_extension": ".py",
   "mimetype": "text/x-python",
   "name": "python",
   "nbconvert_exporter": "python",
   "pygments_lexer": "ipython3",
   "version": "3.9.6"
  },
  "orig_nbformat": 4,
  "vscode": {
   "interpreter": {
    "hash": "31f2aee4e71d21fbe5cf8b01ff0e069b9275f58929596ceb00d14d90e3e16cd6"
   }
  }
 },
 "nbformat": 4,
 "nbformat_minor": 2
}
