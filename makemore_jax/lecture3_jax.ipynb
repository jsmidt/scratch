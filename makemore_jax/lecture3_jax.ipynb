{
 "cells": [
  {
   "cell_type": "code",
   "execution_count": 301,
   "metadata": {},
   "outputs": [],
   "source": [
    "import jax\n",
    "import jax.numpy as jnp\n",
    "import matplotlib.pyplot as plt\n",
    "import random"
   ]
  },
  {
   "cell_type": "code",
   "execution_count": 302,
   "metadata": {},
   "outputs": [
    {
     "data": {
      "text/plain": [
       "['emma', 'olivia', 'ava', 'isabella', 'sophia', 'charlotte', 'mia', 'amelia']"
      ]
     },
     "execution_count": 302,
     "metadata": {},
     "output_type": "execute_result"
    }
   ],
   "source": [
    "words = open('names.txt', 'r').read().splitlines()\n",
    "words[:8]"
   ]
  },
  {
   "cell_type": "code",
   "execution_count": 303,
   "metadata": {},
   "outputs": [
    {
     "name": "stdout",
     "output_type": "stream",
     "text": [
      "{1: 'a', 2: 'b', 3: 'c', 4: 'd', 5: 'e', 6: 'f', 7: 'g', 8: 'h', 9: 'i', 10: 'j', 11: 'k', 12: 'l', 13: 'm', 14: 'n', 15: 'o', 16: 'p', 17: 'q', 18: 'r', 19: 's', 20: 't', 21: 'u', 22: 'v', 23: 'w', 24: 'x', 25: 'y', 26: 'z', 0: '.'}\n",
      "27\n"
     ]
    }
   ],
   "source": [
    "# build the vocapbulary of charactors mapping to/from integers\n",
    "chars = sorted(list(set(''.join(words))))\n",
    "stoi = {s:i+1 for i,s in enumerate(chars)}\n",
    "stoi['.'] = 0\n",
    "itos = {i:s for s, i in stoi.items()}\n",
    "vocab_size = len(itos)\n",
    "print (itos)\n",
    "print(vocab_size)"
   ]
  },
  {
   "cell_type": "code",
   "execution_count": 304,
   "metadata": {},
   "outputs": [
    {
     "name": "stdout",
     "output_type": "stream",
     "text": [
      "(182625, 3) (182625,)\n",
      "(22655, 3) (22655,)\n",
      "(22866, 3) (22866,)\n"
     ]
    }
   ],
   "source": [
    "block_size = 3\n",
    "\n",
    "def build_dataset(words):\n",
    "    X, Y = [], []\n",
    "\n",
    "    for w in words:\n",
    "        context = [0] * block_size\n",
    "        for ch in w + '.':\n",
    "            ix = stoi[ch]\n",
    "            X.append(context)\n",
    "            Y.append(ix)\n",
    "            context = context[1:] + [ix]\n",
    "\n",
    "    X = jnp.array(X, dtype=jnp.int32)\n",
    "    Y = jnp.array(Y, dtype=jnp.int32)\n",
    "    print(X.shape, Y.shape)\n",
    "    return X, Y\n",
    "\n",
    "\n",
    "random.seed(42)\n",
    "random.shuffle(words)\n",
    "n1 = int(0.8*len(words))\n",
    "n2 = int(0.9*len(words))\n",
    "\n",
    "\n",
    "Xtr, Ytr = build_dataset(words[:n1])  # 80%\n",
    "Xdev, Ydev = build_dataset(words[n1:n2])  # 10%\n",
    "Xte, Yte = build_dataset(words[n2:])  # 10%\n"
   ]
  },
  {
   "cell_type": "code",
   "execution_count": 305,
   "metadata": {},
   "outputs": [
    {
     "name": "stdout",
     "output_type": "stream",
     "text": [
      "Xtr.shape = (182625, 3)\n",
      "C.shape = (27, 10)\n",
      "C[Xtr].shape = (182625, 3, 10)\n"
     ]
    }
   ],
   "source": [
    "# Set master seed and key from beginning\n",
    "seed = 1701\n",
    "key = jax.random.PRNGKey(seed)\n",
    "\n",
    "# MLP Model\n",
    "n_embd = 10\n",
    "n_hidden = 200\n",
    "\n",
    "# Embedding Matrix\n",
    "key, C_key = jax.random.split(key)\n",
    "C = jax.random.normal(C_key, (vocab_size, n_embd), dtype=jnp.float32)\n",
    "\n",
    "# First layer weights\n",
    "key, W1_key, b1_key = jax.random.split(key,num=3)\n",
    "W1 = jax.random.normal(W1_key, (n_embd * block_size, n_hidden), dtype=jnp.float32)/(n_embd * block_size)**0.5\n",
    "b1 = jax.random.normal(b1_key, (n_hidden, ), dtype=jnp.float32)*0.01\n",
    "\n",
    "# Second layer weights\n",
    "key, W2_key, b2_key = jax.random.split(key,num=3)\n",
    "W2 = jax.random.normal(W2_key, (n_hidden, vocab_size), dtype=jnp.float32)/n_hidden**0.5\n",
    "b2 = jax.random.normal(b2_key, (vocab_size, ), dtype=jnp.float32)*0.01\n",
    "\n",
    "#params = [C, W1, b1, W2, b2]\n",
    "params = dict(C=C, W1=W1, b1=b1, W2=W2, b2=b2)\n",
    "\n",
    "#print (params)\n",
    "\n",
    "#print(f'Network parameter size is: {sum(p.size for p in params)}')\n",
    "\n",
    "print(f'{Xtr.shape = }')\n",
    "print(f'{C.shape = }')\n",
    "print(f'{C[Xtr].shape = }')\n"
   ]
  },
  {
   "cell_type": "code",
   "execution_count": 306,
   "metadata": {},
   "outputs": [
    {
     "name": "stdout",
     "output_type": "stream",
     "text": [
      "      0/  40000: loss = 3.3785\n",
      "   2000/  40000: loss = 2.4202\n",
      "   4000/  40000: loss = 2.2946\n",
      "   6000/  40000: loss = 2.2615\n",
      "   8000/  40000: loss = 2.2318\n",
      "  10000/  40000: loss = 2.2174\n",
      "  12000/  40000: loss = 2.2028\n",
      "  14000/  40000: loss = 2.1930\n",
      "  16000/  40000: loss = 2.1895\n",
      "  18000/  40000: loss = 2.1715\n",
      "  20000/  40000: loss = 2.1724\n",
      "  22000/  40000: loss = 2.1141\n",
      "  24000/  40000: loss = 2.1098\n",
      "  26000/  40000: loss = 2.1150\n",
      "  28000/  40000: loss = 2.1200\n",
      "  30000/  40000: loss = 2.1107\n",
      "  32000/  40000: loss = 2.1089\n",
      "  34000/  40000: loss = 2.1081\n",
      "  36000/  40000: loss = 2.1103\n",
      "  38000/  40000: loss = 2.1077\n"
     ]
    }
   ],
   "source": [
    "# Training loop\n",
    "max_steps = 40000\n",
    "batch_size = 64\n",
    "lossi = []\n",
    "\n",
    "\n",
    "def forward(params, X):\n",
    "\n",
    "        # forward pass\n",
    "    emb = params['C'][X]\n",
    "    embcat = emb.reshape(emb.shape[0], -1)\n",
    "\n",
    "    hpreact = embcat @ params['W1'] + params['b1']\n",
    "    #hpreact = bngain*(hpreact - bnmeanr)/bnstdr + bnbias\n",
    "\n",
    "    h = jnp.tanh(hpreact)\n",
    "    logits = h @ params['W2'] + params['b2']\n",
    "    return logits\n",
    "\n",
    "def softmax_cross_entropy(logits,targets):\n",
    "   \n",
    "    # Get Log probabilities \n",
    "    lprobs = jax.nn.log_softmax(logits)\n",
    "    \n",
    "    # Average loss per target\n",
    "    loss = -jnp.mean(lprobs[jnp.arange(logits.shape[0]), targets])\n",
    "\n",
    "    return loss\n",
    "\n",
    "\n",
    "def get_loss(params, X, Y, regularization=True):\n",
    "\n",
    "    # Get logits\n",
    "    logits = forward(params, X)\n",
    "    \n",
    "    \n",
    "    # Get loss\n",
    "    loss = softmax_cross_entropy(logits, Y) \n",
    "\n",
    "    if regularization == True:\n",
    "        pen = 0.00001\n",
    "        loss += pen*jnp.sum(params['W1']**2) + pen*jnp.sum(params['W1']**2)\n",
    "\n",
    "    return loss\n",
    "\n",
    "    \n",
    "\n",
    "for i in range(max_steps):\n",
    "\n",
    "    # minibatch construct\n",
    "    key, ix_key = jax.random.split(key)\n",
    "    ix = jax.random.randint(ix_key, (batch_size, ),\n",
    "                            minval=0, maxval=Xtr.shape[0], dtype=jnp.int32)\n",
    "    Xb, Yb = Xtr[ix], Ytr[ix]\n",
    "\n",
    "    loss = get_loss(params, Xb, Yb)\n",
    "\n",
    "    grads = jax.grad(get_loss)(params, Xb, Yb)\n",
    "\n",
    "    #loss = -jnp.mean(loss1[jnp.arange(Xb.shape[0], Yb)])\n",
    "\n",
    "    lr = 0.1 if i < max_steps/2 else 0.01\n",
    "    params = jax.tree_map(lambda p, g: p - lr * g, params, grads)\n",
    "\n",
    "\n",
    "    NN = int(max_steps/20)\n",
    "    lossi.append(loss)\n",
    "    if i % NN == 0:\n",
    "        aloss = jnp.mean(jnp.array(lossi[-NN:]))\n",
    "        print(f'{i:7d}/{max_steps:7d}: loss = {aloss:.4f}')\n",
    "\n",
    "\n",
    "    #break\n"
   ]
  },
  {
   "cell_type": "code",
   "execution_count": 309,
   "metadata": {},
   "outputs": [
    {
     "name": "stdout",
     "output_type": "stream",
     "text": [
      "train loss = 2.0966\n",
      "val   loss = 2.1314\n"
     ]
    }
   ],
   "source": [
    "def split_loss(split):\n",
    "    x, y = {\n",
    "        'train': (Xtr, Ytr),\n",
    "        'val': (Xdev, Ydev),\n",
    "        'test': (Xte, Yte)\n",
    "    }[split]\n",
    "\n",
    "    # forward pass\n",
    "    emb = params['C'][x]\n",
    "    embcat = emb.reshape(emb.shape[0], -1)\n",
    "\n",
    "    hpreact = embcat @ params['W1'] + params['b1']\n",
    "    #hpreact = bngain*(hpreact - bnmeanr)/bnstdr + bnbias\n",
    "\n",
    "    h = jnp.tanh(hpreact)\n",
    "    logits = h @ params['W2'] + params['b2']\n",
    "    loss = softmax_cross_entropy(logits,y)\n",
    "    \n",
    "    print(f'{split:5s} loss = {loss.item():.4f}')\n",
    "\n",
    "\n",
    "split_loss('train')\n",
    "split_loss('val')"
   ]
  },
  {
   "cell_type": "code",
   "execution_count": 308,
   "metadata": {},
   "outputs": [
    {
     "name": "stdout",
     "output_type": "stream",
     "text": [
      "koeanleynne.\n",
      "stel.\n",
      "arwi.\n",
      "sanie.\n",
      "elszin.\n",
      "kayneya.\n",
      "bena.\n",
      "jamyike.\n",
      "holy.\n",
      "kaieana.\n",
      "peanahani.\n",
      "emahonielilan.\n",
      "hcce.\n",
      "eleslynn.\n",
      "cohiefe.\n",
      "ghon.\n",
      "cani.\n",
      "carrossiyah.\n",
      "hilah.\n",
      "chris.\n"
     ]
    }
   ],
   "source": [
    "seed = 42\n",
    "key = jax.random.PRNGKey(seed)\n",
    "\n",
    "\n",
    "for _ in range(20):\n",
    "\n",
    "    out = []\n",
    "    context = [0] * block_size\n",
    "    while True:\n",
    "        \n",
    "        logits = forward(params, jnp.array([context]))\n",
    "\n",
    "        key, ix_key = jax.random.split(key)\n",
    "        ix = jax.random.categorical(ix_key,logits).item()\n",
    "\n",
    "        # Uniform logits to compare with\n",
    "        #ix = jax.random.categorical(ix_key,jnp.ones(logits.shape)).item()\n",
    "\n",
    "        context = context[1:] + [ix]\n",
    "        out.append(ix)\n",
    "        \n",
    "        if ix == 0:\n",
    "            break\n",
    "    \n",
    "    print(''.join(itos[i] for i in out))\n",
    "\n",
    "\n"
   ]
  },
  {
   "cell_type": "code",
   "execution_count": null,
   "metadata": {},
   "outputs": [],
   "source": []
  },
  {
   "cell_type": "code",
   "execution_count": 313,
   "metadata": {},
   "outputs": [
    {
     "data": {
      "image/png": "[encoded data removed]",
      "text/plain": [
       "<Figure size 640x480 with 1 Axes>"
      ]
     },
     "metadata": {},
     "output_type": "display_data"
    }
   ],
   "source": [
    "key, x_key = jax.random.split(key)\n",
    "xs = jax.random.normal(x_key, (100,), dtype=jnp.float32)\n",
    "\n",
    "key, n_key = jax.random.split(key)\n",
    "noise = jax.random.normal(n_key, (100,), dtype=jnp.float32)*0.1\n",
    "ys = xs * 3 - 1 + noise\n",
    "\n",
    "plt.scatter(xs, ys);"
   ]
  },
  {
   "cell_type": "code",
   "execution_count": 335,
   "metadata": {},
   "outputs": [
    {
     "name": "stdout",
     "output_type": "stream",
     "text": [
      "w: 3.01, b: -1.00\n"
     ]
    },
    {
     "data": {
      "image/png": "[encoded data removed]",
      "text/plain": [
       "<Figure size 640x480 with 1 Axes>"
      ]
     },
     "metadata": {},
     "output_type": "display_data"
    }
   ],
   "source": [
    "def model(theta, x):\n",
    "  \"\"\"Computes wx + b on a batch of input x.\"\"\"\n",
    "  w, b = theta\n",
    "  return w * x + b\n",
    "\n",
    "def loss_fn(theta, x, y):\n",
    "  prediction = model(theta, x)\n",
    "  return jnp.mean((prediction-y)**2)\n",
    "\n",
    "def update(theta, x, y, lr=0.1):\n",
    "  return theta - lr * jax.grad(loss_fn)(theta, x, y)\n",
    "\n",
    "theta = jnp.array([1., 1.])\n",
    "\n",
    "for _ in range(1000):\n",
    "  theta = update(theta, xs, ys)\n",
    "\n",
    "plt.scatter(xs, ys)\n",
    "plt.plot(xs, model(theta, xs))\n",
    "\n",
    "w, b = theta\n",
    "print(f\"w: {w:<.2f}, b: {b:<.2f}\")\n"
   ]
  },
  {
   "cell_type": "code",
   "execution_count": 342,
   "metadata": {},
   "outputs": [
    {
     "name": "stdout",
     "output_type": "stream",
     "text": [
      "w: 3.01, b: -1.00\n"
     ]
    },
    {
     "data": {
      "image/png": "[encoded data removed]",
      "text/plain": [
       "<Figure size 640x480 with 1 Axes>"
      ]
     },
     "metadata": {},
     "output_type": "display_data"
    }
   ],
   "source": [
    "class Linear:\n",
    "    def __init__(self):\n",
    "        self.w = 1.0\n",
    "        self.b = 1.0\n",
    "\n",
    "    def params(self):\n",
    "        return jnp.array([self.w, self.b])\n",
    "\n",
    "    def __call__(self,params,x):\n",
    "        w, b = params\n",
    "        return w * x + b\n",
    "\n",
    "    def loss_fn(self,params, x, y):\n",
    "        prediction = self(params, x)\n",
    "        return jnp.mean((prediction-y)**2)\n",
    "\n",
    "    def update(self, params, x, y, lr=0.1):\n",
    " \n",
    "        return params - lr*jax.grad(self.loss_fn)(params, x, y)\n",
    "\n",
    "\n",
    "\n",
    "lin1 = Linear()\n",
    "params = lin1.params()\n",
    "params\n",
    "for _ in range(1000):\n",
    "  params = lin1.update(params, xs, ys)\n",
    "\n",
    "plt.scatter(xs, ys)\n",
    "plt.plot(xs, lin1(params, xs),'C1-')\n",
    "\n",
    "w, b = params\n",
    "print(f\"w: {w:<.2f}, b: {b:<.2f}\")"
   ]
  },
  {
   "cell_type": "code",
   "execution_count": 423,
   "metadata": {},
   "outputs": [
    {
     "name": "stdout",
     "output_type": "stream",
     "text": [
      "weight shape:  (1, 128)\n",
      "weight shape:  (128, 128)\n",
      "weight shape:  (1, 128)\n",
      "weight shape:  (128, 128)\n"
     ]
    },
    {
     "data": {
      "image/png": "[encoded data removed]",
      "text/plain": [
       "<Figure size 640x480 with 1 Axes>"
      ]
     },
     "metadata": {},
     "output_type": "display_data"
    }
   ],
   "source": [
    "import numpy as np\n",
    "\n",
    "def init_mlp_params(layer_widths):\n",
    "  params = []\n",
    "  for n_in, n_out in zip(layer_widths[:-1], layer_widths[1:]):\n",
    "    params.append(\n",
    "        dict(weights=np.random.normal(size=(n_in, n_out)) * np.sqrt(2/n_in),\n",
    "             biases=np.ones(shape=(n_out,))\n",
    "            )\n",
    "    )\n",
    "  return params\n",
    "\n",
    "params = init_mlp_params([1, 128, 128, 1])\n",
    "\n",
    "def forward(params, x):\n",
    "  *hidden, last = params\n",
    "  for layer in hidden:\n",
    "    print ('weight shape: ', layer['weights'].shape)\n",
    "    x = jax.nn.relu(x @ layer['weights'] + layer['biases'])\n",
    "  return x @ last['weights'] + last['biases']\n",
    "\n",
    "def loss_fn(params, x, y):\n",
    "  return jnp.mean((forward(params, x) - y) ** 2)\n",
    "\n",
    "LEARNING_RATE = 0.0001\n",
    "\n",
    "@jax.jit\n",
    "def update(params, x, y):\n",
    "\n",
    "  grads = jax.grad(loss_fn)(params, x, y)\n",
    "  # Note that `grads` is a pytree with the same structure as `params`.\n",
    "  # `jax.grad` is one of the many JAX functions that has\n",
    "  # built-in support for pytrees.\n",
    "\n",
    "  # This is handy, because we can apply the SGD update using tree utils:\n",
    "  return jax.tree_map(\n",
    "      lambda p, g: p - LEARNING_RATE * g, params, grads\n",
    "  )\n",
    "\n",
    "  import matplotlib.pyplot as plt\n",
    "\n",
    "xs = np.random.normal(size=(128, 1))\n",
    "ys = xs ** 2\n",
    "\n",
    "for _ in range(10000):\n",
    "  params = update(params, xs, ys)\n",
    "\n",
    "plt.scatter(xs, ys)\n",
    "plt.scatter(xs, forward(params, xs), label='Model prediction')\n",
    "plt.legend();"
   ]
  },
  {
   "cell_type": "code",
   "execution_count": 356,
   "metadata": {},
   "outputs": [
    {
     "data": {
      "text/plain": [
       "Array([2155871949, 1453605664], dtype=uint32)"
      ]
     },
     "execution_count": 356,
     "metadata": {},
     "output_type": "execute_result"
    }
   ],
   "source": [
    "key"
   ]
  },
  {
   "cell_type": "code",
   "execution_count": 576,
   "metadata": {},
   "outputs": [
    {
     "name": "stdout",
     "output_type": "stream",
     "text": [
      "Model layer 0 has params: ['weights', 'bias']\n",
      "Model layer 1 has params: ['p']\n",
      "Model layer 2 has params: ['weights', 'bias']\n",
      "Model layer 3 has params: ['p']\n",
      "Model layer 4 has params: ['weights', 'bias']\n"
     ]
    },
    {
     "data": {
      "text/plain": [
       "<matplotlib.legend.Legend at 0x2a979e880>"
      ]
     },
     "execution_count": 576,
     "metadata": {},
     "output_type": "execute_result"
    },
    {
     "data": {
      "image/png": "[encoded data removed]",
      "text/plain": [
       "<Figure size 640x480 with 1 Axes>"
      ]
     },
     "metadata": {},
     "output_type": "display_data"
    }
   ],
   "source": [
    "# Solve Jax example problem with model and layer classes\n",
    "\n",
    "class Linear:\n",
    "    def __init__(self, fan_in, fan_out, bias=True):\n",
    "        # State of layer\n",
    "        self.fan_in = fan_in\n",
    "        self.fan_out = fan_out\n",
    "        self.bias = bias\n",
    "\n",
    "    def init(self, key):\n",
    "\n",
    "        key, w_key, b_key = jax.random.split(key, num=3)\n",
    "\n",
    "        # The Weight matrix should be (fan_out, fan_in) and the linear\n",
    "        # product should be x*W.T + b. However, W.T is indistiguishable\n",
    "        # from W(fan_in, fan_out) at initialization time. So init as such.\n",
    "        w = jax.random.normal(w_key, (self.fan_in, self.fan_out),\n",
    "                              dtype=jnp.float32)*(2.0/self.fan_in)**0.5\n",
    "        b = jax.random.normal(b_key, (self.fan_out,),\n",
    "                              dtype=jnp.float32)  # /self.fan_out**0.5\n",
    "\n",
    "        # Layer parameters\n",
    "        params = dict(weights=w, bias=b)\n",
    "\n",
    "        return key, params\n",
    "\n",
    "    # Call for network\n",
    "    def __call__(self, params, X):\n",
    "        self.out = X @ params['weights'] + params['bias']\n",
    "        return self.out\n",
    "\n",
    "class Relu:\n",
    "    def __call__(self, params, x):\n",
    "        self.out = jax.nn.relu(x)\n",
    "        return self.out\n",
    "\n",
    "    def init(self, key):\n",
    "        return key, dict(p = None)\n",
    "\n",
    "\n",
    "# Set master seed and key from beginning\n",
    "seed = 1701\n",
    "key = jax.random.PRNGKey(seed)\n",
    "inits = [1, 128, 128,  1]\n",
    "params = {}\n",
    "net = []\n",
    "\n",
    "n_in = 1\n",
    "n_h = 128\n",
    "n_out = 1\n",
    "\n",
    "layers = [Linear(n_in, n_h), Relu(), Linear(n_h, n_h), Relu(), Linear(n_h, n_out)]\n",
    "\n",
    "\n",
    "\n",
    "\n",
    "for i, layer in enumerate(layers):\n",
    "    key, params[i] = layer.init(key)\n",
    "\n",
    "\n",
    "tot = 0\n",
    "for l in range(len(params)):\n",
    "    print(f'Model layer {l} has params: {list(params[l].keys())}')\n",
    "\n",
    "\n",
    "def forward(params, net, x):\n",
    "\n",
    "    # Put all layers in layers except the last\n",
    "    for i, layer in enumerate(layers):\n",
    "        # print (i, x.shape)\n",
    "        x = layer(params[i], x)\n",
    "\n",
    "    return x\n",
    "\n",
    "\n",
    "def loss_fn(params, net, x, y):\n",
    "    return jnp.mean((forward(params, net, x) - y) ** 2)\n",
    "\n",
    "\n",
    "lr = 0.0001\n",
    "\n",
    "\n",
    "def update(params, net, x, y):\n",
    "\n",
    "    # Get grads\n",
    "    grads = jax.grad(loss_fn)(params, net, x, y)\n",
    "\n",
    "    # Apply the SGD update using tree utils:\n",
    "    return jax.tree_map(lambda p, g: p - lr * g, params, grads)\n",
    "\n",
    "\n",
    "xs = np.random.normal(size=(128, 1))\n",
    "ys = xs ** 2\n",
    "\n",
    "for _ in range(2000):\n",
    "    # print (params[0]['weights'])\n",
    "    params = update(params, net, xs, ys)\n",
    "    # print (params[0]['weights'])\n",
    "\n",
    "plt.scatter(xs, ys)\n",
    "# print (forward(params, net, xs).shape)\n",
    "plt.scatter(xs, forward(params, net, xs), label='Model prediction')\n",
    "plt.legend()\n"
   ]
  },
  {
   "cell_type": "code",
   "execution_count": 625,
   "metadata": {},
   "outputs": [
    {
     "name": "stdout",
     "output_type": "stream",
     "text": [
      "\n",
      "* Layer 0 has params:  (1, 128) weights,  (128,) bias, \n",
      "* Layer 1 has params:  None\n",
      "* Layer 2 has params:  (128, 128) weights,  (128,) bias, \n",
      "* Layer 3 has params:  None\n",
      "* Layer 4 has params:  (128, 128) weights,  (128,) bias, \n",
      "* Layer 5 has params:  None\n",
      "* Layer 6 has params:  (128, 1) weights,  (1,) bias, \n",
      "\n",
      "* A total of 33409 prameters\n",
      "\n",
      "* Epoch:     0/ 1000, loss = 62.73883056640625\n",
      "* Epoch:   100/ 1000, loss = 0.0993121862411499\n",
      "* Epoch:   200/ 1000, loss = 0.05843636393547058\n",
      "* Epoch:   300/ 1000, loss = 0.04256588965654373\n",
      "* Epoch:   400/ 1000, loss = 0.03230884298682213\n",
      "* Epoch:   500/ 1000, loss = 0.025305800139904022\n",
      "* Epoch:   600/ 1000, loss = 0.02054450660943985\n",
      "* Epoch:   700/ 1000, loss = 0.01703464984893799\n",
      "* Epoch:   800/ 1000, loss = 0.014255687594413757\n",
      "* Epoch:   900/ 1000, loss = 0.012241631746292114\n"
     ]
    },
    {
     "data": {
      "image/png": "[encoded data removed]",
      "text/plain": [
       "<Figure size 640x480 with 1 Axes>"
      ]
     },
     "metadata": {},
     "output_type": "display_data"
    }
   ],
   "source": [
    "import matplotlib.pyplot as plt\n",
    "\n",
    "\n",
    "class Linear:\n",
    "    def __init__(self, fan_in, fan_out, bias=True):\n",
    "        # State of layer\n",
    "        self.fan_in = fan_in\n",
    "        self.fan_out = fan_out\n",
    "        self.bias = bias\n",
    "\n",
    "    def init(self, key):\n",
    "\n",
    "        key, w_key, b_key = jax.random.split(key, num=3)\n",
    "\n",
    "        # The Weight matrix should be (fan_out, fan_in) and the linear\n",
    "        # product should be x*W.T + b. However, W.T is indistiguishable\n",
    "        # from W(fan_in, fan_out) at initialization time. So init as such.\n",
    "        w = jax.random.normal(w_key, (self.fan_in, self.fan_out),\n",
    "                              dtype=jnp.float32)*(2.0/self.fan_in)**0.5\n",
    "        b = jax.random.normal(b_key, (self.fan_out,),\n",
    "                              dtype=jnp.float32)  # /self.fan_out**0.5\n",
    "\n",
    "        # Layer parameters\n",
    "        params = dict(weights=w, bias=b)\n",
    "\n",
    "        return key, params\n",
    "\n",
    "    # Call for network\n",
    "    def __call__(self, params, X):\n",
    "        self.out = X @ params['weights'] + params['bias']\n",
    "        return self.out\n",
    "\n",
    "\n",
    "class Relu:\n",
    "    def __call__(self, params, x):\n",
    "        self.out = jax.nn.relu(x)\n",
    "        return self.out\n",
    "\n",
    "    def init(self, key):\n",
    "        return key, dict(p=None)\n",
    "\n",
    "\n",
    "class Model:\n",
    "    def __init__(self, layers):\n",
    "        pass\n",
    "\n",
    "\n",
    "class Sequential(Model):\n",
    "    def __init__(self, layers):\n",
    "        self.layers = layers\n",
    "\n",
    "    def __repr__(self):\n",
    "        my_repr = '\\n'\n",
    "        totl = 0\n",
    "        for l in range(len(params)):\n",
    "            my_repr += f'* Layer {l} has params: '\n",
    "            for key in params[l].keys():\n",
    "                if params[l][key] == None:\n",
    "                    my_repr += f' {params[l][key]}'\n",
    "                else:\n",
    "                    totl += jnp.array(params[l][key]).size\n",
    "                    shape = jnp.array(params[l][key]).shape\n",
    "                    my_repr += f' {shape} {key}, '\n",
    "            my_repr +='\\n'\n",
    "        my_repr += f'\\n* A total of {totl} prameters\\n'\n",
    "        return my_repr\n",
    "\n",
    "    def init(self, key):\n",
    "        for i, layer in enumerate(self.layers):\n",
    "            key, params[i] = layer.init(key)\n",
    "\n",
    "        tot = 0\n",
    "        #for l in range(len(params)):\n",
    "        #    print(f'Model layer {l} has params: {list(params[l].keys())}')\n",
    "\n",
    "        return params\n",
    "\n",
    "    # def forward(self, params, layers, x):\n",
    "    def __call__(self, params, layers, x):\n",
    "\n",
    "        # Put all layers in layers except the last\n",
    "        for i, layer in enumerate(layers):\n",
    "            # print (i, x.shape)\n",
    "            x = layer(params[i], x)\n",
    "\n",
    "        return x\n",
    "\n",
    "    def loss_fn(self, params, layers, x, y):\n",
    "        return jnp.mean((self(params, layers, x) - y) ** 2)\n",
    "\n",
    "    def update(self, params, layers, x, y, lr):\n",
    "\n",
    "        # Get grads\n",
    "        loss, grads = jax.value_and_grad(self.loss_fn)(params, layers, x, y)\n",
    "\n",
    "        # Apply the SGD update using tree utils:\n",
    "        return jax.tree_map(lambda p, g: p - lr * g, params, grads), loss\n",
    "\n",
    "    def train(self, params, x, y, n_steps=1, lr=0.01, ploss=100):\n",
    "        for i in range(n_steps):\n",
    "            params, loss = self.update(params, self.layers, x, y, lr)\n",
    "            if i % ploss == 0:\n",
    "                print (f'* Epoch: {i:5d}/{n_steps:5d}, loss = {loss.item()}')\n",
    "        return params\n",
    "\n",
    "    def apply(self, params, x):\n",
    "        y = self(params, self.layers, x)\n",
    "        return y\n",
    "\n",
    "\n",
    "# Data to fit\n",
    "xs = np.random.normal(size=(128, 1))\n",
    "ys = xs ** 2\n",
    "\n",
    "# Set master seed and key from beginning\n",
    "seed = 1701\n",
    "key = jax.random.PRNGKey(seed)\n",
    "n_i = 1\n",
    "n_h = 128\n",
    "n_o = 1\n",
    "\n",
    "\n",
    "model = Sequential([Linear(n_i, n_h), Relu(),\n",
    "                    Linear(n_h, n_h), Relu(),\n",
    "                    Linear(n_h, n_h), Relu(),\n",
    "                    Linear(n_h, n_out)])\n",
    "params = model.init(key)\n",
    "print (model)\n",
    "params = model.train(params, xs, ys, n_steps=1000, lr=0.0001)\n",
    "y = model.apply(params, xs)\n",
    "\n",
    "plt.scatter(xs, ys)\n",
    "plt.scatter(xs, y, label='Model prediction')\n",
    "plt.legend();\n"
   ]
  },
  {
   "cell_type": "code",
   "execution_count": null,
   "metadata": {},
   "outputs": [],
   "source": []
  },
  {
   "cell_type": "code",
   "execution_count": 351,
   "metadata": {},
   "outputs": [
    {
     "name": "stdout",
     "output_type": "stream",
     "text": [
      "0 1\n",
      "1 128\n",
      "2 128\n"
     ]
    }
   ],
   "source": [
    "class Linear:\n",
    "    def __init__(self, key, fan_in, fan_out, bias=True):\n",
    "        # State of layer\n",
    "        self.key = key\n",
    "        key, w_key, b_key = jax.random.split(self.key, num=3)\n",
    "\n",
    "        # Weights of layer\n",
    "        self.w = jax.random.normal(\n",
    "            w_key, (fan_out, fan_in), dtype=jnp.float32)/fan_in**0.5\n",
    "        self.b = jax.random.normal(w_key, (fan_out,), dtype=jnp.float32)*0.01\n",
    "\n",
    "    # Layer parameters\n",
    "    def params(self):\n",
    "        params = dict(weights=self.w, bias=self.b)\n",
    "        return params\n",
    "\n",
    "    # Call for network\n",
    "    def __call__(self, params, X):\n",
    "        self.out = params['weights'] @ X + params['bias']\n",
    "        return self.out\n",
    "\n",
    "\n",
    "\n",
    "inits = [1, 128, 128, 1]\n",
    "for i, n_in in enumerate(inits[:-1]):\n",
    "    \n",
    "    print (i, n_in)\n",
    "\n",
    "\n",
    "\n",
    "\n",
    "\n",
    "'''\n",
    "\n",
    "layer1 = Linear()\n",
    "\n",
    "def forward(params, x):\n",
    "  *hidden, last = params\n",
    "  for layer in hidden:\n",
    "    x = jax.nn.relu(x @ layer['weights'] + layer['biases'])\n",
    "  return x @ last['weights'] + last['biases']\n",
    "\n",
    "def loss_fn(params, x, y):\n",
    "  return jnp.mean((forward(params, x) - y) ** 2)\n",
    "\n",
    "LEARNING_RATE = 0.0001\n",
    "\n",
    "@jax.jit\n",
    "def update(params, x, y):\n",
    "\n",
    "  grads = jax.grad(loss_fn)(params, x, y)\n",
    "  # Note that `grads` is a pytree with the same structure as `params`.\n",
    "  # `jax.grad` is one of the many JAX functions that has\n",
    "  # built-in support for pytrees.\n",
    "\n",
    "  # This is handy, because we can apply the SGD update using tree utils:\n",
    "  return jax.tree_map(\n",
    "      lambda p, g: p - LEARNING_RATE * g, params, grads\n",
    "  )\n",
    "\n",
    "  import matplotlib.pyplot as plt\n",
    "\n",
    "xs = np.random.normal(size=(128, 1))\n",
    "ys = xs ** 2\n",
    "\n",
    "for _ in range(1000):\n",
    "  params = update(params, xs, ys)\n",
    "\n",
    "plt.scatter(xs, ys)\n",
    "plt.scatter(xs, forward(params, xs), label='Model prediction')\n",
    "plt.legend();\n",
    "''';\n",
    "\n"
   ]
  },
  {
   "cell_type": "code",
   "execution_count": 346,
   "metadata": {},
   "outputs": [
    {
     "name": "stdout",
     "output_type": "stream",
     "text": [
      "{'w': 1, 'b': 2}\n"
     ]
    }
   ],
   "source": [
    "w = 1\n",
    "b = 2\n",
    "p = {'w':w, 'b':b}\n",
    "print (p)"
   ]
  },
  {
   "cell_type": "code",
   "execution_count": null,
   "metadata": {},
   "outputs": [],
   "source": [
    "for i in range(10):\n",
    "    "
   ]
  }
 ],
 "metadata": {
  "kernelspec": {
   "display_name": "Python 3",
   "language": "python",
   "name": "python3"
  },
  "language_info": {
   "codemirror_mode": {
    "name": "ipython",
    "version": 3
   },
   "file_extension": ".py",
   "mimetype": "text/x-python",
   "name": "python",
   "nbconvert_exporter": "python",
   "pygments_lexer": "ipython3",
   "version": "3.9.6"
  },
  "orig_nbformat": 4,
  "vscode": {
   "interpreter": {
    "hash": "31f2aee4e71d21fbe5cf8b01ff0e069b9275f58929596ceb00d14d90e3e16cd6"
   }
  }
 },
 "nbformat": 4,
 "nbformat_minor": 2
}
