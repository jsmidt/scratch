{
 "cells": [
  {
   "cell_type": "code",
   "execution_count": 4,
   "metadata": {},
   "outputs": [],
   "source": [
    "import jax\n",
    "import jax.numpy as jnp\n",
    "import myjax.nn as nn\n",
    "import myjax.optim as optim\n",
    "from myjax.utils import Dataset, DataLoader\n",
    "import matplotlib.pyplot as plt"
   ]
  },
  {
   "cell_type": "code",
   "execution_count": 5,
   "metadata": {},
   "outputs": [],
   "source": [
    "def mse_loss(input, target):\n",
    "    return jnp.mean((input-target)**2)\n",
    "\n",
    "\n",
    "class MyModel(nn.Model):\n",
    "    def __init__(self) -> None:\n",
    "        super().__init__()\n",
    "        self.model = nn.Sequential([nn.Linear(1, 128), nn.Relu(),\n",
    "                                    nn.Linear(128, 128), nn.Relu(), nn.Linear(128, 1)])\n",
    "\n",
    "    def training_step(self, params, batch):\n",
    "        # MSE Loss\n",
    "        x, y = batch\n",
    "        # print (params)\n",
    "        y_hat = self.model(params, x)\n",
    "        loss = mse_loss(y_hat, y)\n",
    "        return loss\n",
    "\n",
    "    def configure_optimizers(self):\n",
    "        sgd = optim.SGD(learning_rate=0.03)\n",
    "        return sgd\n"
   ]
  },
  {
   "cell_type": "code",
   "execution_count": 7,
   "metadata": {},
   "outputs": [
    {
     "name": "stdout",
     "output_type": "stream",
     "text": [
      "\n",
      "The model is: \n",
      "Sequential(\n",
      "  (0): Linear(in_features=1, out_features=128, bias=True), Total parameters: 256, \n",
      "  (1): Relu(), Total parameters: 0, \n",
      "  (2): Linear(in_features=128, out_features=128, bias=True), Total parameters: 16512, \n",
      "  (3): Relu(), Total parameters: 0, \n",
      "  (4): Linear(in_features=128, out_features=1, bias=True), Total parameters: 129, \n",
      ")\n",
      "Total parameters: 16897\n",
      "\n",
      "Epoch (    0/  500) train_loss = 13.015\n",
      "Epoch (  100/  500) train_loss = 0.062085\n",
      "Epoch (  200/  500) train_loss = 0.03716\n",
      "Epoch (  300/  500) train_loss = 0.059469\n",
      "Epoch (  400/  500) train_loss = 0.035542\n",
      "Epoch (  500/  500) train_loss = 0.010791\n"
     ]
    },
    {
     "data": {
      "image/png": "[encoded data removed]",
      "text/plain": [
       "<Figure size 640x480 with 1 Axes>"
      ]
     },
     "metadata": {},
     "output_type": "display_data"
    }
   ],
   "source": [
    "# Random data for testing\n",
    "seed = 1701\n",
    "key = jax.random.PRNGKey(seed)\n",
    "key, x_key, n_key = jax.random.split(key, num=3)\n",
    "\n",
    "# Quadratic model\n",
    "xs = jax.random.normal(x_key, shape=(200,1))\n",
    "ys = xs**2\n",
    "\n",
    "# Create dataset\n",
    "dataset = Dataset(xs, ys)\n",
    "\n",
    "# Create dataloader\n",
    "data = DataLoader(dataset, key=key, batch_size=40)\n",
    "\n",
    "# Create model\n",
    "mymodel = MyModel()\n",
    "\n",
    "# Initialize Model\n",
    "key, l1_key = jax.random.split(key)\n",
    "key, params = mymodel.init(key)\n",
    "print ('\\nThe model is: ')\n",
    "print (mymodel)\n",
    "\n",
    "\n",
    "# Initialize trainer\n",
    "trainer = nn.Trainer(max_epochs=500)\n",
    "#print ('\\nThe initial parameters are: ')\n",
    "#print (params)\n",
    "\n",
    "# Fit model\n",
    "params = trainer.fit(params, mymodel, data, log_epoch=100)\n",
    "#print (params)\n",
    "\n",
    "# Compare final answer\n",
    "plt.figure()\n",
    "plt.scatter(xs, ys,label='Original data')\n",
    "y_hat = jnp.array(mymodel.model(params, xs))\n",
    "plt.scatter(xs, y_hat,label='Model')\n",
    "plt.legend();\n",
    "\n"
   ]
  },
  {
   "cell_type": "code",
   "execution_count": null,
   "metadata": {},
   "outputs": [],
   "source": []
  },
  {
   "cell_type": "code",
   "execution_count": null,
   "metadata": {},
   "outputs": [],
   "source": []
  }
 ],
 "metadata": {
  "kernelspec": {
   "display_name": "Python 3",
   "language": "python",
   "name": "python3"
  },
  "language_info": {
   "codemirror_mode": {
    "name": "ipython",
    "version": 3
   },
   "file_extension": ".py",
   "mimetype": "text/x-python",
   "name": "python",
   "nbconvert_exporter": "python",
   "pygments_lexer": "ipython3",
   "version": "3.9.6"
  },
  "orig_nbformat": 4,
  "vscode": {
   "interpreter": {
    "hash": "31f2aee4e71d21fbe5cf8b01ff0e069b9275f58929596ceb00d14d90e3e16cd6"
   }
  }
 },
 "nbformat": 4,
 "nbformat_minor": 2
}
