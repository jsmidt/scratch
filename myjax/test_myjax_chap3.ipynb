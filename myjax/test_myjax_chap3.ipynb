{
 "cells": [
  {
   "cell_type": "code",
   "execution_count": 1,
   "metadata": {},
   "outputs": [],
   "source": [
    "import jax\n",
    "import jax.numpy as jnp\n",
    "import myjax.nn as nn\n",
    "import myjax.optim as optim\n",
    "from myjax.utils import random_split, Dataset, DataLoader\n",
    "import matplotlib.pyplot as plt"
   ]
  },
  {
   "cell_type": "markdown",
   "metadata": {},
   "source": [
    "### Test against problems from Chap. 3 of D2L"
   ]
  },
  {
   "attachments": {},
   "cell_type": "markdown",
   "metadata": {},
   "source": [
    "#### Problem 3.3"
   ]
  },
  {
   "cell_type": "code",
   "execution_count": 12,
   "metadata": {},
   "outputs": [],
   "source": [
    "def mse_loss(input, target):\n",
    "    return jnp.mean((input-target)**2)\n",
    "\n",
    "\n",
    "class MyModel(nn.Model):\n",
    "    def __init__(self) -> None:\n",
    "        super().__init__()\n",
    "        self.model = nn.Sequential([nn.Linear(2,1) ])\n",
    "\n",
    "    def training_step(self, params, batch):\n",
    "        # MSE Loss\n",
    "        x, y = batch\n",
    "        # print (params)\n",
    "        y_hat = self.model(params, x)\n",
    "        loss = mse_loss(y_hat, y)\n",
    "        return loss\n",
    "        \n",
    "    def validation_step(self, params, batch):\n",
    "        # MSE Loss\n",
    "        x, y = batch\n",
    "        print (len(x))\n",
    "        y_hat = self.model(params, x)\n",
    "        loss = mse_loss(y_hat, y)\n",
    "        return loss\n",
    "\n",
    "    def configure_optimizers(self):\n",
    "        sgd = optim.SGD(learning_rate=0.03, weight_decay=0.01)\n",
    "        return sgd"
   ]
  },
  {
   "cell_type": "code",
   "execution_count": 13,
   "metadata": {},
   "outputs": [
    {
     "name": "stdout",
     "output_type": "stream",
     "text": [
      "\n",
      "The model is: \n",
      "Sequential(\n",
      "  (0): Linear(in_features=2, out_features=1, bias=True), Total parameters: 3, \n",
      ")\n",
      "Total parameters: 3\n",
      "\n",
      "The initial parameters are: \n",
      "{0: {'weights': Array([[ 0.4065961],\n",
      "       [-1.2013793]], dtype=float32), 'bias': Array([-0.02575834], dtype=float32)}}\n",
      "\n",
      "Epoch (    0/   10) train_loss = 10.852\n",
      "1000\n",
      "Epoch (    1/   10) train_loss = 6.37066 val_loss = 0.51297\n",
      "1000\n",
      "Epoch (    2/   10) train_loss = 0.14820 val_loss = 0.02664\n",
      "1000\n",
      "Epoch (    3/   10) train_loss = 0.01516 val_loss = 0.01255\n",
      "1000\n",
      "Epoch (    4/   10) train_loss = 0.01092 val_loss = 0.01149\n",
      "1000\n",
      "Epoch (    5/   10) train_loss = 0.01060 val_loss = 0.01121\n",
      "1000\n",
      "Epoch (    6/   10) train_loss = 0.01044 val_loss = 0.01125\n",
      "1000\n",
      "Epoch (    7/   10) train_loss = 0.01056 val_loss = 0.01115\n",
      "1000\n",
      "Epoch (    8/   10) train_loss = 0.01053 val_loss = 0.01148\n",
      "1000\n",
      "Epoch (    9/   10) train_loss = 0.01048 val_loss = 0.01153\n",
      "1000\n",
      "Epoch (   10/   10) train_loss = 0.01058 val_loss = 0.01137\n",
      "\n",
      "The final parameters are (with w = [ 2.  -3.4] and b = 4.2 as correct answer): \n",
      "{0: {'bias': Array([4.177928], dtype=float32), 'weights': Array([[ 1.990004],\n",
      "       [-3.376531]], dtype=float32)}}\n",
      "error in estimating w: [ 0.00999606 -0.02346921]\n",
      "error in estimating b: [0.02207184]\n"
     ]
    },
    {
     "data": {
      "image/png": "[encoded data removed]",
      "text/plain": [
       "<Figure size 640x480 with 1 Axes>"
      ]
     },
     "metadata": {},
     "output_type": "display_data"
    }
   ],
   "source": [
    "# Random data for testing\n",
    "seed = 1701\n",
    "key = jax.random.PRNGKey(seed)\n",
    "key, x_key, n_key = jax.random.split(key, num=3)\n",
    "\n",
    "# Create synthetic data\n",
    "num_train=1000\n",
    "num_val=1000\n",
    "w = jnp.array([2, -3.4])\n",
    "b = 4.2\n",
    "n = num_train + num_val\n",
    "noise = 0.1\n",
    "noise = jax.random.normal(n_key, shape=(n,1))*noise\n",
    "\n",
    "X = jax.random.normal(x_key, (n, len(w)))\n",
    "y = X @ w.reshape(-1, 1) + b + noise\n",
    "\n",
    "\n",
    "# Create dataset\n",
    "dataset = Dataset(X, y)\n",
    "train_dataset, val_dataset = random_split(dataset, train_length=num_train, key=key)\n",
    "\n",
    "# Create dataloader\n",
    "train_data = DataLoader(train_dataset, key=key, batch_size=32)\n",
    "val_data = DataLoader(val_dataset, key=key, batch_size=len(val_dataset))\n",
    "\n",
    "\n",
    "# Create model\n",
    "mymodel = MyModel()\n",
    "\n",
    "# Initialize Model\n",
    "key, l1_key = jax.random.split(key)\n",
    "key, params = mymodel.init(key)\n",
    "print ('\\nThe model is: ')\n",
    "print (mymodel)\n",
    "\n",
    "\n",
    "# Initialize trainer\n",
    "trainer = nn.Trainer(max_epochs = 10)\n",
    "print ('\\nThe initial parameters are: ')\n",
    "print (params)\n",
    "\n",
    "\n",
    "# Fit model\n",
    "params = trainer.fit(params, mymodel, train_data, val_data, log_epoch=1, plots=True, plot_log=True)\n",
    "print (f'\\nThe final parameters are (with w = {w} and b = {b} as correct answer): ')\n",
    "print (params)\n",
    "\n",
    "answ = w - params[0]['weights'].reshape(w.shape)\n",
    "ansb = b - params[0]['bias']\n",
    "print(f'error in estimating w: {answ}')\n",
    "print(f'error in estimating b: {ansb}')\n",
    "\n",
    "# Compare final answer\n",
    "'''\n",
    "plt.figure()\n",
    "plt.scatter(jnp.arange(len(y)),y,label='Original data')\n",
    "y_hat = jnp.array(model(params, X))\n",
    "plt.scatter(jnp.arange(len(y)),y_hat,label='Model')\n",
    "plt.legend();\n",
    "''';\n",
    "\n"
   ]
  },
  {
   "cell_type": "code",
   "execution_count": 19,
   "metadata": {},
   "outputs": [],
   "source": [
    "x, y = val_data[0]"
   ]
  },
  {
   "cell_type": "code",
   "execution_count": 20,
   "metadata": {},
   "outputs": [
    {
     "data": {
      "text/plain": [
       "Array([ 0.59308136, -1.7156556 ], dtype=float32)"
      ]
     },
     "execution_count": 20,
     "metadata": {},
     "output_type": "execute_result"
    }
   ],
   "source": [
    "x"
   ]
  },
  {
   "cell_type": "code",
   "execution_count": 21,
   "metadata": {},
   "outputs": [
    {
     "data": {
      "text/plain": [
       "Array([11.215828], dtype=float32)"
      ]
     },
     "execution_count": 21,
     "metadata": {},
     "output_type": "execute_result"
    }
   ],
   "source": [
    "y"
   ]
  },
  {
   "cell_type": "code",
   "execution_count": 6,
   "metadata": {},
   "outputs": [
    {
     "name": "stdout",
     "output_type": "stream",
     "text": [
      "(Array([[-0.7962566, -0.8617917],\n",
      "       [ 2.388094 ,  1.8874515]], dtype=float32), Array([[5.5819483],\n",
      "       [2.4739218]], dtype=float32))\n",
      "(Array([[-1.1526136 , -0.37734157],\n",
      "       [ 1.6678538 , -0.33502012]], dtype=float32), Array([[3.253182],\n",
      "       [8.719943]], dtype=float32))\n",
      "2000\n",
      "32\n",
      "32\n",
      "64\n"
     ]
    }
   ],
   "source": [
    "print (dataset[:2])\n",
    "print (train_data[:2])\n",
    "print (len(dataset))\n",
    "print (len(train_data))\n",
    "print (len(val_data))\n",
    "print (len(train_data) + len(val_data))"
   ]
  },
  {
   "cell_type": "code",
   "execution_count": null,
   "metadata": {},
   "outputs": [],
   "source": []
  }
 ],
 "metadata": {
  "kernelspec": {
   "display_name": "Python 3",
   "language": "python",
   "name": "python3"
  },
  "language_info": {
   "codemirror_mode": {
    "name": "ipython",
    "version": 3
   },
   "file_extension": ".py",
   "mimetype": "text/x-python",
   "name": "python",
   "nbconvert_exporter": "python",
   "pygments_lexer": "ipython3",
   "version": "3.9.6"
  },
  "orig_nbformat": 4,
  "vscode": {
   "interpreter": {
    "hash": "31f2aee4e71d21fbe5cf8b01ff0e069b9275f58929596ceb00d14d90e3e16cd6"
   }
  }
 },
 "nbformat": 4,
 "nbformat_minor": 2
}
