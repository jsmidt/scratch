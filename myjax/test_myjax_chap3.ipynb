{
 "cells": [
  {
   "cell_type": "code",
   "execution_count": 2,
   "metadata": {},
   "outputs": [],
   "source": [
    "import jax\n",
    "import jax.numpy as jnp\n",
    "import myjax.nn as nn\n",
    "from myjax.utils import Dataset, DataLoader\n",
    "import matplotlib.pyplot as plt"
   ]
  },
  {
   "cell_type": "markdown",
   "metadata": {},
   "source": [
    "### Test against problems from Chap. 3 of D2L"
   ]
  },
  {
   "attachments": {},
   "cell_type": "markdown",
   "metadata": {},
   "source": [
    "#### Problem 3.3"
   ]
  },
  {
   "cell_type": "code",
   "execution_count": 19,
   "metadata": {},
   "outputs": [
    {
     "name": "stdout",
     "output_type": "stream",
     "text": [
      "(32, 2) (32, 1)\n",
      "\n",
      "The model is: \n",
      "Sequential(\n",
      "  (0): Linear(in_features=2, out_features=1, bias=True), Total parameters: 3, \n",
      ")\n",
      "Total parameters: 3\n",
      "\n",
      "The initial parameters are: \n",
      "{0: {'weights': Array([[-0.40685526],\n",
      "       [ 0.1863944 ]], dtype=float32), 'bias': Array([0.02744711], dtype=float32)}}\n",
      "\n",
      "Epoch (    0/   10) train_loss = 29.065\n",
      "Epoch (    1/   10) train_loss = 4.5138\n",
      "Epoch (    2/   10) train_loss = 0.011675\n",
      "Epoch (    3/   10) train_loss = 0.0098792\n",
      "Epoch (    4/   10) train_loss = 0.0098442\n",
      "Epoch (    5/   10) train_loss = 0.0099144\n",
      "Epoch (    6/   10) train_loss = 0.0098947\n",
      "Epoch (    7/   10) train_loss = 0.0098756\n",
      "Epoch (    8/   10) train_loss = 0.009827\n",
      "Epoch (    9/   10) train_loss = 0.0098589\n",
      "Epoch (   10/   10) train_loss = 0.0098601\n",
      "\n",
      "The final parameters are (with w = [ 2.  -3.4] and b = 4.2 as correct answer): \n",
      "{0: {'bias': Array([4.200332], dtype=float32), 'weights': Array([[ 1.9956353],\n",
      "       [-3.4037552]], dtype=float32)}}\n",
      "error in estimating w: [0.00436473 0.00375509]\n",
      "error in estimating b: [-0.00033236]\n"
     ]
    },
    {
     "data": {
      "image/png": "[encoded data removed]",
      "text/plain": [
       "<Figure size 640x480 with 1 Axes>"
      ]
     },
     "metadata": {},
     "output_type": "display_data"
    }
   ],
   "source": [
    "# Random data for testing\n",
    "seed = 1701\n",
    "key = jax.random.PRNGKey(seed)\n",
    "key, x_key, n_key = jax.random.split(key, num=3)\n",
    "\n",
    "# Create synthetic data\n",
    "num_train=1000\n",
    "num_val=1000\n",
    "w = jnp.array([2, -3.4])\n",
    "b = 4.2\n",
    "n = num_train + num_val\n",
    "noise = 0.1\n",
    "noise = jax.random.normal(n_key, shape=(n,1))*noise\n",
    "\n",
    "X = jax.random.normal(x_key, (n, len(w)))\n",
    "y = X @ w.reshape(-1, 1) + b + noise\n",
    "\n",
    "\n",
    "# Create dataset\n",
    "dataset = Dataset(X, y)\n",
    "\n",
    "# Create dataloader\n",
    "data = DataLoader(dataset, key=key, batch_size=32)\n",
    "\n",
    "for x, y in data:\n",
    "    print (x.shape, y.shape)\n",
    "    break\n",
    "\n",
    "\n",
    "# Create model\n",
    "model = nn.Sequential([nn.Linear(2,1) ])\n",
    "\n",
    "# Initialize Model\n",
    "key, l1_key = jax.random.split(key)\n",
    "key, params = model.init(key)\n",
    "print ('\\nThe model is: ')\n",
    "print (model)\n",
    "\n",
    "\n",
    "# Initialize trainer\n",
    "trainer = nn.Trainer(learning_rate=0.03)\n",
    "print ('\\nThe initial parameters are: ')\n",
    "print (params)\n",
    "\n",
    "# Fit model\n",
    "params = trainer.fit(params, model, data, max_epochs = 10, log_epoch=1)\n",
    "print (f'\\nThe final parameters are (with w = {w} and b = {b} as correct answer): ')\n",
    "print (params)\n",
    "\n",
    "answ = w - params[0]['weights'].reshape(w.shape)\n",
    "ansb = b - params[0]['bias']\n",
    "print(f'error in estimating w: {answ}')\n",
    "print(f'error in estimating b: {ansb}')\n",
    "\n",
    "# Compare final answer\n",
    "'''\n",
    "plt.figure()\n",
    "plt.scatter(jnp.arange(len(y)),y,label='Original data')\n",
    "y_hat = jnp.array(model(params, X))\n",
    "plt.scatter(jnp.arange(len(y)),y_hat,label='Model')\n",
    "plt.legend();\n",
    "''';\n",
    "\n"
   ]
  },
  {
   "cell_type": "code",
   "execution_count": null,
   "metadata": {},
   "outputs": [],
   "source": []
  },
  {
   "cell_type": "code",
   "execution_count": null,
   "metadata": {},
   "outputs": [],
   "source": []
  }
 ],
 "metadata": {
  "kernelspec": {
   "display_name": "Python 3",
   "language": "python",
   "name": "python3"
  },
  "language_info": {
   "codemirror_mode": {
    "name": "ipython",
    "version": 3
   },
   "file_extension": ".py",
   "mimetype": "text/x-python",
   "name": "python",
   "nbconvert_exporter": "python",
   "pygments_lexer": "ipython3",
   "version": "3.9.6"
  },
  "orig_nbformat": 4,
  "vscode": {
   "interpreter": {
    "hash": "31f2aee4e71d21fbe5cf8b01ff0e069b9275f58929596ceb00d14d90e3e16cd6"
   }
  }
 },
 "nbformat": 4,
 "nbformat_minor": 2
}
