{
 "cells": [
  {
   "cell_type": "code",
   "execution_count": 4,
   "metadata": {},
   "outputs": [],
   "source": [
    "import torch\n",
    "import torch.nn as nn\n",
    "from torch.utils.data import Dataset, DataLoader\n",
    "import matplotlib.pyplot as plt"
   ]
  },
  {
   "cell_type": "markdown",
   "metadata": {},
   "source": [
    "### Test against problems from Chap. 3 of D2L"
   ]
  },
  {
   "attachments": {},
   "cell_type": "markdown",
   "metadata": {},
   "source": [
    "#### Problem 3.3"
   ]
  },
  {
   "cell_type": "code",
   "execution_count": 7,
   "metadata": {},
   "outputs": [
    {
     "name": "stdout",
     "output_type": "stream",
     "text": [
      "torch.Size([32, 2]) torch.Size([32, 1])\n",
      "Epoch 1\n",
      "-------------------------------\n",
      "loss: 50.698044  [    0/ 2000]\n",
      "Epoch 2\n",
      "-------------------------------\n",
      "loss: 0.206054  [    0/ 2000]\n",
      "Epoch 3\n",
      "-------------------------------\n",
      "loss: 0.097946  [    0/ 2000]\n",
      "Done!\n",
      "\n",
      "The final parameters are (with w = tensor([ 2.0000, -3.4000]) and b = 4.2 as correct answer): \n",
      "OrderedDict([('model.0.weight', tensor([[ 1.9062, -3.2327]])), ('model.0.bias', tensor([4.0953]))])\n",
      "error in estimating w: tensor([[ 0.0938, -0.1673]])\n",
      "error in estimating b: tensor([0.1047])\n"
     ]
    }
   ],
   "source": [
    "# Random data for testing\n",
    "torch.manual_seed(1701)\n",
    "\n",
    "# Create synthetic data\n",
    "num_train=1000\n",
    "num_val=1000\n",
    "w = torch.tensor([2, -3.4])\n",
    "b = 4.2\n",
    "n = num_train + num_val\n",
    "noise = 0.1\n",
    "\n",
    "X = torch.randn((n, len(w)))\n",
    "y = X @ w.reshape(-1, 1) + b + noise\n",
    "\n",
    "\n",
    "class Mydata(Dataset):\n",
    "    def __init__(self, X, y):\n",
    "        self.X = X\n",
    "        self.y = y\n",
    "\n",
    "    def __len__(self):\n",
    "        return len(self.y)\n",
    "\n",
    "    def __getitem__(self, index):\n",
    "        return self.X[index], self.y[index]\n",
    "\n",
    "\n",
    "# Create dataset\n",
    "dataset = Mydata(X, y)\n",
    "\n",
    "# Create dataloader\n",
    "data = DataLoader(dataset, batch_size=32)\n",
    "\n",
    "for x, y in data:\n",
    "    print (x.shape, y.shape)\n",
    "    break\n",
    "\n",
    "\n",
    "# Create model\n",
    "class MyModel(nn.Module):\n",
    "    def __init__(self):\n",
    "        super().__init__()\n",
    "        self.model = nn.Sequential(nn.Linear(2,1))\n",
    "\n",
    "    def forward(self, x):\n",
    "        x = self.model(x)\n",
    "        return x\n",
    "\n",
    "model = MyModel()\n",
    "loss_fn = nn.MSELoss()\n",
    "optimizer = torch.optim.SGD(model.parameters(), lr=0.03, weight_decay=0.1)\n",
    "\n",
    "\n",
    "def train(data, model, loss_fn, optimizer):\n",
    "    size = len(data.dataset)\n",
    "    model.train()\n",
    "    for batch, (X, y) in enumerate(data):\n",
    "        pred = model(X)\n",
    "        loss = loss_fn(pred, y)\n",
    "\n",
    "        optimizer.zero_grad()\n",
    "        loss.backward()\n",
    "        optimizer.step()\n",
    "\n",
    "        if batch % 100 == 0:\n",
    "            loss, current = loss.item(), batch * len(X)\n",
    "            print(f\"loss: {loss:>7f}  [{current:>5d}/{size:>5d}]\")\n",
    "\n",
    "\n",
    "\n",
    "#train(data, model, loss_fn, optimizer)\n",
    "\n",
    "epochs = 3\n",
    "for t in range(epochs):\n",
    "    print(f\"Epoch {t+1}\\n-------------------------------\")\n",
    "    train(data, model, loss_fn, optimizer)\n",
    "print(\"Done!\")\n",
    "\n",
    "#for p in model.parameters():\n",
    "#    print (p)\n",
    "\n",
    "print (f'\\nThe final parameters are (with w = {w} and b = {b} as correct answer): ')\n",
    "print (model.state_dict())\n",
    "answ = w - model.state_dict()['model.0.weight']\n",
    "ansb = b - model.state_dict()['model.0.bias']\n",
    "print(f'error in estimating w: {answ}')\n",
    "print(f'error in estimating b: {ansb}')\n",
    "\n",
    "\n",
    "\n"
   ]
  },
  {
   "cell_type": "markdown",
   "metadata": {},
   "source": []
  },
  {
   "cell_type": "code",
   "execution_count": 34,
   "metadata": {},
   "outputs": [
    {
     "data": {
      "text/plain": [
       "OrderedDict([('model.0.weight', tensor([[ 2.0000, -3.3999]])),\n",
       "             ('model.0.bias', tensor([4.2999]))])"
      ]
     },
     "execution_count": 34,
     "metadata": {},
     "output_type": "execute_result"
    }
   ],
   "source": [
    "model.state_dict()"
   ]
  },
  {
   "cell_type": "code",
   "execution_count": null,
   "metadata": {},
   "outputs": [],
   "source": []
  }
 ],
 "metadata": {
  "kernelspec": {
   "display_name": "Python 3",
   "language": "python",
   "name": "python3"
  },
  "language_info": {
   "codemirror_mode": {
    "name": "ipython",
    "version": 3
   },
   "file_extension": ".py",
   "mimetype": "text/x-python",
   "name": "python",
   "nbconvert_exporter": "python",
   "pygments_lexer": "ipython3",
   "version": "3.9.6"
  },
  "orig_nbformat": 4,
  "vscode": {
   "interpreter": {
    "hash": "31f2aee4e71d21fbe5cf8b01ff0e069b9275f58929596ceb00d14d90e3e16cd6"
   }
  }
 },
 "nbformat": 4,
 "nbformat_minor": 2
}
