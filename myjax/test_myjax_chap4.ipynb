{
 "cells": [
  {
   "cell_type": "code",
   "execution_count": 3,
   "metadata": {},
   "outputs": [],
   "source": [
    "import jax\n",
    "import jax.numpy as jnp\n",
    "import myjax.nn as nn\n",
    "import myjax.optim as optim\n",
    "from myjax.nn.functional import mse_loss\n",
    "from myjax.utils import random_split, Dataset, DataLoader\n",
    "import torchvision\n",
    "import matplotlib.pyplot as plt\n",
    "%config InlineBackend.figure_formats = ['svg']\n",
    "from torchvision.transforms import ToTensor\n",
    "#%matplotlib widget\n",
    "plt.style.use('fivethirtyeight')"
   ]
  },
  {
   "cell_type": "code",
   "execution_count": 16,
   "metadata": {},
   "outputs": [],
   "source": [
    "train_dataset = torchvision.datasets.FashionMNIST(root=\"data\", train=True, transform=ToTensor())"
   ]
  },
  {
   "cell_type": "code",
   "execution_count": 26,
   "metadata": {},
   "outputs": [],
   "source": [
    "train_data = DataLoader(train_dataset,batch_size=32)"
   ]
  },
  {
   "cell_type": "code",
   "execution_count": 30,
   "metadata": {},
   "outputs": [],
   "source": [
    "img, label = train_dataset[0]"
   ]
  },
  {
   "cell_type": "code",
   "execution_count": 25,
   "metadata": {},
   "outputs": [
    {
     "ename": "ValueError",
     "evalue": "too many values to unpack (expected 2)",
     "output_type": "error",
     "traceback": [
      "\u001b[0;31m---------------------------------------------------------------------------\u001b[0m",
      "\u001b[0;31mValueError\u001b[0m                                Traceback (most recent call last)",
      "Cell \u001b[0;32mIn[25], line 6\u001b[0m\n\u001b[1;32m      2\u001b[0m     x, y \u001b[39m=\u001b[39m batch\n\u001b[1;32m      3\u001b[0m     \u001b[39mbreak\u001b[39;00m\n\u001b[0;32m----> 6\u001b[0m X, Y \u001b[39m=\u001b[39m train_dataset\n",
      "\u001b[0;31mValueError\u001b[0m: too many values to unpack (expected 2)"
     ]
    }
   ],
   "source": [
    "for batch in train_dataset:\n",
    "    x, y = batch\n",
    "    break\n",
    "\n",
    "\n",
    "X, Y = train_dataset"
   ]
  },
  {
   "cell_type": "code",
   "execution_count": 15,
   "metadata": {},
   "outputs": [
    {
     "ename": "TypeError",
     "evalue": "len() of unsized object",
     "output_type": "error",
     "traceback": [
      "\u001b[0;31m---------------------------------------------------------------------------\u001b[0m",
      "\u001b[0;31mIndexError\u001b[0m                                Traceback (most recent call last)",
      "File \u001b[0;32m~/Library/Python/3.9/lib/python/site-packages/jax/_src/array.py:213\u001b[0m, in \u001b[0;36mArrayImpl.__len__\u001b[0;34m(self)\u001b[0m\n\u001b[1;32m    212\u001b[0m \u001b[39mtry\u001b[39;00m:\n\u001b[0;32m--> 213\u001b[0m   \u001b[39mreturn\u001b[39;00m \u001b[39mself\u001b[39;49m\u001b[39m.\u001b[39;49mshape[\u001b[39m0\u001b[39;49m]\n\u001b[1;32m    214\u001b[0m \u001b[39mexcept\u001b[39;00m \u001b[39mIndexError\u001b[39;00m \u001b[39mas\u001b[39;00m err:\n",
      "\u001b[0;31mIndexError\u001b[0m: tuple index out of range",
      "\nThe above exception was the direct cause of the following exception:\n",
      "\u001b[0;31mTypeError\u001b[0m                                 Traceback (most recent call last)",
      "Cell \u001b[0;32mIn[15], line 1\u001b[0m\n\u001b[0;32m----> 1\u001b[0m \u001b[39mfor\u001b[39;00m batch \u001b[39min\u001b[39;00m train_data:\n\u001b[1;32m      2\u001b[0m     \u001b[39mbreak\u001b[39;00m\n",
      "File \u001b[0;32m~/Documents/AI/scratch/myjax/myjax/utils/data.py:40\u001b[0m, in \u001b[0;36mDataLoader.__iter__\u001b[0;34m(self)\u001b[0m\n\u001b[1;32m     38\u001b[0m \u001b[39mfor\u001b[39;00m i \u001b[39min\u001b[39;00m \u001b[39mrange\u001b[39m(\u001b[39m0\u001b[39m, \u001b[39mlen\u001b[39m(\u001b[39mself\u001b[39m\u001b[39m.\u001b[39mdataset), \u001b[39mself\u001b[39m\u001b[39m.\u001b[39mbatch_size):\n\u001b[1;32m     39\u001b[0m     batch_indices \u001b[39m=\u001b[39m \u001b[39mself\u001b[39m\u001b[39m.\u001b[39mindices[i: i\u001b[39m+\u001b[39m\u001b[39mself\u001b[39m\u001b[39m.\u001b[39mbatch_size]\n\u001b[0;32m---> 40\u001b[0m     \u001b[39myield\u001b[39;00m \u001b[39mself\u001b[39;49m\u001b[39m.\u001b[39;49mdataset[batch_indices]\n",
      "File \u001b[0;32m~/Library/Python/3.9/lib/python/site-packages/torchvision/datasets/mnist.py:138\u001b[0m, in \u001b[0;36mMNIST.__getitem__\u001b[0;34m(self, index)\u001b[0m\n\u001b[1;32m    130\u001b[0m \u001b[39mdef\u001b[39;00m \u001b[39m__getitem__\u001b[39m(\u001b[39mself\u001b[39m, index: \u001b[39mint\u001b[39m) \u001b[39m-\u001b[39m\u001b[39m>\u001b[39m Tuple[Any, Any]:\n\u001b[1;32m    131\u001b[0m     \u001b[39m\"\"\"\u001b[39;00m\n\u001b[1;32m    132\u001b[0m \u001b[39m    Args:\u001b[39;00m\n\u001b[1;32m    133\u001b[0m \u001b[39m        index (int): Index\u001b[39;00m\n\u001b[0;32m   (...)\u001b[0m\n\u001b[1;32m    136\u001b[0m \u001b[39m        tuple: (image, target) where target is index of the target class.\u001b[39;00m\n\u001b[1;32m    137\u001b[0m \u001b[39m    \"\"\"\u001b[39;00m\n\u001b[0;32m--> 138\u001b[0m     img, target \u001b[39m=\u001b[39m \u001b[39mself\u001b[39;49m\u001b[39m.\u001b[39;49mdata[index], \u001b[39mint\u001b[39m(\u001b[39mself\u001b[39m\u001b[39m.\u001b[39mtargets[index])\n\u001b[1;32m    140\u001b[0m     \u001b[39m# doing this so that it is consistent with all other datasets\u001b[39;00m\n\u001b[1;32m    141\u001b[0m     \u001b[39m# to return a PIL Image\u001b[39;00m\n\u001b[1;32m    142\u001b[0m     img \u001b[39m=\u001b[39m Image\u001b[39m.\u001b[39mfromarray(img\u001b[39m.\u001b[39mnumpy(), mode\u001b[39m=\u001b[39m\u001b[39m\"\u001b[39m\u001b[39mL\u001b[39m\u001b[39m\"\u001b[39m)\n",
      "File \u001b[0;32m~/Library/Python/3.9/lib/python/site-packages/jax/_src/array.py:215\u001b[0m, in \u001b[0;36mArrayImpl.__len__\u001b[0;34m(self)\u001b[0m\n\u001b[1;32m    213\u001b[0m   \u001b[39mreturn\u001b[39;00m \u001b[39mself\u001b[39m\u001b[39m.\u001b[39mshape[\u001b[39m0\u001b[39m]\n\u001b[1;32m    214\u001b[0m \u001b[39mexcept\u001b[39;00m \u001b[39mIndexError\u001b[39;00m \u001b[39mas\u001b[39;00m err:\n\u001b[0;32m--> 215\u001b[0m   \u001b[39mraise\u001b[39;00m \u001b[39mTypeError\u001b[39;00m(\u001b[39m\"\u001b[39m\u001b[39mlen() of unsized object\u001b[39m\u001b[39m\"\u001b[39m) \u001b[39mfrom\u001b[39;00m \u001b[39merr\u001b[39;00m\n",
      "\u001b[0;31mTypeError\u001b[0m: len() of unsized object"
     ]
    }
   ],
   "source": [
    "train_dataset.\n"
   ]
  },
  {
   "cell_type": "markdown",
   "metadata": {},
   "source": [
    "### Test against problems from Chap. 3 of D2L"
   ]
  },
  {
   "attachments": {},
   "cell_type": "markdown",
   "metadata": {},
   "source": [
    "#### Problem 3.3"
   ]
  },
  {
   "cell_type": "code",
   "execution_count": 2,
   "metadata": {},
   "outputs": [],
   "source": [
    "#def mse_loss(input, target):\n",
    "#    return jnp.mean((input-target)**2)\n",
    "\n",
    "\n",
    "class MyModel(nn.Model):\n",
    "    def __init__(self) -> None:\n",
    "        super().__init__()\n",
    "        self.model = nn.Sequential([nn.Linear(2,1) ])\n",
    "\n",
    "    def training_step(self, params, batch):\n",
    "        # MSE Loss\n",
    "        x, y = batch\n",
    "        # print (params)\n",
    "        y_hat = self.model(params, x)\n",
    "        loss = mse_loss(y_hat, y)\n",
    "        return loss\n",
    "        \n",
    "    def validation_step(self, params, batch):\n",
    "        # MSE Loss\n",
    "        x, y = batch\n",
    "        y_hat = self.model(params, x)\n",
    "        loss = mse_loss(y_hat, y)\n",
    "        return loss\n",
    "\n",
    "    def configure_optimizers(self):\n",
    "        sgd = optim.SGD(learning_rate=0.03, weight_decay=0.01)\n",
    "        return sgd"
   ]
  },
  {
   "cell_type": "code",
   "execution_count": 3,
   "metadata": {},
   "outputs": [
    {
     "name": "stdout",
     "output_type": "stream",
     "text": [
      "\n",
      "The model is: \n",
      "Sequential(\n",
      "  (0): Linear(in_features=2, out_features=1, bias=True), Total parameters: 3, \n",
      ")\n",
      "Total parameters: 3\n",
      "\n",
      "The initial parameters are: \n",
      "{0: {'weights': Array([[ 0.4065961],\n",
      "       [-1.2013793]], dtype=float32), 'bias': Array([-0.02575834], dtype=float32)}}\n",
      "\n",
      "Epoch (    0/   10) train_loss = 10.852\n",
      "1000\n",
      "Epoch (    1/   10) train_loss = 0.68652, val_loss = 0.51297\n",
      "1000\n",
      "Epoch (    2/   10) train_loss = 0.03450, val_loss = 0.02664\n",
      "1000\n",
      "Epoch (    3/   10) train_loss = 0.01281, val_loss = 0.01255\n",
      "1000\n",
      "Epoch (    4/   10) train_loss = 0.01141, val_loss = 0.01149\n",
      "1000\n",
      "Epoch (    5/   10) train_loss = 0.00974, val_loss = 0.01121\n",
      "1000\n",
      "Epoch (    6/   10) train_loss = 0.00890, val_loss = 0.01125\n",
      "1000\n",
      "Epoch (    7/   10) train_loss = 0.01200, val_loss = 0.01115\n",
      "1000\n",
      "Epoch (    8/   10) train_loss = 0.01217, val_loss = 0.01148\n",
      "1000\n",
      "Epoch (    9/   10) train_loss = 0.00910, val_loss = 0.01153\n",
      "1000\n",
      "Epoch (   10/   10) train_loss = 0.01035, val_loss = 0.01137\n",
      "\n",
      "The final parameters are (with w = [ 2.  -3.4] and b = 4.2 as correct answer): \n",
      "{0: {'bias': Array([4.177928], dtype=float32), 'weights': Array([[ 1.990004],\n",
      "       [-3.376531]], dtype=float32)}}\n",
      "error in estimating w: [ 0.00999606 -0.02346921]\n",
      "error in estimating b: [0.02207184]\n"
     ]
    },
    {
     "data": {
      "application/vnd.jupyter.widget-view+json": {
       "model_id": "c9859b7cc4b24e858b0c528f777bc24b",
       "version_major": 2,
       "version_minor": 0
      },
      "image/png": "[encoded data removed]",
      "text/html": [
       "\n",
       "            <div style=\"display: inline-block;\">\n",
       "                <div class=\"jupyter-widgets widget-label\" style=\"text-align: center;\">\n",
       "                    Figure\n",
       "                </div>\n",
       "                <img src='data:image/png;base64,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' width=640.0/>\n",
       "            </div>\n",
       "        "
      ],
      "text/plain": [
       "Canvas(toolbar=Toolbar(toolitems=[('Home', 'Reset original view', 'home', 'home'), ('Back', 'Back to previous …"
      ]
     },
     "metadata": {},
     "output_type": "display_data"
    }
   ],
   "source": [
    "# Random data for testing\n",
    "seed = 1701\n",
    "key = jax.random.PRNGKey(seed)\n",
    "key, x_key, n_key = jax.random.split(key, num=3)\n",
    "\n",
    "# Create synthetic data\n",
    "num_train=1000\n",
    "num_val=1000\n",
    "w = jnp.array([2, -3.4])\n",
    "b = 4.2\n",
    "n = num_train + num_val\n",
    "noise = 0.1\n",
    "noise = jax.random.normal(n_key, shape=(n,1))*noise\n",
    "\n",
    "X = jax.random.normal(x_key, (n, len(w)))\n",
    "y = X @ w.reshape(-1, 1) + b + noise\n",
    "\n",
    "\n",
    "# Create dataset\n",
    "dataset = Dataset(X, y)\n",
    "train_dataset, val_dataset = random_split(dataset, train_length=num_train, key=key)\n",
    "\n",
    "# Create dataloader\n",
    "train_data = DataLoader(train_dataset, key=key, batch_size=32)\n",
    "val_data = DataLoader(val_dataset, key=key, batch_size=len(val_dataset))\n",
    "\n",
    "\n",
    "# Create model\n",
    "mymodel = MyModel()\n",
    "\n",
    "# Initialize Model\n",
    "key, l1_key = jax.random.split(key)\n",
    "key, params = mymodel.init(key)\n",
    "print ('\\nThe model is: ')\n",
    "print (mymodel)\n",
    "\n",
    "\n",
    "# Initialize trainer\n",
    "trainer = nn.Trainer(max_epochs = 10)\n",
    "print ('\\nThe initial parameters are: ')\n",
    "print (params)\n",
    "\n",
    "\n",
    "# Fit model\n",
    "params = trainer.fit(params, mymodel, train_data, val_data, log_epoch=1, plots=True)\n",
    "print (f'\\nThe final parameters are (with w = {w} and b = {b} as correct answer): ')\n",
    "print (params)\n",
    "\n",
    "answ = w - params[0]['weights'].reshape(w.shape)\n",
    "ansb = b - params[0]['bias']\n",
    "print(f'error in estimating w: {answ}')\n",
    "print(f'error in estimating b: {ansb}')\n",
    "\n"
   ]
  },
  {
   "cell_type": "code",
   "execution_count": 19,
   "metadata": {},
   "outputs": [],
   "source": [
    "x, y = val_data[0]"
   ]
  },
  {
   "cell_type": "code",
   "execution_count": 20,
   "metadata": {},
   "outputs": [
    {
     "data": {
      "text/plain": [
       "Array([ 0.59308136, -1.7156556 ], dtype=float32)"
      ]
     },
     "execution_count": 20,
     "metadata": {},
     "output_type": "execute_result"
    }
   ],
   "source": [
    "x"
   ]
  },
  {
   "cell_type": "code",
   "execution_count": 21,
   "metadata": {},
   "outputs": [
    {
     "data": {
      "text/plain": [
       "Array([11.215828], dtype=float32)"
      ]
     },
     "execution_count": 21,
     "metadata": {},
     "output_type": "execute_result"
    }
   ],
   "source": [
    "y"
   ]
  },
  {
   "cell_type": "code",
   "execution_count": 6,
   "metadata": {},
   "outputs": [
    {
     "name": "stdout",
     "output_type": "stream",
     "text": [
      "(Array([[-0.7962566, -0.8617917],\n",
      "       [ 2.388094 ,  1.8874515]], dtype=float32), Array([[5.5819483],\n",
      "       [2.4739218]], dtype=float32))\n",
      "(Array([[-1.1526136 , -0.37734157],\n",
      "       [ 1.6678538 , -0.33502012]], dtype=float32), Array([[3.253182],\n",
      "       [8.719943]], dtype=float32))\n",
      "2000\n",
      "32\n",
      "32\n",
      "64\n"
     ]
    }
   ],
   "source": [
    "print (dataset[:2])\n",
    "print (train_data[:2])\n",
    "print (len(dataset))\n",
    "print (len(train_data))\n",
    "print (len(val_data))\n",
    "print (len(train_data) + len(val_data))"
   ]
  },
  {
   "cell_type": "code",
   "execution_count": null,
   "metadata": {},
   "outputs": [],
   "source": []
  }
 ],
 "metadata": {
  "kernelspec": {
   "display_name": "Python 3",
   "language": "python",
   "name": "python3"
  },
  "language_info": {
   "codemirror_mode": {
    "name": "ipython",
    "version": 3
   },
   "file_extension": ".py",
   "mimetype": "text/x-python",
   "name": "python",
   "nbconvert_exporter": "python",
   "pygments_lexer": "ipython3",
   "version": "3.9.6"
  },
  "orig_nbformat": 4,
  "vscode": {
   "interpreter": {
    "hash": "31f2aee4e71d21fbe5cf8b01ff0e069b9275f58929596ceb00d14d90e3e16cd6"
   }
  }
 },
 "nbformat": 4,
 "nbformat_minor": 2
}
