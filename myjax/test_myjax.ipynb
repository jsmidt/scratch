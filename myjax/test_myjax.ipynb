{
 "cells": [
  {
   "cell_type": "code",
   "execution_count": 2,
   "metadata": {},
   "outputs": [],
   "source": [
    "import jax\n",
    "import jax.numpy as jnp\n",
    "import myjax.nn as nn\n",
    "import matplotlib.pyplot as plt\n"
   ]
  },
  {
   "cell_type": "code",
   "execution_count": 3,
   "metadata": {},
   "outputs": [
    {
     "name": "stdout",
     "output_type": "stream",
     "text": [
      "Initial key is [   0 1701]\n",
      "Final key is [ 927208350 3916705582]\n"
     ]
    }
   ],
   "source": [
    "seed = 1701\n",
    "\n",
    "# Linear with bias\n",
    "lin1 = nn.Linear(1,128)\n",
    "key = jax.random.PRNGKey(seed)\n",
    "print (f'Initial key is {key}')\n",
    "key, l1_params = lin1.init(key)\n",
    "print (f'Final key is {key}')\n",
    "\n",
    "# Linear without bias\n",
    "lin2 = nn.Linear(1,128,bias=False)\n",
    "key, l2_params = lin2.init(key)\n",
    "\n",
    "# Embedding\n",
    "emb = nn.Embedding(27,10)\n",
    "key, e_params = emb.init(key)\n",
    "\n"
   ]
  },
  {
   "cell_type": "code",
   "execution_count": 4,
   "metadata": {},
   "outputs": [
    {
     "name": "stdout",
     "output_type": "stream",
     "text": [
      "Linear(in_features=1, out_features=128, bias=True), Total parameters: 256\n",
      "Linear(in_features=1, out_features=128, bias=False), Total parameters: 128\n",
      "Embedding(num_embeddings=27, embedding_dim=10), Total parameters: 270\n"
     ]
    }
   ],
   "source": [
    "print (lin1)\n",
    "print (lin2)\n",
    "print (emb)"
   ]
  },
  {
   "cell_type": "code",
   "execution_count": 15,
   "metadata": {},
   "outputs": [
    {
     "name": "stdout",
     "output_type": "stream",
     "text": [
      "lin1 weights: (1, 128) [ 0.1250412   2.5489578  -0.52991617 -1.1331803   0.45027125]\n",
      "lin1 bias:  (128,) [ 1.6499311  -0.51591176 -0.26032057  0.6460793  -1.5026082 ]\n",
      "lin2 weights: (1, 128) [ 0.84810936  0.42390057 -0.23495823  0.825283   -0.3640447 ]\n",
      "E weights: (27, 10) [-2.0031445  -0.9605537   0.45571852  0.13869786  1.1092751 ]\n"
     ]
    }
   ],
   "source": [
    "print ('lin1 weights:' ,l1_params['weights'].shape  , l1_params['weights'][0][0:5])\n",
    "print ('lin1 bias: '   ,l1_params['bias'].shape     , l1_params['bias'][0:5])\n",
    "print ('lin2 weights:' ,l2_params['weights'].shape  , l2_params['weights'][0][0:5])\n",
    "print ('E weights:'    ,e_params['weights'].shape   , e_params['weights'][0][0:5])"
   ]
  },
  {
   "cell_type": "code",
   "execution_count": 9,
   "metadata": {},
   "outputs": [
    {
     "name": "stdout",
     "output_type": "stream",
     "text": [
      "weights\n",
      "bias\n"
     ]
    }
   ],
   "source": []
  },
  {
   "cell_type": "code",
   "execution_count": null,
   "metadata": {},
   "outputs": [],
   "source": []
  }
 ],
 "metadata": {
  "kernelspec": {
   "display_name": "Python 3",
   "language": "python",
   "name": "python3"
  },
  "language_info": {
   "codemirror_mode": {
    "name": "ipython",
    "version": 3
   },
   "file_extension": ".py",
   "mimetype": "text/x-python",
   "name": "python",
   "nbconvert_exporter": "python",
   "pygments_lexer": "ipython3",
   "version": "3.9.6"
  },
  "orig_nbformat": 4,
  "vscode": {
   "interpreter": {
    "hash": "31f2aee4e71d21fbe5cf8b01ff0e069b9275f58929596ceb00d14d90e3e16cd6"
   }
  }
 },
 "nbformat": 4,
 "nbformat_minor": 2
}
